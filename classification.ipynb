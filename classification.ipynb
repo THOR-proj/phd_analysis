{
 "cells": [
  {
   "cell_type": "code",
   "execution_count": 2,
   "id": "034ae7ef",
   "metadata": {
    "ExecuteTime": {
     "end_time": "2021-12-21T08:01:17.099589Z",
     "start_time": "2021-12-21T08:01:17.092197Z"
    }
   },
   "outputs": [],
   "source": [
    "import sys\n",
    "sys.path.insert(0, '/home/student.unimelb.edu.au/shorte1/Documents/TINT')"
   ]
  },
  {
   "cell_type": "code",
   "execution_count": 15,
   "id": "651d2a7c",
   "metadata": {
    "ExecuteTime": {
     "end_time": "2021-12-13T23:53:39.447371Z",
     "start_time": "2021-12-13T23:53:39.438403Z"
    }
   },
   "outputs": [],
   "source": [
    "import sys\n",
    "sys.path.insert(0, '/home/563/esh563/TINT')"
   ]
  },
  {
   "cell_type": "code",
   "execution_count": 3,
   "id": "c4a4d12d",
   "metadata": {
    "ExecuteTime": {
     "end_time": "2021-12-21T08:01:21.412941Z",
     "start_time": "2021-12-21T08:01:18.110583Z"
    }
   },
   "outputs": [
    {
     "name": "stdout",
     "output_type": "stream",
     "text": [
      "\n",
      "## You are using the Python ARM Radar Toolkit (Py-ART), an open source\n",
      "## library for working with weather radar data. Py-ART is partly\n",
      "## supported by the U.S. Department of Energy as part of the Atmospheric\n",
      "## Radiation Measurement (ARM) Climate Research Facility, an Office of\n",
      "## Science user facility.\n",
      "##\n",
      "## If you use this software to prepare a publication, please cite:\n",
      "##\n",
      "##     JJ Helmus and SM Collis, JORS 2016, doi: 10.5334/jors.119\n",
      "\n"
     ]
    },
    {
     "name": "stderr",
     "output_type": "stream",
     "text": [
      "/home/student.unimelb.edu.au/shorte1/anaconda3/envs/CPOL_analysis/lib/python3.8/site-packages/networkx/readwrite/graphml.py:346: DeprecationWarning: `np.int` is a deprecated alias for the builtin `int`. To silence this warning, use `int` by itself. Doing this will not modify any behavior and is safe. When replacing `np.int`, you may wish to use e.g. `np.int64` or `np.int32` to specify the precision. If you wish to review your current use, check the release note link for additional information.\n",
      "Deprecated in NumPy 1.20; for more details and guidance: https://numpy.org/devdocs/release/1.20.0-notes.html#deprecations\n",
      "  (np.int, \"int\"), (np.int8, \"int\"),\n",
      "/home/student.unimelb.edu.au/shorte1/anaconda3/envs/CPOL_analysis/lib/python3.8/site-packages/networkx/readwrite/gexf.py:220: DeprecationWarning: `np.int` is a deprecated alias for the builtin `int`. To silence this warning, use `int` by itself. Doing this will not modify any behavior and is safe. When replacing `np.int`, you may wish to use e.g. `np.int64` or `np.int32` to specify the precision. If you wish to review your current use, check the release note link for additional information.\n",
      "Deprecated in NumPy 1.20; for more details and guidance: https://numpy.org/devdocs/release/1.20.0-notes.html#deprecations\n",
      "  (np.int, \"int\"), (np.int8, \"int\"),\n",
      "/home/student.unimelb.edu.au/shorte1/anaconda3/envs/CPOL_analysis/lib/python3.8/site-packages/numba/core/types/__init__.py:108: DeprecationWarning: `np.long` is a deprecated alias for `np.compat.long`. To silence this warning, use `np.compat.long` by itself. In the likely event your code does not need to work on Python 2 you can use the builtin `int` for which `np.compat.long` is itself an alias. Doing this will not modify any behaviour and is safe. When replacing `np.long`, you may wish to use e.g. `np.int64` or `np.int32` to specify the precision. If you wish to review your current use, check the release note link for additional information.\n",
      "Deprecated in NumPy 1.20; for more details and guidance: https://numpy.org/devdocs/release/1.20.0-notes.html#deprecations\n",
      "  long_ = _make_signed(np.long)\n",
      "/home/student.unimelb.edu.au/shorte1/anaconda3/envs/CPOL_analysis/lib/python3.8/site-packages/numba/core/types/__init__.py:109: DeprecationWarning: `np.long` is a deprecated alias for `np.compat.long`. To silence this warning, use `np.compat.long` by itself. In the likely event your code does not need to work on Python 2 you can use the builtin `int` for which `np.compat.long` is itself an alias. Doing this will not modify any behaviour and is safe. When replacing `np.long`, you may wish to use e.g. `np.int64` or `np.int32` to specify the precision. If you wish to review your current use, check the release note link for additional information.\n",
      "Deprecated in NumPy 1.20; for more details and guidance: https://numpy.org/devdocs/release/1.20.0-notes.html#deprecations\n",
      "  ulong = _make_unsigned(np.long)\n"
     ]
    },
    {
     "name": "stdout",
     "output_type": "stream",
     "text": [
      "Automatic pdb calling has been turned ON\n"
     ]
    }
   ],
   "source": [
    "# Core\n",
    "import datetime\n",
    "import os\n",
    "import glob\n",
    "import tempfile\n",
    "import pickle\n",
    "import copy\n",
    "\n",
    "# Analysis\n",
    "import numpy as np\n",
    "import pandas as pd\n",
    "import xarray as xr\n",
    "\n",
    "# Plotting\n",
    "import matplotlib.pyplot as plt\n",
    "import matplotlib as mpl\n",
    "from matplotlib import rcParams\n",
    "\n",
    "# Debugging\n",
    "import pdb, traceback\n",
    "# %load_ext line_profiler\n",
    "\n",
    "# Radar Tools\n",
    "import pyart\n",
    "import tint\n",
    "# import tint.animate\n",
    "# from tint.visualisation import animate\n",
    "\n",
    "import CPOL_func as cf\n",
    "import classification as cl\n",
    "import caine_func as caf\n",
    "import analysis\n",
    "\n",
    "# Convenience functions\n",
    "%load_ext autoreload\n",
    "%autoreload 1\n",
    "%aimport CPOL_func\n",
    "%aimport caine_func\n",
    "%aimport classification\n",
    "%aimport tint.visualisation.figures\n",
    "%aimport tint.visualisation.animate\n",
    "%aimport tint.visualisation.horizontal_helpers\n",
    "%aimport tint.visualisation.vertical_helpers\n",
    "%aimport tint.tracks\n",
    "%aimport tint.objects\n",
    "%aimport tint.grid_utils\n",
    "%aimport tint.steiner\n",
    "%aimport tint.matching\n",
    "%aimport tint.rain\n",
    "%aimport tint.cells\n",
    "%aimport tint.tracks_helpers\n",
    "%aimport tint.process_ERA5\n",
    "%aimport tint.process_WRF\n",
    "\n",
    "%pdb"
   ]
  },
  {
   "cell_type": "code",
   "execution_count": 4,
   "id": "db14a847",
   "metadata": {
    "ExecuteTime": {
     "end_time": "2021-12-21T08:01:21.417676Z",
     "start_time": "2021-12-21T08:01:21.414568Z"
    },
    "scrolled": true
   },
   "outputs": [],
   "source": [
    "base_dir = '/media/shorte1/Ewan\\'s Hard Drive/phd/data/CPOL/'\n",
    "save_dir = '/home/student.unimelb.edu.au/shorte1/Documents/TINT_tracks/'\n",
    "fig_dir = '/home/student.unimelb.edu.au/shorte1/Documents/TINT_figures/'\n",
    "ERA5_dir = '/media/shorte1/Ewan\\'s Hard Drive/phd/data/era5/'\n",
    "ERA5_dir += 'pressure-levels/reanalysis/'\n",
    "WRF_dir = '/media/shorte1/Ewan\\'s Hard Drive/phd/data/caine_WRF_data/'"
   ]
  },
  {
   "cell_type": "code",
   "execution_count": 16,
   "id": "0f19e0ee",
   "metadata": {
    "ExecuteTime": {
     "end_time": "2021-12-13T23:54:08.211457Z",
     "start_time": "2021-12-13T23:54:08.197547Z"
    }
   },
   "outputs": [],
   "source": [
    "base_dir = '/g/data/hj10/cpol/cpol_level_1b/v2020/gridded/grid_150km_2500m/'\n",
    "save_dir = '/home/563/esh563/TINT_tracks/'\n",
    "fig_dir = '/home/563/esh563/TINT_figures/'\n",
    "ERA5_dir = '/g/data/rt52/era5/pressure-levels/reanalysis/'"
   ]
  },
  {
   "cell_type": "code",
   "execution_count": 5,
   "id": "939382f8",
   "metadata": {
    "ExecuteTime": {
     "end_time": "2021-12-21T08:01:23.635455Z",
     "start_time": "2021-12-21T08:01:23.626856Z"
    }
   },
   "outputs": [],
   "source": [
    "rcParams.update({'font.family': 'serif'})\n",
    "rcParams.update({'font.serif': 'Liberation Serif'})\n",
    "rcParams.update({'mathtext.fontset': 'dejavuserif'})\n",
    "rcParams.update({'font.size': 12})"
   ]
  },
  {
   "cell_type": "markdown",
   "id": "6bdd0f8e",
   "metadata": {},
   "source": [
    "# Load Tracks"
   ]
  },
  {
   "cell_type": "code",
   "execution_count": 22,
   "id": "78d071f2",
   "metadata": {
    "ExecuteTime": {
     "end_time": "2021-12-21T23:22:26.273575Z",
     "start_time": "2021-12-21T23:18:33.523377Z"
    }
   },
   "outputs": [
    {
     "name": "stdout",
     "output_type": "stream",
     "text": [
      "Processing year 1998\n",
      "Getting new exclusions.\n",
      "Adding Pope monsoon regime.\n",
      "Processing year 1999\n",
      "Getting new exclusions.\n",
      "Adding Pope monsoon regime.\n",
      "Processing year 2001\n",
      "Getting new exclusions.\n",
      "Adding Pope monsoon regime.\n",
      "Processing year 2002\n",
      "Getting new exclusions.\n",
      "Adding Pope monsoon regime.\n",
      "Processing year 2003\n",
      "Getting new exclusions.\n",
      "Adding Pope monsoon regime.\n",
      "Processing year 2004\n",
      "Getting new exclusions.\n",
      "Adding Pope monsoon regime.\n",
      "Processing year 2005\n",
      "Getting new exclusions.\n",
      "Adding Pope monsoon regime.\n",
      "Processing year 2006\n",
      "Getting new exclusions.\n",
      "Adding Pope monsoon regime.\n",
      "Processing year 2009\n",
      "Getting new exclusions.\n",
      "Adding Pope monsoon regime.\n",
      "Processing year 2010\n",
      "Getting new exclusions.\n",
      "Adding Pope monsoon regime.\n",
      "Processing year 2011\n",
      "Getting new exclusions.\n",
      "Adding Pope monsoon regime.\n",
      "Processing year 2012\n",
      "Getting new exclusions.\n",
      "Adding Pope monsoon regime.\n",
      "Processing year 2013\n",
      "Getting new exclusions.\n",
      "Adding Pope monsoon regime.\n",
      "Processing year 2014\n",
      "Getting new exclusions.\n",
      "Adding Pope monsoon regime.\n",
      "Processing year 2015\n",
      "Getting new exclusions.\n",
      "Adding Pope monsoon regime.\n"
     ]
    }
   ],
   "source": [
    "class_df = cl.get_counts(\n",
    "    base_dir='/home/student.unimelb.edu.au/shorte1/Documents/CPOL_analysis/',\n",
    "    get_exclusions=True)"
   ]
  },
  {
   "cell_type": "code",
   "execution_count": 23,
   "id": "5ff60e4d",
   "metadata": {
    "ExecuteTime": {
     "end_time": "2021-12-21T23:23:10.447716Z",
     "start_time": "2021-12-21T23:23:10.422286Z"
    }
   },
   "outputs": [],
   "source": [
    "out_file_name = save_dir + 'linear_25_2_classes.pkl'\n",
    "with open(out_file_name, 'wb') as f:\n",
    "    pickle.dump(class_df, f)"
   ]
  },
  {
   "cell_type": "code",
   "execution_count": 24,
   "id": "7e32414b",
   "metadata": {
    "ExecuteTime": {
     "end_time": "2021-12-21T23:25:26.494616Z",
     "start_time": "2021-12-21T23:25:08.709685Z"
    }
   },
   "outputs": [],
   "source": [
    "sen_dfs = cl.plot_all()"
   ]
  },
  {
   "cell_type": "code",
   "execution_count": 25,
   "id": "79d027dc",
   "metadata": {
    "ExecuteTime": {
     "end_time": "2021-12-21T23:25:30.380921Z",
     "start_time": "2021-12-21T23:25:28.575325Z"
    }
   },
   "outputs": [
    {
     "data": {
      "image/png": "[encoded data removed]",
      "text/plain": [
       "<Figure size 864x612 with 4 Axes>"
      ]
     },
     "metadata": {
      "needs_background": "light"
     },
     "output_type": "display_data"
    }
   ],
   "source": [
    "cl.plot_sensitivities(sen_dfs)"
   ]
  },
  {
   "cell_type": "code",
   "execution_count": 231,
   "id": "755c3e99",
   "metadata": {
    "ExecuteTime": {
     "end_time": "2021-12-20T04:28:52.641914Z",
     "start_time": "2021-12-20T04:28:52.590151Z"
    }
   },
   "outputs": [],
   "source": [
    "counts_df = pd.DataFrame({'counts': class_df.value_counts()})\n",
    "counts_df = counts_df.xs(2, level='pope_regime')\n",
    "ratios = counts_df['counts']/counts_df['counts'].sum()\n",
    "counts_df['percent'] = ratios * 100\n",
    "counts_df = counts_df.drop('Ambiguous', level='inflow_type')\n",
    "\n",
    "q_str = \"(offset_type == 'Trailing Stratiform'\"\n",
    "q_str += \"and inflow_type == 'Front Fed')\"\n",
    "q_str += \"or (offset_type == 'Leading Stratiform'\"\n",
    "q_str += \"and inflow_type == 'Rear Fed')\"\n",
    "q_str += \"or (offset_type == 'Parallel Stratiform (Left)'\"\n",
    "q_str += \"and inflow_type == 'Parallel Fed (Right)')\"\n",
    "q_str += \"or (offset_type == 'Parallel Stratiform (Right)'\"\n",
    "q_str += \"and inflow_type == 'Parallel Fed (Left)')\"\n",
    "TS = counts_df.query(q_str)\n",
    "\n",
    "q_str = \"(offset_type == 'Leading Stratiform'\"\n",
    "q_str += \"and inflow_type == 'Front Fed')\"\n",
    "q_str += \"or (offset_type == 'Trailing Stratiform'\"\n",
    "q_str += \"and inflow_type == 'Rear Fed')\"\n",
    "q_str += \"or (offset_type == 'Parallel Stratiform (Left)'\"\n",
    "q_str += \"and inflow_type == 'Parallel Fed (Left)')\"\n",
    "q_str += \"or (offset_type == 'Parallel Stratiform (Right)'\"\n",
    "q_str += \"and inflow_type == 'Parallel Fed (Right)')\"\n",
    "LS = counts_df.query(q_str)\n",
    "\n",
    "q_str = \"(offset_type == 'Leading Stratiform'\"\n",
    "q_str += \"and inflow_type == 'Parallel Fed (Right)')\"\n",
    "q_str += \"or (offset_type == 'Trailing Stratiform'\"\n",
    "q_str += \"and inflow_type == 'Parallel Fed (Left)')\"\n",
    "q_str += \"or (offset_type == 'Parallel Stratiform (Left)'\"\n",
    "q_str += \"and inflow_type == 'Front Fed')\"\n",
    "q_str += \"or (offset_type == 'Parallel Stratiform (Right)'\"\n",
    "q_str += \"and inflow_type == 'Rear Fed (Right)')\"\n",
    "LeS = counts_df.query(q_str)\n",
    "\n",
    "q_str = \"(offset_type == 'Leading Stratiform'\"\n",
    "q_str += \"and inflow_type == 'Parallel Fed (Left)')\"\n",
    "q_str += \"or (offset_type == 'Trailing Stratiform'\"\n",
    "q_str += \"and inflow_type == 'Parallel Fed (Right)')\"\n",
    "q_str += \"or (offset_type == 'Parallel Stratiform (Right)'\"\n",
    "q_str += \"and inflow_type == 'Front Fed')\"\n",
    "q_str += \"or (offset_type == 'Parallel Stratiform (Left)'\"\n",
    "q_str += \"and inflow_type == 'Rear Fed')\"\n",
    "RiS = counts_df.query(q_str)"
   ]
  },
  {
   "cell_type": "code",
   "execution_count": 238,
   "id": "83c17add",
   "metadata": {
    "ExecuteTime": {
     "end_time": "2021-12-20T04:29:21.710036Z",
     "start_time": "2021-12-20T04:29:21.694858Z"
    }
   },
   "outputs": [
    {
     "data": {
      "text/plain": [
       "counts     331.000000\n",
       "percent     21.437824\n",
       "dtype: float64"
      ]
     },
     "execution_count": 238,
     "metadata": {},
     "output_type": "execute_result"
    }
   ],
   "source": [
    "LS.sum()"
   ]
  },
  {
   "cell_type": "code",
   "execution_count": 164,
   "id": "007e108a",
   "metadata": {
    "ExecuteTime": {
     "end_time": "2021-12-20T03:16:11.424383Z",
     "start_time": "2021-12-20T03:16:11.398058Z"
    }
   },
   "outputs": [
    {
     "name": "stdout",
     "output_type": "stream",
     "text": [
      "counts     742.000000\n",
      "percent     10.080152\n",
      "dtype: float64\n",
      "counts     3270.000000\n",
      "percent      44.423312\n",
      "dtype: float64\n",
      "counts     864.000000\n",
      "percent     11.737536\n",
      "dtype: float64\n",
      "counts     898.000000\n",
      "percent     12.199429\n",
      "dtype: float64\n"
     ]
    },
    {
     "data": {
      "text/plain": [
       "[None, None, None, None]"
      ]
     },
     "execution_count": 164,
     "metadata": {},
     "output_type": "execute_result"
    }
   ],
   "source": [
    "[print(x.sum()) for x in [LS, TS, LeS, RiS]]"
   ]
  },
  {
   "cell_type": "code",
   "execution_count": 240,
   "id": "68137596",
   "metadata": {
    "ExecuteTime": {
     "end_time": "2021-12-20T04:30:45.277340Z",
     "start_time": "2021-12-20T04:30:45.241794Z"
    }
   },
   "outputs": [
    {
     "data": {
      "text/html": [
       "<div>\n",
       "<style scoped>\n",
       "    .dataframe tbody tr th:only-of-type {\n",
       "        vertical-align: middle;\n",
       "    }\n",
       "\n",
       "    .dataframe tbody tr th {\n",
       "        vertical-align: top;\n",
       "    }\n",
       "\n",
       "    .dataframe thead th {\n",
       "        text-align: right;\n",
       "    }\n",
       "</style>\n",
       "<table border=\"1\" class=\"dataframe\">\n",
       "  <thead>\n",
       "    <tr style=\"text-align: right;\">\n",
       "      <th></th>\n",
       "      <th></th>\n",
       "      <th>counts</th>\n",
       "      <th>percent</th>\n",
       "    </tr>\n",
       "    <tr>\n",
       "      <th>offset_type</th>\n",
       "      <th>inflow_type</th>\n",
       "      <th></th>\n",
       "      <th></th>\n",
       "    </tr>\n",
       "  </thead>\n",
       "  <tbody>\n",
       "    <tr>\n",
       "      <th rowspan=\"3\" valign=\"top\">Trailing Stratiform</th>\n",
       "      <th>Rear Fed</th>\n",
       "      <td>238</td>\n",
       "      <td>15.414508</td>\n",
       "    </tr>\n",
       "    <tr>\n",
       "      <th>Parallel Fed (Left)</th>\n",
       "      <td>230</td>\n",
       "      <td>14.896373</td>\n",
       "    </tr>\n",
       "    <tr>\n",
       "      <th>Front Fed</th>\n",
       "      <td>154</td>\n",
       "      <td>9.974093</td>\n",
       "    </tr>\n",
       "    <tr>\n",
       "      <th rowspan=\"2\" valign=\"top\">Parallel Stratiform (Right)</th>\n",
       "      <th>Parallel Fed (Left)</th>\n",
       "      <td>121</td>\n",
       "      <td>7.836788</td>\n",
       "    </tr>\n",
       "    <tr>\n",
       "      <th>Rear Fed</th>\n",
       "      <td>95</td>\n",
       "      <td>6.152850</td>\n",
       "    </tr>\n",
       "    <tr>\n",
       "      <th>Leading Stratiform</th>\n",
       "      <th>Rear Fed</th>\n",
       "      <td>53</td>\n",
       "      <td>3.432642</td>\n",
       "    </tr>\n",
       "    <tr>\n",
       "      <th>Trailing Stratiform</th>\n",
       "      <th>Parallel Fed (Right)</th>\n",
       "      <td>47</td>\n",
       "      <td>3.044041</td>\n",
       "    </tr>\n",
       "    <tr>\n",
       "      <th>Parallel Stratiform (Left)</th>\n",
       "      <th>Parallel Fed (Left)</th>\n",
       "      <td>43</td>\n",
       "      <td>2.784974</td>\n",
       "    </tr>\n",
       "    <tr>\n",
       "      <th rowspan=\"2\" valign=\"top\">Parallel Stratiform (Right)</th>\n",
       "      <th>Parallel Fed (Right)</th>\n",
       "      <td>42</td>\n",
       "      <td>2.720207</td>\n",
       "    </tr>\n",
       "    <tr>\n",
       "      <th>Front Fed</th>\n",
       "      <td>29</td>\n",
       "      <td>1.878238</td>\n",
       "    </tr>\n",
       "    <tr>\n",
       "      <th>Leading Stratiform</th>\n",
       "      <th>Parallel Fed (Left)</th>\n",
       "      <td>24</td>\n",
       "      <td>1.554404</td>\n",
       "    </tr>\n",
       "    <tr>\n",
       "      <th rowspan=\"2\" valign=\"top\">Parallel Stratiform (Left)</th>\n",
       "      <th>Rear Fed</th>\n",
       "      <td>11</td>\n",
       "      <td>0.712435</td>\n",
       "    </tr>\n",
       "    <tr>\n",
       "      <th>Front Fed</th>\n",
       "      <td>9</td>\n",
       "      <td>0.582902</td>\n",
       "    </tr>\n",
       "    <tr>\n",
       "      <th rowspan=\"2\" valign=\"top\">Leading Stratiform</th>\n",
       "      <th>Front Fed</th>\n",
       "      <td>8</td>\n",
       "      <td>0.518135</td>\n",
       "    </tr>\n",
       "    <tr>\n",
       "      <th>Parallel Fed (Right)</th>\n",
       "      <td>7</td>\n",
       "      <td>0.453368</td>\n",
       "    </tr>\n",
       "    <tr>\n",
       "      <th>Parallel Stratiform (Left)</th>\n",
       "      <th>Parallel Fed (Right)</th>\n",
       "      <td>7</td>\n",
       "      <td>0.453368</td>\n",
       "    </tr>\n",
       "  </tbody>\n",
       "</table>\n",
       "</div>"
      ],
      "text/plain": [
       "                                                  counts    percent\n",
       "offset_type                 inflow_type                            \n",
       "Trailing Stratiform         Rear Fed                 238  15.414508\n",
       "                            Parallel Fed (Left)      230  14.896373\n",
       "                            Front Fed                154   9.974093\n",
       "Parallel Stratiform (Right) Parallel Fed (Left)      121   7.836788\n",
       "                            Rear Fed                  95   6.152850\n",
       "Leading Stratiform          Rear Fed                  53   3.432642\n",
       "Trailing Stratiform         Parallel Fed (Right)      47   3.044041\n",
       "Parallel Stratiform (Left)  Parallel Fed (Left)       43   2.784974\n",
       "Parallel Stratiform (Right) Parallel Fed (Right)      42   2.720207\n",
       "                            Front Fed                 29   1.878238\n",
       "Leading Stratiform          Parallel Fed (Left)       24   1.554404\n",
       "Parallel Stratiform (Left)  Rear Fed                  11   0.712435\n",
       "                            Front Fed                  9   0.582902\n",
       "Leading Stratiform          Front Fed                  8   0.518135\n",
       "                            Parallel Fed (Right)       7   0.453368\n",
       "Parallel Stratiform (Left)  Parallel Fed (Right)       7   0.453368"
      ]
     },
     "execution_count": 240,
     "metadata": {},
     "output_type": "execute_result"
    }
   ],
   "source": [
    "counts_df = pd.DataFrame({'count': class_df.value_counts()})\n",
    "counts_df = counts_df.xs(2, level='pope_regime')\n",
    "ratios = counts_df['count']/counts_df['counts'].sum()\n",
    "counts_df['percent'] = ratios * 100\n",
    "counts_df = counts_df.drop('Ambiguous', level='inflow_type')\n",
    "\n",
    "counts_df = counts_df.drop('Ambiguous', level='inflow_type')\n",
    "# counts_df = counts_df.drop('Ambiguous', level='tilt_dir')\n",
    "# counts_df = counts_df.drop('Ambiguous', level='prop_dir')\n",
    "# counts_df\n",
    "grouped_counts = counts_df.groupby(['offset_type', 'inflow_type']).sum()\n",
    "grouped_counts = grouped_counts.sort_values('count', axis=0, ascending=False)\n",
    "grouped_counts"
   ]
  },
  {
   "cell_type": "code",
   "execution_count": 252,
   "id": "6d1919d4",
   "metadata": {
    "ExecuteTime": {
     "end_time": "2021-12-20T04:47:16.728193Z",
     "start_time": "2021-12-20T04:47:16.678272Z"
    }
   },
   "outputs": [
    {
     "data": {
      "text/html": [
       "<div>\n",
       "<style scoped>\n",
       "    .dataframe tbody tr th:only-of-type {\n",
       "        vertical-align: middle;\n",
       "    }\n",
       "\n",
       "    .dataframe tbody tr th {\n",
       "        vertical-align: top;\n",
       "    }\n",
       "\n",
       "    .dataframe thead th {\n",
       "        text-align: right;\n",
       "    }\n",
       "</style>\n",
       "<table border=\"1\" class=\"dataframe\">\n",
       "  <thead>\n",
       "    <tr style=\"text-align: right;\">\n",
       "      <th></th>\n",
       "      <th></th>\n",
       "      <th></th>\n",
       "      <th></th>\n",
       "      <th>count</th>\n",
       "      <th>total_percent</th>\n",
       "      <th>percent</th>\n",
       "    </tr>\n",
       "    <tr>\n",
       "      <th>offset_type</th>\n",
       "      <th>inflow_type</th>\n",
       "      <th>tilt_dir</th>\n",
       "      <th>prop_dir</th>\n",
       "      <th></th>\n",
       "      <th></th>\n",
       "      <th></th>\n",
       "    </tr>\n",
       "  </thead>\n",
       "  <tbody>\n",
       "    <tr>\n",
       "      <th>Trailing Stratiform</th>\n",
       "      <th>Front Fed</th>\n",
       "      <th>Up-Shear Tilted</th>\n",
       "      <th>Down-Shear Propagating</th>\n",
       "      <td>1778</td>\n",
       "      <td>24.154327</td>\n",
       "      <td>72.690106</td>\n",
       "    </tr>\n",
       "    <tr>\n",
       "      <th>Leading Stratiform</th>\n",
       "      <th>Front Fed</th>\n",
       "      <th>Down-Shear Tilted</th>\n",
       "      <th>Down-Shear Propagating</th>\n",
       "      <td>103</td>\n",
       "      <td>1.399266</td>\n",
       "      <td>4.210957</td>\n",
       "    </tr>\n",
       "    <tr>\n",
       "      <th rowspan=\"3\" valign=\"top\">Trailing Stratiform</th>\n",
       "      <th>Front Fed</th>\n",
       "      <th>Down-Shear Tilted</th>\n",
       "      <th>Up-Shear Propagating</th>\n",
       "      <td>92</td>\n",
       "      <td>1.249830</td>\n",
       "      <td>3.761243</td>\n",
       "    </tr>\n",
       "    <tr>\n",
       "      <th>Rear Fed</th>\n",
       "      <th>Up-Shear Tilted</th>\n",
       "      <th>Up-Shear Propagating</th>\n",
       "      <td>61</td>\n",
       "      <td>0.828692</td>\n",
       "      <td>2.493868</td>\n",
       "    </tr>\n",
       "    <tr>\n",
       "      <th>Parallel Fed (Left)</th>\n",
       "      <th>Up-Shear Tilted</th>\n",
       "      <th>Down-Shear Propagating</th>\n",
       "      <td>45</td>\n",
       "      <td>0.611330</td>\n",
       "      <td>1.839738</td>\n",
       "    </tr>\n",
       "    <tr>\n",
       "      <th>Parallel Stratiform (Left)</th>\n",
       "      <th>Parallel Fed (Left)</th>\n",
       "      <th>Down-Shear Tilted</th>\n",
       "      <th>Down-Shear Propagating</th>\n",
       "      <td>36</td>\n",
       "      <td>0.489064</td>\n",
       "      <td>1.471791</td>\n",
       "    </tr>\n",
       "    <tr>\n",
       "      <th rowspan=\"3\" valign=\"top\">Parallel Stratiform (Right)</th>\n",
       "      <th>Front Fed</th>\n",
       "      <th>Up-Shear Tilted</th>\n",
       "      <th>Down-Shear Propagating</th>\n",
       "      <td>31</td>\n",
       "      <td>0.421138</td>\n",
       "      <td>1.267375</td>\n",
       "    </tr>\n",
       "    <tr>\n",
       "      <th>Parallel Fed (Left)</th>\n",
       "      <th>Up-Shear Tilted</th>\n",
       "      <th>Down-Shear Propagating</th>\n",
       "      <td>27</td>\n",
       "      <td>0.366798</td>\n",
       "      <td>1.103843</td>\n",
       "    </tr>\n",
       "    <tr>\n",
       "      <th>Front Fed</th>\n",
       "      <th>Down-Shear Tilted</th>\n",
       "      <th>Down-Shear Propagating</th>\n",
       "      <td>27</td>\n",
       "      <td>0.366798</td>\n",
       "      <td>1.103843</td>\n",
       "    </tr>\n",
       "    <tr>\n",
       "      <th>Trailing Stratiform</th>\n",
       "      <th>Rear Fed</th>\n",
       "      <th>Down-Shear Tilted</th>\n",
       "      <th>Down-Shear Propagating</th>\n",
       "      <td>24</td>\n",
       "      <td>0.326043</td>\n",
       "      <td>0.981194</td>\n",
       "    </tr>\n",
       "    <tr>\n",
       "      <th>Leading Stratiform</th>\n",
       "      <th>Rear Fed</th>\n",
       "      <th>Down-Shear Tilted</th>\n",
       "      <th>Up-Shear Propagating</th>\n",
       "      <td>20</td>\n",
       "      <td>0.271702</td>\n",
       "      <td>0.817661</td>\n",
       "    </tr>\n",
       "    <tr>\n",
       "      <th rowspan=\"2\" valign=\"top\">Parallel Stratiform (Left)</th>\n",
       "      <th rowspan=\"2\" valign=\"top\">Front Fed</th>\n",
       "      <th>Down-Shear Tilted</th>\n",
       "      <th>Down-Shear Propagating</th>\n",
       "      <td>19</td>\n",
       "      <td>0.258117</td>\n",
       "      <td>0.776778</td>\n",
       "    </tr>\n",
       "    <tr>\n",
       "      <th>Up-Shear Tilted</th>\n",
       "      <th>Down-Shear Propagating</th>\n",
       "      <td>19</td>\n",
       "      <td>0.258117</td>\n",
       "      <td>0.776778</td>\n",
       "    </tr>\n",
       "    <tr>\n",
       "      <th>Trailing Stratiform</th>\n",
       "      <th>Parallel Fed (Right)</th>\n",
       "      <th>Up-Shear Tilted</th>\n",
       "      <th>Down-Shear Propagating</th>\n",
       "      <td>15</td>\n",
       "      <td>0.203777</td>\n",
       "      <td>0.613246</td>\n",
       "    </tr>\n",
       "    <tr>\n",
       "      <th rowspan=\"2\" valign=\"top\">Parallel Stratiform (Right)</th>\n",
       "      <th>Parallel Fed (Left)</th>\n",
       "      <th>Down-Shear Tilted</th>\n",
       "      <th>Up-Shear Propagating</th>\n",
       "      <td>13</td>\n",
       "      <td>0.176606</td>\n",
       "      <td>0.531480</td>\n",
       "    </tr>\n",
       "    <tr>\n",
       "      <th>Rear Fed</th>\n",
       "      <th>Up-Shear Tilted</th>\n",
       "      <th>Up-Shear Propagating</th>\n",
       "      <td>10</td>\n",
       "      <td>0.135851</td>\n",
       "      <td>0.408831</td>\n",
       "    </tr>\n",
       "    <tr>\n",
       "      <th rowspan=\"2\" valign=\"top\">Leading Stratiform</th>\n",
       "      <th>Parallel Fed (Left)</th>\n",
       "      <th>Down-Shear Tilted</th>\n",
       "      <th>Up-Shear Propagating</th>\n",
       "      <td>10</td>\n",
       "      <td>0.135851</td>\n",
       "      <td>0.408831</td>\n",
       "    </tr>\n",
       "    <tr>\n",
       "      <th>Front Fed</th>\n",
       "      <th>Up-Shear Tilted</th>\n",
       "      <th>Up-Shear Propagating</th>\n",
       "      <td>10</td>\n",
       "      <td>0.135851</td>\n",
       "      <td>0.408831</td>\n",
       "    </tr>\n",
       "    <tr>\n",
       "      <th>Parallel Stratiform (Right)</th>\n",
       "      <th>Parallel Fed (Right)</th>\n",
       "      <th>Down-Shear Tilted</th>\n",
       "      <th>Down-Shear Propagating</th>\n",
       "      <td>10</td>\n",
       "      <td>0.135851</td>\n",
       "      <td>0.408831</td>\n",
       "    </tr>\n",
       "    <tr>\n",
       "      <th>Leading Stratiform</th>\n",
       "      <th>Parallel Fed (Left)</th>\n",
       "      <th>Down-Shear Tilted</th>\n",
       "      <th>Down-Shear Propagating</th>\n",
       "      <td>9</td>\n",
       "      <td>0.122266</td>\n",
       "      <td>0.367948</td>\n",
       "    </tr>\n",
       "    <tr>\n",
       "      <th>Trailing Stratiform</th>\n",
       "      <th>Parallel Fed (Right)</th>\n",
       "      <th>Up-Shear Tilted</th>\n",
       "      <th>Up-Shear Propagating</th>\n",
       "      <td>9</td>\n",
       "      <td>0.122266</td>\n",
       "      <td>0.367948</td>\n",
       "    </tr>\n",
       "    <tr>\n",
       "      <th>Parallel Stratiform (Right)</th>\n",
       "      <th>Rear Fed</th>\n",
       "      <th>Down-Shear Tilted</th>\n",
       "      <th>Up-Shear Propagating</th>\n",
       "      <td>9</td>\n",
       "      <td>0.122266</td>\n",
       "      <td>0.367948</td>\n",
       "    </tr>\n",
       "    <tr>\n",
       "      <th>Trailing Stratiform</th>\n",
       "      <th>Parallel Fed (Left)</th>\n",
       "      <th>Down-Shear Tilted</th>\n",
       "      <th>Down-Shear Propagating</th>\n",
       "      <td>8</td>\n",
       "      <td>0.108681</td>\n",
       "      <td>0.327065</td>\n",
       "    </tr>\n",
       "    <tr>\n",
       "      <th>Leading Stratiform</th>\n",
       "      <th>Rear Fed</th>\n",
       "      <th>Up-Shear Tilted</th>\n",
       "      <th>Down-Shear Propagating</th>\n",
       "      <td>8</td>\n",
       "      <td>0.108681</td>\n",
       "      <td>0.327065</td>\n",
       "    </tr>\n",
       "    <tr>\n",
       "      <th>Trailing Stratiform</th>\n",
       "      <th>Parallel Fed (Left)</th>\n",
       "      <th>Up-Shear Tilted</th>\n",
       "      <th>Up-Shear Propagating</th>\n",
       "      <td>8</td>\n",
       "      <td>0.108681</td>\n",
       "      <td>0.327065</td>\n",
       "    </tr>\n",
       "    <tr>\n",
       "      <th>Parallel Stratiform (Right)</th>\n",
       "      <th>Parallel Fed (Right)</th>\n",
       "      <th>Up-Shear Tilted</th>\n",
       "      <th>Up-Shear Propagating</th>\n",
       "      <td>8</td>\n",
       "      <td>0.108681</td>\n",
       "      <td>0.327065</td>\n",
       "    </tr>\n",
       "    <tr>\n",
       "      <th>Trailing Stratiform</th>\n",
       "      <th>Parallel Fed (Left)</th>\n",
       "      <th>Down-Shear Tilted</th>\n",
       "      <th>Up-Shear Propagating</th>\n",
       "      <td>6</td>\n",
       "      <td>0.081511</td>\n",
       "      <td>0.245298</td>\n",
       "    </tr>\n",
       "    <tr>\n",
       "      <th>Parallel Stratiform (Right)</th>\n",
       "      <th>Rear Fed</th>\n",
       "      <th>Up-Shear Tilted</th>\n",
       "      <th>Down-Shear Propagating</th>\n",
       "      <td>5</td>\n",
       "      <td>0.067926</td>\n",
       "      <td>0.204415</td>\n",
       "    </tr>\n",
       "    <tr>\n",
       "      <th>Parallel Stratiform (Left)</th>\n",
       "      <th>Parallel Fed (Left)</th>\n",
       "      <th>Up-Shear Tilted</th>\n",
       "      <th>Up-Shear Propagating</th>\n",
       "      <td>4</td>\n",
       "      <td>0.054340</td>\n",
       "      <td>0.163532</td>\n",
       "    </tr>\n",
       "    <tr>\n",
       "      <th>Parallel Stratiform (Right)</th>\n",
       "      <th>Front Fed</th>\n",
       "      <th>Down-Shear Tilted</th>\n",
       "      <th>Up-Shear Propagating</th>\n",
       "      <td>4</td>\n",
       "      <td>0.054340</td>\n",
       "      <td>0.163532</td>\n",
       "    </tr>\n",
       "    <tr>\n",
       "      <th>Trailing Stratiform</th>\n",
       "      <th>Parallel Fed (Right)</th>\n",
       "      <th>Down-Shear Tilted</th>\n",
       "      <th>Up-Shear Propagating</th>\n",
       "      <td>3</td>\n",
       "      <td>0.040755</td>\n",
       "      <td>0.122649</td>\n",
       "    </tr>\n",
       "    <tr>\n",
       "      <th>Parallel Stratiform (Left)</th>\n",
       "      <th>Front Fed</th>\n",
       "      <th>Up-Shear Tilted</th>\n",
       "      <th>Up-Shear Propagating</th>\n",
       "      <td>3</td>\n",
       "      <td>0.040755</td>\n",
       "      <td>0.122649</td>\n",
       "    </tr>\n",
       "    <tr>\n",
       "      <th rowspan=\"3\" valign=\"top\">Leading Stratiform</th>\n",
       "      <th>Parallel Fed (Left)</th>\n",
       "      <th>Up-Shear Tilted</th>\n",
       "      <th>Down-Shear Propagating</th>\n",
       "      <td>2</td>\n",
       "      <td>0.027170</td>\n",
       "      <td>0.081766</td>\n",
       "    </tr>\n",
       "    <tr>\n",
       "      <th rowspan=\"2\" valign=\"top\">Parallel Fed (Right)</th>\n",
       "      <th>Down-Shear Tilted</th>\n",
       "      <th>Up-Shear Propagating</th>\n",
       "      <td>2</td>\n",
       "      <td>0.027170</td>\n",
       "      <td>0.081766</td>\n",
       "    </tr>\n",
       "    <tr>\n",
       "      <th>Up-Shear Tilted</th>\n",
       "      <th>Down-Shear Propagating</th>\n",
       "      <td>2</td>\n",
       "      <td>0.027170</td>\n",
       "      <td>0.081766</td>\n",
       "    </tr>\n",
       "    <tr>\n",
       "      <th>Parallel Stratiform (Right)</th>\n",
       "      <th>Front Fed</th>\n",
       "      <th>Up-Shear Tilted</th>\n",
       "      <th>Up-Shear Propagating</th>\n",
       "      <td>2</td>\n",
       "      <td>0.027170</td>\n",
       "      <td>0.081766</td>\n",
       "    </tr>\n",
       "    <tr>\n",
       "      <th>Trailing Stratiform</th>\n",
       "      <th>Parallel Fed (Right)</th>\n",
       "      <th>Down-Shear Tilted</th>\n",
       "      <th>Down-Shear Propagating</th>\n",
       "      <td>1</td>\n",
       "      <td>0.013585</td>\n",
       "      <td>0.040883</td>\n",
       "    </tr>\n",
       "    <tr>\n",
       "      <th rowspan=\"3\" valign=\"top\">Parallel Stratiform (Left)</th>\n",
       "      <th rowspan=\"2\" valign=\"top\">Parallel Fed (Right)</th>\n",
       "      <th>Up-Shear Tilted</th>\n",
       "      <th>Down-Shear Propagating</th>\n",
       "      <td>1</td>\n",
       "      <td>0.013585</td>\n",
       "      <td>0.040883</td>\n",
       "    </tr>\n",
       "    <tr>\n",
       "      <th>Down-Shear Tilted</th>\n",
       "      <th>Up-Shear Propagating</th>\n",
       "      <td>1</td>\n",
       "      <td>0.013585</td>\n",
       "      <td>0.040883</td>\n",
       "    </tr>\n",
       "    <tr>\n",
       "      <th>Front Fed</th>\n",
       "      <th>Down-Shear Tilted</th>\n",
       "      <th>Up-Shear Propagating</th>\n",
       "      <td>1</td>\n",
       "      <td>0.013585</td>\n",
       "      <td>0.040883</td>\n",
       "    </tr>\n",
       "  </tbody>\n",
       "</table>\n",
       "</div>"
      ],
      "text/plain": [
       "                                                                                           count  \\\n",
       "offset_type                 inflow_type          tilt_dir          prop_dir                        \n",
       "Trailing Stratiform         Front Fed            Up-Shear Tilted   Down-Shear Propagating   1778   \n",
       "Leading Stratiform          Front Fed            Down-Shear Tilted Down-Shear Propagating    103   \n",
       "Trailing Stratiform         Front Fed            Down-Shear Tilted Up-Shear Propagating       92   \n",
       "                            Rear Fed             Up-Shear Tilted   Up-Shear Propagating       61   \n",
       "                            Parallel Fed (Left)  Up-Shear Tilted   Down-Shear Propagating     45   \n",
       "Parallel Stratiform (Left)  Parallel Fed (Left)  Down-Shear Tilted Down-Shear Propagating     36   \n",
       "Parallel Stratiform (Right) Front Fed            Up-Shear Tilted   Down-Shear Propagating     31   \n",
       "                            Parallel Fed (Left)  Up-Shear Tilted   Down-Shear Propagating     27   \n",
       "                            Front Fed            Down-Shear Tilted Down-Shear Propagating     27   \n",
       "Trailing Stratiform         Rear Fed             Down-Shear Tilted Down-Shear Propagating     24   \n",
       "Leading Stratiform          Rear Fed             Down-Shear Tilted Up-Shear Propagating       20   \n",
       "Parallel Stratiform (Left)  Front Fed            Down-Shear Tilted Down-Shear Propagating     19   \n",
       "                                                 Up-Shear Tilted   Down-Shear Propagating     19   \n",
       "Trailing Stratiform         Parallel Fed (Right) Up-Shear Tilted   Down-Shear Propagating     15   \n",
       "Parallel Stratiform (Right) Parallel Fed (Left)  Down-Shear Tilted Up-Shear Propagating       13   \n",
       "                            Rear Fed             Up-Shear Tilted   Up-Shear Propagating       10   \n",
       "Leading Stratiform          Parallel Fed (Left)  Down-Shear Tilted Up-Shear Propagating       10   \n",
       "                            Front Fed            Up-Shear Tilted   Up-Shear Propagating       10   \n",
       "Parallel Stratiform (Right) Parallel Fed (Right) Down-Shear Tilted Down-Shear Propagating     10   \n",
       "Leading Stratiform          Parallel Fed (Left)  Down-Shear Tilted Down-Shear Propagating      9   \n",
       "Trailing Stratiform         Parallel Fed (Right) Up-Shear Tilted   Up-Shear Propagating        9   \n",
       "Parallel Stratiform (Right) Rear Fed             Down-Shear Tilted Up-Shear Propagating        9   \n",
       "Trailing Stratiform         Parallel Fed (Left)  Down-Shear Tilted Down-Shear Propagating      8   \n",
       "Leading Stratiform          Rear Fed             Up-Shear Tilted   Down-Shear Propagating      8   \n",
       "Trailing Stratiform         Parallel Fed (Left)  Up-Shear Tilted   Up-Shear Propagating        8   \n",
       "Parallel Stratiform (Right) Parallel Fed (Right) Up-Shear Tilted   Up-Shear Propagating        8   \n",
       "Trailing Stratiform         Parallel Fed (Left)  Down-Shear Tilted Up-Shear Propagating        6   \n",
       "Parallel Stratiform (Right) Rear Fed             Up-Shear Tilted   Down-Shear Propagating      5   \n",
       "Parallel Stratiform (Left)  Parallel Fed (Left)  Up-Shear Tilted   Up-Shear Propagating        4   \n",
       "Parallel Stratiform (Right) Front Fed            Down-Shear Tilted Up-Shear Propagating        4   \n",
       "Trailing Stratiform         Parallel Fed (Right) Down-Shear Tilted Up-Shear Propagating        3   \n",
       "Parallel Stratiform (Left)  Front Fed            Up-Shear Tilted   Up-Shear Propagating        3   \n",
       "Leading Stratiform          Parallel Fed (Left)  Up-Shear Tilted   Down-Shear Propagating      2   \n",
       "                            Parallel Fed (Right) Down-Shear Tilted Up-Shear Propagating        2   \n",
       "                                                 Up-Shear Tilted   Down-Shear Propagating      2   \n",
       "Parallel Stratiform (Right) Front Fed            Up-Shear Tilted   Up-Shear Propagating        2   \n",
       "Trailing Stratiform         Parallel Fed (Right) Down-Shear Tilted Down-Shear Propagating      1   \n",
       "Parallel Stratiform (Left)  Parallel Fed (Right) Up-Shear Tilted   Down-Shear Propagating      1   \n",
       "                                                 Down-Shear Tilted Up-Shear Propagating        1   \n",
       "                            Front Fed            Down-Shear Tilted Up-Shear Propagating        1   \n",
       "\n",
       "                                                                                           total_percent  \\\n",
       "offset_type                 inflow_type          tilt_dir          prop_dir                                \n",
       "Trailing Stratiform         Front Fed            Up-Shear Tilted   Down-Shear Propagating      24.154327   \n",
       "Leading Stratiform          Front Fed            Down-Shear Tilted Down-Shear Propagating       1.399266   \n",
       "Trailing Stratiform         Front Fed            Down-Shear Tilted Up-Shear Propagating         1.249830   \n",
       "                            Rear Fed             Up-Shear Tilted   Up-Shear Propagating         0.828692   \n",
       "                            Parallel Fed (Left)  Up-Shear Tilted   Down-Shear Propagating       0.611330   \n",
       "Parallel Stratiform (Left)  Parallel Fed (Left)  Down-Shear Tilted Down-Shear Propagating       0.489064   \n",
       "Parallel Stratiform (Right) Front Fed            Up-Shear Tilted   Down-Shear Propagating       0.421138   \n",
       "                            Parallel Fed (Left)  Up-Shear Tilted   Down-Shear Propagating       0.366798   \n",
       "                            Front Fed            Down-Shear Tilted Down-Shear Propagating       0.366798   \n",
       "Trailing Stratiform         Rear Fed             Down-Shear Tilted Down-Shear Propagating       0.326043   \n",
       "Leading Stratiform          Rear Fed             Down-Shear Tilted Up-Shear Propagating         0.271702   \n",
       "Parallel Stratiform (Left)  Front Fed            Down-Shear Tilted Down-Shear Propagating       0.258117   \n",
       "                                                 Up-Shear Tilted   Down-Shear Propagating       0.258117   \n",
       "Trailing Stratiform         Parallel Fed (Right) Up-Shear Tilted   Down-Shear Propagating       0.203777   \n",
       "Parallel Stratiform (Right) Parallel Fed (Left)  Down-Shear Tilted Up-Shear Propagating         0.176606   \n",
       "                            Rear Fed             Up-Shear Tilted   Up-Shear Propagating         0.135851   \n",
       "Leading Stratiform          Parallel Fed (Left)  Down-Shear Tilted Up-Shear Propagating         0.135851   \n",
       "                            Front Fed            Up-Shear Tilted   Up-Shear Propagating         0.135851   \n",
       "Parallel Stratiform (Right) Parallel Fed (Right) Down-Shear Tilted Down-Shear Propagating       0.135851   \n",
       "Leading Stratiform          Parallel Fed (Left)  Down-Shear Tilted Down-Shear Propagating       0.122266   \n",
       "Trailing Stratiform         Parallel Fed (Right) Up-Shear Tilted   Up-Shear Propagating         0.122266   \n",
       "Parallel Stratiform (Right) Rear Fed             Down-Shear Tilted Up-Shear Propagating         0.122266   \n",
       "Trailing Stratiform         Parallel Fed (Left)  Down-Shear Tilted Down-Shear Propagating       0.108681   \n",
       "Leading Stratiform          Rear Fed             Up-Shear Tilted   Down-Shear Propagating       0.108681   \n",
       "Trailing Stratiform         Parallel Fed (Left)  Up-Shear Tilted   Up-Shear Propagating         0.108681   \n",
       "Parallel Stratiform (Right) Parallel Fed (Right) Up-Shear Tilted   Up-Shear Propagating         0.108681   \n",
       "Trailing Stratiform         Parallel Fed (Left)  Down-Shear Tilted Up-Shear Propagating         0.081511   \n",
       "Parallel Stratiform (Right) Rear Fed             Up-Shear Tilted   Down-Shear Propagating       0.067926   \n",
       "Parallel Stratiform (Left)  Parallel Fed (Left)  Up-Shear Tilted   Up-Shear Propagating         0.054340   \n",
       "Parallel Stratiform (Right) Front Fed            Down-Shear Tilted Up-Shear Propagating         0.054340   \n",
       "Trailing Stratiform         Parallel Fed (Right) Down-Shear Tilted Up-Shear Propagating         0.040755   \n",
       "Parallel Stratiform (Left)  Front Fed            Up-Shear Tilted   Up-Shear Propagating         0.040755   \n",
       "Leading Stratiform          Parallel Fed (Left)  Up-Shear Tilted   Down-Shear Propagating       0.027170   \n",
       "                            Parallel Fed (Right) Down-Shear Tilted Up-Shear Propagating         0.027170   \n",
       "                                                 Up-Shear Tilted   Down-Shear Propagating       0.027170   \n",
       "Parallel Stratiform (Right) Front Fed            Up-Shear Tilted   Up-Shear Propagating         0.027170   \n",
       "Trailing Stratiform         Parallel Fed (Right) Down-Shear Tilted Down-Shear Propagating       0.013585   \n",
       "Parallel Stratiform (Left)  Parallel Fed (Right) Up-Shear Tilted   Down-Shear Propagating       0.013585   \n",
       "                                                 Down-Shear Tilted Up-Shear Propagating         0.013585   \n",
       "                            Front Fed            Down-Shear Tilted Up-Shear Propagating         0.013585   \n",
       "\n",
       "                                                                                             percent  \n",
       "offset_type                 inflow_type          tilt_dir          prop_dir                           \n",
       "Trailing Stratiform         Front Fed            Up-Shear Tilted   Down-Shear Propagating  72.690106  \n",
       "Leading Stratiform          Front Fed            Down-Shear Tilted Down-Shear Propagating   4.210957  \n",
       "Trailing Stratiform         Front Fed            Down-Shear Tilted Up-Shear Propagating     3.761243  \n",
       "                            Rear Fed             Up-Shear Tilted   Up-Shear Propagating     2.493868  \n",
       "                            Parallel Fed (Left)  Up-Shear Tilted   Down-Shear Propagating   1.839738  \n",
       "Parallel Stratiform (Left)  Parallel Fed (Left)  Down-Shear Tilted Down-Shear Propagating   1.471791  \n",
       "Parallel Stratiform (Right) Front Fed            Up-Shear Tilted   Down-Shear Propagating   1.267375  \n",
       "                            Parallel Fed (Left)  Up-Shear Tilted   Down-Shear Propagating   1.103843  \n",
       "                            Front Fed            Down-Shear Tilted Down-Shear Propagating   1.103843  \n",
       "Trailing Stratiform         Rear Fed             Down-Shear Tilted Down-Shear Propagating   0.981194  \n",
       "Leading Stratiform          Rear Fed             Down-Shear Tilted Up-Shear Propagating     0.817661  \n",
       "Parallel Stratiform (Left)  Front Fed            Down-Shear Tilted Down-Shear Propagating   0.776778  \n",
       "                                                 Up-Shear Tilted   Down-Shear Propagating   0.776778  \n",
       "Trailing Stratiform         Parallel Fed (Right) Up-Shear Tilted   Down-Shear Propagating   0.613246  \n",
       "Parallel Stratiform (Right) Parallel Fed (Left)  Down-Shear Tilted Up-Shear Propagating     0.531480  \n",
       "                            Rear Fed             Up-Shear Tilted   Up-Shear Propagating     0.408831  \n",
       "Leading Stratiform          Parallel Fed (Left)  Down-Shear Tilted Up-Shear Propagating     0.408831  \n",
       "                            Front Fed            Up-Shear Tilted   Up-Shear Propagating     0.408831  \n",
       "Parallel Stratiform (Right) Parallel Fed (Right) Down-Shear Tilted Down-Shear Propagating   0.408831  \n",
       "Leading Stratiform          Parallel Fed (Left)  Down-Shear Tilted Down-Shear Propagating   0.367948  \n",
       "Trailing Stratiform         Parallel Fed (Right) Up-Shear Tilted   Up-Shear Propagating     0.367948  \n",
       "Parallel Stratiform (Right) Rear Fed             Down-Shear Tilted Up-Shear Propagating     0.367948  \n",
       "Trailing Stratiform         Parallel Fed (Left)  Down-Shear Tilted Down-Shear Propagating   0.327065  \n",
       "Leading Stratiform          Rear Fed             Up-Shear Tilted   Down-Shear Propagating   0.327065  \n",
       "Trailing Stratiform         Parallel Fed (Left)  Up-Shear Tilted   Up-Shear Propagating     0.327065  \n",
       "Parallel Stratiform (Right) Parallel Fed (Right) Up-Shear Tilted   Up-Shear Propagating     0.327065  \n",
       "Trailing Stratiform         Parallel Fed (Left)  Down-Shear Tilted Up-Shear Propagating     0.245298  \n",
       "Parallel Stratiform (Right) Rear Fed             Up-Shear Tilted   Down-Shear Propagating   0.204415  \n",
       "Parallel Stratiform (Left)  Parallel Fed (Left)  Up-Shear Tilted   Up-Shear Propagating     0.163532  \n",
       "Parallel Stratiform (Right) Front Fed            Down-Shear Tilted Up-Shear Propagating     0.163532  \n",
       "Trailing Stratiform         Parallel Fed (Right) Down-Shear Tilted Up-Shear Propagating     0.122649  \n",
       "Parallel Stratiform (Left)  Front Fed            Up-Shear Tilted   Up-Shear Propagating     0.122649  \n",
       "Leading Stratiform          Parallel Fed (Left)  Up-Shear Tilted   Down-Shear Propagating   0.081766  \n",
       "                            Parallel Fed (Right) Down-Shear Tilted Up-Shear Propagating     0.081766  \n",
       "                                                 Up-Shear Tilted   Down-Shear Propagating   0.081766  \n",
       "Parallel Stratiform (Right) Front Fed            Up-Shear Tilted   Up-Shear Propagating     0.081766  \n",
       "Trailing Stratiform         Parallel Fed (Right) Down-Shear Tilted Down-Shear Propagating   0.040883  \n",
       "Parallel Stratiform (Left)  Parallel Fed (Right) Up-Shear Tilted   Down-Shear Propagating   0.040883  \n",
       "                                                 Down-Shear Tilted Up-Shear Propagating     0.040883  \n",
       "                            Front Fed            Down-Shear Tilted Up-Shear Propagating     0.040883  "
      ]
     },
     "execution_count": 252,
     "metadata": {},
     "output_type": "execute_result"
    }
   ],
   "source": [
    "counts_df = pd.DataFrame({'count': class_df.value_counts()})\n",
    "counts_df = counts_df.groupby(\n",
    "    ['offset_type', 'inflow_type', 'tilt_dir', 'prop_dir']).sum()\n",
    "percent = (counts_df['count']/counts_df['count'].sum()) * 100\n",
    "counts_df['total_percent'] = percent\n",
    "\n",
    "counts_df = counts_df.drop('Ambiguous', level='inflow_type')\n",
    "counts_df = counts_df.drop('Ambiguous', level='tilt_dir')\n",
    "counts_df = counts_df.drop('Ambiguous', level='prop_dir')\n",
    "percent = (counts_df['count']/counts_df['count'].sum()) * 100\n",
    "counts_df['percent'] = percent\n",
    "counts_df.sort_values('percent', axis=0, ascending=False)"
   ]
  },
  {
   "cell_type": "code",
   "execution_count": 114,
   "id": "b5caac4c",
   "metadata": {
    "ExecuteTime": {
     "end_time": "2021-12-16T03:16:43.749148Z",
     "start_time": "2021-12-16T03:16:43.717864Z"
    }
   },
   "outputs": [],
   "source": [
    "LS = test4.loc[[\n",
    "    ('Leading Stratiform', 'Front Fed'), \n",
    "    ('Trailing Stratiform', 'Rear Fed'), \n",
    "    ('Parallel Stratiform (Left)', 'Parallel Fed (Left)'),\n",
    "    ('Parallel Stratiform (Right)', 'Parallel Fed (Right)')]].sum()\n",
    "TS = test4.loc[[\n",
    "    ('Leading Stratiform', 'Rear Fed'), \n",
    "    ('Trailing Stratiform', 'Front Fed'), \n",
    "    ('Parallel Stratiform (Left)', 'Parallel Fed (Right)'),\n",
    "    ('Parallel Stratiform (Right)', 'Parallel Fed (Left)')]].sum()\n",
    "LeS = test4.loc[[\n",
    "    ('Leading Stratiform', 'Parallel Fed (Right)'), \n",
    "    ('Trailing Stratiform', 'Parallel Fed (Left)'), \n",
    "    ('Parallel Stratiform (Left)', 'Front Fed'),\n",
    "    ('Parallel Stratiform (Right)', 'Rear Fed')]].sum()\n",
    "RiS = test4.loc[[\n",
    "    ('Leading Stratiform', 'Parallel Fed (Left)'),\n",
    "    ('Trailing Stratiform', 'Parallel Fed (Right)'), \n",
    "    ('Parallel Stratiform (Right)', 'Front Fed'),\n",
    "    ('Parallel Stratiform (Left)', 'Rear Fed')]].sum()\n",
    "\n",
    "# test4.loc[[('Leading Stratiform', 'Front Fed'), ('Trailing Stratiform', 'Rear Fed')]].sum()\n",
    "\n",
    "# test3 = test3.drop(['Ambiguous (Shear Parallel to Stratiform Offset)', level=''])\n",
    "# test3.xs('Parallel Stratiform (Right)')\n",
    "# test2/test2.sum()\n",
    "# test.groupby(['offset_type']).sum().drop('Ambiguous (On Quadrant Boundary)', level='offset_type')/test.sum()"
   ]
  },
  {
   "cell_type": "code",
   "execution_count": 115,
   "id": "6ce7fe3c",
   "metadata": {
    "ExecuteTime": {
     "end_time": "2021-12-16T03:16:55.449675Z",
     "start_time": "2021-12-16T03:16:55.434340Z"
    }
   },
   "outputs": [
    {
     "name": "stdout",
     "output_type": "stream",
     "text": [
      "[counts    10.080152\n",
      "dtype: float64, counts    44.423312\n",
      "dtype: float64, counts    14.047004\n",
      "dtype: float64, counts    12.199429\n",
      "dtype: float64]\n"
     ]
    }
   ],
   "source": [
    "print([LS, TS, LeS, RiS])"
   ]
  },
  {
   "cell_type": "markdown",
   "id": "f928448d",
   "metadata": {},
   "source": [
    "# Calculate Some Statistics"
   ]
  },
  {
   "cell_type": "code",
   "execution_count": 294,
   "id": "f8820f43",
   "metadata": {
    "ExecuteTime": {
     "end_time": "2021-12-20T05:39:24.670774Z",
     "start_time": "2021-12-20T05:39:24.117288Z"
    }
   },
   "outputs": [
    {
     "data": {
      "image/png": "[encoded data removed]",
      "text/plain": [
       "<Figure size 864x252 with 2 Axes>"
      ]
     },
     "metadata": {
      "needs_background": "light"
     },
     "output_type": "display_data"
    }
   ],
   "source": [
    "totals = cl.plot_offsets(class_df)\n",
    "test.append('Base')\n",
    "TS.append(totals[0].values[0])\n",
    "LS.append(totals[1].values[0])\n",
    "LeS.append(totals[2].values[0])\n",
    "RiS.append(totals[3].values[0])\n",
    "total.append(totals[4].values[0])"
   ]
  },
  {
   "cell_type": "code",
   "execution_count": 295,
   "id": "d2354a33",
   "metadata": {
    "ExecuteTime": {
     "end_time": "2021-12-20T05:39:25.223711Z",
     "start_time": "2021-12-20T05:39:25.212583Z"
    }
   },
   "outputs": [],
   "source": [
    "offset_sensitivity_df = pd.DataFrame({\n",
    "    'Test': test, 'Trailing Stratiform': TS, \n",
    "    'Leading Stratiform': LS, 'Parallel Stratiform (Left)': LeS,\n",
    "    'Parallel Stratiform (Right)': RiS, 'Total': total})"
   ]
  },
  {
   "cell_type": "markdown",
   "id": "b70ab77d",
   "metadata": {},
   "source": [
    "## System Size"
   ]
  },
  {
   "cell_type": "code",
   "execution_count": 260,
   "id": "39afc2fd",
   "metadata": {
    "ExecuteTime": {
     "end_time": "2021-12-20T05:01:00.162611Z",
     "start_time": "2021-12-20T05:01:00.137963Z"
    }
   },
   "outputs": [
    {
     "data": {
      "text/plain": [
       "[counts    70.297463\n",
       " dtype: float64,\n",
       " counts    5.708661\n",
       " dtype: float64,\n",
       " counts    8.420822\n",
       " dtype: float64,\n",
       " counts    15.573053\n",
       " dtype: float64,\n",
       " counts    100.0\n",
       " dtype: float64]"
      ]
     },
     "execution_count": 260,
     "metadata": {},
     "output_type": "execute_result"
    }
   ],
   "source": [
    "[t/totals[-1]*100 for t in totals]"
   ]
  },
  {
   "cell_type": "code",
   "execution_count": 301,
   "id": "000b5c80",
   "metadata": {
    "ExecuteTime": {
     "end_time": "2021-12-20T05:47:53.813889Z",
     "start_time": "2021-12-20T05:47:53.786830Z"
    }
   },
   "outputs": [
    {
     "data": {
      "text/html": [
       "<div>\n",
       "<style scoped>\n",
       "    .dataframe tbody tr th:only-of-type {\n",
       "        vertical-align: middle;\n",
       "    }\n",
       "\n",
       "    .dataframe tbody tr th {\n",
       "        vertical-align: top;\n",
       "    }\n",
       "\n",
       "    .dataframe thead th {\n",
       "        text-align: right;\n",
       "    }\n",
       "</style>\n",
       "<table border=\"1\" class=\"dataframe\">\n",
       "  <thead>\n",
       "    <tr style=\"text-align: right;\">\n",
       "      <th></th>\n",
       "      <th>Test</th>\n",
       "      <th>Front Fed</th>\n",
       "      <th>Rear Fed</th>\n",
       "      <th>Parallel Fed (Left)</th>\n",
       "      <th>Parallel Fed (Right)</th>\n",
       "      <th>Ambiguous</th>\n",
       "      <th>Total</th>\n",
       "    </tr>\n",
       "  </thead>\n",
       "  <tbody>\n",
       "    <tr>\n",
       "      <th>0</th>\n",
       "      <td>Base</td>\n",
       "      <td>2661</td>\n",
       "      <td>350</td>\n",
       "      <td>536</td>\n",
       "      <td>235</td>\n",
       "      <td>790</td>\n",
       "      <td>4572</td>\n",
       "    </tr>\n",
       "  </tbody>\n",
       "</table>\n",
       "</div>"
      ],
      "text/plain": [
       "   Test  Front Fed  Rear Fed  Parallel Fed (Left)  Parallel Fed (Right)  \\\n",
       "0  Base       2661       350                  536                   235   \n",
       "\n",
       "   Ambiguous  Total  \n",
       "0        790   4572  "
      ]
     },
     "execution_count": 301,
     "metadata": {},
     "output_type": "execute_result"
    }
   ],
   "source": [
    "inflow_sensitivity_df"
   ]
  },
  {
   "cell_type": "code",
   "execution_count": 7,
   "id": "281ad849",
   "metadata": {
    "ExecuteTime": {
     "end_time": "2020-01-15T05:10:15.929267Z",
     "start_time": "2020-01-15T05:10:12.788707Z"
    }
   },
   "outputs": [],
   "source": [
    "# subset_logic = ~small_area\n",
    "# sub_tracks = tracks_obj.system_tracks[subset_logic]\n",
    "sub_tracks = tracks_obj.system_tracks\n",
    "\n",
    "sub_uids = list(sorted(set([int(sub_tracks.index.values[i][2]) for i in range(len(sub_tracks))])))\n",
    "sub_uids = [str(i) for i in sub_uids]\n",
    "\n",
    "# MCS_lengths = [len(sub_tracks.xs(i, level='uid').reset_index(level='time').index.values) for i in sub_uids]\n",
    "# max_MCS = max(MCS_lengths)"
   ]
  },
  {
   "cell_type": "code",
   "execution_count": 287,
   "id": "b77a2afb",
   "metadata": {
    "ExecuteTime": {
     "end_time": "2021-12-20T05:31:09.614116Z",
     "start_time": "2021-12-20T05:31:09.592483Z"
    }
   },
   "outputs": [
    {
     "data": {
      "text/html": [
       "<div>\n",
       "<style scoped>\n",
       "    .dataframe tbody tr th:only-of-type {\n",
       "        vertical-align: middle;\n",
       "    }\n",
       "\n",
       "    .dataframe tbody tr th {\n",
       "        vertical-align: top;\n",
       "    }\n",
       "\n",
       "    .dataframe thead th {\n",
       "        text-align: right;\n",
       "    }\n",
       "</style>\n",
       "<table border=\"1\" class=\"dataframe\">\n",
       "  <thead>\n",
       "    <tr style=\"text-align: right;\">\n",
       "      <th></th>\n",
       "      <th>Trailing Stratiform</th>\n",
       "      <th>Leading Stratiform</th>\n",
       "      <th>Parallel Stratiform (Left)</th>\n",
       "      <th>Parallel Stratiform (Right)</th>\n",
       "      <th>Total</th>\n",
       "    </tr>\n",
       "    <tr>\n",
       "      <th>Test</th>\n",
       "      <th></th>\n",
       "      <th></th>\n",
       "      <th></th>\n",
       "      <th></th>\n",
       "      <th></th>\n",
       "    </tr>\n",
       "  </thead>\n",
       "  <tbody>\n",
       "    <tr>\n",
       "      <th>Base</th>\n",
       "      <td>3214</td>\n",
       "      <td>261</td>\n",
       "      <td>385</td>\n",
       "      <td>712</td>\n",
       "      <td>4572</td>\n",
       "    </tr>\n",
       "  </tbody>\n",
       "</table>\n",
       "</div>"
      ],
      "text/plain": [
       "      Trailing Stratiform  Leading Stratiform  Parallel Stratiform (Left)  \\\n",
       "Test                                                                        \n",
       "Base                 3214                 261                         385   \n",
       "\n",
       "      Parallel Stratiform (Right)  Total  \n",
       "Test                                      \n",
       "Base                          712   4572  "
      ]
     },
     "execution_count": 287,
     "metadata": {},
     "output_type": "execute_result"
    }
   ],
   "source": [
    "sensitivity_df.set_index('Test')"
   ]
  },
  {
   "cell_type": "code",
   "execution_count": 264,
   "id": "0f70a625",
   "metadata": {
    "ExecuteTime": {
     "end_time": "2021-12-20T05:16:36.425054Z",
     "start_time": "2021-12-20T05:16:36.398508Z"
    }
   },
   "outputs": [
    {
     "data": {
      "text/plain": [
       "[counts    70.297463\n",
       " dtype: float64,\n",
       " counts    5.708661\n",
       " dtype: float64,\n",
       " counts    8.420822\n",
       " dtype: float64,\n",
       " counts    15.573053\n",
       " dtype: float64,\n",
       " counts    100.0\n",
       " dtype: float64]"
      ]
     },
     "execution_count": 264,
     "metadata": {},
     "output_type": "execute_result"
    }
   ],
   "source": [
    "[t/totals[-1]*100 for t in totals]"
   ]
  },
  {
   "cell_type": "code",
   "execution_count": 14,
   "id": "e3d40baf",
   "metadata": {
    "ExecuteTime": {
     "end_time": "2020-01-15T05:23:44.144088Z",
     "start_time": "2020-01-15T05:21:24.109307Z"
    }
   },
   "outputs": [
    {
     "name": "stdout",
     "output_type": "stream",
     "text": [
      "  8%|▊         | 2028/25948 [00:10<02:02, 194.53it/s]Error with system 2038.\n",
      " 16%|█▌        | 4129/25948 [00:22<02:09, 169.05it/s]Error with system 4135.\n",
      " 25%|██▌       | 6546/25948 [00:35<01:43, 187.20it/s]Error with system 6559.\n",
      " 31%|███▏      | 8160/25948 [00:43<01:33, 190.34it/s]Error with system 8175.\n",
      " 42%|████▏     | 10966/25948 [00:58<01:18, 191.41it/s]Error with system 10977.\n",
      " 51%|█████     | 13151/25948 [01:10<01:06, 191.17it/s]Error with system 13155.\n",
      " 54%|█████▍    | 14048/25948 [01:15<01:03, 187.29it/s]Error with system 14060.\n",
      " 68%|██████▊   | 17520/25948 [01:33<00:44, 189.80it/s]Error with system 17529.\n",
      " 75%|███████▍  | 19435/25948 [01:44<00:34, 189.19it/s]Error with system 19450.\n",
      " 82%|████████▏ | 21399/25948 [01:54<00:23, 191.38it/s]Error with system 21406.\n",
      " 92%|█████████▏| 23871/25948 [02:07<00:10, 192.36it/s]Error with system 23880.\n",
      "100%|██████████| 25948/25948 [02:18<00:00, 186.83it/s]\n"
     ]
    }
   ],
   "source": [
    "# Create 3 lists with lengths the lifetime of longest object.\n",
    "[large, small, medium, nb, totals] = [np.zeros(100) for i in range(5)]\n",
    "\n",
    "from tqdm import tqdm\n",
    "\n",
    "for i in tqdm(sub_uids, file=sys.stdout, position=0, leave=True):\n",
    "    \n",
    "#     import pdb\n",
    "#     pdb.set_trace()\n",
    "    \n",
    "    obj = sub_tracks.xs(i, level='uid').reset_index(level='time')\n",
    "    cat = categories.xs(i, level='uid').reset_index(level='time')\n",
    "    scans = obj.index.values\n",
    "    scan_label = scans - min(scans)\n",
    "    \n",
    "    # Define classifications\n",
    "    large_area = cat['large_area'].values\n",
    "    small_area = cat['small_area'].values\n",
    "    medium_area = ~large_area & ~small_area\n",
    "    not_border = cat['not_border'].values | cat['not_border_0'].values\n",
    "    \n",
    "    large_inds = scan_label[large_area]\n",
    "    medium_inds = scan_label[medium_area]\n",
    "    small_inds = scan_label[small_area]\n",
    "    not_border_inds = scan_label[not_border]\n",
    "    totals_inds = scan_label.tolist()\n",
    "    \n",
    "    # Break down sig_tilt categories\n",
    "#     forward_tilt = ((-45 <= tilts) & (tilts <= 45)) \n",
    "#     backward_tilt = ((-135 >= tilts) | (tilts >= 135)) \n",
    "\n",
    "#     fwd_inds = scan_label[np.argwhere(forward_tilt).flatten().tolist()].tolist()\n",
    "#     bwd_inds = scan_label[np.argwhere(backward_tilt).flatten().tolist()].tolist()\n",
    "#     pll_inds = scan_label[np.argwhere(~backward_tilt & ~forward_tilt).flatten().tolist()].tolist()\n",
    "\n",
    "    # Found error with large com dataset - object 14060 jumps across seasons\n",
    "    try:\n",
    "        large[large_inds] += 1\n",
    "        small[small_inds] += 1\n",
    "        medium[medium_inds] += 1\n",
    "        nb[not_border_inds] += 1\n",
    "        totals[totals_inds] += 1\n",
    "    except:\n",
    "        print('Error with system {}.'.format(i))"
   ]
  },
  {
   "cell_type": "code",
   "execution_count": 297,
   "id": "74016bd6",
   "metadata": {
    "ExecuteTime": {
     "end_time": "2021-12-20T05:39:28.837958Z",
     "start_time": "2021-12-20T05:39:28.254910Z"
    }
   },
   "outputs": [
    {
     "data": {
      "image/png": "[encoded data removed]",
      "text/plain": [
       "<Figure size 864x252 with 2 Axes>"
      ]
     },
     "metadata": {
      "needs_background": "light"
     },
     "output_type": "display_data"
    }
   ],
   "source": [
    "totals = cl.plot_inflows(class_df)\n",
    "FF.append(totals[0].values[0])\n",
    "RF.append(totals[1].values[0])\n",
    "LeF.append(totals[2].values[0])\n",
    "RiF.append(totals[3].values[0])\n",
    "A.append(totals[4].values[0])\n",
    "total.append(totals[5].values[0])"
   ]
  },
  {
   "cell_type": "code",
   "execution_count": 298,
   "id": "b8ea2b17",
   "metadata": {
    "ExecuteTime": {
     "end_time": "2021-12-20T05:39:45.975551Z",
     "start_time": "2021-12-20T05:39:45.961382Z"
    }
   },
   "outputs": [],
   "source": [
    "inflow_sensitivity_df = pd.DataFrame({\n",
    "    'Test': test, 'Front Fed': FF, \n",
    "    'Rear Fed': RF, 'Parallel Fed (Left)': LeF,\n",
    "    'Parallel Fed (Right)': RiF, 'Total': total})"
   ]
  },
  {
   "cell_type": "code",
   "execution_count": 17,
   "id": "e27debc0",
   "metadata": {
    "ExecuteTime": {
     "end_time": "2020-01-15T05:26:36.418795Z",
     "start_time": "2020-01-15T05:26:36.109386Z"
    }
   },
   "outputs": [
    {
     "data": {
      "image/png": "[encoded data removed]",
      "text/plain": [
       "<Figure size 432x288 with 1 Axes>"
      ]
     },
     "metadata": {
      "needs_background": "light"
     },
     "output_type": "display_data"
    }
   ],
   "source": [
    "plt.plot(np.arange(30,300,10), large[3:30], label='Large count')\n",
    "plt.plot(np.arange(30,300,10), medium[3:30], label='Medium count')\n",
    "plt.plot(np.arange(30,300,10), small[3:30], label='Small count')\n",
    "plt.plot(np.arange(30,300,10), nb[3:30], label='No Border count')\n",
    "plt.plot(np.arange(30,300,10), totals[3:30], label='Total count')\n",
    "plt.xticks(np.arange(30,300,30))\n",
    "plt.ylabel('Count [-]')\n",
    "plt.xlabel('Time since Initiation [m]')\n",
    "plt.legend()\n",
    "plt.savefig('/g/data/w40/esh563/CPOL_analysis/figures/TINT/size_counts.png')"
   ]
  },
  {
   "cell_type": "code",
   "execution_count": 22,
   "id": "e6eb2a4a",
   "metadata": {
    "ExecuteTime": {
     "end_time": "2020-01-15T05:32:26.342906Z",
     "start_time": "2020-01-15T05:32:25.949155Z"
    }
   },
   "outputs": [
    {
     "data": {
      "image/png": "[encoded data removed]",
      "text/plain": [
       "<Figure size 720x360 with 1 Axes>"
      ]
     },
     "metadata": {
      "needs_background": "light"
     },
     "output_type": "display_data"
    }
   ],
   "source": [
    "plt.figure(figsize=(10,5))\n",
    "plt.plot(np.arange(30,600,10), (large/totals)[3:60], label='Large count')\n",
    "plt.plot(np.arange(30,600,10), (medium/totals)[3:60], label='Medium count')\n",
    "plt.plot(np.arange(30,600,10), (small/totals)[3:60], label='Small count')\n",
    "plt.plot(np.arange(30,600,10), (nb/totals)[3:60], label='No Border count')\n",
    "plt.xticks(np.arange(30,600,30))\n",
    "plt.ylabel('Ratio [-]')\n",
    "plt.xlabel('Time since Initiation [m]')\n",
    "plt.legend()\n",
    "# Note that we don't really know the start times of the systems!\n",
    "plt.savefig('/g/data/w40/esh563/CPOL_analysis/figures/TINT/size_ratios.png')"
   ]
  },
  {
   "cell_type": "markdown",
   "id": "cae6f4cf",
   "metadata": {},
   "source": [
    "## Training Lines"
   ]
  },
  {
   "cell_type": "code",
   "execution_count": 12,
   "id": "710f7b97",
   "metadata": {
    "ExecuteTime": {
     "end_time": "2020-05-18T05:34:48.952512Z",
     "start_time": "2020-05-18T05:34:48.918319Z"
    }
   },
   "outputs": [],
   "source": [
    "subset_logic = (categories['not_border'] & categories['not_border_0']\n",
    "                & ~categories['large_area'] & ~categories['small_area'] \n",
    "                & categories['linear'] & ~categories['stationary']\n",
    "                & categories['sig_vel_mag'])\n",
    "sub_tracks = tracks_obj.system_tracks[subset_logic]\n",
    "sub_cat = categories[subset_logic]\n",
    "# sub_tracks = tracks_obj.system_tracks\n",
    "# sub_cat = categories\n",
    "\n",
    "sub_uids = list(sorted(set([int(sub_tracks.index.values[i][2])\n",
    "                            for i in range(len(sub_tracks))])))\n",
    "sub_uids = [str(i) for i in sub_uids]\n",
    "\n",
    "# MCS_lengths = [len(sub_tracks.xs(i, level='uid').reset_index(level='time').index.values) for i in sub_uids]\n",
    "# max_MCS = max(MCS_lengths)"
   ]
  },
  {
   "cell_type": "code",
   "execution_count": 13,
   "id": "f0c46aad",
   "metadata": {
    "ExecuteTime": {
     "end_time": "2020-05-18T05:34:50.259768Z",
     "start_time": "2020-05-18T05:34:49.700963Z"
    }
   },
   "outputs": [
    {
     "name": "stdout",
     "output_type": "stream",
     "text": [
      "100%|██████████| 91/91 [00:00<00:00, 170.20it/s]\n"
     ]
    }
   ],
   "source": [
    "# Create 3 lists with lengths the lifetime of longest object.\n",
    "[par, perp, totals] = [np.zeros(100) for i in range(3)]\n",
    "\n",
    "from tqdm import tqdm\n",
    "\n",
    "for i in tqdm(sub_uids, file=sys.stdout, position=0, leave=True):\n",
    "       \n",
    "    obj = sub_tracks.xs(i, level='uid').reset_index(level='time')\n",
    "    cat = sub_cat.xs(i, level='uid').reset_index(level='time')\n",
    "    scans = obj.index.values\n",
    "    scan_label = scans - min(scans)\n",
    "    \n",
    "    # Define classifications\n",
    "    perp_align = cat['perp_align'].values\n",
    "    par_align = cat['par_align'].values\n",
    "        \n",
    "    par_inds = scan_label[par_align]\n",
    "    perp_inds = scan_label[perp_align]\n",
    "    totals_inds = scan_label.tolist()\n",
    "\n",
    "    # Found error with large com dataset - object 14060 jumps across seasons\n",
    "    try:\n",
    "        par[par_inds] += 1\n",
    "        perp[perp_inds] += 1\n",
    "        totals[totals_inds] += 1\n",
    "    except:\n",
    "        print('Error with system {}.'.format(i))"
   ]
  },
  {
   "cell_type": "code",
   "execution_count": 14,
   "id": "b27134b2",
   "metadata": {
    "ExecuteTime": {
     "end_time": "2020-05-18T05:34:51.456811Z",
     "start_time": "2020-05-18T05:34:51.154724Z"
    }
   },
   "outputs": [
    {
     "data": {
      "image/png": "[encoded data removed]",
      "text/plain": [
       "<Figure size 432x288 with 1 Axes>"
      ]
     },
     "metadata": {
      "needs_background": "light"
     },
     "output_type": "display_data"
    }
   ],
   "source": [
    "plt.plot(np.arange(30,300,10), perp[3:30], label='Perpendicular count')\n",
    "plt.plot(np.arange(30,300,10), par[3:30], label='Parallel count')\n",
    "# plt.plot(np.arange(30,300,10), totals[3:30], label='Total count')\n",
    "plt.xticks(np.arange(30,300,30))\n",
    "plt.ylabel('Count [-]')\n",
    "plt.xlabel('Time since Initiation [m]')\n",
    "plt.legend()\n",
    "plt.savefig('/g/data/w40/esh563/CPOL_analysis/figures/TINT/size_counts.png')"
   ]
  },
  {
   "cell_type": "code",
   "execution_count": 15,
   "id": "d520d345",
   "metadata": {
    "ExecuteTime": {
     "end_time": "2020-05-18T05:34:58.742384Z",
     "start_time": "2020-05-18T05:34:58.450068Z"
    }
   },
   "outputs": [
    {
     "data": {
      "image/png": "[encoded data removed]",
      "text/plain": [
       "<Figure size 432x288 with 1 Axes>"
      ]
     },
     "metadata": {
      "needs_background": "light"
     },
     "output_type": "display_data"
    }
   ],
   "source": [
    "plt.plot(np.arange(30,300,10), (perp/totals)[3:30], label='Perpendicular ratio')\n",
    "plt.plot(np.arange(30,300,10), (par/totals)[3:30], label='Parallel ratio')\n",
    "plt.xticks(np.arange(30,300,30))\n",
    "plt.ylabel('Count [-]')\n",
    "plt.xlabel('Time since Initiation [m]')\n",
    "plt.legend()\n",
    "plt.savefig('/g/data/w40/esh563/CPOL_analysis/figures/TINT/size_counts.png')"
   ]
  },
  {
   "cell_type": "markdown",
   "id": "755e119f",
   "metadata": {},
   "source": [
    "## Updraft Tilt versus Stratiform Tilt"
   ]
  },
  {
   "cell_type": "code",
   "execution_count": 29,
   "id": "4d715a3c",
   "metadata": {
    "ExecuteTime": {
     "end_time": "2019-11-07T00:45:04.691216Z",
     "start_time": "2019-11-07T00:45:04.666793Z"
    }
   },
   "outputs": [],
   "source": [
    "def calc_mean_max_updrafts(system_tracks, min_height_ind = 20):\n",
    "    ud = system_tracks['updrafts']\n",
    "    ud_tilt = []\n",
    "    tallest_ud = []\n",
    "    mean_ud = []\n",
    "    no_tilt=0\n",
    "    for i in range(len(ud)):\n",
    "        ud_i = ud.iloc[i]\n",
    "        ud_tilt_i = []\n",
    "        for j in range(len(ud_i)):\n",
    "            if ud_i[j][-1][0] >= min_height_ind:\n",
    "                ud_tilt_i_j = (ud_i[j][-1]-ud_i[j][0])*(.5, 2.5, 2.5)\n",
    "                if np.all(ud_tilt_i_j[1:3] == [0,0]):\n",
    "                    # Count updrafts with no tilt seperately\n",
    "                    no_tilt+=1\n",
    "                else:\n",
    "                    ud_tilt_i.append(ud_tilt_i_j)\n",
    "       \n",
    "        if ud_tilt_i != []:\n",
    "            ud_tilt.append(ud_tilt_i)\n",
    "            mean_ud.append(np.nanmean(np.array(ud_tilt_i), axis=0))\n",
    "        else:\n",
    "            ud_tilt.append(np.ones(3)*np.nan)\n",
    "            mean_ud.append(np.ones(3)*np.nan)\n",
    "        try:\n",
    "            tallest_ind = np.argmax(np.array(ud_tilt_i)[:,0])\n",
    "            tallest_ud.append(np.array(ud_tilt_i)[tallest_ind,:])\n",
    "        except:\n",
    "            tallest_ud.append(np.ones(3)*np.nan)\n",
    "        \n",
    "    return ud_tilt, mean_ud, tallest_ud"
   ]
  },
  {
   "cell_type": "markdown",
   "id": "ab63fff0",
   "metadata": {},
   "source": [
    "### Tallest Updraft"
   ]
  },
  {
   "cell_type": "code",
   "execution_count": null,
   "id": "32173670",
   "metadata": {},
   "outputs": [],
   "source": []
  },
  {
   "cell_type": "code",
   "execution_count": 155,
   "id": "bba9a948",
   "metadata": {
    "ExecuteTime": {
     "end_time": "2021-12-20T03:10:13.084080Z",
     "start_time": "2021-12-20T03:10:13.041554Z"
    }
   },
   "outputs": [],
   "source": [
    "q_str = \"(offset_type == 'Trailing Stratiform'\"\n",
    "q_str += \"and inflow_type == 'Front Fed')\"\n",
    "q_str += \"or (offset_type == 'Leading Stratiform'\"\n",
    "q_str += \"and inflow_type == 'Rear Fed')\"\n",
    "q_str += \"or (offset_type == 'Parallel Stratiform (Left)'\"\n",
    "q_str += \"and inflow_type == 'Parallel Fed (Right)')\"\n",
    "q_str += \"or (offset_type == 'Parallel Stratiform (Right)'\"\n",
    "q_str += \"and inflow_type == 'Parallel Fed (Left)')\"\n",
    "TS = counts_df.query(q_str)\n",
    "\n",
    "q_str = \"(offset_type == 'Leading Stratiform'\"\n",
    "q_str += \"and inflow_type == 'Front Fed')\"\n",
    "q_str += \"or (offset_type == 'Trailing Stratiform'\"\n",
    "q_str += \"and inflow_type == 'Rear Fed')\"\n",
    "q_str += \"or (offset_type == 'Parallel Stratiform (Left)'\"\n",
    "q_str += \"and inflow_type == 'Parallel Fed (Left)')\"\n",
    "q_str += \"or (offset_type == 'Parallel Stratiform (Right)'\"\n",
    "q_str += \"and inflow_type == 'Parallel Fed (Right)')\"\n",
    "LS = counts_df.query(q_str)\n",
    "\n",
    "q_str = \"(offset_type == 'Leading Stratiform'\"\n",
    "q_str += \"and inflow_type == 'Parallel Fed (Right)')\"\n",
    "q_str += \"or (offset_type == 'Trailing Stratiform'\"\n",
    "q_str += \"and inflow_type == 'Parallel Fed (Left)')\"\n",
    "q_str += \"or (offset_type == 'Parallel Stratiform (Left)'\"\n",
    "q_str += \"and inflow_type == 'Front Fed')\"\n",
    "q_str += \"or (offset_type == 'Parallel Stratiform (Right)'\"\n",
    "q_str += \"and inflow_type == 'Rear Fed (Right)')\"\n",
    "LeS = counts_df.query(q_str)\n",
    "\n",
    "q_str = \"(offset_type == 'Leading Stratiform'\"\n",
    "q_str += \"and inflow_type == 'Parallel Fed (Left)')\"\n",
    "q_str += \"or (offset_type == 'Trailing Stratiform'\"\n",
    "q_str += \"and inflow_type == 'Parallel Fed (Right)')\"\n",
    "q_str += \"or (offset_type == 'Parallel Stratiform (Right)'\"\n",
    "q_str += \"and inflow_type == 'Front Fed')\"\n",
    "q_str += \"or (offset_type == 'Parallel Stratiform (Left)'\"\n",
    "q_str += \"and inflow_type == 'Rear Fed')\"\n",
    "RiS = counts_df.query(q_str)"
   ]
  },
  {
   "cell_type": "code",
   "execution_count": 33,
   "id": "ae44e4b1",
   "metadata": {
    "ExecuteTime": {
     "end_time": "2019-11-07T00:48:22.194683Z",
     "start_time": "2019-11-07T00:48:20.360854Z"
    }
   },
   "outputs": [],
   "source": [
    "subset_logic = sig_area & not_border & sig_tilt_mag & not_border_0 & sig_vel_mag\n",
    "sub_tracks = tracks_obj.system_tracks[subset_logic]\n",
    "ud_tilt, mean_ud, tallest_ud = calc_mean_max_updrafts(sub_tracks)\n",
    "\n",
    "num = np.array(tallest_ud)\n",
    "den = np.tile(np.array(tallest_ud)[:,0], (3,1)).transpose()\n",
    "ud_norm = (num/den)[:,1:]\n",
    "ud_mag = np.sqrt(ud_norm[:,0] ** 2 + ud_norm[:,1] ** 2)\n",
    "ud_dir = np.arctan2(ud_norm[:,0], ud_norm[:,1])\n",
    "ud_dir = np.rad2deg(ud_dir)\n",
    "\n",
    "vel_dir = sub_tracks['vel_dir'].values\n",
    "tilt_dir = sub_tracks['tilt_dir'].values\n",
    "\n",
    "sys_rel_tilt_dir = np.mod(tilt_dir - vel_dir, 360)\n",
    "sys_rel_tilt_dir = np.round(sys_rel_tilt_dir, 3)\n",
    "\n",
    "sys_rel_ud_tilt_dir = np.mod(ud_dir - vel_dir, 360)\n",
    "sys_rel_ud_tilt_dir = np.round(sys_rel_ud_tilt_dir, 3)"
   ]
  },
  {
   "cell_type": "code",
   "execution_count": 149,
   "id": "a4a4494f",
   "metadata": {
    "ExecuteTime": {
     "end_time": "2021-12-20T01:47:41.993121Z",
     "start_time": "2021-12-20T01:47:41.980313Z"
    }
   },
   "outputs": [
    {
     "data": {
      "text/plain": [
       "0.44423311988559894"
      ]
     },
     "execution_count": 149,
     "metadata": {},
     "output_type": "execute_result"
    }
   ],
   "source": [
    "3270.000000/(5944.000000/.80749898)"
   ]
  },
  {
   "cell_type": "code",
   "execution_count": null,
   "id": "d2dc8464",
   "metadata": {},
   "outputs": [],
   "source": []
  },
  {
   "cell_type": "code",
   "execution_count": 35,
   "id": "dbe73615",
   "metadata": {
    "ExecuteTime": {
     "end_time": "2019-11-07T00:48:43.063922Z",
     "start_time": "2019-11-07T00:48:42.755514Z"
    }
   },
   "outputs": [
    {
     "data": {
      "image/png": "[encoded data removed]",
      "text/plain": [
       "<Figure size 504x504 with 2 Axes>"
      ]
     },
     "metadata": {
      "needs_background": "light"
     },
     "output_type": "display_data"
    }
   ],
   "source": [
    "vel_dir = sub_tracks['vel_dir'].values\n",
    "vel_mag = np.sqrt(sub_tracks['u_shift']**2 + sub_tracks['v_shift']**2).values\n",
    "tilt_dir = sub_tracks['tilt_dir'].values\n",
    "bins = np.arange(0,360+15,15)\n",
    "ticks = np.arange(0,360+30,30)\n",
    "\n",
    "fig = plt.figure(figsize=[7,7])\n",
    "ax = fig.add_subplot(111)\n",
    "h = ax.hist2d(sys_rel_tilt_dir, sys_rel_ud_tilt_dir, bins=bins, range=[[0, 360], [0, 360]], cmap='Reds')\n",
    "# ax.scatter(tilt_dir, ud_dir, s=0.75)\n",
    "plt.xlabel('Stratiform Tilt Direction')\n",
    "plt.ylabel('Tallest Updraft Tilt Direction')\n",
    "plt.title('Velocity Relative Tilt Directions')\n",
    "plt.xlim([0, 360])\n",
    "plt.ylim([0, 360])\n",
    "plt.xticks(ticks)\n",
    "plt.yticks(ticks)\n",
    "ax.set_aspect('equal')\n",
    "cb = plt.colorbar(h[3], ax=ax)\n",
    "cb.set_label('Count')"
   ]
  },
  {
   "cell_type": "markdown",
   "id": "0c177457",
   "metadata": {},
   "source": [
    "### Mean Updraft"
   ]
  },
  {
   "cell_type": "code",
   "execution_count": 36,
   "id": "44420f2a",
   "metadata": {
    "ExecuteTime": {
     "end_time": "2019-11-07T00:49:36.630871Z",
     "start_time": "2019-11-07T00:49:34.741483Z"
    }
   },
   "outputs": [],
   "source": [
    "subset_logic = sig_area & not_border & sig_tilt_mag & not_border_0 & sig_vel_mag\n",
    "sub_tracks = tracks_obj.system_tracks[subset_logic]\n",
    "ud_tilt, mean_ud, tallest_ud = calc_mean_max_updrafts(sub_tracks)\n",
    "\n",
    "num = np.array(mean_ud)\n",
    "den = np.tile(np.array(mean_ud)[:,0], (3,1)).transpose()\n",
    "ud_norm = (num/den)[:,1:]\n",
    "ud_mag = np.sqrt(ud_norm[:,0] ** 2 + ud_norm[:,1] ** 2)\n",
    "ud_dir = np.arctan2(ud_norm[:,0], ud_norm[:,1])\n",
    "ud_dir = np.rad2deg(ud_dir)\n",
    "\n",
    "vel_dir = sub_tracks['vel_dir'].values\n",
    "tilt_dir = sub_tracks['tilt_dir'].values\n",
    "\n",
    "sys_rel_tilt_dir = np.mod(tilt_dir - vel_dir, 360)\n",
    "sys_rel_tilt_dir = np.round(sys_rel_tilt_dir, 3)\n",
    "\n",
    "sys_rel_ud_tilt_dir = np.mod(ud_dir - vel_dir, 360)\n",
    "sys_rel_ud_tilt_dir = np.round(sys_rel_ud_tilt_dir, 3)"
   ]
  },
  {
   "cell_type": "code",
   "execution_count": 38,
   "id": "0098a6e5",
   "metadata": {
    "ExecuteTime": {
     "end_time": "2019-11-07T00:49:47.757230Z",
     "start_time": "2019-11-07T00:49:47.448717Z"
    }
   },
   "outputs": [
    {
     "data": {
      "image/png": "[encoded data removed]",
      "text/plain": [
       "<Figure size 504x504 with 2 Axes>"
      ]
     },
     "metadata": {
      "needs_background": "light"
     },
     "output_type": "display_data"
    }
   ],
   "source": [
    "vel_dir = sub_tracks['vel_dir'].values\n",
    "vel_mag = np.sqrt(sub_tracks['u_shift']**2 + sub_tracks['v_shift']**2).values\n",
    "tilt_dir = sub_tracks['tilt_dir'].values\n",
    "bins = np.arange(0,360+15,15)\n",
    "ticks = np.arange(0,360+30,30)\n",
    "\n",
    "fig = plt.figure(figsize=[7,7])\n",
    "ax = fig.add_subplot(111)\n",
    "h = ax.hist2d(sys_rel_tilt_dir, sys_rel_ud_tilt_dir, bins=bins, range=[[0, 360], [0, 360]], cmap='Reds')\n",
    "# ax.scatter(tilt_dir, ud_dir, s=0.75)\n",
    "plt.xlabel('Stratiform Tilt Direction')\n",
    "plt.ylabel('Mean Updraft Tilt Direction')\n",
    "plt.title('Velocity Relative Tilt Directions')\n",
    "plt.xlim([0, 360])\n",
    "plt.ylim([0, 360])\n",
    "plt.xticks(ticks)\n",
    "plt.yticks(ticks)\n",
    "ax.set_aspect('equal')\n",
    "cb = plt.colorbar(h[3], ax=ax)\n",
    "cb.set_label('Count')"
   ]
  },
  {
   "cell_type": "code",
   "execution_count": 11,
   "id": "cb354e52",
   "metadata": {
    "ExecuteTime": {
     "end_time": "2021-11-17T00:48:40.455655Z",
     "start_time": "2021-11-17T00:48:40.443180Z"
    },
    "scrolled": true
   },
   "outputs": [],
   "source": [
    "base_dir = '/media/shorte1/Ewan\\'s Hard Drive/phd/data/CPOL/'\n",
    "save_dir = '/home/student.unimelb.edu.au/shorte1/Documents/TINT_tracks/'\n",
    "fig_dir = '/home/student.unimelb.edu.au/shorte1/Documents/TINT_figures/'\n",
    "ERA5_dir = '/media/shorte1/Ewan\\'s Hard Drive/phd/data/era5/'\n",
    "ERA5_dir += 'pressure-levels/reanalysis/'\n",
    "WRF_dir = '/media/shorte1/Ewan\\'s Hard Drive/phd/data/caine_WRF_data/'"
   ]
  },
  {
   "cell_type": "markdown",
   "id": "314a046d",
   "metadata": {
    "ExecuteTime": {
     "end_time": "2021-11-17T03:23:35.111331Z",
     "start_time": "2021-11-17T03:23:35.099151Z"
    }
   },
   "source": [
    "## Rain"
   ]
  },
  {
   "cell_type": "code",
   "execution_count": 9,
   "id": "e7a1bf7e",
   "metadata": {
    "ExecuteTime": {
     "end_time": "2020-05-18T05:33:35.574595Z",
     "start_time": "2020-05-18T05:33:27.074372Z"
    }
   },
   "outputs": [],
   "source": [
    "uids = list(set([tracks_obj.system_tracks.index[i][2] for i in range(len(tracks_obj.system_tracks))]))\n",
    "\n",
    "ratio = []\n",
    "tot_rain = []\n",
    "\n",
    "for u in uids:\n",
    "    hours = len(tracks_obj.system_tracks.xs(u, level='uid'))*1/6\n",
    "    r = categories.xs(u, level='uid')['par_align'].sum()/len(tracks_obj.system_tracks.xs(u, level='uid'))\n",
    "    ratio.append(r)\n",
    "    tot_rain.append(tracks_obj.system_tracks.xs(u, level='uid')['tot_rain'][-1])\n",
    "# tracks_obj.system_tracks.xs('0', level='uid')['vel_dir']"
   ]
  },
  {
   "cell_type": "code",
   "execution_count": 10,
   "id": "15d8f78c",
   "metadata": {
    "ExecuteTime": {
     "end_time": "2020-05-18T05:33:37.145779Z",
     "start_time": "2020-05-18T05:33:36.906558Z"
    }
   },
   "outputs": [
    {
     "data": {
      "text/plain": [
       "<matplotlib.collections.PathCollection at 0x7fc85f39c550>"
      ]
     },
     "execution_count": 10,
     "metadata": {},
     "output_type": "execute_result"
    },
    {
     "data": {
      "image/png": "[encoded data removed]",
      "text/plain": [
       "<Figure size 432x288 with 1 Axes>"
      ]
     },
     "metadata": {
      "needs_background": "light"
     },
     "output_type": "display_data"
    }
   ],
   "source": [
    "tot_rain = np.array(tot_rain)\n",
    "tot_rain[tot_rain>500]=np.nan\n",
    "plt.scatter(ratio, tot_rain)"
   ]
  },
  {
   "cell_type": "code",
   "execution_count": 73,
   "id": "53e97580",
   "metadata": {
    "ExecuteTime": {
     "end_time": "2020-01-23T06:15:06.651380Z",
     "start_time": "2020-01-23T06:15:06.641771Z"
    }
   },
   "outputs": [
    {
     "data": {
      "text/plain": [
       "Series([], Name: par_align, dtype: bool)"
      ]
     },
     "execution_count": 73,
     "metadata": {},
     "output_type": "execute_result"
    }
   ],
   "source": [
    "sub_cat['par_align'].groupby(level='uid').sum().sort_values(ascending=False)[:20]"
   ]
  },
  {
   "cell_type": "code",
   "execution_count": null,
   "id": "dfcfa7e1",
   "metadata": {},
   "outputs": [],
   "source": [
    "## Rain\n",
    "\n",
    "uids = list(set([tracks_obj.system_tracks.index[i][2] for i in range(len(tracks_obj.system_tracks))]))\n",
    "\n",
    "ratio = []\n",
    "tot_rain = []\n",
    "\n",
    "for u in uids:\n",
    "    hours = len(tracks_obj.system_tracks.xs(u, level='uid'))*1/6\n",
    "    r = categories.xs(u, level='uid')['par_align'].sum()/len(tracks_obj.system_tracks.xs(u, level='uid'))\n",
    "    ratio.append(r)\n",
    "    tot_rain.append(tracks_obj.system_tracks.xs(u, level='uid')['tot_rain'][-1])\n",
    "# tracks_obj.system_tracks.xs('0', level='uid')['vel_dir']\n",
    "\n",
    "tot_rain = np.array(tot_rain)\n",
    "tot_rain[tot_rain>500]=np.nan\n",
    "plt.scatter(ratio, tot_rain)\n",
    "\n",
    "sub_cat['par_align'].groupby(level='uid').sum().sort_values(ascending=False)[:20]"
   ]
  }
 ],
 "metadata": {
  "kernelspec": {
   "display_name": "Python 3 (ipykernel)",
   "language": "python",
   "name": "python3"
  },
  "language_info": {
   "codemirror_mode": {
    "name": "ipython",
    "version": 3
   },
   "file_extension": ".py",
   "mimetype": "text/x-python",
   "name": "python",
   "nbconvert_exporter": "python",
   "pygments_lexer": "ipython3",
   "version": "3.8.10"
  },
  "toc": {
   "base_numbering": 1,
   "nav_menu": {},
   "number_sections": true,
   "sideBar": true,
   "skip_h1_title": false,
   "title_cell": "Table of Contents",
   "title_sidebar": "Contents",
   "toc_cell": false,
   "toc_position": {},
   "toc_section_display": true,
   "toc_window_display": false
  }
 },
 "nbformat": 4,
 "nbformat_minor": 5
}
