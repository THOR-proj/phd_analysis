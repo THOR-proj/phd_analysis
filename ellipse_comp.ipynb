{
 "cells": [
  {
   "cell_type": "code",
   "execution_count": 1,
   "id": "223e9148",
   "metadata": {
    "ExecuteTime": {
     "end_time": "2022-07-05T01:14:10.292393Z",
     "start_time": "2022-07-05T01:14:07.347514Z"
    }
   },
   "outputs": [
    {
     "name": "stdout",
     "output_type": "stream",
     "text": [
      "\n",
      "## You are using the Python ARM Radar Toolkit (Py-ART), an open source\n",
      "## library for working with weather radar data. Py-ART is partly\n",
      "## supported by the U.S. Department of Energy as part of the Atmospheric\n",
      "## Radiation Measurement (ARM) Climate Research Facility, an Office of\n",
      "## Science user facility.\n",
      "##\n",
      "## If you use this software to prepare a publication, please cite:\n",
      "##\n",
      "##     JJ Helmus and SM Collis, JORS 2016, doi: 10.5334/jors.119\n",
      "\n"
     ]
    },
    {
     "name": "stderr",
     "output_type": "stream",
     "text": [
      "/home/student.unimelb.edu.au/shorte1/anaconda3/envs/CPOL_analysis/lib/python3.8/site-packages/networkx/readwrite/graphml.py:346: DeprecationWarning: `np.int` is a deprecated alias for the builtin `int`. To silence this warning, use `int` by itself. Doing this will not modify any behavior and is safe. When replacing `np.int`, you may wish to use e.g. `np.int64` or `np.int32` to specify the precision. If you wish to review your current use, check the release note link for additional information.\n",
      "Deprecated in NumPy 1.20; for more details and guidance: https://numpy.org/devdocs/release/1.20.0-notes.html#deprecations\n",
      "  (np.int, \"int\"), (np.int8, \"int\"),\n",
      "/home/student.unimelb.edu.au/shorte1/anaconda3/envs/CPOL_analysis/lib/python3.8/site-packages/networkx/readwrite/gexf.py:220: DeprecationWarning: `np.int` is a deprecated alias for the builtin `int`. To silence this warning, use `int` by itself. Doing this will not modify any behavior and is safe. When replacing `np.int`, you may wish to use e.g. `np.int64` or `np.int32` to specify the precision. If you wish to review your current use, check the release note link for additional information.\n",
      "Deprecated in NumPy 1.20; for more details and guidance: https://numpy.org/devdocs/release/1.20.0-notes.html#deprecations\n",
      "  (np.int, \"int\"), (np.int8, \"int\"),\n",
      "/home/student.unimelb.edu.au/shorte1/anaconda3/envs/CPOL_analysis/lib/python3.8/site-packages/numba/core/types/__init__.py:108: DeprecationWarning: `np.long` is a deprecated alias for `np.compat.long`. To silence this warning, use `np.compat.long` by itself. In the likely event your code does not need to work on Python 2 you can use the builtin `int` for which `np.compat.long` is itself an alias. Doing this will not modify any behaviour and is safe. When replacing `np.long`, you may wish to use e.g. `np.int64` or `np.int32` to specify the precision. If you wish to review your current use, check the release note link for additional information.\n",
      "Deprecated in NumPy 1.20; for more details and guidance: https://numpy.org/devdocs/release/1.20.0-notes.html#deprecations\n",
      "  long_ = _make_signed(np.long)\n",
      "/home/student.unimelb.edu.au/shorte1/anaconda3/envs/CPOL_analysis/lib/python3.8/site-packages/numba/core/types/__init__.py:109: DeprecationWarning: `np.long` is a deprecated alias for `np.compat.long`. To silence this warning, use `np.compat.long` by itself. In the likely event your code does not need to work on Python 2 you can use the builtin `int` for which `np.compat.long` is itself an alias. Doing this will not modify any behaviour and is safe. When replacing `np.long`, you may wish to use e.g. `np.int64` or `np.int32` to specify the precision. If you wish to review your current use, check the release note link for additional information.\n",
      "Deprecated in NumPy 1.20; for more details and guidance: https://numpy.org/devdocs/release/1.20.0-notes.html#deprecations\n",
      "  ulong = _make_unsigned(np.long)\n"
     ]
    },
    {
     "name": "stdout",
     "output_type": "stream",
     "text": [
      "Automatic pdb calling has been turned ON\n"
     ]
    }
   ],
   "source": [
    "import sys\n",
    "sys.path.insert(0, '/home/student.unimelb.edu.au/shorte1/Documents/TINT')\n",
    "\n",
    "# Core\n",
    "import datetime\n",
    "import os\n",
    "import glob\n",
    "import tempfile\n",
    "import pickle\n",
    "import copy\n",
    "\n",
    "# Analysis\n",
    "import numpy as np\n",
    "import pandas as pd\n",
    "import xarray as xr\n",
    "\n",
    "# Plotting\n",
    "import matplotlib.pyplot as plt\n",
    "import matplotlib as mpl\n",
    "from matplotlib import rcParams\n",
    "\n",
    "# Debugging\n",
    "import pdb, traceback\n",
    "# %load_ext line_profiler\n",
    "\n",
    "# Radar Tools\n",
    "import pyart\n",
    "import tint\n",
    "# import tint.animate\n",
    "# from tint.visualisation import animate\n",
    "\n",
    "import classification as cl\n",
    "import CPOL_func as cf\n",
    "import caine_func as caf\n",
    "import analysis\n",
    "\n",
    "# Convenience functions\n",
    "%load_ext autoreload\n",
    "%autoreload 1\n",
    "%aimport CPOL_func\n",
    "%aimport caine_func\n",
    "%aimport tint.visualisation.figures\n",
    "%aimport tint.visualisation.animate\n",
    "%aimport tint.visualisation.horizontal_helpers\n",
    "%aimport tint.visualisation.vertical_helpers\n",
    "%aimport tint.tracks\n",
    "%aimport tint.objects\n",
    "%aimport tint.grid_utils\n",
    "%aimport tint.steiner\n",
    "%aimport tint.matching\n",
    "%aimport tint.rain\n",
    "%aimport tint.cells\n",
    "%aimport tint.tracks_helpers\n",
    "%aimport tint.process_ERA5\n",
    "%aimport tint.process_WRF\n",
    "\n",
    "%pdb\n",
    "\n",
    "base_dir = '/media/shorte1/Ewan\\'s Hard Drive/phd/data/CPOL/'\n",
    "save_dir = '/home/student.unimelb.edu.au/shorte1/Documents/TINT_tracks/'\n",
    "fig_dir = '/home/student.unimelb.edu.au/shorte1/Documents/TINT_figures/'\n",
    "ERA5_dir = '/media/shorte1/Ewan\\'s Hard Drive/phd/data/era5/'\n",
    "ERA5_dir += 'pressure-levels/reanalysis/'\n",
    "WRF_dir = '/media/shorte1/Ewan\\'s Hard Drive/phd/data/caine_WRF_data/'"
   ]
  },
  {
   "cell_type": "code",
   "execution_count": 42,
   "id": "adc26fdc",
   "metadata": {
    "ExecuteTime": {
     "end_time": "2022-07-05T23:40:54.904472Z",
     "start_time": "2022-07-05T23:40:48.248953Z"
    }
   },
   "outputs": [],
   "source": [
    "# with open(save_dir + '/lin.pkl', 'rb') as f:\n",
    "#     tracks_obj = pickle.load(f)\n",
    "with open(save_dir + '/lin.pkl', 'rb') as f:\n",
    "    tracks_obj_lin = pickle.load(f)\n",
    "with open(save_dir + '/thompson.pkl', 'rb') as f:\n",
    "    tracks_obj_thomp = pickle.load(f)\n",
    "with open(save_dir + 'base/20051001_20060501.pkl', 'rb') as f:\n",
    "    tracks_obj = pickle.load(f)"
   ]
  },
  {
   "cell_type": "code",
   "execution_count": 43,
   "id": "eb45f866",
   "metadata": {
    "ExecuteTime": {
     "end_time": "2022-07-05T23:40:54.958556Z",
     "start_time": "2022-07-05T23:40:54.909645Z"
    }
   },
   "outputs": [],
   "source": [
    "tracks_obj.tracks = tracks_obj.tracks.loc[:,np.datetime64('2006-02-09T00:00'):np.datetime64('2006-02-13T12:00'),:,:]\n",
    "tracks_obj_lin.tracks = tracks_obj_lin.tracks.loc[:,np.datetime64('2006-02-09T00:00'):np.datetime64('2006-02-13T12:00'),:,:]\n",
    "tracks_obj_thomp.tracks = tracks_obj_thomp.tracks.loc[:,np.datetime64('2006-02-09T00:00'):np.datetime64('2006-02-13T12:00'),:,:]"
   ]
  },
  {
   "cell_type": "code",
   "execution_count": 10,
   "id": "a21d01d0",
   "metadata": {
    "ExecuteTime": {
     "end_time": "2022-07-05T23:21:36.812830Z",
     "start_time": "2022-07-05T23:21:36.802332Z"
    }
   },
   "outputs": [],
   "source": [
    "rcParams.update({'font.family': 'serif'})\n",
    "rcParams.update({'font.serif': 'Liberation Serif'})\n",
    "rcParams.update({'mathtext.fontset': 'dejavuserif'})\n",
    "rcParams.update({'font.size': 12})"
   ]
  },
  {
   "cell_type": "code",
   "execution_count": 36,
   "id": "cf9eb449",
   "metadata": {
    "ExecuteTime": {
     "end_time": "2022-07-05T23:39:54.989878Z",
     "start_time": "2022-07-05T23:39:54.964525Z"
    }
   },
   "outputs": [],
   "source": [
    "# cond_1 = tracks_obj.exclusions['duration_cond'].values\n",
    "# tracks_obj.tracks = tracks_obj.tracks[cond_1]\n",
    "\n",
    "# cond_2 = tracks_obj_lin.exclusions['duration_cond'].values\n",
    "# tracks_obj_lin.tracks = tracks_obj_lin.tracks[cond_2]\n",
    "\n",
    "# cond_3 = tracks_obj_thomp.exclusions['duration_cond'].values\n",
    "# tracks_obj_thomp.tracks = tracks_obj_thomp.tracks[cond_3]"
   ]
  },
  {
   "cell_type": "code",
   "execution_count": 46,
   "id": "2abd9c46",
   "metadata": {
    "ExecuteTime": {
     "end_time": "2022-07-05T23:45:45.415647Z",
     "start_time": "2022-07-05T23:45:44.457005Z"
    }
   },
   "outputs": [
    {
     "name": "stdout",
     "output_type": "stream",
     "text": [
      "485 196 239\n",
      "485 196 239\n",
      "485 196 239\n",
      "485 196 239\n"
     ]
    },
    {
     "data": {
      "image/png": "[encoded data removed]",
      "text/plain": [
       "<Figure size 864x432 with 4 Axes>"
      ]
     },
     "metadata": {
      "needs_background": "light"
     },
     "output_type": "display_data"
    }
   ],
   "source": [
    "fig, axes = plt.subplots(2, 2, figsize=(12,6))\n",
    "\n",
    "var_list = [\n",
    "    'orientation', 'eccentricity',\n",
    "    'semi_major', 'semi_minor']\n",
    "\n",
    "bins = [\n",
    "    np.arange(0, 380, 40), np.arange(0, 1.1, .1),\n",
    "    np.arange(0, 100, 10), np.arange(0, 60, 5)]\n",
    "\n",
    "x_lab = [\n",
    "    'Orientation [degrees]', 'Eccentricity [-]', \n",
    "    'Major Axis Length [km]', 'Minor Axis Length [km]']\n",
    "\n",
    "proj_area_1 = tracks_obj.tracks.xs(0, level='level')['proj_area'].values\n",
    "proj_area_2 = tracks_obj_lin.tracks.xs(0, level='level')['proj_area'].values\n",
    "proj_area_3 = tracks_obj_thomp.tracks.xs(0, level='level')['proj_area'].values\n",
    "\n",
    "for i in range(len(var_list)):\n",
    "\n",
    "    lvl = 0\n",
    "    x1 = tracks_obj.tracks.xs(0, level='level')[var_list[i]].values\n",
    "#     x1 = x1[proj_area_1>500]\n",
    "    x2 = tracks_obj_lin.tracks.xs(0, level='level')[var_list[i]].values\n",
    "#     x2 = x2[proj_area_2>500]\n",
    "    x3 = tracks_obj_thomp.tracks.xs(0, level='level')[var_list[i]].values\n",
    "#     x3 = x3[proj_area_3>500]\n",
    "    print(len(x1), len(x2), len(x3))\n",
    "\n",
    "    axes.flatten()[i].hist(\n",
    "        [x1, x2, x3], density=False, bins=bins[i],\n",
    "        label=['CPOL (n = 485)', 'WRF-Lin (n = 196)', 'WRF-Thompson (n=239)'])\n",
    "    axes.flatten()[i].set_xticks(bins[i])\n",
    "    axes.flatten()[i].set_xlabel(x_lab[i])\n",
    "    axes.flatten()[i].set_ylabel('Count [-]')\n",
    "#     axes.flatten()[i].text(\n",
    "#         0.5, 1.05, titles[i], ha='center',\n",
    "#         transform=axes.flatten()[i].transAxes, size=12)\n",
    "    \n",
    "#     if i == 0:\n",
    "#         axes.flatten()[i].ticklabel_format(\n",
    "#             style='sci', scilimits=(0,0), axis='x')\n",
    "#         axes.flatten()[i].set_xticks(bins[i])\n",
    "    \n",
    "axes.flatten()[-1].legend(\n",
    "    bbox_to_anchor=(.6, -0.3), fancybox=True, ncol=3, shadow=True)\n",
    "\n",
    "plt.subplots_adjust(hspace=0.35)\n",
    "cl.make_subplot_labels(axes.flatten())\n",
    "\n",
    "plt.savefig(\n",
    "    'TWPICE_comp.png', dpi=200, facecolor='w',\n",
    "    edgecolor='white', bbox_inches='tight')"
   ]
  },
  {
   "cell_type": "code",
   "execution_count": null,
   "id": "f7706aad",
   "metadata": {},
   "outputs": [],
   "source": []
  }
 ],
 "metadata": {
  "kernelspec": {
   "display_name": "Python 3 (ipykernel)",
   "language": "python",
   "name": "python3"
  },
  "language_info": {
   "codemirror_mode": {
    "name": "ipython",
    "version": 3
   },
   "file_extension": ".py",
   "mimetype": "text/x-python",
   "name": "python",
   "nbconvert_exporter": "python",
   "pygments_lexer": "ipython3",
   "version": "3.8.10"
  },
  "toc": {
   "base_numbering": 1,
   "nav_menu": {},
   "number_sections": true,
   "sideBar": true,
   "skip_h1_title": false,
   "title_cell": "Table of Contents",
   "title_sidebar": "Contents",
   "toc_cell": false,
   "toc_position": {},
   "toc_section_display": true,
   "toc_window_display": false
  }
 },
 "nbformat": 4,
 "nbformat_minor": 5
}
