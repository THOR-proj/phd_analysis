{
 "cells": [
  {
   "cell_type": "code",
   "execution_count": 1,
   "metadata": {
    "ExecuteTime": {
     "end_time": "2019-09-02T08:08:52.086955Z",
     "start_time": "2019-09-02T08:08:45.279230Z"
    }
   },
   "outputs": [
    {
     "name": "stdout",
     "output_type": "stream",
     "text": [
      "\n",
      "## You are using the Python ARM Radar Toolkit (Py-ART), an open source\n",
      "## library for working with weather radar data. Py-ART is partly\n",
      "## supported by the U.S. Department of Energy as part of the Atmospheric\n",
      "## Radiation Measurement (ARM) Climate Research Facility, an Office of\n",
      "## Science user facility.\n",
      "##\n",
      "## If you use this software to prepare a publication, please cite:\n",
      "##\n",
      "##     JJ Helmus and SM Collis, JORS 2016, doi: 10.5334/jors.119\n",
      "\n"
     ]
    },
    {
     "name": "stderr",
     "output_type": "stream",
     "text": [
      "/home/563/esh563/pyart/pyart/graph/cm.py:104: FutureWarning: elementwise comparison failed; returning scalar instead, but in the future will perform elementwise comparison\n",
      "  if 'red' in spec:\n",
      "/home/563/esh563/pyart/pyart/graph/cm_colorblind.py:32: FutureWarning: elementwise comparison failed; returning scalar instead, but in the future will perform elementwise comparison\n",
      "  if 'red' in spec:\n"
     ]
    },
    {
     "name": "stdout",
     "output_type": "stream",
     "text": [
      "[5 5]\n",
      "[5 5]\n",
      "[5 5]\n"
     ]
    }
   ],
   "source": [
    "import numpy as np\n",
    "import tint\n",
    "from tint.phase_correlation import fft_flowvectors\n",
    "\n",
    "# 1 Pixel Error - odd and center rounds up\n",
    "im1 = np.zeros((99,99))\n",
    "im2 = np.zeros((99,99))\n",
    "\n",
    "r  = np.random.rand(5,5) * 100\n",
    "im1[55:60,55:60] = r\n",
    "im2[60:65,60:65] = r\n",
    "\n",
    "s = fft_flowvectors(im1,im2)\n",
    "print(s)\n",
    "\n",
    "# 1 Pixel Error - even\n",
    "im1 = np.zeros((100,100))\n",
    "im2 = np.zeros((100,100))\n",
    "\n",
    "r  = np.random.rand(5,5) * 100\n",
    "im1[55:60,55:60] = r\n",
    "im2[60:65,60:65] = r\n",
    "\n",
    "s = fft_flowvectors(im1,im2,None)\n",
    "print(s)\n",
    "\n",
    "# 2 Pixel Error - even and center rounds down\n",
    "im1 = np.zeros((101,101))\n",
    "im2 = np.zeros((101,101))\n",
    "\n",
    "r  = np.random.rand(5,5) * 100\n",
    "im1[55:60,55:60] = r\n",
    "im2[60:65,60:65] = r\n",
    "\n",
    "s = fft_flowvectors(im1,im2,None)\n",
    "print(s)"
   ]
  },
  {
   "cell_type": "code",
   "execution_count": 14,
   "metadata": {
    "ExecuteTime": {
     "end_time": "2019-09-02T06:57:40.092889Z",
     "start_time": "2019-09-02T06:57:40.088860Z"
    }
   },
   "outputs": [
    {
     "data": {
      "text/plain": [
       "50.5"
      ]
     },
     "execution_count": 14,
     "metadata": {},
     "output_type": "execute_result"
    }
   ],
   "source": [
    "101/2"
   ]
  },
  {
   "cell_type": "code",
   "execution_count": 4,
   "metadata": {
    "ExecuteTime": {
     "end_time": "2019-09-02T05:04:12.096258Z",
     "start_time": "2019-09-02T05:04:12.086674Z"
    }
   },
   "outputs": [
    {
     "name": "stdout",
     "output_type": "stream",
     "text": [
      "[[100.   8.   8.   6.]\n",
      " [  5.   2.   0.   1.]\n",
      " [  0.   1.   6.   3.]\n",
      " [  9.   0.   8.   0.]]\n",
      "[[  6.   3.   0.   1.]\n",
      " [  8.   0.   9.   0.]\n",
      " [  8.   6. 100.   8.]\n",
      " [  0.   1.   5.   2.]]\n"
     ]
    }
   ],
   "source": [
    "fft_mat = np.floor(np.random.rand(4,4)*10)\n",
    "fft_mat[0,0]=100\n",
    "print(fft_mat)\n",
    "dims = np.array(fft_mat.shape)\n",
    "rd, cd = np.ceil(dims/2).astype('int')\n",
    "quad1 = fft_mat[:rd, :cd]\n",
    "quad2 = fft_mat[:rd, cd:]\n",
    "quad3 = fft_mat[rd:, cd:]\n",
    "quad4 = fft_mat[rd:, :cd]\n",
    "centered_t = np.concatenate((quad4, quad1), axis=0)\n",
    "centered_b = np.concatenate((quad3, quad2), axis=0)\n",
    "centered = np.concatenate((centered_b, centered_t), axis=1)\n",
    "print(centered)"
   ]
  },
  {
   "cell_type": "code",
   "execution_count": 12,
   "metadata": {
    "ExecuteTime": {
     "end_time": "2019-09-02T03:48:20.875127Z",
     "start_time": "2019-09-02T03:48:20.867175Z"
    }
   },
   "outputs": [
    {
     "data": {
      "text/plain": [
       "array([5, 0])"
      ]
     },
     "execution_count": 12,
     "metadata": {},
     "output_type": "execute_result"
    }
   ],
   "source": [
    "(np.array([4,5]) % 2 == 0) * 5"
   ]
  },
  {
   "cell_type": "code",
   "execution_count": 8,
   "metadata": {
    "ExecuteTime": {
     "end_time": "2019-09-02T01:02:15.728328Z",
     "start_time": "2019-09-02T01:02:15.725282Z"
    }
   },
   "outputs": [],
   "source": [
    "test = np.array([1,3])"
   ]
  },
  {
   "cell_type": "code",
   "execution_count": 9,
   "metadata": {
    "ExecuteTime": {
     "end_time": "2019-09-02T01:02:16.353796Z",
     "start_time": "2019-09-02T01:02:16.347068Z"
    }
   },
   "outputs": [
    {
     "data": {
      "text/plain": [
       "array([0, 2])"
      ]
     },
     "execution_count": 9,
     "metadata": {},
     "output_type": "execute_result"
    }
   ],
   "source": [
    "np.round(test/2).astype('int')"
   ]
  },
  {
   "cell_type": "code",
   "execution_count": 3,
   "metadata": {
    "ExecuteTime": {
     "end_time": "2019-09-02T02:55:29.250706Z",
     "start_time": "2019-09-02T02:55:29.242866Z"
    }
   },
   "outputs": [
    {
     "data": {
      "text/plain": [
       "0"
      ]
     },
     "execution_count": 3,
     "metadata": {},
     "output_type": "execute_result"
    }
   ],
   "source": [
    "round(0.5)"
   ]
  },
  {
   "cell_type": "code",
   "execution_count": 4,
   "metadata": {
    "ExecuteTime": {
     "end_time": "2019-09-02T02:55:33.361588Z",
     "start_time": "2019-09-02T02:55:33.352043Z"
    }
   },
   "outputs": [
    {
     "data": {
      "text/plain": [
       "2"
      ]
     },
     "execution_count": 4,
     "metadata": {},
     "output_type": "execute_result"
    }
   ],
   "source": [
    "round(1.5)"
   ]
  },
  {
   "cell_type": "code",
   "execution_count": 8,
   "metadata": {
    "ExecuteTime": {
     "end_time": "2019-09-02T02:58:48.046702Z",
     "start_time": "2019-09-02T02:58:48.038534Z"
    }
   },
   "outputs": [
    {
     "data": {
      "text/plain": [
       "array([[2]])"
      ]
     },
     "execution_count": 8,
     "metadata": {},
     "output_type": "execute_result"
    }
   ],
   "source": [
    "np.array([4,2])[np.argwhere([4,2] == np.min([4,2]))]"
   ]
  },
  {
   "cell_type": "code",
   "execution_count": 15,
   "metadata": {
    "ExecuteTime": {
     "end_time": "2019-09-02T03:01:24.537061Z",
     "start_time": "2019-09-02T03:01:24.526125Z"
    }
   },
   "outputs": [
    {
     "data": {
      "text/plain": [
       "array([2])"
      ]
     },
     "execution_count": 15,
     "metadata": {},
     "output_type": "execute_result"
    }
   ],
   "source": [
    "np.array([4,2])[np.argwhere(np.array([4,2]) == np.min(np.array([4,2])))[0]]"
   ]
  },
  {
   "cell_type": "code",
   "execution_count": 13,
   "metadata": {
    "ExecuteTime": {
     "end_time": "2019-09-02T03:00:35.830182Z",
     "start_time": "2019-09-02T03:00:35.819560Z"
    }
   },
   "outputs": [
    {
     "data": {
      "text/plain": [
       "array([False,  True])"
      ]
     },
     "execution_count": 13,
     "metadata": {},
     "output_type": "execute_result"
    }
   ],
   "source": []
  },
  {
   "cell_type": "code",
   "execution_count": null,
   "metadata": {},
   "outputs": [],
   "source": []
  }
 ],
 "metadata": {
  "kernelspec": {
   "display_name": "Python 3",
   "language": "python",
   "name": "python3"
  },
  "language_info": {
   "codemirror_mode": {
    "name": "ipython",
    "version": 3
   },
   "file_extension": ".py",
   "mimetype": "text/x-python",
   "name": "python",
   "nbconvert_exporter": "python",
   "pygments_lexer": "ipython3",
   "version": "3.6.7"
  },
  "toc": {
   "base_numbering": 1,
   "nav_menu": {},
   "number_sections": true,
   "sideBar": true,
   "skip_h1_title": false,
   "title_cell": "Table of Contents",
   "title_sidebar": "Contents",
   "toc_cell": false,
   "toc_position": {},
   "toc_section_display": true,
   "toc_window_display": false
  }
 },
 "nbformat": 4,
 "nbformat_minor": 2
}
