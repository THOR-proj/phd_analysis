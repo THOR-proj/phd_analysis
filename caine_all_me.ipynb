{
 "cells": [
  {
   "cell_type": "code",
   "execution_count": 1,
   "metadata": {
    "ExecuteTime": {
     "end_time": "2019-11-07T02:42:12.501798Z",
     "start_time": "2019-11-07T02:42:05.374245Z"
    }
   },
   "outputs": [
    {
     "name": "stdout",
     "output_type": "stream",
     "text": [
      "\n",
      "## You are using the Python ARM Radar Toolkit (Py-ART), an open source\n",
      "## library for working with weather radar data. Py-ART is partly\n",
      "## supported by the U.S. Department of Energy as part of the Atmospheric\n",
      "## Radiation Measurement (ARM) Climate Research Facility, an Office of\n",
      "## Science user facility.\n",
      "##\n",
      "## If you use this software to prepare a publication, please cite:\n",
      "##\n",
      "##     JJ Helmus and SM Collis, JORS 2016, doi: 10.5334/jors.119\n",
      "\n"
     ]
    },
    {
     "name": "stderr",
     "output_type": "stream",
     "text": [
      "/home/563/esh563/pyart/pyart/graph/cm.py:104: FutureWarning: elementwise comparison failed; returning scalar instead, but in the future will perform elementwise comparison\n",
      "  if 'red' in spec:\n",
      "/home/563/esh563/pyart/pyart/graph/cm_colorblind.py:32: FutureWarning: elementwise comparison failed; returning scalar instead, but in the future will perform elementwise comparison\n",
      "  if 'red' in spec:\n"
     ]
    }
   ],
   "source": [
    "import numpy as np\n",
    "import glob\n",
    "import xarray as xr\n",
    "import sys, traceback\n",
    "import pdb\n",
    "\n",
    "import matplotlib.pyplot as plt\n",
    "from matplotlib import rcParams\n",
    "\n",
    "from scipy.special import gamma\n",
    "\n",
    "# CPOL convenience functions\n",
    "import CPOL_func as cf\n",
    "import caine_func as caf"
   ]
  },
  {
   "cell_type": "code",
   "execution_count": 2,
   "metadata": {
    "ExecuteTime": {
     "end_time": "2019-11-07T02:42:12.594931Z",
     "start_time": "2019-11-07T02:42:12.507703Z"
    }
   },
   "outputs": [],
   "source": [
    "# Convenience functions\n",
    "%load_ext autoreload\n",
    "%autoreload 1\n",
    "%aimport CPOL_func\n",
    "%aimport caine_func"
   ]
  },
  {
   "cell_type": "code",
   "execution_count": 3,
   "metadata": {
    "ExecuteTime": {
     "end_time": "2019-11-07T08:42:53.863933Z",
     "start_time": "2019-11-07T02:43:25.228442Z"
    }
   },
   "outputs": [
    {
     "name": "stdout",
     "output_type": "stream",
     "text": [
      "Starting conversions.\n",
      "Saving file 2006-02-08T12:00:00\n",
      "Saving file 2006-02-08T12:10:00\n",
      "Saving file 2006-02-08T12:20:00\n",
      "Starting conversions.\n",
      "Saving file 2006-02-08T12:30:00\n",
      "Saving file 2006-02-08T12:40:00\n",
      "Saving file 2006-02-08T12:50:00\n",
      "Starting conversions.\n",
      "Saving file 2006-02-08T13:00:00\n",
      "Saving file 2006-02-08T13:10:00\n",
      "Saving file 2006-02-08T13:20:00\n",
      "Starting conversions.\n",
      "Saving file 2006-02-08T13:30:00\n",
      "Saving file 2006-02-08T13:40:00\n",
      "Saving file 2006-02-08T13:50:00\n",
      "Starting conversions.\n",
      "Saving file 2006-02-08T14:00:00\n",
      "Saving file 2006-02-08T14:10:00\n",
      "Saving file 2006-02-08T14:20:00\n",
      "Starting conversions.\n",
      "Saving file 2006-02-08T14:30:00\n",
      "Saving file 2006-02-08T14:40:00\n",
      "Saving file 2006-02-08T14:50:00\n",
      "Starting conversions.\n",
      "Saving file 2006-02-08T15:00:00\n",
      "Saving file 2006-02-08T15:10:00\n",
      "Saving file 2006-02-08T15:20:00\n",
      "Starting conversions.\n",
      "Saving file 2006-02-08T15:30:00\n",
      "Saving file 2006-02-08T15:40:00\n",
      "Saving file 2006-02-08T15:50:00\n",
      "Starting conversions.\n",
      "Saving file 2006-02-08T16:00:00\n",
      "Saving file 2006-02-08T16:10:00\n",
      "Saving file 2006-02-08T16:20:00\n",
      "Starting conversions.\n",
      "Saving file 2006-02-08T16:30:00\n",
      "Saving file 2006-02-08T16:40:00\n",
      "Saving file 2006-02-08T16:50:00\n",
      "Starting conversions.\n",
      "Saving file 2006-02-08T17:00:00\n",
      "Saving file 2006-02-08T17:10:00\n",
      "Saving file 2006-02-08T17:20:00\n",
      "Starting conversions.\n",
      "Saving file 2006-02-08T17:30:00\n",
      "Saving file 2006-02-08T17:40:00\n",
      "Saving file 2006-02-08T17:50:00\n",
      "Starting conversions.\n",
      "Saving file 2006-02-08T18:00:00\n",
      "Saving file 2006-02-08T18:10:00\n",
      "Saving file 2006-02-08T18:20:00\n",
      "Starting conversions.\n",
      "Saving file 2006-02-08T18:30:00\n",
      "Saving file 2006-02-08T18:40:00\n",
      "Saving file 2006-02-08T18:50:00\n",
      "Starting conversions.\n",
      "Saving file 2006-02-08T19:00:00\n",
      "Saving file 2006-02-08T19:10:00\n",
      "Saving file 2006-02-08T19:20:00\n",
      "Starting conversions.\n",
      "Saving file 2006-02-08T19:30:00\n",
      "Saving file 2006-02-08T19:40:00\n",
      "Saving file 2006-02-08T19:50:00\n",
      "Starting conversions.\n",
      "Saving file 2006-02-08T20:00:00\n",
      "Saving file 2006-02-08T20:10:00\n",
      "Saving file 2006-02-08T20:20:00\n",
      "Starting conversions.\n",
      "Saving file 2006-02-08T20:30:00\n",
      "Saving file 2006-02-08T20:40:00\n",
      "Saving file 2006-02-08T20:50:00\n",
      "Starting conversions.\n",
      "Saving file 2006-02-08T21:00:00\n",
      "Saving file 2006-02-08T21:10:00\n",
      "Saving file 2006-02-08T21:20:00\n",
      "Starting conversions.\n",
      "Saving file 2006-02-08T21:30:00\n",
      "Saving file 2006-02-08T21:40:00\n",
      "Saving file 2006-02-08T21:50:00\n",
      "Starting conversions.\n",
      "Saving file 2006-02-08T22:00:00\n",
      "Saving file 2006-02-08T22:10:00\n",
      "Saving file 2006-02-08T22:20:00\n",
      "Starting conversions.\n",
      "Saving file 2006-02-08T22:30:00\n",
      "Saving file 2006-02-08T22:40:00\n",
      "Saving file 2006-02-08T22:50:00\n",
      "Starting conversions.\n",
      "Saving file 2006-02-08T23:00:00\n",
      "Saving file 2006-02-08T23:10:00\n",
      "Saving file 2006-02-08T23:20:00\n",
      "Starting conversions.\n",
      "Saving file 2006-02-08T23:30:00\n",
      "Saving file 2006-02-08T23:40:00\n",
      "Saving file 2006-02-08T23:50:00\n",
      "Starting conversions.\n",
      "Saving file 2006-02-09T00:00:00\n",
      "Saving file 2006-02-09T00:10:00\n",
      "Saving file 2006-02-09T00:20:00\n",
      "Starting conversions.\n",
      "Saving file 2006-02-09T00:30:00\n",
      "Saving file 2006-02-09T00:40:00\n",
      "Saving file 2006-02-09T00:50:00\n",
      "Starting conversions.\n",
      "Saving file 2006-02-09T01:00:00\n",
      "Saving file 2006-02-09T01:10:00\n",
      "Saving file 2006-02-09T01:20:00\n",
      "Starting conversions.\n",
      "Saving file 2006-02-09T01:30:00\n",
      "Saving file 2006-02-09T01:40:00\n",
      "Saving file 2006-02-09T01:50:00\n",
      "Starting conversions.\n",
      "Saving file 2006-02-09T02:00:00\n",
      "Saving file 2006-02-09T02:10:00\n",
      "Saving file 2006-02-09T02:20:00\n",
      "Starting conversions.\n",
      "Saving file 2006-02-09T02:30:00\n",
      "Saving file 2006-02-09T02:40:00\n",
      "Saving file 2006-02-09T02:50:00\n",
      "Starting conversions.\n",
      "Saving file 2006-02-09T03:00:00\n",
      "Saving file 2006-02-09T03:10:00\n",
      "Saving file 2006-02-09T03:20:00\n",
      "Starting conversions.\n",
      "Saving file 2006-02-09T03:30:00\n",
      "Saving file 2006-02-09T03:40:00\n",
      "Saving file 2006-02-09T03:50:00\n",
      "Starting conversions.\n",
      "Saving file 2006-02-09T04:00:00\n",
      "Saving file 2006-02-09T04:10:00\n",
      "Saving file 2006-02-09T04:20:00\n",
      "Starting conversions.\n",
      "Saving file 2006-02-09T04:30:00\n",
      "Saving file 2006-02-09T04:40:00\n",
      "Saving file 2006-02-09T04:50:00\n",
      "Starting conversions.\n",
      "Saving file 2006-02-09T05:00:00\n",
      "Saving file 2006-02-09T05:10:00\n",
      "Saving file 2006-02-09T05:20:00\n",
      "Starting conversions.\n",
      "Saving file 2006-02-09T05:30:00\n",
      "Saving file 2006-02-09T05:40:00\n",
      "Saving file 2006-02-09T05:50:00\n",
      "Starting conversions.\n",
      "Saving file 2006-02-09T06:00:00\n",
      "Saving file 2006-02-09T06:10:00\n",
      "Saving file 2006-02-09T06:20:00\n",
      "Starting conversions.\n",
      "Saving file 2006-02-09T06:30:00\n",
      "Saving file 2006-02-09T06:40:00\n",
      "Saving file 2006-02-09T06:50:00\n",
      "Starting conversions.\n",
      "Saving file 2006-02-09T07:00:00\n",
      "Saving file 2006-02-09T07:10:00\n",
      "Saving file 2006-02-09T07:20:00\n",
      "Starting conversions.\n",
      "Saving file 2006-02-09T07:30:00\n",
      "Saving file 2006-02-09T07:40:00\n",
      "Saving file 2006-02-09T07:50:00\n",
      "Starting conversions.\n",
      "Saving file 2006-02-09T08:00:00\n",
      "Saving file 2006-02-09T08:10:00\n",
      "Saving file 2006-02-09T08:20:00\n",
      "Starting conversions.\n",
      "Saving file 2006-02-09T08:30:00\n",
      "Saving file 2006-02-09T08:40:00\n",
      "Saving file 2006-02-09T08:50:00\n",
      "Starting conversions.\n",
      "Saving file 2006-02-09T09:00:00\n",
      "Saving file 2006-02-09T09:10:00\n",
      "Saving file 2006-02-09T09:20:00\n",
      "Starting conversions.\n",
      "Saving file 2006-02-09T09:30:00\n",
      "Saving file 2006-02-09T09:40:00\n",
      "Saving file 2006-02-09T09:50:00\n",
      "Starting conversions.\n",
      "Saving file 2006-02-09T10:00:00\n",
      "Saving file 2006-02-09T10:10:00\n",
      "Saving file 2006-02-09T10:20:00\n",
      "Starting conversions.\n",
      "Saving file 2006-02-09T10:30:00\n",
      "Saving file 2006-02-09T10:40:00\n",
      "Saving file 2006-02-09T10:50:00\n",
      "Starting conversions.\n",
      "Saving file 2006-02-09T11:00:00\n",
      "Saving file 2006-02-09T11:10:00\n",
      "Saving file 2006-02-09T11:20:00\n",
      "Starting conversions.\n",
      "Saving file 2006-02-09T11:30:00\n",
      "Saving file 2006-02-09T11:40:00\n",
      "Saving file 2006-02-09T11:50:00\n",
      "Starting conversions.\n",
      "Saving file 2006-02-09T12:00:00\n",
      "Saving file 2006-02-09T12:10:00\n",
      "Saving file 2006-02-09T12:20:00\n",
      "Starting conversions.\n",
      "Saving file 2006-02-09T12:30:00\n",
      "Saving file 2006-02-09T12:40:00\n",
      "Saving file 2006-02-09T12:50:00\n",
      "Starting conversions.\n",
      "Saving file 2006-02-09T13:00:00\n",
      "Saving file 2006-02-09T13:10:00\n",
      "Saving file 2006-02-09T13:20:00\n",
      "Starting conversions.\n",
      "Saving file 2006-02-09T13:30:00\n",
      "Saving file 2006-02-09T13:40:00\n",
      "Saving file 2006-02-09T13:50:00\n",
      "Starting conversions.\n",
      "Saving file 2006-02-09T14:00:00\n",
      "Saving file 2006-02-09T14:10:00\n",
      "Saving file 2006-02-09T14:20:00\n",
      "Starting conversions.\n",
      "Saving file 2006-02-09T14:30:00\n",
      "Saving file 2006-02-09T14:40:00\n",
      "Saving file 2006-02-09T14:50:00\n",
      "Starting conversions.\n",
      "Saving file 2006-02-09T15:00:00\n",
      "Saving file 2006-02-09T15:10:00\n",
      "Saving file 2006-02-09T15:20:00\n",
      "Starting conversions.\n",
      "Saving file 2006-02-09T15:30:00\n",
      "Saving file 2006-02-09T15:40:00\n",
      "Saving file 2006-02-09T15:50:00\n",
      "Starting conversions.\n",
      "Saving file 2006-02-09T16:00:00\n",
      "Saving file 2006-02-09T16:10:00\n",
      "Saving file 2006-02-09T16:20:00\n",
      "Starting conversions.\n",
      "Saving file 2006-02-09T16:30:00\n",
      "Saving file 2006-02-09T16:40:00\n",
      "Saving file 2006-02-09T16:50:00\n",
      "Starting conversions.\n",
      "Saving file 2006-02-09T17:00:00\n",
      "Saving file 2006-02-09T17:10:00\n",
      "Saving file 2006-02-09T17:20:00\n",
      "Starting conversions.\n",
      "Saving file 2006-02-09T17:30:00\n",
      "Saving file 2006-02-09T17:40:00\n",
      "Saving file 2006-02-09T17:50:00\n",
      "Starting conversions.\n",
      "Saving file 2006-02-09T18:00:00\n",
      "Saving file 2006-02-09T18:10:00\n",
      "Saving file 2006-02-09T18:20:00\n",
      "Starting conversions.\n",
      "Saving file 2006-02-09T18:30:00\n",
      "Saving file 2006-02-09T18:40:00\n",
      "Saving file 2006-02-09T18:50:00\n",
      "Starting conversions.\n",
      "Saving file 2006-02-09T19:00:00\n",
      "Saving file 2006-02-09T19:10:00\n",
      "Saving file 2006-02-09T19:20:00\n",
      "Starting conversions.\n",
      "Saving file 2006-02-09T19:30:00\n",
      "Saving file 2006-02-09T19:40:00\n",
      "Saving file 2006-02-09T19:50:00\n",
      "Starting conversions.\n",
      "Saving file 2006-02-09T20:00:00\n",
      "Saving file 2006-02-09T20:10:00\n",
      "Saving file 2006-02-09T20:20:00\n",
      "Starting conversions.\n",
      "Saving file 2006-02-09T20:30:00\n",
      "Saving file 2006-02-09T20:40:00\n",
      "Saving file 2006-02-09T20:50:00\n",
      "Starting conversions.\n",
      "Saving file 2006-02-09T21:00:00\n",
      "Saving file 2006-02-09T21:10:00\n",
      "Saving file 2006-02-09T21:20:00\n",
      "Starting conversions.\n",
      "Saving file 2006-02-09T21:30:00\n",
      "Saving file 2006-02-09T21:40:00\n",
      "Saving file 2006-02-09T21:50:00\n",
      "Starting conversions.\n",
      "Saving file 2006-02-09T22:00:00\n",
      "Saving file 2006-02-09T22:10:00\n",
      "Saving file 2006-02-09T22:20:00\n",
      "Starting conversions.\n",
      "Saving file 2006-02-09T22:30:00\n"
     ]
    },
    {
     "name": "stdout",
     "output_type": "stream",
     "text": [
      "Saving file 2006-02-09T22:40:00\n",
      "Saving file 2006-02-09T22:50:00\n",
      "Starting conversions.\n",
      "Saving file 2006-02-09T23:00:00\n",
      "Saving file 2006-02-09T23:10:00\n",
      "Saving file 2006-02-09T23:20:00\n",
      "Starting conversions.\n",
      "Saving file 2006-02-09T23:30:00\n",
      "Saving file 2006-02-09T23:40:00\n",
      "Saving file 2006-02-09T23:50:00\n",
      "Starting conversions.\n",
      "Saving file 2006-02-10T00:00:00\n",
      "Saving file 2006-02-10T00:10:00\n",
      "Saving file 2006-02-10T00:20:00\n",
      "Starting conversions.\n",
      "Saving file 2006-02-10T00:30:00\n",
      "Saving file 2006-02-10T00:40:00\n",
      "Saving file 2006-02-10T00:50:00\n",
      "Starting conversions.\n",
      "Saving file 2006-02-10T01:00:00\n",
      "Saving file 2006-02-10T01:10:00\n",
      "Saving file 2006-02-10T01:20:00\n",
      "Starting conversions.\n",
      "Saving file 2006-02-10T01:30:00\n",
      "Saving file 2006-02-10T01:40:00\n",
      "Saving file 2006-02-10T01:50:00\n",
      "Starting conversions.\n",
      "Saving file 2006-02-10T02:00:00\n",
      "Saving file 2006-02-10T02:10:00\n",
      "Saving file 2006-02-10T02:20:00\n",
      "Starting conversions.\n",
      "Saving file 2006-02-10T02:30:00\n",
      "Saving file 2006-02-10T02:40:00\n",
      "Saving file 2006-02-10T02:50:00\n",
      "Starting conversions.\n",
      "Saving file 2006-02-10T03:00:00\n",
      "Saving file 2006-02-10T03:10:00\n",
      "Saving file 2006-02-10T03:20:00\n",
      "Starting conversions.\n",
      "Saving file 2006-02-10T03:30:00\n",
      "Saving file 2006-02-10T03:40:00\n",
      "Saving file 2006-02-10T03:50:00\n",
      "Starting conversions.\n",
      "Saving file 2006-02-10T04:00:00\n",
      "Saving file 2006-02-10T04:10:00\n",
      "Saving file 2006-02-10T04:20:00\n",
      "Starting conversions.\n",
      "Saving file 2006-02-10T04:30:00\n",
      "Saving file 2006-02-10T04:40:00\n",
      "Saving file 2006-02-10T04:50:00\n",
      "Starting conversions.\n",
      "Saving file 2006-02-10T05:00:00\n",
      "Saving file 2006-02-10T05:10:00\n",
      "Saving file 2006-02-10T05:20:00\n",
      "Starting conversions.\n",
      "Saving file 2006-02-10T05:30:00\n",
      "Saving file 2006-02-10T05:40:00\n",
      "Saving file 2006-02-10T05:50:00\n",
      "Starting conversions.\n",
      "Saving file 2006-02-10T06:00:00\n",
      "Saving file 2006-02-10T06:10:00\n",
      "Saving file 2006-02-10T06:20:00\n",
      "Starting conversions.\n",
      "Saving file 2006-02-10T06:30:00\n",
      "Saving file 2006-02-10T06:40:00\n",
      "Saving file 2006-02-10T06:50:00\n",
      "Starting conversions.\n",
      "Saving file 2006-02-10T07:00:00\n",
      "Saving file 2006-02-10T07:10:00\n",
      "Saving file 2006-02-10T07:20:00\n",
      "Starting conversions.\n",
      "Saving file 2006-02-10T07:30:00\n",
      "Saving file 2006-02-10T07:40:00\n",
      "Saving file 2006-02-10T07:50:00\n",
      "Starting conversions.\n",
      "Saving file 2006-02-10T08:00:00\n",
      "Saving file 2006-02-10T08:10:00\n",
      "Saving file 2006-02-10T08:20:00\n",
      "Starting conversions.\n",
      "Saving file 2006-02-10T08:30:00\n",
      "Saving file 2006-02-10T08:40:00\n",
      "Saving file 2006-02-10T08:50:00\n",
      "Starting conversions.\n",
      "Saving file 2006-02-10T09:00:00\n",
      "Saving file 2006-02-10T09:10:00\n",
      "Saving file 2006-02-10T09:20:00\n",
      "Starting conversions.\n",
      "Saving file 2006-02-10T09:30:00\n",
      "Saving file 2006-02-10T09:40:00\n",
      "Saving file 2006-02-10T09:50:00\n",
      "Starting conversions.\n",
      "Saving file 2006-02-10T10:00:00\n",
      "Saving file 2006-02-10T10:10:00\n",
      "Saving file 2006-02-10T10:20:00\n",
      "Starting conversions.\n",
      "Saving file 2006-02-10T10:30:00\n",
      "Saving file 2006-02-10T10:40:00\n",
      "Saving file 2006-02-10T10:50:00\n",
      "Starting conversions.\n",
      "Saving file 2006-02-10T11:00:00\n",
      "Saving file 2006-02-10T11:10:00\n",
      "Saving file 2006-02-10T11:20:00\n",
      "Starting conversions.\n",
      "Saving file 2006-02-10T11:30:00\n",
      "Saving file 2006-02-10T11:40:00\n",
      "Saving file 2006-02-10T11:50:00\n",
      "Starting conversions.\n",
      "Saving file 2006-02-10T12:00:00\n",
      "Saving file 2006-02-10T12:10:00\n",
      "Saving file 2006-02-10T12:20:00\n",
      "Starting conversions.\n",
      "Saving file 2006-02-10T12:30:00\n",
      "Saving file 2006-02-10T12:40:00\n",
      "Saving file 2006-02-10T12:50:00\n",
      "Starting conversions.\n",
      "Saving file 2006-02-10T13:00:00\n",
      "Saving file 2006-02-10T13:10:00\n",
      "Saving file 2006-02-10T13:20:00\n",
      "Starting conversions.\n",
      "Saving file 2006-02-10T13:30:00\n",
      "Saving file 2006-02-10T13:40:00\n",
      "Saving file 2006-02-10T13:50:00\n",
      "Starting conversions.\n",
      "Saving file 2006-02-10T14:00:00\n",
      "Saving file 2006-02-10T14:10:00\n",
      "Saving file 2006-02-10T14:20:00\n",
      "Starting conversions.\n",
      "Saving file 2006-02-10T14:30:00\n",
      "Saving file 2006-02-10T14:40:00\n",
      "Saving file 2006-02-10T14:50:00\n",
      "Starting conversions.\n",
      "Saving file 2006-02-10T15:00:00\n",
      "Saving file 2006-02-10T15:10:00\n",
      "Saving file 2006-02-10T15:20:00\n",
      "Starting conversions.\n",
      "Saving file 2006-02-10T15:30:00\n",
      "Saving file 2006-02-10T15:40:00\n",
      "Saving file 2006-02-10T15:50:00\n",
      "Starting conversions.\n",
      "Saving file 2006-02-10T16:00:00\n",
      "Saving file 2006-02-10T16:10:00\n",
      "Saving file 2006-02-10T16:20:00\n",
      "Starting conversions.\n",
      "Saving file 2006-02-10T16:30:00\n",
      "Saving file 2006-02-10T16:40:00\n",
      "Saving file 2006-02-10T16:50:00\n",
      "Starting conversions.\n",
      "Saving file 2006-02-10T17:00:00\n",
      "Saving file 2006-02-10T17:10:00\n",
      "Saving file 2006-02-10T17:20:00\n",
      "Starting conversions.\n",
      "Saving file 2006-02-10T17:30:00\n",
      "Saving file 2006-02-10T17:40:00\n",
      "Saving file 2006-02-10T17:50:00\n",
      "Starting conversions.\n",
      "Saving file 2006-02-10T18:00:00\n",
      "Saving file 2006-02-10T18:10:00\n",
      "Saving file 2006-02-10T18:20:00\n",
      "Starting conversions.\n",
      "Saving file 2006-02-10T18:30:00\n",
      "Saving file 2006-02-10T18:40:00\n",
      "Saving file 2006-02-10T18:50:00\n",
      "Starting conversions.\n",
      "Saving file 2006-02-10T19:00:00\n",
      "Saving file 2006-02-10T19:10:00\n",
      "Saving file 2006-02-10T19:20:00\n",
      "Starting conversions.\n",
      "Saving file 2006-02-10T19:30:00\n",
      "Saving file 2006-02-10T19:40:00\n",
      "Saving file 2006-02-10T19:50:00\n",
      "Starting conversions.\n",
      "Saving file 2006-02-10T20:00:00\n",
      "Saving file 2006-02-10T20:10:00\n",
      "Saving file 2006-02-10T20:20:00\n",
      "Starting conversions.\n",
      "Saving file 2006-02-10T20:30:00\n",
      "Saving file 2006-02-10T20:40:00\n",
      "Saving file 2006-02-10T20:50:00\n",
      "Starting conversions.\n",
      "Saving file 2006-02-10T21:00:00\n",
      "Saving file 2006-02-10T21:10:00\n",
      "Saving file 2006-02-10T21:20:00\n",
      "Starting conversions.\n",
      "Saving file 2006-02-10T21:30:00\n",
      "Saving file 2006-02-10T21:40:00\n",
      "Saving file 2006-02-10T21:50:00\n",
      "Starting conversions.\n",
      "Saving file 2006-02-10T22:00:00\n",
      "Saving file 2006-02-10T22:10:00\n",
      "Saving file 2006-02-10T22:20:00\n",
      "Starting conversions.\n",
      "Saving file 2006-02-10T22:30:00\n",
      "Saving file 2006-02-10T22:40:00\n",
      "Saving file 2006-02-10T22:50:00\n",
      "Starting conversions.\n",
      "Saving file 2006-02-10T23:00:00\n",
      "Saving file 2006-02-10T23:10:00\n",
      "Saving file 2006-02-10T23:20:00\n",
      "Starting conversions.\n",
      "Saving file 2006-02-10T23:30:00\n",
      "Saving file 2006-02-10T23:40:00\n",
      "Saving file 2006-02-10T23:50:00\n",
      "Starting conversions.\n",
      "Saving file 2006-02-11T00:00:00\n",
      "Saving file 2006-02-11T00:10:00\n",
      "Saving file 2006-02-11T00:20:00\n",
      "Starting conversions.\n",
      "Saving file 2006-02-11T00:30:00\n",
      "Saving file 2006-02-11T00:40:00\n",
      "Saving file 2006-02-11T00:50:00\n",
      "Starting conversions.\n",
      "Saving file 2006-02-11T01:00:00\n",
      "Saving file 2006-02-11T01:10:00\n",
      "Saving file 2006-02-11T01:20:00\n",
      "Starting conversions.\n",
      "Saving file 2006-02-11T01:30:00\n",
      "Saving file 2006-02-11T01:40:00\n",
      "Saving file 2006-02-11T01:50:00\n",
      "Starting conversions.\n",
      "Saving file 2006-02-11T02:00:00\n",
      "Saving file 2006-02-11T02:10:00\n",
      "Saving file 2006-02-11T02:20:00\n",
      "Starting conversions.\n",
      "Saving file 2006-02-11T02:30:00\n",
      "Saving file 2006-02-11T02:40:00\n",
      "Saving file 2006-02-11T02:50:00\n",
      "Starting conversions.\n",
      "Saving file 2006-02-11T03:00:00\n",
      "Saving file 2006-02-11T03:10:00\n",
      "Saving file 2006-02-11T03:20:00\n",
      "Starting conversions.\n",
      "Saving file 2006-02-11T03:30:00\n",
      "Saving file 2006-02-11T03:40:00\n",
      "Saving file 2006-02-11T03:50:00\n",
      "Starting conversions.\n",
      "Saving file 2006-02-11T04:00:00\n",
      "Saving file 2006-02-11T04:10:00\n",
      "Saving file 2006-02-11T04:20:00\n",
      "Starting conversions.\n",
      "Saving file 2006-02-11T04:30:00\n",
      "Saving file 2006-02-11T04:40:00\n",
      "Saving file 2006-02-11T04:50:00\n",
      "Starting conversions.\n",
      "Saving file 2006-02-11T05:00:00\n",
      "Saving file 2006-02-11T05:10:00\n",
      "Saving file 2006-02-11T05:20:00\n",
      "Starting conversions.\n",
      "Saving file 2006-02-11T05:30:00\n",
      "Saving file 2006-02-11T05:40:00\n",
      "Saving file 2006-02-11T05:50:00\n",
      "Starting conversions.\n",
      "Saving file 2006-02-11T06:00:00\n",
      "Saving file 2006-02-11T06:10:00\n",
      "Saving file 2006-02-11T06:20:00\n",
      "Starting conversions.\n",
      "Saving file 2006-02-11T06:30:00\n",
      "Saving file 2006-02-11T06:40:00\n",
      "Saving file 2006-02-11T06:50:00\n",
      "Starting conversions.\n",
      "Saving file 2006-02-11T07:00:00\n",
      "Saving file 2006-02-11T07:10:00\n",
      "Saving file 2006-02-11T07:20:00\n",
      "Starting conversions.\n",
      "Saving file 2006-02-11T07:30:00\n",
      "Saving file 2006-02-11T07:40:00\n",
      "Saving file 2006-02-11T07:50:00\n",
      "Starting conversions.\n",
      "Saving file 2006-02-11T08:00:00\n",
      "Saving file 2006-02-11T08:10:00\n",
      "Saving file 2006-02-11T08:20:00\n",
      "Starting conversions.\n",
      "Saving file 2006-02-11T08:30:00\n",
      "Saving file 2006-02-11T08:40:00\n",
      "Saving file 2006-02-11T08:50:00\n",
      "Starting conversions.\n",
      "Saving file 2006-02-11T09:00:00\n",
      "Saving file 2006-02-11T09:10:00\n",
      "Saving file 2006-02-11T09:20:00\n"
     ]
    },
    {
     "name": "stdout",
     "output_type": "stream",
     "text": [
      "Starting conversions.\n",
      "Saving file 2006-02-11T09:30:00\n",
      "Saving file 2006-02-11T09:40:00\n",
      "Saving file 2006-02-11T09:50:00\n",
      "Starting conversions.\n",
      "Saving file 2006-02-11T10:00:00\n",
      "Saving file 2006-02-11T10:10:00\n",
      "Saving file 2006-02-11T10:20:00\n",
      "Starting conversions.\n",
      "Saving file 2006-02-11T10:30:00\n",
      "Saving file 2006-02-11T10:40:00\n",
      "Saving file 2006-02-11T10:50:00\n",
      "Starting conversions.\n",
      "Saving file 2006-02-11T11:00:00\n",
      "Saving file 2006-02-11T11:10:00\n",
      "Saving file 2006-02-11T11:20:00\n",
      "Starting conversions.\n",
      "Saving file 2006-02-11T11:30:00\n",
      "Saving file 2006-02-11T11:40:00\n",
      "Saving file 2006-02-11T11:50:00\n",
      "Starting conversions.\n",
      "Saving file 2006-02-11T12:00:00\n",
      "Saving file 2006-02-11T12:10:00\n",
      "Saving file 2006-02-11T12:20:00\n",
      "Starting conversions.\n",
      "Saving file 2006-02-11T12:30:00\n",
      "Saving file 2006-02-11T12:40:00\n",
      "Saving file 2006-02-11T12:50:00\n",
      "Starting conversions.\n",
      "Saving file 2006-02-11T13:00:00\n",
      "Saving file 2006-02-11T13:10:00\n",
      "Saving file 2006-02-11T13:20:00\n",
      "Starting conversions.\n",
      "Saving file 2006-02-11T13:30:00\n",
      "Saving file 2006-02-11T13:40:00\n",
      "Saving file 2006-02-11T13:50:00\n",
      "Starting conversions.\n",
      "Saving file 2006-02-11T14:00:00\n",
      "Saving file 2006-02-11T14:10:00\n",
      "Saving file 2006-02-11T14:20:00\n",
      "Starting conversions.\n",
      "Saving file 2006-02-11T14:30:00\n",
      "Saving file 2006-02-11T14:40:00\n",
      "Saving file 2006-02-11T14:50:00\n",
      "Starting conversions.\n",
      "Saving file 2006-02-11T15:00:00\n",
      "Saving file 2006-02-11T15:10:00\n",
      "Saving file 2006-02-11T15:20:00\n",
      "Starting conversions.\n",
      "Saving file 2006-02-11T15:30:00\n",
      "Saving file 2006-02-11T15:40:00\n",
      "Saving file 2006-02-11T15:50:00\n",
      "Starting conversions.\n",
      "Saving file 2006-02-11T16:00:00\n",
      "Saving file 2006-02-11T16:10:00\n",
      "Saving file 2006-02-11T16:20:00\n",
      "Starting conversions.\n",
      "Saving file 2006-02-11T16:30:00\n",
      "Saving file 2006-02-11T16:40:00\n",
      "Saving file 2006-02-11T16:50:00\n",
      "Starting conversions.\n",
      "Saving file 2006-02-11T17:00:00\n",
      "Saving file 2006-02-11T17:10:00\n",
      "Saving file 2006-02-11T17:20:00\n",
      "Starting conversions.\n",
      "Saving file 2006-02-11T17:30:00\n",
      "Saving file 2006-02-11T17:40:00\n",
      "Saving file 2006-02-11T17:50:00\n",
      "Starting conversions.\n",
      "Saving file 2006-02-11T18:00:00\n",
      "Saving file 2006-02-11T18:10:00\n",
      "Saving file 2006-02-11T18:20:00\n",
      "Starting conversions.\n",
      "Saving file 2006-02-11T18:30:00\n",
      "Saving file 2006-02-11T18:40:00\n",
      "Saving file 2006-02-11T18:50:00\n",
      "Starting conversions.\n",
      "Saving file 2006-02-11T19:00:00\n",
      "Saving file 2006-02-11T19:10:00\n",
      "Saving file 2006-02-11T19:20:00\n",
      "Starting conversions.\n",
      "Saving file 2006-02-11T19:30:00\n",
      "Saving file 2006-02-11T19:40:00\n",
      "Saving file 2006-02-11T19:50:00\n",
      "Starting conversions.\n",
      "Saving file 2006-02-11T20:00:00\n",
      "Saving file 2006-02-11T20:10:00\n",
      "Saving file 2006-02-11T20:20:00\n",
      "Starting conversions.\n",
      "Saving file 2006-02-11T20:30:00\n",
      "Saving file 2006-02-11T20:40:00\n",
      "Saving file 2006-02-11T20:50:00\n",
      "Starting conversions.\n",
      "Saving file 2006-02-11T21:00:00\n",
      "Saving file 2006-02-11T21:10:00\n",
      "Saving file 2006-02-11T21:20:00\n",
      "Starting conversions.\n",
      "Saving file 2006-02-11T21:30:00\n",
      "Saving file 2006-02-11T21:40:00\n",
      "Saving file 2006-02-11T21:50:00\n",
      "Starting conversions.\n",
      "Saving file 2006-02-11T22:00:00\n",
      "Saving file 2006-02-11T22:10:00\n",
      "Saving file 2006-02-11T22:20:00\n",
      "Starting conversions.\n",
      "Saving file 2006-02-11T22:30:00\n",
      "Saving file 2006-02-11T22:40:00\n",
      "Saving file 2006-02-11T22:50:00\n",
      "Starting conversions.\n",
      "Saving file 2006-02-11T23:00:00\n",
      "Saving file 2006-02-11T23:10:00\n",
      "Saving file 2006-02-11T23:20:00\n",
      "Starting conversions.\n",
      "Saving file 2006-02-11T23:30:00\n",
      "Saving file 2006-02-11T23:40:00\n",
      "Saving file 2006-02-11T23:50:00\n",
      "Starting conversions.\n",
      "Saving file 2006-02-12T00:00:00\n",
      "Saving file 2006-02-12T00:10:00\n",
      "Saving file 2006-02-12T00:20:00\n",
      "Starting conversions.\n",
      "Saving file 2006-02-12T00:30:00\n",
      "Saving file 2006-02-12T00:40:00\n",
      "Saving file 2006-02-12T00:50:00\n",
      "Starting conversions.\n",
      "Saving file 2006-02-12T01:00:00\n",
      "Saving file 2006-02-12T01:10:00\n",
      "Saving file 2006-02-12T01:20:00\n",
      "Starting conversions.\n",
      "Saving file 2006-02-12T01:30:00\n",
      "Saving file 2006-02-12T01:40:00\n",
      "Saving file 2006-02-12T01:50:00\n",
      "Starting conversions.\n",
      "Saving file 2006-02-12T02:00:00\n",
      "Saving file 2006-02-12T02:10:00\n",
      "Saving file 2006-02-12T02:20:00\n",
      "Starting conversions.\n",
      "Saving file 2006-02-12T02:30:00\n",
      "Saving file 2006-02-12T02:40:00\n",
      "Saving file 2006-02-12T02:50:00\n",
      "Starting conversions.\n",
      "Saving file 2006-02-12T03:00:00\n",
      "Saving file 2006-02-12T03:10:00\n",
      "Saving file 2006-02-12T03:20:00\n",
      "Starting conversions.\n",
      "Saving file 2006-02-12T03:30:00\n",
      "Saving file 2006-02-12T03:40:00\n",
      "Saving file 2006-02-12T03:50:00\n",
      "Starting conversions.\n",
      "Saving file 2006-02-12T04:00:00\n",
      "Saving file 2006-02-12T04:10:00\n",
      "Saving file 2006-02-12T04:20:00\n",
      "Starting conversions.\n",
      "Saving file 2006-02-12T04:30:00\n",
      "Saving file 2006-02-12T04:40:00\n",
      "Saving file 2006-02-12T04:50:00\n",
      "Starting conversions.\n",
      "Saving file 2006-02-12T05:00:00\n",
      "Saving file 2006-02-12T05:10:00\n",
      "Saving file 2006-02-12T05:20:00\n",
      "Starting conversions.\n",
      "Saving file 2006-02-12T05:30:00\n",
      "Saving file 2006-02-12T05:40:00\n",
      "Saving file 2006-02-12T05:50:00\n",
      "Starting conversions.\n",
      "Saving file 2006-02-12T06:00:00\n",
      "Saving file 2006-02-12T06:10:00\n",
      "Saving file 2006-02-12T06:20:00\n",
      "Starting conversions.\n",
      "Saving file 2006-02-12T06:30:00\n",
      "Saving file 2006-02-12T06:40:00\n",
      "Saving file 2006-02-12T06:50:00\n",
      "Starting conversions.\n",
      "Saving file 2006-02-12T07:00:00\n",
      "Saving file 2006-02-12T07:10:00\n",
      "Saving file 2006-02-12T07:20:00\n",
      "Starting conversions.\n",
      "Saving file 2006-02-12T07:30:00\n",
      "Saving file 2006-02-12T07:40:00\n",
      "Saving file 2006-02-12T07:50:00\n",
      "Starting conversions.\n",
      "Saving file 2006-02-12T08:00:00\n",
      "Saving file 2006-02-12T08:10:00\n",
      "Saving file 2006-02-12T08:20:00\n",
      "Starting conversions.\n",
      "Saving file 2006-02-12T08:30:00\n",
      "Saving file 2006-02-12T08:40:00\n",
      "Saving file 2006-02-12T08:50:00\n",
      "Starting conversions.\n",
      "Saving file 2006-02-12T09:00:00\n",
      "Saving file 2006-02-12T09:10:00\n",
      "Saving file 2006-02-12T09:20:00\n",
      "Starting conversions.\n",
      "Saving file 2006-02-12T09:30:00\n",
      "Saving file 2006-02-12T09:40:00\n",
      "Saving file 2006-02-12T09:50:00\n",
      "Starting conversions.\n",
      "Saving file 2006-02-12T10:00:00\n",
      "Saving file 2006-02-12T10:10:00\n",
      "Saving file 2006-02-12T10:20:00\n",
      "Starting conversions.\n",
      "Saving file 2006-02-12T10:30:00\n",
      "Saving file 2006-02-12T10:40:00\n",
      "Saving file 2006-02-12T10:50:00\n",
      "Starting conversions.\n",
      "Saving file 2006-02-12T11:00:00\n",
      "Saving file 2006-02-12T11:10:00\n",
      "Saving file 2006-02-12T11:20:00\n",
      "Starting conversions.\n",
      "Saving file 2006-02-12T11:30:00\n",
      "Saving file 2006-02-12T11:40:00\n",
      "Saving file 2006-02-12T11:50:00\n",
      "Starting conversions.\n",
      "Saving file 2006-02-12T12:00:00\n",
      "Saving file 2006-02-12T12:10:00\n",
      "Saving file 2006-02-12T12:20:00\n",
      "Starting conversions.\n",
      "Saving file 2006-02-12T12:30:00\n",
      "Saving file 2006-02-12T12:40:00\n",
      "Saving file 2006-02-12T12:50:00\n",
      "Starting conversions.\n",
      "Saving file 2006-02-12T13:00:00\n",
      "Saving file 2006-02-12T13:10:00\n",
      "Saving file 2006-02-12T13:20:00\n",
      "Starting conversions.\n",
      "Saving file 2006-02-12T13:30:00\n",
      "Saving file 2006-02-12T13:40:00\n",
      "Saving file 2006-02-12T13:50:00\n",
      "Starting conversions.\n",
      "Saving file 2006-02-12T14:00:00\n",
      "Saving file 2006-02-12T14:10:00\n",
      "Saving file 2006-02-12T14:20:00\n",
      "Starting conversions.\n",
      "Saving file 2006-02-12T14:30:00\n",
      "Saving file 2006-02-12T14:40:00\n",
      "Saving file 2006-02-12T14:50:00\n",
      "Starting conversions.\n",
      "Saving file 2006-02-12T15:00:00\n",
      "Saving file 2006-02-12T15:10:00\n",
      "Saving file 2006-02-12T15:20:00\n",
      "Starting conversions.\n",
      "Saving file 2006-02-12T15:30:00\n",
      "Saving file 2006-02-12T15:40:00\n",
      "Saving file 2006-02-12T15:50:00\n",
      "Starting conversions.\n",
      "Saving file 2006-02-12T16:00:00\n",
      "Saving file 2006-02-12T16:10:00\n",
      "Saving file 2006-02-12T16:20:00\n",
      "Starting conversions.\n",
      "Saving file 2006-02-12T16:30:00\n",
      "Saving file 2006-02-12T16:40:00\n",
      "Saving file 2006-02-12T16:50:00\n",
      "Starting conversions.\n",
      "Saving file 2006-02-12T17:00:00\n",
      "Saving file 2006-02-12T17:10:00\n",
      "Saving file 2006-02-12T17:20:00\n",
      "Starting conversions.\n",
      "Saving file 2006-02-12T17:30:00\n",
      "Saving file 2006-02-12T17:40:00\n",
      "Saving file 2006-02-12T17:50:00\n",
      "Starting conversions.\n",
      "Saving file 2006-02-12T18:00:00\n",
      "Saving file 2006-02-12T18:10:00\n",
      "Saving file 2006-02-12T18:20:00\n",
      "Starting conversions.\n",
      "Saving file 2006-02-12T18:30:00\n",
      "Saving file 2006-02-12T18:40:00\n",
      "Saving file 2006-02-12T18:50:00\n",
      "Starting conversions.\n",
      "Saving file 2006-02-12T19:00:00\n",
      "Saving file 2006-02-12T19:10:00\n",
      "Saving file 2006-02-12T19:20:00\n",
      "Starting conversions.\n",
      "Saving file 2006-02-12T19:30:00\n",
      "Saving file 2006-02-12T19:40:00\n",
      "Saving file 2006-02-12T19:50:00\n",
      "Starting conversions.\n",
      "Saving file 2006-02-12T20:00:00\n"
     ]
    },
    {
     "name": "stdout",
     "output_type": "stream",
     "text": [
      "Saving file 2006-02-12T20:10:00\n",
      "Saving file 2006-02-12T20:20:00\n",
      "Starting conversions.\n",
      "Saving file 2006-02-12T20:30:00\n",
      "Saving file 2006-02-12T20:40:00\n",
      "Saving file 2006-02-12T20:50:00\n",
      "Starting conversions.\n",
      "Saving file 2006-02-12T21:00:00\n",
      "Saving file 2006-02-12T21:10:00\n",
      "Saving file 2006-02-12T21:20:00\n",
      "Starting conversions.\n",
      "Saving file 2006-02-12T21:30:00\n",
      "Saving file 2006-02-12T21:40:00\n",
      "Saving file 2006-02-12T21:50:00\n",
      "Starting conversions.\n",
      "Saving file 2006-02-12T22:00:00\n",
      "Saving file 2006-02-12T22:10:00\n",
      "Saving file 2006-02-12T22:20:00\n",
      "Starting conversions.\n",
      "Saving file 2006-02-12T22:30:00\n",
      "Saving file 2006-02-12T22:40:00\n",
      "Saving file 2006-02-12T22:50:00\n",
      "Starting conversions.\n",
      "Saving file 2006-02-12T23:00:00\n",
      "Saving file 2006-02-12T23:10:00\n",
      "Saving file 2006-02-12T23:20:00\n",
      "Starting conversions.\n",
      "Saving file 2006-02-12T23:30:00\n",
      "Saving file 2006-02-12T23:40:00\n",
      "Saving file 2006-02-12T23:50:00\n",
      "Starting conversions.\n",
      "Saving file 2006-02-13T00:00:00\n",
      "Saving file 2006-02-13T00:10:00\n",
      "Saving file 2006-02-13T00:20:00\n",
      "Starting conversions.\n",
      "Saving file 2006-02-13T00:30:00\n",
      "Saving file 2006-02-13T00:40:00\n",
      "Saving file 2006-02-13T00:50:00\n",
      "Starting conversions.\n",
      "Saving file 2006-02-13T01:00:00\n",
      "Saving file 2006-02-13T01:10:00\n",
      "Saving file 2006-02-13T01:20:00\n",
      "Starting conversions.\n",
      "Saving file 2006-02-13T01:30:00\n",
      "Saving file 2006-02-13T01:40:00\n",
      "Saving file 2006-02-13T01:50:00\n",
      "Starting conversions.\n",
      "Saving file 2006-02-13T02:00:00\n",
      "Saving file 2006-02-13T02:10:00\n",
      "Saving file 2006-02-13T02:20:00\n",
      "Starting conversions.\n",
      "Saving file 2006-02-13T02:30:00\n",
      "Saving file 2006-02-13T02:40:00\n",
      "Saving file 2006-02-13T02:50:00\n",
      "Starting conversions.\n",
      "Saving file 2006-02-13T03:00:00\n",
      "Saving file 2006-02-13T03:10:00\n",
      "Saving file 2006-02-13T03:20:00\n",
      "Starting conversions.\n",
      "Saving file 2006-02-13T03:30:00\n",
      "Saving file 2006-02-13T03:40:00\n",
      "Saving file 2006-02-13T03:50:00\n",
      "Starting conversions.\n",
      "Saving file 2006-02-13T04:00:00\n",
      "Saving file 2006-02-13T04:10:00\n",
      "Saving file 2006-02-13T04:20:00\n",
      "Starting conversions.\n",
      "Saving file 2006-02-13T04:30:00\n",
      "Saving file 2006-02-13T04:40:00\n",
      "Saving file 2006-02-13T04:50:00\n",
      "Starting conversions.\n",
      "Saving file 2006-02-13T05:00:00\n",
      "Saving file 2006-02-13T05:10:00\n",
      "Saving file 2006-02-13T05:20:00\n",
      "Starting conversions.\n",
      "Saving file 2006-02-13T05:30:00\n",
      "Saving file 2006-02-13T05:40:00\n",
      "Saving file 2006-02-13T05:50:00\n",
      "Starting conversions.\n",
      "Saving file 2006-02-13T06:00:00\n",
      "Saving file 2006-02-13T06:10:00\n",
      "Saving file 2006-02-13T06:20:00\n",
      "Starting conversions.\n",
      "Saving file 2006-02-13T06:30:00\n",
      "Saving file 2006-02-13T06:40:00\n",
      "Saving file 2006-02-13T06:50:00\n",
      "Starting conversions.\n",
      "Saving file 2006-02-13T07:00:00\n",
      "Saving file 2006-02-13T07:10:00\n",
      "Saving file 2006-02-13T07:20:00\n",
      "Starting conversions.\n",
      "Saving file 2006-02-13T07:30:00\n",
      "Saving file 2006-02-13T07:40:00\n",
      "Saving file 2006-02-13T07:50:00\n",
      "Starting conversions.\n",
      "Saving file 2006-02-13T08:00:00\n",
      "Saving file 2006-02-13T08:10:00\n",
      "Saving file 2006-02-13T08:20:00\n",
      "Starting conversions.\n",
      "Saving file 2006-02-13T08:30:00\n",
      "Saving file 2006-02-13T08:40:00\n",
      "Saving file 2006-02-13T08:50:00\n",
      "Starting conversions.\n",
      "Saving file 2006-02-13T09:00:00\n",
      "Saving file 2006-02-13T09:10:00\n",
      "Saving file 2006-02-13T09:20:00\n",
      "Starting conversions.\n",
      "Saving file 2006-02-13T09:30:00\n",
      "Saving file 2006-02-13T09:40:00\n",
      "Saving file 2006-02-13T09:50:00\n",
      "Starting conversions.\n",
      "Saving file 2006-02-13T10:00:00\n",
      "Saving file 2006-02-13T10:10:00\n",
      "Saving file 2006-02-13T10:20:00\n",
      "Starting conversions.\n",
      "Saving file 2006-02-13T10:30:00\n",
      "Saving file 2006-02-13T10:40:00\n",
      "Saving file 2006-02-13T10:50:00\n",
      "Starting conversions.\n",
      "Saving file 2006-02-13T11:00:00\n",
      "Saving file 2006-02-13T11:10:00\n",
      "Saving file 2006-02-13T11:20:00\n",
      "Starting conversions.\n",
      "Saving file 2006-02-13T11:30:00\n",
      "Saving file 2006-02-13T11:40:00\n",
      "Saving file 2006-02-13T11:50:00\n",
      "Starting conversions.\n",
      "Saving file 2006-02-13T12:00:00\n"
     ]
    },
    {
     "name": "stderr",
     "output_type": "stream",
     "text": [
      "Traceback (most recent call last):\n",
      "  File \"<ipython-input-3-64440f48fbe6>\", line 3, in <module>\n",
      "    caf.WRF_to_pyart(mp='thompson')\n",
      "  File \"/home/563/esh563/CPOL_analysis/caine_func.py\", line 107, in WRF_to_pyart\n",
      "    wrf = WRF.isel(Time=j)\n",
      "  File \"/g/data3/hh5/public/apps/miniconda3/envs/analysis3-19.07/lib/python3.6/site-packages/xarray/core/dataset.py\", line 1920, in isel\n",
      "    new_var = var.isel(indexers=var_indexers)\n",
      "  File \"/g/data3/hh5/public/apps/miniconda3/envs/analysis3-19.07/lib/python3.6/site-packages/xarray/core/variable.py\", line 987, in isel\n",
      "    return self[tuple(key)]\n",
      "  File \"/g/data3/hh5/public/apps/miniconda3/envs/analysis3-19.07/lib/python3.6/site-packages/xarray/core/variable.py\", line 680, in __getitem__\n",
      "    data = as_indexable(self._data)[indexer]\n",
      "  File \"/g/data3/hh5/public/apps/miniconda3/envs/analysis3-19.07/lib/python3.6/site-packages/xarray/core/indexing.py\", line 694, in __getitem__\n",
      "    return type(self)(_wrap_numpy_scalars(self.array[key]))\n",
      "  File \"/g/data3/hh5/public/apps/miniconda3/envs/analysis3-19.07/lib/python3.6/site-packages/xarray/core/indexing.py\", line 669, in __getitem__\n",
      "    return type(self)(_wrap_numpy_scalars(self.array[key]))\n",
      "  File \"/g/data3/hh5/public/apps/miniconda3/envs/analysis3-19.07/lib/python3.6/site-packages/xarray/core/indexing.py\", line 579, in __getitem__\n",
      "    return type(self)(self.array, self._updated_key(indexer))\n",
      "  File \"/g/data3/hh5/public/apps/miniconda3/envs/analysis3-19.07/lib/python3.6/site-packages/xarray/core/indexing.py\", line 551, in _updated_key\n",
      "    full_key.append(_index_indexer_1d(k, next(iter_new_key), size))\n",
      "  File \"/g/data3/hh5/public/apps/miniconda3/envs/analysis3-19.07/lib/python3.6/site-packages/xarray/core/indexing.py\", line 314, in _index_indexer_1d\n",
      "    indexer = _expand_slice(old_indexer, size)[applied_indexer]\n",
      "IndexError: index 1 is out of bounds for axis 0 with size 1\n"
     ]
    },
    {
     "name": "stdout",
     "output_type": "stream",
     "text": [
      "> /g/data3/hh5/public/apps/miniconda3/envs/analysis3-19.07/lib/python3.6/site-packages/xarray/core/indexing.py(314)_index_indexer_1d()\n",
      "-> indexer = _expand_slice(old_indexer, size)[applied_indexer]\n",
      "(Pdb) q\n"
     ]
    }
   ],
   "source": [
    "if __name__ == '__main__':\n",
    "    try:\n",
    "        caf.WRF_to_pyart(mp='thompson')\n",
    "        \n",
    "    except:\n",
    "        extype, value, tb = sys.exc_info()\n",
    "        traceback.print_exc()\n",
    "        pdb.post_mortem(tb)"
   ]
  },
  {
   "cell_type": "code",
   "execution_count": 5,
   "metadata": {
    "ExecuteTime": {
     "end_time": "2019-10-15T02:00:19.265777Z",
     "start_time": "2019-10-15T02:00:19.196085Z"
    }
   },
   "outputs": [],
   "source": [
    "test = xr.open_dataset('/g/data/w40/esh563/lind04_ref/lind04_ref_2006-02-09T10:20:00.nc')"
   ]
  },
  {
   "cell_type": "code",
   "execution_count": 7,
   "metadata": {
    "ExecuteTime": {
     "end_time": "2019-10-15T04:06:07.539462Z",
     "start_time": "2019-10-15T04:06:07.524161Z"
    }
   },
   "outputs": [
    {
     "ename": "NameError",
     "evalue": "name 't' is not defined",
     "output_type": "error",
     "traceback": [
      "\u001b[0;31m---------------------------------------------------------------------------\u001b[0m",
      "\u001b[0;31mNameError\u001b[0m                                 Traceback (most recent call last)",
      "\u001b[0;32m<ipython-input-7-c10cb76740a6>\u001b[0m in \u001b[0;36m<module>\u001b[0;34m\u001b[0m\n\u001b[0;32m----> 1\u001b[0;31m \u001b[0;34m'lind04_ref_'\u001b[0m \u001b[0;34m+\u001b[0m \u001b[0mstr\u001b[0m\u001b[0;34m(\u001b[0m\u001b[0mt\u001b[0m\u001b[0;34m)\u001b[0m \u001b[0;34m+\u001b[0m \u001b[0;34m'.nc'\u001b[0m\u001b[0;34m\u001b[0m\u001b[0;34m\u001b[0m\u001b[0m\n\u001b[0m",
      "\u001b[0;31mNameError\u001b[0m: name 't' is not defined"
     ]
    }
   ],
   "source": [
    "'lind04_ref_' + str(t) + '.nc'"
   ]
  },
  {
   "cell_type": "code",
   "execution_count": 3,
   "metadata": {
    "ExecuteTime": {
     "end_time": "2019-11-07T02:22:18.260053Z",
     "start_time": "2019-11-07T02:22:16.326798Z"
    }
   },
   "outputs": [],
   "source": [
    "test = xr.open_dataset('/g/data/rr5/CPOL_radar/CPOL_level_1b/GRIDDED/GRID_150km_2500m/2011/20110312/CPOL_20110312_0750_GRIDS_2500m.nc')"
   ]
  },
  {
   "cell_type": "code",
   "execution_count": 97,
   "metadata": {
    "ExecuteTime": {
     "end_time": "2019-10-14T02:11:08.806065Z",
     "start_time": "2019-10-14T02:11:08.775746Z"
    }
   },
   "outputs": [
    {
     "data": {
      "text/plain": [
       "<xarray.DataArray 'longitude' (time: 1, z: 41, y: 117, x: 117)>\n",
       "array([[[[129.70265, ..., 132.38513],\n",
       "         ...,\n",
       "         [129.71584, ..., 132.37195]],\n",
       "\n",
       "        ...,\n",
       "\n",
       "        [[129.70265, ..., 132.38513],\n",
       "         ...,\n",
       "         [129.71584, ..., 132.37195]]]], dtype=float32)\n",
       "Coordinates:\n",
       "  * time     (time) datetime64[ns] 2011-03-12T07:50:02\n",
       "  * x        (x) float64 -1.45e+05 -1.425e+05 -1.4e+05 ... 1.425e+05 1.45e+05\n",
       "  * y        (y) float64 -1.45e+05 -1.425e+05 -1.4e+05 ... 1.425e+05 1.45e+05\n",
       "  * z        (z) float64 0.0 500.0 1e+03 1.5e+03 ... 1.9e+04 1.95e+04 2e+04\n",
       "Attributes:\n",
       "    long_name:      Longitude\n",
       "    units:          degrees_east\n",
       "    standard_name:  Longitude"
      ]
     },
     "execution_count": 97,
     "metadata": {},
     "output_type": "execute_result"
    }
   ],
   "source": [
    "# test.latitude.values[0,0,0,0]\n",
    "# test.longitude.values[0,0,0,-1]\n",
    "test.longitude"
   ]
  },
  {
   "cell_type": "code",
   "execution_count": 94,
   "metadata": {
    "ExecuteTime": {
     "end_time": "2019-10-14T02:10:45.190030Z",
     "start_time": "2019-10-14T02:10:45.185122Z"
    }
   },
   "outputs": [
    {
     "data": {
      "text/plain": [
       "129.71584"
      ]
     },
     "execution_count": 94,
     "metadata": {},
     "output_type": "execute_result"
    }
   ],
   "source": [
    "-13.549555, -10.941778\n",
    "129.71584 132.38513"
   ]
  },
  {
   "cell_type": "code",
   "execution_count": 4,
   "metadata": {
    "ExecuteTime": {
     "end_time": "2019-11-07T02:23:07.363778Z",
     "start_time": "2019-11-07T02:22:22.001832Z"
    }
   },
   "outputs": [],
   "source": [
    "wrf = xr.open_dataset('/g/data/w40/esh563/thompson/d04.dir/wrfout_d04_2006-02-09_10:00:00.nc.gz')\n",
    "# hgt_AGL = np.load('/g/data/w40/esh563/d04_hgt_AGL.npy')\n",
    "# # Create function to de\n",
    "# def moving_average(a, n=3):\n",
    "#     ret = np.cumsum(a, dtype=float)\n",
    "#     ret[n:] = ret[n:] - ret[:-n]\n",
    "#     return ret[n - 1:] / n\n",
    "wrf = wrf.isel(Time=2)\n",
    "z = (wrf.PH + wrf.PHB)/9.80665\n",
    "# wrf['bottom_top']=moving_average(hgt_AGL, n=2)\n",
    "# wrf['bottom_top_stag'] = hgt_AGL"
   ]
  },
  {
   "cell_type": "code",
   "execution_count": 20,
   "metadata": {
    "ExecuteTime": {
     "end_time": "2019-11-07T02:24:08.344576Z",
     "start_time": "2019-11-07T02:24:08.281661Z"
    }
   },
   "outputs": [
    {
     "data": {
      "text/plain": [
       "<xarray.Dataset>\n",
       "Dimensions:              (bottom_top: 63, bottom_top_stag: 64, south_north: 486, south_north_stag: 487, west_east: 717, west_east_stag: 718)\n",
       "Coordinates:\n",
       "    XLAT                 (south_north, west_east) float32 ...\n",
       "    XLONG                (south_north, west_east) float32 ...\n",
       "    XLAT_U               (south_north, west_east_stag) float32 ...\n",
       "    XLONG_U              (south_north, west_east_stag) float32 ...\n",
       "    XLAT_V               (south_north_stag, west_east) float32 ...\n",
       "    XLONG_V              (south_north_stag, west_east) float32 ...\n",
       "Dimensions without coordinates: bottom_top, bottom_top_stag, south_north, south_north_stag, west_east, west_east_stag\n",
       "Data variables:\n",
       "    Times                |S19 ...\n",
       "    U                    (bottom_top, south_north, west_east_stag) float32 2.7329984 ... -17.816767\n",
       "    V                    (bottom_top, south_north_stag, west_east) float32 -0.88885325 ... -1.588991\n",
       "    W                    (bottom_top_stag, south_north, west_east) float32 ...\n",
       "    PH                   (bottom_top_stag, south_north, west_east) float32 ...\n",
       "    PHB                  (bottom_top_stag, south_north, west_east) float32 ...\n",
       "    T                    (bottom_top, south_north, west_east) float32 ...\n",
       "    MU                   (south_north, west_east) float32 ...\n",
       "    MUB                  (south_north, west_east) float32 ...\n",
       "    P                    (bottom_top, south_north, west_east) float32 ...\n",
       "    PB                   (bottom_top, south_north, west_east) float32 ...\n",
       "    XTIME                float32 ...\n",
       "    QVAPOR               (bottom_top, south_north, west_east) float32 ...\n",
       "    QCLOUD               (bottom_top, south_north, west_east) float32 ...\n",
       "    QRAIN                (bottom_top, south_north, west_east) float32 ...\n",
       "    QICE                 (bottom_top, south_north, west_east) float32 ...\n",
       "    QSNOW                (bottom_top, south_north, west_east) float32 ...\n",
       "    QGRAUP               (bottom_top, south_north, west_east) float32 ...\n",
       "    QNICE                (bottom_top, south_north, west_east) float32 ...\n",
       "    QNRAIN               (bottom_top, south_north, west_east) float32 ...\n",
       "    HGT                  (south_north, west_east) float32 ...\n",
       "    P_TOP                float32 ...\n",
       "    T00                  float32 ...\n",
       "    P00                  float32 ...\n",
       "    TLP                  float32 ...\n",
       "    TISO                 float32 ...\n",
       "    MAX_MSTFX            float32 ...\n",
       "    MAX_MSTFY            float32 ...\n",
       "    I_RAINC              (south_north, west_east) int32 ...\n",
       "    I_RAINNC             (south_north, west_east) int32 ...\n",
       "    OLR                  (south_north, west_east) float32 ...\n",
       "    SAVE_TOPO_FROM_REAL  int32 ...\n",
       "Attributes:\n",
       "    TITLE:                            OUTPUT FROM WRF V3.1.1 MODEL\n",
       "    START_DATE:                      2006-02-09_10:00:00\n",
       "    SIMULATION_START_DATE:           2006-02-08_12:00:00\n",
       "    WEST-EAST_GRID_DIMENSION:        718\n",
       "    SOUTH-NORTH_GRID_DIMENSION:      487\n",
       "    BOTTOM-TOP_GRID_DIMENSION:       64\n",
       "    DX:                              1250.0\n",
       "    DY:                              1250.0\n",
       "    GRIDTYPE:                        C\n",
       "    DIFF_OPT:                        1\n",
       "    KM_OPT:                          4\n",
       "    DAMP_OPT:                        3\n",
       "    DAMPCOEF:                        0.2\n",
       "    KHDIF:                           0.0\n",
       "    KVDIF:                           0.0\n",
       "    MP_PHYSICS:                      8\n",
       "    RA_LW_PHYSICS:                   1\n",
       "    RA_SW_PHYSICS:                   1\n",
       "    SF_SFCLAY_PHYSICS:               2\n",
       "    SF_SURFACE_PHYSICS:              2\n",
       "    BL_PBL_PHYSICS:                  2\n",
       "    CU_PHYSICS:                      0\n",
       "    SURFACE_INPUT_SOURCE:            1\n",
       "    SST_UPDATE:                      0\n",
       "    GRID_FDDA:                       0\n",
       "    GFDDA_INTERVAL_M:                0\n",
       "    GFDDA_END_H:                     0\n",
       "    GRID_SFDDA:                      0\n",
       "    SGFDDA_INTERVAL_M:               0\n",
       "    SGFDDA_END_H:                    0\n",
       "    SF_URBAN_PHYSICS:                0\n",
       "    FEEDBACK:                        0\n",
       "    SMOOTH_OPTION:                   0\n",
       "    SWRAD_SCAT:                      1.0\n",
       "    W_DAMPING:                       0\n",
       "    MOIST_ADV_OPT:                   1\n",
       "    SCALAR_ADV_OPT:                  1\n",
       "    TKE_ADV_OPT:                     1\n",
       "    DIFF_6TH_OPT:                    2\n",
       "    DIFF_6TH_FACTOR:                 0.12\n",
       "    OBS_NUDGE_OPT:                   0\n",
       "    WEST-EAST_PATCH_START_UNSTAG:    1\n",
       "    WEST-EAST_PATCH_END_UNSTAG:      717\n",
       "    WEST-EAST_PATCH_START_STAG:      1\n",
       "    WEST-EAST_PATCH_END_STAG:        718\n",
       "    SOUTH-NORTH_PATCH_START_UNSTAG:  1\n",
       "    SOUTH-NORTH_PATCH_END_UNSTAG:    486\n",
       "    SOUTH-NORTH_PATCH_START_STAG:    1\n",
       "    SOUTH-NORTH_PATCH_END_STAG:      487\n",
       "    BOTTOM-TOP_PATCH_START_UNSTAG:   1\n",
       "    BOTTOM-TOP_PATCH_END_UNSTAG:     63\n",
       "    BOTTOM-TOP_PATCH_START_STAG:     1\n",
       "    BOTTOM-TOP_PATCH_END_STAG:       64\n",
       "    GRID_ID:                         4\n",
       "    PARENT_ID:                       3\n",
       "    I_PARENT_START:                  132\n",
       "    J_PARENT_START:                  60\n",
       "    PARENT_GRID_RATIO:               3\n",
       "    DT:                              2.222222\n",
       "    CEN_LAT:                         -11.585312\n",
       "    CEN_LON:                         130.69547\n",
       "    TRUELAT1:                        -11.501\n",
       "    TRUELAT2:                        0.0\n",
       "    MOAD_CEN_LAT:                    -11.500999\n",
       "    STAND_LON:                       130.902\n",
       "    POLE_LAT:                        90.0\n",
       "    POLE_LON:                        0.0\n",
       "    GMT:                             12.0\n",
       "    JULYR:                           2006\n",
       "    JULDAY:                          39\n",
       "    MAP_PROJ:                        3\n",
       "    MMINLU:                          USGS\n",
       "    NUM_LAND_CAT:                    24\n",
       "    ISWATER:                         16\n",
       "    ISLAKE:                          -1\n",
       "    ISICE:                           24\n",
       "    ISURBAN:                         1\n",
       "    ISOILWATER:                      14"
      ]
     },
     "execution_count": 20,
     "metadata": {},
     "output_type": "execute_result"
    }
   ],
   "source": [
    "wrf"
   ]
  },
  {
   "cell_type": "code",
   "execution_count": 21,
   "metadata": {
    "ExecuteTime": {
     "end_time": "2019-11-07T02:24:14.470074Z",
     "start_time": "2019-11-07T02:24:12.149989Z"
    }
   },
   "outputs": [],
   "source": [
    "# wrf.drop(labels=None\n",
    "wrf_water = wrf[['QVAPOR', 'QCLOUD', 'QRAIN', 'QICE', 'QSNOW', 'QGRAUP', \n",
    "                 'QNICE', 'QNRAIN',\n",
    "                 'T', 'P', 'PB']]\n",
    "wrf_water['west_east'] = wrf_water.XLONG[0,:]\n",
    "wrf_water['south_north'] = wrf_water.XLAT[:,0]\n",
    "# wrf_water = wrf_water.drop(['XLONG', 'XLAT'])\n",
    "\n",
    "U = wrf['U']\n",
    "U = U.rolling(west_east_stag=2, center=True).mean().dropna('west_east_stag')\n",
    "U['west_east_stag'] = wrf_water['west_east'].values\n",
    "U = U.rename({'west_east_stag' : 'west_east'})\n",
    "U['south_north'] = U.XLAT_U[:,0].values\n",
    "U = U.drop(['XLONG_U', 'XLAT_U'])\n",
    "U.name = 'U'\n",
    "\n",
    "V = wrf['V']\n",
    "V = V.rolling(south_north_stag=2, center=True).mean().dropna('south_north_stag')\n",
    "V['south_north_stag'] = wrf_water['south_north'].values\n",
    "V = V.rename({'south_north_stag' : 'south_north'})\n",
    "V['west_east'] = V.XLONG_V[0,:].values\n",
    "V = V.drop(['XLONG_V', 'XLAT_V'])\n",
    "V.name = 'V'\n",
    "\n",
    "wrf_vert = wrf[['W', 'PH', 'PHB']]\n",
    "wrf_vert['west_east'] = wrf_vert.XLONG[0,:]\n",
    "wrf_vert['south_north'] = wrf_vert.XLAT[:,0]\n",
    "wrf_vert = wrf_vert.drop(['XLONG', 'XLAT'])\n",
    "wrf_vert = wrf_vert.rolling(bottom_top_stag=2, center=True).mean().dropna('bottom_top_stag')\n",
    "wrf_vert = wrf_vert.rename({'bottom_top_stag' : 'bottom_top'})\n",
    "\n",
    "wrf_water = xr.merge([wrf_water, U, V, wrf_vert])"
   ]
  },
  {
   "cell_type": "code",
   "execution_count": 22,
   "metadata": {
    "ExecuteTime": {
     "end_time": "2019-11-07T02:24:24.560442Z",
     "start_time": "2019-11-07T02:24:14.471774Z"
    }
   },
   "outputs": [],
   "source": [
    "wrf_water = wrf_water.coarsen(west_east=2, boundary='trim', side='left').mean()\n",
    "wrf_water = wrf_water.coarsen(south_north=2, boundary='trim', side='left').mean()"
   ]
  },
  {
   "cell_type": "code",
   "execution_count": 23,
   "metadata": {
    "ExecuteTime": {
     "end_time": "2019-11-07T02:24:24.567737Z",
     "start_time": "2019-11-07T02:24:24.562942Z"
    }
   },
   "outputs": [
    {
     "data": {
      "text/plain": [
       "(34, 150)"
      ]
     },
     "execution_count": 23,
     "metadata": {},
     "output_type": "execute_result"
    }
   ],
   "source": [
    "136, 252\n",
    "34, 150"
   ]
  },
  {
   "cell_type": "code",
   "execution_count": 24,
   "metadata": {
    "ExecuteTime": {
     "end_time": "2019-11-07T02:24:24.586184Z",
     "start_time": "2019-11-07T02:24:24.569458Z"
    }
   },
   "outputs": [
    {
     "data": {
      "text/plain": [
       "(array([ 34,  35,  36,  37,  38,  39,  40,  41,  42,  43,  44,  45,  46,\n",
       "         47,  48,  49,  50,  51,  52,  53,  54,  55,  56,  57,  58,  59,\n",
       "         60,  61,  62,  63,  64,  65,  66,  67,  68,  69,  70,  71,  72,\n",
       "         73,  74,  75,  76,  77,  78,  79,  80,  81,  82,  83,  84,  85,\n",
       "         86,  87,  88,  89,  90,  91,  92,  93,  94,  95,  96,  97,  98,\n",
       "         99, 100, 101, 102, 103, 104, 105, 106, 107, 108, 109, 110, 111,\n",
       "        112, 113, 114, 115, 116, 117, 118, 119, 120, 121, 122, 123, 124,\n",
       "        125, 126, 127, 128, 129, 130, 131, 132, 133, 134, 135, 136, 137,\n",
       "        138, 139, 140, 141, 142, 143, 144, 145, 146, 147, 148, 149, 150]),)"
      ]
     },
     "execution_count": 24,
     "metadata": {},
     "output_type": "execute_result"
    }
   ],
   "source": [
    "np.where((wrf_water.west_east.values >= 129.70584) & (wrf_water.west_east.values <= 132.39513))\n",
    "np.where((wrf_water.south_north.values >= -13.55555) & (wrf_water.south_north.values <= -10.931778))"
   ]
  },
  {
   "cell_type": "code",
   "execution_count": 25,
   "metadata": {
    "ExecuteTime": {
     "end_time": "2019-11-07T02:24:24.598438Z",
     "start_time": "2019-11-07T02:24:24.588030Z"
    }
   },
   "outputs": [],
   "source": [
    "wrf_water = wrf_water.sel(west_east = slice(129.70584, 132.39513))\n",
    "wrf_water = wrf_water.sel(south_north = slice(-13.55555, -10.931778))\n",
    "# wrf_water = wrf_water.isel(west_east = slice(136, 252))\n",
    "# wrf_water = wrf_water.isel(south_north = slice(34, 150))"
   ]
  },
  {
   "cell_type": "code",
   "execution_count": 26,
   "metadata": {
    "ExecuteTime": {
     "end_time": "2019-11-07T02:24:24.631012Z",
     "start_time": "2019-11-07T02:24:24.600177Z"
    }
   },
   "outputs": [
    {
     "data": {
      "text/plain": [
       "<xarray.Dataset>\n",
       "Dimensions:      (bottom_top: 63, south_north: 117, west_east: 117)\n",
       "Coordinates:\n",
       "    XLAT         (south_north, west_east) float32 -13.533852 ... -10.9326515\n",
       "    XLONG        (south_north, west_east) float32 129.71446 ... 132.37636\n",
       "  * west_east    (west_east) float32 129.71446 129.73741 ... 132.35341 132.37636\n",
       "  * south_north  (south_north) float32 -13.533852 -13.511543 ... -10.9326515\n",
       "Dimensions without coordinates: bottom_top\n",
       "Data variables:\n",
       "    QVAPOR       (bottom_top, south_north, west_east) float32 0.021213936 ... 3.932657e-06\n",
       "    QCLOUD       (bottom_top, south_north, west_east) float32 0.0 0.0 ... 0.0\n",
       "    QRAIN        (bottom_top, south_north, west_east) float32 0.0 0.0 ... 0.0\n",
       "    QICE         (bottom_top, south_north, west_east) float32 0.0 0.0 ... 0.0\n",
       "    QSNOW        (bottom_top, south_north, west_east) float32 0.0 0.0 ... 0.0\n",
       "    QGRAUP       (bottom_top, south_north, west_east) float32 0.0 0.0 ... 0.0\n",
       "    QNICE        (bottom_top, south_north, west_east) float32 0.0 0.0 ... 0.0\n",
       "    QNRAIN       (bottom_top, south_north, west_east) float32 0.0 0.0 ... 0.0\n",
       "    T            (bottom_top, south_north, west_east) float32 1.3385962 ... 374.25787\n",
       "    P            (bottom_top, south_north, west_east) float32 810.1035 ... 3.7980042\n",
       "    PB           (bottom_top, south_north, west_east) float32 99752.5 ... 1990.0\n",
       "    U            (bottom_top, south_north, west_east) float32 5.740793 ... -22.03119\n",
       "    V            (bottom_top, south_north, west_east) float32 0.33645725 ... 0.12597674\n",
       "    W            (bottom_top, south_north, west_east) float32 -0.0026755743 ... 0.017954119\n",
       "    PH           (bottom_top, south_north, west_east) float32 14.71801 ... 45974.383\n",
       "    PHB          (bottom_top, south_north, west_east) float32 206.41693 ... 216960.33"
      ]
     },
     "execution_count": 26,
     "metadata": {},
     "output_type": "execute_result"
    }
   ],
   "source": [
    "wrf_water"
   ]
  },
  {
   "cell_type": "code",
   "execution_count": 27,
   "metadata": {
    "ExecuteTime": {
     "end_time": "2019-11-07T02:24:29.104782Z",
     "start_time": "2019-11-07T02:24:29.094529Z"
    }
   },
   "outputs": [],
   "source": [
    "longitude = wrf_water.XLONG.values\n",
    "longitude = np.expand_dims(longitude, 0)\n",
    "longitude = np.concatenate([longitude] * 41)\n",
    "longitude = np.expand_dims(longitude, 0)\n",
    "\n",
    "latitude = wrf_water.XLAT.values\n",
    "latitude = np.expand_dims(latitude, 0)\n",
    "latitude = np.concatenate([latitude] * 41)\n",
    "latitude = np.expand_dims(latitude, 0)"
   ]
  },
  {
   "cell_type": "code",
   "execution_count": 18,
   "metadata": {
    "ExecuteTime": {
     "end_time": "2019-11-04T03:09:54.466031Z",
     "start_time": "2019-11-04T03:09:54.456551Z"
    }
   },
   "outputs": [
    {
     "data": {
      "text/plain": [
       "(1, 41, 117, 117)"
      ]
     },
     "execution_count": 18,
     "metadata": {},
     "output_type": "execute_result"
    }
   ],
   "source": [
    "latitude.shape"
   ]
  },
  {
   "cell_type": "code",
   "execution_count": 19,
   "metadata": {
    "ExecuteTime": {
     "end_time": "2019-11-04T03:09:59.588811Z",
     "start_time": "2019-11-04T03:09:58.898248Z"
    }
   },
   "outputs": [],
   "source": [
    "CPOL = xr.open_dataset('/g/data/rr5/CPOL_radar/CPOL_level_1b/GRIDDED/GRID_150km_2500m/2011/20110312/CPOL_20110312_0750_GRIDS_2500m.nc')"
   ]
  },
  {
   "cell_type": "code",
   "execution_count": 20,
   "metadata": {
    "ExecuteTime": {
     "end_time": "2019-11-04T03:10:00.277894Z",
     "start_time": "2019-11-04T03:10:00.255840Z"
    }
   },
   "outputs": [
    {
     "data": {
      "text/plain": [
       "<xarray.DataArray 'longitude' (time: 1, z: 41, y: 117, x: 117)>\n",
       "[561249 values with dtype=float32]\n",
       "Coordinates:\n",
       "  * time     (time) datetime64[ns] 2011-03-12T07:50:02\n",
       "  * x        (x) float64 -1.45e+05 -1.425e+05 -1.4e+05 ... 1.425e+05 1.45e+05\n",
       "  * y        (y) float64 -1.45e+05 -1.425e+05 -1.4e+05 ... 1.425e+05 1.45e+05\n",
       "  * z        (z) float64 0.0 500.0 1e+03 1.5e+03 ... 1.9e+04 1.95e+04 2e+04\n",
       "Attributes:\n",
       "    long_name:      Longitude\n",
       "    units:          degrees_east\n",
       "    standard_name:  Longitude"
      ]
     },
     "execution_count": 20,
     "metadata": {},
     "output_type": "execute_result"
    }
   ],
   "source": [
    "CPOL.longitude"
   ]
  },
  {
   "cell_type": "code",
   "execution_count": 28,
   "metadata": {
    "ExecuteTime": {
     "end_time": "2019-11-07T02:24:32.381717Z",
     "start_time": "2019-11-07T02:24:32.376090Z"
    }
   },
   "outputs": [],
   "source": [
    "from numba import jit\n",
    "from numba import int32"
   ]
  },
  {
   "cell_type": "code",
   "execution_count": 29,
   "metadata": {
    "ExecuteTime": {
     "end_time": "2019-11-07T02:24:33.025268Z",
     "start_time": "2019-11-07T02:24:33.016052Z"
    }
   },
   "outputs": [],
   "source": [
    "@jit()\n",
    "def test_fun(field, z):\n",
    "    test_int = np.ones((41,117,117)) * np.nan\n",
    "    z_int = np.arange(0.0,20500.0,500.0)\n",
    "#     z = (wrf_water.PH+wrf_water.PHB)/9.80665\n",
    "\n",
    "    for i in range(117):\n",
    "        for j in range(117):\n",
    "            test_int[:,i,j] = np.interp(z_int, z[:,i,j], field[:,i,j], left=np.nan)\n",
    "    return test_int"
   ]
  },
  {
   "cell_type": "code",
   "execution_count": 30,
   "metadata": {
    "ExecuteTime": {
     "end_time": "2019-11-07T02:24:40.458010Z",
     "start_time": "2019-11-07T02:24:36.995696Z"
    }
   },
   "outputs": [],
   "source": [
    "var_list = ['QVAPOR', 'QCLOUD', 'QRAIN', 'QICE', 'QSNOW', 'QGRAUP', \n",
    "            'QNICE', 'QNRAIN',\n",
    "            'T', 'P', 'PB', 'U', 'V', 'W']\n",
    "ds_list = []\n",
    "x = np.arange(-145000.0, 145000.0 + 2500.0, 2500.0)\n",
    "y = np.arange(-145000.0, 145000.0 + 2500.0, 2500.0)\n",
    "for v in var_list:\n",
    "    test_innt = test_fun(wrf_water[v].values, \n",
    "                         ((wrf_water.PH+wrf_water.PHB)/9.80665).values)\n",
    "    # Expand dims\n",
    "    # Add time dimension\n",
    "    ds = xr.Dataset({v: (['z', 'y', 'x'],  test_innt),},\n",
    "                    coords={'y': y,\n",
    "                            'x': x,\n",
    "                            'z': np.arange(0.0,20500.0,500.0)})\n",
    "    ds_list.append(ds)"
   ]
  },
  {
   "cell_type": "code",
   "execution_count": 19,
   "metadata": {
    "ExecuteTime": {
     "end_time": "2019-11-07T02:23:53.204494Z",
     "start_time": "2019-11-07T02:23:53.179862Z"
    }
   },
   "outputs": [],
   "source": [
    "# # Add latitude longitude values\n",
    "# longitude = wrf_water.XLONG.values\n",
    "# longitude = np.expand_dims(longitude, 0)\n",
    "# longitude = np.concatenate([longitude] * 41)\n",
    "# # longitude = np.expand_dims(longitude, 0)\n",
    "# ds = xr.Dataset({'longitude': (['z', 'y', 'x'],  longitude),},\n",
    "#                 coords={'y': y, 'x': x, 'z': z})\n",
    "# ds_list.append(ds)\n",
    "\n",
    "# latitude = wrf_water.XLAT.values\n",
    "# latitude = np.expand_dims(latitude, 0)\n",
    "# latitude = np.concatenate([latitude] * 41)\n",
    "# # latitude = np.expand_dims(latitude, 0)\n",
    "# ds = xr.Dataset({'latitude': (['z', 'y', 'x'],  latitude),},\n",
    "#                 coords={'y': y, 'x': x, 'z': z})\n",
    "# ds_list.append(ds)\n",
    "\n",
    "interpi = xr.merge(ds_list)"
   ]
  },
  {
   "cell_type": "code",
   "execution_count": 31,
   "metadata": {
    "ExecuteTime": {
     "end_time": "2019-11-07T02:24:45.586852Z",
     "start_time": "2019-11-07T02:24:45.540341Z"
    }
   },
   "outputs": [
    {
     "data": {
      "text/plain": [
       "<xarray.Dataset>\n",
       "Dimensions:  (x: 117, y: 117, z: 41)\n",
       "Coordinates:\n",
       "  * y        (y) float64 -1.45e+05 -1.425e+05 -1.4e+05 ... 1.425e+05 1.45e+05\n",
       "  * x        (x) float64 -1.45e+05 -1.425e+05 -1.4e+05 ... 1.425e+05 1.45e+05\n",
       "  * z        (z) float64 0.0 500.0 1e+03 1.5e+03 ... 1.9e+04 1.95e+04 2e+04\n",
       "Data variables:\n",
       "    QVAPOR   (z, y, x) float64 nan nan nan nan ... 4.179e-06 4.18e-06 4.181e-06\n",
       "    QCLOUD   (z, y, x) float64 nan nan nan nan nan nan ... 0.0 0.0 0.0 0.0 0.0\n",
       "    QRAIN    (z, y, x) float64 nan nan nan nan nan nan ... 0.0 0.0 0.0 0.0 0.0\n",
       "    QICE     (z, y, x) float64 nan nan nan nan nan nan ... 0.0 0.0 0.0 0.0 0.0\n",
       "    QSNOW    (z, y, x) float64 nan nan nan nan nan nan ... 0.0 0.0 0.0 0.0 0.0\n",
       "    QGRAUP   (z, y, x) float64 nan nan nan nan nan nan ... 0.0 0.0 0.0 0.0 0.0\n",
       "    QNICE    (z, y, x) float64 nan nan nan nan nan nan ... 0.0 0.0 0.0 0.0 0.0\n",
       "    QNRAIN   (z, y, x) float64 nan nan nan nan nan nan ... 0.0 0.0 0.0 0.0 0.0\n",
       "    T        (z, y, x) float64 nan nan nan nan nan ... 155.4 155.4 155.5 155.5\n",
       "    P        (z, y, x) float64 nan nan nan nan nan ... 19.44 19.73 19.87 19.96\n",
       "    PB       (z, y, x) float64 nan nan nan nan ... 5.615e+03 5.614e+03 5.614e+03\n",
       "    U        (z, y, x) float64 nan nan nan nan ... -21.47 -21.52 -21.58 -21.62\n",
       "    V        (z, y, x) float64 nan nan nan nan ... 0.4616 0.457 0.4388 0.4108\n",
       "    W        (z, y, x) float64 nan nan nan nan ... -0.03448 -0.03031 -0.02489"
      ]
     },
     "execution_count": 31,
     "metadata": {},
     "output_type": "execute_result"
    }
   ],
   "source": [
    "interpi"
   ]
  },
  {
   "cell_type": "code",
   "execution_count": 342,
   "metadata": {
    "ExecuteTime": {
     "end_time": "2019-10-14T04:58:14.110243Z",
     "start_time": "2019-10-14T04:58:14.101246Z"
    }
   },
   "outputs": [
    {
     "data": {
      "text/plain": [
       "(41, 117, 117)"
      ]
     },
     "execution_count": 342,
     "metadata": {},
     "output_type": "execute_result"
    }
   ],
   "source": [
    "test_innt.shape"
   ]
  },
  {
   "cell_type": "code",
   "execution_count": 343,
   "metadata": {
    "ExecuteTime": {
     "end_time": "2019-10-14T04:58:38.814202Z",
     "start_time": "2019-10-14T04:58:38.801698Z"
    }
   },
   "outputs": [],
   "source": [
    "ds = xr.Dataset({'QRAIN': (['z', 'latitude', 'longitude'],  test_innt),},\n",
    "                  coords={'longitude': wrf_water['west_east'].values,\n",
    "                  'latitude':wrf_water['south_north'].values,\n",
    "                  'z': np.arange(0,20500,500)})"
   ]
  },
  {
   "cell_type": "code",
   "execution_count": 348,
   "metadata": {
    "ExecuteTime": {
     "end_time": "2019-10-14T04:59:51.262046Z",
     "start_time": "2019-10-14T04:59:50.975120Z"
    }
   },
   "outputs": [
    {
     "data": {
      "text/plain": [
       "<matplotlib.collections.QuadMesh at 0x7f89bc3270b8>"
      ]
     },
     "execution_count": 348,
     "metadata": {},
     "output_type": "execute_result"
    },
    {
     "data": {
      "image/png": "[encoded data removed]",
      "text/plain": [
       "<Figure size 432x288 with 2 Axes>"
      ]
     },
     "metadata": {
      "needs_background": "light"
     },
     "output_type": "display_data"
    }
   ],
   "source": [
    "ds['QRAIN'].sel(z=8000).plot()"
   ]
  },
  {
   "cell_type": "code",
   "execution_count": 32,
   "metadata": {
    "ExecuteTime": {
     "end_time": "2019-11-07T02:24:50.410501Z",
     "start_time": "2019-11-07T02:24:50.400696Z"
    }
   },
   "outputs": [],
   "source": [
    "rho_air = 1.225\n",
    "N0r = 8*10**6\n",
    "N0g = 4*10**6\n",
    "N0s = 2*10**7\n",
    "rho_rain = 1000\n",
    "rho_snow = 100\n",
    "rho_graup = 400\n",
    "rho_ice = 917"
   ]
  },
  {
   "cell_type": "code",
   "execution_count": 33,
   "metadata": {
    "ExecuteTime": {
     "end_time": "2019-11-07T02:24:51.249695Z",
     "start_time": "2019-11-07T02:24:51.162296Z"
    }
   },
   "outputs": [],
   "source": [
    "T = (interpi.T + 300)*(100000/(interpi.PB+interpi.P)) ** (-0.286) - 273.15"
   ]
  },
  {
   "cell_type": "code",
   "execution_count": 51,
   "metadata": {
    "ExecuteTime": {
     "end_time": "2019-11-04T04:25:30.530087Z",
     "start_time": "2019-11-04T04:25:30.522060Z"
    }
   },
   "outputs": [
    {
     "data": {
      "text/plain": [
       "0.46211715726000974"
      ]
     },
     "execution_count": 51,
     "metadata": {},
     "output_type": "execute_result"
    }
   ],
   "source": [
    "np.tanh(.5)"
   ]
  },
  {
   "cell_type": "code",
   "execution_count": 66,
   "metadata": {
    "ExecuteTime": {
     "end_time": "2019-11-07T02:31:07.313810Z",
     "start_time": "2019-11-07T02:31:07.293376Z"
    }
   },
   "outputs": [
    {
     "data": {
      "text/plain": [
       "<xarray.DataArray 'QSNOW' (bottom_top: 63, south_north: 486, west_east: 717)>\n",
       "[21953106 values with dtype=float32]\n",
       "Coordinates:\n",
       "    XLAT     (south_north, west_east) float32 ...\n",
       "    XLONG    (south_north, west_east) float32 ...\n",
       "Dimensions without coordinates: bottom_top, south_north, west_east\n",
       "Attributes:\n",
       "    FieldType:    104\n",
       "    MemoryOrder:  XYZ\n",
       "    description:  Snow mixing ratio\n",
       "    units:        kg kg-1\n",
       "    stagger:      "
      ]
     },
     "execution_count": 66,
     "metadata": {},
     "output_type": "execute_result"
    }
   ],
   "source": [
    "wrf.QSNOW"
   ]
  },
  {
   "cell_type": "code",
   "execution_count": 61,
   "metadata": {
    "ExecuteTime": {
     "end_time": "2019-11-07T02:29:49.815523Z",
     "start_time": "2019-11-07T02:29:49.535845Z"
    }
   },
   "outputs": [],
   "source": [
    "# Thompson Scheme\n",
    "\n",
    "# Solve for rain reflectivity\n",
    "lam_rain = (np.pi*rho_rain*interpi.QNRAIN*gamma(4)/(6*interpi.QRAIN*gamma(1)))**(1/3)\n",
    "N0r = interpi.QNRAIN * lam_rain / gamma(1)\n",
    "rain_ref = (6/np.pi)**2*(interpi.QRAIN**2/interpi.QNRAIN)*gamma(7)*rho_air/(rho_rain*gamma(4))**2\n",
    "\n",
    "# Solve for graupel reflectivity\n",
    "N1 = 10**4\n",
    "N2 = 5*10**6\n",
    "qg0 = 0.15*10**(-3)\n",
    "N0g = ((N1-N2)/2)*np.tanh((qg0-interpi.QGRAUP)/qg0)+(N1+N2)/2\n",
    "graup_ref = 720*(rho_air*interpi.QGRAUP)**(7/4)/(N0g**(3/4)*(np.pi*rho_graup)**(7/4))*(rho_graup/rho_ice)**2\n",
    "\n",
    "# Solve for snow reflectivity\n",
    "a = 5.065339-0.062659*T-3.032362*4+0.029469*T*4-0.000285*T**2+0.312550*4**2+0.00020*T**2*4+0.003199*T*4**2-0.015952*4**3\n",
    "a = 10 ** a\n",
    "b = 0.476221-0.015896*T+0.165977*4+0.007468*T*4-0.000141*T**2+0.060366*4**2+0.000079*T**2*4+0.000594*T*4**2-0.003577*4**3\n",
    "snow_ref = 0.189*(rho_snow/rho_ice)**2*a*(interpi.QSNOW*rho_air/0.069)**b\n",
    "\n",
    "# Z = 10 * np.log10(10 ** 18 * (rain_ref+snow_ref+graup_ref))\n",
    "Z = 10 * np.log10(10 ** 18 * (snow_ref))\n",
    "Z.values[Z<0] = np.nan\n",
    "Z.name = 'reflectivity'"
   ]
  },
  {
   "cell_type": "code",
   "execution_count": 62,
   "metadata": {
    "ExecuteTime": {
     "end_time": "2019-11-07T02:29:50.494223Z",
     "start_time": "2019-11-07T02:29:50.241899Z"
    }
   },
   "outputs": [
    {
     "data": {
      "text/plain": [
       "<xarray.DataArray 'reflectivity' (z: 41)>\n",
       "array([        nan,         nan,         nan,         nan,         nan,\n",
       "               nan,         nan,         nan,         nan,         nan,\n",
       "               nan, 32.5383848 , 50.97696282, 64.50193546, 73.1936818 ,\n",
       "       78.12126287, 80.48192688, 81.81633845, 82.34156565, 82.95583459,\n",
       "       83.83576247, 84.532456  , 83.89333465, 82.66485111, 80.98336227,\n",
       "       79.29326153, 77.67622837, 76.06149329, 74.41872273, 72.54737248,\n",
       "       70.456738  , 67.76730857, 64.47437546, 59.17880537, 47.90300836,\n",
       "       44.85299834, 32.48787658,         nan,         nan,         nan,\n",
       "               nan])\n",
       "Coordinates:\n",
       "    y        float64 -6e+04\n",
       "    x        float64 5e+04\n",
       "  * z        (z) float64 0.0 500.0 1e+03 1.5e+03 ... 1.9e+04 1.95e+04 2e+04"
      ]
     },
     "execution_count": 62,
     "metadata": {},
     "output_type": "execute_result"
    },
    {
     "data": {
      "image/png": "[encoded data removed]",
      "text/plain": [
       "<Figure size 432x288 with 2 Axes>"
      ]
     },
     "metadata": {
      "needs_background": "light"
     },
     "output_type": "display_data"
    }
   ],
   "source": [
    "Z[21].plot()\n",
    "Z.sel(x=50000).sel(y=-60000)"
   ]
  },
  {
   "cell_type": "code",
   "execution_count": 52,
   "metadata": {
    "ExecuteTime": {
     "end_time": "2019-10-18T04:53:17.976893Z",
     "start_time": "2019-10-18T04:53:17.795293Z"
    }
   },
   "outputs": [],
   "source": [
    "# Lin Scheme\n",
    "rain_ref = 720 * (rho_air * interpi.QRAIN) ** (7/4) / (N0r ** (3/4) * (np.pi * rho_rain) ** (7/4))\n",
    "snow_ref = 720 * (rho_air * interpi.QSNOW) ** (7/4) / (N0s ** (3/4) * (np.pi * rho_snow) ** (7/4)) * (rho_snow / rho_rain) ** 2 #* (T < 0) *  0.224 \n",
    "graup_ref = 720 * (rho_air * interpi.QGRAUP) ** (7/4) / (N0g ** (3/4) * (np.pi * rho_graup) ** (7/4)) * (rho_graup / rho_rain) ** 2 #* (T < 0) * 0.224 "
   ]
  },
  {
   "cell_type": "code",
   "execution_count": 54,
   "metadata": {
    "ExecuteTime": {
     "end_time": "2019-10-18T04:53:28.156210Z",
     "start_time": "2019-10-18T04:53:28.143232Z"
    }
   },
   "outputs": [],
   "source": [
    "graup_ref.values[T.values<0] = graup_ref.values[T.values<0] * 0.224\n",
    "snow_ref.values[T.values<0] = snow_ref.values[T.values<0] * 0.224"
   ]
  },
  {
   "cell_type": "code",
   "execution_count": 55,
   "metadata": {
    "ExecuteTime": {
     "end_time": "2019-10-18T04:53:29.205148Z",
     "start_time": "2019-10-18T04:53:29.154067Z"
    }
   },
   "outputs": [],
   "source": [
    "Z = 10 * np.log10(10 ** 18 * (rain_ref+snow_ref+graup_ref))"
   ]
  },
  {
   "cell_type": "code",
   "execution_count": 56,
   "metadata": {
    "ExecuteTime": {
     "end_time": "2019-10-18T04:53:29.481058Z",
     "start_time": "2019-10-18T04:53:29.475035Z"
    }
   },
   "outputs": [],
   "source": [
    "Z.values[Z<0] = np.nan\n",
    "Z.name = 'reflectivity'"
   ]
  },
  {
   "cell_type": "code",
   "execution_count": 57,
   "metadata": {
    "ExecuteTime": {
     "end_time": "2019-10-18T04:53:30.018898Z",
     "start_time": "2019-10-18T04:53:29.990428Z"
    }
   },
   "outputs": [
    {
     "data": {
      "text/plain": [
       "<xarray.Dataset>\n",
       "Dimensions:       (x: 117, y: 117, z: 41)\n",
       "Coordinates:\n",
       "  * y             (y) float64 -1.45e+05 -1.425e+05 ... 1.425e+05 1.45e+05\n",
       "  * x             (x) float64 -1.45e+05 -1.425e+05 ... 1.425e+05 1.45e+05\n",
       "  * z             (z) float64 0.0 500.0 1e+03 1.5e+03 ... 1.9e+04 1.95e+04 2e+04\n",
       "Data variables:\n",
       "    QVAPOR        (z, y, x) float64 nan nan nan ... 3.942e-06 3.948e-06\n",
       "    QCLOUD        (z, y, x) float64 nan nan nan nan nan ... 0.0 0.0 0.0 0.0 0.0\n",
       "    QRAIN         (z, y, x) float64 nan nan nan ... 1.22e-36 2.273e-36 3.45e-36\n",
       "    QICE          (z, y, x) float64 nan nan nan nan nan ... 0.0 0.0 0.0 0.0 0.0\n",
       "    QSNOW         (z, y, x) float64 nan nan nan ... 2.75e-18 3.63e-18 2.908e-18\n",
       "    QGRAUP        (z, y, x) float64 nan nan nan ... 8.566e-31 1.008e-30\n",
       "    T             (z, y, x) float64 nan nan nan nan ... 153.5 153.4 153.3 153.3\n",
       "    P             (z, y, x) float64 nan nan nan nan ... 19.88 19.99 20.14 20.39\n",
       "    PB            (z, y, x) float64 nan nan nan ... 5.613e+03 5.613e+03\n",
       "    U             (z, y, x) float64 nan nan nan nan ... -20.91 -20.95 -20.98\n",
       "    V             (z, y, x) float64 nan nan nan nan ... -0.363 -0.335 -0.3\n",
       "    W             (z, y, x) float64 nan nan nan ... -0.00942 -0.00523 -0.003579\n",
       "    reflectivity  (z, y, x) float64 nan nan nan nan nan ... nan nan nan nan nan"
      ]
     },
     "execution_count": 57,
     "metadata": {},
     "output_type": "execute_result"
    }
   ],
   "source": [
    "xr.merge([interpi,Z])"
   ]
  },
  {
   "cell_type": "code",
   "execution_count": 74,
   "metadata": {
    "ExecuteTime": {
     "end_time": "2019-11-04T06:51:41.621125Z",
     "start_time": "2019-11-04T06:51:41.158570Z"
    }
   },
   "outputs": [
    {
     "data": {
      "text/plain": [
       "<matplotlib.contour.QuadContourSet at 0x7f9672775e10>"
      ]
     },
     "execution_count": 74,
     "metadata": {},
     "output_type": "execute_result"
    },
    {
     "data": {
      "image/png": "[encoded data removed]",
      "text/plain": [
       "<Figure size 1440x1152 with 2 Axes>"
      ]
     },
     "metadata": {
      "needs_background": "light"
     },
     "output_type": "display_data"
    }
   ],
   "source": [
    "plt.figure(figsize=(20, 16))\n",
    "W = interpi['W']\n",
    "hgt_lev=5000\n",
    "plt.contourf(Z.x, Z.z, Z.sel(y=-60000, method='nearest'), 20, vmin=0, vmax=80)\n",
    "# plt.pcolormesh(Z.longitude, Z.latitude, Z.sel(z=hgt_lev, method='nearest'))\n",
    "plt.colorbar()\n",
    "plt.contour(W.x, W.z, W.sel(y=-60000, method='nearest'), colors='k', levels=[1,5])\n",
    "# plt.contour(interpi.x, interpi.z, interpi['QRAIN'].sel(y=-60000, method='nearest'), colors='k', n=2)"
   ]
  },
  {
   "cell_type": "code",
   "execution_count": 366,
   "metadata": {
    "ExecuteTime": {
     "end_time": "2019-10-14T23:15:55.347507Z",
     "start_time": "2019-10-14T23:15:55.318393Z"
    }
   },
   "outputs": [
    {
     "data": {
      "text/plain": [
       "<xarray.DataArray 'W' (bottom_top: 63, south_north: 117, west_east: 117)>\n",
       "array([[[ 2.60939589e-03,  6.52425829e-03,  4.19883244e-03, ...,\n",
       "         -6.53097685e-03,  3.43662570e-03,  2.74853483e-02],\n",
       "        [-1.01577630e-03,  3.06889787e-03,  5.62066026e-03, ...,\n",
       "         -1.40173659e-02, -1.09690893e-02,  8.36873055e-03],\n",
       "        [-3.57101811e-03, -5.45208808e-03, -3.11506586e-03, ...,\n",
       "         -1.63174532e-02, -1.52487298e-02, -4.71443404e-03],\n",
       "        ...,\n",
       "        [-6.64367992e-03, -9.68456827e-03, -1.02461800e-02, ...,\n",
       "          2.43183598e-03,  2.61007017e-03,  2.43900297e-03],\n",
       "        [ 1.66351534e-02,  2.11766548e-02,  2.03468390e-02, ...,\n",
       "          2.96704425e-03,  3.84129328e-03,  5.17139724e-03],\n",
       "        [ 1.36522111e-04,  2.30405713e-03,  4.51409817e-03, ...,\n",
       "          2.58822134e-03,  4.38052556e-03,  6.22777687e-03]],\n",
       "\n",
       "       [[ 7.09449966e-03,  1.87225118e-02,  1.26158912e-02, ...,\n",
       "         -2.05852874e-02,  2.23021908e-03,  3.54014412e-02],\n",
       "        [-3.20735690e-03,  8.33115075e-03,  1.60523634e-02, ...,\n",
       "         -3.70552242e-02, -2.81515084e-02,  3.20289657e-03],\n",
       "        [-1.01489518e-02, -1.56917758e-02, -8.62992276e-03, ...,\n",
       "         -3.92848104e-02, -3.60212661e-02, -1.44908652e-02],\n",
       "        ...,\n",
       "        [-1.90443806e-02, -2.72343345e-02, -2.86601335e-02, ...,\n",
       "          6.96855085e-03,  8.10783356e-03,  7.57042412e-03],\n",
       "        [ 4.79071364e-02,  6.18900247e-02,  5.89470007e-02, ...,\n",
       "          8.64713453e-03,  1.14259757e-02,  1.57213025e-02],\n",
       "        [-9.71416011e-04,  6.53895736e-03,  1.20640649e-02, ...,\n",
       "          7.97940791e-03,  1.30550237e-02,  1.80703215e-02]],\n",
       "\n",
       "       [[ 1.02746822e-02,  2.83778813e-02,  2.04026587e-02, ...,\n",
       "         -3.79370898e-02, -3.15787736e-04,  3.75328511e-02],\n",
       "        [-5.17840218e-03,  1.18466849e-02,  2.43324414e-02, ...,\n",
       "         -6.48686886e-02, -4.61757034e-02, -7.44465552e-03],\n",
       "        [-1.52271241e-02, -2.25174204e-02, -1.15936324e-02, ...,\n",
       "         -6.64881244e-02, -5.82833067e-02, -2.85041612e-02],\n",
       "        ...,\n",
       "        [-2.90164072e-02, -3.92612256e-02, -4.19944078e-02, ...,\n",
       "          1.07417945e-02,  1.37517005e-02,  1.30881751e-02],\n",
       "        [ 7.36508518e-02,  9.73755568e-02,  9.13011208e-02, ...,\n",
       "          1.39338383e-02,  1.85419582e-02,  2.62646675e-02],\n",
       "        [-5.65099623e-03,  9.03817452e-03,  1.58648286e-02, ...,\n",
       "          1.37180807e-02,  2.14778148e-02,  2.82028113e-02]],\n",
       "\n",
       "       ...,\n",
       "\n",
       "       [[-1.14548936e-01, -4.67063375e-02,  1.10626854e-02, ...,\n",
       "          1.96227893e-01,  2.82038927e-01,  2.51912773e-02],\n",
       "        [-1.40572816e-01, -6.46267533e-02,  1.98086351e-03, ...,\n",
       "          7.35026300e-02,  1.56285346e-01, -7.60113820e-03],\n",
       "        [-1.79531753e-01, -1.17399894e-01, -3.68253067e-02, ...,\n",
       "         -2.65817419e-02,  4.24885824e-02, -3.74065340e-02],\n",
       "        ...,\n",
       "        [-3.13838013e-02,  5.03018722e-02,  3.92425582e-02, ...,\n",
       "          2.14720462e-02,  7.53535284e-03,  2.99474946e-03],\n",
       "        [-6.83989972e-02,  1.51877087e-02,  2.28024051e-02, ...,\n",
       "          5.05515048e-03,  4.35617752e-03, -7.04449601e-04],\n",
       "        [-8.39655697e-02, -3.03716399e-04,  2.18768250e-02, ...,\n",
       "         -8.03731941e-03, -1.69984577e-03,  1.97136216e-03]],\n",
       "\n",
       "       [[-6.26804009e-02, -6.92858472e-02, -4.01821695e-02, ...,\n",
       "         -3.84686410e-01, -1.81921735e-01, -1.40306473e-01],\n",
       "        [-2.90526114e-02, -6.96976930e-02, -8.59981701e-02, ...,\n",
       "         -2.97523707e-01, -1.93947092e-01, -7.13037252e-02],\n",
       "        [-2.84835361e-02, -7.49395192e-02, -1.14892758e-01, ...,\n",
       "         -1.62577167e-01, -1.03310473e-01, -7.04666087e-03],\n",
       "        ...,\n",
       "        [ 1.23418076e-02,  1.09577216e-02,  1.13555733e-02, ...,\n",
       "         -2.04746202e-02, -1.76354423e-02, -1.78708527e-02],\n",
       "        [ 9.33377258e-03,  1.96137838e-02,  1.77814886e-02, ...,\n",
       "         -2.08569448e-02, -2.42532417e-02, -2.82902531e-02],\n",
       "        [ 5.32535277e-03,  2.40410455e-02,  9.00071487e-03, ...,\n",
       "         -1.61568951e-02, -2.24271193e-02, -3.06029171e-02]],\n",
       "\n",
       "       [[-4.54643834e-03, -2.73896717e-02, -2.94515938e-02, ...,\n",
       "         -2.96254039e-01, -2.17788815e-01, -1.15205824e-01],\n",
       "        [ 1.85061470e-02, -2.27726419e-02, -5.36848977e-02, ...,\n",
       "         -2.05924600e-01, -1.78724378e-01, -4.52668220e-02],\n",
       "        [ 3.13023999e-02, -5.51134814e-03, -5.26662432e-02, ...,\n",
       "         -8.40226561e-02, -7.23084062e-02,  2.49864608e-02],\n",
       "        ...,\n",
       "        [ 1.50896665e-02, -2.37552412e-02, -2.69211102e-02, ...,\n",
       "         -2.54773516e-02, -1.65115744e-02, -1.18470863e-02],\n",
       "        [ 2.87047010e-02,  7.23385252e-04, -1.36138704e-02, ...,\n",
       "         -1.58319324e-02, -1.68179050e-02, -1.38032399e-02],\n",
       "        [ 3.71068195e-02,  1.26681179e-02, -1.59898959e-02, ...,\n",
       "         -6.73484756e-04, -7.01326830e-03, -1.30920224e-02]]],\n",
       "      dtype=float32)\n",
       "Coordinates:\n",
       "  * west_east    (west_east) float32 129.71446 129.73741 ... 132.35341 132.37636\n",
       "  * south_north  (south_north) float32 -13.533852 -13.511543 ... -10.9326515\n",
       "Dimensions without coordinates: bottom_top"
      ]
     },
     "execution_count": 366,
     "metadata": {},
     "output_type": "execute_result"
    }
   ],
   "source": [
    "W"
   ]
  },
  {
   "cell_type": "code",
   "execution_count": null,
   "metadata": {},
   "outputs": [],
   "source": []
  }
 ],
 "metadata": {
  "kernelspec": {
   "display_name": "Python [conda env:analysis3-19.07] *",
   "language": "python",
   "name": "conda-env-analysis3-19.07-py"
  },
  "language_info": {
   "codemirror_mode": {
    "name": "ipython",
    "version": 3
   },
   "file_extension": ".py",
   "mimetype": "text/x-python",
   "name": "python",
   "nbconvert_exporter": "python",
   "pygments_lexer": "ipython3",
   "version": "3.6.7"
  },
  "toc": {
   "base_numbering": 1,
   "nav_menu": {},
   "number_sections": true,
   "sideBar": true,
   "skip_h1_title": false,
   "title_cell": "Table of Contents",
   "title_sidebar": "Contents",
   "toc_cell": false,
   "toc_position": {},
   "toc_section_display": true,
   "toc_window_display": false
  }
 },
 "nbformat": 4,
 "nbformat_minor": 2
}
