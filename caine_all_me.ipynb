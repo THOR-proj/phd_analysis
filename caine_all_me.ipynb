{
 "cells": [
  {
   "cell_type": "code",
   "execution_count": 1,
   "metadata": {
    "ExecuteTime": {
     "end_time": "2019-10-15T04:06:51.907076Z",
     "start_time": "2019-10-15T04:06:43.124827Z"
    }
   },
   "outputs": [
    {
     "name": "stdout",
     "output_type": "stream",
     "text": [
      "\n",
      "## You are using the Python ARM Radar Toolkit (Py-ART), an open source\n",
      "## library for working with weather radar data. Py-ART is partly\n",
      "## supported by the U.S. Department of Energy as part of the Atmospheric\n",
      "## Radiation Measurement (ARM) Climate Research Facility, an Office of\n",
      "## Science user facility.\n",
      "##\n",
      "## If you use this software to prepare a publication, please cite:\n",
      "##\n",
      "##     JJ Helmus and SM Collis, JORS 2016, doi: 10.5334/jors.119\n",
      "\n"
     ]
    },
    {
     "name": "stderr",
     "output_type": "stream",
     "text": [
      "/home/563/esh563/pyart/pyart/graph/cm.py:104: FutureWarning: elementwise comparison failed; returning scalar instead, but in the future will perform elementwise comparison\n",
      "  if 'red' in spec:\n",
      "/home/563/esh563/pyart/pyart/graph/cm_colorblind.py:32: FutureWarning: elementwise comparison failed; returning scalar instead, but in the future will perform elementwise comparison\n",
      "  if 'red' in spec:\n"
     ]
    }
   ],
   "source": [
    "import numpy as np\n",
    "import glob\n",
    "import xarray as xr\n",
    "import sys, traceback\n",
    "import pdb\n",
    "\n",
    "import matplotlib.pyplot as plt\n",
    "from matplotlib import rcParams\n",
    "\n",
    "# CPOL convenience functions\n",
    "import CPOL_func as cf\n",
    "import caine_func as caf"
   ]
  },
  {
   "cell_type": "code",
   "execution_count": 2,
   "metadata": {
    "ExecuteTime": {
     "end_time": "2019-10-15T04:06:51.973332Z",
     "start_time": "2019-10-15T04:06:51.913624Z"
    }
   },
   "outputs": [],
   "source": [
    "# Convenience functions\n",
    "%load_ext autoreload\n",
    "%autoreload 1\n",
    "%aimport CPOL_func\n",
    "%aimport caine_func"
   ]
  },
  {
   "cell_type": "code",
   "execution_count": 5,
   "metadata": {
    "ExecuteTime": {
     "end_time": "2019-10-15T04:00:20.772674Z",
     "start_time": "2019-10-15T03:57:36.277453Z"
    }
   },
   "outputs": [
    {
     "name": "stdout",
     "output_type": "stream",
     "text": [
      "Starting conversions.\n",
      "Saving file 2006-02-09T10:00:00\n",
      "Saving file 2006-02-09T10:10:00\n",
      "Saving file 2006-02-09T10:20:00\n",
      "Starting conversions.\n",
      "Saving file 2006-02-09T10:30:00\n",
      "Saving file 2006-02-09T10:40:00\n",
      "Saving file 2006-02-09T10:50:00\n"
     ]
    }
   ],
   "source": [
    "if __name__ == '__main__':\n",
    "    try:\n",
    "        caf.WRF_to_pyart()\n",
    "    except:\n",
    "        extype, value, tb = sys.exc_info()\n",
    "        traceback.print_exc()\n",
    "        pdb.post_mortem(tb)"
   ]
  },
  {
   "cell_type": "code",
   "execution_count": 5,
   "metadata": {
    "ExecuteTime": {
     "end_time": "2019-10-15T02:00:19.265777Z",
     "start_time": "2019-10-15T02:00:19.196085Z"
    }
   },
   "outputs": [],
   "source": [
    "test = xr.open_dataset('/g/data/w40/esh563/lind04_ref/lind04_ref_2006-02-09T10:20:00.nc')"
   ]
  },
  {
   "cell_type": "code",
   "execution_count": 7,
   "metadata": {
    "ExecuteTime": {
     "end_time": "2019-10-15T04:06:07.539462Z",
     "start_time": "2019-10-15T04:06:07.524161Z"
    }
   },
   "outputs": [
    {
     "ename": "NameError",
     "evalue": "name 't' is not defined",
     "output_type": "error",
     "traceback": [
      "\u001b[0;31m---------------------------------------------------------------------------\u001b[0m",
      "\u001b[0;31mNameError\u001b[0m                                 Traceback (most recent call last)",
      "\u001b[0;32m<ipython-input-7-c10cb76740a6>\u001b[0m in \u001b[0;36m<module>\u001b[0;34m\u001b[0m\n\u001b[0;32m----> 1\u001b[0;31m \u001b[0;34m'lind04_ref_'\u001b[0m \u001b[0;34m+\u001b[0m \u001b[0mstr\u001b[0m\u001b[0;34m(\u001b[0m\u001b[0mt\u001b[0m\u001b[0;34m)\u001b[0m \u001b[0;34m+\u001b[0m \u001b[0;34m'.nc'\u001b[0m\u001b[0;34m\u001b[0m\u001b[0;34m\u001b[0m\u001b[0m\n\u001b[0m",
      "\u001b[0;31mNameError\u001b[0m: name 't' is not defined"
     ]
    }
   ],
   "source": [
    "'lind04_ref_' + str(t) + '.nc'"
   ]
  },
  {
   "cell_type": "code",
   "execution_count": 73,
   "metadata": {
    "ExecuteTime": {
     "end_time": "2019-10-14T02:03:49.508184Z",
     "start_time": "2019-10-14T02:03:49.061968Z"
    }
   },
   "outputs": [],
   "source": [
    "test = xr.open_dataset('/g/data/rr5/CPOL_radar/CPOL_level_1b/GRIDDED/GRID_150km_2500m/2011/20110312/CPOL_20110312_0750_GRIDS_2500m.nc')"
   ]
  },
  {
   "cell_type": "code",
   "execution_count": 97,
   "metadata": {
    "ExecuteTime": {
     "end_time": "2019-10-14T02:11:08.806065Z",
     "start_time": "2019-10-14T02:11:08.775746Z"
    }
   },
   "outputs": [
    {
     "data": {
      "text/plain": [
       "<xarray.DataArray 'longitude' (time: 1, z: 41, y: 117, x: 117)>\n",
       "array([[[[129.70265, ..., 132.38513],\n",
       "         ...,\n",
       "         [129.71584, ..., 132.37195]],\n",
       "\n",
       "        ...,\n",
       "\n",
       "        [[129.70265, ..., 132.38513],\n",
       "         ...,\n",
       "         [129.71584, ..., 132.37195]]]], dtype=float32)\n",
       "Coordinates:\n",
       "  * time     (time) datetime64[ns] 2011-03-12T07:50:02\n",
       "  * x        (x) float64 -1.45e+05 -1.425e+05 -1.4e+05 ... 1.425e+05 1.45e+05\n",
       "  * y        (y) float64 -1.45e+05 -1.425e+05 -1.4e+05 ... 1.425e+05 1.45e+05\n",
       "  * z        (z) float64 0.0 500.0 1e+03 1.5e+03 ... 1.9e+04 1.95e+04 2e+04\n",
       "Attributes:\n",
       "    long_name:      Longitude\n",
       "    units:          degrees_east\n",
       "    standard_name:  Longitude"
      ]
     },
     "execution_count": 97,
     "metadata": {},
     "output_type": "execute_result"
    }
   ],
   "source": [
    "# test.latitude.values[0,0,0,0]\n",
    "# test.longitude.values[0,0,0,-1]\n",
    "test.longitude"
   ]
  },
  {
   "cell_type": "code",
   "execution_count": 94,
   "metadata": {
    "ExecuteTime": {
     "end_time": "2019-10-14T02:10:45.190030Z",
     "start_time": "2019-10-14T02:10:45.185122Z"
    }
   },
   "outputs": [
    {
     "data": {
      "text/plain": [
       "129.71584"
      ]
     },
     "execution_count": 94,
     "metadata": {},
     "output_type": "execute_result"
    }
   ],
   "source": [
    "-13.549555, -10.941778\n",
    "129.71584 132.38513"
   ]
  },
  {
   "cell_type": "code",
   "execution_count": 472,
   "metadata": {
    "ExecuteTime": {
     "end_time": "2019-10-15T00:59:45.607046Z",
     "start_time": "2019-10-15T00:59:45.381223Z"
    }
   },
   "outputs": [],
   "source": [
    "wrf = xr.open_dataset('/g/data/w40/esh563/d04.dir/wrfout_d04_2006-02-09_10:00:00.nc.gz')\n",
    "# hgt_AGL = np.load('/g/data/w40/esh563/d04_hgt_AGL.npy')\n",
    "# # Create function to de\n",
    "# def moving_average(a, n=3):\n",
    "#     ret = np.cumsum(a, dtype=float)\n",
    "#     ret[n:] = ret[n:] - ret[:-n]\n",
    "#     return ret[n - 1:] / n\n",
    "wrf = wrf.isel(Time=2)\n",
    "z = (wrf.PH + wrf.PHB)/9.80665\n",
    "# wrf['bottom_top']=moving_average(hgt_AGL, n=2)\n",
    "# wrf['bottom_top_stag'] = hgt_AGL"
   ]
  },
  {
   "cell_type": "code",
   "execution_count": 462,
   "metadata": {
    "ExecuteTime": {
     "end_time": "2019-10-15T00:50:22.605468Z",
     "start_time": "2019-10-15T00:50:22.592911Z"
    }
   },
   "outputs": [
    {
     "data": {
      "text/plain": [
       "array([[-14.302284, -14.302284, -14.302284, ..., -14.302284, -14.302284,\n",
       "        -14.302284],\n",
       "       [-14.291168, -14.291168, -14.291168, ..., -14.291168, -14.291168,\n",
       "        -14.291168],\n",
       "       [-14.280052, -14.280052, -14.280052, ..., -14.280052, -14.280052,\n",
       "        -14.280052],\n",
       "       ...,\n",
       "       [ -8.864349,  -8.864349,  -8.864349, ...,  -8.864349,  -8.864349,\n",
       "         -8.864349],\n",
       "       [ -8.853012,  -8.853012,  -8.853012, ...,  -8.853012,  -8.853012,\n",
       "         -8.853012],\n",
       "       [ -8.841675,  -8.841675,  -8.841675, ...,  -8.841675,  -8.841675,\n",
       "         -8.841675]], dtype=float32)"
      ]
     },
     "execution_count": 462,
     "metadata": {},
     "output_type": "execute_result"
    }
   ],
   "source": [
    "wrf.XLAT_V.values"
   ]
  },
  {
   "cell_type": "code",
   "execution_count": 485,
   "metadata": {
    "ExecuteTime": {
     "end_time": "2019-10-15T01:03:54.070111Z",
     "start_time": "2019-10-15T01:03:51.801478Z"
    }
   },
   "outputs": [],
   "source": [
    "# wrf.drop(labels=None\n",
    "wrf_water = wrf[['QVAPOR', 'QCLOUD', 'QRAIN', 'QICE', 'QSNOW', 'QGRAUP', \n",
    "                 'T', 'P', 'PB']]\n",
    "wrf_water['west_east'] = wrf_water.XLONG[0,:]\n",
    "wrf_water['south_north'] = wrf_water.XLAT[:,0]\n",
    "# wrf_water = wrf_water.drop(['XLONG', 'XLAT'])\n",
    "\n",
    "U = wrf['U']\n",
    "U = U.rolling(west_east_stag=2, center=True).mean().dropna('west_east_stag')\n",
    "U['west_east_stag'] = wrf_water['west_east'].values\n",
    "U = U.rename({'west_east_stag' : 'west_east'})\n",
    "U['south_north'] = U.XLAT_U[:,0].values\n",
    "U = U.drop(['XLONG_U', 'XLAT_U'])\n",
    "U.name = 'U'\n",
    "\n",
    "V = wrf['V']\n",
    "V = V.rolling(south_north_stag=2, center=True).mean().dropna('south_north_stag')\n",
    "V['south_north_stag'] = wrf_water['south_north'].values\n",
    "V = V.rename({'south_north_stag' : 'south_north'})\n",
    "V['west_east'] = V.XLONG_V[0,:].values\n",
    "V = V.drop(['XLONG_V', 'XLAT_V'])\n",
    "V.name = 'V'\n",
    "\n",
    "wrf_vert = wrf[['W', 'PH', 'PHB']]\n",
    "wrf_vert['west_east'] = wrf_vert.XLONG[0,:]\n",
    "wrf_vert['south_north'] = wrf_vert.XLAT[:,0]\n",
    "wrf_vert = wrf_vert.drop(['XLONG', 'XLAT'])\n",
    "wrf_vert = wrf_vert.rolling(bottom_top_stag=2, center=True).mean().dropna('bottom_top_stag')\n",
    "wrf_vert = wrf_vert.rename({'bottom_top_stag' : 'bottom_top'})\n",
    "\n",
    "wrf_water = xr.merge([wrf_water, U, V, wrf_vert])"
   ]
  },
  {
   "cell_type": "code",
   "execution_count": 486,
   "metadata": {
    "ExecuteTime": {
     "end_time": "2019-10-15T01:04:04.828697Z",
     "start_time": "2019-10-15T01:03:55.935944Z"
    }
   },
   "outputs": [],
   "source": [
    "wrf_water = wrf_water.coarsen(west_east=2, boundary='trim', side='left').mean()\n",
    "wrf_water = wrf_water.coarsen(south_north=2, boundary='trim', side='left').mean()"
   ]
  },
  {
   "cell_type": "code",
   "execution_count": null,
   "metadata": {},
   "outputs": [],
   "source": [
    "136, 252\n",
    "34, 150"
   ]
  },
  {
   "cell_type": "code",
   "execution_count": 476,
   "metadata": {
    "ExecuteTime": {
     "end_time": "2019-10-15T01:01:22.129324Z",
     "start_time": "2019-10-15T01:01:22.094857Z"
    }
   },
   "outputs": [
    {
     "data": {
      "text/plain": [
       "(array([ 34,  35,  36,  37,  38,  39,  40,  41,  42,  43,  44,  45,  46,\n",
       "         47,  48,  49,  50,  51,  52,  53,  54,  55,  56,  57,  58,  59,\n",
       "         60,  61,  62,  63,  64,  65,  66,  67,  68,  69,  70,  71,  72,\n",
       "         73,  74,  75,  76,  77,  78,  79,  80,  81,  82,  83,  84,  85,\n",
       "         86,  87,  88,  89,  90,  91,  92,  93,  94,  95,  96,  97,  98,\n",
       "         99, 100, 101, 102, 103, 104, 105, 106, 107, 108, 109, 110, 111,\n",
       "        112, 113, 114, 115, 116, 117, 118, 119, 120, 121, 122, 123, 124,\n",
       "        125, 126, 127, 128, 129, 130, 131, 132, 133, 134, 135, 136, 137,\n",
       "        138, 139, 140, 141, 142, 143, 144, 145, 146, 147, 148, 149, 150]),)"
      ]
     },
     "execution_count": 476,
     "metadata": {},
     "output_type": "execute_result"
    }
   ],
   "source": [
    "np.where((wrf_water.west_east.values >= 129.70584) & (wrf_water.west_east.values <= 132.39513))\n",
    "np.where((wrf_water.south_north.values >= -13.55555) & (wrf_water.south_north.values <= -10.931778))"
   ]
  },
  {
   "cell_type": "code",
   "execution_count": 488,
   "metadata": {
    "ExecuteTime": {
     "end_time": "2019-10-15T01:04:27.634250Z",
     "start_time": "2019-10-15T01:04:27.619386Z"
    }
   },
   "outputs": [],
   "source": [
    "wrf_water = wrf_water.sel(west_east = slice(129.70584, 132.39513))\n",
    "wrf_water = wrf_water.sel(south_north = slice(-13.55555, -10.931778))\n",
    "# wrf_water = wrf_water.isel(west_east = slice(136, 252))\n",
    "# wrf_water = wrf_water.isel(south_north = slice(34, 150))"
   ]
  },
  {
   "cell_type": "code",
   "execution_count": 489,
   "metadata": {
    "ExecuteTime": {
     "end_time": "2019-10-15T01:04:28.780015Z",
     "start_time": "2019-10-15T01:04:28.728409Z"
    }
   },
   "outputs": [
    {
     "data": {
      "text/plain": [
       "<xarray.Dataset>\n",
       "Dimensions:      (bottom_top: 63, south_north: 117, west_east: 117)\n",
       "Coordinates:\n",
       "    XLONG        (south_north, west_east) float32 129.71446 ... 132.37636\n",
       "    XLAT         (south_north, west_east) float32 -13.533852 ... -10.9326515\n",
       "  * west_east    (west_east) float32 129.71446 129.73741 ... 132.35341 132.37636\n",
       "  * south_north  (south_north) float32 -13.533852 -13.511543 ... -10.9326515\n",
       "Dimensions without coordinates: bottom_top\n",
       "Data variables:\n",
       "    QVAPOR       (bottom_top, south_north, west_east) float32 0.021644253 ... 3.932447e-06\n",
       "    QCLOUD       (bottom_top, south_north, west_east) float32 0.0 0.0 ... 0.0\n",
       "    QRAIN        (bottom_top, south_north, west_east) float32 9.652342e-27 ... 5.734e-42\n",
       "    QICE         (bottom_top, south_north, west_east) float32 0.0 0.0 ... 0.0\n",
       "    QSNOW        (bottom_top, south_north, west_east) float32 7.786836e-39 ... 1.3891007e-18\n",
       "    QGRAUP       (bottom_top, south_north, west_east) float32 1.3302371e-38 ... 2.3064104e-32\n",
       "    T            (bottom_top, south_north, west_east) float32 1.3406582 ... 374.32547\n",
       "    P            (bottom_top, south_north, west_east) float32 785.37305 ... 4.253479\n",
       "    PB           (bottom_top, south_north, west_east) float32 99752.5 ... 1990.0\n",
       "    U            (bottom_top, south_north, west_east) float32 5.304045 ... -21.584972\n",
       "    V            (bottom_top, south_north, west_east) float32 -0.41391093 ... 0.2898627\n",
       "    W            (bottom_top, south_north, west_east) float32 0.002609396 ... -0.013092022\n",
       "    PH           (bottom_top, south_north, west_east) float32 14.833887 ... 45973.89\n",
       "    PHB          (bottom_top, south_north, west_east) float32 206.41693 ... 216960.33"
      ]
     },
     "execution_count": 489,
     "metadata": {},
     "output_type": "execute_result"
    }
   ],
   "source": [
    "wrf_water"
   ]
  },
  {
   "cell_type": "code",
   "execution_count": 494,
   "metadata": {
    "ExecuteTime": {
     "end_time": "2019-10-15T01:05:23.930203Z",
     "start_time": "2019-10-15T01:05:23.914895Z"
    }
   },
   "outputs": [],
   "source": [
    "longitude = wrf_water.XLONG.values\n",
    "longitude = np.expand_dims(longitude, 0)\n",
    "longitude = np.concatenate([longitude] * 41)\n",
    "longitude = np.expand_dims(longitude, 0)\n",
    "\n",
    "latitude = wrf_water.XLAT.values\n",
    "latitude = np.expand_dims(latitude, 0)\n",
    "latitude = np.concatenate([latitude] * 41)\n",
    "latitude = np.expand_dims(latitude, 0)"
   ]
  },
  {
   "cell_type": "code",
   "execution_count": 495,
   "metadata": {
    "ExecuteTime": {
     "end_time": "2019-10-15T01:05:25.329903Z",
     "start_time": "2019-10-15T01:05:25.321796Z"
    }
   },
   "outputs": [
    {
     "data": {
      "text/plain": [
       "(1, 41, 117, 117)"
      ]
     },
     "execution_count": 495,
     "metadata": {},
     "output_type": "execute_result"
    }
   ],
   "source": [
    "latitude.shape"
   ]
  },
  {
   "cell_type": "code",
   "execution_count": 390,
   "metadata": {
    "ExecuteTime": {
     "end_time": "2019-10-14T23:35:13.151102Z",
     "start_time": "2019-10-14T23:35:13.046427Z"
    }
   },
   "outputs": [],
   "source": [
    "CPOL = xr.open_dataset('/g/data/rr5/CPOL_radar/CPOL_level_1b/GRIDDED/GRID_150km_2500m/2011/20110312/CPOL_20110312_0750_GRIDS_2500m.nc')"
   ]
  },
  {
   "cell_type": "code",
   "execution_count": 401,
   "metadata": {
    "ExecuteTime": {
     "end_time": "2019-10-14T23:39:15.263240Z",
     "start_time": "2019-10-14T23:39:15.243407Z"
    }
   },
   "outputs": [
    {
     "data": {
      "text/plain": [
       "<xarray.DataArray 'longitude' (time: 1, z: 41, y: 117, x: 117)>\n",
       "[561249 values with dtype=float32]\n",
       "Coordinates:\n",
       "  * time     (time) datetime64[ns] 2011-03-12T07:50:02\n",
       "  * x        (x) float64 -1.45e+05 -1.425e+05 -1.4e+05 ... 1.425e+05 1.45e+05\n",
       "  * y        (y) float64 -1.45e+05 -1.425e+05 -1.4e+05 ... 1.425e+05 1.45e+05\n",
       "  * z        (z) float64 0.0 500.0 1e+03 1.5e+03 ... 1.9e+04 1.95e+04 2e+04\n",
       "Attributes:\n",
       "    long_name:      Longitude\n",
       "    units:          degrees_east\n",
       "    standard_name:  Longitude"
      ]
     },
     "execution_count": 401,
     "metadata": {},
     "output_type": "execute_result"
    }
   ],
   "source": [
    "CPOL.longitude"
   ]
  },
  {
   "cell_type": "code",
   "execution_count": 496,
   "metadata": {
    "ExecuteTime": {
     "end_time": "2019-10-15T01:14:51.773509Z",
     "start_time": "2019-10-15T01:14:51.751032Z"
    }
   },
   "outputs": [],
   "source": [
    "from numba import jit\n",
    "from numba import int32"
   ]
  },
  {
   "cell_type": "code",
   "execution_count": 497,
   "metadata": {
    "ExecuteTime": {
     "end_time": "2019-10-15T01:14:52.507980Z",
     "start_time": "2019-10-15T01:14:52.500596Z"
    }
   },
   "outputs": [],
   "source": [
    "@jit()\n",
    "def test_fun(field, z):\n",
    "    test_int = np.ones((41,117,117)) * np.nan\n",
    "    z_int = np.arange(0.0,20500.0,500.0)\n",
    "#     z = (wrf_water.PH+wrf_water.PHB)/9.80665\n",
    "\n",
    "    for i in range(117):\n",
    "        for j in range(117):\n",
    "            test_int[:,i,j] = np.interp(z_int, z[:,i,j], field[:,i,j], left=np.nan)\n",
    "    return test_int"
   ]
  },
  {
   "cell_type": "code",
   "execution_count": 498,
   "metadata": {
    "ExecuteTime": {
     "end_time": "2019-10-15T01:14:57.730300Z",
     "start_time": "2019-10-15T01:14:53.763334Z"
    }
   },
   "outputs": [],
   "source": [
    "var_list = ['QVAPOR', 'QCLOUD', 'QRAIN', 'QICE', 'QSNOW', 'QGRAUP', \n",
    "            'T', 'P', 'PB', 'U', 'V', 'W']\n",
    "ds_list = []\n",
    "x = np.arange(-145000.0, 145000.0 + 2500.0, 2500.0)\n",
    "y = np.arange(-145000.0, 145000.0 + 2500.0, 2500.0)\n",
    "for v in var_list:\n",
    "    test_innt = test_fun(wrf_water[v].values, \n",
    "                         ((wrf_water.PH+wrf_water.PHB)/9.80665).values)\n",
    "    # Expand dims\n",
    "    # Add time dimension\n",
    "    ds = xr.Dataset({v: (['z', 'y', 'x'],  test_innt),},\n",
    "                    coords={'y': y,\n",
    "                            'x': x,\n",
    "                            'z': np.arange(0.0,20500.0,500.0)})\n",
    "    ds_list.append(ds)"
   ]
  },
  {
   "cell_type": "code",
   "execution_count": 499,
   "metadata": {
    "ExecuteTime": {
     "end_time": "2019-10-15T01:15:12.916270Z",
     "start_time": "2019-10-15T01:15:12.892123Z"
    }
   },
   "outputs": [
    {
     "ename": "NameError",
     "evalue": "name 't' is not defined",
     "output_type": "error",
     "traceback": [
      "\u001b[0;31m---------------------------------------------------------------------------\u001b[0m",
      "\u001b[0;31mNameError\u001b[0m                                 Traceback (most recent call last)",
      "\u001b[0;32m<ipython-input-499-abbf2c5e0e08>\u001b[0m in \u001b[0;36m<module>\u001b[0;34m\u001b[0m\n\u001b[1;32m      5\u001b[0m \u001b[0mlongitude\u001b[0m \u001b[0;34m=\u001b[0m \u001b[0mnp\u001b[0m\u001b[0;34m.\u001b[0m\u001b[0mexpand_dims\u001b[0m\u001b[0;34m(\u001b[0m\u001b[0mlongitude\u001b[0m\u001b[0;34m,\u001b[0m \u001b[0;36m0\u001b[0m\u001b[0;34m)\u001b[0m\u001b[0;34m\u001b[0m\u001b[0;34m\u001b[0m\u001b[0m\n\u001b[1;32m      6\u001b[0m ds = xr.Dataset({'longitude': (['time', 'z', 'y', 'x'],  longitude),},\n\u001b[0;32m----> 7\u001b[0;31m                 coords={'time': t, 'y': y, 'x': x, 'z': z})\n\u001b[0m\u001b[1;32m      8\u001b[0m \u001b[0mds_list\u001b[0m\u001b[0;34m.\u001b[0m\u001b[0mappend\u001b[0m\u001b[0;34m(\u001b[0m\u001b[0mds\u001b[0m\u001b[0;34m)\u001b[0m\u001b[0;34m\u001b[0m\u001b[0;34m\u001b[0m\u001b[0m\n\u001b[1;32m      9\u001b[0m \u001b[0;34m\u001b[0m\u001b[0m\n",
      "\u001b[0;31mNameError\u001b[0m: name 't' is not defined"
     ]
    }
   ],
   "source": [
    "# Add latitude longitude values\n",
    "longitude = wrf_water.XLONG.values\n",
    "longitude = np.expand_dims(longitude, 0)\n",
    "longitude = np.concatenate([longitude] * 41)\n",
    "longitude = np.expand_dims(longitude, 0)\n",
    "ds = xr.Dataset({'longitude': (['time', 'z', 'y', 'x'],  longitude),},\n",
    "                coords={'time': t, 'y': y, 'x': x, 'z': z})\n",
    "ds_list.append(ds)\n",
    "\n",
    "latitude = wrf_water.XLAT.values\n",
    "latitude = np.expand_dims(latitude, 0)\n",
    "latitude = np.concatenate([latitude] * 41)\n",
    "latitude = np.expand_dims(latitude, 0)\n",
    "ds = xr.Dataset({'latitude': (['time', 'z', 'y', 'x'],  latitude),},\n",
    "                coords={'time': t, 'y': y, 'x': x, 'z': z})\n",
    "ds_list.append(ds)\n",
    "\n",
    "interpi = xr.merge(ds_list)"
   ]
  },
  {
   "cell_type": "code",
   "execution_count": 400,
   "metadata": {
    "ExecuteTime": {
     "end_time": "2019-10-14T23:36:56.679107Z",
     "start_time": "2019-10-14T23:36:56.653673Z"
    }
   },
   "outputs": [
    {
     "data": {
      "text/plain": [
       "<xarray.Dataset>\n",
       "Dimensions:  (x: 117, y: 117, z: 41)\n",
       "Coordinates:\n",
       "  * y        (y) float64 -1.45e+05 -1.425e+05 -1.4e+05 ... 1.425e+05 1.45e+05\n",
       "  * x        (x) float64 -1.45e+05 -1.425e+05 -1.4e+05 ... 1.425e+05 1.45e+05\n",
       "  * z        (z) float64 0.0 500.0 1e+03 1.5e+03 ... 1.9e+04 1.95e+04 2e+04\n",
       "Data variables:\n",
       "    QVAPOR   (z, y, x) float64 nan nan nan nan ... 3.936e-06 3.942e-06 3.948e-06\n",
       "    QCLOUD   (z, y, x) float64 nan nan nan nan nan nan ... 0.0 0.0 0.0 0.0 0.0\n",
       "    QRAIN    (z, y, x) float64 nan nan nan nan ... 1.22e-36 2.273e-36 3.45e-36\n",
       "    QICE     (z, y, x) float64 nan nan nan nan nan nan ... 0.0 0.0 0.0 0.0 0.0\n",
       "    QSNOW    (z, y, x) float64 nan nan nan nan ... 2.75e-18 3.63e-18 2.908e-18\n",
       "    QGRAUP   (z, y, x) float64 nan nan nan nan ... 2.129e-31 8.566e-31 1.008e-30\n",
       "    T        (z, y, x) float64 nan nan nan nan nan ... 153.5 153.4 153.3 153.3\n",
       "    P        (z, y, x) float64 nan nan nan nan nan ... 19.88 19.99 20.14 20.39\n",
       "    PB       (z, y, x) float64 nan nan nan nan ... 5.613e+03 5.613e+03 5.613e+03\n",
       "    U        (z, y, x) float64 nan nan nan nan ... -20.86 -20.91 -20.95 -20.98\n",
       "    V        (z, y, x) float64 nan nan nan nan ... -0.3855 -0.363 -0.335 -0.3\n",
       "    W        (z, y, x) float64 nan nan nan nan ... -0.00942 -0.00523 -0.003579"
      ]
     },
     "execution_count": 400,
     "metadata": {},
     "output_type": "execute_result"
    }
   ],
   "source": [
    "interpi"
   ]
  },
  {
   "cell_type": "code",
   "execution_count": 342,
   "metadata": {
    "ExecuteTime": {
     "end_time": "2019-10-14T04:58:14.110243Z",
     "start_time": "2019-10-14T04:58:14.101246Z"
    }
   },
   "outputs": [
    {
     "data": {
      "text/plain": [
       "(41, 117, 117)"
      ]
     },
     "execution_count": 342,
     "metadata": {},
     "output_type": "execute_result"
    }
   ],
   "source": [
    "test_innt.shape"
   ]
  },
  {
   "cell_type": "code",
   "execution_count": 343,
   "metadata": {
    "ExecuteTime": {
     "end_time": "2019-10-14T04:58:38.814202Z",
     "start_time": "2019-10-14T04:58:38.801698Z"
    }
   },
   "outputs": [],
   "source": [
    "ds = xr.Dataset({'QRAIN': (['z', 'latitude', 'longitude'],  test_innt),},\n",
    "                  coords={'longitude': wrf_water['west_east'].values,\n",
    "                  'latitude':wrf_water['south_north'].values,\n",
    "                  'z': np.arange(0,20500,500)})"
   ]
  },
  {
   "cell_type": "code",
   "execution_count": 348,
   "metadata": {
    "ExecuteTime": {
     "end_time": "2019-10-14T04:59:51.262046Z",
     "start_time": "2019-10-14T04:59:50.975120Z"
    }
   },
   "outputs": [
    {
     "data": {
      "text/plain": [
       "<matplotlib.collections.QuadMesh at 0x7f89bc3270b8>"
      ]
     },
     "execution_count": 348,
     "metadata": {},
     "output_type": "execute_result"
    },
    {
     "data": {
      "image/png": "[encoded data removed]",
      "text/plain": [
       "<Figure size 432x288 with 2 Axes>"
      ]
     },
     "metadata": {
      "needs_background": "light"
     },
     "output_type": "display_data"
    }
   ],
   "source": [
    "ds['QRAIN'].sel(z=8000).plot()"
   ]
  },
  {
   "cell_type": "code",
   "execution_count": 403,
   "metadata": {
    "ExecuteTime": {
     "end_time": "2019-10-14T23:49:42.514460Z",
     "start_time": "2019-10-14T23:49:42.506751Z"
    }
   },
   "outputs": [],
   "source": [
    "rho_air = 1.225\n",
    "N0r = 8*10**6\n",
    "N0g = 4*10**6\n",
    "N0s = 2*10**7\n",
    "rho_rain = 1000\n",
    "rho_snow = 100\n",
    "rho_graup = 400"
   ]
  },
  {
   "cell_type": "code",
   "execution_count": 404,
   "metadata": {
    "ExecuteTime": {
     "end_time": "2019-10-14T23:49:43.248173Z",
     "start_time": "2019-10-14T23:49:43.171725Z"
    }
   },
   "outputs": [],
   "source": [
    "T = (interpi.T + 300)*(100000/(interpi.PB+interpi.P)) ** (-0.286) - 273.15"
   ]
  },
  {
   "cell_type": "code",
   "execution_count": 405,
   "metadata": {
    "ExecuteTime": {
     "end_time": "2019-10-14T23:49:43.948096Z",
     "start_time": "2019-10-14T23:49:43.698127Z"
    }
   },
   "outputs": [],
   "source": [
    "rain_ref = 720 * (rho_air * interpi.QRAIN) ** (7/4) / (N0r ** (3/4) * (np.pi * rho_rain) ** (7/4))\n",
    "snow_ref = 720 * (rho_air * interpi.QSNOW) ** (7/4) / (N0s ** (3/4) * (np.pi * rho_snow) ** (7/4)) * (rho_snow / rho_rain) ** 2 * (T < 0) *  0.224 \n",
    "graup_ref = 720 * (rho_air * interpi.QGRAUP) ** (7/4) / (N0g ** (3/4) * (np.pi * rho_graup) ** (7/4)) * (rho_graup / rho_rain) ** 2 * (T < 0) * 0.224 "
   ]
  },
  {
   "cell_type": "code",
   "execution_count": 406,
   "metadata": {
    "ExecuteTime": {
     "end_time": "2019-10-14T23:49:44.643165Z",
     "start_time": "2019-10-14T23:49:44.558943Z"
    }
   },
   "outputs": [],
   "source": [
    "Z = 10 * np.log10(10 ** 18 * (rain_ref+snow_ref+graup_ref))"
   ]
  },
  {
   "cell_type": "code",
   "execution_count": 407,
   "metadata": {
    "ExecuteTime": {
     "end_time": "2019-10-14T23:49:45.070698Z",
     "start_time": "2019-10-14T23:49:45.059326Z"
    }
   },
   "outputs": [],
   "source": [
    "Z.values[Z<0] = np.nan\n",
    "Z.name = 'reflectivity'"
   ]
  },
  {
   "cell_type": "code",
   "execution_count": 408,
   "metadata": {
    "ExecuteTime": {
     "end_time": "2019-10-14T23:49:45.826710Z",
     "start_time": "2019-10-14T23:49:45.768282Z"
    }
   },
   "outputs": [
    {
     "data": {
      "text/plain": [
       "<xarray.Dataset>\n",
       "Dimensions:       (x: 117, y: 117, z: 41)\n",
       "Coordinates:\n",
       "  * y             (y) float64 -1.45e+05 -1.425e+05 ... 1.425e+05 1.45e+05\n",
       "  * x             (x) float64 -1.45e+05 -1.425e+05 ... 1.425e+05 1.45e+05\n",
       "  * z             (z) float64 0.0 500.0 1e+03 1.5e+03 ... 1.9e+04 1.95e+04 2e+04\n",
       "Data variables:\n",
       "    QVAPOR        (z, y, x) float64 nan nan nan ... 3.942e-06 3.948e-06\n",
       "    QCLOUD        (z, y, x) float64 nan nan nan nan nan ... 0.0 0.0 0.0 0.0 0.0\n",
       "    QRAIN         (z, y, x) float64 nan nan nan ... 1.22e-36 2.273e-36 3.45e-36\n",
       "    QICE          (z, y, x) float64 nan nan nan nan nan ... 0.0 0.0 0.0 0.0 0.0\n",
       "    QSNOW         (z, y, x) float64 nan nan nan ... 2.75e-18 3.63e-18 2.908e-18\n",
       "    QGRAUP        (z, y, x) float64 nan nan nan ... 8.566e-31 1.008e-30\n",
       "    T             (z, y, x) float64 nan nan nan nan ... 153.5 153.4 153.3 153.3\n",
       "    P             (z, y, x) float64 nan nan nan nan ... 19.88 19.99 20.14 20.39\n",
       "    PB            (z, y, x) float64 nan nan nan ... 5.613e+03 5.613e+03\n",
       "    U             (z, y, x) float64 nan nan nan nan ... -20.91 -20.95 -20.98\n",
       "    V             (z, y, x) float64 nan nan nan nan ... -0.363 -0.335 -0.3\n",
       "    W             (z, y, x) float64 nan nan nan ... -0.00942 -0.00523 -0.003579\n",
       "    reflectivity  (z, y, x) float64 nan nan nan nan nan ... nan nan nan nan nan"
      ]
     },
     "execution_count": 408,
     "metadata": {},
     "output_type": "execute_result"
    }
   ],
   "source": [
    "xr.merge([interpi,Z])"
   ]
  },
  {
   "cell_type": "code",
   "execution_count": 425,
   "metadata": {
    "ExecuteTime": {
     "end_time": "2019-10-15T00:11:04.024185Z",
     "start_time": "2019-10-15T00:11:03.443785Z"
    }
   },
   "outputs": [
    {
     "data": {
      "text/plain": [
       "<matplotlib.contour.QuadContourSet at 0x7f89bb2fd4a8>"
      ]
     },
     "execution_count": 425,
     "metadata": {},
     "output_type": "execute_result"
    },
    {
     "data": {
      "image/png": "[encoded data removed]",
      "text/plain": [
       "<Figure size 1440x1152 with 2 Axes>"
      ]
     },
     "metadata": {
      "needs_background": "light"
     },
     "output_type": "display_data"
    }
   ],
   "source": [
    "plt.figure(figsize=(20, 16))\n",
    "W = interpi['W']\n",
    "hgt_lev=5000\n",
    "plt.contourf(Z.x, Z.y, Z.sel(z=hgt_lev, method='nearest'), 20, vmin=0, vmax=80)\n",
    "# plt.pcolormesh(Z.longitude, Z.latitude, Z.sel(z=hgt_lev, method='nearest'))\n",
    "plt.colorbar()\n",
    "plt.contour(W.x, W.y, W.sel(z=hgt_lev, method='nearest'), colors='k', levels=[1,5])\n",
    "# plt.contour(interpi.x, interpi.y, interpi['QRAIN'].sel(z=hgt_lev, method='nearest'), colors='k', n=2)"
   ]
  },
  {
   "cell_type": "code",
   "execution_count": 366,
   "metadata": {
    "ExecuteTime": {
     "end_time": "2019-10-14T23:15:55.347507Z",
     "start_time": "2019-10-14T23:15:55.318393Z"
    }
   },
   "outputs": [
    {
     "data": {
      "text/plain": [
       "<xarray.DataArray 'W' (bottom_top: 63, south_north: 117, west_east: 117)>\n",
       "array([[[ 2.60939589e-03,  6.52425829e-03,  4.19883244e-03, ...,\n",
       "         -6.53097685e-03,  3.43662570e-03,  2.74853483e-02],\n",
       "        [-1.01577630e-03,  3.06889787e-03,  5.62066026e-03, ...,\n",
       "         -1.40173659e-02, -1.09690893e-02,  8.36873055e-03],\n",
       "        [-3.57101811e-03, -5.45208808e-03, -3.11506586e-03, ...,\n",
       "         -1.63174532e-02, -1.52487298e-02, -4.71443404e-03],\n",
       "        ...,\n",
       "        [-6.64367992e-03, -9.68456827e-03, -1.02461800e-02, ...,\n",
       "          2.43183598e-03,  2.61007017e-03,  2.43900297e-03],\n",
       "        [ 1.66351534e-02,  2.11766548e-02,  2.03468390e-02, ...,\n",
       "          2.96704425e-03,  3.84129328e-03,  5.17139724e-03],\n",
       "        [ 1.36522111e-04,  2.30405713e-03,  4.51409817e-03, ...,\n",
       "          2.58822134e-03,  4.38052556e-03,  6.22777687e-03]],\n",
       "\n",
       "       [[ 7.09449966e-03,  1.87225118e-02,  1.26158912e-02, ...,\n",
       "         -2.05852874e-02,  2.23021908e-03,  3.54014412e-02],\n",
       "        [-3.20735690e-03,  8.33115075e-03,  1.60523634e-02, ...,\n",
       "         -3.70552242e-02, -2.81515084e-02,  3.20289657e-03],\n",
       "        [-1.01489518e-02, -1.56917758e-02, -8.62992276e-03, ...,\n",
       "         -3.92848104e-02, -3.60212661e-02, -1.44908652e-02],\n",
       "        ...,\n",
       "        [-1.90443806e-02, -2.72343345e-02, -2.86601335e-02, ...,\n",
       "          6.96855085e-03,  8.10783356e-03,  7.57042412e-03],\n",
       "        [ 4.79071364e-02,  6.18900247e-02,  5.89470007e-02, ...,\n",
       "          8.64713453e-03,  1.14259757e-02,  1.57213025e-02],\n",
       "        [-9.71416011e-04,  6.53895736e-03,  1.20640649e-02, ...,\n",
       "          7.97940791e-03,  1.30550237e-02,  1.80703215e-02]],\n",
       "\n",
       "       [[ 1.02746822e-02,  2.83778813e-02,  2.04026587e-02, ...,\n",
       "         -3.79370898e-02, -3.15787736e-04,  3.75328511e-02],\n",
       "        [-5.17840218e-03,  1.18466849e-02,  2.43324414e-02, ...,\n",
       "         -6.48686886e-02, -4.61757034e-02, -7.44465552e-03],\n",
       "        [-1.52271241e-02, -2.25174204e-02, -1.15936324e-02, ...,\n",
       "         -6.64881244e-02, -5.82833067e-02, -2.85041612e-02],\n",
       "        ...,\n",
       "        [-2.90164072e-02, -3.92612256e-02, -4.19944078e-02, ...,\n",
       "          1.07417945e-02,  1.37517005e-02,  1.30881751e-02],\n",
       "        [ 7.36508518e-02,  9.73755568e-02,  9.13011208e-02, ...,\n",
       "          1.39338383e-02,  1.85419582e-02,  2.62646675e-02],\n",
       "        [-5.65099623e-03,  9.03817452e-03,  1.58648286e-02, ...,\n",
       "          1.37180807e-02,  2.14778148e-02,  2.82028113e-02]],\n",
       "\n",
       "       ...,\n",
       "\n",
       "       [[-1.14548936e-01, -4.67063375e-02,  1.10626854e-02, ...,\n",
       "          1.96227893e-01,  2.82038927e-01,  2.51912773e-02],\n",
       "        [-1.40572816e-01, -6.46267533e-02,  1.98086351e-03, ...,\n",
       "          7.35026300e-02,  1.56285346e-01, -7.60113820e-03],\n",
       "        [-1.79531753e-01, -1.17399894e-01, -3.68253067e-02, ...,\n",
       "         -2.65817419e-02,  4.24885824e-02, -3.74065340e-02],\n",
       "        ...,\n",
       "        [-3.13838013e-02,  5.03018722e-02,  3.92425582e-02, ...,\n",
       "          2.14720462e-02,  7.53535284e-03,  2.99474946e-03],\n",
       "        [-6.83989972e-02,  1.51877087e-02,  2.28024051e-02, ...,\n",
       "          5.05515048e-03,  4.35617752e-03, -7.04449601e-04],\n",
       "        [-8.39655697e-02, -3.03716399e-04,  2.18768250e-02, ...,\n",
       "         -8.03731941e-03, -1.69984577e-03,  1.97136216e-03]],\n",
       "\n",
       "       [[-6.26804009e-02, -6.92858472e-02, -4.01821695e-02, ...,\n",
       "         -3.84686410e-01, -1.81921735e-01, -1.40306473e-01],\n",
       "        [-2.90526114e-02, -6.96976930e-02, -8.59981701e-02, ...,\n",
       "         -2.97523707e-01, -1.93947092e-01, -7.13037252e-02],\n",
       "        [-2.84835361e-02, -7.49395192e-02, -1.14892758e-01, ...,\n",
       "         -1.62577167e-01, -1.03310473e-01, -7.04666087e-03],\n",
       "        ...,\n",
       "        [ 1.23418076e-02,  1.09577216e-02,  1.13555733e-02, ...,\n",
       "         -2.04746202e-02, -1.76354423e-02, -1.78708527e-02],\n",
       "        [ 9.33377258e-03,  1.96137838e-02,  1.77814886e-02, ...,\n",
       "         -2.08569448e-02, -2.42532417e-02, -2.82902531e-02],\n",
       "        [ 5.32535277e-03,  2.40410455e-02,  9.00071487e-03, ...,\n",
       "         -1.61568951e-02, -2.24271193e-02, -3.06029171e-02]],\n",
       "\n",
       "       [[-4.54643834e-03, -2.73896717e-02, -2.94515938e-02, ...,\n",
       "         -2.96254039e-01, -2.17788815e-01, -1.15205824e-01],\n",
       "        [ 1.85061470e-02, -2.27726419e-02, -5.36848977e-02, ...,\n",
       "         -2.05924600e-01, -1.78724378e-01, -4.52668220e-02],\n",
       "        [ 3.13023999e-02, -5.51134814e-03, -5.26662432e-02, ...,\n",
       "         -8.40226561e-02, -7.23084062e-02,  2.49864608e-02],\n",
       "        ...,\n",
       "        [ 1.50896665e-02, -2.37552412e-02, -2.69211102e-02, ...,\n",
       "         -2.54773516e-02, -1.65115744e-02, -1.18470863e-02],\n",
       "        [ 2.87047010e-02,  7.23385252e-04, -1.36138704e-02, ...,\n",
       "         -1.58319324e-02, -1.68179050e-02, -1.38032399e-02],\n",
       "        [ 3.71068195e-02,  1.26681179e-02, -1.59898959e-02, ...,\n",
       "         -6.73484756e-04, -7.01326830e-03, -1.30920224e-02]]],\n",
       "      dtype=float32)\n",
       "Coordinates:\n",
       "  * west_east    (west_east) float32 129.71446 129.73741 ... 132.35341 132.37636\n",
       "  * south_north  (south_north) float32 -13.533852 -13.511543 ... -10.9326515\n",
       "Dimensions without coordinates: bottom_top"
      ]
     },
     "execution_count": 366,
     "metadata": {},
     "output_type": "execute_result"
    }
   ],
   "source": [
    "W"
   ]
  },
  {
   "cell_type": "code",
   "execution_count": null,
   "metadata": {},
   "outputs": [],
   "source": []
  }
 ],
 "metadata": {
  "kernelspec": {
   "display_name": "Python [conda env:analysis3-19.07] *",
   "language": "python",
   "name": "conda-env-analysis3-19.07-py"
  },
  "language_info": {
   "codemirror_mode": {
    "name": "ipython",
    "version": 3
   },
   "file_extension": ".py",
   "mimetype": "text/x-python",
   "name": "python",
   "nbconvert_exporter": "python",
   "pygments_lexer": "ipython3",
   "version": "3.6.7"
  },
  "toc": {
   "base_numbering": 1,
   "nav_menu": {},
   "number_sections": true,
   "sideBar": true,
   "skip_h1_title": false,
   "title_cell": "Table of Contents",
   "title_sidebar": "Contents",
   "toc_cell": false,
   "toc_position": {},
   "toc_section_display": true,
   "toc_window_display": false
  }
 },
 "nbformat": 4,
 "nbformat_minor": 2
}
