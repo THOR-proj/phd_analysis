{
 "cells": [
  {
   "cell_type": "code",
   "execution_count": 3,
   "metadata": {
    "ExecuteTime": {
     "end_time": "2019-11-09T06:02:54.118425Z",
     "start_time": "2019-11-09T06:02:54.106046Z"
    }
   },
   "outputs": [],
   "source": [
    "import numpy as np\n",
    "import glob\n",
    "import xarray as xr\n",
    "import sys, traceback\n",
    "import pdb\n",
    "\n",
    "import matplotlib.pyplot as plt\n",
    "from matplotlib import rcParams\n",
    "\n",
    "from scipy.special import gamma\n",
    "\n",
    "# CPOL convenience functions\n",
    "import CPOL_func as cf\n",
    "import caine_func as caf"
   ]
  },
  {
   "cell_type": "code",
   "execution_count": 4,
   "metadata": {
    "ExecuteTime": {
     "end_time": "2019-11-09T06:02:56.342570Z",
     "start_time": "2019-11-09T06:02:56.319479Z"
    }
   },
   "outputs": [
    {
     "name": "stdout",
     "output_type": "stream",
     "text": [
      "The autoreload extension is already loaded. To reload it, use:\n",
      "  %reload_ext autoreload\n"
     ]
    }
   ],
   "source": [
    "# Convenience functions\n",
    "%load_ext autoreload\n",
    "%autoreload 1\n",
    "%aimport CPOL_func\n",
    "%aimport caine_func"
   ]
  },
  {
   "cell_type": "code",
   "execution_count": 99,
   "metadata": {
    "ExecuteTime": {
     "end_time": "2019-11-09T12:44:10.786537Z",
     "start_time": "2019-11-09T12:42:55.750265Z"
    }
   },
   "outputs": [
    {
     "name": "stdout",
     "output_type": "stream",
     "text": [
      "Starting conversions.\n",
      "Starting conversions.\n",
      "Starting conversions.\n",
      "Starting conversions.\n",
      "Starting conversions.\n",
      "Starting conversions.\n",
      "Starting conversions.\n",
      "Starting conversions.\n",
      "Starting conversions.\n",
      "Starting conversions.\n",
      "Starting conversions.\n",
      "Starting conversions.\n",
      "Starting conversions.\n",
      "Starting conversions.\n",
      "Starting conversions.\n",
      "Starting conversions.\n",
      "Starting conversions.\n",
      "Starting conversions.\n",
      "Starting conversions.\n",
      "Starting conversions.\n",
      "Starting conversions.\n",
      "Starting conversions.\n",
      "Starting conversions.\n",
      "Starting conversions.\n",
      "Starting conversions.\n",
      "Starting conversions.\n",
      "Starting conversions.\n",
      "Starting conversions.\n",
      "Starting conversions.\n",
      "Starting conversions.\n",
      "Starting conversions.\n",
      "Starting conversions.\n",
      "Starting conversions.\n",
      "Starting conversions.\n",
      "Starting conversions.\n",
      "Starting conversions.\n",
      "Starting conversions.\n",
      "Starting conversions.\n",
      "Starting conversions.\n",
      "Starting conversions.\n",
      "Starting conversions.\n",
      "Starting conversions.\n",
      "Starting conversions.\n",
      "Starting conversions.\n",
      "Starting conversions.\n",
      "Starting conversions.\n",
      "Starting conversions.\n",
      "Starting conversions.\n",
      "Starting conversions.\n",
      "Starting conversions.\n",
      "Starting conversions.\n",
      "Starting conversions.\n",
      "Starting conversions.\n",
      "Starting conversions.\n",
      "Starting conversions.\n",
      "Starting conversions.\n",
      "Starting conversions.\n",
      "Starting conversions.\n",
      "Starting conversions.\n",
      "Starting conversions.\n",
      "Starting conversions.\n",
      "Starting conversions.\n",
      "Starting conversions.\n",
      "Starting conversions.\n",
      "Starting conversions.\n",
      "Starting conversions.\n",
      "Starting conversions.\n",
      "Starting conversions.\n",
      "Starting conversions.\n",
      "Starting conversions.\n",
      "Starting conversions.\n",
      "Starting conversions.\n",
      "Starting conversions.\n",
      "Starting conversions.\n",
      "Starting conversions.\n",
      "Starting conversions.\n",
      "Starting conversions.\n",
      "Starting conversions.\n",
      "Starting conversions.\n",
      "Starting conversions.\n",
      "Starting conversions.\n",
      "Starting conversions.\n",
      "Starting conversions.\n",
      "Starting conversions.\n",
      "Starting conversions.\n",
      "Starting conversions.\n",
      "Starting conversions.\n",
      "Starting conversions.\n",
      "Starting conversions.\n",
      "Starting conversions.\n",
      "Starting conversions.\n",
      "Starting conversions.\n",
      "Starting conversions.\n",
      "Starting conversions.\n",
      "Starting conversions.\n",
      "Starting conversions.\n",
      "Starting conversions.\n",
      "Starting conversions.\n",
      "Starting conversions.\n",
      "Starting conversions.\n",
      "Starting conversions.\n",
      "Starting conversions.\n",
      "Starting conversions.\n",
      "Starting conversions.\n",
      "Starting conversions.\n",
      "Starting conversions.\n",
      "Starting conversions.\n",
      "Starting conversions.\n",
      "Starting conversions.\n",
      "Starting conversions.\n",
      "Starting conversions.\n",
      "Starting conversions.\n",
      "Starting conversions.\n",
      "Starting conversions.\n",
      "Starting conversions.\n",
      "Starting conversions.\n",
      "Starting conversions.\n",
      "Starting conversions.\n",
      "Starting conversions.\n",
      "Starting conversions.\n",
      "Starting conversions.\n",
      "Starting conversions.\n",
      "Starting conversions.\n",
      "Starting conversions.\n",
      "Starting conversions.\n",
      "Starting conversions.\n",
      "Starting conversions.\n",
      "Starting conversions.\n",
      "Starting conversions.\n",
      "Starting conversions.\n",
      "Starting conversions.\n",
      "Starting conversions.\n",
      "Starting conversions.\n",
      "Starting conversions.\n",
      "Starting conversions.\n",
      "Starting conversions.\n",
      "Starting conversions.\n",
      "Starting conversions.\n",
      "Starting conversions.\n",
      "Starting conversions.\n",
      "Starting conversions.\n",
      "Starting conversions.\n",
      "Starting conversions.\n",
      "Starting conversions.\n",
      "Starting conversions.\n",
      "Starting conversions.\n",
      "Starting conversions.\n",
      "Starting conversions.\n",
      "Starting conversions.\n",
      "Starting conversions.\n",
      "Starting conversions.\n",
      "Starting conversions.\n",
      "Starting conversions.\n",
      "Starting conversions.\n",
      "Starting conversions.\n",
      "Starting conversions.\n",
      "Starting conversions.\n",
      "Starting conversions.\n",
      "Starting conversions.\n",
      "Starting conversions.\n",
      "Starting conversions.\n",
      "Starting conversions.\n",
      "Starting conversions.\n",
      "Starting conversions.\n",
      "Starting conversions.\n",
      "Starting conversions.\n",
      "Starting conversions.\n",
      "Starting conversions.\n",
      "Starting conversions.\n",
      "Starting conversions.\n",
      "Starting conversions.\n",
      "Starting conversions.\n",
      "Starting conversions.\n",
      "Starting conversions.\n",
      "Starting conversions.\n",
      "Starting conversions.\n",
      "Starting conversions.\n",
      "Starting conversions.\n",
      "Starting conversions.\n",
      "Starting conversions.\n",
      "Starting conversions.\n",
      "Starting conversions.\n",
      "Starting conversions.\n",
      "Starting conversions.\n",
      "Starting conversions.\n",
      "Starting conversions.\n",
      "Starting conversions.\n",
      "Starting conversions.\n",
      "Starting conversions.\n",
      "Starting conversions.\n",
      "Starting conversions.\n",
      "Starting conversions.\n",
      "Starting conversions.\n",
      "Starting conversions.\n",
      "Starting conversions.\n",
      "Starting conversions.\n",
      "Starting conversions.\n",
      "Starting conversions.\n",
      "Starting conversions.\n",
      "Starting conversions.\n",
      "Starting conversions.\n",
      "Starting conversions.\n",
      "Starting conversions.\n",
      "Starting conversions.\n",
      "Starting conversions.\n",
      "Starting conversions.\n",
      "Starting conversions.\n",
      "Starting conversions.\n",
      "Starting conversions.\n",
      "Starting conversions.\n",
      "Starting conversions.\n",
      "Starting conversions.\n",
      "Starting conversions.\n",
      "Starting conversions.\n",
      "Starting conversions.\n",
      "Starting conversions.\n",
      "Starting conversions.\n",
      "Starting conversions.\n",
      "Starting conversions.\n",
      "Starting conversions.\n",
      "Starting conversions.\n",
      "Starting conversions.\n",
      "Starting conversions.\n",
      "Starting conversions.\n",
      "Starting conversions.\n",
      "Starting conversions.\n",
      "Starting conversions.\n",
      "Starting conversions.\n",
      "Starting conversions.\n",
      "Starting conversions.\n",
      "Starting conversions.\n",
      "Starting conversions.\n",
      "Starting conversions.\n",
      "Starting conversions.\n",
      "Starting conversions.\n",
      "Starting conversions.\n",
      "Starting conversions.\n",
      "Starting conversions.\n",
      "Starting conversions.\n",
      "Starting conversions.\n",
      "Starting conversions.\n",
      "Saving file 2006-02-13T12:00:00\n"
     ]
    }
   ],
   "source": [
    "if __name__ == '__main__':\n",
    "    try:\n",
    "        caf.WRF_to_pyart(mp='thompson')\n",
    "        \n",
    "    except:\n",
    "        extype, value, tb = sys.exc_info()\n",
    "        traceback.print_exc()\n",
    "        pdb.post_mortem(tb)"
   ]
  },
  {
   "cell_type": "code",
   "execution_count": 5,
   "metadata": {
    "ExecuteTime": {
     "end_time": "2019-11-09T06:05:53.680279Z",
     "start_time": "2019-11-09T06:03:16.297730Z"
    }
   },
   "outputs": [],
   "source": [
    "wrf = xr.open_dataset('/g/data/w40/esh563/thompson/d04.dir/wrfout_d04_2006-02-09_10:00:00.nc.gz')\n",
    "# test = xr.open_dataset('/g/data/w40/esh563/d04.dir/wrfout_d04_2006-02-09_10:00:00.nc.gz')\n",
    "# hgt_AGL = np.load('/g/data/w40/esh563/d04_hgt_AGL.npy')\n",
    "# # Create function to de\n",
    "# def moving_average(a, n=3):\n",
    "#     ret = np.cumsum(a, dtype=float)\n",
    "#     ret[n:] = ret[n:] - ret[:-n]\n",
    "#     return ret[n - 1:] / n\n",
    "wrf = wrf.isel(Time=2)\n",
    "z = (wrf.PH + wrf.PHB)/9.80665\n",
    "# wrf['bottom_top']=moving_average(hgt_AGL, n=2)\n",
    "# wrf['bottom_top_stag'] = hgt_AGL"
   ]
  },
  {
   "cell_type": "code",
   "execution_count": 97,
   "metadata": {
    "ExecuteTime": {
     "end_time": "2019-11-09T12:41:49.671025Z",
     "start_time": "2019-11-09T12:41:10.384461Z"
    }
   },
   "outputs": [],
   "source": [
    "wrf = xr.open_dataset('/g/data/w40/esh563/thompson/d04.dir/wrfout_d04_2006-02-13_12:00:00.nc.gz')\n"
   ]
  },
  {
   "cell_type": "code",
   "execution_count": 98,
   "metadata": {
    "ExecuteTime": {
     "end_time": "2019-11-09T12:41:49.715984Z",
     "start_time": "2019-11-09T12:41:49.676749Z"
    }
   },
   "outputs": [
    {
     "data": {
      "text/plain": [
       "1"
      ]
     },
     "execution_count": 98,
     "metadata": {},
     "output_type": "execute_result"
    }
   ],
   "source": [
    "wrf.Times.size"
   ]
  },
  {
   "cell_type": "code",
   "execution_count": 92,
   "metadata": {
    "ExecuteTime": {
     "end_time": "2019-11-09T12:39:39.443398Z",
     "start_time": "2019-11-09T12:39:39.423483Z"
    }
   },
   "outputs": [
    {
     "data": {
      "text/plain": [
       "<xarray.DataArray 'Times' ()>\n",
       "array(b'2006-02-09_10:20:00', dtype='|S19')"
      ]
     },
     "execution_count": 92,
     "metadata": {},
     "output_type": "execute_result"
    }
   ],
   "source": [
    "wrf"
   ]
  },
  {
   "cell_type": "code",
   "execution_count": 48,
   "metadata": {
    "ExecuteTime": {
     "end_time": "2019-11-09T06:48:42.267628Z",
     "start_time": "2019-11-09T06:48:39.904180Z"
    }
   },
   "outputs": [],
   "source": [
    "# wrf.drop(labels=None\n",
    "wrf_water = wrf[['QVAPOR', 'QCLOUD', 'QRAIN', 'QICE', 'QSNOW', 'QGRAUP', \n",
    "                 'QNICE', 'QNRAIN',\n",
    "                 'T', 'P', 'PB']]\n",
    "wrf_water['west_east'] = wrf_water.XLONG[0,:]\n",
    "wrf_water['south_north'] = wrf_water.XLAT[:,0]\n",
    "# wrf_water = wrf_water.drop(['XLONG', 'XLAT'])\n",
    "\n",
    "U = wrf['U']\n",
    "U = U.rolling(west_east_stag=2, center=True).mean().dropna('west_east_stag')\n",
    "U['west_east_stag'] = wrf_water['west_east'].values\n",
    "U = U.rename({'west_east_stag' : 'west_east'})\n",
    "U['south_north'] = U.XLAT_U[:,0].values\n",
    "U = U.drop(['XLONG_U', 'XLAT_U'])\n",
    "U.name = 'U'\n",
    "\n",
    "V = wrf['V']\n",
    "V = V.rolling(south_north_stag=2, center=True).mean().dropna('south_north_stag')\n",
    "V['south_north_stag'] = wrf_water['south_north'].values\n",
    "V = V.rename({'south_north_stag' : 'south_north'})\n",
    "V['west_east'] = V.XLONG_V[0,:].values\n",
    "V = V.drop(['XLONG_V', 'XLAT_V'])\n",
    "V.name = 'V'\n",
    "\n",
    "wrf_vert = wrf[['W', 'PH', 'PHB']]\n",
    "wrf_vert['west_east'] = wrf_vert.XLONG[0,:]\n",
    "wrf_vert['south_north'] = wrf_vert.XLAT[:,0]\n",
    "wrf_vert = wrf_vert.drop(['XLONG', 'XLAT'])\n",
    "wrf_vert = wrf_vert.rolling(bottom_top_stag=2, center=True).mean().dropna('bottom_top_stag')\n",
    "wrf_vert = wrf_vert.rename({'bottom_top_stag' : 'bottom_top'})\n",
    "\n",
    "wrf_water = xr.merge([wrf_water, U, V, wrf_vert])"
   ]
  },
  {
   "cell_type": "code",
   "execution_count": 49,
   "metadata": {
    "ExecuteTime": {
     "end_time": "2019-11-09T06:48:59.041148Z",
     "start_time": "2019-11-09T06:48:49.018638Z"
    }
   },
   "outputs": [],
   "source": [
    "wrf_water = wrf_water.coarsen(west_east=2, boundary='trim', side='left').mean()\n",
    "wrf_water = wrf_water.coarsen(south_north=2, boundary='trim', side='left').mean()"
   ]
  },
  {
   "cell_type": "code",
   "execution_count": 50,
   "metadata": {
    "ExecuteTime": {
     "end_time": "2019-11-09T06:48:59.050959Z",
     "start_time": "2019-11-09T06:48:59.043452Z"
    }
   },
   "outputs": [],
   "source": [
    "wrf_water = wrf_water.sel(west_east = slice(129.70584, 132.39513))\n",
    "wrf_water = wrf_water.sel(south_north = slice(-13.55555, -10.931778))\n",
    "# wrf_water = wrf_water.isel(west_east = slice(136, 252))\n",
    "# wrf_water = wrf_water.isel(south_north = slice(34, 150))"
   ]
  },
  {
   "cell_type": "code",
   "execution_count": 51,
   "metadata": {
    "ExecuteTime": {
     "end_time": "2019-11-09T06:48:59.072680Z",
     "start_time": "2019-11-09T06:48:59.052912Z"
    }
   },
   "outputs": [],
   "source": [
    "longitude = wrf_water.XLONG.values\n",
    "longitude = np.expand_dims(longitude, 0)\n",
    "longitude = np.concatenate([longitude] * 41)\n",
    "longitude = np.expand_dims(longitude, 0)\n",
    "\n",
    "latitude = wrf_water.XLAT.values\n",
    "latitude = np.expand_dims(latitude, 0)\n",
    "latitude = np.concatenate([latitude] * 41)\n",
    "latitude = np.expand_dims(latitude, 0)"
   ]
  },
  {
   "cell_type": "code",
   "execution_count": 52,
   "metadata": {
    "ExecuteTime": {
     "end_time": "2019-11-09T06:48:59.083946Z",
     "start_time": "2019-11-09T06:48:59.074371Z"
    }
   },
   "outputs": [],
   "source": [
    "from numba import jit\n",
    "from numba import int32"
   ]
  },
  {
   "cell_type": "code",
   "execution_count": 53,
   "metadata": {
    "ExecuteTime": {
     "end_time": "2019-11-09T06:48:59.098143Z",
     "start_time": "2019-11-09T06:48:59.085310Z"
    }
   },
   "outputs": [],
   "source": [
    "@jit()\n",
    "def test_fun(field, z):\n",
    "    test_int = np.ones((41,117,117)) * np.nan\n",
    "    z_int = np.arange(0.0,20500.0,500.0)\n",
    "#     z = (wrf_water.PH+wrf_water.PHB)/9.80665\n",
    "\n",
    "    for i in range(117):\n",
    "        for j in range(117):\n",
    "            test_int[:,i,j] = np.interp(z_int, z[:,i,j], field[:,i,j], left=np.nan)\n",
    "    return test_int"
   ]
  },
  {
   "cell_type": "code",
   "execution_count": 54,
   "metadata": {
    "ExecuteTime": {
     "end_time": "2019-11-09T06:49:02.376707Z",
     "start_time": "2019-11-09T06:48:59.099547Z"
    }
   },
   "outputs": [],
   "source": [
    "var_list = ['QVAPOR', 'QCLOUD', 'QRAIN', 'QICE', 'QSNOW', 'QGRAUP', \n",
    "            'QNICE', 'QNRAIN',\n",
    "            'T', 'P', 'PB', 'U', 'V', 'W']\n",
    "ds_list = []\n",
    "x = np.arange(-145000.0, 145000.0 + 2500.0, 2500.0)\n",
    "y = np.arange(-145000.0, 145000.0 + 2500.0, 2500.0)\n",
    "for v in var_list:\n",
    "    test_innt = test_fun(wrf_water[v].values, \n",
    "                         ((wrf_water.PH+wrf_water.PHB)/9.80665).values)\n",
    "    # Expand dims\n",
    "    # Add time dimension\n",
    "    ds = xr.Dataset({v: (['z', 'y', 'x'],  test_innt),},\n",
    "                    coords={'y': y,\n",
    "                            'x': x,\n",
    "                            'z': np.arange(0.0,20500.0,500.0)})\n",
    "    ds_list.append(ds)"
   ]
  },
  {
   "cell_type": "code",
   "execution_count": 55,
   "metadata": {
    "ExecuteTime": {
     "end_time": "2019-11-09T06:49:02.394802Z",
     "start_time": "2019-11-09T06:49:02.378938Z"
    }
   },
   "outputs": [],
   "source": [
    "# # Add latitude longitude values\n",
    "# longitude = wrf_water.XLONG.values\n",
    "# longitude = np.expand_dims(longitude, 0)\n",
    "# longitude = np.concatenate([longitude] * 41)\n",
    "# # longitude = np.expand_dims(longitude, 0)\n",
    "# ds = xr.Dataset({'longitude': (['z', 'y', 'x'],  longitude),},\n",
    "#                 coords={'y': y, 'x': x, 'z': z})\n",
    "# ds_list.append(ds)\n",
    "\n",
    "# latitude = wrf_water.XLAT.values\n",
    "# latitude = np.expand_dims(latitude, 0)\n",
    "# latitude = np.concatenate([latitude] * 41)\n",
    "# # latitude = np.expand_dims(latitude, 0)\n",
    "# ds = xr.Dataset({'latitude': (['z', 'y', 'x'],  latitude),},\n",
    "#                 coords={'y': y, 'x': x, 'z': z})\n",
    "# ds_list.append(ds)\n",
    "\n",
    "interpi = xr.merge(ds_list)"
   ]
  },
  {
   "cell_type": "code",
   "execution_count": 56,
   "metadata": {
    "ExecuteTime": {
     "end_time": "2019-11-09T06:49:02.409179Z",
     "start_time": "2019-11-09T06:49:02.396904Z"
    }
   },
   "outputs": [],
   "source": [
    "# rho_air = 1.225\n",
    "N0r = 8*10**6\n",
    "N0g = 4*10**6\n",
    "N0s = 2*10**7\n",
    "rho_rain = 1000\n",
    "rho_snow = 100\n",
    "rho_graup = 400\n",
    "rho_ice = 890"
   ]
  },
  {
   "cell_type": "code",
   "execution_count": 57,
   "metadata": {
    "ExecuteTime": {
     "end_time": "2019-11-09T06:49:02.469294Z",
     "start_time": "2019-11-09T06:49:02.410576Z"
    }
   },
   "outputs": [],
   "source": [
    "T = (interpi.T + 300)*(100000/(interpi.PB+interpi.P)) ** (-0.286) - 273.15"
   ]
  },
  {
   "cell_type": "code",
   "execution_count": 88,
   "metadata": {
    "ExecuteTime": {
     "end_time": "2019-11-09T12:28:20.897474Z",
     "start_time": "2019-11-09T12:28:20.869617Z"
    }
   },
   "outputs": [
    {
     "data": {
      "text/plain": [
       "<xarray.Dataset>\n",
       "Dimensions:  (x: 117, y: 117, z: 41)\n",
       "Coordinates:\n",
       "  * y        (y) float64 -1.45e+05 -1.425e+05 -1.4e+05 ... 1.425e+05 1.45e+05\n",
       "  * x        (x) float64 -1.45e+05 -1.425e+05 -1.4e+05 ... 1.425e+05 1.45e+05\n",
       "  * z        (z) float64 0.0 500.0 1e+03 1.5e+03 ... 1.9e+04 1.95e+04 2e+04\n",
       "Data variables:\n",
       "    QVAPOR   (z, y, x) float64 nan nan nan nan ... 4.179e-06 4.18e-06 4.181e-06\n",
       "    QCLOUD   (z, y, x) float64 nan nan nan nan nan nan ... 0.0 0.0 0.0 0.0 0.0\n",
       "    QRAIN    (z, y, x) float64 nan nan nan nan nan nan ... 0.0 0.0 0.0 0.0 0.0\n",
       "    QICE     (z, y, x) float64 nan nan nan nan nan nan ... 0.0 0.0 0.0 0.0 0.0\n",
       "    QSNOW    (z, y, x) float64 nan nan nan nan nan nan ... 0.0 0.0 0.0 0.0 0.0\n",
       "    QGRAUP   (z, y, x) float64 nan nan nan nan nan nan ... 0.0 0.0 0.0 0.0 0.0\n",
       "    QNICE    (z, y, x) float64 nan nan nan nan nan nan ... 0.0 0.0 0.0 0.0 0.0\n",
       "    QNRAIN   (z, y, x) float64 nan nan nan nan nan nan ... 0.0 0.0 0.0 0.0 0.0\n",
       "    T        (z, y, x) float64 nan nan nan nan nan ... 155.4 155.4 155.5 155.5\n",
       "    P        (z, y, x) float64 nan nan nan nan nan ... 19.44 19.73 19.87 19.96\n",
       "    PB       (z, y, x) float64 nan nan nan nan ... 5.615e+03 5.614e+03 5.614e+03\n",
       "    U        (z, y, x) float64 nan nan nan nan ... -21.47 -21.52 -21.58 -21.62\n",
       "    V        (z, y, x) float64 nan nan nan nan ... 0.4616 0.457 0.4388 0.4108\n",
       "    W        (z, y, x) float64 nan nan nan nan ... -0.03448 -0.03031 -0.02489"
      ]
     },
     "execution_count": 88,
     "metadata": {},
     "output_type": "execute_result"
    }
   ],
   "source": [
    "interpi"
   ]
  },
  {
   "cell_type": "code",
   "execution_count": 89,
   "metadata": {
    "ExecuteTime": {
     "end_time": "2019-11-09T12:29:29.671052Z",
     "start_time": "2019-11-09T12:29:29.646462Z"
    }
   },
   "outputs": [],
   "source": [
    "rho_air=(interpi.P+interpi.PB)/(287*(T+273.15)*(0.622+interpi.QVAPOR)/(0.622*(1+interpi.QVAPOR)))"
   ]
  },
  {
   "cell_type": "code",
   "execution_count": 82,
   "metadata": {
    "ExecuteTime": {
     "end_time": "2019-11-09T07:00:01.777256Z",
     "start_time": "2019-11-09T07:00:01.068924Z"
    }
   },
   "outputs": [],
   "source": [
    "# Thompson Scheme\n",
    "\n",
    "# Solve for rain reflectivity\n",
    "lam_rain = (np.pi*rho_rain*interpi.QNRAIN*gamma(4)/(6*interpi.QRAIN*gamma(1)))**(1/3)\n",
    "N0r = interpi.QNRAIN * lam_rain / gamma(1)\n",
    "rain_ref = (6/np.pi)**2*(interpi.QRAIN**2/interpi.QNRAIN)*gamma(7)*rho_air/(rho_rain*gamma(4))**2\n",
    "\n",
    "# Solve for graupel reflectivity\n",
    "N1 = 10**4\n",
    "N2 = 5*10**6\n",
    "qg0 = 0.15*10**(-3)\n",
    "N0g = ((N1-N2)/2)*np.tanh((qg0-interpi.QGRAUP)/qg0)+(N1+N2)/2\n",
    "graup_ref = 720*(rho_air*interpi.QGRAUP)**(7/4)/(N0g**(3/4)*(np.pi*rho_graup)**(7/4))*(rho_graup/rho_ice)**2\n",
    "\n",
    "# Solve for snow reflectivity\n",
    "a = 5.065339-0.062659*T-3.032362*4+0.029469*T*4-0.000285*T**2+0.312550*4**2+0.00020*T**2*4+0.003199*T*4**2-0.015952*4**3\n",
    "a = 10 ** a\n",
    "b = 0.476221-0.015896*T+0.165977*4+0.007468*T*4-0.000141*T**2+0.060366*4**2+0.000079*T**2*4+0.000594*T*4**2-0.003577*4**3\n",
    "snow_ref = 0.189*(0.069*6/(np.pi*rho_ice))**2*a*(interpi.QSNOW*rho_air/0.069)**b\n",
    "\n",
    "# Z = 10 * np.log10(10 ** 18 * (rain_ref+snow_ref+graup_ref))\n",
    "Z = 10 * np.log10(10 ** 18 * (snow_ref))\n",
    "Z.values[Z<0] = np.nan\n",
    "Z.name = 'reflectivity'"
   ]
  },
  {
   "cell_type": "code",
   "execution_count": 87,
   "metadata": {
    "ExecuteTime": {
     "end_time": "2019-11-09T08:00:43.785218Z",
     "start_time": "2019-11-09T08:00:43.778542Z"
    }
   },
   "outputs": [
    {
     "data": {
      "text/plain": [
       "6.0"
      ]
     },
     "execution_count": 87,
     "metadata": {},
     "output_type": "execute_result"
    }
   ],
   "source": [
    "gamma(4)"
   ]
  },
  {
   "cell_type": "code",
   "execution_count": 83,
   "metadata": {
    "ExecuteTime": {
     "end_time": "2019-11-09T07:00:15.014172Z",
     "start_time": "2019-11-09T07:00:14.404385Z"
    }
   },
   "outputs": [
    {
     "data": {
      "text/plain": [
       "<xarray.DataArray 'reflectivity' (z: 41)>\n",
       "array([       nan,        nan,        nan,        nan,        nan,\n",
       "              nan,        nan,        nan,        nan,        nan,\n",
       "              nan,        nan,        nan,        nan,        nan,\n",
       "       2.50690948, 4.73578329, 5.94876678, 6.36350193, 6.87091554,\n",
       "       7.64820121, 8.23773196, 7.494721  , 6.16676395, 4.3841783 ,\n",
       "       2.57988505, 0.82199614,        nan,        nan,        nan,\n",
       "              nan,        nan,        nan,        nan,        nan,\n",
       "              nan,        nan,        nan,        nan,        nan,\n",
       "              nan])\n",
       "Coordinates:\n",
       "    y        float64 -6e+04\n",
       "    x        float64 5e+04\n",
       "  * z        (z) float64 0.0 500.0 1e+03 1.5e+03 ... 1.9e+04 1.95e+04 2e+04"
      ]
     },
     "execution_count": 83,
     "metadata": {},
     "output_type": "execute_result"
    },
    {
     "data": {
      "image/png": "[encoded data removed]",
      "text/plain": [
       "<Figure size 432x288 with 2 Axes>"
      ]
     },
     "metadata": {
      "needs_background": "light"
     },
     "output_type": "display_data"
    }
   ],
   "source": [
    "Z[22].plot()\n",
    "Z.sel(x=50000).sel(y=-60000)"
   ]
  },
  {
   "cell_type": "code",
   "execution_count": 52,
   "metadata": {
    "ExecuteTime": {
     "end_time": "2019-10-18T04:53:17.976893Z",
     "start_time": "2019-10-18T04:53:17.795293Z"
    }
   },
   "outputs": [],
   "source": [
    "# Lin Scheme\n",
    "rain_ref = 720 * (rho_air * interpi.QRAIN) ** (7/4) / (N0r ** (3/4) * (np.pi * rho_rain) ** (7/4))\n",
    "snow_ref = 720 * (rho_air * interpi.QSNOW) ** (7/4) / (N0s ** (3/4) * (np.pi * rho_snow) ** (7/4)) * (rho_snow / rho_rain) ** 2 #* (T < 0) *  0.224 \n",
    "graup_ref = 720 * (rho_air * interpi.QGRAUP) ** (7/4) / (N0g ** (3/4) * (np.pi * rho_graup) ** (7/4)) * (rho_graup / rho_rain) ** 2 #* (T < 0) * 0.224 "
   ]
  },
  {
   "cell_type": "code",
   "execution_count": 54,
   "metadata": {
    "ExecuteTime": {
     "end_time": "2019-10-18T04:53:28.156210Z",
     "start_time": "2019-10-18T04:53:28.143232Z"
    }
   },
   "outputs": [],
   "source": [
    "graup_ref.values[T.values<0] = graup_ref.values[T.values<0] * 0.224\n",
    "snow_ref.values[T.values<0] = snow_ref.values[T.values<0] * 0.224"
   ]
  },
  {
   "cell_type": "code",
   "execution_count": 55,
   "metadata": {
    "ExecuteTime": {
     "end_time": "2019-10-18T04:53:29.205148Z",
     "start_time": "2019-10-18T04:53:29.154067Z"
    }
   },
   "outputs": [],
   "source": [
    "Z = 10 * np.log10(10 ** 18 * (rain_ref+snow_ref+graup_ref))"
   ]
  },
  {
   "cell_type": "code",
   "execution_count": 56,
   "metadata": {
    "ExecuteTime": {
     "end_time": "2019-10-18T04:53:29.481058Z",
     "start_time": "2019-10-18T04:53:29.475035Z"
    }
   },
   "outputs": [],
   "source": [
    "Z.values[Z<0] = np.nan\n",
    "Z.name = 'reflectivity'"
   ]
  },
  {
   "cell_type": "code",
   "execution_count": 57,
   "metadata": {
    "ExecuteTime": {
     "end_time": "2019-10-18T04:53:30.018898Z",
     "start_time": "2019-10-18T04:53:29.990428Z"
    }
   },
   "outputs": [
    {
     "data": {
      "text/plain": [
       "<xarray.Dataset>\n",
       "Dimensions:       (x: 117, y: 117, z: 41)\n",
       "Coordinates:\n",
       "  * y             (y) float64 -1.45e+05 -1.425e+05 ... 1.425e+05 1.45e+05\n",
       "  * x             (x) float64 -1.45e+05 -1.425e+05 ... 1.425e+05 1.45e+05\n",
       "  * z             (z) float64 0.0 500.0 1e+03 1.5e+03 ... 1.9e+04 1.95e+04 2e+04\n",
       "Data variables:\n",
       "    QVAPOR        (z, y, x) float64 nan nan nan ... 3.942e-06 3.948e-06\n",
       "    QCLOUD        (z, y, x) float64 nan nan nan nan nan ... 0.0 0.0 0.0 0.0 0.0\n",
       "    QRAIN         (z, y, x) float64 nan nan nan ... 1.22e-36 2.273e-36 3.45e-36\n",
       "    QICE          (z, y, x) float64 nan nan nan nan nan ... 0.0 0.0 0.0 0.0 0.0\n",
       "    QSNOW         (z, y, x) float64 nan nan nan ... 2.75e-18 3.63e-18 2.908e-18\n",
       "    QGRAUP        (z, y, x) float64 nan nan nan ... 8.566e-31 1.008e-30\n",
       "    T             (z, y, x) float64 nan nan nan nan ... 153.5 153.4 153.3 153.3\n",
       "    P             (z, y, x) float64 nan nan nan nan ... 19.88 19.99 20.14 20.39\n",
       "    PB            (z, y, x) float64 nan nan nan ... 5.613e+03 5.613e+03\n",
       "    U             (z, y, x) float64 nan nan nan nan ... -20.91 -20.95 -20.98\n",
       "    V             (z, y, x) float64 nan nan nan nan ... -0.363 -0.335 -0.3\n",
       "    W             (z, y, x) float64 nan nan nan ... -0.00942 -0.00523 -0.003579\n",
       "    reflectivity  (z, y, x) float64 nan nan nan nan nan ... nan nan nan nan nan"
      ]
     },
     "execution_count": 57,
     "metadata": {},
     "output_type": "execute_result"
    }
   ],
   "source": [
    "xr.merge([interpi,Z])"
   ]
  },
  {
   "cell_type": "code",
   "execution_count": 74,
   "metadata": {
    "ExecuteTime": {
     "end_time": "2019-11-04T06:51:41.621125Z",
     "start_time": "2019-11-04T06:51:41.158570Z"
    }
   },
   "outputs": [
    {
     "data": {
      "text/plain": [
       "<matplotlib.contour.QuadContourSet at 0x7f9672775e10>"
      ]
     },
     "execution_count": 74,
     "metadata": {},
     "output_type": "execute_result"
    },
    {
     "data": {
      "image/png": "[encoded data removed]",
      "text/plain": [
       "<Figure size 1440x1152 with 2 Axes>"
      ]
     },
     "metadata": {
      "needs_background": "light"
     },
     "output_type": "display_data"
    }
   ],
   "source": [
    "plt.figure(figsize=(20, 16))\n",
    "W = interpi['W']\n",
    "hgt_lev=5000\n",
    "plt.contourf(Z.x, Z.z, Z.sel(y=-60000, method='nearest'), 20, vmin=0, vmax=80)\n",
    "# plt.pcolormesh(Z.longitude, Z.latitude, Z.sel(z=hgt_lev, method='nearest'))\n",
    "plt.colorbar()\n",
    "plt.contour(W.x, W.z, W.sel(y=-60000, method='nearest'), colors='k', levels=[1,5])\n",
    "# plt.contour(interpi.x, interpi.z, interpi['QRAIN'].sel(y=-60000, method='nearest'), colors='k', n=2)"
   ]
  },
  {
   "cell_type": "code",
   "execution_count": 366,
   "metadata": {
    "ExecuteTime": {
     "end_time": "2019-10-14T23:15:55.347507Z",
     "start_time": "2019-10-14T23:15:55.318393Z"
    }
   },
   "outputs": [
    {
     "data": {
      "text/plain": [
       "<xarray.DataArray 'W' (bottom_top: 63, south_north: 117, west_east: 117)>\n",
       "array([[[ 2.60939589e-03,  6.52425829e-03,  4.19883244e-03, ...,\n",
       "         -6.53097685e-03,  3.43662570e-03,  2.74853483e-02],\n",
       "        [-1.01577630e-03,  3.06889787e-03,  5.62066026e-03, ...,\n",
       "         -1.40173659e-02, -1.09690893e-02,  8.36873055e-03],\n",
       "        [-3.57101811e-03, -5.45208808e-03, -3.11506586e-03, ...,\n",
       "         -1.63174532e-02, -1.52487298e-02, -4.71443404e-03],\n",
       "        ...,\n",
       "        [-6.64367992e-03, -9.68456827e-03, -1.02461800e-02, ...,\n",
       "          2.43183598e-03,  2.61007017e-03,  2.43900297e-03],\n",
       "        [ 1.66351534e-02,  2.11766548e-02,  2.03468390e-02, ...,\n",
       "          2.96704425e-03,  3.84129328e-03,  5.17139724e-03],\n",
       "        [ 1.36522111e-04,  2.30405713e-03,  4.51409817e-03, ...,\n",
       "          2.58822134e-03,  4.38052556e-03,  6.22777687e-03]],\n",
       "\n",
       "       [[ 7.09449966e-03,  1.87225118e-02,  1.26158912e-02, ...,\n",
       "         -2.05852874e-02,  2.23021908e-03,  3.54014412e-02],\n",
       "        [-3.20735690e-03,  8.33115075e-03,  1.60523634e-02, ...,\n",
       "         -3.70552242e-02, -2.81515084e-02,  3.20289657e-03],\n",
       "        [-1.01489518e-02, -1.56917758e-02, -8.62992276e-03, ...,\n",
       "         -3.92848104e-02, -3.60212661e-02, -1.44908652e-02],\n",
       "        ...,\n",
       "        [-1.90443806e-02, -2.72343345e-02, -2.86601335e-02, ...,\n",
       "          6.96855085e-03,  8.10783356e-03,  7.57042412e-03],\n",
       "        [ 4.79071364e-02,  6.18900247e-02,  5.89470007e-02, ...,\n",
       "          8.64713453e-03,  1.14259757e-02,  1.57213025e-02],\n",
       "        [-9.71416011e-04,  6.53895736e-03,  1.20640649e-02, ...,\n",
       "          7.97940791e-03,  1.30550237e-02,  1.80703215e-02]],\n",
       "\n",
       "       [[ 1.02746822e-02,  2.83778813e-02,  2.04026587e-02, ...,\n",
       "         -3.79370898e-02, -3.15787736e-04,  3.75328511e-02],\n",
       "        [-5.17840218e-03,  1.18466849e-02,  2.43324414e-02, ...,\n",
       "         -6.48686886e-02, -4.61757034e-02, -7.44465552e-03],\n",
       "        [-1.52271241e-02, -2.25174204e-02, -1.15936324e-02, ...,\n",
       "         -6.64881244e-02, -5.82833067e-02, -2.85041612e-02],\n",
       "        ...,\n",
       "        [-2.90164072e-02, -3.92612256e-02, -4.19944078e-02, ...,\n",
       "          1.07417945e-02,  1.37517005e-02,  1.30881751e-02],\n",
       "        [ 7.36508518e-02,  9.73755568e-02,  9.13011208e-02, ...,\n",
       "          1.39338383e-02,  1.85419582e-02,  2.62646675e-02],\n",
       "        [-5.65099623e-03,  9.03817452e-03,  1.58648286e-02, ...,\n",
       "          1.37180807e-02,  2.14778148e-02,  2.82028113e-02]],\n",
       "\n",
       "       ...,\n",
       "\n",
       "       [[-1.14548936e-01, -4.67063375e-02,  1.10626854e-02, ...,\n",
       "          1.96227893e-01,  2.82038927e-01,  2.51912773e-02],\n",
       "        [-1.40572816e-01, -6.46267533e-02,  1.98086351e-03, ...,\n",
       "          7.35026300e-02,  1.56285346e-01, -7.60113820e-03],\n",
       "        [-1.79531753e-01, -1.17399894e-01, -3.68253067e-02, ...,\n",
       "         -2.65817419e-02,  4.24885824e-02, -3.74065340e-02],\n",
       "        ...,\n",
       "        [-3.13838013e-02,  5.03018722e-02,  3.92425582e-02, ...,\n",
       "          2.14720462e-02,  7.53535284e-03,  2.99474946e-03],\n",
       "        [-6.83989972e-02,  1.51877087e-02,  2.28024051e-02, ...,\n",
       "          5.05515048e-03,  4.35617752e-03, -7.04449601e-04],\n",
       "        [-8.39655697e-02, -3.03716399e-04,  2.18768250e-02, ...,\n",
       "         -8.03731941e-03, -1.69984577e-03,  1.97136216e-03]],\n",
       "\n",
       "       [[-6.26804009e-02, -6.92858472e-02, -4.01821695e-02, ...,\n",
       "         -3.84686410e-01, -1.81921735e-01, -1.40306473e-01],\n",
       "        [-2.90526114e-02, -6.96976930e-02, -8.59981701e-02, ...,\n",
       "         -2.97523707e-01, -1.93947092e-01, -7.13037252e-02],\n",
       "        [-2.84835361e-02, -7.49395192e-02, -1.14892758e-01, ...,\n",
       "         -1.62577167e-01, -1.03310473e-01, -7.04666087e-03],\n",
       "        ...,\n",
       "        [ 1.23418076e-02,  1.09577216e-02,  1.13555733e-02, ...,\n",
       "         -2.04746202e-02, -1.76354423e-02, -1.78708527e-02],\n",
       "        [ 9.33377258e-03,  1.96137838e-02,  1.77814886e-02, ...,\n",
       "         -2.08569448e-02, -2.42532417e-02, -2.82902531e-02],\n",
       "        [ 5.32535277e-03,  2.40410455e-02,  9.00071487e-03, ...,\n",
       "         -1.61568951e-02, -2.24271193e-02, -3.06029171e-02]],\n",
       "\n",
       "       [[-4.54643834e-03, -2.73896717e-02, -2.94515938e-02, ...,\n",
       "         -2.96254039e-01, -2.17788815e-01, -1.15205824e-01],\n",
       "        [ 1.85061470e-02, -2.27726419e-02, -5.36848977e-02, ...,\n",
       "         -2.05924600e-01, -1.78724378e-01, -4.52668220e-02],\n",
       "        [ 3.13023999e-02, -5.51134814e-03, -5.26662432e-02, ...,\n",
       "         -8.40226561e-02, -7.23084062e-02,  2.49864608e-02],\n",
       "        ...,\n",
       "        [ 1.50896665e-02, -2.37552412e-02, -2.69211102e-02, ...,\n",
       "         -2.54773516e-02, -1.65115744e-02, -1.18470863e-02],\n",
       "        [ 2.87047010e-02,  7.23385252e-04, -1.36138704e-02, ...,\n",
       "         -1.58319324e-02, -1.68179050e-02, -1.38032399e-02],\n",
       "        [ 3.71068195e-02,  1.26681179e-02, -1.59898959e-02, ...,\n",
       "         -6.73484756e-04, -7.01326830e-03, -1.30920224e-02]]],\n",
       "      dtype=float32)\n",
       "Coordinates:\n",
       "  * west_east    (west_east) float32 129.71446 129.73741 ... 132.35341 132.37636\n",
       "  * south_north  (south_north) float32 -13.533852 -13.511543 ... -10.9326515\n",
       "Dimensions without coordinates: bottom_top"
      ]
     },
     "execution_count": 366,
     "metadata": {},
     "output_type": "execute_result"
    }
   ],
   "source": [
    "W"
   ]
  },
  {
   "cell_type": "code",
   "execution_count": null,
   "metadata": {},
   "outputs": [],
   "source": []
  }
 ],
 "metadata": {
  "kernelspec": {
   "display_name": "Python [conda env:analysis3-19.07] *",
   "language": "python",
   "name": "conda-env-analysis3-19.07-py"
  },
  "language_info": {
   "codemirror_mode": {
    "name": "ipython",
    "version": 3
   },
   "file_extension": ".py",
   "mimetype": "text/x-python",
   "name": "python",
   "nbconvert_exporter": "python",
   "pygments_lexer": "ipython3",
   "version": "3.6.7"
  },
  "toc": {
   "base_numbering": 1,
   "nav_menu": {},
   "number_sections": true,
   "sideBar": true,
   "skip_h1_title": false,
   "title_cell": "Table of Contents",
   "title_sidebar": "Contents",
   "toc_cell": false,
   "toc_position": {},
   "toc_section_display": true,
   "toc_window_display": false
  }
 },
 "nbformat": 4,
 "nbformat_minor": 2
}
