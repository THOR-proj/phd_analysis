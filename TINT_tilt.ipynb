{
 "cells": [
  {
   "cell_type": "code",
   "execution_count": 1,
   "metadata": {
    "ExecuteTime": {
     "end_time": "2019-07-04T04:56:54.073449Z",
     "start_time": "2019-07-04T04:56:42.900539Z"
    }
   },
   "outputs": [
    {
     "name": "stdout",
     "output_type": "stream",
     "text": [
      "\n",
      "## You are using the Python ARM Radar Toolkit (Py-ART), an open source\n",
      "## library for working with weather radar data. Py-ART is partly\n",
      "## supported by the U.S. Department of Energy as part of the Atmospheric\n",
      "## Radiation Measurement (ARM) Climate Research Facility, an Office of\n",
      "## Science user facility.\n",
      "##\n",
      "## If you use this software to prepare a publication, please cite:\n",
      "##\n",
      "##     JJ Helmus and SM Collis, JORS 2016, doi: 10.5334/jors.119\n",
      "\n"
     ]
    },
    {
     "name": "stderr",
     "output_type": "stream",
     "text": [
      "/g/data3/hh5/public/apps/miniconda3/envs/analysis3-19.04/lib/python3.6/site-packages/pyart/graph/cm.py:104: FutureWarning: elementwise comparison failed; returning scalar instead, but in the future will perform elementwise comparison\n",
      "  if 'red' in spec:\n",
      "/g/data3/hh5/public/apps/miniconda3/envs/analysis3-19.04/lib/python3.6/site-packages/pyart/graph/cm_colorblind.py:32: FutureWarning: elementwise comparison failed; returning scalar instead, but in the future will perform elementwise comparison\n",
      "  if 'red' in spec:\n"
     ]
    }
   ],
   "source": [
    "# Core \n",
    "import datetime\n",
    "import os\n",
    "import glob\n",
    "from IPython.display import HTML, Image, display\n",
    "import tempfile\n",
    "import shutil\n",
    "\n",
    "# Analysis \n",
    "import xarray as xr\n",
    "import numpy as np\n",
    "import pyproj as pp\n",
    "import scipy as sp\n",
    "import metpy as mp\n",
    "\n",
    "# Plotting \n",
    "import cartopy.crs as ccrs\n",
    "from cartopy.mpl.gridliner import LONGITUDE_FORMATTER, LATITUDE_FORMATTER\n",
    "import cartopy.feature as cfeature\n",
    "import matplotlib.pyplot as plt\n",
    "from matplotlib import rcParams\n",
    "import matplotlib.ticker as mticker\n",
    "from matplotlib.animation import FuncAnimation\n",
    "import matplotlib.colors as colors\n",
    "\n",
    "# Debugging \n",
    "import pdb\n",
    "%load_ext line_profiler\n",
    "\n",
    "# Radar Tools\n",
    "import pyart\n",
    "import tint\n",
    "from tint.data_utils import get_nexrad_keys, read_nexrad_key\n",
    "from tint import Cell_tracks, animate\n",
    "from tint.visualization import embed_mp4_as_gif"
   ]
  },
  {
   "cell_type": "code",
   "execution_count": 2,
   "metadata": {
    "ExecuteTime": {
     "end_time": "2019-07-04T05:18:12.337604Z",
     "start_time": "2019-07-04T04:57:09.832127Z"
    }
   },
   "outputs": [
    {
     "name": "stdout",
     "output_type": "stream",
     "text": [
      "> /home/563/esh563/TINT/tint/objects.py(31)get_obj_extent()\n",
      "-> obj_index = np.argwhere(labeled_image == obj_label)\n",
      "(Pdb) obj_index\n",
      "*** NameError: name 'obj_index' is not defined\n",
      "(Pdb) np.argwhere(labeled_image == obj_label)\n",
      "array([[ 0, 28],\n",
      "       [ 0, 29],\n",
      "       [ 0, 30],\n",
      "       [ 0, 31],\n",
      "       [ 0, 32],\n",
      "       [ 0, 33],\n",
      "       [ 1, 28],\n",
      "       [ 1, 29],\n",
      "       [ 1, 30],\n",
      "       [ 1, 31],\n",
      "       [ 1, 32],\n",
      "       [ 1, 33],\n",
      "       [ 2, 29],\n",
      "       [ 2, 30],\n",
      "       [ 2, 31],\n",
      "       [ 2, 32],\n",
      "       [ 2, 33],\n",
      "       [ 2, 34],\n",
      "       [ 2, 35],\n",
      "       [ 3, 29],\n",
      "       [ 3, 30],\n",
      "       [ 3, 31],\n",
      "       [ 3, 32],\n",
      "       [ 3, 33],\n",
      "       [ 3, 34],\n",
      "       [ 3, 35],\n",
      "       [ 3, 36],\n",
      "       [ 3, 37],\n",
      "       [ 4, 30],\n",
      "       [ 4, 31],\n",
      "       [ 4, 32],\n",
      "       [ 4, 33],\n",
      "       [ 4, 34],\n",
      "       [ 4, 35],\n",
      "       [ 4, 36],\n",
      "       [ 4, 37],\n",
      "       [ 4, 38],\n",
      "       [ 5, 34],\n",
      "       [ 5, 35],\n",
      "       [ 5, 36],\n",
      "       [ 5, 37],\n",
      "       [ 6, 33],\n",
      "       [ 6, 34],\n",
      "       [ 6, 35],\n",
      "       [ 6, 36],\n",
      "       [ 6, 37],\n",
      "       [ 7, 33],\n",
      "       [ 7, 34],\n",
      "       [ 7, 35],\n",
      "       [ 7, 36],\n",
      "       [ 7, 37],\n",
      "       [ 7, 38],\n",
      "       [ 8, 33],\n",
      "       [ 8, 34],\n",
      "       [ 8, 35],\n",
      "       [ 8, 36],\n",
      "       [ 8, 37],\n",
      "       [ 8, 38],\n",
      "       [ 9, 37],\n",
      "       [ 9, 38],\n",
      "       [ 9, 39],\n",
      "       [10, 38]])\n",
      "(Pdb) labelled_image\n",
      "*** NameError: name 'labelled_image' is not defined\n",
      "(Pdb) labeled_image\n",
      "array([[0, 0, 0, ..., 0, 0, 0],\n",
      "       [0, 0, 0, ..., 0, 0, 0],\n",
      "       [0, 0, 0, ..., 0, 0, 0],\n",
      "       ...,\n",
      "       [0, 0, 0, ..., 0, 0, 0],\n",
      "       [0, 0, 0, ..., 0, 0, 0],\n",
      "       [0, 0, 0, ..., 0, 0, 0]], dtype=int32)\n",
      "(Pdb) q\n"
     ]
    },
    {
     "ename": "BdbQuit",
     "evalue": "",
     "output_type": "error",
     "traceback": [
      "\u001b[0;31m---------------------------------------------------------------------------\u001b[0m",
      "\u001b[0;31mBdbQuit\u001b[0m                                   Traceback (most recent call last)",
      "\u001b[0;32m<ipython-input-2-aba46342dd7f>\u001b[0m in \u001b[0;36m<module>\u001b[0;34m\u001b[0m\n\u001b[1;32m     37\u001b[0m \u001b[0;34m\u001b[0m\u001b[0m\n\u001b[1;32m     38\u001b[0m \u001b[0;31m# Calculate tracks\u001b[0m\u001b[0;34m\u001b[0m\u001b[0;34m\u001b[0m\u001b[0;34m\u001b[0m\u001b[0m\n\u001b[0;32m---> 39\u001b[0;31m \u001b[0mtracks_obj_low\u001b[0m\u001b[0;34m.\u001b[0m\u001b[0mget_tracks\u001b[0m\u001b[0;34m(\u001b[0m\u001b[0mgrids_low\u001b[0m\u001b[0;34m)\u001b[0m\u001b[0;34m\u001b[0m\u001b[0;34m\u001b[0m\u001b[0m\n\u001b[0m\u001b[1;32m     40\u001b[0m \u001b[0mtracks_obj_mid\u001b[0m\u001b[0;34m.\u001b[0m\u001b[0mget_tracks\u001b[0m\u001b[0;34m(\u001b[0m\u001b[0mgrids_mid\u001b[0m\u001b[0;34m)\u001b[0m\u001b[0;34m\u001b[0m\u001b[0;34m\u001b[0m\u001b[0m\n",
      "\u001b[0;32m~/TINT/tint/tracks.py\u001b[0m in \u001b[0;36mget_tracks\u001b[0;34m(self, grids)\u001b[0m\n\u001b[1;32m    210\u001b[0m                               \u001b[0mself\u001b[0m\u001b[0;34m.\u001b[0m\u001b[0mcurrent_objects\u001b[0m\u001b[0;34m,\u001b[0m\u001b[0;34m\u001b[0m\u001b[0;34m\u001b[0m\u001b[0m\n\u001b[1;32m    211\u001b[0m                               \u001b[0mself\u001b[0m\u001b[0;34m.\u001b[0m\u001b[0mrecord\u001b[0m\u001b[0;34m,\u001b[0m\u001b[0;34m\u001b[0m\u001b[0;34m\u001b[0m\u001b[0m\n\u001b[0;32m--> 212\u001b[0;31m                               self.params)\n\u001b[0m\u001b[1;32m    213\u001b[0m \u001b[0;34m\u001b[0m\u001b[0m\n\u001b[1;32m    214\u001b[0m             \u001b[0;32mif\u001b[0m \u001b[0mnewRain\u001b[0m\u001b[0;34m:\u001b[0m\u001b[0;34m\u001b[0m\u001b[0;34m\u001b[0m\u001b[0m\n",
      "\u001b[0;32m~/TINT/tint/matching.py\u001b[0m in \u001b[0;36mget_pairs\u001b[0;34m(image1, image2, global_shift, current_objects, record, params)\u001b[0m\n\u001b[1;32m    261\u001b[0m                                    \u001b[0mcurrent_objects\u001b[0m\u001b[0;34m,\u001b[0m\u001b[0;34m\u001b[0m\u001b[0;34m\u001b[0m\u001b[0m\n\u001b[1;32m    262\u001b[0m                                    \u001b[0mrecord\u001b[0m\u001b[0;34m,\u001b[0m\u001b[0;34m\u001b[0m\u001b[0;34m\u001b[0m\u001b[0m\n\u001b[0;32m--> 263\u001b[0;31m                                    params)\n\u001b[0m\u001b[1;32m    264\u001b[0m     \u001b[0mpairs\u001b[0m \u001b[0;34m=\u001b[0m \u001b[0mmatch_pairs\u001b[0m\u001b[0;34m(\u001b[0m\u001b[0mobj_match\u001b[0m\u001b[0;34m,\u001b[0m \u001b[0mparams\u001b[0m\u001b[0;34m)\u001b[0m\u001b[0;34m\u001b[0m\u001b[0;34m\u001b[0m\u001b[0m\n\u001b[1;32m    265\u001b[0m     \u001b[0;32mreturn\u001b[0m \u001b[0mpairs\u001b[0m\u001b[0;34m\u001b[0m\u001b[0;34m\u001b[0m\u001b[0m\n",
      "\u001b[0;32m~/TINT/tint/matching.py\u001b[0m in \u001b[0;36mlocate_all_objects\u001b[0;34m(image1, image2, global_shift, current_objects, record, params)\u001b[0m\n\u001b[1;32m    208\u001b[0m \u001b[0;34m\u001b[0m\u001b[0m\n\u001b[1;32m    209\u001b[0m     \u001b[0;32mfor\u001b[0m \u001b[0mobj_id1\u001b[0m \u001b[0;32min\u001b[0m \u001b[0mnp\u001b[0m\u001b[0;34m.\u001b[0m\u001b[0marange\u001b[0m\u001b[0;34m(\u001b[0m\u001b[0mnobj1\u001b[0m\u001b[0;34m)\u001b[0m \u001b[0;34m+\u001b[0m \u001b[0;36m1\u001b[0m\u001b[0;34m:\u001b[0m\u001b[0;34m\u001b[0m\u001b[0;34m\u001b[0m\u001b[0m\n\u001b[0;32m--> 210\u001b[0;31m         \u001b[0mobj1_extent\u001b[0m \u001b[0;34m=\u001b[0m \u001b[0mget_obj_extent\u001b[0m\u001b[0;34m(\u001b[0m\u001b[0mimage1\u001b[0m\u001b[0;34m,\u001b[0m \u001b[0mobj_id1\u001b[0m\u001b[0;34m)\u001b[0m\u001b[0;34m\u001b[0m\u001b[0;34m\u001b[0m\u001b[0m\n\u001b[0m\u001b[1;32m    211\u001b[0m         shift = get_ambient_flow(obj1_extent, image1,\n\u001b[1;32m    212\u001b[0m                                  image2, params, record.grid_size)\n",
      "\u001b[0;32m~/TINT/tint/objects.py\u001b[0m in \u001b[0;36mget_obj_extent\u001b[0;34m(labeled_image, obj_label)\u001b[0m\n\u001b[1;32m     29\u001b[0m     \u001b[0;32mimport\u001b[0m \u001b[0mpdb\u001b[0m\u001b[0;34m\u001b[0m\u001b[0;34m\u001b[0m\u001b[0m\n\u001b[1;32m     30\u001b[0m     \u001b[0mpdb\u001b[0m\u001b[0;34m.\u001b[0m\u001b[0mset_trace\u001b[0m\u001b[0;34m(\u001b[0m\u001b[0;34m)\u001b[0m\u001b[0;34m\u001b[0m\u001b[0;34m\u001b[0m\u001b[0m\n\u001b[0;32m---> 31\u001b[0;31m     \u001b[0mobj_index\u001b[0m \u001b[0;34m=\u001b[0m \u001b[0mnp\u001b[0m\u001b[0;34m.\u001b[0m\u001b[0margwhere\u001b[0m\u001b[0;34m(\u001b[0m\u001b[0mlabeled_image\u001b[0m \u001b[0;34m==\u001b[0m \u001b[0mobj_label\u001b[0m\u001b[0;34m)\u001b[0m\u001b[0;34m\u001b[0m\u001b[0;34m\u001b[0m\u001b[0m\n\u001b[0m\u001b[1;32m     32\u001b[0m \u001b[0;34m\u001b[0m\u001b[0m\n\u001b[1;32m     33\u001b[0m     \u001b[0mxlength\u001b[0m \u001b[0;34m=\u001b[0m \u001b[0mnp\u001b[0m\u001b[0;34m.\u001b[0m\u001b[0mmax\u001b[0m\u001b[0;34m(\u001b[0m\u001b[0mobj_index\u001b[0m\u001b[0;34m[\u001b[0m\u001b[0;34m:\u001b[0m\u001b[0;34m,\u001b[0m \u001b[0;36m0\u001b[0m\u001b[0;34m]\u001b[0m\u001b[0;34m)\u001b[0m \u001b[0;34m-\u001b[0m \u001b[0mnp\u001b[0m\u001b[0;34m.\u001b[0m\u001b[0mmin\u001b[0m\u001b[0;34m(\u001b[0m\u001b[0mobj_index\u001b[0m\u001b[0;34m[\u001b[0m\u001b[0;34m:\u001b[0m\u001b[0;34m,\u001b[0m \u001b[0;36m0\u001b[0m\u001b[0;34m]\u001b[0m\u001b[0;34m)\u001b[0m \u001b[0;34m+\u001b[0m \u001b[0;36m1\u001b[0m\u001b[0;34m\u001b[0m\u001b[0;34m\u001b[0m\u001b[0m\n",
      "\u001b[0;32m~/TINT/tint/objects.py\u001b[0m in \u001b[0;36mget_obj_extent\u001b[0;34m(labeled_image, obj_label)\u001b[0m\n\u001b[1;32m     29\u001b[0m     \u001b[0;32mimport\u001b[0m \u001b[0mpdb\u001b[0m\u001b[0;34m\u001b[0m\u001b[0;34m\u001b[0m\u001b[0m\n\u001b[1;32m     30\u001b[0m     \u001b[0mpdb\u001b[0m\u001b[0;34m.\u001b[0m\u001b[0mset_trace\u001b[0m\u001b[0;34m(\u001b[0m\u001b[0;34m)\u001b[0m\u001b[0;34m\u001b[0m\u001b[0;34m\u001b[0m\u001b[0m\n\u001b[0;32m---> 31\u001b[0;31m     \u001b[0mobj_index\u001b[0m \u001b[0;34m=\u001b[0m \u001b[0mnp\u001b[0m\u001b[0;34m.\u001b[0m\u001b[0margwhere\u001b[0m\u001b[0;34m(\u001b[0m\u001b[0mlabeled_image\u001b[0m \u001b[0;34m==\u001b[0m \u001b[0mobj_label\u001b[0m\u001b[0;34m)\u001b[0m\u001b[0;34m\u001b[0m\u001b[0;34m\u001b[0m\u001b[0m\n\u001b[0m\u001b[1;32m     32\u001b[0m \u001b[0;34m\u001b[0m\u001b[0m\n\u001b[1;32m     33\u001b[0m     \u001b[0mxlength\u001b[0m \u001b[0;34m=\u001b[0m \u001b[0mnp\u001b[0m\u001b[0;34m.\u001b[0m\u001b[0mmax\u001b[0m\u001b[0;34m(\u001b[0m\u001b[0mobj_index\u001b[0m\u001b[0;34m[\u001b[0m\u001b[0;34m:\u001b[0m\u001b[0;34m,\u001b[0m \u001b[0;36m0\u001b[0m\u001b[0;34m]\u001b[0m\u001b[0;34m)\u001b[0m \u001b[0;34m-\u001b[0m \u001b[0mnp\u001b[0m\u001b[0;34m.\u001b[0m\u001b[0mmin\u001b[0m\u001b[0;34m(\u001b[0m\u001b[0mobj_index\u001b[0m\u001b[0;34m[\u001b[0m\u001b[0;34m:\u001b[0m\u001b[0;34m,\u001b[0m \u001b[0;36m0\u001b[0m\u001b[0;34m]\u001b[0m\u001b[0;34m)\u001b[0m \u001b[0;34m+\u001b[0m \u001b[0;36m1\u001b[0m\u001b[0;34m\u001b[0m\u001b[0;34m\u001b[0m\u001b[0m\n",
      "\u001b[0;32m/g/data3/hh5/public/apps/miniconda3/envs/analysis3-19.04/lib/python3.6/bdb.py\u001b[0m in \u001b[0;36mtrace_dispatch\u001b[0;34m(self, frame, event, arg)\u001b[0m\n\u001b[1;32m     49\u001b[0m             \u001b[0;32mreturn\u001b[0m \u001b[0;31m# None\u001b[0m\u001b[0;34m\u001b[0m\u001b[0;34m\u001b[0m\u001b[0m\n\u001b[1;32m     50\u001b[0m         \u001b[0;32mif\u001b[0m \u001b[0mevent\u001b[0m \u001b[0;34m==\u001b[0m \u001b[0;34m'line'\u001b[0m\u001b[0;34m:\u001b[0m\u001b[0;34m\u001b[0m\u001b[0;34m\u001b[0m\u001b[0m\n\u001b[0;32m---> 51\u001b[0;31m             \u001b[0;32mreturn\u001b[0m \u001b[0mself\u001b[0m\u001b[0;34m.\u001b[0m\u001b[0mdispatch_line\u001b[0m\u001b[0;34m(\u001b[0m\u001b[0mframe\u001b[0m\u001b[0;34m)\u001b[0m\u001b[0;34m\u001b[0m\u001b[0;34m\u001b[0m\u001b[0m\n\u001b[0m\u001b[1;32m     52\u001b[0m         \u001b[0;32mif\u001b[0m \u001b[0mevent\u001b[0m \u001b[0;34m==\u001b[0m \u001b[0;34m'call'\u001b[0m\u001b[0;34m:\u001b[0m\u001b[0;34m\u001b[0m\u001b[0;34m\u001b[0m\u001b[0m\n\u001b[1;32m     53\u001b[0m             \u001b[0;32mreturn\u001b[0m \u001b[0mself\u001b[0m\u001b[0;34m.\u001b[0m\u001b[0mdispatch_call\u001b[0m\u001b[0;34m(\u001b[0m\u001b[0mframe\u001b[0m\u001b[0;34m,\u001b[0m \u001b[0marg\u001b[0m\u001b[0;34m)\u001b[0m\u001b[0;34m\u001b[0m\u001b[0;34m\u001b[0m\u001b[0m\n",
      "\u001b[0;32m/g/data3/hh5/public/apps/miniconda3/envs/analysis3-19.04/lib/python3.6/bdb.py\u001b[0m in \u001b[0;36mdispatch_line\u001b[0;34m(self, frame)\u001b[0m\n\u001b[1;32m     68\u001b[0m         \u001b[0;32mif\u001b[0m \u001b[0mself\u001b[0m\u001b[0;34m.\u001b[0m\u001b[0mstop_here\u001b[0m\u001b[0;34m(\u001b[0m\u001b[0mframe\u001b[0m\u001b[0;34m)\u001b[0m \u001b[0;32mor\u001b[0m \u001b[0mself\u001b[0m\u001b[0;34m.\u001b[0m\u001b[0mbreak_here\u001b[0m\u001b[0;34m(\u001b[0m\u001b[0mframe\u001b[0m\u001b[0;34m)\u001b[0m\u001b[0;34m:\u001b[0m\u001b[0;34m\u001b[0m\u001b[0;34m\u001b[0m\u001b[0m\n\u001b[1;32m     69\u001b[0m             \u001b[0mself\u001b[0m\u001b[0;34m.\u001b[0m\u001b[0muser_line\u001b[0m\u001b[0;34m(\u001b[0m\u001b[0mframe\u001b[0m\u001b[0;34m)\u001b[0m\u001b[0;34m\u001b[0m\u001b[0;34m\u001b[0m\u001b[0m\n\u001b[0;32m---> 70\u001b[0;31m             \u001b[0;32mif\u001b[0m \u001b[0mself\u001b[0m\u001b[0;34m.\u001b[0m\u001b[0mquitting\u001b[0m\u001b[0;34m:\u001b[0m \u001b[0;32mraise\u001b[0m \u001b[0mBdbQuit\u001b[0m\u001b[0;34m\u001b[0m\u001b[0;34m\u001b[0m\u001b[0m\n\u001b[0m\u001b[1;32m     71\u001b[0m         \u001b[0;32mreturn\u001b[0m \u001b[0mself\u001b[0m\u001b[0;34m.\u001b[0m\u001b[0mtrace_dispatch\u001b[0m\u001b[0;34m\u001b[0m\u001b[0;34m\u001b[0m\u001b[0m\n\u001b[1;32m     72\u001b[0m \u001b[0;34m\u001b[0m\u001b[0m\n",
      "\u001b[0;31mBdbQuit\u001b[0m: "
     ]
    }
   ],
   "source": [
    "# Store filenames for an example day of data\n",
    "filenames = sorted(glob.glob('/g/data/rr5/CPOL_radar/CPOL_level_1b/GRIDDED/GRID_70km_1000m/2016/20161220/*.nc'))\n",
    "grids_low = (pyart.io.read_grid(fn, include_fields = 'reflectivity') for fn in filenames)\n",
    "grids_mid = (pyart.io.read_grid(fn, include_fields = 'reflectivity') for fn in filenames)\n",
    "\n",
    "# Specify bounds of CPOL 1000 m gridded dataset\n",
    "lon_min = 130.40\n",
    "lon_max = 131.69\n",
    "\n",
    "lat_max = -11.61\n",
    "lat_min = -12.87\n",
    "\n",
    "# Define settings for low and mid level tracking\n",
    "settings_low = {\n",
    "    'MIN_SIZE' : 30, \n",
    "    'FIELD_THRESH' : 40,\n",
    "    'GS_ALT' : 1500,\n",
    "    'MIN_LEVEL' : 0,\n",
    "    'MAX_LEVEL' : 3000,\n",
    "}\n",
    "\n",
    "settings_mid = {\n",
    "    'MIN_SIZE' : 30, \n",
    "    'FIELD_THRESH' : 40,\n",
    "    'GS_ALT' : 4500,\n",
    "    'MIN_LEVEL' : 3000,\n",
    "    'MAX_LEVEL' : 6000,\n",
    "}\n",
    "\n",
    "# Calculate high and low level tracks\n",
    "tracks_obj_low  = Cell_tracks()\n",
    "tracks_obj_mid  = Cell_tracks()\n",
    "\n",
    "for parameter in ['MIN_SIZE', 'FIELD_THRESH', 'GS_ALT', 'MIN_LEVEL', 'MAX_LEVEL']:\n",
    "    tracks_obj_low.params[parameter] = settings_low[parameter]\n",
    "    tracks_obj_mid.params[parameter] = settings_mid[parameter]\n",
    "\n",
    "# Calculate tracks\n",
    "tracks_obj_low.get_tracks(grids_low)\n",
    "tracks_obj_mid.get_tracks(grids_mid)"
   ]
  },
  {
   "cell_type": "code",
   "execution_count": null,
   "metadata": {
    "ExecuteTime": {
     "end_time": "2019-07-04T03:47:03.728529Z",
     "start_time": "2019-07-04T03:47:03.623769Z"
    }
   },
   "outputs": [],
   "source": [
    "tracks_obj_low.tracks"
   ]
  },
  {
   "cell_type": "code",
   "execution_count": null,
   "metadata": {
    "ExecuteTime": {
     "end_time": "2019-07-04T03:47:05.120658Z",
     "start_time": "2019-07-04T03:47:05.023946Z"
    }
   },
   "outputs": [],
   "source": [
    "tracks_obj_mid.tracks"
   ]
  },
  {
   "cell_type": "code",
   "execution_count": null,
   "metadata": {
    "ExecuteTime": {
     "end_time": "2019-07-04T03:56:10.474995Z",
     "start_time": "2019-07-04T03:51:30.879018Z"
    },
    "scrolled": false
   },
   "outputs": [],
   "source": [
    "# Animate low level tracks\n",
    "grids = (pyart.io.read_grid(fn, include_fields = 'reflectivity') for fn in filenames)\n",
    "\n",
    "tmp_dir = tempfile.mkdtemp()\n",
    "\n",
    "animate(tracks_obj_low, grids, os.path.join(tmp_dir, 'low_tracks_anim'),\n",
    "        lat_lines=np.arange(lat_min, lat_max, .1),\n",
    "        lon_lines=np.arange(lon_min, lon_max, .1),\n",
    "        tracers=True)\n",
    "\n",
    "embed_mp4_as_gif(os.path.join(tmp_dir, 'low_tracks_anim.mp4'))\n",
    "\n",
    "shutil.rmtree(tmp_dir)"
   ]
  },
  {
   "cell_type": "code",
   "execution_count": null,
   "metadata": {
    "ExecuteTime": {
     "end_time": "2019-07-04T04:09:15.042164Z",
     "start_time": "2019-07-04T04:04:50.089898Z"
    },
    "scrolled": false
   },
   "outputs": [],
   "source": [
    "# Animate mid level tracks\n",
    "grids = (pyart.io.read_grid(fn, include_fields = 'reflectivity') for fn in filenames)\n",
    "\n",
    "tmp_dir = tempfile.mkdtemp()\n",
    "\n",
    "animate(tracks_obj_mid, grids, os.path.join(tmp_dir, 'mid_tracks_anim'),\n",
    "        lat_lines=np.arange(lat_min, lat_max, .1),\n",
    "        lon_lines=np.arange(lon_min, lon_max, .1),\n",
    "        tracers=True)\n",
    "\n",
    "embed_mp4_as_gif(os.path.join(tmp_dir, 'mid_tracks_anim.mp4'))\n",
    "\n",
    "shutil.rmtree(tmp_dir)"
   ]
  },
  {
   "cell_type": "code",
   "execution_count": null,
   "metadata": {
    "ExecuteTime": {
     "end_time": "2019-07-04T04:11:58.362587Z",
     "start_time": "2019-07-04T04:11:58.339974Z"
    }
   },
   "outputs": [],
   "source": [
    "tracks_obj_low.tracks.groupby(level='uid').size().sort_values(ascending=False)[:10]"
   ]
  },
  {
   "cell_type": "code",
   "execution_count": null,
   "metadata": {
    "ExecuteTime": {
     "end_time": "2019-07-04T04:13:43.619190Z",
     "start_time": "2019-07-04T04:13:43.601259Z"
    }
   },
   "outputs": [],
   "source": [
    "tracks_obj_mid.tracks.groupby(level='uid').size().sort_values(ascending=False)[:10]"
   ]
  },
  {
   "cell_type": "code",
   "execution_count": null,
   "metadata": {
    "ExecuteTime": {
     "end_time": "2019-07-04T04:20:26.425690Z",
     "start_time": "2019-07-04T04:19:42.647269Z"
    },
    "scrolled": false
   },
   "outputs": [],
   "source": [
    "# Lagrangian Animation\n",
    "tmp_dir = tempfile.mkdtemp()\n",
    "\n",
    "grids = (pyart.io.read_grid(fn) for fn in filenames)  # refresh grid generator\n",
    "animate(tracks_obj_low, grids, os.path.join(tmp_dir, 'low_lagrangian'), style='lagrangian', uid='50', alt=1500)\n",
    "\n",
    "embed_mp4_as_gif(os.path.join(tmp_dir, 'low_lagrangian.mp4'))\n",
    "shutil.rmtree(tmp_dir)"
   ]
  },
  {
   "cell_type": "code",
   "execution_count": null,
   "metadata": {
    "ExecuteTime": {
     "end_time": "2019-07-04T04:19:32.278379Z",
     "start_time": "2019-07-04T04:18:51.889591Z"
    }
   },
   "outputs": [],
   "source": [
    "# Lagrangian Animation\n",
    "tmp_dir = tempfile.mkdtemp()\n",
    "\n",
    "grids = (pyart.io.read_grid(fn) for fn in filenames)  # refresh grid generator\n",
    "animate(tracks_obj_mid, grids, os.path.join(tmp_dir, 'mid_lagrangian'), style='lagrangian', uid='38', alt=4500)\n",
    "\n",
    "embed_mp4_as_gif(os.path.join(tmp_dir, 'mid_lagrangian.mp4'))\n",
    "shutil.rmtree(tmp_dir)"
   ]
  },
  {
   "cell_type": "code",
   "execution_count": 7,
   "metadata": {
    "ExecuteTime": {
     "end_time": "2019-07-04T05:22:03.428570Z",
     "start_time": "2019-07-04T05:22:03.423766Z"
    }
   },
   "outputs": [],
   "source": [
    "test=np.array([[10, 20], [2, 30]])"
   ]
  },
  {
   "cell_type": "code",
   "execution_count": 8,
   "metadata": {
    "ExecuteTime": {
     "end_time": "2019-07-04T05:22:09.035920Z",
     "start_time": "2019-07-04T05:22:09.026728Z"
    }
   },
   "outputs": [
    {
     "data": {
      "text/plain": [
       "20"
      ]
     },
     "execution_count": 8,
     "metadata": {},
     "output_type": "execute_result"
    }
   ],
   "source": [
    "test[0,1]"
   ]
  },
  {
   "cell_type": "code",
   "execution_count": null,
   "metadata": {},
   "outputs": [],
   "source": []
  }
 ],
 "metadata": {
  "kernelspec": {
   "display_name": "Python [conda env:analysis3-19.04] *",
   "language": "python",
   "name": "conda-env-analysis3-19.04-py"
  },
  "language_info": {
   "codemirror_mode": {
    "name": "ipython",
    "version": 3
   },
   "file_extension": ".py",
   "mimetype": "text/x-python",
   "name": "python",
   "nbconvert_exporter": "python",
   "pygments_lexer": "ipython3",
   "version": "3.6.7"
  },
  "toc": {
   "base_numbering": 1,
   "nav_menu": {},
   "number_sections": true,
   "sideBar": true,
   "skip_h1_title": false,
   "title_cell": "Table of Contents",
   "title_sidebar": "Contents",
   "toc_cell": false,
   "toc_position": {},
   "toc_section_display": true,
   "toc_window_display": false
  }
 },
 "nbformat": 4,
 "nbformat_minor": 2
}
