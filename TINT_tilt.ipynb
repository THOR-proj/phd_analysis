{
 "cells": [
  {
   "cell_type": "code",
   "execution_count": 41,
   "metadata": {
    "ExecuteTime": {
     "end_time": "2019-07-12T08:25:29.088793Z",
     "start_time": "2019-07-12T08:25:29.077257Z"
    }
   },
   "outputs": [
    {
     "name": "stdout",
     "output_type": "stream",
     "text": [
      "The line_profiler extension is already loaded. To reload it, use:\n",
      "  %reload_ext line_profiler\n"
     ]
    }
   ],
   "source": [
    "# Core \n",
    "import datetime\n",
    "import os\n",
    "import glob\n",
    "# from IPython.display import HTML, Image, display\n",
    "import tempfile\n",
    "import shutil\n",
    "import sys\n",
    "import pickle\n",
    "import warnings\n",
    "\n",
    "# Analysis \n",
    "import xarray as xr\n",
    "import numpy as np\n",
    "import pandas as pd\n",
    "\n",
    "# Plotting \n",
    "# import cartopy.crs as ccrs\n",
    "# from cartopy.mpl.gridliner import LONGITUDE_FORMATTER, LATITUDE_FORMATTER\n",
    "# import cartopy.feature as cfeature\n",
    "# import matplotlib.pyplot as plt\n",
    "# from matplotlib import rcParams\n",
    "# import matplotlib.ticker as mticker\n",
    "# from matplotlib.animation import FuncAnimation\n",
    "# import matplotlib.colors as colors\n",
    "\n",
    "# Debugging \n",
    "import pdb, traceback\n",
    "%load_ext line_profiler\n",
    "\n",
    "# Radar Tools\n",
    "import pyart\n",
    "import tint\n",
    "from tint import animate\n",
    "# from tint.visualization import embed_mp4_as_gif"
   ]
  },
  {
   "cell_type": "code",
   "execution_count": 2,
   "metadata": {
    "ExecuteTime": {
     "end_time": "2019-07-12T05:41:34.741243Z",
     "start_time": "2019-07-12T05:41:19.233697Z"
    },
    "scrolled": true
   },
   "outputs": [
    {
     "name": "stdout",
     "output_type": "stream",
     "text": [
      "No objects found in scan 143.    \n",
      "\n",
      "Time elapsed: 0.2 minutes\n"
     ]
    }
   ],
   "source": [
    "# Store filenames for an example day of data\n",
    "base = '/g/data/rr5/CPOL_radar/CPOL_level_1b/GRIDDED/GRID_70km_1000m/'\n",
    "\n",
    "filenames = sorted(glob.glob(base + '2016/20161201/*.nc'))\n",
    "# Generate grid generator \n",
    "# Note generators produce iterators\n",
    "# These are alternative to using lists and looping\n",
    "grids = (pyart.io.read_grid(fn, include_fields = 'reflectivity') \n",
    "         for fn in filenames)\n",
    "\n",
    "# Define settings for tracking\n",
    "settings = {\n",
    "    'MIN_SIZE' : [15, 15, 15, 15],\n",
    "    'FIELD_THRESH' : [47, 40, 35, 30],\n",
    "    'ISO_THRESH' : [4, 4, 4, 4],\n",
    "    'GS_ALT' : 3000,\n",
    "    'LEVELS' : np.array(\n",
    "        [[0, 2000], \n",
    "         [2000, 4000],\n",
    "         [4000, 6000],\n",
    "         [6000, 8000]]\n",
    "    ),\n",
    "    'TRACK_INTERVAL' : 1,\n",
    "}\n",
    "\n",
    "# Calculate high and low level tracks\n",
    "tracks_obj  = tint.Cell_tracks()\n",
    "\n",
    "for parameter in ['MIN_SIZE', 'FIELD_THRESH', 'GS_ALT', 'LEVELS', \n",
    "                  'TRACK_INTERVAL', 'ISO_THRESH'\n",
    "                 ]:\n",
    "    tracks_obj.params[parameter] = settings[parameter]\n",
    "\n",
    "# Calculate tracks\n",
    "tracks_obj.get_tracks(grids)\n",
    "\n",
    "# Create directory for figures\n",
    "dt=str(datetime.datetime.now())[0:-7]\n",
    "dt=dt.replace(\" \", \"_\")\n",
    "dt=dt.replace(\":\", \"_\")\n",
    "dt=dt.replace(\"-\", \"\")  \n",
    "\n",
    "out_file_name = '/g/data/w40/esh563/CPOL_analysis/TINT_tracks/tracks_obj_{}.pkl'.format(dt)\n",
    "\n",
    "with open(out_file_name, 'wb') as f:\n",
    "    pickle.dump(tracks_obj, f)\n",
    "    \n",
    "# if __name__ == '__main__':\n",
    "#     try:\n",
    "#         test()\n",
    "#     except:\n",
    "#         extype, value, tb = sys.exc_info()\n",
    "#         traceback.print_exc()\n",
    "#         pdb.post_mortem(tb)"
   ]
  },
  {
   "cell_type": "code",
   "execution_count": 39,
   "metadata": {
    "ExecuteTime": {
     "end_time": "2019-07-12T08:22:31.703240Z",
     "start_time": "2019-07-12T08:22:31.694344Z"
    }
   },
   "outputs": [
    {
     "data": {
      "text/plain": [
       "['/g/data/rr5/CPOL_radar/CPOL_level_1b/GRIDDED/GRID_70km_1000m/2017/20170205/CPOL_20170205_1910_GRIDS_1000m.nc',\n",
       " '/g/data/rr5/CPOL_radar/CPOL_level_1b/GRIDDED/GRID_70km_1000m/2017/20170205/CPOL_20170205_1920_GRIDS_1000m.nc',\n",
       " '/g/data/rr5/CPOL_radar/CPOL_level_1b/GRIDDED/GRID_70km_1000m/2017/20170205/CPOL_20170205_1930_GRIDS_1000m.nc',\n",
       " '/g/data/rr5/CPOL_radar/CPOL_level_1b/GRIDDED/GRID_70km_1000m/2017/20170205/CPOL_20170205_1940_GRIDS_1000m.nc',\n",
       " '/g/data/rr5/CPOL_radar/CPOL_level_1b/GRIDDED/GRID_70km_1000m/2017/20170205/CPOL_20170205_1950_GRIDS_1000m.nc',\n",
       " '/g/data/rr5/CPOL_radar/CPOL_level_1b/GRIDDED/GRID_70km_1000m/2017/20170205/CPOL_20170205_2000_GRIDS_1000m.nc',\n",
       " '/g/data/rr5/CPOL_radar/CPOL_level_1b/GRIDDED/GRID_70km_1000m/2017/20170205/CPOL_20170205_2010_GRIDS_1000m.nc',\n",
       " '/g/data/rr5/CPOL_radar/CPOL_level_1b/GRIDDED/GRID_70km_1000m/2017/20170205/CPOL_20170205_2020_GRIDS_1000m.nc',\n",
       " '/g/data/rr5/CPOL_radar/CPOL_level_1b/GRIDDED/GRID_70km_1000m/2017/20170205/CPOL_20170205_2030_GRIDS_1000m.nc',\n",
       " '/g/data/rr5/CPOL_radar/CPOL_level_1b/GRIDDED/GRID_70km_1000m/2017/20170205/CPOL_20170205_2040_GRIDS_1000m.nc',\n",
       " '/g/data/rr5/CPOL_radar/CPOL_level_1b/GRIDDED/GRID_70km_1000m/2017/20170205/CPOL_20170205_2050_GRIDS_1000m.nc',\n",
       " '/g/data/rr5/CPOL_radar/CPOL_level_1b/GRIDDED/GRID_70km_1000m/2017/20170205/CPOL_20170205_2100_GRIDS_1000m.nc',\n",
       " '/g/data/rr5/CPOL_radar/CPOL_level_1b/GRIDDED/GRID_70km_1000m/2017/20170205/CPOL_20170205_2110_GRIDS_1000m.nc',\n",
       " '/g/data/rr5/CPOL_radar/CPOL_level_1b/GRIDDED/GRID_70km_1000m/2017/20170205/CPOL_20170205_2120_GRIDS_1000m.nc',\n",
       " '/g/data/rr5/CPOL_radar/CPOL_level_1b/GRIDDED/GRID_70km_1000m/2017/20170205/CPOL_20170205_2130_GRIDS_1000m.nc']"
      ]
     },
     "execution_count": 39,
     "metadata": {},
     "output_type": "execute_result"
    }
   ],
   "source": [
    "filenames"
   ]
  },
  {
   "cell_type": "code",
   "execution_count": 44,
   "metadata": {
    "ExecuteTime": {
     "end_time": "2019-07-12T08:26:55.128368Z",
     "start_time": "2019-07-12T08:26:55.120437Z"
    }
   },
   "outputs": [],
   "source": [
    "base = '/g/data/rr5/CPOL_radar/CPOL_level_1b/GRIDDED/GRID_70km_1000m/'\n",
    "filenames = sorted(glob.glob(base + '2017/20170205/*_19??*.nc'))"
   ]
  },
  {
   "cell_type": "code",
   "execution_count": 67,
   "metadata": {
    "ExecuteTime": {
     "end_time": "2019-07-12T08:47:38.929032Z",
     "start_time": "2019-07-12T08:47:38.313394Z"
    }
   },
   "outputs": [],
   "source": [
    "grids = (pyart.io.read_grid(fn, include_fields = 'reflectivity')\n",
    "         for fn in filenames)\n",
    "grids = list(grids)"
   ]
  },
  {
   "cell_type": "code",
   "execution_count": 65,
   "metadata": {
    "ExecuteTime": {
     "end_time": "2019-07-12T08:47:13.740550Z",
     "start_time": "2019-07-12T08:47:13.727867Z"
    }
   },
   "outputs": [],
   "source": [
    "# test2 = pyart.io.read('/g/data/rr5/CPOL_radar/CPOL_level_2_1km/STEINER_ECHO_CLASSIFICATION/CPOL_STEINER_ECHO_CLASSIFICATION_20170205.nc')\n",
    "test = xr.open_dataset('/g/data/rr5/CPOL_radar/CPOL_level_2_1km/STEINER_ECHO_CLASSIFICATION/CPOL_STEINER_ECHO_CLASSIFICATION_20170205.nc')"
   ]
  },
  {
   "cell_type": "code",
   "execution_count": 117,
   "metadata": {
    "ExecuteTime": {
     "end_time": "2019-07-12T09:02:38.072944Z",
     "start_time": "2019-07-12T09:02:38.061395Z"
    }
   },
   "outputs": [
    {
     "data": {
      "text/plain": [
       "<xarray.DataArray 'time' ()>\n",
       "array('2017-02-05T20:50:00.000000000', dtype='datetime64[ns]')\n",
       "Coordinates:\n",
       "    time     datetime64[ns] 2017-02-05T20:50:00"
      ]
     },
     "execution_count": 117,
     "metadata": {},
     "output_type": "execute_result"
    }
   ],
   "source": [
    "test.time[125]"
   ]
  },
  {
   "cell_type": "code",
   "execution_count": 116,
   "metadata": {
    "ExecuteTime": {
     "end_time": "2019-07-12T09:02:12.646042Z",
     "start_time": "2019-07-12T09:02:12.345528Z"
    }
   },
   "outputs": [
    {
     "data": {
      "text/plain": [
       "<matplotlib.collections.QuadMesh at 0x7fe2bc449390>"
      ]
     },
     "execution_count": 116,
     "metadata": {},
     "output_type": "execute_result"
    },
    {
     "data": {
      "image/png": "[encoded data removed]",
      "text/plain": [
       "<Figure size 432x288 with 2 Axes>"
      ]
     },
     "metadata": {
      "needs_background": "light"
     },
     "output_type": "display_data"
    }
   ],
   "source": [
    "test.steiner_echo_classification[125,:,:].plot()"
   ]
  },
  {
   "cell_type": "code",
   "execution_count": null,
   "metadata": {
    "ExecuteTime": {
     "end_time": "2019-07-12T08:30:55.295357Z",
     "start_time": "2019-07-12T08:30:55.264267Z"
    }
   },
   "outputs": [],
   "source": [
    "# grid=grids[0]\n",
    "grid.fields"
   ]
  },
  {
   "cell_type": "code",
   "execution_count": 2,
   "metadata": {
    "ExecuteTime": {
     "end_time": "2019-07-12T06:12:27.302175Z",
     "start_time": "2019-07-12T06:12:26.801631Z"
    }
   },
   "outputs": [],
   "source": [
    "with open('/g/data/w40/esh563/CPOL_analysis/TINT_tracks/tracks_obj_20190711_19_00_12.pkl', 'rb') as f:\n",
    "    tracks_obj = pickle.load(f)"
   ]
  },
  {
   "cell_type": "code",
   "execution_count": 3,
   "metadata": {
    "ExecuteTime": {
     "end_time": "2019-07-12T06:12:27.313925Z",
     "start_time": "2019-07-12T06:12:27.304807Z"
    }
   },
   "outputs": [],
   "source": [
    "def file_names_from_object(tracks_obj, uid):\n",
    "    base = '/g/data/rr5/CPOL_radar/CPOL_level_1b/GRIDDED/GRID_70km_1000m/'\n",
    "    \n",
    "    datetimes = tracks_obj.system_tracks.xs(uid, level='uid')\n",
    "    datetimes = datetimes.reset_index(level='time')['time']\n",
    "    filenames = []\n",
    "    for i in range(len(datetimes)):\n",
    "        year = str(datetimes.iloc[i])[0:4]\n",
    "        month = str(datetimes.iloc[i])[5:7]\n",
    "        day = str(datetimes.iloc[i])[8:10]\n",
    "        hour = str(datetimes.iloc[i])[11:13]\n",
    "        minute = str(datetimes.iloc[i])[14:16]\n",
    "        filenames.append(base + '{0}/{0}{1}{2}/'.format(year, month, day) \n",
    "                         + 'CPOL_{0}{1}{2}'.format(year, month, day)\n",
    "                         + '_{}{}_GRIDS_1000m.nc'.format(hour, minute))\n",
    "    \n",
    "    return sorted(filenames), datetimes.iloc[0], datetimes.iloc[-1]"
   ]
  },
  {
   "cell_type": "code",
   "execution_count": 4,
   "metadata": {
    "ExecuteTime": {
     "end_time": "2019-07-12T06:12:57.635835Z",
     "start_time": "2019-07-12T06:12:27.316625Z"
    },
    "scrolled": true
   },
   "outputs": [
    {
     "name": "stdout",
     "output_type": "stream",
     "text": [
      "Animating from 2017-02-08 07:40:01 to 2017-02-08 10:30:01.\n",
      "Plotting scan at 2017-02-08T10:30:01.000.\n",
      "Creating GIF - may take a few minutes.\n"
     ]
    }
   ],
   "source": [
    "lon_min = 130.40\n",
    "lon_max = 131.69\n",
    "\n",
    "lat_max = -11.61\n",
    "lat_min = -12.87\n",
    "\n",
    "# base = '/g/data/rr5/CPOL_radar/CPOL_level_1b/GRIDDED/GRID_70km_1000m/'\n",
    "\n",
    "# # Note we only need grid generators for the grids that actually contain\n",
    "# # the system!\n",
    "# filenames = sorted(glob.glob(base + '2017/20171221/*_2[1-3]??_*.nc')\n",
    "#                    + glob.glob(base + '2017/20161222/*_00??_*.nc'))\n",
    "\n",
    "filenames, start_time, end_time = file_names_from_object(tracks_obj, '1362')\n",
    "\n",
    "# Generate grid generator \n",
    "# Note generators produce iterators\n",
    "# These are alternative to using lists and looping\n",
    "grids = (pyart.io.read_grid(fn, include_fields = 'reflectivity')\n",
    "         for fn in filenames)\n",
    "\n",
    "# Create directory for figures\n",
    "dt=str(datetime.datetime.now())[0:-7]\n",
    "dt=dt.replace(\" \", \"_\")\n",
    "dt=dt.replace(\":\", \"_\")\n",
    "dt=dt.replace(\"-\", \"\")    \n",
    "\n",
    "base_path = '/g/data/w40/esh563/CPOL_analysis/figures/TINT/'\n",
    "out_path = base_path + dt + '_tint_CPOL_anim'\n",
    "\n",
    "animate(tracks_obj, grids, out_path,\n",
    "        start_datetime = start_time,\n",
    "        end_datetime = end_time,\n",
    "        lat_lines=np.arange(lat_min, lat_max, .1),\n",
    "        lon_lines=np.arange(lon_min, lon_max, .1),\n",
    "        tracers=True, keep_frames=False, dpi=100)"
   ]
  },
  {
   "cell_type": "code",
   "execution_count": 27,
   "metadata": {
    "ExecuteTime": {
     "end_time": "2019-07-12T06:52:24.890375Z",
     "start_time": "2019-07-12T06:52:24.876120Z"
    }
   },
   "outputs": [],
   "source": [
    "# Let's filter by tilt direction and magnitude\n",
    "forward_tilt = ((-45 <= tracks_obj.system_tracks['sys_rel_tilt_dir'])\n",
    "                & (tracks_obj.system_tracks['sys_rel_tilt_dir'] <= 45))\n",
    "backward_tilt = ((-45 >= tracks_obj.system_tracks['sys_rel_tilt_dir'])\n",
    "                | (tracks_obj.system_tracks['sys_rel_tilt_dir'] >= 45))\n",
    "left_tilt = ((45 <= tracks_obj.system_tracks['sys_rel_tilt_dir'])\n",
    "                & (tracks_obj.system_tracks['sys_rel_tilt_dir'] <= 135))\n",
    "right_tilt = ((-135 <= tracks_obj.system_tracks['sys_rel_tilt_dir'])\n",
    "                & (tracks_obj.system_tracks['sys_rel_tilt_dir'] <= -45))\n",
    "sig_tilt_mag = (tracks_obj.system_tracks['tilt_mag'] >= 2)"
   ]
  },
  {
   "cell_type": "code",
   "execution_count": 36,
   "metadata": {
    "ExecuteTime": {
     "end_time": "2019-07-12T06:55:08.111936Z",
     "start_time": "2019-07-12T06:55:08.086523Z"
    }
   },
   "outputs": [
    {
     "data": {
      "text/plain": [
       "uid\n",
       "1256    10\n",
       "48       8\n",
       "1362     8\n",
       "543      7\n",
       "1233     7\n",
       "1005     6\n",
       "358      6\n",
       "516      5\n",
       "63       5\n",
       "1444     5\n",
       "dtype: int64"
      ]
     },
     "execution_count": 36,
     "metadata": {},
     "output_type": "execute_result"
    }
   ],
   "source": [
    "# Let's find the cells that were tracked for the most frames\n",
    "tracks_obj.system_tracks[forward_tilt & sig_tilt_mag].groupby(level='uid').size().sort_values(ascending=False)[:10]"
   ]
  },
  {
   "cell_type": "code",
   "execution_count": 37,
   "metadata": {
    "ExecuteTime": {
     "end_time": "2019-07-12T06:56:16.031109Z",
     "start_time": "2019-07-12T06:56:15.955012Z"
    }
   },
   "outputs": [
    {
     "data": {
      "text/html": [
       "<div>\n",
       "<style scoped>\n",
       "    .dataframe tbody tr th:only-of-type {\n",
       "        vertical-align: middle;\n",
       "    }\n",
       "\n",
       "    .dataframe tbody tr th {\n",
       "        vertical-align: top;\n",
       "    }\n",
       "\n",
       "    .dataframe thead th {\n",
       "        text-align: right;\n",
       "    }\n",
       "</style>\n",
       "<table border=\"1\" class=\"dataframe\">\n",
       "  <thead>\n",
       "    <tr style=\"text-align: right;\">\n",
       "      <th></th>\n",
       "      <th></th>\n",
       "      <th>grid_x</th>\n",
       "      <th>grid_y</th>\n",
       "      <th>lon</th>\n",
       "      <th>lat</th>\n",
       "      <th>u</th>\n",
       "      <th>v</th>\n",
       "      <th>n_cores</th>\n",
       "      <th>x_vert_disp</th>\n",
       "      <th>y_vert_disp</th>\n",
       "      <th>tilt_mag</th>\n",
       "      <th>vel_dir</th>\n",
       "      <th>tilt_dir</th>\n",
       "      <th>sys_rel_tilt_dir</th>\n",
       "    </tr>\n",
       "    <tr>\n",
       "      <th>scan</th>\n",
       "      <th>time</th>\n",
       "      <th></th>\n",
       "      <th></th>\n",
       "      <th></th>\n",
       "      <th></th>\n",
       "      <th></th>\n",
       "      <th></th>\n",
       "      <th></th>\n",
       "      <th></th>\n",
       "      <th></th>\n",
       "      <th></th>\n",
       "      <th></th>\n",
       "      <th></th>\n",
       "      <th></th>\n",
       "    </tr>\n",
       "  </thead>\n",
       "  <tbody>\n",
       "    <tr>\n",
       "      <th>9239</th>\n",
       "      <th>2017-02-05 19:10:01</th>\n",
       "      <td>6.054</td>\n",
       "      <td>56.853</td>\n",
       "      <td>130.4552</td>\n",
       "      <td>-12.3652</td>\n",
       "      <td>NaN</td>\n",
       "      <td>NaN</td>\n",
       "      <td>1</td>\n",
       "      <td>0.006</td>\n",
       "      <td>-0.664</td>\n",
       "      <td>0.664027</td>\n",
       "      <td>NaN</td>\n",
       "      <td>-89.482281</td>\n",
       "      <td>NaN</td>\n",
       "    </tr>\n",
       "    <tr>\n",
       "      <th>9240</th>\n",
       "      <th>2017-02-05 19:20:02</th>\n",
       "      <td>8.883</td>\n",
       "      <td>53.128</td>\n",
       "      <td>130.4828</td>\n",
       "      <td>-12.4012</td>\n",
       "      <td>4.715000</td>\n",
       "      <td>-6.208333</td>\n",
       "      <td>1</td>\n",
       "      <td>2.546</td>\n",
       "      <td>-0.705</td>\n",
       "      <td>2.641806</td>\n",
       "      <td>-52.784671</td>\n",
       "      <td>-15.477673</td>\n",
       "      <td>37.306997</td>\n",
       "    </tr>\n",
       "    <tr>\n",
       "      <th>9241</th>\n",
       "      <th>2017-02-05 19:30:02</th>\n",
       "      <td>7.622</td>\n",
       "      <td>53.317</td>\n",
       "      <td>130.4735</td>\n",
       "      <td>-12.4012</td>\n",
       "      <td>-2.101667</td>\n",
       "      <td>0.315000</td>\n",
       "      <td>1</td>\n",
       "      <td>1.420</td>\n",
       "      <td>-1.936</td>\n",
       "      <td>2.400936</td>\n",
       "      <td>171.475900</td>\n",
       "      <td>-53.741031</td>\n",
       "      <td>134.783069</td>\n",
       "    </tr>\n",
       "    <tr>\n",
       "      <th>9242</th>\n",
       "      <th>2017-02-05 19:40:02</th>\n",
       "      <td>9.152</td>\n",
       "      <td>51.396</td>\n",
       "      <td>130.4827</td>\n",
       "      <td>-12.4192</td>\n",
       "      <td>2.550000</td>\n",
       "      <td>-3.201667</td>\n",
       "      <td>1</td>\n",
       "      <td>3.316</td>\n",
       "      <td>-2.835</td>\n",
       "      <td>4.362692</td>\n",
       "      <td>-51.464074</td>\n",
       "      <td>-40.528646</td>\n",
       "      <td>10.935429</td>\n",
       "    </tr>\n",
       "    <tr>\n",
       "      <th>9243</th>\n",
       "      <th>2017-02-05 19:50:02</th>\n",
       "      <td>14.089</td>\n",
       "      <td>51.197</td>\n",
       "      <td>130.5288</td>\n",
       "      <td>-12.4193</td>\n",
       "      <td>8.228333</td>\n",
       "      <td>-0.331667</td>\n",
       "      <td>3</td>\n",
       "      <td>3.409</td>\n",
       "      <td>-6.360</td>\n",
       "      <td>7.216016</td>\n",
       "      <td>-2.308222</td>\n",
       "      <td>-61.808412</td>\n",
       "      <td>-59.500190</td>\n",
       "    </tr>\n",
       "    <tr>\n",
       "      <th>9244</th>\n",
       "      <th>2017-02-05 20:00:06</th>\n",
       "      <td>19.855</td>\n",
       "      <td>49.964</td>\n",
       "      <td>130.5840</td>\n",
       "      <td>-12.4284</td>\n",
       "      <td>9.610000</td>\n",
       "      <td>-2.055000</td>\n",
       "      <td>2</td>\n",
       "      <td>3.103</td>\n",
       "      <td>-5.048</td>\n",
       "      <td>5.925446</td>\n",
       "      <td>-12.070325</td>\n",
       "      <td>-58.421004</td>\n",
       "      <td>-46.350679</td>\n",
       "    </tr>\n",
       "    <tr>\n",
       "      <th>9245</th>\n",
       "      <th>2017-02-05 20:10:02</th>\n",
       "      <td>24.451</td>\n",
       "      <td>50.434</td>\n",
       "      <td>130.6208</td>\n",
       "      <td>-12.4284</td>\n",
       "      <td>7.660000</td>\n",
       "      <td>0.783333</td>\n",
       "      <td>1</td>\n",
       "      <td>1.285</td>\n",
       "      <td>-3.647</td>\n",
       "      <td>3.866760</td>\n",
       "      <td>5.838932</td>\n",
       "      <td>-70.590377</td>\n",
       "      <td>-76.429308</td>\n",
       "    </tr>\n",
       "    <tr>\n",
       "      <th>9246</th>\n",
       "      <th>2017-02-05 20:20:02</th>\n",
       "      <td>29.101</td>\n",
       "      <td>49.210</td>\n",
       "      <td>130.6669</td>\n",
       "      <td>-12.4375</td>\n",
       "      <td>7.750000</td>\n",
       "      <td>-2.040000</td>\n",
       "      <td>1</td>\n",
       "      <td>4.312</td>\n",
       "      <td>-1.135</td>\n",
       "      <td>4.458875</td>\n",
       "      <td>-14.747202</td>\n",
       "      <td>-14.746833</td>\n",
       "      <td>0.000369</td>\n",
       "    </tr>\n",
       "    <tr>\n",
       "      <th>9247</th>\n",
       "      <th>2017-02-05 20:30:02</th>\n",
       "      <td>34.198</td>\n",
       "      <td>48.159</td>\n",
       "      <td>130.7129</td>\n",
       "      <td>-12.4465</td>\n",
       "      <td>8.495000</td>\n",
       "      <td>-1.751667</td>\n",
       "      <td>1</td>\n",
       "      <td>3.682</td>\n",
       "      <td>-1.626</td>\n",
       "      <td>4.025047</td>\n",
       "      <td>-11.651078</td>\n",
       "      <td>-23.826628</td>\n",
       "      <td>-12.175551</td>\n",
       "    </tr>\n",
       "    <tr>\n",
       "      <th>9248</th>\n",
       "      <th>2017-02-05 20:40:02</th>\n",
       "      <td>39.132</td>\n",
       "      <td>47.236</td>\n",
       "      <td>130.7589</td>\n",
       "      <td>-12.4556</td>\n",
       "      <td>8.223333</td>\n",
       "      <td>-1.538333</td>\n",
       "      <td>1</td>\n",
       "      <td>4.172</td>\n",
       "      <td>-2.871</td>\n",
       "      <td>5.064408</td>\n",
       "      <td>-10.595815</td>\n",
       "      <td>-34.534161</td>\n",
       "      <td>-23.938345</td>\n",
       "    </tr>\n",
       "    <tr>\n",
       "      <th>9249</th>\n",
       "      <th>2017-02-05 20:50:02</th>\n",
       "      <td>43.955</td>\n",
       "      <td>46.557</td>\n",
       "      <td>130.8050</td>\n",
       "      <td>-12.4556</td>\n",
       "      <td>8.038333</td>\n",
       "      <td>-1.131667</td>\n",
       "      <td>1</td>\n",
       "      <td>3.280</td>\n",
       "      <td>-3.160</td>\n",
       "      <td>4.554558</td>\n",
       "      <td>-8.013648</td>\n",
       "      <td>-43.932500</td>\n",
       "      <td>-35.918853</td>\n",
       "    </tr>\n",
       "    <tr>\n",
       "      <th>9250</th>\n",
       "      <th>2017-02-05 21:00:07</th>\n",
       "      <td>48.827</td>\n",
       "      <td>44.693</td>\n",
       "      <td>130.8510</td>\n",
       "      <td>-12.4737</td>\n",
       "      <td>8.120000</td>\n",
       "      <td>-3.106667</td>\n",
       "      <td>1</td>\n",
       "      <td>6.696</td>\n",
       "      <td>-4.746</td>\n",
       "      <td>8.207371</td>\n",
       "      <td>-20.936572</td>\n",
       "      <td>-35.328303</td>\n",
       "      <td>-14.391732</td>\n",
       "    </tr>\n",
       "    <tr>\n",
       "      <th>9251</th>\n",
       "      <th>2017-02-05 21:10:01</th>\n",
       "      <td>53.788</td>\n",
       "      <td>42.009</td>\n",
       "      <td>130.8971</td>\n",
       "      <td>-12.5007</td>\n",
       "      <td>8.268333</td>\n",
       "      <td>-4.473333</td>\n",
       "      <td>1</td>\n",
       "      <td>2.508</td>\n",
       "      <td>-3.806</td>\n",
       "      <td>4.558037</td>\n",
       "      <td>-28.414273</td>\n",
       "      <td>-56.616734</td>\n",
       "      <td>-28.202462</td>\n",
       "    </tr>\n",
       "    <tr>\n",
       "      <th>9252</th>\n",
       "      <th>2017-02-05 21:20:01</th>\n",
       "      <td>59.000</td>\n",
       "      <td>40.208</td>\n",
       "      <td>130.9431</td>\n",
       "      <td>-12.5187</td>\n",
       "      <td>8.686667</td>\n",
       "      <td>-3.001667</td>\n",
       "      <td>1</td>\n",
       "      <td>2.811</td>\n",
       "      <td>-2.655</td>\n",
       "      <td>3.866619</td>\n",
       "      <td>-19.062526</td>\n",
       "      <td>-43.365218</td>\n",
       "      <td>-24.302693</td>\n",
       "    </tr>\n",
       "    <tr>\n",
       "      <th>9253</th>\n",
       "      <th>2017-02-05 21:30:01</th>\n",
       "      <td>64.224</td>\n",
       "      <td>37.800</td>\n",
       "      <td>130.9892</td>\n",
       "      <td>-12.5367</td>\n",
       "      <td>8.706667</td>\n",
       "      <td>-4.013333</td>\n",
       "      <td>1</td>\n",
       "      <td>3.260</td>\n",
       "      <td>-0.688</td>\n",
       "      <td>3.331808</td>\n",
       "      <td>-24.747314</td>\n",
       "      <td>-11.916999</td>\n",
       "      <td>12.830314</td>\n",
       "    </tr>\n",
       "  </tbody>\n",
       "</table>\n",
       "</div>"
      ],
      "text/plain": [
       "                          grid_x  grid_y       lon      lat         u  \\\n",
       "scan time                                                               \n",
       "9239 2017-02-05 19:10:01   6.054  56.853  130.4552 -12.3652       NaN   \n",
       "9240 2017-02-05 19:20:02   8.883  53.128  130.4828 -12.4012  4.715000   \n",
       "9241 2017-02-05 19:30:02   7.622  53.317  130.4735 -12.4012 -2.101667   \n",
       "9242 2017-02-05 19:40:02   9.152  51.396  130.4827 -12.4192  2.550000   \n",
       "9243 2017-02-05 19:50:02  14.089  51.197  130.5288 -12.4193  8.228333   \n",
       "9244 2017-02-05 20:00:06  19.855  49.964  130.5840 -12.4284  9.610000   \n",
       "9245 2017-02-05 20:10:02  24.451  50.434  130.6208 -12.4284  7.660000   \n",
       "9246 2017-02-05 20:20:02  29.101  49.210  130.6669 -12.4375  7.750000   \n",
       "9247 2017-02-05 20:30:02  34.198  48.159  130.7129 -12.4465  8.495000   \n",
       "9248 2017-02-05 20:40:02  39.132  47.236  130.7589 -12.4556  8.223333   \n",
       "9249 2017-02-05 20:50:02  43.955  46.557  130.8050 -12.4556  8.038333   \n",
       "9250 2017-02-05 21:00:07  48.827  44.693  130.8510 -12.4737  8.120000   \n",
       "9251 2017-02-05 21:10:01  53.788  42.009  130.8971 -12.5007  8.268333   \n",
       "9252 2017-02-05 21:20:01  59.000  40.208  130.9431 -12.5187  8.686667   \n",
       "9253 2017-02-05 21:30:01  64.224  37.800  130.9892 -12.5367  8.706667   \n",
       "\n",
       "                                 v  n_cores  x_vert_disp  y_vert_disp  \\\n",
       "scan time                                                               \n",
       "9239 2017-02-05 19:10:01       NaN        1        0.006       -0.664   \n",
       "9240 2017-02-05 19:20:02 -6.208333        1        2.546       -0.705   \n",
       "9241 2017-02-05 19:30:02  0.315000        1        1.420       -1.936   \n",
       "9242 2017-02-05 19:40:02 -3.201667        1        3.316       -2.835   \n",
       "9243 2017-02-05 19:50:02 -0.331667        3        3.409       -6.360   \n",
       "9244 2017-02-05 20:00:06 -2.055000        2        3.103       -5.048   \n",
       "9245 2017-02-05 20:10:02  0.783333        1        1.285       -3.647   \n",
       "9246 2017-02-05 20:20:02 -2.040000        1        4.312       -1.135   \n",
       "9247 2017-02-05 20:30:02 -1.751667        1        3.682       -1.626   \n",
       "9248 2017-02-05 20:40:02 -1.538333        1        4.172       -2.871   \n",
       "9249 2017-02-05 20:50:02 -1.131667        1        3.280       -3.160   \n",
       "9250 2017-02-05 21:00:07 -3.106667        1        6.696       -4.746   \n",
       "9251 2017-02-05 21:10:01 -4.473333        1        2.508       -3.806   \n",
       "9252 2017-02-05 21:20:01 -3.001667        1        2.811       -2.655   \n",
       "9253 2017-02-05 21:30:01 -4.013333        1        3.260       -0.688   \n",
       "\n",
       "                          tilt_mag     vel_dir   tilt_dir  sys_rel_tilt_dir  \n",
       "scan time                                                                    \n",
       "9239 2017-02-05 19:10:01  0.664027         NaN -89.482281               NaN  \n",
       "9240 2017-02-05 19:20:02  2.641806  -52.784671 -15.477673         37.306997  \n",
       "9241 2017-02-05 19:30:02  2.400936  171.475900 -53.741031        134.783069  \n",
       "9242 2017-02-05 19:40:02  4.362692  -51.464074 -40.528646         10.935429  \n",
       "9243 2017-02-05 19:50:02  7.216016   -2.308222 -61.808412        -59.500190  \n",
       "9244 2017-02-05 20:00:06  5.925446  -12.070325 -58.421004        -46.350679  \n",
       "9245 2017-02-05 20:10:02  3.866760    5.838932 -70.590377        -76.429308  \n",
       "9246 2017-02-05 20:20:02  4.458875  -14.747202 -14.746833          0.000369  \n",
       "9247 2017-02-05 20:30:02  4.025047  -11.651078 -23.826628        -12.175551  \n",
       "9248 2017-02-05 20:40:02  5.064408  -10.595815 -34.534161        -23.938345  \n",
       "9249 2017-02-05 20:50:02  4.554558   -8.013648 -43.932500        -35.918853  \n",
       "9250 2017-02-05 21:00:07  8.207371  -20.936572 -35.328303        -14.391732  \n",
       "9251 2017-02-05 21:10:01  4.558037  -28.414273 -56.616734        -28.202462  \n",
       "9252 2017-02-05 21:20:01  3.866619  -19.062526 -43.365218        -24.302693  \n",
       "9253 2017-02-05 21:30:01  3.331808  -24.747314 -11.916999         12.830314  "
      ]
     },
     "execution_count": 37,
     "metadata": {},
     "output_type": "execute_result"
    }
   ],
   "source": [
    "tracks_obj.system_tracks.xs('1256', level='uid')"
   ]
  },
  {
   "cell_type": "code",
   "execution_count": 38,
   "metadata": {
    "ExecuteTime": {
     "end_time": "2019-07-12T06:58:52.273308Z",
     "start_time": "2019-07-12T06:58:24.097897Z"
    }
   },
   "outputs": [
    {
     "name": "stdout",
     "output_type": "stream",
     "text": [
      "Animating 15 frames\n",
      "Plotting frame at 2017-02-05 21:30:01.000\n",
      "Creating GIF - may take a few minutes.\n"
     ]
    }
   ],
   "source": [
    "uid = '1256'\n",
    "\n",
    "filenames, start_time, end_time = file_names_from_object(tracks_obj, uid)\n",
    "\n",
    "grids = (pyart.io.read_grid(fn) for fn in filenames)  # refresh grid generator\n",
    "\n",
    "# Create directory for figures\n",
    "dt=str(datetime.datetime.now())[0:-7]\n",
    "dt=dt.replace(\" \", \"_\")\n",
    "dt=dt.replace(\":\", \"_\")\n",
    "dt=dt.replace(\"-\", \"\")\n",
    "\n",
    "base_path = '/g/data/w40/esh563/CPOL_analysis/figures/TINT/'\n",
    "out_path = base_path + dt + '_tint_CPOL_lagrangian'\n",
    "animate(tracks_obj, grids, out_path, style='lagrangian', uid=uid, alt=6000,\n",
    "        keep_frames=False, dpi=100)"
   ]
  },
  {
   "cell_type": "code",
   "execution_count": null,
   "metadata": {},
   "outputs": [],
   "source": []
  }
 ],
 "metadata": {
  "kernelspec": {
   "display_name": "Python [conda env:analysis3-19.04]",
   "language": "python",
   "name": "conda-env-analysis3-19.04-py"
  },
  "language_info": {
   "codemirror_mode": {
    "name": "ipython",
    "version": 3
   },
   "file_extension": ".py",
   "mimetype": "text/x-python",
   "name": "python",
   "nbconvert_exporter": "python",
   "pygments_lexer": "ipython3",
   "version": "3.6.7"
  },
  "toc": {
   "base_numbering": 1,
   "nav_menu": {},
   "number_sections": true,
   "sideBar": true,
   "skip_h1_title": false,
   "title_cell": "Table of Contents",
   "title_sidebar": "Contents",
   "toc_cell": false,
   "toc_position": {},
   "toc_section_display": true,
   "toc_window_display": false
  }
 },
 "nbformat": 4,
 "nbformat_minor": 2
}
