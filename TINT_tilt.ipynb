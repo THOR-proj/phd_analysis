{
 "cells": [
  {
   "cell_type": "code",
   "execution_count": 8,
   "metadata": {
    "ExecuteTime": {
     "end_time": "2019-08-02T05:56:39.806751Z",
     "start_time": "2019-08-02T05:56:39.783952Z"
    },
    "scrolled": false
   },
   "outputs": [
    {
     "name": "stdout",
     "output_type": "stream",
     "text": [
      "The line_profiler extension is already loaded. To reload it, use:\n",
      "  %reload_ext line_profiler\n"
     ]
    }
   ],
   "source": [
    "# Core \n",
    "import datetime\n",
    "import os\n",
    "import glob\n",
    "import tempfile\n",
    "import shutil\n",
    "import sys\n",
    "import pickle\n",
    "import warnings\n",
    "import copy\n",
    "\n",
    "# Analysis \n",
    "import xarray as xr\n",
    "import numpy as np\n",
    "import pandas as pd\n",
    "import scipy as sp\n",
    "import networkx \n",
    "from networkx.algorithms.components.connected import connected_components\n",
    "\n",
    "# Plotting\n",
    "import matplotlib.pyplot as plt\n",
    "\n",
    "# Debugging \n",
    "import pdb, traceback\n",
    "%load_ext line_profiler\n",
    "\n",
    "# Radar Tools\n",
    "import pyart\n",
    "import tint\n",
    "from tint import animate"
   ]
  },
  {
   "cell_type": "code",
   "execution_count": 9,
   "metadata": {
    "ExecuteTime": {
     "end_time": "2019-08-02T05:56:44.937294Z",
     "start_time": "2019-08-02T05:56:44.901757Z"
    }
   },
   "outputs": [],
   "source": [
    "def CPOL_files_from_datetime_list(datetimes):\n",
    "    print('Gathering files.')\n",
    "    base = '/g/data/rr5/CPOL_radar/CPOL_level_1b/GRIDDED/GRID_150km_2500m/'\n",
    "    filenames = []\n",
    "    for i in range(len(datetimes)):\n",
    "        year = str(datetimes[i])[0:4]\n",
    "        month = str(datetimes[i])[5:7]\n",
    "        day = str(datetimes[i])[8:10]\n",
    "        hour = str(datetimes[i])[11:13]\n",
    "        minute = str(datetimes[i])[14:16]\n",
    "        filename = (base + '{0}/{0}{1}{2}/'.format(year, month, day) \n",
    "                    + 'CPOL_{0}{1}{2}'.format(year, month, day)\n",
    "                    + '_{}{}_GRIDS_2500m.nc'.format(hour, minute))\n",
    "        if os.path.isfile(filename):\n",
    "            filenames.append(filename)\n",
    "    \n",
    "    return sorted(filenames), datetimes[0], datetimes[-1]\n",
    "    \n",
    "def CPOL_files_from_TINT_obj(tracks_obj, uid):\n",
    "    datetimes = tracks_obj.system_tracks.xs(uid, level='uid')\n",
    "    datetimes = datetimes.reset_index(level='time')['time']\n",
    "    datetimes = list(datetimes.values)\n",
    "    [files, start_date, end_date] = CPOL_files_from_datetime_list(datetimes)\n",
    "    \n",
    "    return files, start_date, end_date\n",
    "\n",
    "def get_square_boundary(grid):\n",
    "    b_ind = set()\n",
    "    columns = grid.nx\n",
    "    rows = grid.ny\n",
    "    for edge in [[0, columns], [rows-1, columns],\n",
    "                 [rows, 0], [rows, columns-1]]:\n",
    "        b = np.array([[edge[0]]*edge[1], list(range(edge[1]))])\n",
    "        b = b.transpose().tolist()\n",
    "        b = set([tuple(b[i]) for i in range(edge[1])])\n",
    "        b_ind = b_ind.union(b)\n",
    "    return b_ind\n",
    "\n",
    "def get_circular_boundary(grid):\n",
    "    radius = grid.x['data'][-1]\n",
    "    # Assume a regular grid\n",
    "    dx = grid.x['data'][1] - grid.x['data'][0]\n",
    "    offset = np.sqrt(2*dx**2)\n",
    "    X, Y = np.meshgrid(grid.x['data'], grid.y['data'], indexing='ij')\n",
    "    radii = np.sqrt(X**2+Y**2)\n",
    "    \n",
    "    b_ind = np.argwhere(np.logical_and(radii >= radius, \n",
    "                                       radii < radius + dx))\n",
    "    b_ind_set = set([tuple(b_ind[i]) for i in range(b_ind.shape[0])])\n",
    "        \n",
    "    plt.pcolor(np.logical_and(radii >= radius-offset/2, \n",
    "                              radii < radius+offset/2))\n",
    "    return b_ind_set"
   ]
  },
  {
   "cell_type": "code",
   "execution_count": 3,
   "metadata": {
    "ExecuteTime": {
     "end_time": "2019-08-02T03:24:31.563367Z",
     "start_time": "2019-08-02T03:24:26.186334Z"
    },
    "scrolled": true
   },
   "outputs": [
    {
     "name": "stdout",
     "output_type": "stream",
     "text": [
      "Gathering files.\n"
     ]
    },
    {
     "ename": "KeyboardInterrupt",
     "evalue": "",
     "output_type": "error",
     "traceback": [
      "\u001b[0;31m---------------------------------------------------------------------------\u001b[0m",
      "\u001b[0;31mKeyboardInterrupt\u001b[0m                         Traceback (most recent call last)",
      "\u001b[0;32m<ipython-input-3-7504ddbe423f>\u001b[0m in \u001b[0;36m<module>\u001b[0;34m\u001b[0m\n\u001b[1;32m      1\u001b[0m [filenames, start_time, end_time] = CPOL_files_from_datetime_list(np.arange(np.datetime64('2004-11-01 00:00'), \n\u001b[1;32m      2\u001b[0m                                                                   \u001b[0mnp\u001b[0m\u001b[0;34m.\u001b[0m\u001b[0mdatetime64\u001b[0m\u001b[0;34m(\u001b[0m\u001b[0;34m'2005-04-01 00:00'\u001b[0m\u001b[0;34m)\u001b[0m\u001b[0;34m,\u001b[0m\u001b[0;34m\u001b[0m\u001b[0;34m\u001b[0m\u001b[0m\n\u001b[0;32m----> 3\u001b[0;31m                                                                   np.timedelta64(10, 'm')))\n\u001b[0m\u001b[1;32m      4\u001b[0m \u001b[0;31m# Generate grid generator\u001b[0m\u001b[0;34m\u001b[0m\u001b[0;34m\u001b[0m\u001b[0;34m\u001b[0m\u001b[0m\n\u001b[1;32m      5\u001b[0m \u001b[0;31m# Note generators produce iterators\u001b[0m\u001b[0;34m\u001b[0m\u001b[0;34m\u001b[0m\u001b[0;34m\u001b[0m\u001b[0m\n",
      "\u001b[0;32m<ipython-input-2-73398c3ceacd>\u001b[0m in \u001b[0;36mCPOL_files_from_datetime_list\u001b[0;34m(datetimes)\u001b[0m\n\u001b[1;32m      8\u001b[0m         \u001b[0mday\u001b[0m \u001b[0;34m=\u001b[0m \u001b[0mstr\u001b[0m\u001b[0;34m(\u001b[0m\u001b[0mdatetimes\u001b[0m\u001b[0;34m[\u001b[0m\u001b[0mi\u001b[0m\u001b[0;34m]\u001b[0m\u001b[0;34m)\u001b[0m\u001b[0;34m[\u001b[0m\u001b[0;36m8\u001b[0m\u001b[0;34m:\u001b[0m\u001b[0;36m10\u001b[0m\u001b[0;34m]\u001b[0m\u001b[0;34m\u001b[0m\u001b[0;34m\u001b[0m\u001b[0m\n\u001b[1;32m      9\u001b[0m         \u001b[0mhour\u001b[0m \u001b[0;34m=\u001b[0m \u001b[0mstr\u001b[0m\u001b[0;34m(\u001b[0m\u001b[0mdatetimes\u001b[0m\u001b[0;34m[\u001b[0m\u001b[0mi\u001b[0m\u001b[0;34m]\u001b[0m\u001b[0;34m)\u001b[0m\u001b[0;34m[\u001b[0m\u001b[0;36m11\u001b[0m\u001b[0;34m:\u001b[0m\u001b[0;36m13\u001b[0m\u001b[0;34m]\u001b[0m\u001b[0;34m\u001b[0m\u001b[0;34m\u001b[0m\u001b[0m\n\u001b[0;32m---> 10\u001b[0;31m         \u001b[0mminute\u001b[0m \u001b[0;34m=\u001b[0m \u001b[0mstr\u001b[0m\u001b[0;34m(\u001b[0m\u001b[0mdatetimes\u001b[0m\u001b[0;34m[\u001b[0m\u001b[0mi\u001b[0m\u001b[0;34m]\u001b[0m\u001b[0;34m)\u001b[0m\u001b[0;34m[\u001b[0m\u001b[0;36m14\u001b[0m\u001b[0;34m:\u001b[0m\u001b[0;36m16\u001b[0m\u001b[0;34m]\u001b[0m\u001b[0;34m\u001b[0m\u001b[0;34m\u001b[0m\u001b[0m\n\u001b[0m\u001b[1;32m     11\u001b[0m         filename = (base + '{0}/{0}{1}{2}/'.format(year, month, day) \n\u001b[1;32m     12\u001b[0m                     \u001b[0;34m+\u001b[0m \u001b[0;34m'CPOL_{0}{1}{2}'\u001b[0m\u001b[0;34m.\u001b[0m\u001b[0mformat\u001b[0m\u001b[0;34m(\u001b[0m\u001b[0myear\u001b[0m\u001b[0;34m,\u001b[0m \u001b[0mmonth\u001b[0m\u001b[0;34m,\u001b[0m \u001b[0mday\u001b[0m\u001b[0;34m)\u001b[0m\u001b[0;34m\u001b[0m\u001b[0;34m\u001b[0m\u001b[0m\n",
      "\u001b[0;31mKeyboardInterrupt\u001b[0m: "
     ]
    }
   ],
   "source": [
    "[filenames, start_time, end_time] = CPOL_files_from_datetime_list(np.arange(np.datetime64('2004-11-01 00:00'), \n",
    "                                                                  np.datetime64('2005-04-01 00:00'), \n",
    "                                                                  np.timedelta64(10, 'm')))\n",
    "# Generate grid generator \n",
    "# Note generators produce iterators\n",
    "# These are alternative to using lists and looping\n",
    "grids = (pyart.io.read_grid(fn, include_fields = 'reflectivity')\n",
    "         for fn in filenames)\n",
    "\n",
    "with open('/g/data/w40/esh563/CPOL_analysis/TINT_tracks/circ_b_ind_set.pkl', 'rb') as f:\n",
    "    b_ind_set = pickle.load(f)\n",
    "\n",
    "# Define settings for tracking\n",
    "settings = {\n",
    "    'MIN_SIZE' : [2, 2, 500, 500],\n",
    "    'FIELD_THRESH' : [40, 30, 20, 15],\n",
    "    'ISO_THRESH' : [5, 5, 5, 5],\n",
    "    'GS_ALT' : 1500,\n",
    "    'SEARCH_MARGIN' : 10000,\n",
    "    'FLOW_MARGIN' : 40000,\n",
    "    'LEVELS' : np.array(\n",
    "        [[0, 2500], \n",
    "         [2500, 5000],\n",
    "         [5000, 7500],\n",
    "         [7500, 10000]]\n",
    "    ),\n",
    "    'TRACK_INTERVAL' : 0,\n",
    "    'BOUNDARY_GRID_CELLS' : b_ind_set\n",
    "}\n",
    "\n",
    "# Calculate high and low level tracks\n",
    "tracks_obj  = tint.Cell_tracks()\n",
    "\n",
    "for parameter in ['MIN_SIZE', 'FIELD_THRESH', 'GS_ALT', 'LEVELS', \n",
    "                  'TRACK_INTERVAL', 'ISO_THRESH', 'SEARCH_MARGIN',\n",
    "                  'FLOW_MARGIN', 'BOUNDARY_GRID_CELLS'\n",
    "                 ]:\n",
    "    tracks_obj.params[parameter] = settings[parameter]\n",
    "\n",
    "# Calculate tracks\n",
    "tracks_obj.get_tracks(grids)\n",
    "\n",
    "# Create directory for figures\n",
    "dt=str(datetime.datetime.now())[0:-7]\n",
    "dt=dt.replace(\" \", \"_\")\n",
    "dt=dt.replace(\":\", \"_\")\n",
    "dt=dt.replace(\"-\", \"\")\n",
    "\n",
    "out_file_name = ('/g/data/w40/esh563/CPOL_analysis/TINT_tracks/'\n",
    "                 + 'tracks_obj_0405.pkl'.format(dt))\n",
    "\n",
    "with open(out_file_name, 'wb') as f:\n",
    "    pickle.dump(tracks_obj, f)\n",
    "        \n",
    "# if __name__ == '__main__':\n",
    "#     try:\n",
    "#         test()\n",
    "#     except:\n",
    "#         extype, value, tb = sys.exc_info()\n",
    "#         traceback.print_exc()\n",
    "#         pdb.post_mortem(tb)"
   ]
  },
  {
   "cell_type": "code",
   "execution_count": 10,
   "metadata": {
    "ExecuteTime": {
     "end_time": "2019-08-02T06:10:10.255515Z",
     "start_time": "2019-08-02T06:10:08.896643Z"
    }
   },
   "outputs": [],
   "source": [
    "with open('/g/data/w40/esh563/CPOL_analysis/TINT_tracks/tracks_obj_0405.pkl', 'rb') as f:\n",
    "    tracks_obj_0405 = pickle.load(f)"
   ]
  },
  {
   "cell_type": "code",
   "execution_count": 11,
   "metadata": {
    "ExecuteTime": {
     "end_time": "2019-08-02T06:10:12.124901Z",
     "start_time": "2019-08-02T06:10:10.258800Z"
    }
   },
   "outputs": [],
   "source": [
    "with open('/g/data/w40/esh563/CPOL_analysis/TINT_tracks/tracks_obj_0506.pkl', 'rb') as f:\n",
    "    tracks_obj_0506 = pickle.load(f)"
   ]
  },
  {
   "cell_type": "code",
   "execution_count": 12,
   "metadata": {
    "ExecuteTime": {
     "end_time": "2019-08-02T06:10:13.401587Z",
     "start_time": "2019-08-02T06:10:12.128302Z"
    }
   },
   "outputs": [],
   "source": [
    "with open('/g/data/w40/esh563/CPOL_analysis/TINT_tracks/tracks_obj_0607.pkl', 'rb') as f:\n",
    "    tracks_obj_0607 = pickle.load(f)"
   ]
  },
  {
   "cell_type": "code",
   "execution_count": 13,
   "metadata": {
    "ExecuteTime": {
     "end_time": "2019-08-02T06:10:16.227966Z",
     "start_time": "2019-08-02T06:10:13.405316Z"
    }
   },
   "outputs": [],
   "source": [
    "t_objs = [tracks_obj_0405, tracks_obj_0506, tracks_obj_0607]\n",
    "tracks_obj = copy.deepcopy(t_objs[0])\n",
    "\n",
    "max_uids = 0\n",
    "max_scans = 0\n",
    "\n",
    "# Concatenate tracks\n",
    "for t_obj in t_objs:\n",
    "    uids = [int(t_obj.tracks.index.values[i][3])\n",
    "                for i in range(len(t_obj.tracks))]\n",
    "    scans = [int(t_obj.tracks.index.values[i][0])\n",
    "                 for i in range(len(t_obj.tracks))]\n",
    "    \n",
    "    new_uids = [str(int(t_obj.tracks.index.levels[3][i])\n",
    "                    + max_uids) for i in \n",
    "                range(len(t_obj.tracks.index.levels[3]))]\n",
    "    new_scans = [t_obj.tracks.index.levels[0][i] + max_scans \n",
    "                 for i in range(len(t_obj.tracks.index.levels[0]))]\n",
    "    \n",
    "    t_obj.tracks.index = t_obj.tracks.index.set_levels(\n",
    "        new_uids, level=3\n",
    "    )\n",
    "    t_obj.tracks.index = t_obj.tracks.index.set_levels(\n",
    "        new_scans, level=0\n",
    "    )\n",
    "    \n",
    "    max_uids += max(uids)\n",
    "    max_scans += max(scans)\n",
    "     \n",
    "max_uids = 0\n",
    "max_scans = 0\n",
    "\n",
    "# Concatenate system tracks\n",
    "for t_obj in t_objs:\n",
    "    uids = [int(t_obj.system_tracks.index.values[i][2]) \n",
    "                for i in range(len(t_obj.system_tracks))]\n",
    "    scans = [int(t_obj.system_tracks.index.values[i][0]) \n",
    "                 for i in range(len(t_obj.system_tracks))]\n",
    "    \n",
    "    new_uids = [str(int(t_obj.system_tracks.index.levels[2][i]) \n",
    "                    + max_uids) for i in \n",
    "                range(len(t_obj.system_tracks.index.levels[2]))]\n",
    "    new_scans = [t_obj.system_tracks.index.levels[0][i] + max_scans \n",
    "                 for i in range(len(t_obj.system_tracks.index.levels[0]))]\n",
    "    \n",
    "    t_obj.system_tracks.index = t_obj.system_tracks.index.set_levels(\n",
    "        new_uids, level=2\n",
    "    )\n",
    "    t_obj.system_tracks.index = t_obj.system_tracks.index.set_levels(\n",
    "        new_scans, level=0\n",
    "    )\n",
    "    \n",
    "    max_uids += max(uids)\n",
    "    max_scans += max(scans)\n",
    "    \n",
    "s_tracks = [t_obj.system_tracks for t_obj in t_objs]\n",
    "tracks = [t_obj.tracks for t_obj in t_objs]\n",
    "\n",
    "tracks_obj.system_tracks = pd.concat(s_tracks)\n",
    "tracks_obj.tracks = pd.concat(tracks)"
   ]
  },
  {
   "cell_type": "code",
   "execution_count": 3,
   "metadata": {
    "ExecuteTime": {
     "end_time": "2019-08-02T03:34:14.776207Z",
     "start_time": "2019-08-02T03:34:13.360705Z"
    }
   },
   "outputs": [],
   "source": [
    "with open('/g/data/w40/esh563/CPOL_analysis/TINT_tracks/tracks_obj_0407.pkl', 'rb') as f:\n",
    "    tracks_obj = pickle.load(f)"
   ]
  },
  {
   "cell_type": "code",
   "execution_count": 7,
   "metadata": {
    "ExecuteTime": {
     "end_time": "2019-08-02T03:50:13.443767Z",
     "start_time": "2019-08-02T03:49:28.725366Z"
    },
    "scrolled": true
   },
   "outputs": [
    {
     "name": "stdout",
     "output_type": "stream",
     "text": [
      "Gathering files.\n",
      "Animating from 2006-02-09T07:10 to 2006-02-09T10:40.\n",
      "Plotting scan at 2006-02-09T10:30:09.\n",
      "Reached 2006-02-09T10:40.\n",
      "Breaking loop.\n",
      "\n",
      "Creating GIF - may take a few minutes.\n"
     ]
    }
   ],
   "source": [
    "lon_min = 131.0 - 1.6\n",
    "lon_max = 131.0 + 1.6\n",
    "\n",
    "lat_max = -12.2 + 1.6\n",
    "lat_min = -12.2 - 1.6\n",
    "\n",
    "[filenames, start_time, end_time] = CPOL_files_from_datetime_list(np.arange(np.datetime64('2006-02-09 07:10'), \n",
    "                                                                  np.datetime64('2006-02-09 10:50'), \n",
    "                                                                  np.timedelta64(10, 'm')))\n",
    "\n",
    "# filenames, start_time, end_time = CPOL_files_from_TINT_obj(tracks_obj, '1733')\n",
    "\n",
    "# Generate grid generator \n",
    "# Note generators produce iterators\n",
    "# These are alternative to using lists and looping\n",
    "grids = (pyart.io.read_grid(fn, include_fields = 'reflectivity')\n",
    "         for fn in filenames)\n",
    "\n",
    "# Create directory for figures\n",
    "dt=str(datetime.datetime.now())[0:-7]\n",
    "dt=dt.replace(\" \", \"_\")\n",
    "dt=dt.replace(\":\", \"_\")\n",
    "dt=dt.replace(\"-\", \"\")\n",
    "\n",
    "base_path = '/g/data/w40/esh563/CPOL_analysis/figures/TINT/'\n",
    "out_path = base_path + dt + '_tint_CPOL_anim'\n",
    "\n",
    "animate(tracks_obj, grids, out_path,\n",
    "        start_datetime = start_time,\n",
    "        end_datetime = end_time,\n",
    "        lat_lines=np.arange(lat_min, lat_max, .2),\n",
    "        lon_lines=np.arange(lon_min, lon_max, .2),\n",
    "        tracers=True, keep_frames=False, dpi=100, alt_low=1500,\n",
    "        alt_high=9500)"
   ]
  },
  {
   "cell_type": "code",
   "execution_count": 9,
   "metadata": {
    "ExecuteTime": {
     "end_time": "2019-08-02T03:06:03.999948Z",
     "start_time": "2019-08-02T03:06:03.772067Z"
    }
   },
   "outputs": [],
   "source": [
    "# Let's filter by tilt direction and magnitude, velocity magnitude\n",
    "# and significant area.\n",
    "forward_tilt = ((-45 <= tracks_obj.system_tracks['sys_rel_tilt_dir'])\n",
    "                & (tracks_obj.system_tracks['sys_rel_tilt_dir'] <= 45))\n",
    "backward_tilt = ((-135 >= tracks_obj.system_tracks['sys_rel_tilt_dir'])\n",
    "                | (tracks_obj.system_tracks['sys_rel_tilt_dir'] >= 135))\n",
    "left_tilt = ((45 <= tracks_obj.system_tracks['sys_rel_tilt_dir'])\n",
    "                & (tracks_obj.system_tracks['sys_rel_tilt_dir'] <= 135))\n",
    "right_tilt = ((-135 <= tracks_obj.system_tracks['sys_rel_tilt_dir'])\n",
    "                & (tracks_obj.system_tracks['sys_rel_tilt_dir'] <= -45))\n",
    "sig_tilt_mag = (tracks_obj.system_tracks['tilt_mag'] >= 2000)\n",
    "vel_mag = np.sqrt(tracks_obj.system_tracks['u']**2 \n",
    "                  + tracks_obj.system_tracks['v']**2)\n",
    "sig_vel_mag = ((vel_mag >= 5) & (vel_mag <= 40))\n",
    "eccentricity_mag = tracks_obj.system_tracks['eccentricity'] > .95\n",
    "# Note for CPOL 2.5 km, total scan area is only 66052 km^2. This makes \n",
    "# traditional MCS definitions of area > 30000 km^2 difficult to apply, \n",
    "# and still coherently calculate tilt. \n",
    "sig_area = ((tracks_obj.system_tracks['proj_area'] >= 5000) & \n",
    "            (tracks_obj.system_tracks['proj_area'] <= 50000))\n",
    "not_border = (tracks_obj.system_tracks['touch_border']*6.25 / tracks_obj.system_tracks['proj_area']) < 0.01\n",
    "\n",
    "tracks_0 = tracks_obj.tracks[['touch_border', 'proj_area']].xs(\n",
    "    0, level='level'\n",
    ")\n",
    "not_border_0 = (tracks_0['touch_border'] * 6.25 / tracks_0['proj_area']) < 0.01"
   ]
  },
  {
   "cell_type": "code",
   "execution_count": 18,
   "metadata": {
    "ExecuteTime": {
     "end_time": "2019-08-02T03:09:52.036975Z",
     "start_time": "2019-08-02T03:09:52.012592Z"
    }
   },
   "outputs": [
    {
     "data": {
      "text/plain": [
       "uid\n",
       "1733    37\n",
       "6403    31\n",
       "5156    29\n",
       "282     27\n",
       "3439    27\n",
       "5261    22\n",
       "1968    22\n",
       "318     22\n",
       "6607    21\n",
       "963     21\n",
       "3542    21\n",
       "6386    19\n",
       "2362    19\n",
       "2247    19\n",
       "2359    18\n",
       "1403    18\n",
       "5258    17\n",
       "854     17\n",
       "350     16\n",
       "1352    16\n",
       "dtype: int64"
      ]
     },
     "execution_count": 18,
     "metadata": {},
     "output_type": "execute_result"
    }
   ],
   "source": [
    "# Let's find the cells that were tracked for the most frames.\n",
    "sub_cond = sig_tilt_mag & sig_vel_mag & sig_area & not_border & not_border_0\n",
    "tracks_obj.system_tracks[sub_cond].groupby(level='uid').size().sort_values(ascending=False)[:20]"
   ]
  },
  {
   "cell_type": "code",
   "execution_count": 12,
   "metadata": {
    "ExecuteTime": {
     "end_time": "2019-08-02T03:06:23.506570Z",
     "start_time": "2019-08-02T03:06:23.441182Z"
    }
   },
   "outputs": [
    {
     "data": {
      "text/html": [
       "<div>\n",
       "<style scoped>\n",
       "    .dataframe tbody tr th:only-of-type {\n",
       "        vertical-align: middle;\n",
       "    }\n",
       "\n",
       "    .dataframe tbody tr th {\n",
       "        vertical-align: top;\n",
       "    }\n",
       "\n",
       "    .dataframe thead th {\n",
       "        text-align: right;\n",
       "    }\n",
       "</style>\n",
       "<table border=\"1\" class=\"dataframe\">\n",
       "  <thead>\n",
       "    <tr style=\"text-align: right;\">\n",
       "      <th></th>\n",
       "      <th></th>\n",
       "      <th>eccentricity</th>\n",
       "      <th>touch_border</th>\n",
       "      <th>proj_area</th>\n",
       "      <th>sys_rel_tilt_dir</th>\n",
       "    </tr>\n",
       "    <tr>\n",
       "      <th>scan</th>\n",
       "      <th>time</th>\n",
       "      <th></th>\n",
       "      <th></th>\n",
       "      <th></th>\n",
       "      <th></th>\n",
       "    </tr>\n",
       "  </thead>\n",
       "  <tbody>\n",
       "    <tr>\n",
       "      <th>9647</th>\n",
       "      <th>2005-02-01 18:20:08</th>\n",
       "      <td>0.977</td>\n",
       "      <td>11</td>\n",
       "      <td>9481.25</td>\n",
       "      <td>13.992</td>\n",
       "    </tr>\n",
       "    <tr>\n",
       "      <th>9662</th>\n",
       "      <th>2005-02-01 20:50:08</th>\n",
       "      <td>0.957</td>\n",
       "      <td>11</td>\n",
       "      <td>15887.50</td>\n",
       "      <td>4.254</td>\n",
       "    </tr>\n",
       "    <tr>\n",
       "      <th>9663</th>\n",
       "      <th>2005-02-01 21:00:09</th>\n",
       "      <td>0.956</td>\n",
       "      <td>15</td>\n",
       "      <td>15906.25</td>\n",
       "      <td>-7.155</td>\n",
       "    </tr>\n",
       "    <tr>\n",
       "      <th>9664</th>\n",
       "      <th>2005-02-01 21:10:15</th>\n",
       "      <td>0.961</td>\n",
       "      <td>13</td>\n",
       "      <td>15518.75</td>\n",
       "      <td>9.503</td>\n",
       "    </tr>\n",
       "  </tbody>\n",
       "</table>\n",
       "</div>"
      ],
      "text/plain": [
       "                          eccentricity  touch_border  proj_area  \\\n",
       "scan time                                                         \n",
       "9647 2005-02-01 18:20:08         0.977            11    9481.25   \n",
       "9662 2005-02-01 20:50:08         0.957            11   15887.50   \n",
       "9663 2005-02-01 21:00:09         0.956            15   15906.25   \n",
       "9664 2005-02-01 21:10:15         0.961            13   15518.75   \n",
       "\n",
       "                          sys_rel_tilt_dir  \n",
       "scan time                                   \n",
       "9647 2005-02-01 18:20:08            13.992  \n",
       "9662 2005-02-01 20:50:08             4.254  \n",
       "9663 2005-02-01 21:00:09            -7.155  \n",
       "9664 2005-02-01 21:10:15             9.503  "
      ]
     },
     "execution_count": 12,
     "metadata": {},
     "output_type": "execute_result"
    }
   ],
   "source": [
    "tracks_obj.system_tracks[sub_cond].xs('963', level='uid')[['eccentricity', 'touch_border', 'proj_area', 'sys_rel_tilt_dir']]"
   ]
  },
  {
   "cell_type": "code",
   "execution_count": 64,
   "metadata": {
    "ExecuteTime": {
     "end_time": "2019-08-01T04:43:35.664970Z",
     "start_time": "2019-08-01T04:42:53.917479Z"
    }
   },
   "outputs": [
    {
     "name": "stdout",
     "output_type": "stream",
     "text": [
      "Gathering files.\n",
      "Animating 22 frames\n",
      "Plotting frame at 2006-02-10T11:40:08\n",
      "Creating GIF - may take a few minutes.\n"
     ]
    }
   ],
   "source": [
    "uid = '1784'\n",
    "\n",
    "filenames, start_time, end_time = CPOL_files_from_TINT_obj(tracks_obj, uid)\n",
    "\n",
    "grids = (pyart.io.read_grid(fn) for fn in filenames)  # refresh grid generator\n",
    "\n",
    "# Create directory for figures\n",
    "dt=str(datetime.datetime.now())[0:-7]\n",
    "dt=dt.replace(\" \", \"_\")\n",
    "dt=dt.replace(\":\", \"_\")\n",
    "dt=dt.replace(\"-\", \"\")\n",
    "\n",
    "base_path = '/g/data/w40/esh563/CPOL_analysis/figures/TINT/'\n",
    "out_path = base_path + dt + '_tint_CPOL_lagrangian'\n",
    "animate(tracks_obj, grids, out_path, style='lagrangian', uid=uid, \n",
    "        alt_low=1500, alt_high=8000, keep_frames=False, dpi=100)"
   ]
  },
  {
   "cell_type": "markdown",
   "metadata": {},
   "source": [
    "# Calculate Some Statistics"
   ]
  },
  {
   "cell_type": "code",
   "execution_count": 15,
   "metadata": {
    "ExecuteTime": {
     "end_time": "2019-08-02T03:08:10.137278Z",
     "start_time": "2019-08-02T03:08:05.536648Z"
    }
   },
   "outputs": [],
   "source": [
    "subset_logic = sig_area & not_border & sig_vel_mag & sig_tilt_mag & not_border_0\n",
    "\n",
    "sub_tracks = tracks_obj.system_tracks[subset_logic]\n",
    "sub_uids = list(sorted(set([int(sub_tracks.index.values[i][2]) for i in range(len(sub_tracks))])))\n",
    "sub_uids = [str(i) for i in sub_uids]\n",
    "\n",
    "MCS_lengths = [len(sub_tracks.xs(i, level='uid').reset_index(level='time').index.values) for i in sub_uids]\n",
    "\n",
    "max_MCS = max(MCS_lengths)\n",
    "\n",
    "# Create 3 lists with lengths the lifetime of longest object.\n",
    "[TS, LS, PS] = [np.zeros(60) for i in range(3)]\n",
    "\n",
    "for i in sub_uids:\n",
    "    obj = sub_tracks.xs(i, level='uid').reset_index(level='time')\n",
    "    scans = obj.index.values\n",
    "    scan_label = scans - min(scans)\n",
    "    tilts = obj['sys_rel_tilt_dir']\n",
    "\n",
    "    forward_tilt = ((-45 <= tilts) & (tilts <= 45))\n",
    "    backward_tilt = ((-135 >= tilts) | (tilts >= 135))\n",
    "\n",
    "    fwd_inds = scan_label[np.argwhere(forward_tilt).flatten().tolist()].tolist()\n",
    "    bwd_inds = scan_label[np.argwhere(backward_tilt).flatten().tolist()].tolist()\n",
    "    pll_inds = scan_label[np.argwhere(~backward_tilt & ~forward_tilt).flatten().tolist()].tolist()\n",
    "\n",
    "    TS[bwd_inds] += 1\n",
    "    LS[fwd_inds] += 1\n",
    "    PS[pll_inds] += 1"
   ]
  },
  {
   "cell_type": "code",
   "execution_count": 16,
   "metadata": {
    "ExecuteTime": {
     "end_time": "2019-08-02T03:08:11.676714Z",
     "start_time": "2019-08-02T03:08:11.413406Z"
    }
   },
   "outputs": [
    {
     "data": {
      "text/plain": [
       "<matplotlib.legend.Legend at 0x7f97af41f048>"
      ]
     },
     "execution_count": 16,
     "metadata": {},
     "output_type": "execute_result"
    },
    {
     "data": {
      "image/png": "[encoded data removed]",
      "text/plain": [
       "<Figure size 432x288 with 1 Axes>"
      ]
     },
     "metadata": {
      "needs_background": "light"
     },
     "output_type": "display_data"
    }
   ],
   "source": [
    "plt.plot(np.arange(30,380,10), TS[3:38], label='TS count')\n",
    "plt.plot(np.arange(30,380,10), LS[3:38], label='LS count')\n",
    "plt.plot(np.arange(30,380,10), PS[3:38], label='PS count')\n",
    "plt.plot(np.arange(30,380,10), (TS+PS+LS)[3:38], label='Total count')\n",
    "plt.xticks(np.arange(30,380,30))\n",
    "plt.legend()"
   ]
  },
  {
   "cell_type": "code",
   "execution_count": 17,
   "metadata": {
    "ExecuteTime": {
     "end_time": "2019-08-02T03:08:23.315699Z",
     "start_time": "2019-08-02T03:08:23.089929Z"
    }
   },
   "outputs": [
    {
     "data": {
      "text/plain": [
       "<matplotlib.legend.Legend at 0x7f97af3827f0>"
      ]
     },
     "execution_count": 17,
     "metadata": {},
     "output_type": "execute_result"
    },
    {
     "data": {
      "image/png": "[encoded data removed]",
      "text/plain": [
       "<Figure size 432x288 with 1 Axes>"
      ]
     },
     "metadata": {
      "needs_background": "light"
     },
     "output_type": "display_data"
    }
   ],
   "source": [
    "tot = (TS+PS+LS)\n",
    "\n",
    "plt.plot(np.arange(30,380,10), (TS/tot)[3:38], label='TS ratio')\n",
    "plt.plot(np.arange(30,380,10), (LS/tot)[3:38], label='LS ratio')\n",
    "plt.plot(np.arange(30,380,10), (PS/tot)[3:38], label='PS ratio')\n",
    "# plt.plot(np.arange(30,380,10), (TS+PS+LS)[3:38], label='Total')\n",
    "plt.xticks(np.arange(30,380,30))\n",
    "plt.legend()\n",
    "# Note that we don't really know the start times of the systems!"
   ]
  }
 ],
 "metadata": {
  "kernelspec": {
   "display_name": "Python [conda env:analysis3-19.04]",
   "language": "python",
   "name": "conda-env-analysis3-19.04-py"
  },
  "language_info": {
   "codemirror_mode": {
    "name": "ipython",
    "version": 3
   },
   "file_extension": ".py",
   "mimetype": "text/x-python",
   "name": "python",
   "nbconvert_exporter": "python",
   "pygments_lexer": "ipython3",
   "version": "3.6.7"
  },
  "toc": {
   "base_numbering": 1,
   "nav_menu": {},
   "number_sections": true,
   "sideBar": true,
   "skip_h1_title": false,
   "title_cell": "Table of Contents",
   "title_sidebar": "Contents",
   "toc_cell": false,
   "toc_position": {},
   "toc_section_display": true,
   "toc_window_display": false
  }
 },
 "nbformat": 4,
 "nbformat_minor": 2
}
