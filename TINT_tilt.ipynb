{
 "cells": [
  {
   "cell_type": "code",
   "execution_count": 1,
   "metadata": {
    "ExecuteTime": {
     "end_time": "2019-07-10T07:23:41.538976Z",
     "start_time": "2019-07-10T07:23:31.890854Z"
    }
   },
   "outputs": [
    {
     "name": "stdout",
     "output_type": "stream",
     "text": [
      "\n",
      "## You are using the Python ARM Radar Toolkit (Py-ART), an open source\n",
      "## library for working with weather radar data. Py-ART is partly\n",
      "## supported by the U.S. Department of Energy as part of the Atmospheric\n",
      "## Radiation Measurement (ARM) Climate Research Facility, an Office of\n",
      "## Science user facility.\n",
      "##\n",
      "## If you use this software to prepare a publication, please cite:\n",
      "##\n",
      "##     JJ Helmus and SM Collis, JORS 2016, doi: 10.5334/jors.119\n",
      "\n"
     ]
    },
    {
     "name": "stderr",
     "output_type": "stream",
     "text": [
      "/g/data3/hh5/public/apps/miniconda3/envs/analysis3-19.04/lib/python3.6/site-packages/pyart/graph/cm.py:104: FutureWarning: elementwise comparison failed; returning scalar instead, but in the future will perform elementwise comparison\n",
      "  if 'red' in spec:\n",
      "/g/data3/hh5/public/apps/miniconda3/envs/analysis3-19.04/lib/python3.6/site-packages/pyart/graph/cm_colorblind.py:32: FutureWarning: elementwise comparison failed; returning scalar instead, but in the future will perform elementwise comparison\n",
      "  if 'red' in spec:\n"
     ]
    }
   ],
   "source": [
    "# Core \n",
    "import datetime\n",
    "import os\n",
    "import glob\n",
    "from IPython.display import HTML, Image, display\n",
    "import tempfile\n",
    "import shutil\n",
    "import sys\n",
    "import pickle\n",
    "\n",
    "# Analysis \n",
    "import xarray as xr\n",
    "import numpy as np\n",
    "import pandas as pd\n",
    "import pyproj as pp\n",
    "import scipy as sp\n",
    "import metpy as mp\n",
    "import networkx \n",
    "from networkx.algorithms.components.connected import connected_components\n",
    "\n",
    "# Plotting \n",
    "import cartopy.crs as ccrs\n",
    "from cartopy.mpl.gridliner import LONGITUDE_FORMATTER, LATITUDE_FORMATTER\n",
    "import cartopy.feature as cfeature\n",
    "import matplotlib.pyplot as plt\n",
    "from matplotlib import rcParams\n",
    "import matplotlib.ticker as mticker\n",
    "from matplotlib.animation import FuncAnimation\n",
    "import matplotlib.colors as colors\n",
    "\n",
    "# Debugging \n",
    "import pdb, traceback\n",
    "%load_ext line_profiler\n",
    "\n",
    "# Radar Tools\n",
    "import pyart\n",
    "import tint\n",
    "from tint import animate\n",
    "from tint.visualization import embed_mp4_as_gif"
   ]
  },
  {
   "cell_type": "code",
   "execution_count": 2,
   "metadata": {
    "ExecuteTime": {
     "end_time": "2019-07-10T05:47:41.919292Z",
     "start_time": "2019-07-10T05:47:41.835542Z"
    }
   },
   "outputs": [],
   "source": [
    "base = '/g/data/rr5/CPOL_radar/CPOL_level_1b/GRIDDED/GRID_70km_1000m/'\n",
    "\n",
    "filenames = sorted(glob.glob(base + '2016/201612*/*.nc'))"
   ]
  },
  {
   "cell_type": "code",
   "execution_count": 6,
   "metadata": {
    "ExecuteTime": {
     "end_time": "2019-07-10T07:54:30.228744Z",
     "start_time": "2019-07-10T07:29:44.997655Z"
    },
    "scrolled": true
   },
   "outputs": [
    {
     "name": "stdout",
     "output_type": "stream",
     "text": [
      "No cells found in scan 8548       \n",
      "\n",
      "time elapsed 24.7 minutes\n"
     ]
    }
   ],
   "source": [
    "# def test():\n",
    "# Store filenames for an example day of data\n",
    "base = '/g/data/rr5/CPOL_radar/CPOL_level_1b/GRIDDED/GRID_70km_1000m/'\n",
    "\n",
    "filenames = sorted(glob.glob(base + '2016/201612*/*.nc') + glob.glob(base + '2017/201701*/*.nc'))\n",
    "# Generate grid generator \n",
    "# Note generators produce iterators\n",
    "# These are alternative to using lists and looping\n",
    "grids = (pyart.io.read_grid(fn, include_fields = 'reflectivity') \n",
    "         for fn in filenames)\n",
    "\n",
    "# Define settings for tracking\n",
    "settings = {\n",
    "    'MIN_SIZE' : [15, 15, 15, 15], # This probably size in pixel units or km. \n",
    "    'FIELD_THRESH' : [45, 40, 35, 25],\n",
    "    'ISO_THRESH' : [4, 4, 4, 4],\n",
    "    'GS_ALT' : 3000,\n",
    "    'LEVELS' : np.array(\n",
    "        [[0, 2000], \n",
    "         [2000, 4000],\n",
    "         [4000, 6000],\n",
    "         [6000, 8000]]\n",
    "    ),\n",
    "    'TRACK_INTERVAL' : 1,\n",
    "}\n",
    "\n",
    "# Calculate high and low level tracks\n",
    "tracks_obj  = tint.Cell_tracks()\n",
    "\n",
    "for parameter in ['MIN_SIZE', 'FIELD_THRESH', 'GS_ALT', 'LEVELS', \n",
    "                  'TRACK_INTERVAL', 'ISO_THRESH'\n",
    "                 ]:\n",
    "    tracks_obj.params[parameter] = settings[parameter]\n",
    "\n",
    "# Calculate tracks\n",
    "tracks_obj.get_tracks(grids)\n",
    "    \n",
    "# if __name__ == '__main__':\n",
    "#     try:\n",
    "#         test()\n",
    "#     except:\n",
    "#         extype, value, tb = sys.exc_info()\n",
    "#         traceback.print_exc()\n",
    "#         pdb.post_mortem(tb)"
   ]
  },
  {
   "cell_type": "code",
   "execution_count": 7,
   "metadata": {
    "ExecuteTime": {
     "end_time": "2019-07-10T08:56:21.829945Z",
     "start_time": "2019-07-10T08:56:21.322735Z"
    }
   },
   "outputs": [],
   "source": [
    "with open('/g/data/w40/esh563/CPOL_analysis/tracks_obj_decjan1213.pkl', 'wb') as f:\n",
    "    pickle.dump(tracks_obj, f)"
   ]
  },
  {
   "cell_type": "code",
   "execution_count": 3,
   "metadata": {
    "ExecuteTime": {
     "end_time": "2019-07-10T05:47:45.898245Z",
     "start_time": "2019-07-10T05:47:45.631094Z"
    }
   },
   "outputs": [],
   "source": [
    "with open('/g/data/w40/esh563/CPOL_analysis/tracks_obj.pkl', 'rb') as f:\n",
    "    tracks_obj = pickle.load(f)"
   ]
  },
  {
   "cell_type": "code",
   "execution_count": 3,
   "metadata": {
    "ExecuteTime": {
     "end_time": "2019-07-10T07:16:19.184912Z",
     "start_time": "2019-07-10T07:16:19.158176Z"
    }
   },
   "outputs": [
    {
     "data": {
      "text/plain": [
       "uid\n",
       "6    6\n",
       "8    3\n",
       "4    3\n",
       "7    2\n",
       "5    2\n",
       "3    2\n",
       "9    1\n",
       "2    1\n",
       "1    1\n",
       "0    1\n",
       "dtype: int64"
      ]
     },
     "execution_count": 3,
     "metadata": {},
     "output_type": "execute_result"
    }
   ],
   "source": [
    "# Let's find the cells that were tracked for the most frames\n",
    "tracks_obj.system_tracks.groupby(level='uid').size().sort_values(ascending=False)[:10]\n",
    "# tracks_obj.system_tracks['n_cores'][tracks_obj.system_tracks['n_cores'] == 5]"
   ]
  },
  {
   "cell_type": "code",
   "execution_count": 4,
   "metadata": {
    "ExecuteTime": {
     "end_time": "2019-07-10T07:24:00.207633Z",
     "start_time": "2019-07-10T07:24:00.141252Z"
    }
   },
   "outputs": [
    {
     "data": {
      "text/html": [
       "<div>\n",
       "<style scoped>\n",
       "    .dataframe tbody tr th:only-of-type {\n",
       "        vertical-align: middle;\n",
       "    }\n",
       "\n",
       "    .dataframe tbody tr th {\n",
       "        vertical-align: top;\n",
       "    }\n",
       "\n",
       "    .dataframe thead th {\n",
       "        text-align: right;\n",
       "    }\n",
       "</style>\n",
       "<table border=\"1\" class=\"dataframe\">\n",
       "  <thead>\n",
       "    <tr style=\"text-align: right;\">\n",
       "      <th></th>\n",
       "      <th></th>\n",
       "      <th></th>\n",
       "      <th>grid_x</th>\n",
       "      <th>grid_y</th>\n",
       "      <th>lon</th>\n",
       "      <th>lat</th>\n",
       "      <th>u</th>\n",
       "      <th>v</th>\n",
       "      <th>n_cores</th>\n",
       "      <th>x_vert_disp</th>\n",
       "      <th>y_vert_disp</th>\n",
       "      <th>tilt_mag</th>\n",
       "      <th>vel_dir</th>\n",
       "      <th>tilt_dir</th>\n",
       "      <th>sys_rel_tilt_dir</th>\n",
       "    </tr>\n",
       "    <tr>\n",
       "      <th>scan</th>\n",
       "      <th>time</th>\n",
       "      <th>uid</th>\n",
       "      <th></th>\n",
       "      <th></th>\n",
       "      <th></th>\n",
       "      <th></th>\n",
       "      <th></th>\n",
       "      <th></th>\n",
       "      <th></th>\n",
       "      <th></th>\n",
       "      <th></th>\n",
       "      <th></th>\n",
       "      <th></th>\n",
       "      <th></th>\n",
       "      <th></th>\n",
       "    </tr>\n",
       "  </thead>\n",
       "  <tbody>\n",
       "    <tr>\n",
       "      <th>2</th>\n",
       "      <th>2016-12-20 23:00:02</th>\n",
       "      <th>6</th>\n",
       "      <td>29.113</td>\n",
       "      <td>61.437</td>\n",
       "      <td>130.6670</td>\n",
       "      <td>-12.3296</td>\n",
       "      <td>NaN</td>\n",
       "      <td>NaN</td>\n",
       "      <td>1</td>\n",
       "      <td>2.014</td>\n",
       "      <td>-1.136</td>\n",
       "      <td>2.312292</td>\n",
       "      <td>NaN</td>\n",
       "      <td>-29.425243</td>\n",
       "      <td>NaN</td>\n",
       "    </tr>\n",
       "    <tr>\n",
       "      <th>3</th>\n",
       "      <th>2016-12-20 23:10:01</th>\n",
       "      <th>6</th>\n",
       "      <td>40.154</td>\n",
       "      <td>52.232</td>\n",
       "      <td>130.7682</td>\n",
       "      <td>-12.4106</td>\n",
       "      <td>18.401667</td>\n",
       "      <td>-15.341667</td>\n",
       "      <td>2</td>\n",
       "      <td>0.355</td>\n",
       "      <td>-1.318</td>\n",
       "      <td>1.364972</td>\n",
       "      <td>-39.818329</td>\n",
       "      <td>-74.925276</td>\n",
       "      <td>-35.106947</td>\n",
       "    </tr>\n",
       "    <tr>\n",
       "      <th>4</th>\n",
       "      <th>2016-12-20 23:20:02</th>\n",
       "      <th>6</th>\n",
       "      <td>47.314</td>\n",
       "      <td>49.909</td>\n",
       "      <td>130.8326</td>\n",
       "      <td>-12.4287</td>\n",
       "      <td>11.933333</td>\n",
       "      <td>-3.871667</td>\n",
       "      <td>1</td>\n",
       "      <td>0.121</td>\n",
       "      <td>-2.231</td>\n",
       "      <td>2.234279</td>\n",
       "      <td>-17.975206</td>\n",
       "      <td>-86.895561</td>\n",
       "      <td>-68.920355</td>\n",
       "    </tr>\n",
       "    <tr>\n",
       "      <th>5</th>\n",
       "      <th>2016-12-20 23:30:06</th>\n",
       "      <th>6</th>\n",
       "      <td>50.304</td>\n",
       "      <td>53.791</td>\n",
       "      <td>130.8603</td>\n",
       "      <td>-12.3927</td>\n",
       "      <td>4.983333</td>\n",
       "      <td>6.470000</td>\n",
       "      <td>1</td>\n",
       "      <td>2.493</td>\n",
       "      <td>-5.753</td>\n",
       "      <td>6.269933</td>\n",
       "      <td>52.395761</td>\n",
       "      <td>-66.571028</td>\n",
       "      <td>-118.966789</td>\n",
       "    </tr>\n",
       "    <tr>\n",
       "      <th>6</th>\n",
       "      <th>2016-12-20 23:40:02</th>\n",
       "      <th>6</th>\n",
       "      <td>57.908</td>\n",
       "      <td>50.051</td>\n",
       "      <td>130.9339</td>\n",
       "      <td>-12.4287</td>\n",
       "      <td>12.673333</td>\n",
       "      <td>-6.233333</td>\n",
       "      <td>1</td>\n",
       "      <td>-0.318</td>\n",
       "      <td>-4.381</td>\n",
       "      <td>4.392526</td>\n",
       "      <td>-26.190100</td>\n",
       "      <td>-94.151600</td>\n",
       "      <td>-67.961500</td>\n",
       "    </tr>\n",
       "    <tr>\n",
       "      <th>7</th>\n",
       "      <th>2016-12-20 23:50:02</th>\n",
       "      <th>6</th>\n",
       "      <td>66.019</td>\n",
       "      <td>46.367</td>\n",
       "      <td>131.0076</td>\n",
       "      <td>-12.4647</td>\n",
       "      <td>13.518333</td>\n",
       "      <td>-6.140000</td>\n",
       "      <td>2</td>\n",
       "      <td>2.734</td>\n",
       "      <td>-7.760</td>\n",
       "      <td>8.227536</td>\n",
       "      <td>-24.427454</td>\n",
       "      <td>-70.591641</td>\n",
       "      <td>-46.164187</td>\n",
       "    </tr>\n",
       "  </tbody>\n",
       "</table>\n",
       "</div>"
      ],
      "text/plain": [
       "                              grid_x  grid_y       lon      lat          u  \\\n",
       "scan time                uid                                                 \n",
       "2    2016-12-20 23:00:02 6    29.113  61.437  130.6670 -12.3296        NaN   \n",
       "3    2016-12-20 23:10:01 6    40.154  52.232  130.7682 -12.4106  18.401667   \n",
       "4    2016-12-20 23:20:02 6    47.314  49.909  130.8326 -12.4287  11.933333   \n",
       "5    2016-12-20 23:30:06 6    50.304  53.791  130.8603 -12.3927   4.983333   \n",
       "6    2016-12-20 23:40:02 6    57.908  50.051  130.9339 -12.4287  12.673333   \n",
       "7    2016-12-20 23:50:02 6    66.019  46.367  131.0076 -12.4647  13.518333   \n",
       "\n",
       "                                      v  n_cores  x_vert_disp  y_vert_disp  \\\n",
       "scan time                uid                                                 \n",
       "2    2016-12-20 23:00:02 6          NaN        1        2.014       -1.136   \n",
       "3    2016-12-20 23:10:01 6   -15.341667        2        0.355       -1.318   \n",
       "4    2016-12-20 23:20:02 6    -3.871667        1        0.121       -2.231   \n",
       "5    2016-12-20 23:30:06 6     6.470000        1        2.493       -5.753   \n",
       "6    2016-12-20 23:40:02 6    -6.233333        1       -0.318       -4.381   \n",
       "7    2016-12-20 23:50:02 6    -6.140000        2        2.734       -7.760   \n",
       "\n",
       "                              tilt_mag    vel_dir   tilt_dir  sys_rel_tilt_dir  \n",
       "scan time                uid                                                    \n",
       "2    2016-12-20 23:00:02 6    2.312292        NaN -29.425243               NaN  \n",
       "3    2016-12-20 23:10:01 6    1.364972 -39.818329 -74.925276        -35.106947  \n",
       "4    2016-12-20 23:20:02 6    2.234279 -17.975206 -86.895561        -68.920355  \n",
       "5    2016-12-20 23:30:06 6    6.269933  52.395761 -66.571028       -118.966789  \n",
       "6    2016-12-20 23:40:02 6    4.392526 -26.190100 -94.151600        -67.961500  \n",
       "7    2016-12-20 23:50:02 6    8.227536 -24.427454 -70.591641        -46.164187  "
      ]
     },
     "execution_count": 4,
     "metadata": {},
     "output_type": "execute_result"
    }
   ],
   "source": [
    "tracks_obj.system_tracks.xs('6', level='uid', drop_level=False)"
   ]
  },
  {
   "cell_type": "code",
   "execution_count": 15,
   "metadata": {
    "ExecuteTime": {
     "end_time": "2019-07-09T02:40:49.225189Z",
     "start_time": "2019-07-09T02:33:11.089502Z"
    }
   },
   "outputs": [
    {
     "name": "stdout",
     "output_type": "stream",
     "text": [
      "Animating 271 frames\n",
      "Creating GIF - may take a few minutes.\n"
     ]
    }
   ],
   "source": [
    "lon_min = 130.40\n",
    "lon_max = 131.69\n",
    "\n",
    "lat_max = -11.61\n",
    "lat_min = -12.87\n",
    "\n",
    "base = '/g/data/rr5/CPOL_radar/CPOL_level_1b/GRIDDED/GRID_70km_1000m/'\n",
    "\n",
    "filenames = sorted(glob.glob(base + '2016/20161220/*.nc') +\n",
    "                   glob.glob(base + '2016/20161221/*.nc'))\n",
    "# Generate grid generator \n",
    "# Note generators produce iterators\n",
    "# These are alternative to using lists and looping\n",
    "grids = (pyart.io.read_grid(fn, include_fields = 'reflectivity') \n",
    "         for fn in filenames)\n",
    "\n",
    "# Create directory for figures\n",
    "dt=str(datetime.datetime.now())[0:-7]\n",
    "dt=dt.replace(\" \", \"_\")\n",
    "dt=dt.replace(\":\", \"_\")\n",
    "dt=dt.replace(\"-\", \"\")    \n",
    "\n",
    "base_path = '/g/data/w40/esh563/CPOL_analysis/figures/TINT/'\n",
    "out_path = base_path + dt + '_tint_CPOL_anim'\n",
    "\n",
    "animate(tracks_obj, grids, out_path,\n",
    "        lat_lines=np.arange(lat_min, lat_max, .1),\n",
    "        lon_lines=np.arange(lon_min, lon_max, .1),\n",
    "        tracers=True, keep_frames=True, dpi=100)\n",
    "\n"
   ]
  },
  {
   "cell_type": "code",
   "execution_count": 4,
   "metadata": {
    "ExecuteTime": {
     "end_time": "2019-07-10T05:55:16.282863Z",
     "start_time": "2019-07-10T05:47:54.422939Z"
    }
   },
   "outputs": [
    {
     "name": "stdout",
     "output_type": "stream",
     "text": [
      "Animating 21 frames\n",
      "Creating GIF - may take a few minutes.\n"
     ]
    }
   ],
   "source": [
    "def test():\n",
    "    # Now we can view these cells from a lagrangian perspective\n",
    "    grids = (pyart.io.read_grid(fn) for fn in filenames)  # refresh grid generator\n",
    "\n",
    "    # Create directory for figures\n",
    "    dt=str(datetime.datetime.now())[0:-7]\n",
    "    dt=dt.replace(\" \", \"_\")\n",
    "    dt=dt.replace(\":\", \"_\")\n",
    "    dt=dt.replace(\"-\", \"\")  \n",
    "\n",
    "    base_path = '/g/data/w40/esh563/CPOL_analysis/figures/TINT/'\n",
    "    out_path = base_path + dt + '_tint_CPOL_lagrangian'\n",
    "    animate(tracks_obj, grids, out_path, style='lagrangian', uid='112', alt=3000,\n",
    "            keep_frames=True, dpi=100)\n",
    "\n",
    "if __name__ == '__main__':\n",
    "    try:\n",
    "        test()\n",
    "    except:\n",
    "        extype, value, tb = sys.exc_info()\n",
    "        traceback.print_exc()\n",
    "        pdb.post_mortem(tb)"
   ]
  },
  {
   "cell_type": "code",
   "execution_count": null,
   "metadata": {},
   "outputs": [],
   "source": []
  }
 ],
 "metadata": {
  "kernelspec": {
   "display_name": "Python [conda env:analysis3-19.04]",
   "language": "python",
   "name": "conda-env-analysis3-19.04-py"
  },
  "language_info": {
   "codemirror_mode": {
    "name": "ipython",
    "version": 3
   },
   "file_extension": ".py",
   "mimetype": "text/x-python",
   "name": "python",
   "nbconvert_exporter": "python",
   "pygments_lexer": "ipython3",
   "version": "3.6.7"
  },
  "toc": {
   "base_numbering": 1,
   "nav_menu": {},
   "number_sections": true,
   "sideBar": true,
   "skip_h1_title": false,
   "title_cell": "Table of Contents",
   "title_sidebar": "Contents",
   "toc_cell": false,
   "toc_position": {},
   "toc_section_display": true,
   "toc_window_display": false
  }
 },
 "nbformat": 4,
 "nbformat_minor": 2
}
