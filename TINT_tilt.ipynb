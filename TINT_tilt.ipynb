{
 "cells": [
  {
   "cell_type": "code",
   "execution_count": 1,
   "metadata": {
    "ExecuteTime": {
     "end_time": "2019-07-05T03:21:44.746884Z",
     "start_time": "2019-07-05T03:21:38.345702Z"
    }
   },
   "outputs": [
    {
     "name": "stdout",
     "output_type": "stream",
     "text": [
      "\n",
      "## You are using the Python ARM Radar Toolkit (Py-ART), an open source\n",
      "## library for working with weather radar data. Py-ART is partly\n",
      "## supported by the U.S. Department of Energy as part of the Atmospheric\n",
      "## Radiation Measurement (ARM) Climate Research Facility, an Office of\n",
      "## Science user facility.\n",
      "##\n",
      "## If you use this software to prepare a publication, please cite:\n",
      "##\n",
      "##     JJ Helmus and SM Collis, JORS 2016, doi: 10.5334/jors.119\n",
      "\n"
     ]
    },
    {
     "name": "stderr",
     "output_type": "stream",
     "text": [
      "/g/data3/hh5/public/apps/miniconda3/envs/analysis3-19.04/lib/python3.6/site-packages/pyart/graph/cm.py:104: FutureWarning: elementwise comparison failed; returning scalar instead, but in the future will perform elementwise comparison\n",
      "  if 'red' in spec:\n",
      "/g/data3/hh5/public/apps/miniconda3/envs/analysis3-19.04/lib/python3.6/site-packages/pyart/graph/cm_colorblind.py:32: FutureWarning: elementwise comparison failed; returning scalar instead, but in the future will perform elementwise comparison\n",
      "  if 'red' in spec:\n"
     ]
    }
   ],
   "source": [
    "# Core \n",
    "import datetime\n",
    "import os\n",
    "import glob\n",
    "from IPython.display import HTML, Image, display\n",
    "import tempfile\n",
    "import shutil\n",
    "\n",
    "# Analysis \n",
    "import xarray as xr\n",
    "import numpy as np\n",
    "import pyproj as pp\n",
    "import scipy as sp\n",
    "import metpy as mp\n",
    "import networkx \n",
    "from networkx.algorithms.components.connected import connected_components\n",
    "\n",
    "# Plotting \n",
    "import cartopy.crs as ccrs\n",
    "from cartopy.mpl.gridliner import LONGITUDE_FORMATTER, LATITUDE_FORMATTER\n",
    "import cartopy.feature as cfeature\n",
    "import matplotlib.pyplot as plt\n",
    "from matplotlib import rcParams\n",
    "import matplotlib.ticker as mticker\n",
    "from matplotlib.animation import FuncAnimation\n",
    "import matplotlib.colors as colors\n",
    "\n",
    "# Debugging \n",
    "import pdb\n",
    "%load_ext line_profiler\n",
    "\n",
    "# Radar Tools\n",
    "import pyart\n",
    "import tint\n",
    "from tint.data_utils import get_nexrad_keys, read_nexrad_key\n",
    "from tint import Cell_tracks, animate\n",
    "from tint.visualization import embed_mp4_as_gif"
   ]
  },
  {
   "cell_type": "code",
   "execution_count": 67,
   "metadata": {
    "ExecuteTime": {
     "end_time": "2019-07-05T04:44:54.958900Z",
     "start_time": "2019-07-05T04:44:54.937878Z"
    }
   },
   "outputs": [],
   "source": [
    "# Store filenames for an example day of data\n",
    "filenames = sorted(glob.glob(('/g/data/rr5/CPOL_radar/CPOL_level_1b/'\n",
    "                              + 'GRIDDED/GRID_70km_1000m/'\n",
    "                              + '2016/20161220/*.nc')))\n",
    "# Generate grid generator \n",
    "# Note generators produce iterators\n",
    "# These are alternative to using lists and looping\n",
    "grids = (pyart.io.read_grid(fn, include_fields = 'reflectivity') \n",
    "         for fn in filenames)\n",
    "\n",
    "# Define settings for tracking\n",
    "settings = {\n",
    "    'MIN_SIZE' : 30, \n",
    "    'FIELD_THRESH' : 20,\n",
    "    'GS_ALT' : 1500,\n",
    "    'LEVELS' : np.array(\n",
    "        [[0, 3000], \n",
    "         [3000, 6000]]\n",
    "    )\n",
    "}\n",
    "\n",
    "# Calculate high and low level tracks\n",
    "tracks_obj  = Cell_tracks()\n",
    "\n",
    "for parameter in ['MIN_SIZE', 'FIELD_THRESH', 'GS_ALT', 'LEVELS']:\n",
    "    tracks_obj.params[parameter] = settings[parameter]\n",
    "\n",
    "# Calculate tracks\n",
    "# tracks_obj.get_tracks(grids)"
   ]
  },
  {
   "cell_type": "code",
   "execution_count": 58,
   "metadata": {
    "ExecuteTime": {
     "end_time": "2019-07-05T04:27:39.039935Z",
     "start_time": "2019-07-05T04:27:39.007382Z"
    }
   },
   "outputs": [],
   "source": [
    "upper = np.array([\n",
    "    [0, 1, 1, 1, 0, 2, 2, 2],\n",
    "    [0, 1, 1, 1, 0, 2, 2, 2],\n",
    "    [0, 1, 1, 1, 0, 2, 2, 2],\n",
    "    [0, 1, 1, 1, 0, 2, 2, 2],\n",
    "    [0, 1, 1, 1, 0, 2, 2, 2],\n",
    "    [0, 0, 0, 0, 0, 0, 0, 0],\n",
    "    [0, 3, 3, 0, 0, 0, 4, 4],\n",
    "    [0, 3, 3, 0, 0, 0, 4, 4],\n",
    "])\n",
    "\n",
    "mid = np.array([\n",
    "    [0, 1, 1, 1, 1, 1, 1, 4],\n",
    "    [0, 1, 1, 1, 1, 1, 1, 4],\n",
    "    [0, 0, 0, 0, 0, 0, 0, 0],\n",
    "    [0, 0, 0, 0, 0, 0, 0, 0],\n",
    "    [0, 0, 0, 0, 0, 0, 0, 0],\n",
    "    [0, 3, 3, 3, 0, 2, 2, 2],\n",
    "    [0, 3, 3, 3, 0, 2, 2, 2],\n",
    "    [0, 3, 3, 3, 0, 2, 2, 2],\n",
    "])\n",
    "\n",
    "lower = np.array([\n",
    "    [0, 1, 0, 2, 0, 0, 13,  4],\n",
    "    [0, 1, 0, 2, 0, 3, 13,  4],\n",
    "    [0, 0, 0, 0, 0, 0, 13,  0],\n",
    "    [0, 5, 6, 7, 8, 9, 13, 11],\n",
    "    [0, 0, 0, 0, 0, 0, 13,  0],\n",
    "    [0, 15, 0, 14, 0, 0, 13, 0],\n",
    "    [0, 15, 0, 14, 0, 0, 13, 12],\n",
    "    [0, 15, 0, 14, 0, 0, 13, 12],\n",
    "])\n",
    "\n",
    "frames = np.array([lower, mid, upper])\n",
    "f_maxes = frames.max(axis=(1,2))\n",
    "# Relabel so that object numbers are unique across frames\n",
    "frames_rl[:] = frames[:]\n",
    "for i in range(1,frames_rl.shape[0]):\n",
    "    frames_rl[i,frames_rl[i]>0] += np.cumsum(f_maxes[:-1])[i-1]  "
   ]
  },
  {
   "cell_type": "code",
   "execution_count": 59,
   "metadata": {
    "ExecuteTime": {
     "end_time": "2019-07-05T04:27:39.729492Z",
     "start_time": "2019-07-05T04:27:39.720682Z"
    }
   },
   "outputs": [
    {
     "data": {
      "text/plain": [
       "array([[[ 0,  1,  0,  2,  0,  0, 13,  4],\n",
       "        [ 0,  1,  0,  2,  0,  3, 13,  4],\n",
       "        [ 0,  0,  0,  0,  0,  0, 13,  0],\n",
       "        [ 0,  5,  6,  7,  8,  9, 13, 11],\n",
       "        [ 0,  0,  0,  0,  0,  0, 13,  0],\n",
       "        [ 0, 15,  0, 14,  0,  0, 13,  0],\n",
       "        [ 0, 15,  0, 14,  0,  0, 13, 12],\n",
       "        [ 0, 15,  0, 14,  0,  0, 13, 12]],\n",
       "\n",
       "       [[ 0, 16, 16, 16, 16, 16, 16, 19],\n",
       "        [ 0, 16, 16, 16, 16, 16, 16, 19],\n",
       "        [ 0,  0,  0,  0,  0,  0,  0,  0],\n",
       "        [ 0,  0,  0,  0,  0,  0,  0,  0],\n",
       "        [ 0,  0,  0,  0,  0,  0,  0,  0],\n",
       "        [ 0, 18, 18, 18,  0, 17, 17, 17],\n",
       "        [ 0, 18, 18, 18,  0, 17, 17, 17],\n",
       "        [ 0, 18, 18, 18,  0, 17, 17, 17]],\n",
       "\n",
       "       [[ 0, 20, 20, 20,  0, 21, 21, 21],\n",
       "        [ 0, 20, 20, 20,  0, 21, 21, 21],\n",
       "        [ 0, 20, 20, 20,  0, 21, 21, 21],\n",
       "        [ 0, 20, 20, 20,  0, 21, 21, 21],\n",
       "        [ 0, 20, 20, 20,  0, 21, 21, 21],\n",
       "        [ 0,  0,  0,  0,  0,  0,  0,  0],\n",
       "        [ 0, 22, 22,  0,  0,  0, 23, 23],\n",
       "        [ 0, 22, 22,  0,  0,  0, 23, 23]]])"
      ]
     },
     "execution_count": 59,
     "metadata": {},
     "output_type": "execute_result"
    }
   ],
   "source": [
    "frames_rl"
   ]
  },
  {
   "cell_type": "code",
   "execution_count": 60,
   "metadata": {
    "ExecuteTime": {
     "end_time": "2019-07-05T04:27:43.047635Z",
     "start_time": "2019-07-05T04:27:43.027328Z"
    }
   },
   "outputs": [],
   "source": [
    "# Create graph for cells that overlap at different vertical levels.\n",
    "total_objs = frames_rl[-1].max()\n",
    "\n",
    "overlap_graph = networkx.Graph()\n",
    "overlap_graph.add_nodes_from(set(range(1, total_objs)))\n",
    "\n",
    "# Create edges between the objects that overlap vertically.\n",
    "for i in range(frames_rl.shape[0]-1):\n",
    "    # For each object in frame i, work out the objects it overlaps in \n",
    "    # the frame below.\n",
    "    \n",
    "    # Determine the objects in frame i.\n",
    "    objects = set(frames_rl[i][frames_rl[i]>0])\n",
    "    # Determine the objects in frame i+1.\n",
    "    objects_next = set(frames_rl[i+1][frames_rl[i+1]>0])\n",
    "    for j in range(len(list(objects))):\n",
    "        overlap = np.logical_and(frames_rl[i] == list(objects)[j], \n",
    "                                 frames_rl[i+1] > 0)\n",
    "        overlap_objs = set((frames_rl[i+1][overlap]).flatten())\n",
    "        # If objects overlap, add edge between object j and first \n",
    "        # object from overlap set\n",
    "        if bool(overlap_objs):\n",
    "            overlap_graph.add_edges_from(\n",
    "                [(list(objects)[j], list(overlap_objs)[0])]\n",
    "            )\n",
    "            # Add edges between objects in overlap set\n",
    "            for k in range(0, len(list(overlap_objs))-1):\n",
    "                overlap_graph.add_edges_from(\n",
    "                    [(list(overlap_objs)[k], list(overlap_objs)[k+1])]\n",
    "                )"
   ]
  },
  {
   "cell_type": "code",
   "execution_count": 62,
   "metadata": {
    "ExecuteTime": {
     "end_time": "2019-07-05T04:27:46.111324Z",
     "start_time": "2019-07-05T04:27:46.101989Z"
    }
   },
   "outputs": [],
   "source": [
    "# Create frames_sys based on connected components \n",
    "new_objs = list(connected_components(overlap_graph))\n",
    "frames_sys = np.zeros(frames_rl.shape)\n",
    "for i in range(len(new_objs)):\n",
    "    frames_sys[np.isin(frames_rl, list(new_objs[i]))] = i + 1"
   ]
  },
  {
   "cell_type": "code",
   "execution_count": 64,
   "metadata": {
    "ExecuteTime": {
     "end_time": "2019-07-05T04:27:51.930748Z",
     "start_time": "2019-07-05T04:27:51.913032Z"
    }
   },
   "outputs": [
    {
     "data": {
      "text/plain": [
       "array([[[0., 1., 0., 1., 0., 0., 1., 1.],\n",
       "        [0., 1., 0., 1., 0., 1., 1., 1.],\n",
       "        [0., 0., 0., 0., 0., 0., 1., 0.],\n",
       "        [0., 2., 3., 4., 5., 6., 1., 8.],\n",
       "        [0., 0., 0., 0., 0., 0., 1., 0.],\n",
       "        [0., 9., 0., 9., 0., 0., 1., 0.],\n",
       "        [0., 9., 0., 9., 0., 0., 1., 1.],\n",
       "        [0., 9., 0., 9., 0., 0., 1., 1.]],\n",
       "\n",
       "       [[0., 1., 1., 1., 1., 1., 1., 1.],\n",
       "        [0., 1., 1., 1., 1., 1., 1., 1.],\n",
       "        [0., 0., 0., 0., 0., 0., 0., 0.],\n",
       "        [0., 0., 0., 0., 0., 0., 0., 0.],\n",
       "        [0., 0., 0., 0., 0., 0., 0., 0.],\n",
       "        [0., 9., 9., 9., 0., 1., 1., 1.],\n",
       "        [0., 9., 9., 9., 0., 1., 1., 1.],\n",
       "        [0., 9., 9., 9., 0., 1., 1., 1.]],\n",
       "\n",
       "       [[0., 1., 1., 1., 0., 1., 1., 1.],\n",
       "        [0., 1., 1., 1., 0., 1., 1., 1.],\n",
       "        [0., 1., 1., 1., 0., 1., 1., 1.],\n",
       "        [0., 1., 1., 1., 0., 1., 1., 1.],\n",
       "        [0., 1., 1., 1., 0., 1., 1., 1.],\n",
       "        [0., 0., 0., 0., 0., 0., 0., 0.],\n",
       "        [0., 9., 9., 0., 0., 0., 1., 1.],\n",
       "        [0., 9., 9., 0., 0., 0., 1., 1.]]])"
      ]
     },
     "execution_count": 64,
     "metadata": {},
     "output_type": "execute_result"
    }
   ],
   "source": [
    "frames_sys"
   ]
  },
  {
   "cell_type": "code",
   "execution_count": null,
   "metadata": {
    "ExecuteTime": {
     "end_time": "2019-07-04T05:57:47.056352Z",
     "start_time": "2019-07-04T05:53:02.013488Z"
    },
    "scrolled": false
   },
   "outputs": [],
   "source": [
    "# Specify rounded bounds of CPOL 1000 m gridded dataset \n",
    "lon_min = 130.40\n",
    "lon_max = 131.69\n",
    "\n",
    "lat_max = -11.61\n",
    "lat_min = -12.87\n",
    "\n",
    "grids = (pyart.io.read_grid(fn, include_fields = 'reflectivity') for fn in filenames)\n",
    "\n",
    "tmp_dir = tempfile.mkdtemp()\n",
    "\n",
    "# Animate low level tracks\n",
    "animate(tracks_obj, grids, os.path.join(tmp_dir, 'tracks_anim'),\n",
    "        lat_lines=np.arange(lat_min, lat_max, .1),\n",
    "        lon_lines=np.arange(lon_min, lon_max, .1),\n",
    "        tracers=True)\n",
    "\n",
    "embed_mp4_as_gif(os.path.join(tmp_dir, 'tracks_anim.mp4'))\n",
    "\n",
    "shutil.rmtree(tmp_dir)"
   ]
  },
  {
   "cell_type": "code",
   "execution_count": null,
   "metadata": {
    "ExecuteTime": {
     "end_time": "2019-07-04T06:27:28.794764Z",
     "start_time": "2019-07-04T06:27:28.639389Z"
    }
   },
   "outputs": [],
   "source": [
    "tracks_obj.tracks.groupby(level='uid').size().sort_values(ascending=False)[:10]"
   ]
  },
  {
   "cell_type": "code",
   "execution_count": null,
   "metadata": {
    "ExecuteTime": {
     "end_time": "2019-07-04T06:30:48.155489Z",
     "start_time": "2019-07-04T06:30:01.124150Z"
    },
    "scrolled": false
   },
   "outputs": [],
   "source": [
    "# Lagrangian Animation\n",
    "tmp_dir = tempfile.mkdtemp()\n",
    "\n",
    "grids = (pyart.io.read_grid(fn) for fn in filenames)  # refresh grid generator\n",
    "animate(tracks_obj, grids, os.path.join(tmp_dir, 'lagrangian'), style='lagrangian', uid='151', alt=1500)\n",
    "\n",
    "embed_mp4_as_gif(os.path.join(tmp_dir, 'lagrangian.mp4'))\n",
    "shutil.rmtree(tmp_dir)"
   ]
  },
  {
   "cell_type": "code",
   "execution_count": 68,
   "metadata": {
    "ExecuteTime": {
     "end_time": "2019-07-05T04:45:52.746232Z",
     "start_time": "2019-07-05T04:45:30.826398Z"
    }
   },
   "outputs": [],
   "source": [
    "grid_list = list(grids)"
   ]
  },
  {
   "cell_type": "code",
   "execution_count": 70,
   "metadata": {
    "ExecuteTime": {
     "end_time": "2019-07-05T04:46:03.615650Z",
     "start_time": "2019-07-05T04:46:03.605410Z"
    }
   },
   "outputs": [
    {
     "data": {
      "text/plain": [
       "141"
      ]
     },
     "execution_count": 70,
     "metadata": {},
     "output_type": "execute_result"
    }
   ],
   "source": [
    "grid_list[0].nx"
   ]
  },
  {
   "cell_type": "code",
   "execution_count": null,
   "metadata": {},
   "outputs": [],
   "source": []
  }
 ],
 "metadata": {
  "kernelspec": {
   "display_name": "Python [conda env:analysis3-19.04] *",
   "language": "python",
   "name": "conda-env-analysis3-19.04-py"
  },
  "language_info": {
   "codemirror_mode": {
    "name": "ipython",
    "version": 3
   },
   "file_extension": ".py",
   "mimetype": "text/x-python",
   "name": "python",
   "nbconvert_exporter": "python",
   "pygments_lexer": "ipython3",
   "version": "3.6.7"
  },
  "toc": {
   "base_numbering": 1,
   "nav_menu": {},
   "number_sections": true,
   "sideBar": true,
   "skip_h1_title": false,
   "title_cell": "Table of Contents",
   "title_sidebar": "Contents",
   "toc_cell": false,
   "toc_position": {},
   "toc_section_display": true,
   "toc_window_display": false
  }
 },
 "nbformat": 4,
 "nbformat_minor": 2
}
