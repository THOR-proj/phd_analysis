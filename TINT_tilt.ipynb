{
 "cells": [
  {
   "cell_type": "code",
   "execution_count": 1,
   "metadata": {
    "ExecuteTime": {
     "end_time": "2019-07-24T06:41:02.219656Z",
     "start_time": "2019-07-24T06:40:53.511753Z"
    }
   },
   "outputs": [
    {
     "name": "stdout",
     "output_type": "stream",
     "text": [
      "\n",
      "## You are using the Python ARM Radar Toolkit (Py-ART), an open source\n",
      "## library for working with weather radar data. Py-ART is partly\n",
      "## supported by the U.S. Department of Energy as part of the Atmospheric\n",
      "## Radiation Measurement (ARM) Climate Research Facility, an Office of\n",
      "## Science user facility.\n",
      "##\n",
      "## If you use this software to prepare a publication, please cite:\n",
      "##\n",
      "##     JJ Helmus and SM Collis, JORS 2016, doi: 10.5334/jors.119\n",
      "\n"
     ]
    },
    {
     "name": "stderr",
     "output_type": "stream",
     "text": [
      "/g/data3/hh5/public/apps/miniconda3/envs/analysis3-19.04/lib/python3.6/site-packages/pyart/graph/cm.py:104: FutureWarning: elementwise comparison failed; returning scalar instead, but in the future will perform elementwise comparison\n",
      "  if 'red' in spec:\n",
      "/g/data3/hh5/public/apps/miniconda3/envs/analysis3-19.04/lib/python3.6/site-packages/pyart/graph/cm_colorblind.py:32: FutureWarning: elementwise comparison failed; returning scalar instead, but in the future will perform elementwise comparison\n",
      "  if 'red' in spec:\n"
     ]
    }
   ],
   "source": [
    "# Core \n",
    "import datetime\n",
    "import os\n",
    "import glob\n",
    "import tempfile\n",
    "import shutil\n",
    "import sys\n",
    "import pickle\n",
    "import warnings\n",
    "\n",
    "# Analysis \n",
    "import xarray as xr\n",
    "import numpy as np\n",
    "import pandas as pd\n",
    "\n",
    "# Debugging \n",
    "import pdb, traceback\n",
    "%load_ext line_profiler\n",
    "\n",
    "# Radar Tools\n",
    "import pyart\n",
    "import tint\n",
    "from tint import animate"
   ]
  },
  {
   "cell_type": "code",
   "execution_count": 2,
   "metadata": {
    "ExecuteTime": {
     "end_time": "2019-07-24T06:41:02.235895Z",
     "start_time": "2019-07-24T06:41:02.224462Z"
    }
   },
   "outputs": [],
   "source": [
    "def CPOL_files_from_datetime_list(datetimes):\n",
    "    print('Gathering files.')\n",
    "    base = '/g/data/rr5/CPOL_radar/CPOL_level_1b/GRIDDED/GRID_70km_1000m/'\n",
    "    filenames = []\n",
    "    for i in range(len(datetimes)):\n",
    "        year = str(datetimes[i])[0:4]\n",
    "        month = str(datetimes[i])[5:7]\n",
    "        day = str(datetimes[i])[8:10]\n",
    "        hour = str(datetimes[i])[11:13]\n",
    "        minute = str(datetimes[i])[14:16]\n",
    "        filename = (base + '{0}/{0}{1}{2}/'.format(year, month, day) \n",
    "                    + 'CPOL_{0}{1}{2}'.format(year, month, day)\n",
    "                    + '_{}{}_GRIDS_1000m.nc'.format(hour, minute))\n",
    "        if os.path.isfile(filename):\n",
    "            filenames.append(filename)\n",
    "    \n",
    "    return sorted(filenames), datetimes[0], datetimes[-1]\n",
    "    \n",
    "def CPOL_files_from_TINT_obj(tracks_obj, uid):\n",
    "    datetimes = tracks_obj.system_tracks.xs(uid, level='uid')\n",
    "    datetimes = datetimes.reset_index(level='time')['time']\n",
    "    datetimes = list(datetimes.values)\n",
    "    [files, start_date, end_date] = CPOL_files_from_datetime_list(datetimes)\n",
    "    \n",
    "    return files, start_date, end_date"
   ]
  },
  {
   "cell_type": "code",
   "execution_count": 3,
   "metadata": {
    "ExecuteTime": {
     "end_time": "2019-07-24T05:53:20.523031Z",
     "start_time": "2019-07-24T05:53:20.146868Z"
    }
   },
   "outputs": [],
   "source": [
    "with open('/g/data/w40/esh563/CPOL_analysis/TINT_tracks/tracks_obj_45403030.pkl', 'rb') as f:\n",
    "    tracks_obj = pickle.load(f)"
   ]
  },
  {
   "cell_type": "code",
   "execution_count": null,
   "metadata": {
    "ExecuteTime": {
     "start_time": "2019-07-24T08:49:04.561Z"
    },
    "scrolled": true
   },
   "outputs": [
    {
     "name": "stdout",
     "output_type": "stream",
     "text": [
      "Gathering files.\n",
      "Writing tracks for scan 157.     \r"
     ]
    }
   ],
   "source": [
    "# Store filenames for an example day of data\n",
    "base = '/g/data/rr5/CPOL_radar/CPOL_level_1b/GRIDDED/GRID_70km_1000m/'\n",
    "\n",
    "filenames = CPOL_files_from_datetime_list(np.arange(np.datetime64('2010-11-01'), \n",
    "                                          np.datetime64('2011-04-01'), \n",
    "                                          np.timedelta64(10, 'm')))[0]\n",
    "# Generate grid generator \n",
    "# Note generators produce iterators\n",
    "# These are alternative to using lists and looping\n",
    "grids = (pyart.io.read_grid(fn, include_fields = 'reflectivity') \n",
    "         for fn in filenames)\n",
    "\n",
    "# Define settings for tracking\n",
    "settings = {\n",
    "    'MIN_SIZE' : [15, 15, 15, 15],\n",
    "    'FIELD_THRESH' : [45, 40, 30, 30],\n",
    "    'ISO_THRESH' : [25, 25, 10, 10],\n",
    "    'GS_ALT' : 1500,\n",
    "    'LEVELS' : np.array(\n",
    "        [[0, 2500], \n",
    "         [2500, 5000],\n",
    "         [5000, 7500],\n",
    "         [7500, 10000]]\n",
    "    ),\n",
    "    'TRACK_INTERVAL' : 0,\n",
    "}\n",
    "\n",
    "# Calculate high and low level tracks\n",
    "tracks_obj  = tint.Cell_tracks()\n",
    "\n",
    "for parameter in ['MIN_SIZE', 'FIELD_THRESH', 'GS_ALT', 'LEVELS', \n",
    "                  'TRACK_INTERVAL', 'ISO_THRESH'\n",
    "                 ]:\n",
    "    tracks_obj.params[parameter] = settings[parameter]\n",
    "\n",
    "# Calculate tracks\n",
    "tracks_obj.get_tracks(grids)\n",
    "\n",
    "# Create directory for figures\n",
    "dt=str(datetime.datetime.now())[0:-7]\n",
    "dt=dt.replace(\" \", \"_\")\n",
    "dt=dt.replace(\":\", \"_\")\n",
    "dt=dt.replace(\"-\", \"\")  \n",
    "\n",
    "out_file_name = ('/g/data/w40/esh563/CPOL_analysis/TINT_tracks/'\n",
    "                 + 'tracks_obj_{}.pkl'.format(dt))\n",
    "\n",
    "with open(out_file_name, 'wb') as f:\n",
    "    pickle.dump(tracks_obj, f)\n",
    "    \n",
    "# if __name__ == '__main__':\n",
    "#     try:\n",
    "#         test()\n",
    "#     except:\n",
    "#         extype, value, tb = sys.exc_info()\n",
    "#         traceback.print_exc()\n",
    "#         pdb.post_mortem(tb)"
   ]
  },
  {
   "cell_type": "code",
   "execution_count": 33,
   "metadata": {
    "ExecuteTime": {
     "end_time": "2019-07-24T08:44:43.677398Z",
     "start_time": "2019-07-24T08:44:16.249851Z"
    },
    "scrolled": true
   },
   "outputs": [
    {
     "name": "stdout",
     "output_type": "stream",
     "text": [
      "Gathering files.\n",
      "Animating from 2011-01-01T10:20:03.000000000 to 2011-01-01T12:10:03.000000000.\n",
      "Plotting scan at 2011-01-01T12:10:03.\n",
      "Creating GIF - may take a few minutes.\n"
     ]
    }
   ],
   "source": [
    "lon_min = 131.0 - 0.8\n",
    "lon_max = 131.0 + 0.8\n",
    "\n",
    "lat_max = -12.2 + 0.8\n",
    "lat_min = -12.2 - 0.8\n",
    "\n",
    "# [filenames, start_time, end_time] = CPOL_files_from_datetime_list(np.arange(np.datetime64('2006-02-09'), \n",
    "#                                                                 np.datetime64('2006-02-13'), \n",
    "#                                                                 np.timedelta64(10, 'm')))\n",
    "\n",
    "filenames, start_time, end_time = CPOL_files_from_TINT_obj(tracks_obj, '10')\n",
    "\n",
    "# Generate grid generator \n",
    "# Note generators produce iterators\n",
    "# These are alternative to using lists and looping\n",
    "grids = (pyart.io.read_grid(fn, include_fields = 'reflectivity')\n",
    "         for fn in filenames)\n",
    "\n",
    "# Create directory for figures\n",
    "dt=str(datetime.datetime.now())[0:-7]\n",
    "dt=dt.replace(\" \", \"_\")\n",
    "dt=dt.replace(\":\", \"_\")\n",
    "dt=dt.replace(\"-\", \"\")    \n",
    "\n",
    "base_path = '/g/data/w40/esh563/CPOL_analysis/figures/TINT/'\n",
    "out_path = base_path + dt + '_tint_CPOL_anim'\n",
    "\n",
    "animate(tracks_obj, grids, out_path,\n",
    "        start_datetime = start_time,\n",
    "        end_datetime = end_time,\n",
    "        lat_lines=np.arange(lat_min, lat_max, .1),\n",
    "        lon_lines=np.arange(lon_min, lon_max, .1),\n",
    "        tracers=True, keep_frames=False, dpi=100, alt=2500)"
   ]
  },
  {
   "cell_type": "code",
   "execution_count": 31,
   "metadata": {
    "ExecuteTime": {
     "end_time": "2019-07-24T08:44:01.595122Z",
     "start_time": "2019-07-24T08:44:01.578253Z"
    }
   },
   "outputs": [],
   "source": [
    "# Let's filter by tilt direction and magnitude\n",
    "forward_tilt = ((-45 <= tracks_obj.system_tracks['sys_rel_tilt_dir'])\n",
    "                & (tracks_obj.system_tracks['sys_rel_tilt_dir'] <= 45))\n",
    "backward_tilt = ((-45 >= tracks_obj.system_tracks['sys_rel_tilt_dir'])\n",
    "                | (tracks_obj.system_tracks['sys_rel_tilt_dir'] >= 45))\n",
    "left_tilt = ((45 <= tracks_obj.system_tracks['sys_rel_tilt_dir'])\n",
    "                & (tracks_obj.system_tracks['sys_rel_tilt_dir'] <= 135))\n",
    "right_tilt = ((-135 <= tracks_obj.system_tracks['sys_rel_tilt_dir'])\n",
    "                & (tracks_obj.system_tracks['sys_rel_tilt_dir'] <= -45))\n",
    "sig_tilt_mag = (tracks_obj.system_tracks['tilt_mag'] >= 2000)"
   ]
  },
  {
   "cell_type": "code",
   "execution_count": 37,
   "metadata": {
    "ExecuteTime": {
     "end_time": "2019-07-24T08:47:08.184770Z",
     "start_time": "2019-07-24T08:47:08.171877Z"
    }
   },
   "outputs": [
    {
     "data": {
      "text/plain": [
       "uid\n",
       "10    12\n",
       "19     9\n",
       "15     9\n",
       "21     6\n",
       "29     6\n",
       "16     6\n",
       "3      5\n",
       "20     4\n",
       "7      3\n",
       "8      3\n",
       "36     3\n",
       "25     2\n",
       "0      2\n",
       "34     2\n",
       "35     2\n",
       "12     2\n",
       "5      2\n",
       "1      2\n",
       "13     1\n",
       "17     1\n",
       "dtype: int64"
      ]
     },
     "execution_count": 37,
     "metadata": {},
     "output_type": "execute_result"
    }
   ],
   "source": [
    "# Let's find the cells that were tracked for the most frames\n",
    "tracks_obj.system_tracks.groupby(level='uid').size().sort_values(ascending=False)[:20]"
   ]
  },
  {
   "cell_type": "code",
   "execution_count": 14,
   "metadata": {
    "ExecuteTime": {
     "end_time": "2019-07-24T06:01:55.143464Z",
     "start_time": "2019-07-24T06:01:55.131383Z"
    }
   },
   "outputs": [
    {
     "data": {
      "text/plain": [
       "scan   time               \n",
       "10892  2015-01-31 19:30:02        NaN\n",
       "10893  2015-01-31 19:40:02    176.921\n",
       "10894  2015-01-31 19:50:02   -160.672\n",
       "10895  2015-01-31 20:00:01    -22.937\n",
       "10896  2015-01-31 20:10:06    -13.229\n",
       "10897  2015-01-31 20:20:02    -86.087\n",
       "10898  2015-01-31 20:30:02     -9.632\n",
       "10899  2015-01-31 20:40:02    -15.275\n",
       "10900  2015-01-31 20:50:02   -130.088\n",
       "10901  2015-01-31 21:00:02   -171.258\n",
       "10902  2015-01-31 21:10:06    -66.726\n",
       "10903  2015-01-31 21:20:02   -136.492\n",
       "10904  2015-01-31 21:30:02    -75.989\n",
       "10905  2015-01-31 21:40:03    123.494\n",
       "10906  2015-01-31 21:50:03   -163.507\n",
       "10907  2015-01-31 22:00:02   -119.481\n",
       "10908  2015-01-31 22:10:06     93.505\n",
       "10909  2015-01-31 22:20:01   -103.949\n",
       "10910  2015-01-31 22:30:02    -99.390\n",
       "10911  2015-01-31 22:40:01   -171.813\n",
       "10912  2015-01-31 22:50:02   -128.295\n",
       "10913  2015-01-31 23:00:02   -164.600\n",
       "10914  2015-01-31 23:10:06   -109.363\n",
       "10915  2015-01-31 23:20:02   -109.276\n",
       "10916  2015-01-31 23:30:02    113.234\n",
       "10917  2015-01-31 23:40:02   -134.426\n",
       "10918  2015-01-31 23:50:02    -86.586\n",
       "10919  2015-02-01 00:00:02    -19.147\n",
       "10920  2015-02-01 00:10:07   -143.971\n",
       "10921  2015-02-01 00:20:02    -11.621\n",
       "10922  2015-02-01 00:30:01   -108.511\n",
       "10923  2015-02-01 00:40:02    -66.613\n",
       "10924  2015-02-01 00:50:02   -159.427\n",
       "10925  2015-02-01 01:00:02    -95.930\n",
       "10926  2015-02-01 01:10:06   -100.262\n",
       "10927  2015-02-01 01:20:01   -152.738\n",
       "10928  2015-02-01 01:30:02   -179.251\n",
       "10929  2015-02-01 01:40:01    176.523\n",
       "10930  2015-02-01 01:50:02   -105.794\n",
       "10931  2015-02-01 02:00:02   -116.725\n",
       "10932  2015-02-01 02:10:06    -88.953\n",
       "10933  2015-02-01 02:20:02    -80.207\n",
       "10934  2015-02-01 02:30:02   -130.417\n",
       "10935  2015-02-01 02:40:03   -123.636\n",
       "10936  2015-02-01 02:50:02   -108.039\n",
       "10937  2015-02-01 03:00:02   -115.087\n",
       "10938  2015-02-01 03:10:07   -106.604\n",
       "10939  2015-02-01 03:20:03    163.120\n",
       "10940  2015-02-01 03:30:01    -69.864\n",
       "10941  2015-02-01 03:40:01    -87.108\n",
       "10942  2015-02-01 03:50:02   -160.114\n",
       "10943  2015-02-01 04:00:02   -114.274\n",
       "10944  2015-02-01 04:10:06   -124.361\n",
       "10945  2015-02-01 04:20:02   -126.532\n",
       "10946  2015-02-01 04:30:02   -132.898\n",
       "10947  2015-02-01 04:40:02    147.832\n",
       "10948  2015-02-01 04:50:02    118.712\n",
       "10949  2015-02-01 05:00:02   -132.980\n",
       "10950  2015-02-01 05:10:07   -157.994\n",
       "Name: sys_rel_tilt_dir, dtype: float64"
      ]
     },
     "execution_count": 14,
     "metadata": {},
     "output_type": "execute_result"
    }
   ],
   "source": [
    "tracks_obj.system_tracks['sys_rel_tilt_dir'].xs('570', level='uid')"
   ]
  },
  {
   "cell_type": "code",
   "execution_count": 38,
   "metadata": {
    "ExecuteTime": {
     "end_time": "2019-07-24T08:47:37.506057Z",
     "start_time": "2019-07-24T08:47:18.631512Z"
    }
   },
   "outputs": [
    {
     "name": "stdout",
     "output_type": "stream",
     "text": [
      "Gathering files.\n",
      "Animating 9 frames\n",
      "Plotting frame at 2011-01-03T02:00:05\n",
      "Creating GIF - may take a few minutes.\n"
     ]
    }
   ],
   "source": [
    "uid = '19'\n",
    "\n",
    "filenames, start_time, end_time = CPOL_files_from_TINT_obj(tracks_obj, uid)\n",
    "\n",
    "grids = (pyart.io.read_grid(fn) for fn in filenames)  # refresh grid generator\n",
    "\n",
    "# Create directory for figures\n",
    "dt=str(datetime.datetime.now())[0:-7]\n",
    "dt=dt.replace(\" \", \"_\")\n",
    "dt=dt.replace(\":\", \"_\")\n",
    "dt=dt.replace(\"-\", \"\")\n",
    "\n",
    "base_path = '/g/data/w40/esh563/CPOL_analysis/figures/TINT/'\n",
    "out_path = base_path + dt + '_tint_CPOL_lagrangian'\n",
    "animate(tracks_obj, grids, out_path, style='lagrangian', uid=uid, alt=3000,\n",
    "        keep_frames=False, dpi=100)"
   ]
  },
  {
   "cell_type": "code",
   "execution_count": null,
   "metadata": {},
   "outputs": [],
   "source": []
  }
 ],
 "metadata": {
  "kernelspec": {
   "display_name": "Python [conda env:analysis3-19.04]",
   "language": "python",
   "name": "conda-env-analysis3-19.04-py"
  },
  "language_info": {
   "codemirror_mode": {
    "name": "ipython",
    "version": 3
   },
   "file_extension": ".py",
   "mimetype": "text/x-python",
   "name": "python",
   "nbconvert_exporter": "python",
   "pygments_lexer": "ipython3",
   "version": "3.6.7"
  },
  "toc": {
   "base_numbering": 1,
   "nav_menu": {},
   "number_sections": true,
   "sideBar": true,
   "skip_h1_title": false,
   "title_cell": "Table of Contents",
   "title_sidebar": "Contents",
   "toc_cell": false,
   "toc_position": {},
   "toc_section_display": true,
   "toc_window_display": false
  }
 },
 "nbformat": 4,
 "nbformat_minor": 2
}
