{
 "cells": [
  {
   "cell_type": "code",
   "execution_count": null,
   "metadata": {
    "ExecuteTime": {
     "end_time": "2019-07-04T09:02:23.644391Z",
     "start_time": "2019-07-04T09:02:02.016338Z"
    }
   },
   "outputs": [],
   "source": [
    "# Core \n",
    "import datetime\n",
    "import os\n",
    "import glob\n",
    "from IPython.display import HTML, Image, display\n",
    "import tempfile\n",
    "import shutil\n",
    "\n",
    "# Analysis \n",
    "import xarray as xr\n",
    "import numpy as np\n",
    "import pyproj as pp\n",
    "import scipy as sp\n",
    "import metpy as mp\n",
    "import networkx \n",
    "from networkx.algorithms.components.connected import connected_components\n",
    "\n",
    "# Plotting \n",
    "import cartopy.crs as ccrs\n",
    "from cartopy.mpl.gridliner import LONGITUDE_FORMATTER, LATITUDE_FORMATTER\n",
    "import cartopy.feature as cfeature\n",
    "import matplotlib.pyplot as plt\n",
    "from matplotlib import rcParams\n",
    "import matplotlib.ticker as mticker\n",
    "from matplotlib.animation import FuncAnimation\n",
    "import matplotlib.colors as colors\n",
    "\n",
    "# Debugging \n",
    "import pdb\n",
    "%load_ext line_profiler\n",
    "\n",
    "# Radar Tools\n",
    "import pyart\n",
    "import tint\n",
    "from tint.data_utils import get_nexrad_keys, read_nexrad_key\n",
    "from tint import Cell_tracks, animate\n",
    "from tint.visualization import embed_mp4_as_gif"
   ]
  },
  {
   "cell_type": "code",
   "execution_count": null,
   "metadata": {
    "ExecuteTime": {
     "end_time": "2019-07-04T08:06:27.351008Z",
     "start_time": "2019-07-04T07:06:42.776806Z"
    }
   },
   "outputs": [],
   "source": [
    "# Store filenames for an example day of data\n",
    "filenames = sorted(glob.glob('/g/data/rr5/CPOL_radar/CPOL_level_1b/GRIDDED/GRID_70km_1000m/2016/20161220/*.nc'))\n",
    "# Generate grid generator (generators produce iterators - alternative to using lists and looping)\n",
    "grids = (pyart.io.read_grid(fn, include_fields = 'reflectivity') for fn in filenames)\n",
    "\n",
    "# Define settings for tracking\n",
    "settings = {\n",
    "    'MIN_SIZE' : 30, \n",
    "    'FIELD_THRESH' : 20,\n",
    "    'GS_ALT' : 1500,\n",
    "    'LEVELS' : np.array(\n",
    "        [[0, 3000], [3000, 6000]]\n",
    "    )\n",
    "}\n",
    "\n",
    "# Calculate high and low level tracks\n",
    "tracks_obj  = Cell_tracks()\n",
    "\n",
    "for parameter in ['MIN_SIZE', 'FIELD_THRESH', 'GS_ALT', 'LEVELS']:\n",
    "    tracks_obj.params[parameter] = settings[parameter]\n",
    "\n",
    "# Calculate tracks\n",
    "tracks_obj.get_tracks(grids)"
   ]
  },
  {
   "cell_type": "code",
   "execution_count": null,
   "metadata": {
    "ExecuteTime": {
     "end_time": "2019-07-04T09:04:16.163145Z",
     "start_time": "2019-07-04T09:04:16.142123Z"
    }
   },
   "outputs": [],
   "source": [
    "upper = np.array([\n",
    "    [0, 1, 1, 1, 0, 2, 2, 2],\n",
    "    [0, 1, 1, 1, 0, 2, 2, 2],\n",
    "    [0, 1, 1, 1, 0, 2, 2, 2],\n",
    "    [0, 1, 1, 1, 0, 2, 2, 2],\n",
    "    [0, 1, 1, 1, 0, 2, 2, 2],\n",
    "    [0, 0, 0, 0, 0, 0, 0, 0],\n",
    "    [0, 3, 3, 0, 0, 0, 4, 4],\n",
    "    [0, 3, 3, 0, 0, 0, 4, 4],\n",
    "])\n",
    "\n",
    "lower = np.array([\n",
    "    [0, 1, 1, 1, 1, 1, 1, 4],\n",
    "    [0, 1, 1, 1, 1, 1, 1, 4],\n",
    "    [0, 0, 0, 0, 0, 0, 0, 0],\n",
    "    [0, 0, 0, 0, 0, 0, 0, 0],\n",
    "    [0, 0, 0, 0, 0, 0, 0, 0],\n",
    "    [0, 3, 3, 3, 0, 2, 2, 2],\n",
    "    [0, 3, 3, 3, 0, 2, 2, 2],\n",
    "    [0, 3, 3, 3, 0, 2, 2, 2],\n",
    "])"
   ]
  },
  {
   "cell_type": "code",
   "execution_count": null,
   "metadata": {
    "ExecuteTime": {
     "end_time": "2019-07-04T09:04:17.168265Z",
     "start_time": "2019-07-04T09:04:17.143083Z"
    }
   },
   "outputs": [],
   "source": [
    "print(upper.max())\n",
    "\n",
    "overlapped_objects = [set(range(1, lower.max()+1))] * upper.max()\n",
    "print(overlapped_objects)\n",
    "\n",
    "for i in range(upper.max()):\n",
    "    overlapped_objects[i] = set(\n",
    "        (upper.max() + lower[np.logical_and(upper == (i+1), lower > 0)]).flatten()\n",
    "    )\n",
    "    print(str(i))\n",
    "    print(set(lower[upper==(i+1)].flatten()))\n",
    "    \n",
    "overlapped_objects\n",
    "# Loop through overlapped objects.\n",
    "    # \n",
    "\n",
    "    "
   ]
  },
  {
   "cell_type": "code",
   "execution_count": null,
   "metadata": {
    "ExecuteTime": {
     "end_time": "2019-07-04T08:31:13.514249Z",
     "start_time": "2019-07-04T08:31:13.504190Z"
    }
   },
   "outputs": [],
   "source": [
    "range(1,upper.max()+1)"
   ]
  },
  {
   "cell_type": "code",
   "execution_count": null,
   "metadata": {
    "ExecuteTime": {
     "end_time": "2019-07-04T09:18:51.121547Z",
     "start_time": "2019-07-04T09:18:51.112238Z"
    }
   },
   "outputs": [],
   "source": [
    "list(overlapped_objects[i])[0]"
   ]
  },
  {
   "cell_type": "code",
   "execution_count": null,
   "metadata": {
    "ExecuteTime": {
     "end_time": "2019-07-04T09:25:40.255599Z",
     "start_time": "2019-07-04T09:25:40.246416Z"
    }
   },
   "outputs": [],
   "source": [
    "len(overlapped_objects[1])"
   ]
  },
  {
   "cell_type": "code",
   "execution_count": null,
   "metadata": {
    "ExecuteTime": {
     "end_time": "2019-07-04T09:29:57.652095Z",
     "start_time": "2019-07-04T09:29:57.632651Z"
    }
   },
   "outputs": [],
   "source": [
    "overlap_graph = networkx.Graph()\n",
    "overlap_graph.add_nodes_from(set(range(1, upper.max()+1)))\n",
    "for i in range(0, len(overlapped_objects)):\n",
    "    overlap_graph.add_nodes_from(overlapped_objects[i])\n",
    "    overlap_graph.add_edges_from([(i+1,list(overlapped_objects[i])[0])])\n",
    "    for j in range(0, len(overlapped_objects[i])-1):\n",
    "        overlap_graph.add_edges_from(\n",
    "            [(list(overlapped_objects[i])[j], list(overlapped_objects[i])[j+1])]\n",
    "        )\n",
    "list(connected_components(overlap_graph))"
   ]
  },
  {
   "cell_type": "code",
   "execution_count": null,
   "metadata": {
    "ExecuteTime": {
     "end_time": "2019-07-04T09:28:15.411368Z",
     "start_time": "2019-07-04T09:28:15.404133Z"
    }
   },
   "outputs": [],
   "source": [
    "overlap_graph.edges"
   ]
  },
  {
   "cell_type": "code",
   "execution_count": null,
   "metadata": {
    "ExecuteTime": {
     "end_time": "2019-07-04T09:17:36.834171Z",
     "start_time": "2019-07-04T09:17:36.822137Z"
    }
   },
   "outputs": [],
   "source": [
    "set(range(1, upper.max()+1))"
   ]
  },
  {
   "cell_type": "code",
   "execution_count": null,
   "metadata": {
    "ExecuteTime": {
     "end_time": "2019-07-04T08:46:16.121851Z",
     "start_time": "2019-07-04T08:46:16.115664Z"
    }
   },
   "outputs": [],
   "source": [
    "len(overlapped_objects[2].intersection(overlapped_objects[1]))>0"
   ]
  },
  {
   "cell_type": "code",
   "execution_count": null,
   "metadata": {
    "ExecuteTime": {
     "end_time": "2019-07-04T05:52:16.554429Z",
     "start_time": "2019-07-04T05:52:16.433934Z"
    }
   },
   "outputs": [],
   "source": [
    "tracks_obj.tracks"
   ]
  },
  {
   "cell_type": "code",
   "execution_count": null,
   "metadata": {
    "ExecuteTime": {
     "end_time": "2019-07-04T05:57:47.056352Z",
     "start_time": "2019-07-04T05:53:02.013488Z"
    },
    "scrolled": false
   },
   "outputs": [],
   "source": [
    "# Specify rounded bounds of CPOL 1000 m gridded dataset \n",
    "lon_min = 130.40\n",
    "lon_max = 131.69\n",
    "\n",
    "lat_max = -11.61\n",
    "lat_min = -12.87\n",
    "\n",
    "grids = (pyart.io.read_grid(fn, include_fields = 'reflectivity') for fn in filenames)\n",
    "\n",
    "tmp_dir = tempfile.mkdtemp()\n",
    "\n",
    "# Animate low level tracks\n",
    "animate(tracks_obj, grids, os.path.join(tmp_dir, 'tracks_anim'),\n",
    "        lat_lines=np.arange(lat_min, lat_max, .1),\n",
    "        lon_lines=np.arange(lon_min, lon_max, .1),\n",
    "        tracers=True)\n",
    "\n",
    "embed_mp4_as_gif(os.path.join(tmp_dir, 'tracks_anim.mp4'))\n",
    "\n",
    "shutil.rmtree(tmp_dir)"
   ]
  },
  {
   "cell_type": "code",
   "execution_count": null,
   "metadata": {
    "ExecuteTime": {
     "end_time": "2019-07-04T06:27:28.794764Z",
     "start_time": "2019-07-04T06:27:28.639389Z"
    }
   },
   "outputs": [],
   "source": [
    "tracks_obj.tracks.groupby(level='uid').size().sort_values(ascending=False)[:10]"
   ]
  },
  {
   "cell_type": "code",
   "execution_count": null,
   "metadata": {
    "ExecuteTime": {
     "end_time": "2019-07-04T06:30:48.155489Z",
     "start_time": "2019-07-04T06:30:01.124150Z"
    },
    "scrolled": false
   },
   "outputs": [],
   "source": [
    "# Lagrangian Animation\n",
    "tmp_dir = tempfile.mkdtemp()\n",
    "\n",
    "grids = (pyart.io.read_grid(fn) for fn in filenames)  # refresh grid generator\n",
    "animate(tracks_obj, grids, os.path.join(tmp_dir, 'lagrangian'), style='lagrangian', uid='151', alt=1500)\n",
    "\n",
    "embed_mp4_as_gif(os.path.join(tmp_dir, 'lagrangian.mp4'))\n",
    "shutil.rmtree(tmp_dir)"
   ]
  },
  {
   "cell_type": "code",
   "execution_count": null,
   "metadata": {},
   "outputs": [],
   "source": []
  },
  {
   "cell_type": "code",
   "execution_count": null,
   "metadata": {},
   "outputs": [],
   "source": []
  },
  {
   "cell_type": "code",
   "execution_count": null,
   "metadata": {
    "ExecuteTime": {
     "end_time": "2019-07-04T05:22:09.035920Z",
     "start_time": "2019-07-04T05:22:09.026728Z"
    }
   },
   "outputs": [],
   "source": [
    "test[0,1]"
   ]
  },
  {
   "cell_type": "code",
   "execution_count": null,
   "metadata": {
    "ExecuteTime": {
     "end_time": "2019-07-04T05:22:03.428570Z",
     "start_time": "2019-07-04T05:22:03.423766Z"
    }
   },
   "outputs": [],
   "source": [
    "test=np.array([[10, 20], [2, 30]])"
   ]
  }
 ],
 "metadata": {
  "kernelspec": {
   "display_name": "Python [conda env:analysis3-19.04] *",
   "language": "python",
   "name": "conda-env-analysis3-19.04-py"
  },
  "language_info": {
   "codemirror_mode": {
    "name": "ipython",
    "version": 3
   },
   "file_extension": ".py",
   "mimetype": "text/x-python",
   "name": "python",
   "nbconvert_exporter": "python",
   "pygments_lexer": "ipython3",
   "version": "3.6.7"
  },
  "toc": {
   "base_numbering": 1,
   "nav_menu": {},
   "number_sections": true,
   "sideBar": true,
   "skip_h1_title": false,
   "title_cell": "Table of Contents",
   "title_sidebar": "Contents",
   "toc_cell": false,
   "toc_position": {},
   "toc_section_display": true,
   "toc_window_display": false
  }
 },
 "nbformat": 4,
 "nbformat_minor": 2
}
