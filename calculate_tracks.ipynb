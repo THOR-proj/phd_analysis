{
 "cells": [
  {
   "cell_type": "markdown",
   "metadata": {},
   "source": [
    "# Setup"
   ]
  },
  {
   "cell_type": "code",
   "execution_count": 28,
   "metadata": {
    "ExecuteTime": {
     "end_time": "2022-06-13T09:29:01.573690Z",
     "start_time": "2022-06-13T09:29:01.529093Z"
    }
   },
   "outputs": [],
   "source": [
    "import sys\n",
    "sys.path.insert(\n",
    "    0, '/home/student.unimelb.edu.au/shorte1/Documents/TINT')"
   ]
  },
  {
   "cell_type": "code",
   "execution_count": 29,
   "metadata": {
    "ExecuteTime": {
     "end_time": "2022-06-13T09:29:01.700008Z",
     "start_time": "2022-06-13T09:29:01.687487Z"
    }
   },
   "outputs": [],
   "source": [
    "import sys\n",
    "sys.path.insert(0, '/home/563/esh563/TINT')"
   ]
  },
  {
   "cell_type": "code",
   "execution_count": 30,
   "metadata": {
    "ExecuteTime": {
     "end_time": "2022-06-13T09:29:01.971866Z",
     "start_time": "2022-06-13T09:29:01.915528Z"
    }
   },
   "outputs": [
    {
     "name": "stdout",
     "output_type": "stream",
     "text": [
      "The autoreload extension is already loaded. To reload it, use:\n",
      "  %reload_ext autoreload\n",
      "Automatic pdb calling has been turned OFF\n"
     ]
    }
   ],
   "source": [
    "# Core\n",
    "import datetime\n",
    "import os\n",
    "import glob\n",
    "import tempfile\n",
    "import pickle\n",
    "import copy\n",
    "\n",
    "# Analysis\n",
    "import numpy as np\n",
    "import pandas as pd\n",
    "import xarray as xr\n",
    "\n",
    "# Plotting\n",
    "import matplotlib.pyplot as plt\n",
    "import matplotlib as mpl\n",
    "\n",
    "# Debugging\n",
    "import pdb, traceback\n",
    "# %load_ext line_profiler\n",
    "\n",
    "# Radar Tools\n",
    "import pyart\n",
    "import tint\n",
    "# import tint.animate\n",
    "# from tint.visualisation import animate\n",
    "\n",
    "import CPOL_func as cf\n",
    "import caine_func as caf\n",
    "import analysis\n",
    "\n",
    "# Convenience functions\n",
    "%load_ext autoreload\n",
    "%autoreload 1\n",
    "%aimport CPOL_func\n",
    "%aimport caine_func\n",
    "%aimport tint.visualisation.figures\n",
    "%aimport tint.visualisation.animate\n",
    "%aimport tint.visualisation.horizontal_helpers\n",
    "%aimport tint.visualisation.vertical_helpers\n",
    "%aimport tint.tracks\n",
    "%aimport tint.objects\n",
    "%aimport tint.grid_utils\n",
    "%aimport tint.steiner\n",
    "%aimport tint.matching\n",
    "%aimport tint.rain\n",
    "%aimport tint.cells\n",
    "%aimport tint.tracks_helpers\n",
    "%aimport tint.process_ERA5\n",
    "%aimport tint.process_WRF\n",
    "\n",
    "%pdb"
   ]
  },
  {
   "cell_type": "code",
   "execution_count": 31,
   "metadata": {
    "ExecuteTime": {
     "end_time": "2022-06-13T09:29:03.933902Z",
     "start_time": "2022-06-13T09:29:03.922485Z"
    },
    "scrolled": true
   },
   "outputs": [],
   "source": [
    "base_dir = '/media/shorte1/Ewan\\'s Hard Drive/phd/data/CPOL/'\n",
    "save_dir = '/home/student.unimelb.edu.au/shorte1/Documents/TINT_tracks/'\n",
    "fig_dir = '/home/student.unimelb.edu.au/shorte1/Documents/TINT_figures/'\n",
    "ERA5_dir = '/media/shorte1/Ewan\\'s Hard Drive/phd/data/era5/'\n",
    "ERA5_dir += 'pressure-levels/reanalysis/'\n",
    "WRF_dir = '/media/shorte1/Ewan\\'s Hard Drive/phd/data/caine_WRF_data/'"
   ]
  },
  {
   "cell_type": "code",
   "execution_count": 5,
   "metadata": {
    "ExecuteTime": {
     "end_time": "2022-06-09T05:45:47.743273Z",
     "start_time": "2022-06-09T05:45:47.739428Z"
    }
   },
   "outputs": [],
   "source": [
    "base_dir = '/g/data/hj10/cpol/cpol_level_1b/v2020/gridded/grid_150km_2500m/'\n",
    "save_dir = '/home/563/esh563/TINT_tracks/'\n",
    "fig_dir = '/home/563/esh563/TINT_figures/'\n",
    "ERA5_dir = '/g/data/rt52/era5/pressure-levels/reanalysis/'"
   ]
  },
  {
   "cell_type": "code",
   "execution_count": 4,
   "metadata": {
    "ExecuteTime": {
     "end_time": "2022-06-10T00:40:54.526127Z",
     "start_time": "2022-06-10T00:40:54.518122Z"
    }
   },
   "outputs": [
    {
     "name": "stdout",
     "output_type": "stream",
     "text": [
      "Gathering files.\n"
     ]
    }
   ],
   "source": [
    "dates = np.arange(\n",
    "    np.datetime64('2005-11-28 23:00'),\n",
    "    np.datetime64('2005-11-29 01:00'),\n",
    "    np.timedelta64(10, 'm'))\n",
    "\n",
    "filenames, start_time, end_time = cf.CPOL_files_from_datetime_list(\n",
    "    dates, base_dir=base_dir)\n",
    "\n",
    "micro_physics = 'cpol'\n",
    "\n",
    "tracks_obj  = tint.Tracks(params = {\n",
    "    'GS_ALT': 1000,\n",
    "    'LEVELS': np.array(\n",
    "        [[1000, 1500], [500, 20000]]),\n",
    "    'WIND_LEVELS': np.array(\n",
    "        [[500, 3500], [500, 20000]]),\n",
    "    'FIELD_THRESH': ['convective', 15],\n",
    "    'MIN_SIZE': [80, 800],\n",
    "    'ISO_THRESH': [10, 10],\n",
    "    'AMBIENT': 'ERA5',\n",
    "    'AMBIENT_BASE_DIR': ERA5_dir,\n",
    "    'AMBIENT_TIMESTEP': 6,\n",
    "    'SAVE_DIR': save_dir,\n",
    "    'RESET_NEW_DAY': True})"
   ]
  },
  {
   "cell_type": "code",
   "execution_count": 6,
   "metadata": {
    "ExecuteTime": {
     "end_time": "2022-06-09T06:43:53.164542Z",
     "start_time": "2022-06-09T06:43:53.090141Z"
    }
   },
   "outputs": [
    {
     "name": "stdout",
     "output_type": "stream",
     "text": [
      "Gathering files.\n"
     ]
    }
   ],
   "source": [
    "micro_physics = 'lin'\n",
    "\n",
    "dates = np.arange(\n",
    "    np.datetime64('2006-02-08 12:00'), \n",
    "    np.datetime64('2006-02-13 10:10'),\n",
    "    np.timedelta64(10, 'm'))\n",
    "\n",
    "filenames, start_time, end_time = caf.caine_files_from_datetime_list(\n",
    "    dates, micro_physics=micro_physics, \n",
    "    base_dir=WRF_dir)\n",
    "\n",
    "tracks_obj  = tint.Tracks(params={\n",
    "    'AMBIENT': 'WRF', 'AMBIENT_BASE_DIR': WRF_dir + 'lind02/'})"
   ]
  },
  {
   "cell_type": "code",
   "execution_count": 7,
   "metadata": {
    "ExecuteTime": {
     "end_time": "2022-06-09T06:43:56.815803Z",
     "start_time": "2022-06-09T06:43:53.590112Z"
    }
   },
   "outputs": [
    {
     "name": "stdout",
     "output_type": "stream",
     "text": [
      "Gathering files.\n"
     ]
    }
   ],
   "source": [
    "micro_physics = 'thompson'\n",
    "\n",
    "dates = np.arange(\n",
    "    np.datetime64('2006-02-08 12:00'), \n",
    "    np.datetime64('2006-02-13 10:10'),\n",
    "    np.timedelta64(10, 'm'))\n",
    "\n",
    "filenames, start_time, end_time = caf.caine_files_from_datetime_list(\n",
    "    dates, micro_physics=micro_physics, \n",
    "    base_dir=WRF_dir)\n",
    "\n",
    "tracks_obj  = tint.Tracks(params={\n",
    "    'AMBIENT': 'WRF', 'AMBIENT_BASE_DIR': WRF_dir + 'thompsond02/'})"
   ]
  },
  {
   "cell_type": "markdown",
   "metadata": {},
   "source": [
    "# Create Tracks"
   ]
  },
  {
   "cell_type": "code",
   "execution_count": 5,
   "metadata": {
    "ExecuteTime": {
     "end_time": "2022-06-10T00:40:59.737788Z",
     "start_time": "2022-06-10T00:40:59.732817Z"
    }
   },
   "outputs": [],
   "source": [
    "b_path = '/home/student.unimelb.edu.au/shorte1/Documents/'\n",
    "b_path += 'CPOL_analysis/circ_b_ind_set.pkl'\n",
    "with open(b_path, 'rb') as f:\n",
    "    b_ind_set = pickle.load(f)"
   ]
  },
  {
   "cell_type": "code",
   "execution_count": 6,
   "metadata": {
    "ExecuteTime": {
     "end_time": "2022-06-10T00:41:20.888898Z",
     "start_time": "2022-06-10T00:41:20.883882Z"
    }
   },
   "outputs": [],
   "source": [
    "def gen_tracks(tracks_obj, filenames, b_path=None):\n",
    "\n",
    "    grids = (\n",
    "        pyart.io.read_grid(fn, include_fields = ['reflectivity'])\n",
    "        for fn in filenames)\n",
    "    \n",
    "      \n",
    "    tracks_obj.get_tracks(grids, b_path=b_path)\n",
    "        \n",
    "    return tracks_obj"
   ]
  },
  {
   "cell_type": "code",
   "execution_count": 7,
   "metadata": {
    "ExecuteTime": {
     "end_time": "2022-06-10T00:41:37.670821Z",
     "start_time": "2022-06-10T00:41:24.838373Z"
    },
    "scrolled": true
   },
   "outputs": [
    {
     "name": "stderr",
     "output_type": "stream",
     "text": [
      "/home/student.unimelb.edu.au/shorte1/anaconda3/envs/CPOL_analysis/lib/python3.8/site-packages/numba/core/consts.py:114: DeprecationWarning: `np.int` is a deprecated alias for the builtin `int`. To silence this warning, use `int` by itself. Doing this will not modify any behavior and is safe. When replacing `np.int`, you may wish to use e.g. `np.int64` or `np.int32` to specify the precision. If you wish to review your current use, check the release note link for additional information.\n",
      "Deprecated in NumPy 1.20; for more details and guidance: https://numpy.org/devdocs/release/1.20.0-notes.html#deprecations\n",
      "  return getattr(value, expr.attr)\n",
      "/home/student.unimelb.edu.au/shorte1/anaconda3/envs/CPOL_analysis/lib/python3.8/site-packages/numba/core/ir_utils.py:2097: DeprecationWarning: `np.int` is a deprecated alias for the builtin `int`. To silence this warning, use `int` by itself. Doing this will not modify any behavior and is safe. When replacing `np.int`, you may wish to use e.g. `np.int64` or `np.int32` to specify the precision. If you wish to review your current use, check the release note link for additional information.\n",
      "Deprecated in NumPy 1.20; for more details and guidance: https://numpy.org/devdocs/release/1.20.0-notes.html#deprecations\n",
      "  defn = getattr(defn, x, False)\n",
      "/home/student.unimelb.edu.au/shorte1/anaconda3/envs/CPOL_analysis/lib/python3.8/site-packages/numba/core/ir_utils.py:2097: DeprecationWarning: `np.int` is a deprecated alias for the builtin `int`. To silence this warning, use `int` by itself. Doing this will not modify any behavior and is safe. When replacing `np.int`, you may wish to use e.g. `np.int64` or `np.int32` to specify the precision. If you wish to review your current use, check the release note link for additional information.\n",
      "Deprecated in NumPy 1.20; for more details and guidance: https://numpy.org/devdocs/release/1.20.0-notes.html#deprecations\n",
      "  defn = getattr(defn, x, False)\n",
      "/home/student.unimelb.edu.au/shorte1/anaconda3/envs/CPOL_analysis/lib/python3.8/site-packages/numba/core/typing/context.py:338: DeprecationWarning: `np.int` is a deprecated alias for the builtin `int`. To silence this warning, use `int` by itself. Doing this will not modify any behavior and is safe. When replacing `np.int`, you may wish to use e.g. `np.int64` or `np.int32` to specify the precision. If you wish to review your current use, check the release note link for additional information.\n",
      "Deprecated in NumPy 1.20; for more details and guidance: https://numpy.org/devdocs/release/1.20.0-notes.html#deprecations\n",
      "  attrval = getattr(typ.pymod, attr)\n",
      "/home/student.unimelb.edu.au/shorte1/anaconda3/envs/CPOL_analysis/lib/python3.8/site-packages/numba/core/typing/context.py:338: DeprecationWarning: `np.int` is a deprecated alias for the builtin `int`. To silence this warning, use `int` by itself. Doing this will not modify any behavior and is safe. When replacing `np.int`, you may wish to use e.g. `np.int64` or `np.int32` to specify the precision. If you wish to review your current use, check the release note link for additional information.\n",
      "Deprecated in NumPy 1.20; for more details and guidance: https://numpy.org/devdocs/release/1.20.0-notes.html#deprecations\n",
      "  attrval = getattr(typ.pymod, attr)\n",
      "/home/student.unimelb.edu.au/shorte1/anaconda3/envs/CPOL_analysis/lib/python3.8/site-packages/numba/core/typing/context.py:338: DeprecationWarning: `np.int` is a deprecated alias for the builtin `int`. To silence this warning, use `int` by itself. Doing this will not modify any behavior and is safe. When replacing `np.int`, you may wish to use e.g. `np.int64` or `np.int32` to specify the precision. If you wish to review your current use, check the release note link for additional information.\n",
      "Deprecated in NumPy 1.20; for more details and guidance: https://numpy.org/devdocs/release/1.20.0-notes.html#deprecations\n",
      "  attrval = getattr(typ.pymod, attr)\n",
      "/home/student.unimelb.edu.au/shorte1/anaconda3/envs/CPOL_analysis/lib/python3.8/site-packages/numba/core/typing/context.py:338: DeprecationWarning: `np.int` is a deprecated alias for the builtin `int`. To silence this warning, use `int` by itself. Doing this will not modify any behavior and is safe. When replacing `np.int`, you may wish to use e.g. `np.int64` or `np.int32` to specify the precision. If you wish to review your current use, check the release note link for additional information.\n",
      "Deprecated in NumPy 1.20; for more details and guidance: https://numpy.org/devdocs/release/1.20.0-notes.html#deprecations\n",
      "  attrval = getattr(typ.pymod, attr)\n"
     ]
    },
    {
     "name": "stdout",
     "output_type": "stream",
     "text": [
      "Getting ERA5 metadata.\n",
      "Restricting ERA5 data to 6 hour timestep\n",
      "Getting interpolated ERA5 for next 6 hours.\n",
      "Writing tracks for scan 0.\n",
      "Writing tracks for scan 1.\n",
      "Writing tracks for scan 2.\n",
      "Writing tracks for scan 3.\n",
      "Writing tracks for scan 4.\n",
      "Scan 5 last before new day.\n",
      "New day at 2005-11-29. Resetting objects.\n",
      "Getting interpolated ERA5 for next 6 hours.\n",
      "Writing tracks for scan 6.\n",
      "Writing tracks for scan 7.\n",
      "Writing tracks for scan 8.\n",
      "Writing tracks for scan 9.\n",
      "Writing tracks for scan 10.\n",
      "Writing tracks for scan 11.\n",
      "Calculating additional tracks properties.\n",
      "Calculating system tracks.\n",
      "Time elapsed: 0.2 minutes\n"
     ]
    }
   ],
   "source": [
    "tracks_obj = gen_tracks(tracks_obj, filenames, b_path=b_path)"
   ]
  },
  {
   "cell_type": "code",
   "execution_count": 27,
   "metadata": {
    "ExecuteTime": {
     "end_time": "2022-06-10T00:44:25.296280Z",
     "start_time": "2022-06-10T00:44:23.486876Z"
    }
   },
   "outputs": [
    {
     "name": "stdout",
     "output_type": "stream",
     "text": [
      "Generating figure for 2005-11-29T00:40.\n"
     ]
    },
    {
     "data": {
      "image/png": "[encoded data removed]",
      "text/plain": [
       "<Figure size 1584x576 with 3 Axes>"
      ]
     },
     "metadata": {
      "needs_background": "light"
     },
     "output_type": "display_data"
    }
   ],
   "source": [
    "filename = filenames[10]\n",
    "grid = pyart.io.read_grid(filename, include_fields=['reflectivity'])\n",
    "\n",
    "current_time = str(datetime.datetime.now())[0:-7]\n",
    "current_time = current_time.replace(\" \", \"_\").replace(\":\", \"_\")\n",
    "current_time = current_time.replace(\"-\", \"\")\n",
    "\n",
    "# filename = filenames[95]\n",
    "# grid = pyart.io.read_grid(filename, include_fields=['reflectivity'])\n",
    "\n",
    "# ACCESS_refl = tint.process_ACCESS.\n",
    "\n",
    "current_time = str(datetime.datetime.now())[0:-7]\n",
    "current_time = current_time.replace(\" \", \"_\").replace(\":\", \"_\")\n",
    "current_time = current_time.replace(\"-\", \"\")\n",
    "\n",
    "params = {\n",
    "    'uid_ind': None, 'line_coords': False, 'center_cell': False,\n",
    "    'cell_ind': 10, 'winds': False,\n",
    "    'crosshair': True, 'fontsize': 20, 'colorbar_flag': True,\n",
    "    'leg_loc': 2, 'label_type': 'velocities',\n",
    "    'system_winds': ['shift', 'ambient_mean', 'relative'],\n",
    "    'boundary': True, 'exclude': False}\n",
    "\n",
    "tint.visualisation.figures.two_level(\n",
    "    tracks_obj, grid, params=params, alt1=1000, alt2=9000)\n",
    "plt.savefig(\n",
    "    fig_dir + '/test_{}.png'.format(current_time), \n",
    "    dpi=200, facecolor='w', edgecolor='white', bbox_inches='tight')"
   ]
  },
  {
   "cell_type": "code",
   "execution_count": 9,
   "metadata": {
    "ExecuteTime": {
     "end_time": "2021-12-09T02:03:22.570885Z",
     "start_time": "2021-12-09T02:03:00.797043Z"
    }
   },
   "outputs": [],
   "source": [
    "current_time = str(datetime.datetime.now())[0:-7]\n",
    "current_time = current_time.replace(\" \", \"_\").replace(\":\", \"_\")\n",
    "current_time = current_time.replace(\"-\", \"\")\n",
    "out_file_name = save_dir + 'cpol_2005_2006.pkl'.format(\n",
    "    micro_physics, current_time)\n",
    "with open(out_file_name, 'wb') as f:\n",
    "    pickle.dump(tracks_obj, f)"
   ]
  },
  {
   "cell_type": "code",
   "execution_count": null,
   "metadata": {},
   "outputs": [],
   "source": []
  },
  {
   "cell_type": "code",
   "execution_count": 46,
   "metadata": {
    "ExecuteTime": {
     "end_time": "2022-06-06T00:41:03.031620Z",
     "start_time": "2022-06-06T00:41:02.969272Z"
    }
   },
   "outputs": [],
   "source": [
    "tracks_obj = tint.objects.classify_tracks(tracks_obj)\n",
    "tracks_obj = tint.objects.get_exclusion_categories(tracks_obj)"
   ]
  },
  {
   "cell_type": "code",
   "execution_count": 8,
   "metadata": {
    "ExecuteTime": {
     "end_time": "2021-12-06T22:32:44.369628Z",
     "start_time": "2021-12-06T22:32:37.115319Z"
    }
   },
   "outputs": [],
   "source": [
    "with open(save_dir + 'cpol_2005_2006.pkl', 'rb') as f:\n",
    "    tracks_obj = pickle.load(f)"
   ]
  },
  {
   "cell_type": "code",
   "execution_count": 9,
   "metadata": {
    "ExecuteTime": {
     "end_time": "2021-12-06T22:32:48.367037Z",
     "start_time": "2021-12-06T22:32:48.257858Z"
    }
   },
   "outputs": [
    {
     "data": {
      "text/plain": [
       "{'SEARCH_MARGIN': 50000,\n",
       " 'FLOW_MARGIN': 40000,\n",
       " 'MAX_FLOW_MAG': 60,\n",
       " 'MAX_DISPARITY': 999,\n",
       " 'MAX_SHIFT_DISP': 60,\n",
       " 'ISO_SMOOTH': 3,\n",
       " 'GS_ALT': 1500,\n",
       " 'LEVELS': array([[  500,  3500],\n",
       "        [ 3500,  7500],\n",
       "        [ 7500, 10000]]),\n",
       " 'MIN_SIZE': [80, 400, 800],\n",
       " 'FIELD_THRESH': ['convective', 20, 15],\n",
       " 'ISO_THRESH': [10, 10, 10],\n",
       " 'TRACK_INTERVAL': 0,\n",
       " 'CELL_THRESH': 25,\n",
       " 'CELL_START': 3000,\n",
       " 'RAIN': False,\n",
       " 'SAVE_RAIN': False,\n",
       " 'AMBIENT': 'ERA5',\n",
       " 'AMBIENT_BASE_DIR': \"/media/shorte1/Ewan's Hard Drive/phd/data/era5/pressure-levels/reanalysis/\",\n",
       " 'CLASS_THRESH': {'OFFSET_MAG': 5000,\n",
       "  'SHEAR_MAG': 1,\n",
       "  'VEL_MAG': 1,\n",
       "  'REL_VEL_MAG': 1,\n",
       "  'ANGLE_BUFFER': 0.17453292519943295},\n",
       " 'EXCL_THRESH': {'SMALL_AREA': 500,\n",
       "  'LARGE_AREA': 50000,\n",
       "  'BORD_THRESH': 0.01,\n",
       "  'MAJOR_AXIS_LENGTH': 100,\n",
       "  'AXIS_RATIO': 3},\n",
       " 'BOUNDARY_GRID_CELLS': {(0, 48),\n",
       "  (0, 49),\n",
       "  (0, 50),\n",
       "  (0, 51),\n",
       "  (0, 52),\n",
       "  (0, 53),\n",
       "  (0, 54),\n",
       "  (0, 55),\n",
       "  (0, 56),\n",
       "  (0, 57),\n",
       "  (0, 58),\n",
       "  (0, 59),\n",
       "  (0, 60),\n",
       "  (0, 61),\n",
       "  (0, 62),\n",
       "  (0, 63),\n",
       "  (0, 64),\n",
       "  (0, 65),\n",
       "  (0, 66),\n",
       "  (0, 67),\n",
       "  (0, 68),\n",
       "  (1, 43),\n",
       "  (1, 44),\n",
       "  (1, 45),\n",
       "  (1, 46),\n",
       "  (1, 47),\n",
       "  (1, 69),\n",
       "  (1, 70),\n",
       "  (1, 71),\n",
       "  (1, 72),\n",
       "  (1, 73),\n",
       "  (2, 40),\n",
       "  (2, 41),\n",
       "  (2, 42),\n",
       "  (2, 74),\n",
       "  (2, 75),\n",
       "  (2, 76),\n",
       "  (3, 37),\n",
       "  (3, 38),\n",
       "  (3, 39),\n",
       "  (3, 77),\n",
       "  (3, 78),\n",
       "  (3, 79),\n",
       "  (4, 35),\n",
       "  (4, 36),\n",
       "  (4, 80),\n",
       "  (4, 81),\n",
       "  (5, 33),\n",
       "  (5, 34),\n",
       "  (5, 82),\n",
       "  (5, 83),\n",
       "  (6, 31),\n",
       "  (6, 32),\n",
       "  (6, 84),\n",
       "  (6, 85),\n",
       "  (7, 29),\n",
       "  (7, 30),\n",
       "  (7, 86),\n",
       "  (7, 87),\n",
       "  (8, 27),\n",
       "  (8, 28),\n",
       "  (8, 88),\n",
       "  (8, 89),\n",
       "  (9, 26),\n",
       "  (9, 90),\n",
       "  (10, 24),\n",
       "  (10, 25),\n",
       "  (10, 91),\n",
       "  (10, 92),\n",
       "  (11, 23),\n",
       "  (11, 24),\n",
       "  (11, 92),\n",
       "  (11, 93),\n",
       "  (12, 22),\n",
       "  (12, 94),\n",
       "  (13, 20),\n",
       "  (13, 21),\n",
       "  (13, 95),\n",
       "  (13, 96),\n",
       "  (14, 19),\n",
       "  (14, 20),\n",
       "  (14, 96),\n",
       "  (14, 97),\n",
       "  (15, 18),\n",
       "  (15, 19),\n",
       "  (15, 97),\n",
       "  (15, 98),\n",
       "  (16, 17),\n",
       "  (16, 18),\n",
       "  (16, 98),\n",
       "  (16, 99),\n",
       "  (17, 16),\n",
       "  (17, 100),\n",
       "  (18, 15),\n",
       "  (18, 16),\n",
       "  (18, 100),\n",
       "  (18, 101),\n",
       "  (19, 14),\n",
       "  (19, 15),\n",
       "  (19, 101),\n",
       "  (19, 102),\n",
       "  (20, 13),\n",
       "  (20, 14),\n",
       "  (20, 102),\n",
       "  (20, 103),\n",
       "  (21, 13),\n",
       "  (21, 103),\n",
       "  (22, 12),\n",
       "  (22, 104),\n",
       "  (23, 11),\n",
       "  (23, 105),\n",
       "  (24, 10),\n",
       "  (24, 11),\n",
       "  (24, 105),\n",
       "  (24, 106),\n",
       "  (25, 10),\n",
       "  (25, 106),\n",
       "  (26, 9),\n",
       "  (26, 107),\n",
       "  (27, 8),\n",
       "  (27, 108),\n",
       "  (28, 8),\n",
       "  (28, 108),\n",
       "  (29, 7),\n",
       "  (29, 109),\n",
       "  (30, 7),\n",
       "  (30, 109),\n",
       "  (31, 6),\n",
       "  (31, 110),\n",
       "  (32, 6),\n",
       "  (32, 110),\n",
       "  (33, 5),\n",
       "  (33, 111),\n",
       "  (34, 5),\n",
       "  (34, 111),\n",
       "  (35, 4),\n",
       "  (35, 112),\n",
       "  (36, 4),\n",
       "  (36, 112),\n",
       "  (37, 3),\n",
       "  (37, 113),\n",
       "  (38, 3),\n",
       "  (38, 113),\n",
       "  (39, 3),\n",
       "  (39, 113),\n",
       "  (40, 2),\n",
       "  (40, 114),\n",
       "  (41, 2),\n",
       "  (41, 114),\n",
       "  (42, 2),\n",
       "  (42, 114),\n",
       "  (43, 1),\n",
       "  (43, 115),\n",
       "  (44, 1),\n",
       "  (44, 115),\n",
       "  (45, 1),\n",
       "  (45, 115),\n",
       "  (46, 1),\n",
       "  (46, 115),\n",
       "  (47, 1),\n",
       "  (47, 115),\n",
       "  (48, 0),\n",
       "  (48, 116),\n",
       "  (49, 0),\n",
       "  (49, 116),\n",
       "  (50, 0),\n",
       "  (50, 116),\n",
       "  (51, 0),\n",
       "  (51, 116),\n",
       "  (52, 0),\n",
       "  (52, 116),\n",
       "  (53, 0),\n",
       "  (53, 116),\n",
       "  (54, 0),\n",
       "  (54, 116),\n",
       "  (55, 0),\n",
       "  (55, 116),\n",
       "  (56, 0),\n",
       "  (56, 116),\n",
       "  (57, 0),\n",
       "  (57, 116),\n",
       "  (58, 0),\n",
       "  (58, 116),\n",
       "  (59, 0),\n",
       "  (59, 116),\n",
       "  (60, 0),\n",
       "  (60, 116),\n",
       "  (61, 0),\n",
       "  (61, 116),\n",
       "  (62, 0),\n",
       "  (62, 116),\n",
       "  (63, 0),\n",
       "  (63, 116),\n",
       "  (64, 0),\n",
       "  (64, 116),\n",
       "  (65, 0),\n",
       "  (65, 116),\n",
       "  (66, 0),\n",
       "  (66, 116),\n",
       "  (67, 0),\n",
       "  (67, 116),\n",
       "  (68, 0),\n",
       "  (68, 116),\n",
       "  (69, 1),\n",
       "  (69, 115),\n",
       "  (70, 1),\n",
       "  (70, 115),\n",
       "  (71, 1),\n",
       "  (71, 115),\n",
       "  (72, 1),\n",
       "  (72, 115),\n",
       "  (73, 1),\n",
       "  (73, 115),\n",
       "  (74, 2),\n",
       "  (74, 114),\n",
       "  (75, 2),\n",
       "  (75, 114),\n",
       "  (76, 2),\n",
       "  (76, 114),\n",
       "  (77, 3),\n",
       "  (77, 113),\n",
       "  (78, 3),\n",
       "  (78, 113),\n",
       "  (79, 3),\n",
       "  (79, 113),\n",
       "  (80, 4),\n",
       "  (80, 112),\n",
       "  (81, 4),\n",
       "  (81, 112),\n",
       "  (82, 5),\n",
       "  (82, 111),\n",
       "  (83, 5),\n",
       "  (83, 111),\n",
       "  (84, 6),\n",
       "  (84, 110),\n",
       "  (85, 6),\n",
       "  (85, 110),\n",
       "  (86, 7),\n",
       "  (86, 109),\n",
       "  (87, 7),\n",
       "  (87, 109),\n",
       "  (88, 8),\n",
       "  (88, 108),\n",
       "  (89, 8),\n",
       "  (89, 108),\n",
       "  (90, 9),\n",
       "  (90, 107),\n",
       "  (91, 10),\n",
       "  (91, 106),\n",
       "  (92, 10),\n",
       "  (92, 11),\n",
       "  (92, 105),\n",
       "  (92, 106),\n",
       "  (93, 11),\n",
       "  (93, 105),\n",
       "  (94, 12),\n",
       "  (94, 104),\n",
       "  (95, 13),\n",
       "  (95, 103),\n",
       "  (96, 13),\n",
       "  (96, 14),\n",
       "  (96, 102),\n",
       "  (96, 103),\n",
       "  (97, 14),\n",
       "  (97, 15),\n",
       "  (97, 101),\n",
       "  (97, 102),\n",
       "  (98, 15),\n",
       "  (98, 16),\n",
       "  (98, 100),\n",
       "  (98, 101),\n",
       "  (99, 16),\n",
       "  (99, 100),\n",
       "  (100, 17),\n",
       "  (100, 18),\n",
       "  (100, 98),\n",
       "  (100, 99),\n",
       "  (101, 18),\n",
       "  (101, 19),\n",
       "  (101, 97),\n",
       "  (101, 98),\n",
       "  (102, 19),\n",
       "  (102, 20),\n",
       "  (102, 96),\n",
       "  (102, 97),\n",
       "  (103, 20),\n",
       "  (103, 21),\n",
       "  (103, 95),\n",
       "  (103, 96),\n",
       "  (104, 22),\n",
       "  (104, 94),\n",
       "  (105, 23),\n",
       "  (105, 24),\n",
       "  (105, 92),\n",
       "  (105, 93),\n",
       "  (106, 24),\n",
       "  (106, 25),\n",
       "  (106, 91),\n",
       "  (106, 92),\n",
       "  (107, 26),\n",
       "  (107, 90),\n",
       "  (108, 27),\n",
       "  (108, 28),\n",
       "  (108, 88),\n",
       "  (108, 89),\n",
       "  (109, 29),\n",
       "  (109, 30),\n",
       "  (109, 86),\n",
       "  (109, 87),\n",
       "  (110, 31),\n",
       "  (110, 32),\n",
       "  (110, 84),\n",
       "  (110, 85),\n",
       "  (111, 33),\n",
       "  (111, 34),\n",
       "  (111, 82),\n",
       "  (111, 83),\n",
       "  (112, 35),\n",
       "  (112, 36),\n",
       "  (112, 80),\n",
       "  (112, 81),\n",
       "  (113, 37),\n",
       "  (113, 38),\n",
       "  (113, 39),\n",
       "  (113, 77),\n",
       "  (113, 78),\n",
       "  (113, 79),\n",
       "  (114, 40),\n",
       "  (114, 41),\n",
       "  (114, 42),\n",
       "  (114, 74),\n",
       "  (114, 75),\n",
       "  (114, 76),\n",
       "  (115, 43),\n",
       "  (115, 44),\n",
       "  (115, 45),\n",
       "  (115, 46),\n",
       "  (115, 47),\n",
       "  (115, 69),\n",
       "  (115, 70),\n",
       "  (115, 71),\n",
       "  (115, 72),\n",
       "  (115, 73),\n",
       "  (116, 48),\n",
       "  (116, 49),\n",
       "  (116, 50),\n",
       "  (116, 51),\n",
       "  (116, 52),\n",
       "  (116, 53),\n",
       "  (116, 54),\n",
       "  (116, 55),\n",
       "  (116, 56),\n",
       "  (116, 57),\n",
       "  (116, 58),\n",
       "  (116, 59),\n",
       "  (116, 60),\n",
       "  (116, 61),\n",
       "  (116, 62),\n",
       "  (116, 63),\n",
       "  (116, 64),\n",
       "  (116, 65),\n",
       "  (116, 66),\n",
       "  (116, 67),\n",
       "  (116, 68)}}"
      ]
     },
     "execution_count": 9,
     "metadata": {},
     "output_type": "execute_result"
    }
   ],
   "source": [
    "tracks_obj.params"
   ]
  },
  {
   "cell_type": "code",
   "execution_count": 11,
   "metadata": {
    "ExecuteTime": {
     "end_time": "2021-11-26T04:47:12.705140Z",
     "start_time": "2021-11-26T04:47:12.695111Z"
    }
   },
   "outputs": [],
   "source": [
    "def fill_end(group_df):\n",
    "    import pdb; pdb.set_trace()\n",
    "    group_df[['u_shift', 'v_shift']].iloc[-1] = group_df[['u_shift', 'v_shift']].iloc[-2]\n",
    "    "
   ]
  },
  {
   "cell_type": "code",
   "execution_count": 12,
   "metadata": {
    "ExecuteTime": {
     "end_time": "2021-11-26T04:48:21.671506Z",
     "start_time": "2021-11-26T04:47:13.655378Z"
    }
   },
   "outputs": [
    {
     "name": "stdout",
     "output_type": "stream",
     "text": [
      "> \u001b[0;32m/tmp/ipykernel_31696/4190406837.py\u001b[0m(3)\u001b[0;36mfill_end\u001b[0;34m()\u001b[0m\n",
      "\u001b[0;32m      1 \u001b[0;31m\u001b[0;32mdef\u001b[0m \u001b[0mfill_end\u001b[0m\u001b[0;34m(\u001b[0m\u001b[0mgroup_df\u001b[0m\u001b[0;34m)\u001b[0m\u001b[0;34m:\u001b[0m\u001b[0;34m\u001b[0m\u001b[0;34m\u001b[0m\u001b[0m\n",
      "\u001b[0m\u001b[0;32m      2 \u001b[0;31m    \u001b[0;32mimport\u001b[0m \u001b[0mpdb\u001b[0m\u001b[0;34m;\u001b[0m \u001b[0mpdb\u001b[0m\u001b[0;34m.\u001b[0m\u001b[0mset_trace\u001b[0m\u001b[0;34m(\u001b[0m\u001b[0;34m)\u001b[0m\u001b[0;34m\u001b[0m\u001b[0;34m\u001b[0m\u001b[0m\n",
      "\u001b[0m\u001b[0;32m----> 3 \u001b[0;31m    \u001b[0mgroup_df\u001b[0m\u001b[0;34m[\u001b[0m\u001b[0;34m[\u001b[0m\u001b[0;34m'u_shift'\u001b[0m\u001b[0;34m,\u001b[0m \u001b[0;34m'v_shift'\u001b[0m\u001b[0;34m]\u001b[0m\u001b[0;34m]\u001b[0m\u001b[0;34m.\u001b[0m\u001b[0miloc\u001b[0m\u001b[0;34m[\u001b[0m\u001b[0;34m-\u001b[0m\u001b[0;36m1\u001b[0m\u001b[0;34m]\u001b[0m \u001b[0;34m=\u001b[0m \u001b[0mgroup_df\u001b[0m\u001b[0;34m[\u001b[0m\u001b[0;34m[\u001b[0m\u001b[0;34m'u_shift'\u001b[0m\u001b[0;34m,\u001b[0m \u001b[0;34m'v_shift'\u001b[0m\u001b[0;34m]\u001b[0m\u001b[0;34m]\u001b[0m\u001b[0;34m.\u001b[0m\u001b[0miloc\u001b[0m\u001b[0;34m[\u001b[0m\u001b[0;34m-\u001b[0m\u001b[0;36m2\u001b[0m\u001b[0;34m]\u001b[0m\u001b[0;34m\u001b[0m\u001b[0;34m\u001b[0m\u001b[0m\n",
      "\u001b[0m\u001b[0;32m      4 \u001b[0;31m\u001b[0;34m\u001b[0m\u001b[0m\n",
      "\u001b[0m\n",
      "ipdb> group_df['u_shift'].iloc[-1]\n",
      "-4.16\n",
      "ipdb> group_df['u_shift'].iloc[-1] = 5\n",
      "ipdb> group_df['u_shift'].iloc[-1]\n",
      "5.0\n",
      "ipdb> q\n"
     ]
    },
    {
     "ename": "BdbQuit",
     "evalue": "",
     "output_type": "error",
     "traceback": [
      "\u001b[0;31m---------------------------------------------------------------------------\u001b[0m",
      "\u001b[0;31mBdbQuit\u001b[0m                                   Traceback (most recent call last)",
      "\u001b[0;32m/tmp/ipykernel_31696/6850607.py\u001b[0m in \u001b[0;36m<module>\u001b[0;34m\u001b[0m\n\u001b[0;32m----> 1\u001b[0;31m tracks_obj.tracks.groupby(level=['uid', 'level']).apply(\n\u001b[0m\u001b[1;32m      2\u001b[0m         lambda x: fill_end(x))\n",
      "\u001b[0;32m~/anaconda3/envs/CPOL_analysis/lib/python3.8/site-packages/pandas/core/groupby/groupby.py\u001b[0m in \u001b[0;36mapply\u001b[0;34m(self, func, *args, **kwargs)\u001b[0m\n\u001b[1;32m   1251\u001b[0m         \u001b[0;32mwith\u001b[0m \u001b[0moption_context\u001b[0m\u001b[0;34m(\u001b[0m\u001b[0;34m\"mode.chained_assignment\"\u001b[0m\u001b[0;34m,\u001b[0m \u001b[0;32mNone\u001b[0m\u001b[0;34m)\u001b[0m\u001b[0;34m:\u001b[0m\u001b[0;34m\u001b[0m\u001b[0;34m\u001b[0m\u001b[0m\n\u001b[1;32m   1252\u001b[0m             \u001b[0;32mtry\u001b[0m\u001b[0;34m:\u001b[0m\u001b[0;34m\u001b[0m\u001b[0;34m\u001b[0m\u001b[0m\n\u001b[0;32m-> 1253\u001b[0;31m                 \u001b[0mresult\u001b[0m \u001b[0;34m=\u001b[0m \u001b[0mself\u001b[0m\u001b[0;34m.\u001b[0m\u001b[0m_python_apply_general\u001b[0m\u001b[0;34m(\u001b[0m\u001b[0mf\u001b[0m\u001b[0;34m,\u001b[0m \u001b[0mself\u001b[0m\u001b[0;34m.\u001b[0m\u001b[0m_selected_obj\u001b[0m\u001b[0;34m)\u001b[0m\u001b[0;34m\u001b[0m\u001b[0;34m\u001b[0m\u001b[0m\n\u001b[0m\u001b[1;32m   1254\u001b[0m             \u001b[0;32mexcept\u001b[0m \u001b[0mTypeError\u001b[0m\u001b[0;34m:\u001b[0m\u001b[0;34m\u001b[0m\u001b[0;34m\u001b[0m\u001b[0m\n\u001b[1;32m   1255\u001b[0m                 \u001b[0;31m# gh-20949\u001b[0m\u001b[0;34m\u001b[0m\u001b[0;34m\u001b[0m\u001b[0;34m\u001b[0m\u001b[0m\n",
      "\u001b[0;32m~/anaconda3/envs/CPOL_analysis/lib/python3.8/site-packages/pandas/core/groupby/groupby.py\u001b[0m in \u001b[0;36m_python_apply_general\u001b[0;34m(self, f, data)\u001b[0m\n\u001b[1;32m   1285\u001b[0m             \u001b[0mdata\u001b[0m \u001b[0mafter\u001b[0m \u001b[0mapplying\u001b[0m \u001b[0mf\u001b[0m\u001b[0;34m\u001b[0m\u001b[0;34m\u001b[0m\u001b[0m\n\u001b[1;32m   1286\u001b[0m         \"\"\"\n\u001b[0;32m-> 1287\u001b[0;31m         \u001b[0mkeys\u001b[0m\u001b[0;34m,\u001b[0m \u001b[0mvalues\u001b[0m\u001b[0;34m,\u001b[0m \u001b[0mmutated\u001b[0m \u001b[0;34m=\u001b[0m \u001b[0mself\u001b[0m\u001b[0;34m.\u001b[0m\u001b[0mgrouper\u001b[0m\u001b[0;34m.\u001b[0m\u001b[0mapply\u001b[0m\u001b[0;34m(\u001b[0m\u001b[0mf\u001b[0m\u001b[0;34m,\u001b[0m \u001b[0mdata\u001b[0m\u001b[0;34m,\u001b[0m \u001b[0mself\u001b[0m\u001b[0;34m.\u001b[0m\u001b[0maxis\u001b[0m\u001b[0;34m)\u001b[0m\u001b[0;34m\u001b[0m\u001b[0;34m\u001b[0m\u001b[0m\n\u001b[0m\u001b[1;32m   1288\u001b[0m \u001b[0;34m\u001b[0m\u001b[0m\n\u001b[1;32m   1289\u001b[0m         return self._wrap_applied_output(\n",
      "\u001b[0;32m~/anaconda3/envs/CPOL_analysis/lib/python3.8/site-packages/pandas/core/groupby/ops.py\u001b[0m in \u001b[0;36mapply\u001b[0;34m(self, f, data, axis)\u001b[0m\n\u001b[1;32m    818\u001b[0m             \u001b[0;31m# group might be modified\u001b[0m\u001b[0;34m\u001b[0m\u001b[0;34m\u001b[0m\u001b[0;34m\u001b[0m\u001b[0m\n\u001b[1;32m    819\u001b[0m             \u001b[0mgroup_axes\u001b[0m \u001b[0;34m=\u001b[0m \u001b[0mgroup\u001b[0m\u001b[0;34m.\u001b[0m\u001b[0maxes\u001b[0m\u001b[0;34m\u001b[0m\u001b[0;34m\u001b[0m\u001b[0m\n\u001b[0;32m--> 820\u001b[0;31m             \u001b[0mres\u001b[0m \u001b[0;34m=\u001b[0m \u001b[0mf\u001b[0m\u001b[0;34m(\u001b[0m\u001b[0mgroup\u001b[0m\u001b[0;34m)\u001b[0m\u001b[0;34m\u001b[0m\u001b[0;34m\u001b[0m\u001b[0m\n\u001b[0m\u001b[1;32m    821\u001b[0m             \u001b[0;32mif\u001b[0m \u001b[0;32mnot\u001b[0m \u001b[0m_is_indexed_like\u001b[0m\u001b[0;34m(\u001b[0m\u001b[0mres\u001b[0m\u001b[0;34m,\u001b[0m \u001b[0mgroup_axes\u001b[0m\u001b[0;34m,\u001b[0m \u001b[0maxis\u001b[0m\u001b[0;34m)\u001b[0m\u001b[0;34m:\u001b[0m\u001b[0;34m\u001b[0m\u001b[0;34m\u001b[0m\u001b[0m\n\u001b[1;32m    822\u001b[0m                 \u001b[0mmutated\u001b[0m \u001b[0;34m=\u001b[0m \u001b[0;32mTrue\u001b[0m\u001b[0;34m\u001b[0m\u001b[0;34m\u001b[0m\u001b[0m\n",
      "\u001b[0;32m/tmp/ipykernel_31696/6850607.py\u001b[0m in \u001b[0;36m<lambda>\u001b[0;34m(x)\u001b[0m\n\u001b[1;32m      1\u001b[0m tracks_obj.tracks.groupby(level=['uid', 'level']).apply(\n\u001b[0;32m----> 2\u001b[0;31m         lambda x: fill_end(x))\n\u001b[0m",
      "\u001b[0;32m/tmp/ipykernel_31696/4190406837.py\u001b[0m in \u001b[0;36mfill_end\u001b[0;34m(group_df)\u001b[0m\n\u001b[1;32m      1\u001b[0m \u001b[0;32mdef\u001b[0m \u001b[0mfill_end\u001b[0m\u001b[0;34m(\u001b[0m\u001b[0mgroup_df\u001b[0m\u001b[0;34m)\u001b[0m\u001b[0;34m:\u001b[0m\u001b[0;34m\u001b[0m\u001b[0;34m\u001b[0m\u001b[0m\n\u001b[1;32m      2\u001b[0m     \u001b[0;32mimport\u001b[0m \u001b[0mpdb\u001b[0m\u001b[0;34m;\u001b[0m \u001b[0mpdb\u001b[0m\u001b[0;34m.\u001b[0m\u001b[0mset_trace\u001b[0m\u001b[0;34m(\u001b[0m\u001b[0;34m)\u001b[0m\u001b[0;34m\u001b[0m\u001b[0;34m\u001b[0m\u001b[0m\n\u001b[0;32m----> 3\u001b[0;31m     \u001b[0mgroup_df\u001b[0m\u001b[0;34m[\u001b[0m\u001b[0;34m[\u001b[0m\u001b[0;34m'u_shift'\u001b[0m\u001b[0;34m,\u001b[0m \u001b[0;34m'v_shift'\u001b[0m\u001b[0;34m]\u001b[0m\u001b[0;34m]\u001b[0m\u001b[0;34m.\u001b[0m\u001b[0miloc\u001b[0m\u001b[0;34m[\u001b[0m\u001b[0;34m-\u001b[0m\u001b[0;36m1\u001b[0m\u001b[0;34m]\u001b[0m \u001b[0;34m=\u001b[0m \u001b[0mgroup_df\u001b[0m\u001b[0;34m[\u001b[0m\u001b[0;34m[\u001b[0m\u001b[0;34m'u_shift'\u001b[0m\u001b[0;34m,\u001b[0m \u001b[0;34m'v_shift'\u001b[0m\u001b[0;34m]\u001b[0m\u001b[0;34m]\u001b[0m\u001b[0;34m.\u001b[0m\u001b[0miloc\u001b[0m\u001b[0;34m[\u001b[0m\u001b[0;34m-\u001b[0m\u001b[0;36m2\u001b[0m\u001b[0;34m]\u001b[0m\u001b[0;34m\u001b[0m\u001b[0;34m\u001b[0m\u001b[0m\n\u001b[0m\u001b[1;32m      4\u001b[0m \u001b[0;34m\u001b[0m\u001b[0m\n",
      "\u001b[0;32m/tmp/ipykernel_31696/4190406837.py\u001b[0m in \u001b[0;36mfill_end\u001b[0;34m(group_df)\u001b[0m\n\u001b[1;32m      1\u001b[0m \u001b[0;32mdef\u001b[0m \u001b[0mfill_end\u001b[0m\u001b[0;34m(\u001b[0m\u001b[0mgroup_df\u001b[0m\u001b[0;34m)\u001b[0m\u001b[0;34m:\u001b[0m\u001b[0;34m\u001b[0m\u001b[0;34m\u001b[0m\u001b[0m\n\u001b[1;32m      2\u001b[0m     \u001b[0;32mimport\u001b[0m \u001b[0mpdb\u001b[0m\u001b[0;34m;\u001b[0m \u001b[0mpdb\u001b[0m\u001b[0;34m.\u001b[0m\u001b[0mset_trace\u001b[0m\u001b[0;34m(\u001b[0m\u001b[0;34m)\u001b[0m\u001b[0;34m\u001b[0m\u001b[0;34m\u001b[0m\u001b[0m\n\u001b[0;32m----> 3\u001b[0;31m     \u001b[0mgroup_df\u001b[0m\u001b[0;34m[\u001b[0m\u001b[0;34m[\u001b[0m\u001b[0;34m'u_shift'\u001b[0m\u001b[0;34m,\u001b[0m \u001b[0;34m'v_shift'\u001b[0m\u001b[0;34m]\u001b[0m\u001b[0;34m]\u001b[0m\u001b[0;34m.\u001b[0m\u001b[0miloc\u001b[0m\u001b[0;34m[\u001b[0m\u001b[0;34m-\u001b[0m\u001b[0;36m1\u001b[0m\u001b[0;34m]\u001b[0m \u001b[0;34m=\u001b[0m \u001b[0mgroup_df\u001b[0m\u001b[0;34m[\u001b[0m\u001b[0;34m[\u001b[0m\u001b[0;34m'u_shift'\u001b[0m\u001b[0;34m,\u001b[0m \u001b[0;34m'v_shift'\u001b[0m\u001b[0;34m]\u001b[0m\u001b[0;34m]\u001b[0m\u001b[0;34m.\u001b[0m\u001b[0miloc\u001b[0m\u001b[0;34m[\u001b[0m\u001b[0;34m-\u001b[0m\u001b[0;36m2\u001b[0m\u001b[0;34m]\u001b[0m\u001b[0;34m\u001b[0m\u001b[0;34m\u001b[0m\u001b[0m\n\u001b[0m\u001b[1;32m      4\u001b[0m \u001b[0;34m\u001b[0m\u001b[0m\n",
      "\u001b[0;32m~/anaconda3/envs/CPOL_analysis/lib/python3.8/bdb.py\u001b[0m in \u001b[0;36mtrace_dispatch\u001b[0;34m(self, frame, event, arg)\u001b[0m\n\u001b[1;32m     86\u001b[0m             \u001b[0;32mreturn\u001b[0m \u001b[0;31m# None\u001b[0m\u001b[0;34m\u001b[0m\u001b[0;34m\u001b[0m\u001b[0m\n\u001b[1;32m     87\u001b[0m         \u001b[0;32mif\u001b[0m \u001b[0mevent\u001b[0m \u001b[0;34m==\u001b[0m \u001b[0;34m'line'\u001b[0m\u001b[0;34m:\u001b[0m\u001b[0;34m\u001b[0m\u001b[0;34m\u001b[0m\u001b[0m\n\u001b[0;32m---> 88\u001b[0;31m             \u001b[0;32mreturn\u001b[0m \u001b[0mself\u001b[0m\u001b[0;34m.\u001b[0m\u001b[0mdispatch_line\u001b[0m\u001b[0;34m(\u001b[0m\u001b[0mframe\u001b[0m\u001b[0;34m)\u001b[0m\u001b[0;34m\u001b[0m\u001b[0;34m\u001b[0m\u001b[0m\n\u001b[0m\u001b[1;32m     89\u001b[0m         \u001b[0;32mif\u001b[0m \u001b[0mevent\u001b[0m \u001b[0;34m==\u001b[0m \u001b[0;34m'call'\u001b[0m\u001b[0;34m:\u001b[0m\u001b[0;34m\u001b[0m\u001b[0;34m\u001b[0m\u001b[0m\n\u001b[1;32m     90\u001b[0m             \u001b[0;32mreturn\u001b[0m \u001b[0mself\u001b[0m\u001b[0;34m.\u001b[0m\u001b[0mdispatch_call\u001b[0m\u001b[0;34m(\u001b[0m\u001b[0mframe\u001b[0m\u001b[0;34m,\u001b[0m \u001b[0marg\u001b[0m\u001b[0;34m)\u001b[0m\u001b[0;34m\u001b[0m\u001b[0;34m\u001b[0m\u001b[0m\n",
      "\u001b[0;32m~/anaconda3/envs/CPOL_analysis/lib/python3.8/bdb.py\u001b[0m in \u001b[0;36mdispatch_line\u001b[0;34m(self, frame)\u001b[0m\n\u001b[1;32m    111\u001b[0m         \u001b[0;32mif\u001b[0m \u001b[0mself\u001b[0m\u001b[0;34m.\u001b[0m\u001b[0mstop_here\u001b[0m\u001b[0;34m(\u001b[0m\u001b[0mframe\u001b[0m\u001b[0;34m)\u001b[0m \u001b[0;32mor\u001b[0m \u001b[0mself\u001b[0m\u001b[0;34m.\u001b[0m\u001b[0mbreak_here\u001b[0m\u001b[0;34m(\u001b[0m\u001b[0mframe\u001b[0m\u001b[0;34m)\u001b[0m\u001b[0;34m:\u001b[0m\u001b[0;34m\u001b[0m\u001b[0;34m\u001b[0m\u001b[0m\n\u001b[1;32m    112\u001b[0m             \u001b[0mself\u001b[0m\u001b[0;34m.\u001b[0m\u001b[0muser_line\u001b[0m\u001b[0;34m(\u001b[0m\u001b[0mframe\u001b[0m\u001b[0;34m)\u001b[0m\u001b[0;34m\u001b[0m\u001b[0;34m\u001b[0m\u001b[0m\n\u001b[0;32m--> 113\u001b[0;31m             \u001b[0;32mif\u001b[0m \u001b[0mself\u001b[0m\u001b[0;34m.\u001b[0m\u001b[0mquitting\u001b[0m\u001b[0;34m:\u001b[0m \u001b[0;32mraise\u001b[0m \u001b[0mBdbQuit\u001b[0m\u001b[0;34m\u001b[0m\u001b[0;34m\u001b[0m\u001b[0m\n\u001b[0m\u001b[1;32m    114\u001b[0m         \u001b[0;32mreturn\u001b[0m \u001b[0mself\u001b[0m\u001b[0;34m.\u001b[0m\u001b[0mtrace_dispatch\u001b[0m\u001b[0;34m\u001b[0m\u001b[0;34m\u001b[0m\u001b[0m\n\u001b[1;32m    115\u001b[0m \u001b[0;34m\u001b[0m\u001b[0m\n",
      "\u001b[0;31mBdbQuit\u001b[0m: "
     ]
    },
    {
     "name": "stdout",
     "output_type": "stream",
     "text": [
      "> \u001b[0;32m/home/student.unimelb.edu.au/shorte1/anaconda3/envs/CPOL_analysis/lib/python3.8/bdb.py\u001b[0m(113)\u001b[0;36mdispatch_line\u001b[0;34m()\u001b[0m\n",
      "\u001b[0;32m    111 \u001b[0;31m        \u001b[0;32mif\u001b[0m \u001b[0mself\u001b[0m\u001b[0;34m.\u001b[0m\u001b[0mstop_here\u001b[0m\u001b[0;34m(\u001b[0m\u001b[0mframe\u001b[0m\u001b[0;34m)\u001b[0m \u001b[0;32mor\u001b[0m \u001b[0mself\u001b[0m\u001b[0;34m.\u001b[0m\u001b[0mbreak_here\u001b[0m\u001b[0;34m(\u001b[0m\u001b[0mframe\u001b[0m\u001b[0;34m)\u001b[0m\u001b[0;34m:\u001b[0m\u001b[0;34m\u001b[0m\u001b[0;34m\u001b[0m\u001b[0m\n",
      "\u001b[0m\u001b[0;32m    112 \u001b[0;31m            \u001b[0mself\u001b[0m\u001b[0;34m.\u001b[0m\u001b[0muser_line\u001b[0m\u001b[0;34m(\u001b[0m\u001b[0mframe\u001b[0m\u001b[0;34m)\u001b[0m\u001b[0;34m\u001b[0m\u001b[0;34m\u001b[0m\u001b[0m\n",
      "\u001b[0m\u001b[0;32m--> 113 \u001b[0;31m            \u001b[0;32mif\u001b[0m \u001b[0mself\u001b[0m\u001b[0;34m.\u001b[0m\u001b[0mquitting\u001b[0m\u001b[0;34m:\u001b[0m \u001b[0;32mraise\u001b[0m \u001b[0mBdbQuit\u001b[0m\u001b[0;34m\u001b[0m\u001b[0;34m\u001b[0m\u001b[0m\n",
      "\u001b[0m\u001b[0;32m    114 \u001b[0;31m        \u001b[0;32mreturn\u001b[0m \u001b[0mself\u001b[0m\u001b[0;34m.\u001b[0m\u001b[0mtrace_dispatch\u001b[0m\u001b[0;34m\u001b[0m\u001b[0;34m\u001b[0m\u001b[0m\n",
      "\u001b[0m\u001b[0;32m    115 \u001b[0;31m\u001b[0;34m\u001b[0m\u001b[0m\n",
      "\u001b[0m\n",
      "ipdb> q\n"
     ]
    }
   ],
   "source": [
    "tracks_obj.tracks.groupby(level=['uid', 'level']).apply(\n",
    "        lambda x: fill_end(x))"
   ]
  },
  {
   "cell_type": "code",
   "execution_count": 11,
   "metadata": {
    "ExecuteTime": {
     "end_time": "2021-11-25T23:46:36.674837Z",
     "start_time": "2021-11-25T23:46:36.663294Z"
    }
   },
   "outputs": [
    {
     "data": {
      "text/plain": [
       "scan  time                 level  uid\n",
       "26    2006-02-13 04:20:00  0      0      Parallel \n",
       "                           1      0      Parallel \n",
       "                           2      0      Parallel \n",
       "27    2006-02-13 04:30:00  0      0      Parallel \n",
       "                           1      0      Parallel \n",
       "                                           ...    \n",
       "109   2006-02-13 18:20:00  1      6      Trailing \n",
       "                           2      6      Trailing \n",
       "110   2006-02-13 18:30:00  0      6      Trailing \n",
       "                           1      6      Trailing \n",
       "                           2      6      Trailing \n",
       "Name: offset_type, Length: 186, dtype: object"
      ]
     },
     "execution_count": 11,
     "metadata": {},
     "output_type": "execute_result"
    }
   ],
   "source": [
    "tracks_obj.tracks_class['offset_type']"
   ]
  },
  {
   "cell_type": "code",
   "execution_count": null,
   "metadata": {},
   "outputs": [],
   "source": []
  },
  {
   "cell_type": "code",
   "execution_count": 15,
   "metadata": {
    "ExecuteTime": {
     "end_time": "2021-11-24T02:54:58.978655Z",
     "start_time": "2021-11-24T02:54:58.934534Z"
    }
   },
   "outputs": [
    {
     "data": {
      "text/html": [
       "<div>\n",
       "<style scoped>\n",
       "    .dataframe tbody tr th:only-of-type {\n",
       "        vertical-align: middle;\n",
       "    }\n",
       "\n",
       "    .dataframe tbody tr th {\n",
       "        vertical-align: top;\n",
       "    }\n",
       "\n",
       "    .dataframe thead th {\n",
       "        text-align: right;\n",
       "    }\n",
       "</style>\n",
       "<table border=\"1\" class=\"dataframe\">\n",
       "  <thead>\n",
       "    <tr style=\"text-align: right;\">\n",
       "      <th></th>\n",
       "      <th></th>\n",
       "      <th></th>\n",
       "      <th></th>\n",
       "      <th>grid_x</th>\n",
       "      <th>grid_y</th>\n",
       "      <th>lon</th>\n",
       "      <th>lat</th>\n",
       "      <th>inflow_type</th>\n",
       "      <th>propagation_type</th>\n",
       "      <th>tilt_type</th>\n",
       "      <th>offset_type</th>\n",
       "    </tr>\n",
       "    <tr>\n",
       "      <th>scan</th>\n",
       "      <th>time</th>\n",
       "      <th>level</th>\n",
       "      <th>uid</th>\n",
       "      <th></th>\n",
       "      <th></th>\n",
       "      <th></th>\n",
       "      <th></th>\n",
       "      <th></th>\n",
       "      <th></th>\n",
       "      <th></th>\n",
       "      <th></th>\n",
       "    </tr>\n",
       "  </thead>\n",
       "  <tbody>\n",
       "    <tr>\n",
       "      <th rowspan=\"3\" valign=\"top\">26</th>\n",
       "      <th rowspan=\"3\" valign=\"top\">2006-02-13 04:20:00</th>\n",
       "      <th>0</th>\n",
       "      <th>0</th>\n",
       "      <td>94258.747101</td>\n",
       "      <td>91626.815796</td>\n",
       "      <td>131.90924</td>\n",
       "      <td>-11.42382</td>\n",
       "      <td>Rear Fed</td>\n",
       "      <td>Up-Shear Propagating</td>\n",
       "      <td>Ambiguous (Small</td>\n",
       "      <td>Parallel</td>\n",
       "    </tr>\n",
       "    <tr>\n",
       "      <th>1</th>\n",
       "      <th>0</th>\n",
       "      <td>93731.021881</td>\n",
       "      <td>89518.089294</td>\n",
       "      <td>131.90446</td>\n",
       "      <td>-11.44280</td>\n",
       "      <td>Rear Fed</td>\n",
       "      <td>Down-Shear Propagating</td>\n",
       "      <td>Ambiguous (Small</td>\n",
       "      <td>Parallel</td>\n",
       "    </tr>\n",
       "    <tr>\n",
       "      <th>2</th>\n",
       "      <th>0</th>\n",
       "      <td>94601.573944</td>\n",
       "      <td>90367.965698</td>\n",
       "      <td>131.91242</td>\n",
       "      <td>-11.43513</td>\n",
       "      <td>Ambiguous</td>\n",
       "      <td>Ambiguous (Low Relativ</td>\n",
       "      <td>Ambiguous (Small</td>\n",
       "      <td>Parallel</td>\n",
       "    </tr>\n",
       "    <tr>\n",
       "      <th rowspan=\"2\" valign=\"top\">27</th>\n",
       "      <th rowspan=\"2\" valign=\"top\">2006-02-13 04:30:00</th>\n",
       "      <th>0</th>\n",
       "      <th>0</th>\n",
       "      <td>94103.031158</td>\n",
       "      <td>93521.881104</td>\n",
       "      <td>131.90776</td>\n",
       "      <td>-11.40678</td>\n",
       "      <td>Rear Fed</td>\n",
       "      <td>Up-Shear Propagating</td>\n",
       "      <td>Ambiguous (Small</td>\n",
       "      <td>Parallel</td>\n",
       "    </tr>\n",
       "    <tr>\n",
       "      <th>1</th>\n",
       "      <th>0</th>\n",
       "      <td>91883.563995</td>\n",
       "      <td>89156.665802</td>\n",
       "      <td>131.88752</td>\n",
       "      <td>-11.44610</td>\n",
       "      <td>Rear Fed</td>\n",
       "      <td>Down-Shear Propagating</td>\n",
       "      <td>Ambiguous (Small</td>\n",
       "      <td>Parallel</td>\n",
       "    </tr>\n",
       "    <tr>\n",
       "      <th>...</th>\n",
       "      <th>...</th>\n",
       "      <th>...</th>\n",
       "      <th>...</th>\n",
       "      <td>...</td>\n",
       "      <td>...</td>\n",
       "      <td>...</td>\n",
       "      <td>...</td>\n",
       "      <td>...</td>\n",
       "      <td>...</td>\n",
       "      <td>...</td>\n",
       "      <td>...</td>\n",
       "    </tr>\n",
       "    <tr>\n",
       "      <th rowspan=\"2\" valign=\"top\">109</th>\n",
       "      <th rowspan=\"2\" valign=\"top\">2006-02-13 18:20:00</th>\n",
       "      <th>1</th>\n",
       "      <th>6</th>\n",
       "      <td>-42433.776855</td>\n",
       "      <td>-111225.147247</td>\n",
       "      <td>130.65241</td>\n",
       "      <td>-13.24915</td>\n",
       "      <td>Front Fed</td>\n",
       "      <td>Up-Shear Propagating</td>\n",
       "      <td>Down-Shear Tilted</td>\n",
       "      <td>Trailing</td>\n",
       "    </tr>\n",
       "    <tr>\n",
       "      <th>2</th>\n",
       "      <th>6</th>\n",
       "      <td>-39183.788300</td>\n",
       "      <td>-115186.266899</td>\n",
       "      <td>130.68239</td>\n",
       "      <td>-13.28482</td>\n",
       "      <td>Front Fed</td>\n",
       "      <td>Up-Shear Propagating</td>\n",
       "      <td>Down-Shear Tilted</td>\n",
       "      <td>Trailing</td>\n",
       "    </tr>\n",
       "    <tr>\n",
       "      <th rowspan=\"3\" valign=\"top\">110</th>\n",
       "      <th rowspan=\"3\" valign=\"top\">2006-02-13 18:30:00</th>\n",
       "      <th>0</th>\n",
       "      <th>6</th>\n",
       "      <td>-59737.138748</td>\n",
       "      <td>-104407.777786</td>\n",
       "      <td>130.49269</td>\n",
       "      <td>-13.18757</td>\n",
       "      <td>Front Fed</td>\n",
       "      <td>Down-Shear Propagating</td>\n",
       "      <td>Up-Shear Tilted</td>\n",
       "      <td>Trailing</td>\n",
       "    </tr>\n",
       "    <tr>\n",
       "      <th>1</th>\n",
       "      <th>6</th>\n",
       "      <td>-47207.069397</td>\n",
       "      <td>-108781.957626</td>\n",
       "      <td>130.60835</td>\n",
       "      <td>-13.22712</td>\n",
       "      <td>Front Fed</td>\n",
       "      <td>Up-Shear Propagating</td>\n",
       "      <td>Down-Shear Tilted</td>\n",
       "      <td>Trailing</td>\n",
       "    </tr>\n",
       "    <tr>\n",
       "      <th>2</th>\n",
       "      <th>6</th>\n",
       "      <td>-44592.847824</td>\n",
       "      <td>-111780.140400</td>\n",
       "      <td>130.63246</td>\n",
       "      <td>-13.25412</td>\n",
       "      <td>Front Fed</td>\n",
       "      <td>Up-Shear Propagating</td>\n",
       "      <td>Down-Shear Tilted</td>\n",
       "      <td>Trailing</td>\n",
       "    </tr>\n",
       "  </tbody>\n",
       "</table>\n",
       "<p>186 rows × 8 columns</p>\n",
       "</div>"
      ],
      "text/plain": [
       "                                          grid_x         grid_y        lon  \\\n",
       "scan time                level uid                                           \n",
       "26   2006-02-13 04:20:00 0     0    94258.747101   91626.815796  131.90924   \n",
       "                         1     0    93731.021881   89518.089294  131.90446   \n",
       "                         2     0    94601.573944   90367.965698  131.91242   \n",
       "27   2006-02-13 04:30:00 0     0    94103.031158   93521.881104  131.90776   \n",
       "                         1     0    91883.563995   89156.665802  131.88752   \n",
       "...                                          ...            ...        ...   \n",
       "109  2006-02-13 18:20:00 1     6   -42433.776855 -111225.147247  130.65241   \n",
       "                         2     6   -39183.788300 -115186.266899  130.68239   \n",
       "110  2006-02-13 18:30:00 0     6   -59737.138748 -104407.777786  130.49269   \n",
       "                         1     6   -47207.069397 -108781.957626  130.60835   \n",
       "                         2     6   -44592.847824 -111780.140400  130.63246   \n",
       "\n",
       "                                         lat inflow_type  \\\n",
       "scan time                level uid                         \n",
       "26   2006-02-13 04:20:00 0     0   -11.42382    Rear Fed   \n",
       "                         1     0   -11.44280    Rear Fed   \n",
       "                         2     0   -11.43513   Ambiguous   \n",
       "27   2006-02-13 04:30:00 0     0   -11.40678    Rear Fed   \n",
       "                         1     0   -11.44610    Rear Fed   \n",
       "...                                      ...         ...   \n",
       "109  2006-02-13 18:20:00 1     6   -13.24915   Front Fed   \n",
       "                         2     6   -13.28482   Front Fed   \n",
       "110  2006-02-13 18:30:00 0     6   -13.18757   Front Fed   \n",
       "                         1     6   -13.22712   Front Fed   \n",
       "                         2     6   -13.25412   Front Fed   \n",
       "\n",
       "                                          propagation_type          tilt_type  \\\n",
       "scan time                level uid                                              \n",
       "26   2006-02-13 04:20:00 0     0      Up-Shear Propagating  Ambiguous (Small    \n",
       "                         1     0    Down-Shear Propagating  Ambiguous (Small    \n",
       "                         2     0    Ambiguous (Low Relativ  Ambiguous (Small    \n",
       "27   2006-02-13 04:30:00 0     0      Up-Shear Propagating  Ambiguous (Small    \n",
       "                         1     0    Down-Shear Propagating  Ambiguous (Small    \n",
       "...                                                    ...                ...   \n",
       "109  2006-02-13 18:20:00 1     6      Up-Shear Propagating  Down-Shear Tilted   \n",
       "                         2     6      Up-Shear Propagating  Down-Shear Tilted   \n",
       "110  2006-02-13 18:30:00 0     6    Down-Shear Propagating    Up-Shear Tilted   \n",
       "                         1     6      Up-Shear Propagating  Down-Shear Tilted   \n",
       "                         2     6      Up-Shear Propagating  Down-Shear Tilted   \n",
       "\n",
       "                                   offset_type  \n",
       "scan time                level uid              \n",
       "26   2006-02-13 04:20:00 0     0     Parallel   \n",
       "                         1     0     Parallel   \n",
       "                         2     0     Parallel   \n",
       "27   2006-02-13 04:30:00 0     0     Parallel   \n",
       "                         1     0     Parallel   \n",
       "...                                        ...  \n",
       "109  2006-02-13 18:20:00 1     6     Trailing   \n",
       "                         2     6     Trailing   \n",
       "110  2006-02-13 18:30:00 0     6     Trailing   \n",
       "                         1     6     Trailing   \n",
       "                         2     6     Trailing   \n",
       "\n",
       "[186 rows x 8 columns]"
      ]
     },
     "execution_count": 15,
     "metadata": {},
     "output_type": "execute_result"
    }
   ],
   "source": [
    "tracks_obj.tracks_class"
   ]
  },
  {
   "cell_type": "code",
   "execution_count": 36,
   "metadata": {
    "ExecuteTime": {
     "end_time": "2021-11-21T22:40:33.957362Z",
     "start_time": "2021-11-21T22:40:33.938335Z"
    }
   },
   "outputs": [],
   "source": [
    "test = copy.deepcopy(tracks_obj.tracks)\n",
    "inflow_cond = (\n",
    "    tracks_obj.system_tracks['x_vert_disp'] * tracks_obj.tracks['u_shear']\n",
    "    + tracks_obj.system_tracks['y_vert_disp'] * tracks_obj.tracks['v_shear'])"
   ]
  },
  {
   "cell_type": "code",
   "execution_count": 41,
   "metadata": {
    "ExecuteTime": {
     "end_time": "2021-11-21T22:42:15.530124Z",
     "start_time": "2021-11-21T22:42:15.521231Z"
    }
   },
   "outputs": [
    {
     "data": {
      "text/plain": [
       "scan  time                 level  uid\n",
       "26    2006-02-13 04:20:00  0      0     -6.00483\n",
       "                           1      0      2.92783\n",
       "                           2      0      2.61377\n",
       "27    2006-02-13 04:30:00  0      0     -6.07322\n",
       "                           1      0      3.06301\n",
       "                                          ...   \n",
       "109   2006-02-13 18:20:00  1      6      3.84559\n",
       "                           2      6      3.51672\n",
       "110   2006-02-13 18:30:00  0      6     -8.69906\n",
       "                           1      6      3.89933\n",
       "                           2      6      3.51533\n",
       "Name: u_shear, Length: 186, dtype: float64"
      ]
     },
     "execution_count": 41,
     "metadata": {},
     "output_type": "execute_result"
    }
   ],
   "source": [
    "u_shear"
   ]
  },
  {
   "cell_type": "code",
   "execution_count": 43,
   "metadata": {
    "ExecuteTime": {
     "end_time": "2021-11-21T22:42:32.199621Z",
     "start_time": "2021-11-21T22:42:32.192331Z"
    }
   },
   "outputs": [
    {
     "data": {
      "text/plain": [
       "scan  time                 uid\n",
       "26    2006-02-13 04:20:00  0        342.826843\n",
       "27    2006-02-13 04:30:00  0       -160.064697\n",
       "28    2006-02-13 04:40:00  0       4056.358337\n",
       "29    2006-02-13 04:50:00  0       5448.055267\n",
       "30    2006-02-13 05:00:00  0       7804.946899\n",
       "                                      ...     \n",
       "106   2006-02-13 17:50:00  6      13907.232285\n",
       "107   2006-02-13 18:00:00  6      24080.314636\n",
       "108   2006-02-13 18:10:00  6      11994.714737\n",
       "109   2006-02-13 18:20:00  6      16506.528854\n",
       "110   2006-02-13 18:30:00  6      15144.290924\n",
       "Name: x_vert_disp, Length: 62, dtype: float64"
      ]
     },
     "execution_count": 43,
     "metadata": {},
     "output_type": "execute_result"
    }
   ],
   "source": [
    "x_offset"
   ]
  },
  {
   "cell_type": "code",
   "execution_count": 40,
   "metadata": {
    "ExecuteTime": {
     "end_time": "2021-11-21T22:41:59.244539Z",
     "start_time": "2021-11-21T22:41:59.214092Z"
    }
   },
   "outputs": [
    {
     "data": {
      "text/plain": [
       "scan  time                 uid  level\n",
       "26    2006-02-13 04:20:00  0    0         -2058.616913\n",
       "                                1          1003.738717\n",
       "                                2           896.070518\n",
       "27    2006-02-13 04:30:00  0    0           972.108121\n",
       "                                1          -490.279768\n",
       "                                             ...      \n",
       "109   2006-02-13 18:20:00  6    1         63477.342297\n",
       "                                2         58048.840153\n",
       "110   2006-02-13 18:30:00  6    0       -131741.095406\n",
       "                                1         59052.587929\n",
       "                                2         53237.180214\n",
       "Length: 186, dtype: float64"
      ]
     },
     "execution_count": 40,
     "metadata": {},
     "output_type": "execute_result"
    }
   ],
   "source": [
    "tracks_obj.system_tracks['x_vert_disp'] * tracks_obj.tracks['u_shear']"
   ]
  },
  {
   "cell_type": "code",
   "execution_count": null,
   "metadata": {},
   "outputs": [],
   "source": []
  }
 ],
 "metadata": {
  "kernelspec": {
   "display_name": "Python 3 (ipykernel)",
   "language": "python",
   "name": "python3"
  },
  "language_info": {
   "codemirror_mode": {
    "name": "ipython",
    "version": 3
   },
   "file_extension": ".py",
   "mimetype": "text/x-python",
   "name": "python",
   "nbconvert_exporter": "python",
   "pygments_lexer": "ipython3",
   "version": "3.8.10"
  },
  "toc": {
   "base_numbering": 1,
   "nav_menu": {},
   "number_sections": true,
   "sideBar": true,
   "skip_h1_title": false,
   "title_cell": "Table of Contents",
   "title_sidebar": "Contents",
   "toc_cell": false,
   "toc_position": {
    "height": "calc(100% - 180px)",
    "left": "10px",
    "top": "150px",
    "width": "270px"
   },
   "toc_section_display": true,
   "toc_window_display": true
  }
 },
 "nbformat": 4,
 "nbformat_minor": 2
}
