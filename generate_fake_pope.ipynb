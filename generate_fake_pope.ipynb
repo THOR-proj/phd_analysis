{
 "cells": [
  {
   "cell_type": "code",
   "execution_count": 143,
   "id": "35539df9",
   "metadata": {
    "ExecuteTime": {
     "end_time": "2022-06-24T04:42:33.908644Z",
     "start_time": "2022-06-24T04:42:33.904590Z"
    }
   },
   "outputs": [],
   "source": [
    "import xarray as xr\n",
    "import numpy as np\n",
    "import pandas as pd\n",
    "from glob import glob"
   ]
  },
  {
   "cell_type": "code",
   "execution_count": 144,
   "id": "0a6e0070",
   "metadata": {
    "ExecuteTime": {
     "end_time": "2022-06-24T04:42:34.079577Z",
     "start_time": "2022-06-24T04:42:34.068426Z"
    }
   },
   "outputs": [],
   "source": [
    "base_dir = '/media/shorte1/Ewan\\'s Hard Drive/phd/data/era5/pressure-levels/reanalysis/u/'\n",
    "files = glob(base_dir + '*/u_era5_oper*.nc')"
   ]
  },
  {
   "cell_type": "code",
   "execution_count": 176,
   "id": "eb255d8e",
   "metadata": {
    "ExecuteTime": {
     "end_time": "2022-06-24T05:04:17.060307Z",
     "start_time": "2022-06-24T05:04:15.594061Z"
    }
   },
   "outputs": [],
   "source": [
    "df_list = []\n",
    "for f in files:\n",
    "\n",
    "    era5_data = xr.open_dataset(f)\n",
    "    fn = f.split('/')[-1]\n",
    "    start_date = fn.split('_')[4].split('-')[0]\n",
    "    start_date\n",
    "    year = int(start_date[:4])\n",
    "    month = int(start_date[4:6])\n",
    "\n",
    "    fake_pope = era5_data.sel(\n",
    "        longitude=130.8919, latitude=-12.4247, \n",
    "        method='nearest').sel(level=slice(600,800))\n",
    "    fake_pope = fake_pope.mean(dim='level').squeeze()\n",
    "    fake_pope = fake_pope.groupby(\"time.day\").mean()\n",
    "    fake_pope = ((fake_pope['u']>5).astype(int)+1)\n",
    "    times = fake_pope.day\n",
    "\n",
    "    dates = np.array(sorted([\n",
    "        '{:04}-{:02}-{:02}'.format(year, month, int(t))\n",
    "        for t in times]))\n",
    "\n",
    "    fake_pope = xr.DataArray(\n",
    "        fake_pope.values, dims='Dates', \n",
    "        coords={'Dates': dates}, name='Regime')\n",
    "    df_list.append(fake_pope.to_dataframe())\n",
    "    \n",
    "df = pd.concat(df_list)"
   ]
  },
  {
   "cell_type": "code",
   "execution_count": 177,
   "id": "a60ccd1c",
   "metadata": {
    "ExecuteTime": {
     "end_time": "2022-06-24T05:04:17.071480Z",
     "start_time": "2022-06-24T05:04:17.063422Z"
    }
   },
   "outputs": [],
   "source": [
    "df.to_csv('fake_pope_regimes.csv', header=False)"
   ]
  },
  {
   "cell_type": "code",
   "execution_count": 178,
   "id": "bc1a65a5",
   "metadata": {
    "ExecuteTime": {
     "end_time": "2022-06-24T05:04:17.117099Z",
     "start_time": "2022-06-24T05:04:17.073118Z"
    }
   },
   "outputs": [
    {
     "data": {
      "text/html": [
       "<div>\n",
       "<style scoped>\n",
       "    .dataframe tbody tr th:only-of-type {\n",
       "        vertical-align: middle;\n",
       "    }\n",
       "\n",
       "    .dataframe tbody tr th {\n",
       "        vertical-align: top;\n",
       "    }\n",
       "\n",
       "    .dataframe thead th {\n",
       "        text-align: right;\n",
       "    }\n",
       "</style>\n",
       "<table border=\"1\" class=\"dataframe\">\n",
       "  <thead>\n",
       "    <tr style=\"text-align: right;\">\n",
       "      <th></th>\n",
       "      <th>Regime</th>\n",
       "    </tr>\n",
       "    <tr>\n",
       "      <th>Dates</th>\n",
       "      <th></th>\n",
       "    </tr>\n",
       "  </thead>\n",
       "  <tbody>\n",
       "    <tr>\n",
       "      <th>1998-12-01</th>\n",
       "      <td>2</td>\n",
       "    </tr>\n",
       "    <tr>\n",
       "      <th>1998-12-02</th>\n",
       "      <td>4</td>\n",
       "    </tr>\n",
       "    <tr>\n",
       "      <th>1998-12-03</th>\n",
       "      <td>5</td>\n",
       "    </tr>\n",
       "    <tr>\n",
       "      <th>1998-12-04</th>\n",
       "      <td>5</td>\n",
       "    </tr>\n",
       "    <tr>\n",
       "      <th>1998-12-05</th>\n",
       "      <td>5</td>\n",
       "    </tr>\n",
       "    <tr>\n",
       "      <th>...</th>\n",
       "      <td>...</td>\n",
       "    </tr>\n",
       "    <tr>\n",
       "      <th>2017-02-22</th>\n",
       "      <td>1</td>\n",
       "    </tr>\n",
       "    <tr>\n",
       "      <th>2017-02-23</th>\n",
       "      <td>3</td>\n",
       "    </tr>\n",
       "    <tr>\n",
       "      <th>2017-02-24</th>\n",
       "      <td>5</td>\n",
       "    </tr>\n",
       "    <tr>\n",
       "      <th>2017-02-25</th>\n",
       "      <td>5</td>\n",
       "    </tr>\n",
       "    <tr>\n",
       "      <th>2017-02-26</th>\n",
       "      <td>5</td>\n",
       "    </tr>\n",
       "  </tbody>\n",
       "</table>\n",
       "<p>5742 rows × 1 columns</p>\n",
       "</div>"
      ],
      "text/plain": [
       "            Regime\n",
       "Dates             \n",
       "1998-12-01       2\n",
       "1998-12-02       4\n",
       "1998-12-03       5\n",
       "1998-12-04       5\n",
       "1998-12-05       5\n",
       "...            ...\n",
       "2017-02-22       1\n",
       "2017-02-23       3\n",
       "2017-02-24       5\n",
       "2017-02-25       5\n",
       "2017-02-26       5\n",
       "\n",
       "[5742 rows x 1 columns]"
      ]
     },
     "execution_count": 178,
     "metadata": {},
     "output_type": "execute_result"
    }
   ],
   "source": [
    "df_2 = pd.read_csv(\n",
    "    'Pope_regimes.csv', header=None, \n",
    "    names=['Dates', 'Regime'], index_col=0)\n",
    "df_2"
   ]
  },
  {
   "cell_type": "code",
   "execution_count": 179,
   "id": "bca56bb7",
   "metadata": {
    "ExecuteTime": {
     "end_time": "2022-06-24T05:04:17.136570Z",
     "start_time": "2022-06-24T05:04:17.124231Z"
    }
   },
   "outputs": [
    {
     "data": {
      "text/plain": [
       "Index(['2005-11-01', '2005-11-02', '2005-11-03', '2005-11-04', '2005-11-05',\n",
       "       '2005-11-06', '2005-11-07', '2005-11-08', '2005-11-09', '2005-11-10',\n",
       "       ...\n",
       "       '2006-04-21', '2006-04-22', '2006-04-23', '2006-04-24', '2006-04-25',\n",
       "       '2006-04-26', '2006-04-27', '2006-04-28', '2006-04-29', '2006-04-30'],\n",
       "      dtype='object', name='Dates', length=181)"
      ]
     },
     "execution_count": 179,
     "metadata": {},
     "output_type": "execute_result"
    }
   ],
   "source": [
    "df.index"
   ]
  },
  {
   "cell_type": "code",
   "execution_count": 180,
   "id": "3b223207",
   "metadata": {
    "ExecuteTime": {
     "end_time": "2022-06-24T05:04:17.360696Z",
     "start_time": "2022-06-24T05:04:17.139058Z"
    }
   },
   "outputs": [
    {
     "data": {
      "text/plain": [
       "<AxesSubplot:xlabel='Dates'>"
      ]
     },
     "execution_count": 180,
     "metadata": {},
     "output_type": "execute_result"
    },
    {
     "data": {
      "image/png": "[encoded data removed]",
      "text/plain": [
       "<Figure size 432x288 with 1 Axes>"
      ]
     },
     "metadata": {
      "needs_background": "light"
     },
     "output_type": "display_data"
    }
   ],
   "source": [
    "test = (df_2.loc[df.index]==2).astype(int)+1\n",
    "test.plot()"
   ]
  },
  {
   "cell_type": "code",
   "execution_count": 181,
   "id": "4a290d3e",
   "metadata": {
    "ExecuteTime": {
     "end_time": "2022-06-24T05:04:17.932775Z",
     "start_time": "2022-06-24T05:04:17.742787Z"
    }
   },
   "outputs": [
    {
     "data": {
      "text/plain": [
       "<AxesSubplot:xlabel='Dates'>"
      ]
     },
     "execution_count": 181,
     "metadata": {},
     "output_type": "execute_result"
    },
    {
     "data": {
      "image/png": "[encoded data removed]",
      "text/plain": [
       "<Figure size 432x288 with 1 Axes>"
      ]
     },
     "metadata": {
      "needs_background": "light"
     },
     "output_type": "display_data"
    }
   ],
   "source": [
    "df.plot()"
   ]
  },
  {
   "cell_type": "code",
   "execution_count": null,
   "id": "4d2fe5c1",
   "metadata": {},
   "outputs": [],
   "source": []
  }
 ],
 "metadata": {
  "kernelspec": {
   "display_name": "Python 3 (ipykernel)",
   "language": "python",
   "name": "python3"
  },
  "language_info": {
   "codemirror_mode": {
    "name": "ipython",
    "version": 3
   },
   "file_extension": ".py",
   "mimetype": "text/x-python",
   "name": "python",
   "nbconvert_exporter": "python",
   "pygments_lexer": "ipython3",
   "version": "3.8.10"
  },
  "toc": {
   "base_numbering": 1,
   "nav_menu": {},
   "number_sections": true,
   "sideBar": true,
   "skip_h1_title": false,
   "title_cell": "Table of Contents",
   "title_sidebar": "Contents",
   "toc_cell": false,
   "toc_position": {},
   "toc_section_display": true,
   "toc_window_display": false
  }
 },
 "nbformat": 4,
 "nbformat_minor": 5
}
