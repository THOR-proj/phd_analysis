{
 "cells": [
  {
   "cell_type": "code",
   "execution_count": 1,
   "id": "034ae7ef",
   "metadata": {
    "ExecuteTime": {
     "end_time": "2022-01-02T23:05:32.074401Z",
     "start_time": "2022-01-02T23:05:32.066324Z"
    }
   },
   "outputs": [],
   "source": [
    "import sys\n",
    "sys.path.insert(0, '/home/student.unimelb.edu.au/shorte1/Documents/TINT')"
   ]
  },
  {
   "cell_type": "code",
   "execution_count": 15,
   "id": "651d2a7c",
   "metadata": {
    "ExecuteTime": {
     "end_time": "2021-12-13T23:53:39.447371Z",
     "start_time": "2021-12-13T23:53:39.438403Z"
    }
   },
   "outputs": [],
   "source": [
    "import sys\n",
    "sys.path.insert(0, '/home/563/esh563/TINT')"
   ]
  },
  {
   "cell_type": "code",
   "execution_count": 2,
   "id": "c4a4d12d",
   "metadata": {
    "ExecuteTime": {
     "end_time": "2022-01-02T23:05:33.847475Z",
     "start_time": "2022-01-02T23:05:32.165565Z"
    }
   },
   "outputs": [
    {
     "name": "stdout",
     "output_type": "stream",
     "text": [
      "\n",
      "## You are using the Python ARM Radar Toolkit (Py-ART), an open source\n",
      "## library for working with weather radar data. Py-ART is partly\n",
      "## supported by the U.S. Department of Energy as part of the Atmospheric\n",
      "## Radiation Measurement (ARM) Climate Research Facility, an Office of\n",
      "## Science user facility.\n",
      "##\n",
      "## If you use this software to prepare a publication, please cite:\n",
      "##\n",
      "##     JJ Helmus and SM Collis, JORS 2016, doi: 10.5334/jors.119\n",
      "\n"
     ]
    },
    {
     "name": "stderr",
     "output_type": "stream",
     "text": [
      "/home/student.unimelb.edu.au/shorte1/anaconda3/envs/CPOL_analysis/lib/python3.8/site-packages/networkx/readwrite/graphml.py:346: DeprecationWarning: `np.int` is a deprecated alias for the builtin `int`. To silence this warning, use `int` by itself. Doing this will not modify any behavior and is safe. When replacing `np.int`, you may wish to use e.g. `np.int64` or `np.int32` to specify the precision. If you wish to review your current use, check the release note link for additional information.\n",
      "Deprecated in NumPy 1.20; for more details and guidance: https://numpy.org/devdocs/release/1.20.0-notes.html#deprecations\n",
      "  (np.int, \"int\"), (np.int8, \"int\"),\n",
      "/home/student.unimelb.edu.au/shorte1/anaconda3/envs/CPOL_analysis/lib/python3.8/site-packages/networkx/readwrite/gexf.py:220: DeprecationWarning: `np.int` is a deprecated alias for the builtin `int`. To silence this warning, use `int` by itself. Doing this will not modify any behavior and is safe. When replacing `np.int`, you may wish to use e.g. `np.int64` or `np.int32` to specify the precision. If you wish to review your current use, check the release note link for additional information.\n",
      "Deprecated in NumPy 1.20; for more details and guidance: https://numpy.org/devdocs/release/1.20.0-notes.html#deprecations\n",
      "  (np.int, \"int\"), (np.int8, \"int\"),\n",
      "/home/student.unimelb.edu.au/shorte1/anaconda3/envs/CPOL_analysis/lib/python3.8/site-packages/numba/core/types/__init__.py:108: DeprecationWarning: `np.long` is a deprecated alias for `np.compat.long`. To silence this warning, use `np.compat.long` by itself. In the likely event your code does not need to work on Python 2 you can use the builtin `int` for which `np.compat.long` is itself an alias. Doing this will not modify any behaviour and is safe. When replacing `np.long`, you may wish to use e.g. `np.int64` or `np.int32` to specify the precision. If you wish to review your current use, check the release note link for additional information.\n",
      "Deprecated in NumPy 1.20; for more details and guidance: https://numpy.org/devdocs/release/1.20.0-notes.html#deprecations\n",
      "  long_ = _make_signed(np.long)\n",
      "/home/student.unimelb.edu.au/shorte1/anaconda3/envs/CPOL_analysis/lib/python3.8/site-packages/numba/core/types/__init__.py:109: DeprecationWarning: `np.long` is a deprecated alias for `np.compat.long`. To silence this warning, use `np.compat.long` by itself. In the likely event your code does not need to work on Python 2 you can use the builtin `int` for which `np.compat.long` is itself an alias. Doing this will not modify any behaviour and is safe. When replacing `np.long`, you may wish to use e.g. `np.int64` or `np.int32` to specify the precision. If you wish to review your current use, check the release note link for additional information.\n",
      "Deprecated in NumPy 1.20; for more details and guidance: https://numpy.org/devdocs/release/1.20.0-notes.html#deprecations\n",
      "  ulong = _make_unsigned(np.long)\n"
     ]
    },
    {
     "name": "stdout",
     "output_type": "stream",
     "text": [
      "Automatic pdb calling has been turned ON\n"
     ]
    }
   ],
   "source": [
    "# Core\n",
    "import datetime\n",
    "import os\n",
    "import glob\n",
    "import tempfile\n",
    "import pickle\n",
    "import copy\n",
    "\n",
    "# Analysis\n",
    "import numpy as np\n",
    "import pandas as pd\n",
    "import xarray as xr\n",
    "\n",
    "# Plotting\n",
    "import matplotlib.pyplot as plt\n",
    "import matplotlib as mpl\n",
    "from matplotlib import rcParams\n",
    "\n",
    "# Debugging\n",
    "import pdb, traceback\n",
    "# %load_ext line_profiler\n",
    "\n",
    "# Radar Tools\n",
    "import pyart\n",
    "import tint\n",
    "# import tint.animate\n",
    "# from tint.visualisation import animate\n",
    "\n",
    "import CPOL_func as cf\n",
    "import classification as cl\n",
    "import two_dimensional_analysis as td\n",
    "import caine_func as caf\n",
    "import analysis\n",
    "\n",
    "# Convenience functions\n",
    "%load_ext autoreload\n",
    "%autoreload 1\n",
    "%aimport CPOL_func\n",
    "%aimport caine_func\n",
    "%aimport classification\n",
    "%aimport two_dimensional_analysis\n",
    "%aimport tint.visualisation.figures\n",
    "%aimport tint.visualisation.animate\n",
    "%aimport tint.visualisation.horizontal_helpers\n",
    "%aimport tint.visualisation.vertical_helpers\n",
    "%aimport tint.tracks\n",
    "%aimport tint.objects\n",
    "%aimport tint.grid_utils\n",
    "%aimport tint.steiner\n",
    "%aimport tint.matching\n",
    "%aimport tint.rain\n",
    "%aimport tint.cells\n",
    "%aimport tint.tracks_helpers\n",
    "%aimport tint.process_ERA5\n",
    "%aimport tint.process_WRF\n",
    "\n",
    "%pdb"
   ]
  },
  {
   "cell_type": "code",
   "execution_count": 3,
   "id": "db14a847",
   "metadata": {
    "ExecuteTime": {
     "end_time": "2022-01-02T23:05:34.113525Z",
     "start_time": "2022-01-02T23:05:34.106286Z"
    },
    "scrolled": true
   },
   "outputs": [],
   "source": [
    "base_dir = '/media/shorte1/Ewan\\'s Hard Drive/phd/data/CPOL/'\n",
    "save_dir = '/home/student.unimelb.edu.au/shorte1/Documents/TINT_tracks/'\n",
    "fig_dir = '/home/student.unimelb.edu.au/shorte1/Documents/TINT_figures/'\n",
    "ERA5_dir = '/media/shorte1/Ewan\\'s Hard Drive/phd/data/era5/'\n",
    "ERA5_dir += 'pressure-levels/reanalysis/'\n",
    "WRF_dir = '/media/shorte1/Ewan\\'s Hard Drive/phd/data/caine_WRF_data/'"
   ]
  },
  {
   "cell_type": "code",
   "execution_count": 16,
   "id": "0f19e0ee",
   "metadata": {
    "ExecuteTime": {
     "end_time": "2021-12-13T23:54:08.211457Z",
     "start_time": "2021-12-13T23:54:08.197547Z"
    }
   },
   "outputs": [],
   "source": [
    "base_dir = '/g/data/hj10/cpol/cpol_level_1b/v2020/gridded/grid_150km_2500m/'\n",
    "save_dir = '/home/563/esh563/TINT_tracks/'\n",
    "fig_dir = '/home/563/esh563/TINT_figures/'\n",
    "ERA5_dir = '/g/data/rt52/era5/pressure-levels/reanalysis/'"
   ]
  },
  {
   "cell_type": "code",
   "execution_count": 4,
   "id": "939382f8",
   "metadata": {
    "ExecuteTime": {
     "end_time": "2022-01-02T22:01:16.943195Z",
     "start_time": "2022-01-02T22:01:16.927242Z"
    }
   },
   "outputs": [],
   "source": [
    "rcParams.update({'font.family': 'serif'})\n",
    "rcParams.update({'font.serif': 'Liberation Serif'})\n",
    "rcParams.update({'mathtext.fontset': 'dejavuserif'})\n",
    "rcParams.update({'font.size': 12})"
   ]
  },
  {
   "cell_type": "code",
   "execution_count": 22,
   "id": "2045a1e6",
   "metadata": {
    "ExecuteTime": {
     "end_time": "2022-01-02T23:39:30.540858Z",
     "start_time": "2022-01-02T23:38:03.735432Z"
    }
   },
   "outputs": [
    {
     "name": "stdout",
     "output_type": "stream",
     "text": [
      "Getting data for year 1998.\n",
      "Recalculating Exclusions\n",
      "Getting data for year 1999.\n",
      "Recalculating Exclusions\n",
      "Getting data for year 2001.\n",
      "Recalculating Exclusions\n",
      "Getting data for year 2002.\n",
      "Recalculating Exclusions\n",
      "Getting data for year 2003.\n",
      "Recalculating Exclusions\n",
      "Getting data for year 2004.\n",
      "Recalculating Exclusions\n",
      "Getting data for year 2005.\n",
      "Recalculating Exclusions\n",
      "Getting data for year 2006.\n",
      "Recalculating Exclusions\n",
      "Getting data for year 2009.\n",
      "Recalculating Exclusions\n",
      "Getting data for year 2010.\n",
      "Recalculating Exclusions\n",
      "Getting data for year 2011.\n",
      "Recalculating Exclusions\n",
      "Getting data for year 2012.\n",
      "Recalculating Exclusions\n",
      "Getting data for year 2013.\n",
      "Recalculating Exclusions\n",
      "Getting data for year 2014.\n",
      "Recalculating Exclusions\n",
      "Getting data for year 2015.\n",
      "Recalculating Exclusions\n"
     ]
    }
   ],
   "source": [
    "class_thresh = {\n",
    "    'OFFSET_MAG': 10000,  # metres\n",
    "    'SHEAR_MAG': 2,  # m/s\n",
    "    'VEL_MAG': 5,  # m/s\n",
    "    'REL_VEL_MAG': 2,  # m/s\n",
    "    'ANGLE_BUFFER': 10}\n",
    "\n",
    "excl_thresh = {\n",
    "    'SMALL_AREA': 500,  # km^2\n",
    "    'LARGE_AREA': 50000,  # km^2\n",
    "    'BORD_THRESH': 0.001,  # Ratio border pixels to total pixels\n",
    "    'MAJOR_AXIS_LENGTH': 25,  # km\n",
    "    'AXIS_RATIO': 2,\n",
    "    'DURATION': 30} \n",
    "\n",
    "shear_angle_list, orientation_list, prop_angle_list = td.shear_versus_orientation(class_thresh, excl_thresh)"
   ]
  },
  {
   "cell_type": "code",
   "execution_count": 20,
   "id": "e7dbf4a1",
   "metadata": {
    "ExecuteTime": {
     "end_time": "2022-01-02T23:20:43.687893Z",
     "start_time": "2022-01-02T23:20:43.520062Z"
    }
   },
   "outputs": [
    {
     "data": {
      "image/png": "[encoded data removed]",
      "text/plain": [
       "<Figure size 288x288 with 1 Axes>"
      ]
     },
     "metadata": {
      "needs_background": "light"
     },
     "output_type": "display_data"
    }
   ],
   "source": [
    "td.shear_angle_versus_orientation_hist(shear_angle_list, orientation_list)"
   ]
  },
  {
   "cell_type": "code",
   "execution_count": 8,
   "id": "f4b71996",
   "metadata": {
    "ExecuteTime": {
     "end_time": "2022-01-02T23:11:19.570316Z",
     "start_time": "2022-01-02T23:11:19.376583Z"
    }
   },
   "outputs": [
    {
     "data": {
      "image/png": "[encoded data removed]",
      "text/plain": [
       "<Figure size 288x288 with 1 Axes>"
      ]
     },
     "metadata": {
      "needs_background": "light"
     },
     "output_type": "display_data"
    }
   ],
   "source": [
    "td.shear_angle_versus_orientation_scatter(shear_angle_list, orientation_list)"
   ]
  },
  {
   "cell_type": "code",
   "execution_count": null,
   "id": "41e051d3",
   "metadata": {},
   "outputs": [],
   "source": []
  }
 ],
 "metadata": {
  "kernelspec": {
   "display_name": "Python 3 (ipykernel)",
   "language": "python",
   "name": "python3"
  },
  "language_info": {
   "codemirror_mode": {
    "name": "ipython",
    "version": 3
   },
   "file_extension": ".py",
   "mimetype": "text/x-python",
   "name": "python",
   "nbconvert_exporter": "python",
   "pygments_lexer": "ipython3",
   "version": "3.8.10"
  },
  "toc": {
   "base_numbering": 1,
   "nav_menu": {},
   "number_sections": true,
   "sideBar": true,
   "skip_h1_title": false,
   "title_cell": "Table of Contents",
   "title_sidebar": "Contents",
   "toc_cell": false,
   "toc_position": {},
   "toc_section_display": true,
   "toc_window_display": false
  }
 },
 "nbformat": 4,
 "nbformat_minor": 5
}
