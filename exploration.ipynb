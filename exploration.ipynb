{
 "cells": [
  {
   "cell_type": "code",
   "execution_count": 1,
   "id": "034ae7ef",
   "metadata": {
    "ExecuteTime": {
     "end_time": "2021-12-24T06:17:24.483754Z",
     "start_time": "2021-12-24T06:17:24.476093Z"
    }
   },
   "outputs": [],
   "source": [
    "import sys\n",
    "sys.path.insert(0, '/home/student.unimelb.edu.au/shorte1/Documents/TINT')"
   ]
  },
  {
   "cell_type": "code",
   "execution_count": 15,
   "id": "651d2a7c",
   "metadata": {
    "ExecuteTime": {
     "end_time": "2021-12-13T23:53:39.447371Z",
     "start_time": "2021-12-13T23:53:39.438403Z"
    }
   },
   "outputs": [],
   "source": [
    "import sys\n",
    "sys.path.insert(0, '/home/563/esh563/TINT')"
   ]
  },
  {
   "cell_type": "code",
   "execution_count": 2,
   "id": "c4a4d12d",
   "metadata": {
    "ExecuteTime": {
     "end_time": "2021-12-24T06:17:28.053507Z",
     "start_time": "2021-12-24T06:17:25.628913Z"
    }
   },
   "outputs": [
    {
     "name": "stdout",
     "output_type": "stream",
     "text": [
      "\n",
      "## You are using the Python ARM Radar Toolkit (Py-ART), an open source\n",
      "## library for working with weather radar data. Py-ART is partly\n",
      "## supported by the U.S. Department of Energy as part of the Atmospheric\n",
      "## Radiation Measurement (ARM) Climate Research Facility, an Office of\n",
      "## Science user facility.\n",
      "##\n",
      "## If you use this software to prepare a publication, please cite:\n",
      "##\n",
      "##     JJ Helmus and SM Collis, JORS 2016, doi: 10.5334/jors.119\n",
      "\n"
     ]
    },
    {
     "name": "stderr",
     "output_type": "stream",
     "text": [
      "/home/student.unimelb.edu.au/shorte1/anaconda3/envs/CPOL_analysis/lib/python3.8/site-packages/networkx/readwrite/graphml.py:346: DeprecationWarning: `np.int` is a deprecated alias for the builtin `int`. To silence this warning, use `int` by itself. Doing this will not modify any behavior and is safe. When replacing `np.int`, you may wish to use e.g. `np.int64` or `np.int32` to specify the precision. If you wish to review your current use, check the release note link for additional information.\n",
      "Deprecated in NumPy 1.20; for more details and guidance: https://numpy.org/devdocs/release/1.20.0-notes.html#deprecations\n",
      "  (np.int, \"int\"), (np.int8, \"int\"),\n",
      "/home/student.unimelb.edu.au/shorte1/anaconda3/envs/CPOL_analysis/lib/python3.8/site-packages/networkx/readwrite/gexf.py:220: DeprecationWarning: `np.int` is a deprecated alias for the builtin `int`. To silence this warning, use `int` by itself. Doing this will not modify any behavior and is safe. When replacing `np.int`, you may wish to use e.g. `np.int64` or `np.int32` to specify the precision. If you wish to review your current use, check the release note link for additional information.\n",
      "Deprecated in NumPy 1.20; for more details and guidance: https://numpy.org/devdocs/release/1.20.0-notes.html#deprecations\n",
      "  (np.int, \"int\"), (np.int8, \"int\"),\n",
      "/home/student.unimelb.edu.au/shorte1/anaconda3/envs/CPOL_analysis/lib/python3.8/site-packages/numba/core/types/__init__.py:108: DeprecationWarning: `np.long` is a deprecated alias for `np.compat.long`. To silence this warning, use `np.compat.long` by itself. In the likely event your code does not need to work on Python 2 you can use the builtin `int` for which `np.compat.long` is itself an alias. Doing this will not modify any behaviour and is safe. When replacing `np.long`, you may wish to use e.g. `np.int64` or `np.int32` to specify the precision. If you wish to review your current use, check the release note link for additional information.\n",
      "Deprecated in NumPy 1.20; for more details and guidance: https://numpy.org/devdocs/release/1.20.0-notes.html#deprecations\n",
      "  long_ = _make_signed(np.long)\n",
      "/home/student.unimelb.edu.au/shorte1/anaconda3/envs/CPOL_analysis/lib/python3.8/site-packages/numba/core/types/__init__.py:109: DeprecationWarning: `np.long` is a deprecated alias for `np.compat.long`. To silence this warning, use `np.compat.long` by itself. In the likely event your code does not need to work on Python 2 you can use the builtin `int` for which `np.compat.long` is itself an alias. Doing this will not modify any behaviour and is safe. When replacing `np.long`, you may wish to use e.g. `np.int64` or `np.int32` to specify the precision. If you wish to review your current use, check the release note link for additional information.\n",
      "Deprecated in NumPy 1.20; for more details and guidance: https://numpy.org/devdocs/release/1.20.0-notes.html#deprecations\n",
      "  ulong = _make_unsigned(np.long)\n"
     ]
    },
    {
     "name": "stdout",
     "output_type": "stream",
     "text": [
      "Automatic pdb calling has been turned ON\n"
     ]
    }
   ],
   "source": [
    "# Core\n",
    "import datetime\n",
    "import os\n",
    "import glob\n",
    "import tempfile\n",
    "import pickle\n",
    "import copy\n",
    "\n",
    "# Analysis\n",
    "import numpy as np\n",
    "import pandas as pd\n",
    "import xarray as xr\n",
    "\n",
    "# Plotting\n",
    "import matplotlib.pyplot as plt\n",
    "import matplotlib as mpl\n",
    "from matplotlib import rcParams\n",
    "\n",
    "# Debugging\n",
    "import pdb, traceback\n",
    "# %load_ext line_profiler\n",
    "\n",
    "# Radar Tools\n",
    "import pyart\n",
    "import tint\n",
    "# import tint.animate\n",
    "# from tint.visualisation import animate\n",
    "\n",
    "import CPOL_func as cf\n",
    "import classification as cl\n",
    "import two_dimensional_analysis as td\n",
    "import caine_func as caf\n",
    "import analysis\n",
    "\n",
    "# Convenience functions\n",
    "%load_ext autoreload\n",
    "%autoreload 1\n",
    "%aimport CPOL_func\n",
    "%aimport caine_func\n",
    "%aimport classification\n",
    "%aimport two_dimensional_analysis\n",
    "%aimport tint.visualisation.figures\n",
    "%aimport tint.visualisation.animate\n",
    "%aimport tint.visualisation.horizontal_helpers\n",
    "%aimport tint.visualisation.vertical_helpers\n",
    "%aimport tint.tracks\n",
    "%aimport tint.objects\n",
    "%aimport tint.grid_utils\n",
    "%aimport tint.steiner\n",
    "%aimport tint.matching\n",
    "%aimport tint.rain\n",
    "%aimport tint.cells\n",
    "%aimport tint.tracks_helpers\n",
    "%aimport tint.process_ERA5\n",
    "%aimport tint.process_WRF\n",
    "\n",
    "%pdb"
   ]
  },
  {
   "cell_type": "code",
   "execution_count": 3,
   "id": "db14a847",
   "metadata": {
    "ExecuteTime": {
     "end_time": "2021-12-24T06:17:30.937005Z",
     "start_time": "2021-12-24T06:17:30.932143Z"
    },
    "scrolled": true
   },
   "outputs": [],
   "source": [
    "base_dir = '/media/shorte1/Ewan\\'s Hard Drive/phd/data/CPOL/'\n",
    "save_dir = '/home/student.unimelb.edu.au/shorte1/Documents/TINT_tracks/'\n",
    "fig_dir = '/home/student.unimelb.edu.au/shorte1/Documents/TINT_figures/'\n",
    "ERA5_dir = '/media/shorte1/Ewan\\'s Hard Drive/phd/data/era5/'\n",
    "ERA5_dir += 'pressure-levels/reanalysis/'\n",
    "WRF_dir = '/media/shorte1/Ewan\\'s Hard Drive/phd/data/caine_WRF_data/'"
   ]
  },
  {
   "cell_type": "code",
   "execution_count": 16,
   "id": "0f19e0ee",
   "metadata": {
    "ExecuteTime": {
     "end_time": "2021-12-13T23:54:08.211457Z",
     "start_time": "2021-12-13T23:54:08.197547Z"
    }
   },
   "outputs": [],
   "source": [
    "base_dir = '/g/data/hj10/cpol/cpol_level_1b/v2020/gridded/grid_150km_2500m/'\n",
    "save_dir = '/home/563/esh563/TINT_tracks/'\n",
    "fig_dir = '/home/563/esh563/TINT_figures/'\n",
    "ERA5_dir = '/g/data/rt52/era5/pressure-levels/reanalysis/'"
   ]
  },
  {
   "cell_type": "code",
   "execution_count": 4,
   "id": "939382f8",
   "metadata": {
    "ExecuteTime": {
     "end_time": "2021-12-24T06:17:31.672377Z",
     "start_time": "2021-12-24T06:17:31.661420Z"
    }
   },
   "outputs": [],
   "source": [
    "rcParams.update({'font.family': 'serif'})\n",
    "rcParams.update({'font.serif': 'Liberation Serif'})\n",
    "rcParams.update({'mathtext.fontset': 'dejavuserif'})\n",
    "rcParams.update({'font.size': 12})"
   ]
  },
  {
   "cell_type": "code",
   "execution_count": 13,
   "id": "c8355249",
   "metadata": {
    "ExecuteTime": {
     "end_time": "2021-12-24T02:37:16.089324Z",
     "start_time": "2021-12-24T02:37:09.643345Z"
    }
   },
   "outputs": [],
   "source": [
    "tpath = '/home/student.unimelb.edu.au/shorte1/Documents/TINT_tracks/20051001_20060501.pkl'\n",
    "with open(tpath, 'rb') as f:\n",
    "    tracks_obj = pickle.load(f)\n",
    "\n",
    "exclusions = [\n",
    "    'small_area', 'large_area', 'intersect_border',\n",
    "    'intersect_border_convective', 'duration_cond',\n",
    "    'small_velocity', 'small_offset']\n",
    "excluded = tracks_obj.exclusions[exclusions]\n",
    "amb = 'Ambiguous (On Quadrant Boundary)'\n",
    "quad_bound = tracks_obj.tracks_class['offset_type'] == amb\n",
    "excluded = np.logical_or(np.any(excluded, 1), quad_bound)\n",
    "included = np.logical_not(excluded)\n",
    "\n",
    "sub_classes = tracks_obj.tracks_class.where(included == True).dropna()\n",
    "\n",
    "FFTS_UST_DSP_cond = np.all(\n",
    "    sub_classes[['inflow_type', 'offset_type', 'tilt_type', 'propagation_type']]\n",
    "    == ('Front Fed', 'Trailing Stratiform', 'Up-Shear Tilted', 'Down-Shear Propagating'),\n",
    "    axis=1)\n",
    "\n",
    "inds = sub_classes.where(FFTS_UST_DSP_cond == True).dropna()\n",
    "inds = inds.index.values\n",
    "inds\n",
    "\n",
    "sub_tracks = tracks_obj.tracks.loc[inds]\n",
    "sub_tracks = sub_tracks.xs(0, level='level')\n",
    "\n",
    "u_shear = sub_tracks['u_shear']\n",
    "v_shear = sub_tracks['v_shear']\n",
    "\n",
    "shear_angle = np.arctan2(v_shear, u_shear)\n",
    "shear_angle = np.rad2deg(shear_angle)\n",
    "\n",
    "orientation = sub_tracks['orientation']\n",
    "\n",
    "fig, ax = plt.subplots(1, 1, figsize=(4, 4))\n",
    "plt.sca(ax)\n",
    "ax.scatter(\n",
    "    np.mod(shear_angle + 90, 180), np.mod(orientation, 180), \n",
    "    marker='.', s=2)\n",
    "plt.xticks(np.arange(0,180+30,30))\n",
    "plt.yticks(np.arange(0,180+30,30))"
   ]
  },
  {
   "cell_type": "code",
   "execution_count": 7,
   "id": "4a386e78",
   "metadata": {
    "ExecuteTime": {
     "end_time": "2021-12-24T06:18:17.977773Z",
     "start_time": "2021-12-24T06:18:17.965733Z"
    }
   },
   "outputs": [],
   "source": [
    "class_thresh = {\n",
    "    'OFFSET_MAG': 10000,  # metres\n",
    "    'SHEAR_MAG': 2,  # m/s\n",
    "    'VEL_MAG': 5,  # m/s\n",
    "    'REL_VEL_MAG': 2,  # m/s\n",
    "    'ANGLE_BUFFER': 10}\n",
    "\n",
    "excl_thresh = {\n",
    "    'SMALL_AREA': 500,  # km^2\n",
    "    'LARGE_AREA': 50000,  # km^2\n",
    "    'BORD_THRESH': 0.001,  # Ratio border pixels to total pixels\n",
    "    'MAJOR_AXIS_LENGTH': 50,  # km\n",
    "    'AXIS_RATIO': 2,\n",
    "    'DURATION': 30}  # minutes"
   ]
  },
  {
   "cell_type": "code",
   "execution_count": 162,
   "id": "5d57c20c",
   "metadata": {
    "ExecuteTime": {
     "end_time": "2021-12-24T08:06:11.516024Z",
     "start_time": "2021-12-24T08:05:00.011033Z"
    }
   },
   "outputs": [
    {
     "name": "stdout",
     "output_type": "stream",
     "text": [
      "Getting data for year 1998.\n",
      "Getting data for year 1999.\n",
      "Getting data for year 2001.\n",
      "Getting data for year 2002.\n",
      "Getting data for year 2003.\n",
      "Getting data for year 2004.\n",
      "Getting data for year 2005.\n",
      "Getting data for year 2006.\n",
      "Getting data for year 2009.\n",
      "Getting data for year 2010.\n",
      "Getting data for year 2011.\n",
      "Getting data for year 2012.\n",
      "Getting data for year 2013.\n",
      "Getting data for year 2014.\n",
      "Getting data for year 2015.\n"
     ]
    }
   ],
   "source": [
    "shear_angle_list, orientation_list, prop_angle_list = td.shear_versus_orientation()"
   ]
  },
  {
   "cell_type": "code",
   "execution_count": 165,
   "id": "f4b71996",
   "metadata": {
    "ExecuteTime": {
     "end_time": "2021-12-24T08:10:48.790503Z",
     "start_time": "2021-12-24T08:10:48.632613Z"
    }
   },
   "outputs": [
    {
     "data": {
      "image/png": "[encoded data removed]",
      "text/plain": [
       "<Figure size 288x288 with 1 Axes>"
      ]
     },
     "metadata": {
      "needs_background": "light"
     },
     "output_type": "display_data"
    }
   ],
   "source": [
    "td.plot_shear_angle_versus_orientation(shear_angle_list, orientation_list)"
   ]
  },
  {
   "cell_type": "code",
   "execution_count": 145,
   "id": "b2c0beb8",
   "metadata": {
    "ExecuteTime": {
     "end_time": "2021-12-24T07:46:14.142045Z",
     "start_time": "2021-12-24T07:46:13.970004Z"
    }
   },
   "outputs": [
    {
     "data": {
      "image/png": "[encoded data removed]",
      "text/plain": [
       "<Figure size 432x288 with 1 Axes>"
      ]
     },
     "metadata": {
      "needs_background": "light"
     },
     "output_type": "display_data"
    },
    {
     "data": {
      "text/plain": [
       "LinregressResult(slope=74.74138000932025, intercept=60.363643636569606, rvalue=0.5177590965512441, pvalue=0.00011774213247863552, stderr=17.825683867699738)"
      ]
     },
     "execution_count": 145,
     "metadata": {},
     "output_type": "execute_result"
    }
   ],
   "source": [
    "rng = np.random.default_rng()\n",
    "x = rng.random(50)\n",
    "y = 100*x+rng.random(50)*100\n",
    "res = stats.linregress(x, y)\n",
    "plt.plot(x, y, 'o', label='original data')\n",
    "plt.plot(x, res.intercept + res.slope*x, 'r', label='fitted line')\n",
    "plt.legend()\n",
    "plt.show()\n",
    "res"
   ]
  },
  {
   "cell_type": "code",
   "execution_count": 14,
   "id": "65acf660",
   "metadata": {
    "ExecuteTime": {
     "end_time": "2021-12-24T06:25:14.511568Z",
     "start_time": "2021-12-24T06:25:14.497783Z"
    }
   },
   "outputs": [],
   "source": [
    "shear_or_df = pd.DataFrame({'Shear': np.mod(np.array(shear_angle_list), 360), 'Line Normal': np.mod(np.array(orientation_list)+90, 360)})"
   ]
  },
  {
   "cell_type": "code",
   "execution_count": 21,
   "id": "3e426060",
   "metadata": {
    "ExecuteTime": {
     "end_time": "2021-12-24T06:30:39.613851Z",
     "start_time": "2021-12-24T06:30:39.602731Z"
    }
   },
   "outputs": [
    {
     "data": {
      "text/plain": [
       "LinregressResult(slope=0.3052510747821736, intercept=112.50247481085614, rvalue=0.1338808349287644, pvalue=1.4546972146914533e-08, stderr=0.053615435828603925)"
      ]
     },
     "execution_count": 21,
     "metadata": {},
     "output_type": "execute_result"
    }
   ],
   "source": [
    "shear = np.mod(np.array(shear_angle_list), 360)\n",
    "line_normal = np.mod(np.array(orientation_list)+90, 360)\n",
    "\n",
    "from scipy import stats\n",
    "stats.linregress(shear, line_normal)"
   ]
  },
  {
   "cell_type": "code",
   "execution_count": null,
   "id": "382acc9c",
   "metadata": {},
   "outputs": [],
   "source": []
  }
 ],
 "metadata": {
  "kernelspec": {
   "display_name": "Python 3 (ipykernel)",
   "language": "python",
   "name": "python3"
  },
  "language_info": {
   "codemirror_mode": {
    "name": "ipython",
    "version": 3
   },
   "file_extension": ".py",
   "mimetype": "text/x-python",
   "name": "python",
   "nbconvert_exporter": "python",
   "pygments_lexer": "ipython3",
   "version": "3.8.10"
  },
  "toc": {
   "base_numbering": 1,
   "nav_menu": {},
   "number_sections": true,
   "sideBar": true,
   "skip_h1_title": false,
   "title_cell": "Table of Contents",
   "title_sidebar": "Contents",
   "toc_cell": false,
   "toc_position": {},
   "toc_section_display": true,
   "toc_window_display": false
  }
 },
 "nbformat": 4,
 "nbformat_minor": 5
}
