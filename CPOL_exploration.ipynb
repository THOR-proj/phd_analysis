{
 "cells": [
  {
   "cell_type": "markdown",
   "metadata": {},
   "source": [
    "# Setup"
   ]
  },
  {
   "cell_type": "code",
   "execution_count": 27,
   "metadata": {
    "ExecuteTime": {
     "end_time": "2019-07-02T00:37:16.530096Z",
     "start_time": "2019-07-02T00:37:16.508438Z"
    }
   },
   "outputs": [
    {
     "name": "stdout",
     "output_type": "stream",
     "text": [
      "The line_profiler extension is already loaded. To reload it, use:\n",
      "  %reload_ext line_profiler\n"
     ]
    }
   ],
   "source": [
    "# Core \n",
    "import datetime\n",
    "import os\n",
    "import glob\n",
    "\n",
    "# Analysis \n",
    "import xarray as xr\n",
    "import numpy as np\n",
    "import pyproj as pp\n",
    "import scipy as sp\n",
    "import metpy as mp\n",
    "\n",
    "# Plotting \n",
    "import cartopy.crs as ccrs\n",
    "from cartopy.mpl.gridliner import LONGITUDE_FORMATTER, LATITUDE_FORMATTER\n",
    "import cartopy.feature as cfeature\n",
    "import matplotlib.pyplot as plt\n",
    "from matplotlib import rcParams\n",
    "import matplotlib.ticker as mticker\n",
    "from matplotlib.animation import FuncAnimation\n",
    "import matplotlib.colors as colors\n",
    "\n",
    "\n",
    "# Debugging \n",
    "import pdb\n",
    "%load_ext line_profiler"
   ]
  },
  {
   "cell_type": "markdown",
   "metadata": {},
   "source": [
    "## Surface Reflectivity"
   ]
  },
  {
   "cell_type": "code",
   "execution_count": 73,
   "metadata": {
    "ExecuteTime": {
     "end_time": "2019-07-02T01:33:19.266119Z",
     "start_time": "2019-07-02T01:33:15.627957Z"
    }
   },
   "outputs": [],
   "source": [
    "CPOL = xr.open_mfdataset('/g/data/rr5/CPOL_radar/CPOL_level_2_1km/REFLECTIVITY/CPOL_REFLECTIVITY_201612*.nc').load()"
   ]
  },
  {
   "cell_type": "code",
   "execution_count": 225,
   "metadata": {
    "ExecuteTime": {
     "end_time": "2019-07-02T05:07:59.777323Z",
     "start_time": "2019-07-02T04:46:57.325207Z"
    },
    "scrolled": true
   },
   "outputs": [
    {
     "name": "stdout",
     "output_type": "stream",
     "text": [
      "Drawing frame 00.7.\r"
     ]
    },
    {
     "data": {
      "image/png": "[encoded data removed]",
      "text/plain": [
       "<Figure size 360x360 with 2 Axes>"
      ]
     },
     "metadata": {
      "needs_background": "light"
     },
     "output_type": "display_data"
    }
   ],
   "source": [
    "# Initialise fonts\n",
    "rcParams.update({'font.family' : 'serif'})\n",
    "rcParams.update({'font.serif': 'Liberation Serif'})\n",
    "rcParams.update({'mathtext.fontset' : 'dejavuserif'}) \n",
    "rcParams.update({'font.size': 12})\n",
    "\n",
    "# Initialise figure\n",
    "plt.ioff()\n",
    "plt.close('all')\n",
    "fig = plt.figure(figsize=(5,5))\n",
    "\n",
    "# Define map boundaries\n",
    "lat_min = CPOL.latitude.min()\n",
    "lat_max = CPOL.latitude.max()\n",
    "lon_min = CPOL.longitude.min()\n",
    "lon_max = CPOL.longitude.max()\n",
    "\n",
    "# Set up cartopy\n",
    "ax = plt.axes(projection=ccrs.PlateCarree())\n",
    "ax.set_extent(\n",
    "    [lon_min, lon_max, lat_min, lat_max], \n",
    "    crs=ccrs.PlateCarree()\n",
    ")\n",
    "ax.coastlines(resolution='10m')\n",
    "\n",
    "# Find times when there is moderate reflectivity\n",
    "ref_times = (CPOL.reflectivity > 20).any(dim = ['latitude','longitude'])\n",
    "ref_times = ref_times.where(ref_times, drop=True)\n",
    "ref_times = ref_times.time.values\n",
    "\n",
    "dbz_contour = ax.pcolormesh(\n",
    "    CPOL.longitude, CPOL.latitude, CPOL.reflectivity.sel(time = ref_times[0]),\n",
    "    cmap='gist_ncar', transform=ccrs.PlateCarree(), vmin=-30, vmax=80,\n",
    ")\n",
    "cbar_w = plt.colorbar(dbz_contour, orientation='vertical')\n",
    "cbar_w.set_label('Reflectivity [dBZ]')\n",
    "\n",
    "# Draw grid (not working because of clearing collections in loop)\n",
    "grid = ax.gridlines(\n",
    "    crs=ccrs.PlateCarree(), draw_labels=True,\n",
    "    linewidth=1, color='gray', alpha=0.4, linestyle='--',\n",
    ")\n",
    "\n",
    "grid.xlabels_top = False\n",
    "grid.ylabels_right = False\n",
    "\n",
    "grid.xlocator = mticker.FixedLocator(\n",
    "    np.arange(np.floor(lon_min), np.ceil(lon_max)+1, 0.5)\n",
    ")\n",
    "grid.ylocator = mticker.FixedLocator(\n",
    "    np.arange(np.floor(lat_min), np.ceil(lat_max)+1, 0.5)\n",
    ")\n",
    "\n",
    "grid.xformatter = LONGITUDE_FORMATTER\n",
    "grid.yformatter = LATITUDE_FORMATTER\n",
    "\n",
    "# Make labels\n",
    "date_time = str(CPOL.time.values[0])[:10] + ' ' + str(CPOL.time.values[0])[11:16] + ' UTC'\n",
    "plt.title('Reflectivity [dBZ] \\n {}'.format(date_time))\n",
    "plt.xlabel('Longitude')\n",
    "plt.ylabel('Latitude')\n",
    "\n",
    "# Create directory for saving figures\n",
    "dt=str(datetime.datetime.now())[0:-7]\n",
    "dt=dt.replace(\" \", \"_\")\n",
    "dt=dt.replace(\":\", \"_\")\n",
    "dt=dt.replace(\"-\", \"\")         \n",
    "\n",
    "directory = '/g/data/w40/esh563/CPOL_analysis/figures/dbz_' + dt\n",
    "\n",
    "os.mkdir(directory)\n",
    "\n",
    "# pdb.set_trace()\n",
    "\n",
    "# Define animation update function\n",
    "def update(i):\n",
    "    \n",
    "    # Clear collections to correct animation issue.\n",
    "    ax.collections = []\n",
    "    \n",
    "    print('Drawing frame {}.'.format(str(i).zfill(2)),  end='\\r')\n",
    "\n",
    "    dbz_contour = ax.pcolormesh(\n",
    "        CPOL.longitude, CPOL.latitude, CPOL.reflectivity.sel(time = ref_times[i]), \n",
    "        vmin=-30, vmax=80, cmap='gist_ncar', transform=ccrs.PlateCarree(), animated=True\n",
    "    ) \n",
    "    \n",
    "    # Update title\n",
    "    date_time = str(ref_times[i])[:10] + ' ' + str(ref_times[i])[11:16] + ' UTC'\n",
    "    plt.title('Reflectivity [dBZ] \\n {}'.format(date_time))\n",
    "        \n",
    "    # Save frame\n",
    "    plt.savefig(\n",
    "        directory + '/{}.png'.format(str(i))\n",
    "    )\n",
    "\n",
    "    return dbz_contour, ax\n",
    "\n",
    "# Create and save animation\n",
    "anim = FuncAnimation(\n",
    "    fig, update, interval=200,\n",
    "    frames=np.arange(0, ref_times.size)\n",
    ")\n",
    "\n",
    "anim.save(directory + '/relectivity.gif', dpi=80, writer='imagemagick')"
   ]
  }
 ],
 "metadata": {
  "kernelspec": {
   "display_name": "Python [conda env:analysis3-19.04]",
   "language": "python",
   "name": "conda-env-analysis3-19.04-py"
  },
  "language_info": {
   "codemirror_mode": {
    "name": "ipython",
    "version": 3
   },
   "file_extension": ".py",
   "mimetype": "text/x-python",
   "name": "python",
   "nbconvert_exporter": "python",
   "pygments_lexer": "ipython3",
   "version": "3.6.7"
  },
  "toc": {
   "base_numbering": 1,
   "nav_menu": {},
   "number_sections": true,
   "sideBar": true,
   "skip_h1_title": false,
   "title_cell": "Table of Contents",
   "title_sidebar": "Contents",
   "toc_cell": false,
   "toc_position": {},
   "toc_section_display": true,
   "toc_window_display": false
  }
 },
 "nbformat": 4,
 "nbformat_minor": 2
}
