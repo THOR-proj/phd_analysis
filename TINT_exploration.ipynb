{
 "cells": [
  {
   "cell_type": "code",
   "execution_count": null,
   "metadata": {
    "ExecuteTime": {
     "end_time": "2019-07-03T00:53:54.150963Z",
     "start_time": "2019-07-03T00:53:44.043456Z"
    }
   },
   "outputs": [],
   "source": [
    "# Core \n",
    "import datetime\n",
    "import os\n",
    "import glob\n",
    "from IPython.display import HTML, Image, display\n",
    "import tempfile\n",
    "import shutil\n",
    "\n",
    "# Analysis \n",
    "import xarray as xr\n",
    "import numpy as np\n",
    "import pyproj as pp\n",
    "import scipy as sp\n",
    "import metpy as mp\n",
    "\n",
    "# Plotting \n",
    "import cartopy.crs as ccrs\n",
    "from cartopy.mpl.gridliner import LONGITUDE_FORMATTER, LATITUDE_FORMATTER\n",
    "import cartopy.feature as cfeature\n",
    "import matplotlib.pyplot as plt\n",
    "from matplotlib import rcParams\n",
    "import matplotlib.ticker as mticker\n",
    "from matplotlib.animation import FuncAnimation\n",
    "import matplotlib.colors as colors\n",
    "\n",
    "# Debugging \n",
    "import pdb\n",
    "%load_ext line_profiler\n",
    "\n",
    "# Radar Tools\n",
    "import pyart\n",
    "from tint.data_utils import get_nexrad_keys, read_nexrad_key\n",
    "from tint import Cell_tracks, animate\n",
    "from tint.visualization import embed_mp4_as_gif"
   ]
  },
  {
   "cell_type": "code",
   "execution_count": null,
   "metadata": {
    "ExecuteTime": {
     "end_time": "2019-07-03T01:48:12.700367Z",
     "start_time": "2019-07-03T01:48:12.660354Z"
    }
   },
   "outputs": [],
   "source": [
    "lon_min = 130.40\n",
    "lon_max = 131.69\n",
    "\n",
    "lat_max = -11.61\n",
    "lat_min = -12.87\n",
    "\n",
    "CPOL_ex = xr.open_dataset(\n",
    "    '/g/data/rr5/CPOL_radar/CPOL_level_1b/GRIDDED/GRID_70km_1000m/2016/20161220/CPOL_20161220_0240_GRIDS_1000m.nc'\n",
    ")"
   ]
  },
  {
   "cell_type": "code",
   "execution_count": null,
   "metadata": {
    "ExecuteTime": {
     "end_time": "2019-07-03T02:58:52.629280Z",
     "start_time": "2019-07-03T02:58:52.569396Z"
    }
   },
   "outputs": [],
   "source": [
    "# Now we can easily instantiate generators of these grids like so\n",
    "filenames = sorted(glob.glob('/g/data/rr5/CPOL_radar/CPOL_level_1b/GRIDDED/GRID_70km_1000m/2016/20161220/*_0*.nc'))\n",
    "grids = (pyart.io.read_grid(fn, include_fields = 'reflectivity') for fn in filenames)"
   ]
  },
  {
   "cell_type": "code",
   "execution_count": null,
   "metadata": {
    "ExecuteTime": {
     "end_time": "2019-07-03T02:58:53.241711Z",
     "start_time": "2019-07-03T02:58:53.233507Z"
    }
   },
   "outputs": [],
   "source": [
    "# First, let's instantiate a tracks object and view the default parameters\n",
    "tracks_obj = Cell_tracks()\n",
    "tracks_obj.params"
   ]
  },
  {
   "cell_type": "code",
   "execution_count": null,
   "metadata": {
    "ExecuteTime": {
     "end_time": "2019-07-03T02:59:04.631878Z",
     "start_time": "2019-07-03T02:58:54.373216Z"
    }
   },
   "outputs": [],
   "source": [
    "# The cells we're interested in look a bit small. Let's reduce the minimum size threshold.\n",
    "tracks_obj.params['MIN_SIZE'] = 16\n",
    "tracks_obj.params['FIELD_THRESH'] = 40\n",
    "tracks_obj.params['GS_ALT'] = 4000\n",
    "# We'll give the generator of grids we made earlier to the get_tracks method of our tracks object.\n",
    "tracks_obj.get_tracks(grids)"
   ]
  },
  {
   "cell_type": "code",
   "execution_count": null,
   "metadata": {
    "ExecuteTime": {
     "end_time": "2019-07-03T02:59:09.421471Z",
     "start_time": "2019-07-03T02:59:09.366255Z"
    }
   },
   "outputs": [],
   "source": [
    "# Now we can view the 'tracks' attribute of our tracks object to see the results.\n",
    "tracks_obj.tracks"
   ]
  },
  {
   "cell_type": "code",
   "execution_count": null,
   "metadata": {
    "ExecuteTime": {
     "end_time": "2019-07-03T02:59:23.119713Z",
     "start_time": "2019-07-03T02:59:23.112271Z"
    }
   },
   "outputs": [],
   "source": [
    "# We can visualize these tracks to assess the performance of the algorithm.\n",
    "# First we need to make another generator of the same grids for the animator\n",
    "grids = (pyart.io.read_grid(fn, include_fields = 'reflectivity') for fn in filenames)"
   ]
  },
  {
   "cell_type": "code",
   "execution_count": null,
   "metadata": {
    "ExecuteTime": {
     "end_time": "2019-07-03T03:01:19.771282Z",
     "start_time": "2019-07-03T02:59:24.636097Z"
    },
    "scrolled": true
   },
   "outputs": [],
   "source": [
    "# Let's save the animation in our temp directory so that it will be cleaned up later.\n",
    "shutil.rmtree(tmp_dir)\n",
    "tmp_dir = tempfile.mkdtemp()\n",
    "\n",
    "animate(tracks_obj, grids, os.path.join(tmp_dir, 'tint_CPOL_anim'),\n",
    "        lat_lines=np.arange(lat_min, lat_max, .1),\n",
    "        lon_lines=np.arange(lon_min, lon_max, .1),\n",
    "        tracers=True)"
   ]
  },
  {
   "cell_type": "code",
   "execution_count": null,
   "metadata": {
    "ExecuteTime": {
     "end_time": "2019-07-03T03:01:27.287189Z",
     "start_time": "2019-07-03T03:01:19.781134Z"
    }
   },
   "outputs": [],
   "source": [
    "# The animator saved an mp4 to our local directory. Now we can embed it as a gif in this notebook.\n",
    "embed_mp4_as_gif(os.path.join(tmp_dir, 'tint_CPOL_anim.mp4'))"
   ]
  },
  {
   "cell_type": "code",
   "execution_count": null,
   "metadata": {
    "ExecuteTime": {
     "end_time": "2019-07-03T03:38:16.788755Z",
     "start_time": "2019-07-03T03:38:16.756903Z"
    }
   },
   "outputs": [],
   "source": [
    "# Let's find the cells that were tracked for the most frames\n",
    "tracks_obj.tracks.groupby(level='uid').size().sort_values(ascending=False)[:10]"
   ]
  },
  {
   "cell_type": "code",
   "execution_count": null,
   "metadata": {
    "ExecuteTime": {
     "end_time": "2019-07-03T03:38:53.221504Z",
     "start_time": "2019-07-03T03:38:24.738575Z"
    }
   },
   "outputs": [],
   "source": [
    "# Now we can view these cells from a lagrangian perspective\n",
    "shutil.rmtree(tmp_dir)\n",
    "tmp_dir = tempfile.mkdtemp()\n",
    "\n",
    "grids = (pyart.io.read_grid(fn) for fn in filenames)  # refresh grid generator\n",
    "animate(tracks_obj, grids, os.path.join(tmp_dir, 'tint_demo_lagrangian'), style='lagrangian', uid='49', alt=2000)"
   ]
  },
  {
   "cell_type": "code",
   "execution_count": null,
   "metadata": {
    "ExecuteTime": {
     "end_time": "2019-07-03T02:32:46.754426Z",
     "start_time": "2019-07-03T02:32:44.712434Z"
    }
   },
   "outputs": [],
   "source": [
    "embed_mp4_as_gif(os.path.join(tmp_dir, 'tint_demo_lagrangian.mp4'))"
   ]
  },
  {
   "cell_type": "code",
   "execution_count": null,
   "metadata": {
    "ExecuteTime": {
     "end_time": "2019-07-03T02:41:58.210603Z",
     "start_time": "2019-07-03T02:41:58.182142Z"
    }
   },
   "outputs": [],
   "source": [
    "# We can view the attributes of this cell throughout its lifetime\n",
    "tracks_obj.tracks.xs('82', level='uid')"
   ]
  },
  {
   "cell_type": "code",
   "execution_count": null,
   "metadata": {},
   "outputs": [],
   "source": []
  }
 ],
 "metadata": {
  "kernelspec": {
   "display_name": "Python [conda env:analysis3-19.04]",
   "language": "python",
   "name": "conda-env-analysis3-19.04-py"
  },
  "language_info": {
   "codemirror_mode": {
    "name": "ipython",
    "version": 3
   },
   "file_extension": ".py",
   "mimetype": "text/x-python",
   "name": "python",
   "nbconvert_exporter": "python",
   "pygments_lexer": "ipython3",
   "version": "3.6.7"
  },
  "toc": {
   "base_numbering": 1,
   "nav_menu": {},
   "number_sections": true,
   "sideBar": true,
   "skip_h1_title": false,
   "title_cell": "Table of Contents",
   "title_sidebar": "Contents",
   "toc_cell": false,
   "toc_position": {},
   "toc_section_display": true,
   "toc_window_display": false
  }
 },
 "nbformat": 4,
 "nbformat_minor": 2
}
