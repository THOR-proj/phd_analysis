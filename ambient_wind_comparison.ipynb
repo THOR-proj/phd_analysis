{
 "cells": [
  {
   "cell_type": "code",
   "execution_count": 1,
   "id": "c40bc210",
   "metadata": {
    "ExecuteTime": {
     "end_time": "2022-08-17T00:39:50.794949Z",
     "start_time": "2022-08-17T00:39:49.468044Z"
    }
   },
   "outputs": [],
   "source": [
    "import xarray as xr\n",
    "import numpy as np\n",
    "import matplotlib.pyplot as plt"
   ]
  },
  {
   "cell_type": "code",
   "execution_count": 2,
   "id": "8e468b51",
   "metadata": {
    "ExecuteTime": {
     "end_time": "2022-08-17T00:40:22.141814Z",
     "start_time": "2022-08-17T00:40:22.133816Z"
    }
   },
   "outputs": [],
   "source": [
    "gadi = False"
   ]
  },
  {
   "cell_type": "code",
   "execution_count": 87,
   "id": "b3e32113",
   "metadata": {
    "ExecuteTime": {
     "end_time": "2022-08-17T02:07:35.057527Z",
     "start_time": "2022-08-17T02:07:35.049244Z"
    }
   },
   "outputs": [],
   "source": [
    "if gadi:\n",
    "    base_dir = '/g/data/wr45/'\n",
    "else:\n",
    "    base_dir = 'https://dapds00.nci.org.au/thredds/dodsC/wr45/'\n",
    "base_dir += 'ops_aps3/access-g/1/'"
   ]
  },
  {
   "cell_type": "code",
   "execution_count": 100,
   "id": "eb8ad15c",
   "metadata": {
    "ExecuteTime": {
     "end_time": "2022-08-17T02:15:17.123066Z",
     "start_time": "2022-08-17T02:15:17.112489Z"
    }
   },
   "outputs": [],
   "source": [
    "years = [2020, 2021]\n",
    "datetimes = np.arange(\n",
    "    np.datetime64('{}-10-01'.format(years[0])), \n",
    "    np.datetime64('{}-05-01'.format(years[0]+1)),\n",
    "    np.timedelta64(6, 'h'))"
   ]
  },
  {
   "cell_type": "code",
   "execution_count": 113,
   "id": "cd1c65e3",
   "metadata": {
    "ExecuteTime": {
     "end_time": "2022-08-17T03:26:45.487418Z",
     "start_time": "2022-08-17T03:24:09.290562Z"
    }
   },
   "outputs": [
    {
     "name": "stdout",
     "output_type": "stream",
     "text": [
      "Getting 2020-10-01T00 data.\n",
      "> \u001b[0;32m/tmp/ipykernel_12744/459704969.py\u001b[0m(21)\u001b[0;36m<module>\u001b[0;34m()\u001b[0m\n",
      "\u001b[0;32m     19 \u001b[0;31m    \u001b[0;32mimport\u001b[0m \u001b[0mpdb\u001b[0m\u001b[0;34m;\u001b[0m \u001b[0mpdb\u001b[0m\u001b[0;34m.\u001b[0m\u001b[0mset_trace\u001b[0m\u001b[0;34m(\u001b[0m\u001b[0;34m)\u001b[0m\u001b[0;34m\u001b[0m\u001b[0;34m\u001b[0m\u001b[0m\n",
      "\u001b[0m\u001b[0;32m     20 \u001b[0;31m\u001b[0;34m\u001b[0m\u001b[0m\n",
      "\u001b[0m\u001b[0;32m---> 21 \u001b[0;31m    an_datetime = np.datetime64(\n",
      "\u001b[0m\u001b[0;32m     22 \u001b[0;31m        '{}-{}-{}T{}:00:00'.format(date[0:4], date[4:6], date[6:], hour[:2]))\n",
      "\u001b[0m\u001b[0;32m     23 \u001b[0;31m    \u001b[0mfc_data_datetime\u001b[0m \u001b[0;34m=\u001b[0m \u001b[0man_datetime\u001b[0m \u001b[0;34m-\u001b[0m \u001b[0mnp\u001b[0m\u001b[0;34m.\u001b[0m\u001b[0mtimedelta64\u001b[0m\u001b[0;34m(\u001b[0m\u001b[0;36m1\u001b[0m\u001b[0;34m,\u001b[0m \u001b[0;34m'D'\u001b[0m\u001b[0;34m)\u001b[0m\u001b[0;34m\u001b[0m\u001b[0;34m\u001b[0m\u001b[0m\n",
      "\u001b[0m\n",
      "ipdb> v_an\n",
      "<xarray.Dataset>\n",
      "Dimensions:       (lat: 1537, lon: 2048, time: 1)\n",
      "Coordinates:\n",
      "  * time          (time) datetime64[ns] 2020-10-01\n",
      "  * lat           (lat) float32 90.0 89.88 89.77 89.65 ... -89.77 -89.88 -90.0\n",
      "  * lon           (lon) float32 0.08789 0.2637 0.4395 ... 359.6 359.7 359.9\n",
      "Data variables:\n",
      "    forc_minutes  (time) timedelta64[ns] ...\n",
      "    vwnd10m       (time, lat, lon) float32 ...\n",
      "Attributes:\n",
      "    Conventions:                     CF-1.5,ACDD-1.3\n",
      "    institution:                     Australian Bureau of Meteorology\n",
      "    source:                          APS3\n",
      "    date_created:                    20201002\n",
      "    summary:                         analysis data\n",
      "    title:                           analysis data\n",
      "    base_date:                       20201001\n",
      "    base_time:                       0\n",
      "    modl_vrsn:                       ACCESS-G\n",
      "    expt_id:                         0001\n",
      "    DODS_EXTRA.Unlimited_Dimension:  time\n",
      "ipdb> q\n"
     ]
    },
    {
     "ename": "BdbQuit",
     "evalue": "",
     "output_type": "error",
     "traceback": [
      "\u001b[0;31m---------------------------------------------------------------------------\u001b[0m",
      "\u001b[0;31mBdbQuit\u001b[0m                                   Traceback (most recent call last)",
      "\u001b[0;32m/tmp/ipykernel_12744/459704969.py\u001b[0m in \u001b[0;36m<module>\u001b[0;34m\u001b[0m\n\u001b[1;32m     19\u001b[0m     \u001b[0;32mimport\u001b[0m \u001b[0mpdb\u001b[0m\u001b[0;34m;\u001b[0m \u001b[0mpdb\u001b[0m\u001b[0;34m.\u001b[0m\u001b[0mset_trace\u001b[0m\u001b[0;34m(\u001b[0m\u001b[0;34m)\u001b[0m\u001b[0;34m\u001b[0m\u001b[0;34m\u001b[0m\u001b[0m\n\u001b[1;32m     20\u001b[0m \u001b[0;34m\u001b[0m\u001b[0m\n\u001b[0;32m---> 21\u001b[0;31m     an_datetime = np.datetime64(\n\u001b[0m\u001b[1;32m     22\u001b[0m         '{}-{}-{}T{}:00:00'.format(date[0:4], date[4:6], date[6:], hour[:2]))\n\u001b[1;32m     23\u001b[0m     \u001b[0mfc_data_datetime\u001b[0m \u001b[0;34m=\u001b[0m \u001b[0man_datetime\u001b[0m \u001b[0;34m-\u001b[0m \u001b[0mnp\u001b[0m\u001b[0;34m.\u001b[0m\u001b[0mtimedelta64\u001b[0m\u001b[0;34m(\u001b[0m\u001b[0;36m1\u001b[0m\u001b[0;34m,\u001b[0m \u001b[0;34m'D'\u001b[0m\u001b[0;34m)\u001b[0m\u001b[0;34m\u001b[0m\u001b[0;34m\u001b[0m\u001b[0m\n",
      "\u001b[0;32m/tmp/ipykernel_12744/459704969.py\u001b[0m in \u001b[0;36m<module>\u001b[0;34m\u001b[0m\n\u001b[1;32m     19\u001b[0m     \u001b[0;32mimport\u001b[0m \u001b[0mpdb\u001b[0m\u001b[0;34m;\u001b[0m \u001b[0mpdb\u001b[0m\u001b[0;34m.\u001b[0m\u001b[0mset_trace\u001b[0m\u001b[0;34m(\u001b[0m\u001b[0;34m)\u001b[0m\u001b[0;34m\u001b[0m\u001b[0;34m\u001b[0m\u001b[0m\n\u001b[1;32m     20\u001b[0m \u001b[0;34m\u001b[0m\u001b[0m\n\u001b[0;32m---> 21\u001b[0;31m     an_datetime = np.datetime64(\n\u001b[0m\u001b[1;32m     22\u001b[0m         '{}-{}-{}T{}:00:00'.format(date[0:4], date[4:6], date[6:], hour[:2]))\n\u001b[1;32m     23\u001b[0m     \u001b[0mfc_data_datetime\u001b[0m \u001b[0;34m=\u001b[0m \u001b[0man_datetime\u001b[0m \u001b[0;34m-\u001b[0m \u001b[0mnp\u001b[0m\u001b[0;34m.\u001b[0m\u001b[0mtimedelta64\u001b[0m\u001b[0;34m(\u001b[0m\u001b[0;36m1\u001b[0m\u001b[0;34m,\u001b[0m \u001b[0;34m'D'\u001b[0m\u001b[0;34m)\u001b[0m\u001b[0;34m\u001b[0m\u001b[0;34m\u001b[0m\u001b[0m\n",
      "\u001b[0;32m~/anaconda3/envs/CPOL_analysis/lib/python3.8/bdb.py\u001b[0m in \u001b[0;36mtrace_dispatch\u001b[0;34m(self, frame, event, arg)\u001b[0m\n\u001b[1;32m     86\u001b[0m             \u001b[0;32mreturn\u001b[0m \u001b[0;31m# None\u001b[0m\u001b[0;34m\u001b[0m\u001b[0;34m\u001b[0m\u001b[0m\n\u001b[1;32m     87\u001b[0m         \u001b[0;32mif\u001b[0m \u001b[0mevent\u001b[0m \u001b[0;34m==\u001b[0m \u001b[0;34m'line'\u001b[0m\u001b[0;34m:\u001b[0m\u001b[0;34m\u001b[0m\u001b[0;34m\u001b[0m\u001b[0m\n\u001b[0;32m---> 88\u001b[0;31m             \u001b[0;32mreturn\u001b[0m \u001b[0mself\u001b[0m\u001b[0;34m.\u001b[0m\u001b[0mdispatch_line\u001b[0m\u001b[0;34m(\u001b[0m\u001b[0mframe\u001b[0m\u001b[0;34m)\u001b[0m\u001b[0;34m\u001b[0m\u001b[0;34m\u001b[0m\u001b[0m\n\u001b[0m\u001b[1;32m     89\u001b[0m         \u001b[0;32mif\u001b[0m \u001b[0mevent\u001b[0m \u001b[0;34m==\u001b[0m \u001b[0;34m'call'\u001b[0m\u001b[0;34m:\u001b[0m\u001b[0;34m\u001b[0m\u001b[0;34m\u001b[0m\u001b[0m\n\u001b[1;32m     90\u001b[0m             \u001b[0;32mreturn\u001b[0m \u001b[0mself\u001b[0m\u001b[0;34m.\u001b[0m\u001b[0mdispatch_call\u001b[0m\u001b[0;34m(\u001b[0m\u001b[0mframe\u001b[0m\u001b[0;34m,\u001b[0m \u001b[0marg\u001b[0m\u001b[0;34m)\u001b[0m\u001b[0;34m\u001b[0m\u001b[0;34m\u001b[0m\u001b[0m\n",
      "\u001b[0;32m~/anaconda3/envs/CPOL_analysis/lib/python3.8/bdb.py\u001b[0m in \u001b[0;36mdispatch_line\u001b[0;34m(self, frame)\u001b[0m\n\u001b[1;32m    111\u001b[0m         \u001b[0;32mif\u001b[0m \u001b[0mself\u001b[0m\u001b[0;34m.\u001b[0m\u001b[0mstop_here\u001b[0m\u001b[0;34m(\u001b[0m\u001b[0mframe\u001b[0m\u001b[0;34m)\u001b[0m \u001b[0;32mor\u001b[0m \u001b[0mself\u001b[0m\u001b[0;34m.\u001b[0m\u001b[0mbreak_here\u001b[0m\u001b[0;34m(\u001b[0m\u001b[0mframe\u001b[0m\u001b[0;34m)\u001b[0m\u001b[0;34m:\u001b[0m\u001b[0;34m\u001b[0m\u001b[0;34m\u001b[0m\u001b[0m\n\u001b[1;32m    112\u001b[0m             \u001b[0mself\u001b[0m\u001b[0;34m.\u001b[0m\u001b[0muser_line\u001b[0m\u001b[0;34m(\u001b[0m\u001b[0mframe\u001b[0m\u001b[0;34m)\u001b[0m\u001b[0;34m\u001b[0m\u001b[0;34m\u001b[0m\u001b[0m\n\u001b[0;32m--> 113\u001b[0;31m             \u001b[0;32mif\u001b[0m \u001b[0mself\u001b[0m\u001b[0;34m.\u001b[0m\u001b[0mquitting\u001b[0m\u001b[0;34m:\u001b[0m \u001b[0;32mraise\u001b[0m \u001b[0mBdbQuit\u001b[0m\u001b[0;34m\u001b[0m\u001b[0;34m\u001b[0m\u001b[0m\n\u001b[0m\u001b[1;32m    114\u001b[0m         \u001b[0;32mreturn\u001b[0m \u001b[0mself\u001b[0m\u001b[0;34m.\u001b[0m\u001b[0mtrace_dispatch\u001b[0m\u001b[0;34m\u001b[0m\u001b[0;34m\u001b[0m\u001b[0m\n\u001b[1;32m    115\u001b[0m \u001b[0;34m\u001b[0m\u001b[0m\n",
      "\u001b[0;31mBdbQuit\u001b[0m: "
     ]
    }
   ],
   "source": [
    "u_fc_list = []\n",
    "v_fc_list = []\n",
    "u_an_list = []\n",
    "v_an_list = []\n",
    "\n",
    "for dt in datetimes[0:10]:\n",
    "\n",
    "    print('Getting {} data.'.format(dt))\n",
    "    fc_date_str = str(fc_data_datetime)[0:10].replace('-', '')\n",
    "    \n",
    "    date = str(dt)[0:10].replace('-', '')\n",
    "    hour = str(dt)[11:13].replace('-', '') + '00'\n",
    "\n",
    "    u_an = xr.open_dataset(\n",
    "        base_dir + date + '/' + hour + '/an/sfc/uwnd10m.nc')\n",
    "    v_an = xr.open_dataset(\n",
    "        base_dir + date + '/' + hour + '/an/sfc/vwnd10m.nc')\n",
    "    \n",
    "    import pdb; pdb.set_trace()\n",
    "\n",
    "    an_datetime = np.datetime64(\n",
    "        '{}-{}-{}T{}:00:00'.format(date[0:4], date[4:6], date[6:], hour[:2]))\n",
    "    fc_data_datetime = an_datetime - np.timedelta64(1, 'D')\n",
    "    fc_date_str = str(fc_data_datetime)[0:10].replace('-', '')\n",
    "\n",
    "    u_fc = xr.open_dataset(\n",
    "        base_dir + fc_date_str + '/' + '1200' + '/fc/sfc/uwnd10m.nc')\n",
    "    v_fc = xr.open_dataset(\n",
    "        base_dir + fc_date_str + '/' + '1200' + '/fc/sfc/vwnd10m.nc')\n",
    "\n",
    "    lon_min = 129\n",
    "    lon_max = 135\n",
    "    lat_min = -10\n",
    "    lat_max = -16\n",
    "\n",
    "    u_fc = u_fc.sel(lon=slice(lon_min, lon_max), lat=slice(lat_min, lat_max))\n",
    "    u_fc = u_fc.sel(time=an_datetime)\n",
    "    v_fc = v_fc.sel(lon=slice(lon_min, lon_max), lat=slice(lat_min, lat_max))\n",
    "    v_fc = v_fc.sel(time=an_datetime)\n",
    "    u_an = u_an.sel(lon=slice(lon_min, lon_max), lat=slice(lat_min, lat_max))\n",
    "    v_an = v_an.sel(lon=slice(lon_min, lon_max), lat=slice(lat_min, lat_max))\n",
    "    \n",
    "    u_fc_list.append(u_fc)\n",
    "    v_fc_list.append(v_fc)\n",
    "    u_an_list.append(u_an)\n",
    "    v_an_list.append(u_an)"
   ]
  },
  {
   "cell_type": "code",
   "execution_count": 109,
   "id": "0a6bb636",
   "metadata": {
    "ExecuteTime": {
     "end_time": "2022-08-17T03:15:35.402200Z",
     "start_time": "2022-08-17T03:15:33.042247Z"
    }
   },
   "outputs": [],
   "source": [
    "u_fc_all = xr.concat(u_fc_list, dim='time')"
   ]
  },
  {
   "cell_type": "code",
   "execution_count": 95,
   "id": "63e14589",
   "metadata": {
    "ExecuteTime": {
     "end_time": "2022-08-17T02:07:44.955345Z",
     "start_time": "2022-08-17T02:07:44.766948Z"
    }
   },
   "outputs": [
    {
     "data": {
      "text/plain": [
       "<matplotlib.collections.QuadMesh at 0x7f43777e6ca0>"
      ]
     },
     "execution_count": 95,
     "metadata": {},
     "output_type": "execute_result"
    },
    {
     "data": {
      "image/png": "[encoded data removed]",
      "text/plain": [
       "<Figure size 432x288 with 2 Axes>"
      ]
     },
     "metadata": {
      "needs_background": "light"
     },
     "output_type": "display_data"
    }
   ],
   "source": [
    "u_fc['uwnd10m'].plot()"
   ]
  },
  {
   "cell_type": "code",
   "execution_count": 96,
   "id": "39b9562d",
   "metadata": {
    "ExecuteTime": {
     "end_time": "2022-08-17T02:07:48.865836Z",
     "start_time": "2022-08-17T02:07:48.638031Z"
    }
   },
   "outputs": [
    {
     "data": {
      "text/plain": [
       "<matplotlib.collections.QuadMesh at 0x7f4377725b20>"
      ]
     },
     "execution_count": 96,
     "metadata": {},
     "output_type": "execute_result"
    },
    {
     "data": {
      "image/png": "[encoded data removed]",
      "text/plain": [
       "<Figure size 432x288 with 2 Axes>"
      ]
     },
     "metadata": {
      "needs_background": "light"
     },
     "output_type": "display_data"
    }
   ],
   "source": [
    "u_an['uwnd10m'].plot()"
   ]
  },
  {
   "cell_type": "code",
   "execution_count": 42,
   "id": "42f9fd06",
   "metadata": {
    "ExecuteTime": {
     "end_time": "2022-08-17T01:24:46.422050Z",
     "start_time": "2022-08-17T01:24:46.410126Z"
    }
   },
   "outputs": [
    {
     "data": {
      "text/plain": [
       "'10'"
      ]
     },
     "execution_count": 42,
     "metadata": {},
     "output_type": "execute_result"
    }
   ],
   "source": [
    "date[4:6]"
   ]
  },
  {
   "cell_type": "code",
   "execution_count": 34,
   "id": "b593ea05",
   "metadata": {
    "ExecuteTime": {
     "end_time": "2022-08-17T01:08:36.605080Z",
     "start_time": "2022-08-17T01:08:34.371909Z"
    }
   },
   "outputs": [],
   "source": [
    "p_fcmm = xr.open_dataset(base_dir + date + '/' + hour + '/fcmm/ml/pressure.nc')"
   ]
  },
  {
   "cell_type": "code",
   "execution_count": 62,
   "id": "3ed10021",
   "metadata": {
    "ExecuteTime": {
     "end_time": "2022-08-17T01:33:21.915756Z",
     "start_time": "2022-08-17T01:33:21.904072Z"
    }
   },
   "outputs": [
    {
     "data": {
      "text/plain": [
       "numpy.datetime64('2020-10-01T00:00:00')"
      ]
     },
     "execution_count": 62,
     "metadata": {},
     "output_type": "execute_result"
    }
   ],
   "source": [
    "an_datetime"
   ]
  },
  {
   "cell_type": "code",
   "execution_count": 22,
   "id": "9bdeeba1",
   "metadata": {
    "ExecuteTime": {
     "end_time": "2022-08-17T00:58:27.149647Z",
     "start_time": "2022-08-17T00:58:27.050433Z"
    }
   },
   "outputs": [],
   "source": [
    "z = u_fc.A_rho + u_fc.B_rho * topog['topog']"
   ]
  },
  {
   "cell_type": "code",
   "execution_count": 72,
   "id": "1ddb2cbf",
   "metadata": {
    "ExecuteTime": {
     "end_time": "2022-08-17T01:35:40.556655Z",
     "start_time": "2022-08-17T01:35:40.518274Z"
    }
   },
   "outputs": [
    {
     "data": {
      "text/html": [
       "<div><svg style=\"position: absolute; width: 0; height: 0; overflow: hidden\">\n",
       "<defs>\n",
       "<symbol id=\"icon-database\" viewBox=\"0 0 32 32\">\n",
       "<path d=\"M16 0c-8.837 0-16 2.239-16 5v4c0 2.761 7.163 5 16 5s16-2.239 16-5v-4c0-2.761-7.163-5-16-5z\"></path>\n",
       "<path d=\"M16 17c-8.837 0-16-2.239-16-5v6c0 2.761 7.163 5 16 5s16-2.239 16-5v-6c0 2.761-7.163 5-16 5z\"></path>\n",
       "<path d=\"M16 26c-8.837 0-16-2.239-16-5v6c0 2.761 7.163 5 16 5s16-2.239 16-5v-6c0 2.761-7.163 5-16 5z\"></path>\n",
       "</symbol>\n",
       "<symbol id=\"icon-file-text2\" viewBox=\"0 0 32 32\">\n",
       "<path d=\"M28.681 7.159c-0.694-0.947-1.662-2.053-2.724-3.116s-2.169-2.030-3.116-2.724c-1.612-1.182-2.393-1.319-2.841-1.319h-15.5c-1.378 0-2.5 1.121-2.5 2.5v27c0 1.378 1.122 2.5 2.5 2.5h23c1.378 0 2.5-1.122 2.5-2.5v-19.5c0-0.448-0.137-1.23-1.319-2.841zM24.543 5.457c0.959 0.959 1.712 1.825 2.268 2.543h-4.811v-4.811c0.718 0.556 1.584 1.309 2.543 2.268zM28 29.5c0 0.271-0.229 0.5-0.5 0.5h-23c-0.271 0-0.5-0.229-0.5-0.5v-27c0-0.271 0.229-0.5 0.5-0.5 0 0 15.499-0 15.5 0v7c0 0.552 0.448 1 1 1h7v19.5z\"></path>\n",
       "<path d=\"M23 26h-14c-0.552 0-1-0.448-1-1s0.448-1 1-1h14c0.552 0 1 0.448 1 1s-0.448 1-1 1z\"></path>\n",
       "<path d=\"M23 22h-14c-0.552 0-1-0.448-1-1s0.448-1 1-1h14c0.552 0 1 0.448 1 1s-0.448 1-1 1z\"></path>\n",
       "<path d=\"M23 18h-14c-0.552 0-1-0.448-1-1s0.448-1 1-1h14c0.552 0 1 0.448 1 1s-0.448 1-1 1z\"></path>\n",
       "</symbol>\n",
       "</defs>\n",
       "</svg>\n",
       "<style>/* CSS stylesheet for displaying xarray objects in jupyterlab.\n",
       " *\n",
       " */\n",
       "\n",
       ":root {\n",
       "  --xr-font-color0: var(--jp-content-font-color0, rgba(0, 0, 0, 1));\n",
       "  --xr-font-color2: var(--jp-content-font-color2, rgba(0, 0, 0, 0.54));\n",
       "  --xr-font-color3: var(--jp-content-font-color3, rgba(0, 0, 0, 0.38));\n",
       "  --xr-border-color: var(--jp-border-color2, #e0e0e0);\n",
       "  --xr-disabled-color: var(--jp-layout-color3, #bdbdbd);\n",
       "  --xr-background-color: var(--jp-layout-color0, white);\n",
       "  --xr-background-color-row-even: var(--jp-layout-color1, white);\n",
       "  --xr-background-color-row-odd: var(--jp-layout-color2, #eeeeee);\n",
       "}\n",
       "\n",
       "html[theme=dark],\n",
       "body.vscode-dark {\n",
       "  --xr-font-color0: rgba(255, 255, 255, 1);\n",
       "  --xr-font-color2: rgba(255, 255, 255, 0.54);\n",
       "  --xr-font-color3: rgba(255, 255, 255, 0.38);\n",
       "  --xr-border-color: #1F1F1F;\n",
       "  --xr-disabled-color: #515151;\n",
       "  --xr-background-color: #111111;\n",
       "  --xr-background-color-row-even: #111111;\n",
       "  --xr-background-color-row-odd: #313131;\n",
       "}\n",
       "\n",
       ".xr-wrap {\n",
       "  display: block;\n",
       "  min-width: 300px;\n",
       "  max-width: 700px;\n",
       "}\n",
       "\n",
       ".xr-text-repr-fallback {\n",
       "  /* fallback to plain text repr when CSS is not injected (untrusted notebook) */\n",
       "  display: none;\n",
       "}\n",
       "\n",
       ".xr-header {\n",
       "  padding-top: 6px;\n",
       "  padding-bottom: 6px;\n",
       "  margin-bottom: 4px;\n",
       "  border-bottom: solid 1px var(--xr-border-color);\n",
       "}\n",
       "\n",
       ".xr-header > div,\n",
       ".xr-header > ul {\n",
       "  display: inline;\n",
       "  margin-top: 0;\n",
       "  margin-bottom: 0;\n",
       "}\n",
       "\n",
       ".xr-obj-type,\n",
       ".xr-array-name {\n",
       "  margin-left: 2px;\n",
       "  margin-right: 10px;\n",
       "}\n",
       "\n",
       ".xr-obj-type {\n",
       "  color: var(--xr-font-color2);\n",
       "}\n",
       "\n",
       ".xr-sections {\n",
       "  padding-left: 0 !important;\n",
       "  display: grid;\n",
       "  grid-template-columns: 150px auto auto 1fr 20px 20px;\n",
       "}\n",
       "\n",
       ".xr-section-item {\n",
       "  display: contents;\n",
       "}\n",
       "\n",
       ".xr-section-item input {\n",
       "  display: none;\n",
       "}\n",
       "\n",
       ".xr-section-item input + label {\n",
       "  color: var(--xr-disabled-color);\n",
       "}\n",
       "\n",
       ".xr-section-item input:enabled + label {\n",
       "  cursor: pointer;\n",
       "  color: var(--xr-font-color2);\n",
       "}\n",
       "\n",
       ".xr-section-item input:enabled + label:hover {\n",
       "  color: var(--xr-font-color0);\n",
       "}\n",
       "\n",
       ".xr-section-summary {\n",
       "  grid-column: 1;\n",
       "  color: var(--xr-font-color2);\n",
       "  font-weight: 500;\n",
       "}\n",
       "\n",
       ".xr-section-summary > span {\n",
       "  display: inline-block;\n",
       "  padding-left: 0.5em;\n",
       "}\n",
       "\n",
       ".xr-section-summary-in:disabled + label {\n",
       "  color: var(--xr-font-color2);\n",
       "}\n",
       "\n",
       ".xr-section-summary-in + label:before {\n",
       "  display: inline-block;\n",
       "  content: '►';\n",
       "  font-size: 11px;\n",
       "  width: 15px;\n",
       "  text-align: center;\n",
       "}\n",
       "\n",
       ".xr-section-summary-in:disabled + label:before {\n",
       "  color: var(--xr-disabled-color);\n",
       "}\n",
       "\n",
       ".xr-section-summary-in:checked + label:before {\n",
       "  content: '▼';\n",
       "}\n",
       "\n",
       ".xr-section-summary-in:checked + label > span {\n",
       "  display: none;\n",
       "}\n",
       "\n",
       ".xr-section-summary,\n",
       ".xr-section-inline-details {\n",
       "  padding-top: 4px;\n",
       "  padding-bottom: 4px;\n",
       "}\n",
       "\n",
       ".xr-section-inline-details {\n",
       "  grid-column: 2 / -1;\n",
       "}\n",
       "\n",
       ".xr-section-details {\n",
       "  display: none;\n",
       "  grid-column: 1 / -1;\n",
       "  margin-bottom: 5px;\n",
       "}\n",
       "\n",
       ".xr-section-summary-in:checked ~ .xr-section-details {\n",
       "  display: contents;\n",
       "}\n",
       "\n",
       ".xr-array-wrap {\n",
       "  grid-column: 1 / -1;\n",
       "  display: grid;\n",
       "  grid-template-columns: 20px auto;\n",
       "}\n",
       "\n",
       ".xr-array-wrap > label {\n",
       "  grid-column: 1;\n",
       "  vertical-align: top;\n",
       "}\n",
       "\n",
       ".xr-preview {\n",
       "  color: var(--xr-font-color3);\n",
       "}\n",
       "\n",
       ".xr-array-preview,\n",
       ".xr-array-data {\n",
       "  padding: 0 5px !important;\n",
       "  grid-column: 2;\n",
       "}\n",
       "\n",
       ".xr-array-data,\n",
       ".xr-array-in:checked ~ .xr-array-preview {\n",
       "  display: none;\n",
       "}\n",
       "\n",
       ".xr-array-in:checked ~ .xr-array-data,\n",
       ".xr-array-preview {\n",
       "  display: inline-block;\n",
       "}\n",
       "\n",
       ".xr-dim-list {\n",
       "  display: inline-block !important;\n",
       "  list-style: none;\n",
       "  padding: 0 !important;\n",
       "  margin: 0;\n",
       "}\n",
       "\n",
       ".xr-dim-list li {\n",
       "  display: inline-block;\n",
       "  padding: 0;\n",
       "  margin: 0;\n",
       "}\n",
       "\n",
       ".xr-dim-list:before {\n",
       "  content: '(';\n",
       "}\n",
       "\n",
       ".xr-dim-list:after {\n",
       "  content: ')';\n",
       "}\n",
       "\n",
       ".xr-dim-list li:not(:last-child):after {\n",
       "  content: ',';\n",
       "  padding-right: 5px;\n",
       "}\n",
       "\n",
       ".xr-has-index {\n",
       "  font-weight: bold;\n",
       "}\n",
       "\n",
       ".xr-var-list,\n",
       ".xr-var-item {\n",
       "  display: contents;\n",
       "}\n",
       "\n",
       ".xr-var-item > div,\n",
       ".xr-var-item label,\n",
       ".xr-var-item > .xr-var-name span {\n",
       "  background-color: var(--xr-background-color-row-even);\n",
       "  margin-bottom: 0;\n",
       "}\n",
       "\n",
       ".xr-var-item > .xr-var-name:hover span {\n",
       "  padding-right: 5px;\n",
       "}\n",
       "\n",
       ".xr-var-list > li:nth-child(odd) > div,\n",
       ".xr-var-list > li:nth-child(odd) > label,\n",
       ".xr-var-list > li:nth-child(odd) > .xr-var-name span {\n",
       "  background-color: var(--xr-background-color-row-odd);\n",
       "}\n",
       "\n",
       ".xr-var-name {\n",
       "  grid-column: 1;\n",
       "}\n",
       "\n",
       ".xr-var-dims {\n",
       "  grid-column: 2;\n",
       "}\n",
       "\n",
       ".xr-var-dtype {\n",
       "  grid-column: 3;\n",
       "  text-align: right;\n",
       "  color: var(--xr-font-color2);\n",
       "}\n",
       "\n",
       ".xr-var-preview {\n",
       "  grid-column: 4;\n",
       "}\n",
       "\n",
       ".xr-var-name,\n",
       ".xr-var-dims,\n",
       ".xr-var-dtype,\n",
       ".xr-preview,\n",
       ".xr-attrs dt {\n",
       "  white-space: nowrap;\n",
       "  overflow: hidden;\n",
       "  text-overflow: ellipsis;\n",
       "  padding-right: 10px;\n",
       "}\n",
       "\n",
       ".xr-var-name:hover,\n",
       ".xr-var-dims:hover,\n",
       ".xr-var-dtype:hover,\n",
       ".xr-attrs dt:hover {\n",
       "  overflow: visible;\n",
       "  width: auto;\n",
       "  z-index: 1;\n",
       "}\n",
       "\n",
       ".xr-var-attrs,\n",
       ".xr-var-data {\n",
       "  display: none;\n",
       "  background-color: var(--xr-background-color) !important;\n",
       "  padding-bottom: 5px !important;\n",
       "}\n",
       "\n",
       ".xr-var-attrs-in:checked ~ .xr-var-attrs,\n",
       ".xr-var-data-in:checked ~ .xr-var-data {\n",
       "  display: block;\n",
       "}\n",
       "\n",
       ".xr-var-data > table {\n",
       "  float: right;\n",
       "}\n",
       "\n",
       ".xr-var-name span,\n",
       ".xr-var-data,\n",
       ".xr-attrs {\n",
       "  padding-left: 25px !important;\n",
       "}\n",
       "\n",
       ".xr-attrs,\n",
       ".xr-var-attrs,\n",
       ".xr-var-data {\n",
       "  grid-column: 1 / -1;\n",
       "}\n",
       "\n",
       "dl.xr-attrs {\n",
       "  padding: 0;\n",
       "  margin: 0;\n",
       "  display: grid;\n",
       "  grid-template-columns: 125px auto;\n",
       "}\n",
       "\n",
       ".xr-attrs dt,\n",
       ".xr-attrs dd {\n",
       "  padding: 0;\n",
       "  margin: 0;\n",
       "  float: left;\n",
       "  padding-right: 10px;\n",
       "  width: auto;\n",
       "}\n",
       "\n",
       ".xr-attrs dt {\n",
       "  font-weight: normal;\n",
       "  grid-column: 1;\n",
       "}\n",
       "\n",
       ".xr-attrs dt:hover span {\n",
       "  display: inline-block;\n",
       "  background: var(--xr-background-color);\n",
       "  padding-right: 10px;\n",
       "}\n",
       "\n",
       ".xr-attrs dd {\n",
       "  grid-column: 2;\n",
       "  white-space: pre-wrap;\n",
       "  word-break: break-all;\n",
       "}\n",
       "\n",
       ".xr-icon-database,\n",
       ".xr-icon-file-text2 {\n",
       "  display: inline-block;\n",
       "  vertical-align: middle;\n",
       "  width: 1em;\n",
       "  height: 1.5em !important;\n",
       "  stroke-width: 0;\n",
       "  stroke: currentColor;\n",
       "  fill: currentColor;\n",
       "}\n",
       "</style><pre class='xr-text-repr-fallback'>&lt;xarray.Dataset&gt;\n",
       "Dimensions:       (lat: 86, lon: 68, time: 240)\n",
       "Coordinates:\n",
       "  * time          (time) datetime64[ns] 2020-09-30T13:00:00 ... 2020-10-10T12...\n",
       "  * lat           (lat) float32 -8.027 -8.145 -8.262 ... -17.75 -17.87 -17.99\n",
       "  * lon           (lon) float32 127.1 127.3 127.4 127.6 ... 138.5 138.7 138.9\n",
       "Data variables:\n",
       "    forc_minutes  (time) timedelta64[ns] 01:00:00 02:00:00 ... 10 days 00:00:00\n",
       "    uwnd10m       (time, lat, lon) float32 ...\n",
       "Attributes:\n",
       "    Conventions:                     CF-1.5,ACDD-1.3\n",
       "    institution:                     Australian Bureau of Meteorology\n",
       "    source:                          APS3\n",
       "    date_created:                    20201001\n",
       "    summary:                         forecast data\n",
       "    title:                           forecast data\n",
       "    base_date:                       20200930\n",
       "    base_time:                       1200\n",
       "    modl_vrsn:                       ACCESS-G\n",
       "    expt_id:                         0001\n",
       "    DODS_EXTRA.Unlimited_Dimension:  time</pre><div class='xr-wrap' hidden><div class='xr-header'><div class='xr-obj-type'>xarray.Dataset</div></div><ul class='xr-sections'><li class='xr-section-item'><input id='section-6bb1906e-ed55-4836-9b79-fa9c98be3dc8' class='xr-section-summary-in' type='checkbox' disabled ><label for='section-6bb1906e-ed55-4836-9b79-fa9c98be3dc8' class='xr-section-summary'  title='Expand/collapse section'>Dimensions:</label><div class='xr-section-inline-details'><ul class='xr-dim-list'><li><span class='xr-has-index'>lat</span>: 86</li><li><span class='xr-has-index'>lon</span>: 68</li><li><span class='xr-has-index'>time</span>: 240</li></ul></div><div class='xr-section-details'></div></li><li class='xr-section-item'><input id='section-13499f87-c75e-465c-8e19-bf99cf10642e' class='xr-section-summary-in' type='checkbox'  checked><label for='section-13499f87-c75e-465c-8e19-bf99cf10642e' class='xr-section-summary' >Coordinates: <span>(3)</span></label><div class='xr-section-inline-details'></div><div class='xr-section-details'><ul class='xr-var-list'><li class='xr-var-item'><div class='xr-var-name'><span class='xr-has-index'>time</span></div><div class='xr-var-dims'>(time)</div><div class='xr-var-dtype'>datetime64[ns]</div><div class='xr-var-preview xr-preview'>2020-09-30T13:00:00 ... 2020-10-...</div><input id='attrs-5518ea1a-3a7f-4ad9-8b7d-8b1dee2197ce' class='xr-var-attrs-in' type='checkbox' ><label for='attrs-5518ea1a-3a7f-4ad9-8b7d-8b1dee2197ce' title='Show/Hide attributes'><svg class='icon xr-icon-file-text2'><use xlink:href='#icon-file-text2'></use></svg></label><input id='data-c63230d5-adbf-41e2-91ab-904295d4e893' class='xr-var-data-in' type='checkbox'><label for='data-c63230d5-adbf-41e2-91ab-904295d4e893' title='Show/Hide data repr'><svg class='icon xr-icon-database'><use xlink:href='#icon-database'></use></svg></label><div class='xr-var-attrs'><dl class='xr-attrs'><dt><span>long_name :</span></dt><dd>time</dd><dt><span>standard_name :</span></dt><dd>time</dd><dt><span>axis :</span></dt><dd>T</dd><dt><span>_ChunkSizes :</span></dt><dd>1024</dd></dl></div><div class='xr-var-data'><pre>array([&#x27;2020-09-30T13:00:00.000000000&#x27;, &#x27;2020-09-30T14:00:00.000000000&#x27;,\n",
       "       &#x27;2020-09-30T15:00:00.000000000&#x27;, ..., &#x27;2020-10-10T10:00:00.000000000&#x27;,\n",
       "       &#x27;2020-10-10T11:00:00.000000000&#x27;, &#x27;2020-10-10T12:00:00.000000000&#x27;],\n",
       "      dtype=&#x27;datetime64[ns]&#x27;)</pre></div></li><li class='xr-var-item'><div class='xr-var-name'><span class='xr-has-index'>lat</span></div><div class='xr-var-dims'>(lat)</div><div class='xr-var-dtype'>float32</div><div class='xr-var-preview xr-preview'>-8.027 -8.145 ... -17.87 -17.99</div><input id='attrs-ab65c7c2-9ea2-42c5-8016-dd8f230421f0' class='xr-var-attrs-in' type='checkbox' ><label for='attrs-ab65c7c2-9ea2-42c5-8016-dd8f230421f0' title='Show/Hide attributes'><svg class='icon xr-icon-file-text2'><use xlink:href='#icon-file-text2'></use></svg></label><input id='data-ddabd900-7250-4604-968d-b08f98b8c823' class='xr-var-data-in' type='checkbox'><label for='data-ddabd900-7250-4604-968d-b08f98b8c823' title='Show/Hide data repr'><svg class='icon xr-icon-database'><use xlink:href='#icon-database'></use></svg></label><div class='xr-var-attrs'><dl class='xr-attrs'><dt><span>long_name :</span></dt><dd>latitudes</dd><dt><span>type :</span></dt><dd>uniform</dd><dt><span>units :</span></dt><dd>degrees_north</dd><dt><span>valid_min :</span></dt><dd>-90.0</dd><dt><span>valid_max :</span></dt><dd>90.0</dd><dt><span>axis :</span></dt><dd>Y</dd></dl></div><div class='xr-var-data'><pre>array([ -8.027344,  -8.144531,  -8.261719,  -8.378906,  -8.496094,  -8.613281,\n",
       "        -8.730469,  -8.847656,  -8.964844,  -9.082031,  -9.199219,  -9.316406,\n",
       "        -9.433594,  -9.550781,  -9.667969,  -9.785156,  -9.902344, -10.019531,\n",
       "       -10.136719, -10.253906, -10.371094, -10.488281, -10.605469, -10.722656,\n",
       "       -10.839844, -10.957031, -11.074219, -11.191406, -11.308594, -11.425781,\n",
       "       -11.542969, -11.660156, -11.777344, -11.894531, -12.011719, -12.128906,\n",
       "       -12.246094, -12.363281, -12.480469, -12.597656, -12.714844, -12.832031,\n",
       "       -12.949219, -13.066406, -13.183594, -13.300781, -13.417969, -13.535156,\n",
       "       -13.652344, -13.769531, -13.886719, -14.003906, -14.121094, -14.238281,\n",
       "       -14.355469, -14.472656, -14.589844, -14.707031, -14.824219, -14.941406,\n",
       "       -15.058594, -15.175781, -15.292969, -15.410156, -15.527344, -15.644531,\n",
       "       -15.761719, -15.878906, -15.996094, -16.113281, -16.230469, -16.347656,\n",
       "       -16.464844, -16.582031, -16.699219, -16.816406, -16.933594, -17.050781,\n",
       "       -17.167969, -17.285156, -17.402344, -17.519531, -17.636719, -17.753906,\n",
       "       -17.871094, -17.988281], dtype=float32)</pre></div></li><li class='xr-var-item'><div class='xr-var-name'><span class='xr-has-index'>lon</span></div><div class='xr-var-dims'>(lon)</div><div class='xr-var-dtype'>float32</div><div class='xr-var-preview xr-preview'>127.1 127.3 127.4 ... 138.7 138.9</div><input id='attrs-726933ec-db82-4e0b-8efd-6a08639c5798' class='xr-var-attrs-in' type='checkbox' ><label for='attrs-726933ec-db82-4e0b-8efd-6a08639c5798' title='Show/Hide attributes'><svg class='icon xr-icon-file-text2'><use xlink:href='#icon-file-text2'></use></svg></label><input id='data-f25d3fbb-4650-4bc9-8abe-7e8f728e6da0' class='xr-var-data-in' type='checkbox'><label for='data-f25d3fbb-4650-4bc9-8abe-7e8f728e6da0' title='Show/Hide data repr'><svg class='icon xr-icon-database'><use xlink:href='#icon-database'></use></svg></label><div class='xr-var-attrs'><dl class='xr-attrs'><dt><span>long_name :</span></dt><dd>longitudes</dd><dt><span>type :</span></dt><dd>uniform</dd><dt><span>units :</span></dt><dd>degrees_east</dd><dt><span>valid_min :</span></dt><dd>-180.0</dd><dt><span>valid_max :</span></dt><dd>360.0</dd><dt><span>axis :</span></dt><dd>X</dd></dl></div><div class='xr-var-data'><pre>array([127.08984 , 127.265625, 127.44141 , 127.61719 , 127.79297 , 127.96875 ,\n",
       "       128.14453 , 128.32031 , 128.4961  , 128.67188 , 128.84766 , 129.02344 ,\n",
       "       129.19922 , 129.375   , 129.55078 , 129.72656 , 129.90234 , 130.07812 ,\n",
       "       130.2539  , 130.42969 , 130.60547 , 130.78125 , 130.95703 , 131.13281 ,\n",
       "       131.3086  , 131.48438 , 131.66016 , 131.83594 , 132.01172 , 132.1875  ,\n",
       "       132.36328 , 132.53906 , 132.71484 , 132.89062 , 133.0664  , 133.24219 ,\n",
       "       133.41797 , 133.59375 , 133.76953 , 133.94531 , 134.1211  , 134.29688 ,\n",
       "       134.47266 , 134.64844 , 134.82422 , 135.      , 135.17578 , 135.35156 ,\n",
       "       135.52734 , 135.70312 , 135.8789  , 136.05469 , 136.23047 , 136.40625 ,\n",
       "       136.58203 , 136.75781 , 136.9336  , 137.10938 , 137.28516 , 137.46094 ,\n",
       "       137.63672 , 137.8125  , 137.98828 , 138.16406 , 138.33984 , 138.51562 ,\n",
       "       138.6914  , 138.86719 ], dtype=float32)</pre></div></li></ul></div></li><li class='xr-section-item'><input id='section-23fb4542-5c95-4dc0-91ec-cf8ecec2bca6' class='xr-section-summary-in' type='checkbox'  checked><label for='section-23fb4542-5c95-4dc0-91ec-cf8ecec2bca6' class='xr-section-summary' >Data variables: <span>(2)</span></label><div class='xr-section-inline-details'></div><div class='xr-section-details'><ul class='xr-var-list'><li class='xr-var-item'><div class='xr-var-name'><span>forc_minutes</span></div><div class='xr-var-dims'>(time)</div><div class='xr-var-dtype'>timedelta64[ns]</div><div class='xr-var-preview xr-preview'>...</div><input id='attrs-1060909f-d46c-4d3c-9226-5abfaadce3bb' class='xr-var-attrs-in' type='checkbox' ><label for='attrs-1060909f-d46c-4d3c-9226-5abfaadce3bb' title='Show/Hide attributes'><svg class='icon xr-icon-file-text2'><use xlink:href='#icon-file-text2'></use></svg></label><input id='data-9d6baffd-5ea7-4b23-9794-6dc043cd018f' class='xr-var-data-in' type='checkbox'><label for='data-9d6baffd-5ea7-4b23-9794-6dc043cd018f' title='Show/Hide data repr'><svg class='icon xr-icon-database'><use xlink:href='#icon-database'></use></svg></label><div class='xr-var-attrs'><dl class='xr-attrs'><dt><span>long_name :</span></dt><dd>forecast time</dd><dt><span>WARNING :</span></dt><dd>DEPRECATED, DO NOT USE</dd><dt><span>_ChunkSizes :</span></dt><dd>1024</dd></dl></div><div class='xr-var-data'><pre>array([  3600000000000,   7200000000000,  10800000000000, ..., 856800000000000,\n",
       "       860400000000000, 864000000000000], dtype=&#x27;timedelta64[ns]&#x27;)</pre></div></li><li class='xr-var-item'><div class='xr-var-name'><span>uwnd10m</span></div><div class='xr-var-dims'>(time, lat, lon)</div><div class='xr-var-dtype'>float32</div><div class='xr-var-preview xr-preview'>...</div><input id='attrs-39135b50-02d5-48c7-a3ed-b9efb4bfd2a9' class='xr-var-attrs-in' type='checkbox' ><label for='attrs-39135b50-02d5-48c7-a3ed-b9efb4bfd2a9' title='Show/Hide attributes'><svg class='icon xr-icon-file-text2'><use xlink:href='#icon-file-text2'></use></svg></label><input id='data-8e39b1e3-2330-450c-bab5-ee21e817bfb4' class='xr-var-data-in' type='checkbox'><label for='data-8e39b1e3-2330-450c-bab5-ee21e817bfb4' title='Show/Hide data repr'><svg class='icon xr-icon-database'><use xlink:href='#icon-database'></use></svg></label><div class='xr-var-attrs'><dl class='xr-attrs'><dt><span>grid_type :</span></dt><dd>spatial</dd><dt><span>level_type :</span></dt><dd>single</dd><dt><span>units :</span></dt><dd>m s-1</dd><dt><span>long_name :</span></dt><dd>10m wind u component</dd><dt><span>stash_code :</span></dt><dd>3209</dd><dt><span>accum_type :</span></dt><dd>instantaneous</dd><dt><span>_ChunkSizes :</span></dt><dd>[   1  768 1024]</dd></dl></div><div class='xr-var-data'><pre>[1403520 values with dtype=float32]</pre></div></li></ul></div></li><li class='xr-section-item'><input id='section-50fceb63-ea7b-436f-94cc-1ce36f3db84c' class='xr-section-summary-in' type='checkbox'  ><label for='section-50fceb63-ea7b-436f-94cc-1ce36f3db84c' class='xr-section-summary' >Attributes: <span>(11)</span></label><div class='xr-section-inline-details'></div><div class='xr-section-details'><dl class='xr-attrs'><dt><span>Conventions :</span></dt><dd>CF-1.5,ACDD-1.3</dd><dt><span>institution :</span></dt><dd>Australian Bureau of Meteorology</dd><dt><span>source :</span></dt><dd>APS3</dd><dt><span>date_created :</span></dt><dd>20201001</dd><dt><span>summary :</span></dt><dd>forecast data</dd><dt><span>title :</span></dt><dd>forecast data</dd><dt><span>base_date :</span></dt><dd>20200930</dd><dt><span>base_time :</span></dt><dd>1200</dd><dt><span>modl_vrsn :</span></dt><dd>ACCESS-G</dd><dt><span>expt_id :</span></dt><dd>0001</dd><dt><span>DODS_EXTRA.Unlimited_Dimension :</span></dt><dd>time</dd></dl></div></li></ul></div></div>"
      ],
      "text/plain": [
       "<xarray.Dataset>\n",
       "Dimensions:       (lat: 86, lon: 68, time: 240)\n",
       "Coordinates:\n",
       "  * time          (time) datetime64[ns] 2020-09-30T13:00:00 ... 2020-10-10T12...\n",
       "  * lat           (lat) float32 -8.027 -8.145 -8.262 ... -17.75 -17.87 -17.99\n",
       "  * lon           (lon) float32 127.1 127.3 127.4 127.6 ... 138.5 138.7 138.9\n",
       "Data variables:\n",
       "    forc_minutes  (time) timedelta64[ns] ...\n",
       "    uwnd10m       (time, lat, lon) float32 ...\n",
       "Attributes:\n",
       "    Conventions:                     CF-1.5,ACDD-1.3\n",
       "    institution:                     Australian Bureau of Meteorology\n",
       "    source:                          APS3\n",
       "    date_created:                    20201001\n",
       "    summary:                         forecast data\n",
       "    title:                           forecast data\n",
       "    base_date:                       20200930\n",
       "    base_time:                       1200\n",
       "    modl_vrsn:                       ACCESS-G\n",
       "    expt_id:                         0001\n",
       "    DODS_EXTRA.Unlimited_Dimension:  time"
      ]
     },
     "execution_count": 72,
     "metadata": {},
     "output_type": "execute_result"
    }
   ],
   "source": [
    "u_fc"
   ]
  }
 ],
 "metadata": {
  "kernelspec": {
   "display_name": "Python 3 (ipykernel)",
   "language": "python",
   "name": "python3"
  },
  "language_info": {
   "codemirror_mode": {
    "name": "ipython",
    "version": 3
   },
   "file_extension": ".py",
   "mimetype": "text/x-python",
   "name": "python",
   "nbconvert_exporter": "python",
   "pygments_lexer": "ipython3",
   "version": "3.8.10"
  },
  "latex_envs": {
   "LaTeX_envs_menu_present": true,
   "autoclose": false,
   "autocomplete": true,
   "bibliofile": "biblio.bib",
   "cite_by": "apalike",
   "current_citInitial": 1,
   "eqLabelWithNumbers": true,
   "eqNumInitial": 1,
   "hotkeys": {
    "equation": "Ctrl-E",
    "itemize": "Ctrl-I"
   },
   "labels_anchors": false,
   "latex_user_defs": false,
   "report_style_numbering": false,
   "user_envs_cfg": false
  },
  "toc": {
   "base_numbering": 1,
   "nav_menu": {},
   "number_sections": true,
   "sideBar": true,
   "skip_h1_title": false,
   "title_cell": "Table of Contents",
   "title_sidebar": "Contents",
   "toc_cell": false,
   "toc_position": {},
   "toc_section_display": true,
   "toc_window_display": false
  }
 },
 "nbformat": 4,
 "nbformat_minor": 5
}
