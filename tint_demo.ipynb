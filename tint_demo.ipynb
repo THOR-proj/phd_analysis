{
 "cells": [
  {
   "cell_type": "markdown",
   "metadata": {},
   "source": [
    "# TINT Demonstration\n"
   ]
  },
  {
   "cell_type": "markdown",
   "metadata": {},
   "source": [
    "This notebook will take you through the following process:\n",
    "\n",
    "1. GET DATA - Obtain nexrad data from Amazon S3\n",
    "2. GRID - Map data to cartesian grids using Py-ART\n",
    "3. TRACK - Perform cell tracking using TINT\n",
    "4. VISUALIZE - Visualize the tracks"
   ]
  },
  {
   "cell_type": "code",
   "execution_count": null,
   "metadata": {
    "ExecuteTime": {
     "end_time": "2019-07-03T02:06:39.663217Z",
     "start_time": "2019-07-03T02:06:39.653831Z"
    }
   },
   "outputs": [],
   "source": [
    "import numpy as np\n",
    "from matplotlib import pyplot as plt\n",
    "from matplotlib.animation import FuncAnimation\n",
    "from IPython.display import HTML, Image, display\n",
    "import tempfile\n",
    "import os\n",
    "import shutil\n",
    "\n",
    "import pyart\n",
    "from tint.data_utils import get_nexrad_keys, read_nexrad_key\n",
    "from tint import Cell_tracks, animate\n",
    "from tint.visualization import embed_mp4_as_gif"
   ]
  },
  {
   "cell_type": "markdown",
   "metadata": {},
   "source": [
    "## 1. GET DATA\n"
   ]
  },
  {
   "cell_type": "code",
   "execution_count": null,
   "metadata": {
    "ExecuteTime": {
     "end_time": "2019-07-03T02:06:44.314388Z",
     "start_time": "2019-07-03T02:06:41.235775Z"
    }
   },
   "outputs": [],
   "source": [
    "# Let's get some nexrad data from Amazon S3 to use for tracking\n",
    "# I know of some storm cells that passed over Houston back in July of 2015\n",
    "keys = get_nexrad_keys('khgx', start='20150710_183000', end='20150710_193000')"
   ]
  },
  {
   "cell_type": "code",
   "execution_count": null,
   "metadata": {
    "ExecuteTime": {
     "end_time": "2019-07-03T02:11:29.868014Z",
     "start_time": "2019-07-03T02:07:05.549745Z"
    },
    "scrolled": false
   },
   "outputs": [],
   "source": [
    "# We can visualize this data using pyart and matplotlib\n",
    "fig = plt.figure(figsize=(10, 7))\n",
    "\n",
    "\n",
    "def plot_ppi(key):\n",
    "    \"\"\" Plots ppi map of nexrad data given S3 key. \"\"\"\n",
    "    plt.clf()\n",
    "    radar = read_nexrad_key(key)\n",
    "    display = pyart.graph.RadarMapDisplay(radar)\n",
    "    display.plot_ppi_map('reflectivity', resolution='10m',\n",
    "                         sweep=3, fig=fig,\n",
    "                         lat_lines=np.arange(27.5, 31.6, 1),\n",
    "                         lon_lines=np.arange(-97, -92.9, 1),\n",
    "                         min_lon=-97, max_lon=-93, min_lat=27.5,\n",
    "                         max_lat=31.5,\n",
    "                         lon_0=radar.longitude['data'][0],\n",
    "                         lat_0=radar.latitude['data'][0])\n",
    "    del display, radar\n",
    "\n",
    "\n",
    "ppi_anim = FuncAnimation(fig, plot_ppi, frames=keys, interval=1000)\n",
    "tmp_anim = tempfile.NamedTemporaryFile()\n",
    "ppi_anim.save(tmp_anim.name + '.mp4', writer='ffmpeg')\n",
    "embed_mp4_as_gif(tmp_anim.name + '.mp4')\n",
    "os.remove(tmp_anim.name + '.mp4')\n",
    "plt.close()"
   ]
  },
  {
   "cell_type": "markdown",
   "metadata": {},
   "source": [
    "## 2. GRID"
   ]
  },
  {
   "cell_type": "markdown",
   "metadata": {},
   "source": [
    "### Disclaimer\n",
    "If you are running this notebook and don't want this data to remain on your filesystem, make sure you run the last cell in the notebook. If your kernel crashes for some reason, you can manually remove the the path printed after the following cell."
   ]
  },
  {
   "cell_type": "code",
   "execution_count": null,
   "metadata": {
    "ExecuteTime": {
     "end_time": "2019-07-03T02:16:05.795372Z",
     "start_time": "2019-07-03T02:11:29.871071Z"
    }
   },
   "outputs": [],
   "source": [
    "# Looks like there are some interesting cells coming off the gulf.\n",
    "# Let's make a function that maps these volumes to cartesian grids using pyart.\n",
    "# Most of the cells seem to be in the bottom right quadrant, so we'll only grid\n",
    "# that part of the domain to save time.\n",
    "\n",
    "def get_grid(radar):\n",
    "    \"\"\" Returns grid object from radar object. \"\"\"\n",
    "    grid = pyart.map.grid_from_radars(\n",
    "        radar, grid_shape=(31, 401, 401),\n",
    "        grid_limits=((0, 15000), (-200000, 0), (0, 200000)),\n",
    "        fields=['reflectivity'], gridding_algo='map_gates_to_grid',\n",
    "        h_factor=0., nb=0.6, bsp=1., min_radius=200.)\n",
    "    return grid\n",
    "\n",
    "\n",
    "# Let's write these grids to a temporary location so that we can reuse them.\n",
    "# This might take a few minutes\n",
    "tmp_dir = tempfile.mkdtemp()\n",
    "print('temporary directory:', tmp_dir)\n",
    "filenames = []\n",
    "for num, key in enumerate(keys):\n",
    "    print('saving grid', num)\n",
    "    radar = read_nexrad_key(key)\n",
    "    grid = get_grid(radar)\n",
    "    name = os.path.join(tmp_dir, 'grid_' + str(num).zfill(3) + '.nc')\n",
    "    filenames.append(name)\n",
    "    pyart.io.write_grid(name, grid)\n",
    "    del radar, grid"
   ]
  },
  {
   "cell_type": "code",
   "execution_count": null,
   "metadata": {
    "ExecuteTime": {
     "end_time": "2019-07-03T02:16:05.801620Z",
     "start_time": "2019-07-03T02:16:05.798360Z"
    }
   },
   "outputs": [],
   "source": [
    "# Now we can easily instantiate generators of these grids like so\n",
    "grids = (pyart.io.read_grid(fn) for fn in filenames)"
   ]
  },
  {
   "cell_type": "markdown",
   "metadata": {},
   "source": [
    "## 3. TRACK"
   ]
  },
  {
   "cell_type": "code",
   "execution_count": null,
   "metadata": {
    "ExecuteTime": {
     "end_time": "2019-07-03T02:16:05.832505Z",
     "start_time": "2019-07-03T02:16:05.804073Z"
    }
   },
   "outputs": [],
   "source": [
    "# First, let's instantiate a tracks object and view the default parameters\n",
    "tracks_obj = Cell_tracks()\n",
    "tracks_obj.params"
   ]
  },
  {
   "cell_type": "code",
   "execution_count": null,
   "metadata": {
    "ExecuteTime": {
     "end_time": "2019-07-03T02:16:22.406786Z",
     "start_time": "2019-07-03T02:16:05.836144Z"
    }
   },
   "outputs": [],
   "source": [
    "# The cells we're interested in look a bit small. Let's reduce the minimum size threshold.\n",
    "tracks_obj.params['MIN_SIZE'] = 4\n",
    "# We'll give the generator of grids we made earlier to the get_tracks method of our tracks object.\n",
    "tracks_obj.get_tracks(grids)"
   ]
  },
  {
   "cell_type": "code",
   "execution_count": null,
   "metadata": {
    "ExecuteTime": {
     "end_time": "2019-07-03T02:16:22.448109Z",
     "start_time": "2019-07-03T02:16:22.409918Z"
    }
   },
   "outputs": [],
   "source": [
    "# Now we can view the 'tracks' attribute of our tracks object to see the results.\n",
    "tracks_obj.tracks.head(20)"
   ]
  },
  {
   "cell_type": "markdown",
   "metadata": {},
   "source": [
    "## 4. VISUALIZE"
   ]
  },
  {
   "cell_type": "code",
   "execution_count": null,
   "metadata": {
    "ExecuteTime": {
     "end_time": "2019-07-03T02:16:22.458160Z",
     "start_time": "2019-07-03T02:16:22.452645Z"
    }
   },
   "outputs": [],
   "source": [
    "# We can visualize these tracks to assess the performance of the algorithm.\n",
    "# First we need to make another generator of the same grids for the animator\n",
    "grids = (pyart.io.read_grid(fn) for fn in filenames)"
   ]
  },
  {
   "cell_type": "code",
   "execution_count": null,
   "metadata": {
    "ExecuteTime": {
     "end_time": "2019-07-03T02:16:49.209982Z",
     "start_time": "2019-07-03T02:16:22.461215Z"
    },
    "scrolled": true
   },
   "outputs": [],
   "source": [
    "# Let's save the animation in our temp directory so that it will be cleaned up later.\n",
    "animate(tracks_obj, grids, os.path.join(tmp_dir, 'tint_demo_anim'),\n",
    "        lat_lines=np.arange(27.9, 29.5, .5),\n",
    "        lon_lines=np.arange(-95, -92.9, .5),\n",
    "        tracers=True)"
   ]
  },
  {
   "cell_type": "code",
   "execution_count": null,
   "metadata": {},
   "outputs": [],
   "source": [
    "# The animator saved an mp4 to our local directory. Now we can embed it as a gif in this notebook.\n",
    "embed_mp4_as_gif(os.path.join(tmp_dir, 'tint_demo_anim.mp4'))"
   ]
  },
  {
   "cell_type": "code",
   "execution_count": null,
   "metadata": {
    "ExecuteTime": {
     "end_time": "2019-07-03T02:16:49.232429Z",
     "start_time": "2019-07-03T02:16:49.216694Z"
    }
   },
   "outputs": [],
   "source": [
    "# Let's find the cells that were tracked for the most frames\n",
    "tracks_obj.tracks.groupby(level='uid').size().sort_values(ascending=False)[:5]"
   ]
  },
  {
   "cell_type": "code",
   "execution_count": null,
   "metadata": {
    "ExecuteTime": {
     "end_time": "2019-07-03T02:17:01.384422Z",
     "start_time": "2019-07-03T02:16:49.235215Z"
    }
   },
   "outputs": [],
   "source": [
    "# Now we can view these cells from a lagrangian perspective\n",
    "grids = (pyart.io.read_grid(fn) for fn in filenames)  # refresh grid generator\n",
    "animate(tracks_obj, grids, os.path.join(tmp_dir, 'tint_demo_lagrangian'), style='lagrangian', uid='0', alt=2000)"
   ]
  },
  {
   "cell_type": "code",
   "execution_count": null,
   "metadata": {
    "ExecuteTime": {
     "end_time": "2019-07-03T02:17:01.854812Z",
     "start_time": "2019-07-03T02:17:01.388028Z"
    },
    "scrolled": false
   },
   "outputs": [],
   "source": [
    "embed_mp4_as_gif(os.path.join(tmp_dir, 'tint_demo_lagrangian.mp4'))"
   ]
  },
  {
   "cell_type": "code",
   "execution_count": null,
   "metadata": {
    "ExecuteTime": {
     "end_time": "2019-07-03T02:17:01.883954Z",
     "start_time": "2019-07-03T02:17:01.857998Z"
    }
   },
   "outputs": [],
   "source": [
    "# We can view the attributes of this cell throughout its lifetime\n",
    "tracks_obj.tracks.xs('0', level='uid')"
   ]
  },
  {
   "cell_type": "markdown",
   "metadata": {},
   "source": [
    "## Clean Up"
   ]
  },
  {
   "cell_type": "code",
   "execution_count": null,
   "metadata": {
    "ExecuteTime": {
     "end_time": "2019-07-03T02:19:38.259670Z",
     "start_time": "2019-07-03T02:19:38.229954Z"
    }
   },
   "outputs": [],
   "source": [
    "# Now we can delete the directory containing all the data and output from this demo.\n",
    "shutil.rmtree(tmp_dir)\n",
    "print('temporary directory removed')"
   ]
  }
 ],
 "metadata": {
  "anaconda-cloud": {},
  "kernelspec": {
   "display_name": "Python 3",
   "language": "python",
   "name": "python3"
  },
  "language_info": {
   "codemirror_mode": {
    "name": "ipython",
    "version": 3
   },
   "file_extension": ".py",
   "mimetype": "text/x-python",
   "name": "python",
   "nbconvert_exporter": "python",
   "pygments_lexer": "ipython3",
   "version": "3.6.7"
  },
  "toc": {
   "base_numbering": 1,
   "nav_menu": {},
   "number_sections": true,
   "sideBar": true,
   "skip_h1_title": false,
   "title_cell": "Table of Contents",
   "title_sidebar": "Contents",
   "toc_cell": false,
   "toc_position": {},
   "toc_section_display": true,
   "toc_window_display": false
  }
 },
 "nbformat": 4,
 "nbformat_minor": 1
}
