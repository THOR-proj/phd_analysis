{
 "cells": [
  {
   "cell_type": "code",
   "execution_count": 2,
   "metadata": {
    "ExecuteTime": {
     "end_time": "2019-09-26T00:57:05.418689Z",
     "start_time": "2019-09-26T00:56:56.410273Z"
    }
   },
   "outputs": [],
   "source": [
    "import numpy as np\n",
    "import glob\n",
    "import xarray as xr\n",
    "import netCDF4\n",
    "\n",
    "import matplotlib.pyplot as plt"
   ]
  },
  {
   "cell_type": "code",
   "execution_count": 3,
   "metadata": {
    "ExecuteTime": {
     "end_time": "2019-09-26T00:58:07.490807Z",
     "start_time": "2019-09-26T00:57:05.421373Z"
    }
   },
   "outputs": [],
   "source": [
    "# Load example WRF dataset\n",
    "ds = xr.open_dataset('/g/data/w40/esh563/d04.dir/wrfout_d04_2006-02-09_00:00:00.nc.gz')"
   ]
  },
  {
   "cell_type": "code",
   "execution_count": 4,
   "metadata": {
    "ExecuteTime": {
     "end_time": "2019-09-26T00:58:07.503021Z",
     "start_time": "2019-09-26T00:58:07.493856Z"
    }
   },
   "outputs": [],
   "source": [
    "XLAT = ds.XLAT.values\n",
    "XLONG = ds.XLONG.values\n",
    "dx=ds.DX"
   ]
  },
  {
   "cell_type": "code",
   "execution_count": 5,
   "metadata": {
    "ExecuteTime": {
     "end_time": "2019-09-26T00:58:07.521631Z",
     "start_time": "2019-09-26T00:58:07.505148Z"
    }
   },
   "outputs": [],
   "source": [
    "dims = XLAT.shape"
   ]
  },
  {
   "cell_type": "code",
   "execution_count": 6,
   "metadata": {
    "ExecuteTime": {
     "end_time": "2019-09-26T00:58:07.542440Z",
     "start_time": "2019-09-26T00:58:07.523660Z"
    }
   },
   "outputs": [
    {
     "data": {
      "text/plain": [
       "(3, 486, 717)"
      ]
     },
     "execution_count": 6,
     "metadata": {},
     "output_type": "execute_result"
    }
   ],
   "source": [
    "dims"
   ]
  },
  {
   "cell_type": "code",
   "execution_count": 7,
   "metadata": {
    "ExecuteTime": {
     "end_time": "2019-09-26T00:58:07.590330Z",
     "start_time": "2019-09-26T00:58:07.543958Z"
    }
   },
   "outputs": [
    {
     "name": "stdout",
     "output_type": "stream",
     "text": [
      "Shrinking x\n",
      "Shrinking y\n",
      "Shrinking x\n",
      "Shrinking y\n",
      "Shrinking x\n",
      "Shrinking y\n",
      "Shrinking y\n",
      "xsubset\n",
      "241\n",
      "ysubset\n",
      "241\n"
     ]
    }
   ],
   "source": [
    "ntimes=dims[0]\n",
    "miy=dims[1]\n",
    "mjx=dims[2]\n",
    "\n",
    "onedegree=111.2*1000.\n",
    "dxfrac=dx/onedegree\n",
    "dxfrac=dxfrac*0.9\n",
    "tox=-1\n",
    "toy=-1\n",
    "fromx=-1\n",
    "fromy=-1\n",
    "for i in range(miy):\n",
    "    if (XLAT[0,i,0] < (-13.604782104492188+dxfrac)) & (XLAT[0,i,0] > (-13.604782104492188 -dxfrac)):\n",
    "        fromx=i\n",
    "    if (XLAT[0,i,0] < (-10.875259399414062+dxfrac)) & (XLAT[0,i,0] > (-10.875259399414062-dxfrac)):\n",
    "        tox=i+1\n",
    "\n",
    "for j in range(mjx):\n",
    "    if (XLONG[0,0,j] < (129.65934753417969+dxfrac)) & (XLONG[0,0,j] > (129.65934753417969-dxfrac)):\n",
    "        fromy=j\n",
    "    if (XLONG[0,0,j] < (132.45265197753906+dxfrac)) & (XLONG[0,0,j] > (132.45265197753906-dxfrac)):\n",
    "        toy=j+1\n",
    "        \n",
    "if (tox == -1):\n",
    "    print('domain not quite big enough')\n",
    "    tox=miy\n",
    "\n",
    "if (toy == -1):\n",
    "    print('domain notquite big enough')\n",
    "    toy=mjx\n",
    "\n",
    "if (fromx == -1):\n",
    "    print('domain not quite big enough')\n",
    "    fromx=0\n",
    "\n",
    "if (fromy == -1):\n",
    "    print('domain not quite big enough')\n",
    "    fromy=0\n",
    "xsubset=tox-fromx\n",
    "ysubset=toy-fromy\n",
    "\n",
    "#######check to see if the domain iss the right size#####\n",
    "for checkdom in range(10):\n",
    "    if ((xsubset*dx)/1000. >= 302.5):\n",
    "        print('Shrinking x')\n",
    "        tox=tox-1\n",
    "        xsubset=tox-fromx\n",
    "    if ((ysubset*dx)/1000. >= 302.5):\n",
    "        toy=toy-1\n",
    "        print('Shrinking y')\n",
    "        ysubset=toy-fromy\n",
    "\n",
    "if (xsubset != ysubset):\n",
    "    print('WARNING DOMAIN NOT SQUARE')\n",
    "    print('chainging domain size')\n",
    "    if (xsubset > ysubset):\n",
    "        tox=tox-1\n",
    "        xsubset=tox-fromx\n",
    "\n",
    "    if (ysubset > xsubset):\n",
    "        toy=toy-1\n",
    "        ysubset=toy-fromy\n",
    "print('xsubset')\n",
    "print(xsubset)\n",
    "print('ysubset')\n",
    "print(ysubset)"
   ]
  },
  {
   "cell_type": "code",
   "execution_count": 8,
   "metadata": {
    "ExecuteTime": {
     "end_time": "2019-09-26T00:58:07.600791Z",
     "start_time": "2019-09-26T00:58:07.592190Z"
    }
   },
   "outputs": [
    {
     "data": {
      "text/plain": [
       "304"
      ]
     },
     "execution_count": 8,
     "metadata": {},
     "output_type": "execute_result"
    }
   ],
   "source": [
    "tox"
   ]
  },
  {
   "cell_type": "code",
   "execution_count": 9,
   "metadata": {
    "ExecuteTime": {
     "end_time": "2019-09-26T00:58:07.615097Z",
     "start_time": "2019-09-26T00:58:07.602939Z"
    }
   },
   "outputs": [
    {
     "data": {
      "text/plain": [
       "509"
      ]
     },
     "execution_count": 9,
     "metadata": {},
     "output_type": "execute_result"
    }
   ],
   "source": [
    "toy"
   ]
  },
  {
   "cell_type": "code",
   "execution_count": 10,
   "metadata": {
    "ExecuteTime": {
     "end_time": "2019-09-26T00:58:07.634702Z",
     "start_time": "2019-09-26T00:58:07.619097Z"
    }
   },
   "outputs": [
    {
     "data": {
      "text/plain": [
       "63"
      ]
     },
     "execution_count": 10,
     "metadata": {},
     "output_type": "execute_result"
    }
   ],
   "source": [
    "fromx"
   ]
  },
  {
   "cell_type": "code",
   "execution_count": 11,
   "metadata": {
    "ExecuteTime": {
     "end_time": "2019-09-26T00:58:07.651141Z",
     "start_time": "2019-09-26T00:58:07.636986Z"
    }
   },
   "outputs": [
    {
     "data": {
      "text/plain": [
       "268"
      ]
     },
     "execution_count": 11,
     "metadata": {},
     "output_type": "execute_result"
    }
   ],
   "source": [
    "fromy"
   ]
  },
  {
   "cell_type": "code",
   "execution_count": 12,
   "metadata": {
    "ExecuteTime": {
     "end_time": "2019-09-26T00:58:07.676635Z",
     "start_time": "2019-09-26T00:58:07.653088Z"
    }
   },
   "outputs": [
    {
     "name": "stdout",
     "output_type": "stream",
     "text": [
      "241\n",
      "241\n"
     ]
    }
   ],
   "source": [
    "a = XLONG[0,0,fromy:toy]\n",
    "b = XLAT[0,fromx:tox,0]\n",
    "print(len(a))\n",
    "print(len(b))"
   ]
  },
  {
   "cell_type": "code",
   "execution_count": 13,
   "metadata": {
    "ExecuteTime": {
     "end_time": "2019-09-26T00:58:07.697008Z",
     "start_time": "2019-09-26T00:58:07.678885Z"
    }
   },
   "outputs": [
    {
     "data": {
      "text/plain": [
       "array([-13.5952   , -13.584053 , -13.572899 , -13.561737 , -13.5505905,\n",
       "       -13.539429 , -13.528275 , -13.51712  , -13.505966 , -13.494812 ,\n",
       "       -13.48365  , -13.472496 , -13.461334 , -13.45018  , -13.439018 ,\n",
       "       -13.427856 , -13.416702 , -13.40554  , -13.394379 , -13.383217 ,\n",
       "       -13.372047 , -13.360893 , -13.349731 , -13.338562 , -13.327393 ,\n",
       "       -13.316231 , -13.305069 , -13.293907 , -13.282738 , -13.271568 ,\n",
       "       -13.2604065, -13.249237 , -13.23806  , -13.226898 , -13.215729 ,\n",
       "       -13.204552 , -13.19339  , -13.182213 , -13.171043 , -13.159874 ,\n",
       "       -13.148697 , -13.13752  , -13.126358 , -13.115173 , -13.103996 ,\n",
       "       -13.092827 , -13.08165  , -13.07048  , -13.059296 , -13.048119 ,\n",
       "       -13.036949 , -13.025764 , -13.014587 , -13.003403 , -12.992233 ,\n",
       "       -12.981049 , -12.9698715, -12.958687 , -12.947502 , -12.936317 ,\n",
       "       -12.925148 , -12.913956 , -12.902771 , -12.891586 , -12.880402 ,\n",
       "       -12.869217 , -12.858032 , -12.84684  , -12.835655 , -12.8244705,\n",
       "       -12.813286 , -12.802101 , -12.790909 , -12.7797165, -12.768532 ,\n",
       "       -12.7573395, -12.746155 , -12.734955 , -12.72377  , -12.712578 ,\n",
       "       -12.701378 , -12.690186 , -12.679001 , -12.667793 , -12.656609 ,\n",
       "       -12.645416 , -12.634209 , -12.623016 , -12.611824 , -12.600632 ,\n",
       "       -12.589424 , -12.578224 , -12.567032 , -12.555832 , -12.544632 ,\n",
       "       -12.533432 , -12.522232 , -12.511032 , -12.499832 , -12.488625 ,\n",
       "       -12.477425 , -12.466225 , -12.455017 , -12.443817 , -12.43261  ,\n",
       "       -12.421402 , -12.410202 , -12.398994 , -12.387787 , -12.376587 ,\n",
       "       -12.365379 , -12.354164 , -12.342957 , -12.331749 , -12.320541 ,\n",
       "       -12.309334 , -12.298119 , -12.286911 , -12.275696 , -12.264488 ,\n",
       "       -12.253281 , -12.242065 , -12.23085  , -12.219635 , -12.208427 ,\n",
       "       -12.197205 , -12.185997 , -12.174782 , -12.163567 , -12.152351 ,\n",
       "       -12.141129 , -12.129913 , -12.118698 , -12.107475 , -12.09626  ,\n",
       "       -12.085037 , -12.073814 , -12.062592 , -12.051369 , -12.0401535,\n",
       "       -12.028938 , -12.017715 , -12.006493 , -11.99527  , -11.984047 ,\n",
       "       -11.972816 , -11.961594 , -11.950371 , -11.939148 , -11.927925 ,\n",
       "       -11.916695 , -11.905464 , -11.894234 , -11.883011 , -11.871788 ,\n",
       "       -11.860558 , -11.849327 , -11.838097 , -11.826874 , -11.815643 ,\n",
       "       -11.804405 , -11.793175 , -11.781944 , -11.770714 , -11.759476 ,\n",
       "       -11.748245 , -11.737015 , -11.725777 , -11.714539 , -11.703308 ,\n",
       "       -11.692078 , -11.680832 , -11.669609 , -11.658363 , -11.647125 ,\n",
       "       -11.635895 , -11.624649 , -11.613411 , -11.6021805, -11.590935 ,\n",
       "       -11.579689 , -11.568459 , -11.557213 , -11.545975 , -11.534729 ,\n",
       "       -11.523491 , -11.512245 , -11.500999 , -11.489761 , -11.478508 ,\n",
       "       -11.46727  , -11.456024 , -11.444786 , -11.433533 , -11.422287 ,\n",
       "       -11.411041 , -11.399796 , -11.388542 , -11.377304 , -11.366051 ,\n",
       "       -11.354805 , -11.343552 , -11.332306 , -11.321053 , -11.309807 ,\n",
       "       -11.298546 , -11.2873   , -11.276047 , -11.264793 , -11.253548 ,\n",
       "       -11.242287 , -11.231033 , -11.21978  , -11.208527 , -11.197273 ,\n",
       "       -11.186012 , -11.174767 , -11.163506 , -11.152245 , -11.140991 ,\n",
       "       -11.12973  , -11.118469 , -11.107216 , -11.095955 , -11.084702 ,\n",
       "       -11.073441 , -11.06218  , -11.050911 , -11.039658 , -11.028397 ,\n",
       "       -11.017128 , -11.005867 , -10.994606 , -10.983345 , -10.972076 ,\n",
       "       -10.960815 , -10.949547 , -10.938286 , -10.927017 , -10.915756 ,\n",
       "       -10.904488 ], dtype=float32)"
      ]
     },
     "execution_count": 13,
     "metadata": {},
     "output_type": "execute_result"
    }
   ],
   "source": [
    "b"
   ]
  },
  {
   "cell_type": "code",
   "execution_count": null,
   "metadata": {},
   "outputs": [],
   "source": []
  }
 ],
 "metadata": {
  "kernelspec": {
   "display_name": "Python [conda env:analysis3-19.07] *",
   "language": "python",
   "name": "conda-env-analysis3-19.07-py"
  },
  "language_info": {
   "codemirror_mode": {
    "name": "ipython",
    "version": 3
   },
   "file_extension": ".py",
   "mimetype": "text/x-python",
   "name": "python",
   "nbconvert_exporter": "python",
   "pygments_lexer": "ipython3",
   "version": "3.6.7"
  },
  "toc": {
   "base_numbering": 1,
   "nav_menu": {},
   "number_sections": true,
   "sideBar": true,
   "skip_h1_title": false,
   "title_cell": "Table of Contents",
   "title_sidebar": "Contents",
   "toc_cell": false,
   "toc_position": {},
   "toc_section_display": true,
   "toc_window_display": false
  }
 },
 "nbformat": 4,
 "nbformat_minor": 2
}
