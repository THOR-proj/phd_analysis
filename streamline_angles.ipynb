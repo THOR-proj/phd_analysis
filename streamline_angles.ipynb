{
 "cells": [
  {
   "cell_type": "markdown",
   "id": "d39ac84a",
   "metadata": {},
   "source": [
    "# Load Tracks"
   ]
  },
  {
   "cell_type": "code",
   "execution_count": 1,
   "id": "abced867",
   "metadata": {
    "ExecuteTime": {
     "end_time": "2023-07-03T23:11:30.763684Z",
     "start_time": "2023-07-03T23:11:30.751258Z"
    }
   },
   "outputs": [],
   "source": [
    "import sys\n",
    "sys.path.insert(0, '/home/student.unimelb.edu.au/shorte1/Documents/TINT')"
   ]
  },
  {
   "cell_type": "code",
   "execution_count": 2,
   "id": "ae7fb7b2",
   "metadata": {
    "ExecuteTime": {
     "end_time": "2023-07-03T23:11:34.762110Z",
     "start_time": "2023-07-03T23:11:31.295768Z"
    }
   },
   "outputs": [
    {
     "name": "stdout",
     "output_type": "stream",
     "text": [
      "\n",
      "## You are using the Python ARM Radar Toolkit (Py-ART), an open source\n",
      "## library for working with weather radar data. Py-ART is partly\n",
      "## supported by the U.S. Department of Energy as part of the Atmospheric\n",
      "## Radiation Measurement (ARM) Climate Research Facility, an Office of\n",
      "## Science user facility.\n",
      "##\n",
      "## If you use this software to prepare a publication, please cite:\n",
      "##\n",
      "##     JJ Helmus and SM Collis, JORS 2016, doi: 10.5334/jors.119\n",
      "\n"
     ]
    },
    {
     "name": "stderr",
     "output_type": "stream",
     "text": [
      "/home/student.unimelb.edu.au/shorte1/anaconda3/envs/CPOL_analysis/lib/python3.8/site-packages/networkx/readwrite/graphml.py:346: DeprecationWarning: `np.int` is a deprecated alias for the builtin `int`. To silence this warning, use `int` by itself. Doing this will not modify any behavior and is safe. When replacing `np.int`, you may wish to use e.g. `np.int64` or `np.int32` to specify the precision. If you wish to review your current use, check the release note link for additional information.\n",
      "Deprecated in NumPy 1.20; for more details and guidance: https://numpy.org/devdocs/release/1.20.0-notes.html#deprecations\n",
      "  (np.int, \"int\"), (np.int8, \"int\"),\n",
      "/home/student.unimelb.edu.au/shorte1/anaconda3/envs/CPOL_analysis/lib/python3.8/site-packages/networkx/readwrite/gexf.py:220: DeprecationWarning: `np.int` is a deprecated alias for the builtin `int`. To silence this warning, use `int` by itself. Doing this will not modify any behavior and is safe. When replacing `np.int`, you may wish to use e.g. `np.int64` or `np.int32` to specify the precision. If you wish to review your current use, check the release note link for additional information.\n",
      "Deprecated in NumPy 1.20; for more details and guidance: https://numpy.org/devdocs/release/1.20.0-notes.html#deprecations\n",
      "  (np.int, \"int\"), (np.int8, \"int\"),\n",
      "/home/student.unimelb.edu.au/shorte1/anaconda3/envs/CPOL_analysis/lib/python3.8/site-packages/numba/core/types/__init__.py:108: DeprecationWarning: `np.long` is a deprecated alias for `np.compat.long`. To silence this warning, use `np.compat.long` by itself. In the likely event your code does not need to work on Python 2 you can use the builtin `int` for which `np.compat.long` is itself an alias. Doing this will not modify any behaviour and is safe. When replacing `np.long`, you may wish to use e.g. `np.int64` or `np.int32` to specify the precision. If you wish to review your current use, check the release note link for additional information.\n",
      "Deprecated in NumPy 1.20; for more details and guidance: https://numpy.org/devdocs/release/1.20.0-notes.html#deprecations\n",
      "  long_ = _make_signed(np.long)\n",
      "/home/student.unimelb.edu.au/shorte1/anaconda3/envs/CPOL_analysis/lib/python3.8/site-packages/numba/core/types/__init__.py:109: DeprecationWarning: `np.long` is a deprecated alias for `np.compat.long`. To silence this warning, use `np.compat.long` by itself. In the likely event your code does not need to work on Python 2 you can use the builtin `int` for which `np.compat.long` is itself an alias. Doing this will not modify any behaviour and is safe. When replacing `np.long`, you may wish to use e.g. `np.int64` or `np.int32` to specify the precision. If you wish to review your current use, check the release note link for additional information.\n",
      "Deprecated in NumPy 1.20; for more details and guidance: https://numpy.org/devdocs/release/1.20.0-notes.html#deprecations\n",
      "  ulong = _make_unsigned(np.long)\n"
     ]
    },
    {
     "name": "stdout",
     "output_type": "stream",
     "text": [
      "Automatic pdb calling has been turned ON\n"
     ]
    }
   ],
   "source": [
    "# Core\n",
    "import datetime\n",
    "import os\n",
    "import glob\n",
    "import tempfile\n",
    "import pickle\n",
    "import copy\n",
    "\n",
    "# Analysis\n",
    "import numpy as np\n",
    "import pandas as pd\n",
    "import xarray as xr\n",
    "\n",
    "# Plotting\n",
    "import matplotlib.pyplot as plt\n",
    "import matplotlib as mpl\n",
    "\n",
    "# Debugging\n",
    "import pdb, traceback\n",
    "# %load_ext line_profiler\n",
    "\n",
    "# Radar Tools\n",
    "import pyart\n",
    "import tint\n",
    "# import tint.animate\n",
    "# from tint.visualisation import animate\n",
    "\n",
    "import CPOL_func as cf\n",
    "import caine_func as caf\n",
    "import classification as cl\n",
    "import analysis\n",
    "\n",
    "# Convenience functions\n",
    "%load_ext autoreload\n",
    "%autoreload 1\n",
    "%aimport CPOL_func\n",
    "%aimport caine_func\n",
    "%aimport tint.visualisation.figures\n",
    "%aimport tint.visualisation.animate\n",
    "%aimport tint.visualisation.horizontal_helpers\n",
    "%aimport tint.visualisation.vertical_helpers\n",
    "%aimport tint.tracks\n",
    "%aimport tint.objects\n",
    "%aimport tint.grid_utils\n",
    "%aimport tint.steiner\n",
    "%aimport tint.matching\n",
    "%aimport tint.rain\n",
    "%aimport tint.cells\n",
    "%aimport tint.tracks_helpers\n",
    "%aimport tint.process_ERA5\n",
    "%aimport tint.process_WRF\n",
    "\n",
    "%pdb"
   ]
  },
  {
   "cell_type": "code",
   "execution_count": 3,
   "id": "7371c765",
   "metadata": {
    "ExecuteTime": {
     "end_time": "2023-07-03T23:11:34.767435Z",
     "start_time": "2023-07-03T23:11:34.763903Z"
    }
   },
   "outputs": [],
   "source": [
    "base_dir = '/media/shorte1/Ewan\\'s Hard Drive/phd/data/CPOL/'\n",
    "save_dir = '/home/student.unimelb.edu.au/shorte1/Documents/TINT_tracks/'\n",
    "fig_dir = '/home/student.unimelb.edu.au/shorte1/Documents/TINT_figures/'\n",
    "ERA5_dir = '/media/shorte1/Ewan\\'s Hard Drive/phd/data/era5/'\n",
    "ERA5_dir += 'pressure-levels/reanalysis/'\n",
    "WRF_dir = '/media/shorte1/Ewan\\'s Hard Drive/phd/data/caine_WRF_data/'"
   ]
  },
  {
   "cell_type": "code",
   "execution_count": 28,
   "id": "89976557",
   "metadata": {
    "ExecuteTime": {
     "end_time": "2023-07-03T23:20:08.929452Z",
     "start_time": "2023-07-03T23:20:08.713559Z"
    }
   },
   "outputs": [],
   "source": [
    "with open(save_dir + '/lin.pkl', 'rb') as f:\n",
    "    lin_tracks_obj = pickle.load(f)\n",
    "with open(save_dir + '/thompson.pkl', 'rb') as f:\n",
    "    thompson_tracks_obj = pickle.load(f)"
   ]
  },
  {
   "cell_type": "code",
   "execution_count": 32,
   "id": "6c1333bb",
   "metadata": {
    "ExecuteTime": {
     "end_time": "2023-07-03T23:23:12.118599Z",
     "start_time": "2023-07-03T23:23:12.038114Z"
    }
   },
   "outputs": [
    {
     "name": "stdout",
     "output_type": "stream",
     "text": [
      "Gathering files.\n"
     ]
    }
   ],
   "source": [
    "micro_physics = 'lin'\n",
    "\n",
    "dates = np.arange(\n",
    "    np.datetime64('2006-02-08 12:00'), \n",
    "    np.datetime64('2006-02-13 10:10'),\n",
    "    np.timedelta64(10, 'm'))\n",
    "\n",
    "filenames, start_time, end_time = caf.caine_files_from_datetime_list(\n",
    "    dates, micro_physics=micro_physics, \n",
    "    base_dir=WRF_dir)\n",
    "\n",
    "tracks_obj  = tint.Tracks(params={\n",
    "    'AMBIENT': 'WRF', 'AMBIENT_BASE_DIR': WRF_dir + 'lind02/'})"
   ]
  },
  {
   "cell_type": "code",
   "execution_count": 10,
   "id": "0e7783d4",
   "metadata": {
    "ExecuteTime": {
     "end_time": "2023-07-03T23:13:40.268304Z",
     "start_time": "2023-07-03T23:13:39.234456Z"
    }
   },
   "outputs": [
    {
     "name": "stdout",
     "output_type": "stream",
     "text": [
      "Gathering files.\n"
     ]
    }
   ],
   "source": [
    "micro_physics = 'thompson'\n",
    "\n",
    "dates = np.arange(\n",
    "    np.datetime64('2006-02-08 12:00'), \n",
    "    np.datetime64('2006-02-13 10:10'),\n",
    "    np.timedelta64(10, 'm'))\n",
    "\n",
    "filenames, start_time, end_time = caf.caine_files_from_datetime_list(\n",
    "    dates, micro_physics=micro_physics, \n",
    "    base_dir=WRF_dir)\n",
    "\n",
    "tracks_obj  = tint.Tracks(params={\n",
    "    'AMBIENT': 'WRF', 'AMBIENT_BASE_DIR': WRF_dir + 'thompsond02/'})"
   ]
  },
  {
   "cell_type": "code",
   "execution_count": null,
   "id": "58008921",
   "metadata": {
    "ExecuteTime": {
     "end_time": "2023-07-03T23:12:08.848952Z",
     "start_time": "2023-07-03T23:11:52.187183Z"
    }
   },
   "outputs": [],
   "source": [
    "for uid_ind in np.arange(1,2).astype(str):\n",
    "    fig_dir = '/home/student.unimelb.edu.au/shorte1/Documents/TINT_figures'\n",
    "\n",
    "    params = {\n",
    "        'uid_ind': uid_ind, 'line_coords': True, 'center_cell': False, \n",
    "        'cell_ind': 7, 'winds': True, 'winds_fn': filenames, \n",
    "        'direction': 'perpendicular', 'crosshair': True, 'save_dir': fig_dir,\n",
    "        'line_average': True, 'streamplot': True, 'relative_winds': True,\n",
    "        'data_fn': 'angles', 'load_line_coords_winds': False, \n",
    "        'save_ds': False}\n",
    "\n",
    "    grids = (\n",
    "        pyart.io.read_grid(fn, include_fields = ['reflectivity'])\n",
    "        for fn in filenames)\n",
    "\n",
    "    tint.visualisation.animate.animate(lin_tracks_obj, grids, params)"
   ]
  },
  {
   "cell_type": "code",
   "execution_count": 34,
   "id": "d6d1fb69",
   "metadata": {
    "ExecuteTime": {
     "end_time": "2023-07-03T23:23:20.588393Z",
     "start_time": "2023-07-03T23:23:20.581399Z"
    }
   },
   "outputs": [
    {
     "data": {
      "text/plain": [
       "\"/media/shorte1/Ewan's Hard Drive/phd/data/caine_WRF_data/lind04_ref/lind04_ref_2006-02-09T09:50:00.nc\""
      ]
     },
     "execution_count": 34,
     "metadata": {},
     "output_type": "execute_result"
    }
   ],
   "source": [
    "filenames[59]"
   ]
  },
  {
   "cell_type": "code",
   "execution_count": 24,
   "id": "2e1e765b",
   "metadata": {
    "ExecuteTime": {
     "end_time": "2023-07-03T23:18:14.613056Z",
     "start_time": "2023-07-03T23:18:14.563905Z"
    }
   },
   "outputs": [
    {
     "data": {
      "text/html": [
       "<div>\n",
       "<style scoped>\n",
       "    .dataframe tbody tr th:only-of-type {\n",
       "        vertical-align: middle;\n",
       "    }\n",
       "\n",
       "    .dataframe tbody tr th {\n",
       "        vertical-align: top;\n",
       "    }\n",
       "\n",
       "    .dataframe thead th {\n",
       "        text-align: right;\n",
       "    }\n",
       "</style>\n",
       "<table border=\"1\" class=\"dataframe\">\n",
       "  <thead>\n",
       "    <tr style=\"text-align: right;\">\n",
       "      <th></th>\n",
       "      <th></th>\n",
       "      <th></th>\n",
       "      <th></th>\n",
       "      <th>center</th>\n",
       "      <th>com_x</th>\n",
       "      <th>com_y</th>\n",
       "      <th>grid_x</th>\n",
       "      <th>grid_y</th>\n",
       "      <th>proj_area</th>\n",
       "      <th>lon</th>\n",
       "      <th>lat</th>\n",
       "      <th>field_max</th>\n",
       "      <th>max_height</th>\n",
       "      <th>...</th>\n",
       "      <th>v</th>\n",
       "      <th>x_vert_disp</th>\n",
       "      <th>y_vert_disp</th>\n",
       "      <th>u_ambient_mean</th>\n",
       "      <th>v_ambient_mean</th>\n",
       "      <th>u_relative</th>\n",
       "      <th>v_relative</th>\n",
       "      <th>u_shear</th>\n",
       "      <th>v_shear</th>\n",
       "      <th>orientation_alt</th>\n",
       "    </tr>\n",
       "    <tr>\n",
       "      <th>scan</th>\n",
       "      <th>time</th>\n",
       "      <th>uid</th>\n",
       "      <th>level</th>\n",
       "      <th></th>\n",
       "      <th></th>\n",
       "      <th></th>\n",
       "      <th></th>\n",
       "      <th></th>\n",
       "      <th></th>\n",
       "      <th></th>\n",
       "      <th></th>\n",
       "      <th></th>\n",
       "      <th></th>\n",
       "      <th></th>\n",
       "      <th></th>\n",
       "      <th></th>\n",
       "      <th></th>\n",
       "      <th></th>\n",
       "      <th></th>\n",
       "      <th></th>\n",
       "      <th></th>\n",
       "      <th></th>\n",
       "      <th></th>\n",
       "      <th></th>\n",
       "    </tr>\n",
       "  </thead>\n",
       "  <tbody>\n",
       "    <tr>\n",
       "      <th rowspan=\"3\" valign=\"top\">59</th>\n",
       "      <th rowspan=\"3\" valign=\"top\">2006-02-09 09:50:00</th>\n",
       "      <th rowspan=\"3\" valign=\"top\">1</th>\n",
       "      <th>0</th>\n",
       "      <td>[24.0, 75.0]</td>\n",
       "      <td>44973.6</td>\n",
       "      <td>-91187.7</td>\n",
       "      <td>46431.064606</td>\n",
       "      <td>-98195.753098</td>\n",
       "      <td>4187.5</td>\n",
       "      <td>131.47411</td>\n",
       "      <td>-13.11813</td>\n",
       "      <td>57.53</td>\n",
       "      <td>3.0</td>\n",
       "      <td>...</td>\n",
       "      <td>5.188284</td>\n",
       "      <td>NaN</td>\n",
       "      <td>NaN</td>\n",
       "      <td>-6.03184</td>\n",
       "      <td>2.13671</td>\n",
       "      <td>-5.63516</td>\n",
       "      <td>-0.46971</td>\n",
       "      <td>-16.07770</td>\n",
       "      <td>1.98209</td>\n",
       "      <td>29.200</td>\n",
       "    </tr>\n",
       "    <tr>\n",
       "      <th>1</th>\n",
       "      <td>[19.0, 79.0]</td>\n",
       "      <td>50679.5</td>\n",
       "      <td>-97362.8</td>\n",
       "      <td>58729.667664</td>\n",
       "      <td>-102153.658867</td>\n",
       "      <td>7000.0</td>\n",
       "      <td>131.58775</td>\n",
       "      <td>-13.15352</td>\n",
       "      <td>57.77</td>\n",
       "      <td>7.0</td>\n",
       "      <td>...</td>\n",
       "      <td>1.167925</td>\n",
       "      <td>12298.603058</td>\n",
       "      <td>-3957.905769</td>\n",
       "      <td>-9.51937</td>\n",
       "      <td>2.25685</td>\n",
       "      <td>-2.14763</td>\n",
       "      <td>-0.58985</td>\n",
       "      <td>8.10808</td>\n",
       "      <td>-2.11058</td>\n",
       "      <td>20.685</td>\n",
       "    </tr>\n",
       "    <tr>\n",
       "      <th>2</th>\n",
       "      <td>[19.0, 84.0]</td>\n",
       "      <td>59440.2</td>\n",
       "      <td>-96963.2</td>\n",
       "      <td>64944.972992</td>\n",
       "      <td>-103386.492729</td>\n",
       "      <td>6025.0</td>\n",
       "      <td>131.64518</td>\n",
       "      <td>-13.16448</td>\n",
       "      <td>51.42</td>\n",
       "      <td>9.5</td>\n",
       "      <td>...</td>\n",
       "      <td>0.693365</td>\n",
       "      <td>6215.305328</td>\n",
       "      <td>-1232.833862</td>\n",
       "      <td>-4.42401</td>\n",
       "      <td>0.83523</td>\n",
       "      <td>-7.24299</td>\n",
       "      <td>0.83177</td>\n",
       "      <td>2.30576</td>\n",
       "      <td>-0.69286</td>\n",
       "      <td>18.902</td>\n",
       "    </tr>\n",
       "  </tbody>\n",
       "</table>\n",
       "<p>3 rows × 38 columns</p>\n",
       "</div>"
      ],
      "text/plain": [
       "                                          center    com_x    com_y  \\\n",
       "scan time                uid level                                   \n",
       "59   2006-02-09 09:50:00 1   0      [24.0, 75.0]  44973.6 -91187.7   \n",
       "                             1      [19.0, 79.0]  50679.5 -97362.8   \n",
       "                             2      [19.0, 84.0]  59440.2 -96963.2   \n",
       "\n",
       "                                          grid_x         grid_y  proj_area  \\\n",
       "scan time                uid level                                           \n",
       "59   2006-02-09 09:50:00 1   0      46431.064606  -98195.753098     4187.5   \n",
       "                             1      58729.667664 -102153.658867     7000.0   \n",
       "                             2      64944.972992 -103386.492729     6025.0   \n",
       "\n",
       "                                          lon       lat  field_max  \\\n",
       "scan time                uid level                                   \n",
       "59   2006-02-09 09:50:00 1   0      131.47411 -13.11813      57.53   \n",
       "                             1      131.58775 -13.15352      57.77   \n",
       "                             2      131.64518 -13.16448      51.42   \n",
       "\n",
       "                                    max_height  ...         v   x_vert_disp  \\\n",
       "scan time                uid level              ...                           \n",
       "59   2006-02-09 09:50:00 1   0             3.0  ...  5.188284           NaN   \n",
       "                             1             7.0  ...  1.167925  12298.603058   \n",
       "                             2             9.5  ...  0.693365   6215.305328   \n",
       "\n",
       "                                    y_vert_disp  u_ambient_mean  \\\n",
       "scan time                uid level                                \n",
       "59   2006-02-09 09:50:00 1   0              NaN        -6.03184   \n",
       "                             1     -3957.905769        -9.51937   \n",
       "                             2     -1232.833862        -4.42401   \n",
       "\n",
       "                                    v_ambient_mean  u_relative v_relative  \\\n",
       "scan time                uid level                                          \n",
       "59   2006-02-09 09:50:00 1   0             2.13671    -5.63516   -0.46971   \n",
       "                             1             2.25685    -2.14763   -0.58985   \n",
       "                             2             0.83523    -7.24299    0.83177   \n",
       "\n",
       "                                     u_shear  v_shear  orientation_alt  \n",
       "scan time                uid level                                      \n",
       "59   2006-02-09 09:50:00 1   0     -16.07770  1.98209           29.200  \n",
       "                             1       8.10808 -2.11058           20.685  \n",
       "                             2       2.30576 -0.69286           18.902  \n",
       "\n",
       "[3 rows x 38 columns]"
      ]
     },
     "execution_count": 24,
     "metadata": {},
     "output_type": "execute_result"
    }
   ],
   "source": [
    "lin_tracks_obj.tracks.loc[:,np.datetime64('2006-02-09T09:50'),:,:]"
   ]
  },
  {
   "cell_type": "code",
   "execution_count": 85,
   "id": "8d38318a",
   "metadata": {
    "ExecuteTime": {
     "end_time": "2023-07-04T01:33:40.402194Z",
     "start_time": "2023-07-04T01:33:37.294689Z"
    }
   },
   "outputs": [
    {
     "name": "stdout",
     "output_type": "stream",
     "text": [
      "Dark Mode.\n",
      "Transformed data loaded from disk.\n",
      "Adding reflectivity.\n",
      "Adding stratiform offset.\n",
      "Adding winds.\n",
      "Saving data.\n"
     ]
    }
   ],
   "source": [
    "fig_dir = '/home/student.unimelb.edu.au/shorte1/Documents/TINT_figures'\n",
    "\n",
    "# plt.style.use(\"dark_background\")\n",
    "\n",
    "fig, ax = plt.subplots(1, 1, figsize=(12, 3))\n",
    "\n",
    "params = {\n",
    "    'uid_ind': '1', 'line_coords': True, 'center_cell': False, \n",
    "    'cell_ind': 7, 'winds': True, 'winds_fn': filenames[59], \n",
    "    'direction': 'perpendicular', 'crosshair': True, 'save_dir': fig_dir,\n",
    "    'line_average': True, 'streamplot': True, 'relative_winds': True,\n",
    "    'data_fn': 'angles', 'load_line_coords_winds': True, \n",
    "    'save_ds': True, 'fontsize': 14, 'fig_style': 'presentation'}\n",
    "\n",
    "grid = pyart.io.read_grid(filenames[59], include_fields = ['reflectivity'])\n",
    "\n",
    "fig, ax = tint.visualisation.figures.vertical_cross_section(\n",
    "    lin_tracks_obj, grid, params, fig=fig, ax=ax)"
   ]
  },
  {
   "cell_type": "code",
   "execution_count": 18,
   "id": "43d982f7",
   "metadata": {
    "ExecuteTime": {
     "end_time": "2021-12-05T22:40:07.259677Z",
     "start_time": "2021-12-05T22:40:07.125827Z"
    }
   },
   "outputs": [
    {
     "data": {
      "text/html": [
       "<div>\n",
       "<style scoped>\n",
       "    .dataframe tbody tr th:only-of-type {\n",
       "        vertical-align: middle;\n",
       "    }\n",
       "\n",
       "    .dataframe tbody tr th {\n",
       "        vertical-align: top;\n",
       "    }\n",
       "\n",
       "    .dataframe thead th {\n",
       "        text-align: right;\n",
       "    }\n",
       "</style>\n",
       "<table border=\"1\" class=\"dataframe\">\n",
       "  <thead>\n",
       "    <tr style=\"text-align: right;\">\n",
       "      <th></th>\n",
       "      <th>time</th>\n",
       "      <th>uid</th>\n",
       "      <th>streamline_angle</th>\n",
       "      <th>w_max</th>\n",
       "      <th>n_angles</th>\n",
       "      <th>n_obs</th>\n",
       "      <th>max_count</th>\n",
       "      <th>stratiform_offset_angle</th>\n",
       "    </tr>\n",
       "  </thead>\n",
       "  <tbody>\n",
       "    <tr>\n",
       "      <th>0</th>\n",
       "      <td>2006-02-09 11:50:00</td>\n",
       "      <td>0</td>\n",
       "      <td>146.25</td>\n",
       "      <td>4.668671</td>\n",
       "      <td>95.0</td>\n",
       "      <td>410.0</td>\n",
       "      <td>8.0</td>\n",
       "      <td>82.234698</td>\n",
       "    </tr>\n",
       "    <tr>\n",
       "      <th>1</th>\n",
       "      <td>2006-02-09 12:00:00</td>\n",
       "      <td>0</td>\n",
       "      <td>61.25</td>\n",
       "      <td>4.576411</td>\n",
       "      <td>88.0</td>\n",
       "      <td>369.0</td>\n",
       "      <td>5.0</td>\n",
       "      <td>80.578293</td>\n",
       "    </tr>\n",
       "    <tr>\n",
       "      <th>2</th>\n",
       "      <td>2006-02-09 12:10:00</td>\n",
       "      <td>0</td>\n",
       "      <td>158.75</td>\n",
       "      <td>4.136692</td>\n",
       "      <td>118.0</td>\n",
       "      <td>410.0</td>\n",
       "      <td>11.0</td>\n",
       "      <td>151.021723</td>\n",
       "    </tr>\n",
       "    <tr>\n",
       "      <th>3</th>\n",
       "      <td>2006-02-09 12:20:00</td>\n",
       "      <td>0</td>\n",
       "      <td>138.75</td>\n",
       "      <td>3.549116</td>\n",
       "      <td>91.0</td>\n",
       "      <td>369.0</td>\n",
       "      <td>6.0</td>\n",
       "      <td>151.277804</td>\n",
       "    </tr>\n",
       "    <tr>\n",
       "      <th>4</th>\n",
       "      <td>2006-02-09 12:30:00</td>\n",
       "      <td>0</td>\n",
       "      <td>148.75</td>\n",
       "      <td>2.846088</td>\n",
       "      <td>67.0</td>\n",
       "      <td>369.0</td>\n",
       "      <td>8.0</td>\n",
       "      <td>153.164611</td>\n",
       "    </tr>\n",
       "    <tr>\n",
       "      <th>...</th>\n",
       "      <td>...</td>\n",
       "      <td>...</td>\n",
       "      <td>...</td>\n",
       "      <td>...</td>\n",
       "      <td>...</td>\n",
       "      <td>...</td>\n",
       "      <td>...</td>\n",
       "      <td>...</td>\n",
       "    </tr>\n",
       "    <tr>\n",
       "      <th>7</th>\n",
       "      <td>2006-02-12 12:00:00</td>\n",
       "      <td>13</td>\n",
       "      <td>NaN</td>\n",
       "      <td>0.112685</td>\n",
       "      <td>0.0</td>\n",
       "      <td>779.0</td>\n",
       "      <td>NaN</td>\n",
       "      <td>148.929352</td>\n",
       "    </tr>\n",
       "    <tr>\n",
       "      <th>8</th>\n",
       "      <td>2006-02-12 12:10:00</td>\n",
       "      <td>13</td>\n",
       "      <td>153.75</td>\n",
       "      <td>1.611473</td>\n",
       "      <td>14.0</td>\n",
       "      <td>738.0</td>\n",
       "      <td>3.0</td>\n",
       "      <td>154.350060</td>\n",
       "    </tr>\n",
       "    <tr>\n",
       "      <th>9</th>\n",
       "      <td>2006-02-12 12:20:00</td>\n",
       "      <td>13</td>\n",
       "      <td>NaN</td>\n",
       "      <td>0.078730</td>\n",
       "      <td>0.0</td>\n",
       "      <td>779.0</td>\n",
       "      <td>NaN</td>\n",
       "      <td>151.457799</td>\n",
       "    </tr>\n",
       "    <tr>\n",
       "      <th>10</th>\n",
       "      <td>2006-02-12 12:30:00</td>\n",
       "      <td>13</td>\n",
       "      <td>158.75</td>\n",
       "      <td>1.714548</td>\n",
       "      <td>17.0</td>\n",
       "      <td>820.0</td>\n",
       "      <td>4.0</td>\n",
       "      <td>152.326968</td>\n",
       "    </tr>\n",
       "    <tr>\n",
       "      <th>11</th>\n",
       "      <td>2006-02-12 12:40:00</td>\n",
       "      <td>13</td>\n",
       "      <td>118.75</td>\n",
       "      <td>1.249298</td>\n",
       "      <td>5.0</td>\n",
       "      <td>697.0</td>\n",
       "      <td>1.0</td>\n",
       "      <td>136.526929</td>\n",
       "    </tr>\n",
       "  </tbody>\n",
       "</table>\n",
       "<p>239 rows × 8 columns</p>\n",
       "</div>"
      ],
      "text/plain": [
       "                   time  uid  streamline_angle     w_max  n_angles  n_obs  \\\n",
       "0   2006-02-09 11:50:00    0            146.25  4.668671      95.0  410.0   \n",
       "1   2006-02-09 12:00:00    0             61.25  4.576411      88.0  369.0   \n",
       "2   2006-02-09 12:10:00    0            158.75  4.136692     118.0  410.0   \n",
       "3   2006-02-09 12:20:00    0            138.75  3.549116      91.0  369.0   \n",
       "4   2006-02-09 12:30:00    0            148.75  2.846088      67.0  369.0   \n",
       "..                  ...  ...               ...       ...       ...    ...   \n",
       "7   2006-02-12 12:00:00   13               NaN  0.112685       0.0  779.0   \n",
       "8   2006-02-12 12:10:00   13            153.75  1.611473      14.0  738.0   \n",
       "9   2006-02-12 12:20:00   13               NaN  0.078730       0.0  779.0   \n",
       "10  2006-02-12 12:30:00   13            158.75  1.714548      17.0  820.0   \n",
       "11  2006-02-12 12:40:00   13            118.75  1.249298       5.0  697.0   \n",
       "\n",
       "    max_count  stratiform_offset_angle  \n",
       "0         8.0                82.234698  \n",
       "1         5.0                80.578293  \n",
       "2        11.0               151.021723  \n",
       "3         6.0               151.277804  \n",
       "4         8.0               153.164611  \n",
       "..        ...                      ...  \n",
       "7         NaN               148.929352  \n",
       "8         3.0               154.350060  \n",
       "9         NaN               151.457799  \n",
       "10        4.0               152.326968  \n",
       "11        1.0               136.526929  \n",
       "\n",
       "[239 rows x 8 columns]"
      ]
     },
     "execution_count": 18,
     "metadata": {},
     "output_type": "execute_result"
    }
   ],
   "source": [
    "tint.visualisation.figures.concat_angles(\n",
    "    '/home/student.unimelb.edu.au/shorte1/Documents/TINT_figures/thompson_objects_redone',\n",
    "    '/home/student.unimelb.edu.au/shorte1/Documents/TINT_figures/thompson_angles_redone.csv',\n",
    "    13)"
   ]
  },
  {
   "cell_type": "markdown",
   "id": "4fff522c",
   "metadata": {},
   "source": [
    "## Paper"
   ]
  },
  {
   "cell_type": "code",
   "execution_count": 86,
   "id": "c63c11ab",
   "metadata": {
    "ExecuteTime": {
     "end_time": "2023-07-04T01:39:29.557455Z",
     "start_time": "2023-07-04T01:39:29.534143Z"
    }
   },
   "outputs": [],
   "source": [
    "lin_angles = pd.read_csv(\n",
    "    fig_dir + '/lin_angles_redone.csv').dropna()\n",
    "thompson_angles = pd.read_csv(\n",
    "    fig_dir + '/thompson_angles_redone.csv').dropna()"
   ]
  },
  {
   "cell_type": "code",
   "execution_count": 87,
   "id": "87cd13e8",
   "metadata": {
    "ExecuteTime": {
     "end_time": "2023-07-04T01:39:34.328921Z",
     "start_time": "2023-07-04T01:39:34.323559Z"
    }
   },
   "outputs": [],
   "source": [
    "star = lin_angles.loc[lin_angles['time'] == '2006-02-09 09:50:00']\n",
    "star_sl = star['streamline_angle'].values[0]\n",
    "star_so = star['stratiform_offset_angle'].values[0]"
   ]
  },
  {
   "cell_type": "code",
   "execution_count": 91,
   "id": "a8e4251a",
   "metadata": {
    "ExecuteTime": {
     "end_time": "2023-07-04T01:47:38.914832Z",
     "start_time": "2023-07-04T01:47:36.489565Z"
    }
   },
   "outputs": [
    {
     "data": {
      "image/png": "[encoded data removed]",
      "text/plain": [
       "<Figure size 960x400 with 2 Axes>"
      ]
     },
     "metadata": {},
     "output_type": "display_data"
    }
   ],
   "source": [
    "fig_style = 'presentation'\n",
    "\n",
    "if fig_style == 'presentation':\n",
    "    plt.style.use(\"dark_background\")\n",
    "    cross_color = 'w'\n",
    "    fc = 'k'\n",
    "else:\n",
    "    cross_color = 'gray'\n",
    "    fc = 'w'\n",
    "    \n",
    "fig, axes = plt.subplots(1, 2, figsize=(12, 5))\n",
    "\n",
    "# Lin\n",
    "angle_diff, X, names = tint.visualisation.figures.get_angle_props(\n",
    "    lin_angles, lin_tracks_obj)\n",
    "\n",
    "sl_angles = lin_angles['streamline_angle'].values\n",
    "so_angles = lin_angles['stratiform_offset_angle'].values\n",
    "\n",
    "[\n",
    "    w_max, ratio_angles, ratio_bin, ratio_border_conv, \n",
    "    ratio_border_strat, area_conv, area_strat, eccentricity, \n",
    "    speed] = [X[:,i] for i in range(X.shape[1])]\n",
    "\n",
    "# Combined criteria\n",
    "cond2 = ratio_angles > 0.1\n",
    "cond3 = ratio_bin > 0.1\n",
    "cond4 = area_conv > 2000\n",
    "cond4 = area_strat > 2000\n",
    "cond = cond2 & cond3 & cond4\n",
    "\n",
    "tint.visualisation.figures.angle_correlation(\n",
    "    sl_angles, so_angles, cond, fig_dir + 'test.png', \n",
    "    fig=fig, ax=axes[0], title='Lin Microphysics', cross_color=cross_color)\n",
    "\n",
    "axes[0].scatter(\n",
    "    star_sl, star_so, marker='*', color='pink', edgecolor='k', \n",
    "    s=560, zorder=4)\n",
    "\n",
    "# Thompson\n",
    "angle_diff, X, names = tint.visualisation.figures.get_angle_props(\n",
    "    thompson_angles, thompson_tracks_obj)\n",
    "\n",
    "sl_angles = thompson_angles['streamline_angle'].values\n",
    "so_angles = thompson_angles['stratiform_offset_angle'].values\n",
    "\n",
    "[\n",
    "        w_max, ratio_angles, ratio_bin, ratio_border_conv, \n",
    "        ratio_border_strat, area_conv, area_strat, eccentricity, \n",
    "        speed] = [X[:,i] for i in range(X.shape[1])]\n",
    "\n",
    "# Combined criteria\n",
    "cond2 = ratio_angles > 0.1\n",
    "cond3 = ratio_bin > 0.1\n",
    "cond4 = area_conv > 2000\n",
    "cond4 = area_strat > 2000\n",
    "cond = cond2 & cond3 & cond4\n",
    "\n",
    "tint.visualisation.figures.angle_correlation(\n",
    "    sl_angles, so_angles, cond, fig_dir + 'thompson_correlation.png', \n",
    "    fig=fig, ax=axes[1], title='Thompson Microphysics', \n",
    "    cross_color=cross_color)\n",
    "\n",
    "cl.make_subplot_labels(axes.flatten(), x_shift=-0.2)\n",
    "\n",
    "plt.subplots_adjust(wspace=.15)\n",
    "\n",
    "plt.savefig(\n",
    "    fig_dir + '/correlations.png', dpi=200, facecolor=fc,\n",
    "    edgecolor=fc, bbox_inches='tight')"
   ]
  },
  {
   "cell_type": "code",
   "execution_count": 66,
   "id": "40d44232",
   "metadata": {
    "ExecuteTime": {
     "end_time": "2022-01-13T05:13:41.938750Z",
     "start_time": "2022-01-13T05:13:41.917468Z"
    }
   },
   "outputs": [
    {
     "name": "stdout",
     "output_type": "stream",
     "text": [
      "138 12 0.92\n"
     ]
    }
   ],
   "source": [
    "buffer = 10\n",
    "\n",
    "hit = np.logical_and(sl_angles > 90+buffer, so_angles > 90+buffer).sum()\n",
    "hit += np.logical_and(sl_angles < 90-buffer, so_angles < 90-buffer).sum()\n",
    "\n",
    "miss = np.logical_and(sl_angles > 90+buffer, so_angles < 90-buffer).sum()\n",
    "miss += np.logical_and(sl_angles < 90-buffer, so_angles > 90+buffer).sum()\n",
    "\n",
    "print(hit, miss, hit/(hit+miss))"
   ]
  },
  {
   "cell_type": "code",
   "execution_count": 67,
   "id": "7dcb9dd2",
   "metadata": {
    "ExecuteTime": {
     "end_time": "2022-01-13T05:13:47.072672Z",
     "start_time": "2022-01-13T05:13:46.774244Z"
    }
   },
   "outputs": [],
   "source": [
    "# Single\n",
    "angle_diff, X, names = tint.visualisation.figures.get_angle_props(\n",
    "    thompson_angles, thompson_tracks_obj)\n",
    "\n",
    "sl_angles = thompson_angles['streamline_angle'].values\n",
    "so_angles = thompson_angles['stratiform_offset_angle'].values\n",
    "\n",
    "[\n",
    "        w_max, ratio_angles, ratio_bin, ratio_border_conv, \n",
    "        ratio_border_strat, area_conv, area_strat, eccentricity, \n",
    "        speed] = [X[:,i] for i in range(X.shape[1])]\n",
    "\n",
    "# Combined criteria\n",
    "cond2 = ratio_angles > 0.1\n",
    "cond3 = ratio_bin > 0.1\n",
    "cond4 = area_conv > 2000\n",
    "cond4 = area_strat > 2000\n",
    "cond = cond2 & cond3 & cond4\n",
    "\n",
    "tint.visualisation.figures.angle_correlation(\n",
    "    sl_angles, so_angles, cond, fig_dir + 'thompson_correlation.png')"
   ]
  },
  {
   "cell_type": "code",
   "execution_count": 71,
   "id": "dd6168da",
   "metadata": {
    "ExecuteTime": {
     "end_time": "2022-01-13T05:13:57.400295Z",
     "start_time": "2022-01-13T05:13:57.381945Z"
    }
   },
   "outputs": [
    {
     "name": "stdout",
     "output_type": "stream",
     "text": [
      "118 15 0.8872180451127819\n"
     ]
    }
   ],
   "source": [
    "buffer = 10\n",
    "\n",
    "hit = np.logical_and(sl_angles > 90+buffer, so_angles > 90+buffer).sum()\n",
    "hit += np.logical_and(sl_angles < 90-buffer, so_angles < 90-buffer).sum()\n",
    "\n",
    "miss = np.logical_and(sl_angles > 90+buffer, so_angles < 90-buffer).sum()\n",
    "miss += np.logical_and(sl_angles < 90-buffer, so_angles > 90+buffer).sum()\n",
    "\n",
    "print(hit, miss, hit/(miss+hit))"
   ]
  },
  {
   "cell_type": "markdown",
   "id": "d6034e27",
   "metadata": {},
   "source": [
    "## Exploration"
   ]
  },
  {
   "cell_type": "code",
   "execution_count": 23,
   "id": "8568c6ed",
   "metadata": {
    "ExecuteTime": {
     "end_time": "2021-08-16T00:03:46.027194Z",
     "start_time": "2021-08-16T00:03:45.400701Z"
    }
   },
   "outputs": [],
   "source": [
    "# Combined\n",
    "angle_diff_t, X_t, names = tint.visualisation.figures.get_angle_props(\n",
    "    thompson_angles, thompson_tracks_obj)\n",
    "angle_diff_l, X_l, names = tint.visualisation.figures.get_angle_props(\n",
    "    lin_angles, lin_tracks_obj)\n",
    "angle_diff = np.concatenate([angle_diff_t, angle_diff_l])\n",
    "X = np.concatenate([X_t, X_l])\n",
    "sl_angles_t = thompson_angles['streamline_angle'].values\n",
    "so_angles_t = thompson_angles['stratiform_offset_angle'].values\n",
    "sl_angles_l = lin_angles['streamline_angle'].values\n",
    "so_angles_l = lin_angles['stratiform_offset_angle'].values\n",
    "sl_angles = np.concatenate([sl_angles_t, sl_angles_l])\n",
    "so_angles = np.concatenate([so_angles_t, so_angles_l])"
   ]
  },
  {
   "cell_type": "code",
   "execution_count": 27,
   "id": "c58dd0ec",
   "metadata": {
    "ExecuteTime": {
     "end_time": "2021-12-05T22:43:23.337890Z",
     "start_time": "2021-12-05T22:43:23.320670Z"
    }
   },
   "outputs": [],
   "source": [
    "[\n",
    "        w_max, ratio_angles, ratio_bin, ratio_border_conv, \n",
    "        ratio_border_strat, area_conv, area_strat, eccentricity, \n",
    "        speed] = [X[:,i] for i in range(X.shape[1])]"
   ]
  },
  {
   "cell_type": "code",
   "execution_count": 24,
   "id": "cc044742",
   "metadata": {
    "ExecuteTime": {
     "end_time": "2021-08-16T00:03:48.604130Z",
     "start_time": "2021-08-16T00:03:48.510002Z"
    }
   },
   "outputs": [
    {
     "data": {
      "text/plain": [
       "DecisionTreeRegressor(min_samples_split=0.25)"
      ]
     },
     "execution_count": 24,
     "metadata": {},
     "output_type": "execute_result"
    }
   ],
   "source": [
    "from sklearn import tree                       \n",
    "clf = tree.DecisionTreeRegressor(min_samples_split=.25)\n",
    "clf.fit(X, angle_diff)"
   ]
  },
  {
   "cell_type": "code",
   "execution_count": 25,
   "id": "0f868fb3",
   "metadata": {
    "ExecuteTime": {
     "end_time": "2021-08-16T00:03:50.695177Z",
     "start_time": "2021-08-16T00:03:49.776047Z"
    }
   },
   "outputs": [
    {
     "data": {
      "image/png": "[encoded data removed]",
      "text/plain": [
       "<Figure size 864x576 with 1 Axes>"
      ]
     },
     "metadata": {
      "needs_background": "light"
     },
     "output_type": "display_data"
    }
   ],
   "source": [
    "fig = plt.figure(figsize=(12, 8))\n",
    "ax = fig.add_subplot(1, 1, 1)\n",
    "tree.plot_tree(\n",
    "    clf, max_depth=10, ax=ax, feature_names=names, fontsize=10, \n",
    "    label='all', impurity=False)\n",
    "fig.savefig(fig_dir + 'tree_combined.pdf', facecolor='w', format='pdf')"
   ]
  },
  {
   "cell_type": "code",
   "execution_count": 28,
   "id": "4c663f2b",
   "metadata": {
    "ExecuteTime": {
     "end_time": "2021-12-05T22:43:24.260397Z",
     "start_time": "2021-12-05T22:43:24.246465Z"
    }
   },
   "outputs": [],
   "source": [
    "# Combined criteria\n",
    "cond1 = (speed <= 7.477) & (area_strat <= 5228.125) & (speed > 3.486) & (ratio_bin > 0.061) & (ratio_angles > 0.169)\n",
    "cond2 = (speed > 7.477) & (ratio_angles > 0.013) & (ratio_bin > 0.135) & (area_strat > 1103)\n",
    "cond = cond1 | cond2"
   ]
  },
  {
   "cell_type": "code",
   "execution_count": 53,
   "id": "cb09079e",
   "metadata": {
    "ExecuteTime": {
     "end_time": "2021-08-10T02:20:08.825327Z",
     "start_time": "2021-08-10T02:20:08.812400Z"
    }
   },
   "outputs": [],
   "source": [
    "# Combined criteria\n",
    "cond1 = speed > 7.5\n",
    "cond2 = ratio_angles > 0.013\n",
    "cond3 = ratio_bin > 0.135\n",
    "cond5 = np.array(area_strat) > 2409\n",
    "cond6 = speed <= 14.987\n",
    "cond7 = np.array(ratio_border_conv) <= 0.037\n",
    "cond8 = np.array(area_conv) > 325.0\n",
    "# cond = cond1 & cond2 & cond3 & cond5 # & cond7\n",
    "cond = cond1 & cond2 & cond3 & cond5 & cond6"
   ]
  },
  {
   "cell_type": "code",
   "execution_count": 569,
   "id": "aa1f3b59",
   "metadata": {
    "ExecuteTime": {
     "end_time": "2021-08-09T07:15:50.826196Z",
     "start_time": "2021-08-09T07:15:50.822040Z"
    }
   },
   "outputs": [],
   "source": [
    "# Thompson split criteria\n",
    "cond1 = speed > 7.568\n",
    "cond2 = ratio_angles > 0.013\n",
    "cond3 = ratio_bin > 0.082\n",
    "cond4 = speed <= 14.987\n",
    "cond5 = np.array(area_strat) > 1650\n",
    "cond6 = np.array(ratio_border_conv) <= 0.037\n",
    "cond7 = np.array(area_conv) > 325.0\n",
    "cond = cond1 & cond2 & cond3 & cond4 # & cond5 & cond7"
   ]
  },
  {
   "cell_type": "code",
   "execution_count": 524,
   "id": "578f7ab8",
   "metadata": {
    "ExecuteTime": {
     "end_time": "2021-08-09T06:31:50.658862Z",
     "start_time": "2021-08-09T06:31:50.645869Z"
    }
   },
   "outputs": [],
   "source": [
    "cond1a = (ratio_angles <= 0.021)\n",
    "cond1b = (ratio_angles > 0.021) & (ratio_bin <= 0.213)\n",
    "cond1 = (speed <= 7.568) & (ratio_angles > 0.001) & (ratio_bin > 0.055) & (speed > 4.93) & (cond1a | cond1b)\n",
    "cond2a = (speed <= 10.09)\n",
    "cond2b = (speed > 10.09) & (ratio_bin > 0.137)\n",
    "cond2 = (speed > 7.568) & (ratio_angles > 0.013) & (ratio_bin > 0.082) & (speed <= 14.987) & (cond2a | cond2b)\n",
    "cond = cond1 | cond2"
   ]
  },
  {
   "cell_type": "code",
   "execution_count": 374,
   "id": "f272b644",
   "metadata": {
    "ExecuteTime": {
     "end_time": "2021-08-09T03:25:33.693916Z",
     "start_time": "2021-08-09T03:25:33.681858Z"
    }
   },
   "outputs": [],
   "source": [
    "# Lin split criteria\n",
    "cond1 = speed > 0\n",
    "cond2 = ratio_angles > 0.011\n",
    "cond3 = ratio_bin > 0.127\n",
    "cond4 = w_max > 1\n",
    "cond = cond1 & cond2 & cond3 & cond4"
   ]
  },
  {
   "cell_type": "code",
   "execution_count": 386,
   "id": "75eeacff",
   "metadata": {
    "ExecuteTime": {
     "end_time": "2021-08-09T03:49:36.929000Z",
     "start_time": "2021-08-09T03:49:36.913431Z"
    }
   },
   "outputs": [],
   "source": [
    "# Lin split criteria\n",
    "cond1 = (ratio_bin > 0.221) & (speed > 6.943) & (eccentricity > 0.679)\n",
    "cond2 = (\n",
    "    (ratio_bin <= 0.221) & (ratio_angles > 0.011) & (w_max > 2.243)\n",
    "    & (\n",
    "        ((ratio_bin > 0.116) & (speed > 3.676)) \n",
    "        | ((ratio_bin <= 0.113) & (ratio_bin > 0.049))))\n",
    "cond = cond1 | cond2"
   ]
  },
  {
   "cell_type": "code",
   "execution_count": 534,
   "id": "9c51b8db",
   "metadata": {
    "ExecuteTime": {
     "end_time": "2021-08-09T06:45:30.928691Z",
     "start_time": "2021-08-09T06:45:30.913912Z"
    }
   },
   "outputs": [
    {
     "data": {
      "text/plain": [
       "51"
      ]
     },
     "execution_count": 534,
     "metadata": {},
     "output_type": "execute_result"
    }
   ],
   "source": [
    "len(cond[cond==True])"
   ]
  },
  {
   "cell_type": "code",
   "execution_count": 29,
   "id": "be3e8f21",
   "metadata": {
    "ExecuteTime": {
     "end_time": "2021-08-16T00:04:05.998387Z",
     "start_time": "2021-08-16T00:04:05.990202Z"
    }
   },
   "outputs": [],
   "source": [
    "from scipy.stats.stats import pearsonr \n"
   ]
  },
  {
   "cell_type": "code",
   "execution_count": 15,
   "id": "ffeba5fe",
   "metadata": {
    "ExecuteTime": {
     "end_time": "2021-07-27T01:41:36.182050Z",
     "start_time": "2021-07-27T01:41:36.176887Z"
    }
   },
   "outputs": [
    {
     "data": {
      "text/plain": [
       "169.6111421845304"
      ]
     },
     "execution_count": 15,
     "metadata": {},
     "output_type": "execute_result"
    }
   ],
   "source": [
    "np.rad2deg(np.arctan2(5.5,-30))"
   ]
  },
  {
   "cell_type": "code",
   "execution_count": 18,
   "id": "5ca8ceda",
   "metadata": {
    "ExecuteTime": {
     "end_time": "2021-07-26T06:43:16.639535Z",
     "start_time": "2021-07-26T06:43:16.626364Z"
    }
   },
   "outputs": [],
   "source": [
    "from skimage.transform import radon\n",
    "from skimage.io import imread\n",
    "from skimage.color import rgb2gray, rgba2rgb"
   ]
  },
  {
   "cell_type": "code",
   "execution_count": 25,
   "id": "23cb222b",
   "metadata": {
    "ExecuteTime": {
     "end_time": "2021-07-26T06:46:17.400105Z",
     "start_time": "2021-07-26T06:46:17.382706Z"
    }
   },
   "outputs": [],
   "source": [
    "test = (image == 0).astype(int)"
   ]
  },
  {
   "cell_type": "code",
   "execution_count": 29,
   "id": "5d73926c",
   "metadata": {
    "ExecuteTime": {
     "end_time": "2021-07-26T06:54:59.881081Z",
     "start_time": "2021-07-26T06:54:49.911362Z"
    }
   },
   "outputs": [
    {
     "ename": "IndexError",
     "evalue": "list index out of range",
     "output_type": "error",
     "traceback": [
      "\u001b[0;31m---------------------------------------------------------------------------\u001b[0m",
      "\u001b[0;31mIndexError\u001b[0m                                Traceback (most recent call last)",
      "\u001b[0;32m/tmp/ipykernel_21199/4030395361.py\u001b[0m in \u001b[0;36m<module>\u001b[0;34m\u001b[0m\n\u001b[0;32m----> 1\u001b[0;31m \u001b[0mfilename\u001b[0m \u001b[0;34m=\u001b[0m \u001b[0mfilenames\u001b[0m\u001b[0;34m[\u001b[0m\u001b[0;36m36\u001b[0m\u001b[0;34m]\u001b[0m\u001b[0;34m\u001b[0m\u001b[0;34m\u001b[0m\u001b[0m\n\u001b[0m\u001b[1;32m      2\u001b[0m \u001b[0mgrid\u001b[0m \u001b[0;34m=\u001b[0m \u001b[0mpyart\u001b[0m\u001b[0;34m.\u001b[0m\u001b[0mio\u001b[0m\u001b[0;34m.\u001b[0m\u001b[0mread_grid\u001b[0m\u001b[0;34m(\u001b[0m\u001b[0mfilename\u001b[0m\u001b[0;34m,\u001b[0m \u001b[0minclude_fields\u001b[0m \u001b[0;34m=\u001b[0m \u001b[0;34m[\u001b[0m\u001b[0;34m'reflectivity'\u001b[0m\u001b[0;34m]\u001b[0m\u001b[0;34m)\u001b[0m\u001b[0;34m\u001b[0m\u001b[0;34m\u001b[0m\u001b[0m\n\u001b[1;32m      3\u001b[0m \u001b[0mfig_dir\u001b[0m \u001b[0;34m=\u001b[0m \u001b[0;34m'/home/student.unimelb.edu.au/shorte1/Documents/TINT_figures'\u001b[0m\u001b[0;34m\u001b[0m\u001b[0;34m\u001b[0m\u001b[0m\n\u001b[1;32m      4\u001b[0m \u001b[0;34m\u001b[0m\u001b[0m\n\u001b[1;32m      5\u001b[0m params = {\n",
      "\u001b[0;31mIndexError\u001b[0m: list index out of range"
     ]
    },
    {
     "name": "stdout",
     "output_type": "stream",
     "text": [
      "> \u001b[0;32m/tmp/ipykernel_21199/4030395361.py\u001b[0m(1)\u001b[0;36m<module>\u001b[0;34m()\u001b[0m\n",
      "\u001b[0;32m----> 1 \u001b[0;31m\u001b[0mfilename\u001b[0m \u001b[0;34m=\u001b[0m \u001b[0mfilenames\u001b[0m\u001b[0;34m[\u001b[0m\u001b[0;36m36\u001b[0m\u001b[0;34m]\u001b[0m\u001b[0;34m\u001b[0m\u001b[0;34m\u001b[0m\u001b[0m\n",
      "\u001b[0m\u001b[0;32m      2 \u001b[0;31m\u001b[0mgrid\u001b[0m \u001b[0;34m=\u001b[0m \u001b[0mpyart\u001b[0m\u001b[0;34m.\u001b[0m\u001b[0mio\u001b[0m\u001b[0;34m.\u001b[0m\u001b[0mread_grid\u001b[0m\u001b[0;34m(\u001b[0m\u001b[0mfilename\u001b[0m\u001b[0;34m,\u001b[0m \u001b[0minclude_fields\u001b[0m \u001b[0;34m=\u001b[0m \u001b[0;34m[\u001b[0m\u001b[0;34m'reflectivity'\u001b[0m\u001b[0;34m]\u001b[0m\u001b[0;34m)\u001b[0m\u001b[0;34m\u001b[0m\u001b[0;34m\u001b[0m\u001b[0m\n",
      "\u001b[0m\u001b[0;32m      3 \u001b[0;31m\u001b[0mfig_dir\u001b[0m \u001b[0;34m=\u001b[0m \u001b[0;34m'/home/student.unimelb.edu.au/shorte1/Documents/TINT_figures'\u001b[0m\u001b[0;34m\u001b[0m\u001b[0;34m\u001b[0m\u001b[0m\n",
      "\u001b[0m\u001b[0;32m      4 \u001b[0;31m\u001b[0;34m\u001b[0m\u001b[0m\n",
      "\u001b[0m\u001b[0;32m      5 \u001b[0;31mparams = {\n",
      "\u001b[0m\n",
      "ipdb> q\n"
     ]
    }
   ],
   "source": [
    "filename = filenames[36]\n",
    "grid = pyart.io.read_grid(filename, include_fields = ['reflectivity'])\n",
    "fig_dir = '/home/student.unimelb.edu.au/shorte1/Documents/TINT_figures'\n",
    "\n",
    "params = {\n",
    "    'uid_ind': '1', 'line_coords': False, 'center_cell': False, \n",
    "    'cell_ind': 4, 'winds': False, 'winds_fn': filename,\n",
    "    'crosshair': True, 'save_dir': None, 'legend': False}\n",
    "\n",
    "tint.visualisation.figures.object(tracks_obj, grid, params=params)"
   ]
  },
  {
   "cell_type": "code",
   "execution_count": null,
   "id": "b5902192",
   "metadata": {},
   "outputs": [],
   "source": []
  }
 ],
 "metadata": {
  "kernelspec": {
   "display_name": "Python 3 (ipykernel)",
   "language": "python",
   "name": "python3"
  },
  "language_info": {
   "codemirror_mode": {
    "name": "ipython",
    "version": 3
   },
   "file_extension": ".py",
   "mimetype": "text/x-python",
   "name": "python",
   "nbconvert_exporter": "python",
   "pygments_lexer": "ipython3",
   "version": "3.8.10"
  },
  "latex_envs": {
   "LaTeX_envs_menu_present": true,
   "autoclose": false,
   "autocomplete": true,
   "bibliofile": "biblio.bib",
   "cite_by": "apalike",
   "current_citInitial": 1,
   "eqLabelWithNumbers": true,
   "eqNumInitial": 1,
   "hotkeys": {
    "equation": "Ctrl-E",
    "itemize": "Ctrl-I"
   },
   "labels_anchors": false,
   "latex_user_defs": false,
   "report_style_numbering": false,
   "user_envs_cfg": false
  },
  "toc": {
   "base_numbering": 1,
   "nav_menu": {},
   "number_sections": true,
   "sideBar": true,
   "skip_h1_title": false,
   "title_cell": "Table of Contents",
   "title_sidebar": "Contents",
   "toc_cell": false,
   "toc_position": {},
   "toc_section_display": true,
   "toc_window_display": false
  }
 },
 "nbformat": 4,
 "nbformat_minor": 5
}
