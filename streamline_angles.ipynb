{
 "cells": [
  {
   "cell_type": "markdown",
   "id": "d39ac84a",
   "metadata": {},
   "source": [
    "# Load Tracks"
   ]
  },
  {
   "cell_type": "code",
   "execution_count": 1,
   "id": "abced867",
   "metadata": {
    "ExecuteTime": {
     "end_time": "2022-07-07T00:24:07.799801Z",
     "start_time": "2022-07-07T00:24:07.781479Z"
    }
   },
   "outputs": [],
   "source": [
    "import sys\n",
    "sys.path.insert(0, '/home/student.unimelb.edu.au/shorte1/Documents/TINT')"
   ]
  },
  {
   "cell_type": "code",
   "execution_count": 31,
   "id": "ae7fb7b2",
   "metadata": {
    "ExecuteTime": {
     "end_time": "2022-07-07T00:46:00.816204Z",
     "start_time": "2022-07-07T00:46:00.740647Z"
    }
   },
   "outputs": [
    {
     "name": "stdout",
     "output_type": "stream",
     "text": [
      "The autoreload extension is already loaded. To reload it, use:\n",
      "  %reload_ext autoreload\n",
      "Automatic pdb calling has been turned ON\n"
     ]
    }
   ],
   "source": [
    "# Core\n",
    "import datetime\n",
    "import os\n",
    "import glob\n",
    "import tempfile\n",
    "import pickle\n",
    "import copy\n",
    "\n",
    "# Analysis\n",
    "import numpy as np\n",
    "import pandas as pd\n",
    "import xarray as xr\n",
    "\n",
    "# Plotting\n",
    "import matplotlib.pyplot as plt\n",
    "import matplotlib as mpl\n",
    "\n",
    "# Debugging\n",
    "import pdb, traceback\n",
    "# %load_ext line_profiler\n",
    "\n",
    "# Radar Tools\n",
    "import pyart\n",
    "import tint\n",
    "# import tint.animate\n",
    "# from tint.visualisation import animate\n",
    "\n",
    "import CPOL_func as cf\n",
    "import caine_func as caf\n",
    "import classification as cl\n",
    "import analysis\n",
    "\n",
    "# Convenience functions\n",
    "%load_ext autoreload\n",
    "%autoreload 1\n",
    "%aimport CPOL_func\n",
    "%aimport caine_func\n",
    "%aimport tint.visualisation.figures\n",
    "%aimport tint.visualisation.animate\n",
    "%aimport tint.visualisation.horizontal_helpers\n",
    "%aimport tint.visualisation.vertical_helpers\n",
    "%aimport tint.tracks\n",
    "%aimport tint.objects\n",
    "%aimport tint.grid_utils\n",
    "%aimport tint.steiner\n",
    "%aimport tint.matching\n",
    "%aimport tint.rain\n",
    "%aimport tint.cells\n",
    "%aimport tint.tracks_helpers\n",
    "%aimport tint.process_ERA5\n",
    "%aimport tint.process_WRF\n",
    "\n",
    "%pdb"
   ]
  },
  {
   "cell_type": "code",
   "execution_count": 3,
   "id": "7371c765",
   "metadata": {
    "ExecuteTime": {
     "end_time": "2022-07-07T00:24:10.770151Z",
     "start_time": "2022-07-07T00:24:10.763652Z"
    }
   },
   "outputs": [],
   "source": [
    "base_dir = '/media/shorte1/Ewan\\'s Hard Drive/phd/data/CPOL/'\n",
    "save_dir = '/home/student.unimelb.edu.au/shorte1/Documents/TINT_tracks/'\n",
    "fig_dir = '/home/student.unimelb.edu.au/shorte1/Documents/TINT_figures/'\n",
    "ERA5_dir = '/media/shorte1/Ewan\\'s Hard Drive/phd/data/era5/'\n",
    "ERA5_dir += 'pressure-levels/reanalysis/'\n",
    "WRF_dir = '/media/shorte1/Ewan\\'s Hard Drive/phd/data/caine_WRF_data/'"
   ]
  },
  {
   "cell_type": "code",
   "execution_count": 4,
   "id": "89976557",
   "metadata": {
    "ExecuteTime": {
     "end_time": "2022-07-07T00:24:13.426040Z",
     "start_time": "2022-07-07T00:24:13.293400Z"
    }
   },
   "outputs": [],
   "source": [
    "with open(save_dir + '/lin.pkl', 'rb') as f:\n",
    "    lin_tracks_obj = pickle.load(f)\n",
    "with open(save_dir + '/thompson.pkl', 'rb') as f:\n",
    "    thompson_tracks_obj = pickle.load(f)"
   ]
  },
  {
   "cell_type": "code",
   "execution_count": 5,
   "id": "6c1333bb",
   "metadata": {
    "ExecuteTime": {
     "end_time": "2022-01-13T04:34:09.962562Z",
     "start_time": "2022-01-13T04:34:09.892596Z"
    }
   },
   "outputs": [
    {
     "name": "stdout",
     "output_type": "stream",
     "text": [
      "Gathering files.\n"
     ]
    }
   ],
   "source": [
    "micro_physics = 'lin'\n",
    "\n",
    "dates = np.arange(\n",
    "    np.datetime64('2006-02-08 12:00'), \n",
    "    np.datetime64('2006-02-13 10:10'),\n",
    "    np.timedelta64(10, 'm'))\n",
    "\n",
    "filenames, start_time, end_time = caf.caine_files_from_datetime_list(\n",
    "    dates, micro_physics=micro_physics, \n",
    "    base_dir=WRF_dir)\n",
    "\n",
    "tracks_obj  = tint.Tracks(params={\n",
    "    'AMBIENT': 'WRF', 'AMBIENT_BASE_DIR': WRF_dir + 'lind02/'})"
   ]
  },
  {
   "cell_type": "code",
   "execution_count": 12,
   "id": "0e7783d4",
   "metadata": {
    "ExecuteTime": {
     "end_time": "2021-12-03T21:59:26.702902Z",
     "start_time": "2021-12-03T21:59:23.836777Z"
    }
   },
   "outputs": [
    {
     "name": "stdout",
     "output_type": "stream",
     "text": [
      "Gathering files.\n"
     ]
    }
   ],
   "source": [
    "micro_physics = 'thompson'\n",
    "\n",
    "dates = np.arange(\n",
    "    np.datetime64('2006-02-08 12:00'), \n",
    "    np.datetime64('2006-02-13 10:10'),\n",
    "    np.timedelta64(10, 'm'))\n",
    "\n",
    "filenames, start_time, end_time = caf.caine_files_from_datetime_list(\n",
    "    dates, micro_physics=micro_physics, \n",
    "    base_dir=WRF_dir)\n",
    "\n",
    "tracks_obj  = tint.Tracks(params={\n",
    "    'AMBIENT': 'WRF', 'AMBIENT_BASE_DIR': WRF_dir + 'thompsond02/'})"
   ]
  },
  {
   "cell_type": "code",
   "execution_count": 16,
   "id": "58008921",
   "metadata": {
    "ExecuteTime": {
     "end_time": "2022-01-04T04:36:28.087331Z",
     "start_time": "2022-01-04T04:36:02.719750Z"
    }
   },
   "outputs": [
    {
     "name": "stdout",
     "output_type": "stream",
     "text": [
      "Generating frame 2006-02-09T09:00:00.000000000\n",
      "Interpolating onto line coordinates.\n"
     ]
    },
    {
     "ename": "KeyboardInterrupt",
     "evalue": "",
     "output_type": "error",
     "traceback": [
      "\u001b[0;31m---------------------------------------------------------------------------\u001b[0m",
      "\u001b[0;31mKeyboardInterrupt\u001b[0m                         Traceback (most recent call last)",
      "\u001b[0;32m/tmp/ipykernel_19651/2518683402.py\u001b[0m in \u001b[0;36m<module>\u001b[0;34m\u001b[0m\n\u001b[1;32m     14\u001b[0m         for fn in filenames)\n\u001b[1;32m     15\u001b[0m \u001b[0;34m\u001b[0m\u001b[0m\n\u001b[0;32m---> 16\u001b[0;31m     \u001b[0mtint\u001b[0m\u001b[0;34m.\u001b[0m\u001b[0mvisualisation\u001b[0m\u001b[0;34m.\u001b[0m\u001b[0manimate\u001b[0m\u001b[0;34m.\u001b[0m\u001b[0manimate\u001b[0m\u001b[0;34m(\u001b[0m\u001b[0mlin_tracks_obj\u001b[0m\u001b[0;34m,\u001b[0m \u001b[0mgrids\u001b[0m\u001b[0;34m,\u001b[0m \u001b[0mparams\u001b[0m\u001b[0;34m)\u001b[0m\u001b[0;34m\u001b[0m\u001b[0;34m\u001b[0m\u001b[0m\n\u001b[0m",
      "\u001b[0;32m~/Documents/TINT/tint/visualisation/animate.py\u001b[0m in \u001b[0;36manimate\u001b[0;34m(tracks, grids, params, fig_type, fps, start_datetime, end_datetime, keep_frames)\u001b[0m\n\u001b[1;32m     87\u001b[0m         \u001b[0;32mif\u001b[0m \u001b[0mparams\u001b[0m\u001b[0;34m[\u001b[0m\u001b[0;34m'winds'\u001b[0m\u001b[0;34m]\u001b[0m\u001b[0;34m:\u001b[0m\u001b[0;34m\u001b[0m\u001b[0;34m\u001b[0m\u001b[0m\n\u001b[1;32m     88\u001b[0m             \u001b[0mtmp_params\u001b[0m\u001b[0;34m[\u001b[0m\u001b[0;34m'winds_fn'\u001b[0m\u001b[0;34m]\u001b[0m \u001b[0;34m=\u001b[0m \u001b[0mparams\u001b[0m\u001b[0;34m[\u001b[0m\u001b[0;34m'winds_fn'\u001b[0m\u001b[0;34m]\u001b[0m\u001b[0;34m[\u001b[0m\u001b[0mi\u001b[0m\u001b[0;34m]\u001b[0m\u001b[0;34m\u001b[0m\u001b[0;34m\u001b[0m\u001b[0m\n\u001b[0;32m---> 89\u001b[0;31m         anim_func(\n\u001b[0m\u001b[1;32m     90\u001b[0m             tracks, grid, tmp_params, date_time=date_times[i])\n\u001b[1;32m     91\u001b[0m         \u001b[0mgrid\u001b[0m \u001b[0;34m=\u001b[0m \u001b[0mnext\u001b[0m\u001b[0;34m(\u001b[0m\u001b[0mgrids\u001b[0m\u001b[0;34m)\u001b[0m\u001b[0;34m\u001b[0m\u001b[0;34m\u001b[0m\u001b[0m\n",
      "\u001b[0;32m~/Documents/TINT/tint/visualisation/figures.py\u001b[0m in \u001b[0;36mvertical_cross_section\u001b[0;34m(tracks, grid, params, alt, fig, ax, date_time)\u001b[0m\n\u001b[1;32m    220\u001b[0m \u001b[0;34m\u001b[0m\u001b[0m\n\u001b[1;32m    221\u001b[0m     \u001b[0;32mif\u001b[0m \u001b[0mparams\u001b[0m\u001b[0;34m[\u001b[0m\u001b[0;34m'line_coords'\u001b[0m\u001b[0;34m]\u001b[0m\u001b[0;34m:\u001b[0m\u001b[0;34m\u001b[0m\u001b[0;34m\u001b[0m\u001b[0m\n\u001b[0;32m--> 222\u001b[0;31m         ds, tmp_tracks = vh.setup_line_coords(\n\u001b[0m\u001b[1;32m    223\u001b[0m             ds, tracks, params, date_time, variables)\n\u001b[1;32m    224\u001b[0m \u001b[0;34m\u001b[0m\u001b[0m\n",
      "\u001b[0;32m~/Documents/TINT/tint/visualisation/vertical_helpers.py\u001b[0m in \u001b[0;36msetup_line_coords\u001b[0;34m(ds, tracks, params, date_time, variables)\u001b[0m\n\u001b[1;32m    297\u001b[0m \u001b[0;32mdef\u001b[0m \u001b[0msetup_line_coords\u001b[0m\u001b[0;34m(\u001b[0m\u001b[0mds\u001b[0m\u001b[0;34m,\u001b[0m \u001b[0mtracks\u001b[0m\u001b[0;34m,\u001b[0m \u001b[0mparams\u001b[0m\u001b[0;34m,\u001b[0m \u001b[0mdate_time\u001b[0m\u001b[0;34m,\u001b[0m \u001b[0mvariables\u001b[0m\u001b[0;34m)\u001b[0m\u001b[0;34m:\u001b[0m\u001b[0;34m\u001b[0m\u001b[0;34m\u001b[0m\u001b[0m\n\u001b[1;32m    298\u001b[0m     \u001b[0;32mif\u001b[0m \u001b[0;32mnot\u001b[0m \u001b[0mparams\u001b[0m\u001b[0;34m[\u001b[0m\u001b[0;34m'load_line_coords_winds'\u001b[0m\u001b[0;34m]\u001b[0m\u001b[0;34m:\u001b[0m\u001b[0;34m\u001b[0m\u001b[0;34m\u001b[0m\u001b[0m\n\u001b[0;32m--> 299\u001b[0;31m         ds, tmp_tracks = transform_ds(\n\u001b[0m\u001b[1;32m    300\u001b[0m             ds, tracks, params, date_time, variables)\n\u001b[1;32m    301\u001b[0m     \u001b[0;32melse\u001b[0m\u001b[0;34m:\u001b[0m\u001b[0;34m\u001b[0m\u001b[0;34m\u001b[0m\u001b[0m\n",
      "\u001b[0;32m~/Documents/TINT/tint/visualisation/vertical_helpers.py\u001b[0m in \u001b[0;36mtransform_ds\u001b[0;34m(ds, tracks, params, date_time, variables)\u001b[0m\n\u001b[1;32m    284\u001b[0m     tmp_tracks = tracks.tracks.xs(\n\u001b[1;32m    285\u001b[0m         (date_time, params['uid_ind'], 0), level=('time', 'uid', 'level'))\n\u001b[0;32m--> 286\u001b[0;31m     ds = get_line_grid(\n\u001b[0m\u001b[1;32m    287\u001b[0m         ds, tmp_tracks['orientation'].iloc[0], variables=variables)\n\u001b[1;32m    288\u001b[0m     \u001b[0;32mif\u001b[0m \u001b[0mparams\u001b[0m\u001b[0;34m[\u001b[0m\u001b[0;34m'winds'\u001b[0m\u001b[0;34m]\u001b[0m\u001b[0;34m:\u001b[0m\u001b[0;34m\u001b[0m\u001b[0;34m\u001b[0m\u001b[0m\n",
      "\u001b[0;32m~/Documents/TINT/tint/visualisation/vertical_helpers.py\u001b[0m in \u001b[0;36mget_line_grid\u001b[0;34m(ds, angle, variables)\u001b[0m\n\u001b[1;32m    131\u001b[0m         \u001b[0my\u001b[0m \u001b[0;34m=\u001b[0m \u001b[0mds\u001b[0m\u001b[0;34m.\u001b[0m\u001b[0my\u001b[0m\u001b[0;34m.\u001b[0m\u001b[0mvalues\u001b[0m\u001b[0;34m\u001b[0m\u001b[0;34m\u001b[0m\u001b[0m\n\u001b[1;32m    132\u001b[0m         \u001b[0mz\u001b[0m \u001b[0;34m=\u001b[0m \u001b[0mds\u001b[0m\u001b[0;34m.\u001b[0m\u001b[0mz\u001b[0m\u001b[0;34m.\u001b[0m\u001b[0mvalues\u001b[0m\u001b[0;34m\u001b[0m\u001b[0;34m\u001b[0m\u001b[0m\n\u001b[0;32m--> 133\u001b[0;31m         \u001b[0mnew_var\u001b[0m \u001b[0;34m=\u001b[0m \u001b[0minterp_var\u001b[0m\u001b[0;34m(\u001b[0m\u001b[0mx\u001b[0m\u001b[0;34m,\u001b[0m \u001b[0my\u001b[0m\u001b[0;34m,\u001b[0m \u001b[0mz\u001b[0m\u001b[0;34m,\u001b[0m \u001b[0mvar\u001b[0m\u001b[0;34m,\u001b[0m \u001b[0mangle\u001b[0m\u001b[0;34m,\u001b[0m \u001b[0mvar_name\u001b[0m\u001b[0;34m)\u001b[0m\u001b[0;34m\u001b[0m\u001b[0;34m\u001b[0m\u001b[0m\n\u001b[0m\u001b[1;32m    134\u001b[0m         \u001b[0mnew_var_list\u001b[0m\u001b[0;34m.\u001b[0m\u001b[0mappend\u001b[0m\u001b[0;34m(\u001b[0m\u001b[0mnew_var\u001b[0m\u001b[0;34m)\u001b[0m\u001b[0;34m\u001b[0m\u001b[0;34m\u001b[0m\u001b[0m\n\u001b[1;32m    135\u001b[0m \u001b[0;34m\u001b[0m\u001b[0m\n",
      "\u001b[0;32m~/Documents/TINT/tint/visualisation/vertical_helpers.py\u001b[0m in \u001b[0;36minterp_var\u001b[0;34m(x, y, z, var, angle, var_name, min, max, step)\u001b[0m\n\u001b[1;32m    113\u001b[0m             \u001b[0;32mfor\u001b[0m \u001b[0mj\u001b[0m \u001b[0;32min\u001b[0m \u001b[0mrange\u001b[0m\u001b[0;34m(\u001b[0m\u001b[0mlen\u001b[0m\u001b[0;34m(\u001b[0m\u001b[0my\u001b[0m\u001b[0;34m)\u001b[0m\u001b[0;34m)\u001b[0m\u001b[0;34m:\u001b[0m\u001b[0;34m\u001b[0m\u001b[0;34m\u001b[0m\u001b[0m\n\u001b[1;32m    114\u001b[0m                 \u001b[0mvalues\u001b[0m\u001b[0;34m.\u001b[0m\u001b[0mappend\u001b[0m\u001b[0;34m(\u001b[0m\u001b[0mvar\u001b[0m\u001b[0;34m[\u001b[0m\u001b[0mk\u001b[0m\u001b[0;34m,\u001b[0m \u001b[0mi\u001b[0m\u001b[0;34m,\u001b[0m \u001b[0mj\u001b[0m\u001b[0;34m]\u001b[0m\u001b[0;34m)\u001b[0m\u001b[0;34m\u001b[0m\u001b[0;34m\u001b[0m\u001b[0m\n\u001b[0;32m--> 115\u001b[0;31m         \u001b[0mnew_var\u001b[0m\u001b[0;34m[\u001b[0m\u001b[0mk\u001b[0m\u001b[0;34m,\u001b[0m \u001b[0;34m:\u001b[0m\u001b[0;34m,\u001b[0m \u001b[0;34m:\u001b[0m\u001b[0;34m]\u001b[0m \u001b[0;34m=\u001b[0m \u001b[0mgriddata\u001b[0m\u001b[0;34m(\u001b[0m\u001b[0mpoints_new\u001b[0m\u001b[0;34m,\u001b[0m \u001b[0mvalues\u001b[0m\u001b[0;34m,\u001b[0m \u001b[0;34m(\u001b[0m\u001b[0mXp\u001b[0m\u001b[0;34m,\u001b[0m \u001b[0mYp\u001b[0m\u001b[0;34m)\u001b[0m\u001b[0;34m)\u001b[0m\u001b[0;34m\u001b[0m\u001b[0;34m\u001b[0m\u001b[0m\n\u001b[0m\u001b[1;32m    116\u001b[0m \u001b[0;34m\u001b[0m\u001b[0m\n\u001b[1;32m    117\u001b[0m     \u001b[0;31m# x is now line parallel, y is now line perpendicular\u001b[0m\u001b[0;34m\u001b[0m\u001b[0;34m\u001b[0m\u001b[0;34m\u001b[0m\u001b[0m\n",
      "\u001b[0;32m~/anaconda3/envs/CPOL_analysis/lib/python3.8/site-packages/scipy/interpolate/ndgriddata.py\u001b[0m in \u001b[0;36mgriddata\u001b[0;34m(points, values, xi, method, fill_value, rescale)\u001b[0m\n\u001b[1;32m    218\u001b[0m         ip = LinearNDInterpolator(points, values, fill_value=fill_value,\n\u001b[1;32m    219\u001b[0m                                   rescale=rescale)\n\u001b[0;32m--> 220\u001b[0;31m         \u001b[0;32mreturn\u001b[0m \u001b[0mip\u001b[0m\u001b[0;34m(\u001b[0m\u001b[0mxi\u001b[0m\u001b[0;34m)\u001b[0m\u001b[0;34m\u001b[0m\u001b[0;34m\u001b[0m\u001b[0m\n\u001b[0m\u001b[1;32m    221\u001b[0m     \u001b[0;32melif\u001b[0m \u001b[0mmethod\u001b[0m \u001b[0;34m==\u001b[0m \u001b[0;34m'cubic'\u001b[0m \u001b[0;32mand\u001b[0m \u001b[0mndim\u001b[0m \u001b[0;34m==\u001b[0m \u001b[0;36m2\u001b[0m\u001b[0;34m:\u001b[0m\u001b[0;34m\u001b[0m\u001b[0;34m\u001b[0m\u001b[0m\n\u001b[1;32m    222\u001b[0m         ip = CloughTocher2DInterpolator(points, values, fill_value=fill_value,\n",
      "\u001b[0;31mKeyboardInterrupt\u001b[0m: "
     ]
    },
    {
     "name": "stdout",
     "output_type": "stream",
     "text": [
      "> \u001b[0;32m/home/student.unimelb.edu.au/shorte1/anaconda3/envs/CPOL_analysis/lib/python3.8/site-packages/scipy/interpolate/ndgriddata.py\u001b[0m(220)\u001b[0;36mgriddata\u001b[0;34m()\u001b[0m\n",
      "\u001b[0;32m    218 \u001b[0;31m        ip = LinearNDInterpolator(points, values, fill_value=fill_value,\n",
      "\u001b[0m\u001b[0;32m    219 \u001b[0;31m                                  rescale=rescale)\n",
      "\u001b[0m\u001b[0;32m--> 220 \u001b[0;31m        \u001b[0;32mreturn\u001b[0m \u001b[0mip\u001b[0m\u001b[0;34m(\u001b[0m\u001b[0mxi\u001b[0m\u001b[0;34m)\u001b[0m\u001b[0;34m\u001b[0m\u001b[0;34m\u001b[0m\u001b[0m\n",
      "\u001b[0m\u001b[0;32m    221 \u001b[0;31m    \u001b[0;32melif\u001b[0m \u001b[0mmethod\u001b[0m \u001b[0;34m==\u001b[0m \u001b[0;34m'cubic'\u001b[0m \u001b[0;32mand\u001b[0m \u001b[0mndim\u001b[0m \u001b[0;34m==\u001b[0m \u001b[0;36m2\u001b[0m\u001b[0;34m:\u001b[0m\u001b[0;34m\u001b[0m\u001b[0;34m\u001b[0m\u001b[0m\n",
      "\u001b[0m\u001b[0;32m    222 \u001b[0;31m        ip = CloughTocher2DInterpolator(points, values, fill_value=fill_value,\n",
      "\u001b[0m\n",
      "ipdb> q\n"
     ]
    },
    {
     "data": {
      "image/png": "[encoded data removed]",
      "text/plain": [
       "<Figure size 1080x252 with 1 Axes>"
      ]
     },
     "metadata": {
      "needs_background": "light"
     },
     "output_type": "display_data"
    }
   ],
   "source": [
    "for uid_ind in np.arange(1,2).astype(str):\n",
    "    fig_dir = '/home/student.unimelb.edu.au/shorte1/Documents/TINT_figures'\n",
    "\n",
    "    params = {\n",
    "        'uid_ind': uid_ind, 'line_coords': True, 'center_cell': False, \n",
    "        'cell_ind': 7, 'winds': True, 'winds_fn': filenames, \n",
    "        'direction': 'perpendicular', 'crosshair': True, 'save_dir': fig_dir,\n",
    "        'line_average': True, 'streamplot': True, 'relative_winds': True,\n",
    "        'data_fn': 'angles', 'load_line_coords_winds': False, \n",
    "        'save_ds': False}\n",
    "\n",
    "    grids = (\n",
    "        pyart.io.read_grid(fn, include_fields = ['reflectivity'])\n",
    "        for fn in filenames)\n",
    "\n",
    "    tint.visualisation.animate.animate(lin_tracks_obj, grids, params)"
   ]
  },
  {
   "cell_type": "code",
   "execution_count": 9,
   "id": "d6d1fb69",
   "metadata": {
    "ExecuteTime": {
     "end_time": "2022-01-04T04:32:46.728710Z",
     "start_time": "2022-01-04T04:32:46.715300Z"
    }
   },
   "outputs": [
    {
     "data": {
      "text/plain": [
       "\"/media/shorte1/Ewan's Hard Drive/phd/data/caine_WRF_data/lind04_ref/lind04_ref_2006-02-09T09:50:00.nc\""
      ]
     },
     "execution_count": 9,
     "metadata": {},
     "output_type": "execute_result"
    }
   ],
   "source": [
    "filenames[59]"
   ]
  },
  {
   "cell_type": "code",
   "execution_count": 19,
   "id": "8d38318a",
   "metadata": {
    "ExecuteTime": {
     "end_time": "2022-01-04T04:42:36.273033Z",
     "start_time": "2022-01-04T04:41:32.684810Z"
    }
   },
   "outputs": [
    {
     "name": "stdout",
     "output_type": "stream",
     "text": [
      "Interpolating onto line coordinates.\n",
      "Calculating horizontal winds in new basis.\n",
      "Adding reflectivity.\n",
      "Adding stratiform offset.\n",
      "Adding winds.\n",
      "Saving data.\n"
     ]
    },
    {
     "data": {
      "text/plain": [
       "<Figure size 432x288 with 0 Axes>"
      ]
     },
     "metadata": {},
     "output_type": "display_data"
    }
   ],
   "source": [
    "fig_dir = '/home/student.unimelb.edu.au/shorte1/Documents/TINT_figures'\n",
    "\n",
    "params = {\n",
    "    'uid_ind': '1', 'line_coords': True, 'center_cell': False, \n",
    "    'cell_ind': 7, 'winds': True, 'winds_fn': filenames[59], \n",
    "    'direction': 'perpendicular', 'crosshair': True, 'save_dir': fig_dir,\n",
    "    'line_average': True, 'streamplot': True, 'relative_winds': True,\n",
    "    'data_fn': 'angles', 'load_line_coords_winds': False, \n",
    "    'save_ds': False, 'fontsize': 14}\n",
    "\n",
    "grid = pyart.io.read_grid(filenames[59], include_fields = ['reflectivity'])\n",
    "\n",
    "tint.visualisation.figures.vertical_cross_section(lin_tracks_obj, grid, params)\n",
    "plt.savefig(\n",
    "    fig_dir + '/example_vertical_cs.png', dpi=200, facecolor='w', \n",
    "    edgecolor='white', bbox_inches='tight')"
   ]
  },
  {
   "cell_type": "code",
   "execution_count": 18,
   "id": "43d982f7",
   "metadata": {
    "ExecuteTime": {
     "end_time": "2021-12-05T22:40:07.259677Z",
     "start_time": "2021-12-05T22:40:07.125827Z"
    }
   },
   "outputs": [
    {
     "data": {
      "text/html": [
       "<div>\n",
       "<style scoped>\n",
       "    .dataframe tbody tr th:only-of-type {\n",
       "        vertical-align: middle;\n",
       "    }\n",
       "\n",
       "    .dataframe tbody tr th {\n",
       "        vertical-align: top;\n",
       "    }\n",
       "\n",
       "    .dataframe thead th {\n",
       "        text-align: right;\n",
       "    }\n",
       "</style>\n",
       "<table border=\"1\" class=\"dataframe\">\n",
       "  <thead>\n",
       "    <tr style=\"text-align: right;\">\n",
       "      <th></th>\n",
       "      <th>time</th>\n",
       "      <th>uid</th>\n",
       "      <th>streamline_angle</th>\n",
       "      <th>w_max</th>\n",
       "      <th>n_angles</th>\n",
       "      <th>n_obs</th>\n",
       "      <th>max_count</th>\n",
       "      <th>stratiform_offset_angle</th>\n",
       "    </tr>\n",
       "  </thead>\n",
       "  <tbody>\n",
       "    <tr>\n",
       "      <th>0</th>\n",
       "      <td>2006-02-09 11:50:00</td>\n",
       "      <td>0</td>\n",
       "      <td>146.25</td>\n",
       "      <td>4.668671</td>\n",
       "      <td>95.0</td>\n",
       "      <td>410.0</td>\n",
       "      <td>8.0</td>\n",
       "      <td>82.234698</td>\n",
       "    </tr>\n",
       "    <tr>\n",
       "      <th>1</th>\n",
       "      <td>2006-02-09 12:00:00</td>\n",
       "      <td>0</td>\n",
       "      <td>61.25</td>\n",
       "      <td>4.576411</td>\n",
       "      <td>88.0</td>\n",
       "      <td>369.0</td>\n",
       "      <td>5.0</td>\n",
       "      <td>80.578293</td>\n",
       "    </tr>\n",
       "    <tr>\n",
       "      <th>2</th>\n",
       "      <td>2006-02-09 12:10:00</td>\n",
       "      <td>0</td>\n",
       "      <td>158.75</td>\n",
       "      <td>4.136692</td>\n",
       "      <td>118.0</td>\n",
       "      <td>410.0</td>\n",
       "      <td>11.0</td>\n",
       "      <td>151.021723</td>\n",
       "    </tr>\n",
       "    <tr>\n",
       "      <th>3</th>\n",
       "      <td>2006-02-09 12:20:00</td>\n",
       "      <td>0</td>\n",
       "      <td>138.75</td>\n",
       "      <td>3.549116</td>\n",
       "      <td>91.0</td>\n",
       "      <td>369.0</td>\n",
       "      <td>6.0</td>\n",
       "      <td>151.277804</td>\n",
       "    </tr>\n",
       "    <tr>\n",
       "      <th>4</th>\n",
       "      <td>2006-02-09 12:30:00</td>\n",
       "      <td>0</td>\n",
       "      <td>148.75</td>\n",
       "      <td>2.846088</td>\n",
       "      <td>67.0</td>\n",
       "      <td>369.0</td>\n",
       "      <td>8.0</td>\n",
       "      <td>153.164611</td>\n",
       "    </tr>\n",
       "    <tr>\n",
       "      <th>...</th>\n",
       "      <td>...</td>\n",
       "      <td>...</td>\n",
       "      <td>...</td>\n",
       "      <td>...</td>\n",
       "      <td>...</td>\n",
       "      <td>...</td>\n",
       "      <td>...</td>\n",
       "      <td>...</td>\n",
       "    </tr>\n",
       "    <tr>\n",
       "      <th>7</th>\n",
       "      <td>2006-02-12 12:00:00</td>\n",
       "      <td>13</td>\n",
       "      <td>NaN</td>\n",
       "      <td>0.112685</td>\n",
       "      <td>0.0</td>\n",
       "      <td>779.0</td>\n",
       "      <td>NaN</td>\n",
       "      <td>148.929352</td>\n",
       "    </tr>\n",
       "    <tr>\n",
       "      <th>8</th>\n",
       "      <td>2006-02-12 12:10:00</td>\n",
       "      <td>13</td>\n",
       "      <td>153.75</td>\n",
       "      <td>1.611473</td>\n",
       "      <td>14.0</td>\n",
       "      <td>738.0</td>\n",
       "      <td>3.0</td>\n",
       "      <td>154.350060</td>\n",
       "    </tr>\n",
       "    <tr>\n",
       "      <th>9</th>\n",
       "      <td>2006-02-12 12:20:00</td>\n",
       "      <td>13</td>\n",
       "      <td>NaN</td>\n",
       "      <td>0.078730</td>\n",
       "      <td>0.0</td>\n",
       "      <td>779.0</td>\n",
       "      <td>NaN</td>\n",
       "      <td>151.457799</td>\n",
       "    </tr>\n",
       "    <tr>\n",
       "      <th>10</th>\n",
       "      <td>2006-02-12 12:30:00</td>\n",
       "      <td>13</td>\n",
       "      <td>158.75</td>\n",
       "      <td>1.714548</td>\n",
       "      <td>17.0</td>\n",
       "      <td>820.0</td>\n",
       "      <td>4.0</td>\n",
       "      <td>152.326968</td>\n",
       "    </tr>\n",
       "    <tr>\n",
       "      <th>11</th>\n",
       "      <td>2006-02-12 12:40:00</td>\n",
       "      <td>13</td>\n",
       "      <td>118.75</td>\n",
       "      <td>1.249298</td>\n",
       "      <td>5.0</td>\n",
       "      <td>697.0</td>\n",
       "      <td>1.0</td>\n",
       "      <td>136.526929</td>\n",
       "    </tr>\n",
       "  </tbody>\n",
       "</table>\n",
       "<p>239 rows × 8 columns</p>\n",
       "</div>"
      ],
      "text/plain": [
       "                   time  uid  streamline_angle     w_max  n_angles  n_obs  \\\n",
       "0   2006-02-09 11:50:00    0            146.25  4.668671      95.0  410.0   \n",
       "1   2006-02-09 12:00:00    0             61.25  4.576411      88.0  369.0   \n",
       "2   2006-02-09 12:10:00    0            158.75  4.136692     118.0  410.0   \n",
       "3   2006-02-09 12:20:00    0            138.75  3.549116      91.0  369.0   \n",
       "4   2006-02-09 12:30:00    0            148.75  2.846088      67.0  369.0   \n",
       "..                  ...  ...               ...       ...       ...    ...   \n",
       "7   2006-02-12 12:00:00   13               NaN  0.112685       0.0  779.0   \n",
       "8   2006-02-12 12:10:00   13            153.75  1.611473      14.0  738.0   \n",
       "9   2006-02-12 12:20:00   13               NaN  0.078730       0.0  779.0   \n",
       "10  2006-02-12 12:30:00   13            158.75  1.714548      17.0  820.0   \n",
       "11  2006-02-12 12:40:00   13            118.75  1.249298       5.0  697.0   \n",
       "\n",
       "    max_count  stratiform_offset_angle  \n",
       "0         8.0                82.234698  \n",
       "1         5.0                80.578293  \n",
       "2        11.0               151.021723  \n",
       "3         6.0               151.277804  \n",
       "4         8.0               153.164611  \n",
       "..        ...                      ...  \n",
       "7         NaN               148.929352  \n",
       "8         3.0               154.350060  \n",
       "9         NaN               151.457799  \n",
       "10        4.0               152.326968  \n",
       "11        1.0               136.526929  \n",
       "\n",
       "[239 rows x 8 columns]"
      ]
     },
     "execution_count": 18,
     "metadata": {},
     "output_type": "execute_result"
    }
   ],
   "source": [
    "tint.visualisation.figures.concat_angles(\n",
    "    '/home/student.unimelb.edu.au/shorte1/Documents/TINT_figures/thompson_objects_redone',\n",
    "    '/home/student.unimelb.edu.au/shorte1/Documents/TINT_figures/thompson_angles_redone.csv',\n",
    "    13)"
   ]
  },
  {
   "cell_type": "markdown",
   "id": "4fff522c",
   "metadata": {},
   "source": [
    "## Paper"
   ]
  },
  {
   "cell_type": "code",
   "execution_count": 6,
   "id": "c63c11ab",
   "metadata": {
    "ExecuteTime": {
     "end_time": "2022-07-07T00:26:53.645416Z",
     "start_time": "2022-07-07T00:26:53.620740Z"
    }
   },
   "outputs": [],
   "source": [
    "lin_angles = pd.read_csv(\n",
    "    fig_dir + '/lin_angles_redone.csv').dropna()\n",
    "thompson_angles = pd.read_csv(\n",
    "    fig_dir + '/thompson_angles_redone.csv').dropna()"
   ]
  },
  {
   "cell_type": "code",
   "execution_count": 46,
   "id": "87cd13e8",
   "metadata": {
    "ExecuteTime": {
     "end_time": "2022-07-07T01:01:23.872169Z",
     "start_time": "2022-07-07T01:01:23.859346Z"
    }
   },
   "outputs": [
    {
     "data": {
      "text/html": [
       "<div>\n",
       "<style scoped>\n",
       "    .dataframe tbody tr th:only-of-type {\n",
       "        vertical-align: middle;\n",
       "    }\n",
       "\n",
       "    .dataframe tbody tr th {\n",
       "        vertical-align: top;\n",
       "    }\n",
       "\n",
       "    .dataframe thead th {\n",
       "        text-align: right;\n",
       "    }\n",
       "</style>\n",
       "<table border=\"1\" class=\"dataframe\">\n",
       "  <thead>\n",
       "    <tr style=\"text-align: right;\">\n",
       "      <th></th>\n",
       "      <th>Unnamed: 0</th>\n",
       "      <th>time</th>\n",
       "      <th>uid</th>\n",
       "      <th>streamline_angle</th>\n",
       "      <th>w_max</th>\n",
       "      <th>n_angles</th>\n",
       "      <th>n_obs</th>\n",
       "      <th>max_count</th>\n",
       "      <th>stratiform_offset_angle</th>\n",
       "    </tr>\n",
       "  </thead>\n",
       "  <tbody>\n",
       "    <tr>\n",
       "      <th>13</th>\n",
       "      <td>5</td>\n",
       "      <td>2006-02-09 09:50:00</td>\n",
       "      <td>1</td>\n",
       "      <td>168.75</td>\n",
       "      <td>2.854924</td>\n",
       "      <td>175.0</td>\n",
       "      <td>902.0</td>\n",
       "      <td>31.0</td>\n",
       "      <td>153.542009</td>\n",
       "    </tr>\n",
       "  </tbody>\n",
       "</table>\n",
       "</div>"
      ],
      "text/plain": [
       "    Unnamed: 0                 time  uid  streamline_angle     w_max  \\\n",
       "13           5  2006-02-09 09:50:00    1            168.75  2.854924   \n",
       "\n",
       "    n_angles  n_obs  max_count  stratiform_offset_angle  \n",
       "13     175.0  902.0       31.0               153.542009  "
      ]
     },
     "execution_count": 46,
     "metadata": {},
     "output_type": "execute_result"
    }
   ],
   "source": [
    "star = lin_angles.loc[lin_angles['time'] == '2006-02-09 09:50:00']\n",
    "star_sl = star['streamline_angle'].values[0]\n",
    "star_so = star['stratiform_offset_angle'].values[0]"
   ]
  },
  {
   "cell_type": "code",
   "execution_count": 88,
   "id": "a8e4251a",
   "metadata": {
    "ExecuteTime": {
     "end_time": "2022-07-07T01:19:58.437717Z",
     "start_time": "2022-07-07T01:19:56.996096Z"
    }
   },
   "outputs": [
    {
     "data": {
      "image/png": "[encoded data removed]",
      "text/plain": [
       "<Figure size 864x360 with 2 Axes>"
      ]
     },
     "metadata": {
      "needs_background": "light"
     },
     "output_type": "display_data"
    }
   ],
   "source": [
    "fig, axes = plt.subplots(1, 2, figsize=(12, 5))\n",
    "\n",
    "# Lin\n",
    "angle_diff, X, names = tint.visualisation.figures.get_angle_props(\n",
    "    lin_angles, lin_tracks_obj)\n",
    "\n",
    "sl_angles = lin_angles['streamline_angle'].values\n",
    "so_angles = lin_angles['stratiform_offset_angle'].values\n",
    "\n",
    "[\n",
    "    w_max, ratio_angles, ratio_bin, ratio_border_conv, \n",
    "    ratio_border_strat, area_conv, area_strat, eccentricity, \n",
    "    speed] = [X[:,i] for i in range(X.shape[1])]\n",
    "\n",
    "# Combined criteria\n",
    "cond2 = ratio_angles > 0.1\n",
    "cond3 = ratio_bin > 0.1\n",
    "cond4 = area_conv > 2000\n",
    "cond4 = area_strat > 2000\n",
    "cond = cond2 & cond3 & cond4\n",
    "\n",
    "tint.visualisation.figures.angle_correlation(\n",
    "    sl_angles, so_angles, cond, fig_dir + 'test.png', \n",
    "    fig=fig, ax=axes[0], title='Lin Microphysics')\n",
    "\n",
    "axes[0].scatter(\n",
    "    star_sl, star_so, marker='*', color='pink', edgecolor='k', \n",
    "    s=560, zorder=4)\n",
    "\n",
    "# Thompson\n",
    "angle_diff, X, names = tint.visualisation.figures.get_angle_props(\n",
    "    thompson_angles, thompson_tracks_obj)\n",
    "\n",
    "sl_angles = thompson_angles['streamline_angle'].values\n",
    "so_angles = thompson_angles['stratiform_offset_angle'].values\n",
    "\n",
    "[\n",
    "        w_max, ratio_angles, ratio_bin, ratio_border_conv, \n",
    "        ratio_border_strat, area_conv, area_strat, eccentricity, \n",
    "        speed] = [X[:,i] for i in range(X.shape[1])]\n",
    "\n",
    "# Combined criteria\n",
    "cond2 = ratio_angles > 0.1\n",
    "cond3 = ratio_bin > 0.1\n",
    "cond4 = area_conv > 2000\n",
    "cond4 = area_strat > 2000\n",
    "cond = cond2 & cond3 & cond4\n",
    "\n",
    "tint.visualisation.figures.angle_correlation(\n",
    "    sl_angles, so_angles, cond, fig_dir + 'thompson_correlation.png', \n",
    "    fig=fig, ax=axes[1], title='Thompson Microphysics')\n",
    "\n",
    "cl.make_subplot_labels(axes.flatten(), x_shift=-0.2)\n",
    "\n",
    "plt.subplots_adjust(wspace=.15)\n",
    "\n",
    "plt.savefig(\n",
    "    fig_dir + 'correlations.png', dpi=200, facecolor='w',\n",
    "    edgecolor='white', bbox_inches='tight')"
   ]
  },
  {
   "cell_type": "code",
   "execution_count": 66,
   "id": "40d44232",
   "metadata": {
    "ExecuteTime": {
     "end_time": "2022-01-13T05:13:41.938750Z",
     "start_time": "2022-01-13T05:13:41.917468Z"
    }
   },
   "outputs": [
    {
     "name": "stdout",
     "output_type": "stream",
     "text": [
      "138 12 0.92\n"
     ]
    }
   ],
   "source": [
    "buffer = 10\n",
    "\n",
    "hit = np.logical_and(sl_angles > 90+buffer, so_angles > 90+buffer).sum()\n",
    "hit += np.logical_and(sl_angles < 90-buffer, so_angles < 90-buffer).sum()\n",
    "\n",
    "miss = np.logical_and(sl_angles > 90+buffer, so_angles < 90-buffer).sum()\n",
    "miss += np.logical_and(sl_angles < 90-buffer, so_angles > 90+buffer).sum()\n",
    "\n",
    "print(hit, miss, hit/(hit+miss))"
   ]
  },
  {
   "cell_type": "code",
   "execution_count": 67,
   "id": "7dcb9dd2",
   "metadata": {
    "ExecuteTime": {
     "end_time": "2022-01-13T05:13:47.072672Z",
     "start_time": "2022-01-13T05:13:46.774244Z"
    }
   },
   "outputs": [],
   "source": [
    "# Single\n",
    "angle_diff, X, names = tint.visualisation.figures.get_angle_props(\n",
    "    thompson_angles, thompson_tracks_obj)\n",
    "\n",
    "sl_angles = thompson_angles['streamline_angle'].values\n",
    "so_angles = thompson_angles['stratiform_offset_angle'].values\n",
    "\n",
    "[\n",
    "        w_max, ratio_angles, ratio_bin, ratio_border_conv, \n",
    "        ratio_border_strat, area_conv, area_strat, eccentricity, \n",
    "        speed] = [X[:,i] for i in range(X.shape[1])]\n",
    "\n",
    "# Combined criteria\n",
    "cond2 = ratio_angles > 0.1\n",
    "cond3 = ratio_bin > 0.1\n",
    "cond4 = area_conv > 2000\n",
    "cond4 = area_strat > 2000\n",
    "cond = cond2 & cond3 & cond4\n",
    "\n",
    "tint.visualisation.figures.angle_correlation(\n",
    "    sl_angles, so_angles, cond, fig_dir + 'thompson_correlation.png')"
   ]
  },
  {
   "cell_type": "code",
   "execution_count": 71,
   "id": "dd6168da",
   "metadata": {
    "ExecuteTime": {
     "end_time": "2022-01-13T05:13:57.400295Z",
     "start_time": "2022-01-13T05:13:57.381945Z"
    }
   },
   "outputs": [
    {
     "name": "stdout",
     "output_type": "stream",
     "text": [
      "118 15 0.8872180451127819\n"
     ]
    }
   ],
   "source": [
    "buffer = 10\n",
    "\n",
    "hit = np.logical_and(sl_angles > 90+buffer, so_angles > 90+buffer).sum()\n",
    "hit += np.logical_and(sl_angles < 90-buffer, so_angles < 90-buffer).sum()\n",
    "\n",
    "miss = np.logical_and(sl_angles > 90+buffer, so_angles < 90-buffer).sum()\n",
    "miss += np.logical_and(sl_angles < 90-buffer, so_angles > 90+buffer).sum()\n",
    "\n",
    "print(hit, miss, hit/(miss+hit))"
   ]
  },
  {
   "cell_type": "markdown",
   "id": "d6034e27",
   "metadata": {},
   "source": [
    "## Exploration"
   ]
  },
  {
   "cell_type": "code",
   "execution_count": 23,
   "id": "8568c6ed",
   "metadata": {
    "ExecuteTime": {
     "end_time": "2021-08-16T00:03:46.027194Z",
     "start_time": "2021-08-16T00:03:45.400701Z"
    }
   },
   "outputs": [],
   "source": [
    "# Combined\n",
    "angle_diff_t, X_t, names = tint.visualisation.figures.get_angle_props(\n",
    "    thompson_angles, thompson_tracks_obj)\n",
    "angle_diff_l, X_l, names = tint.visualisation.figures.get_angle_props(\n",
    "    lin_angles, lin_tracks_obj)\n",
    "angle_diff = np.concatenate([angle_diff_t, angle_diff_l])\n",
    "X = np.concatenate([X_t, X_l])\n",
    "sl_angles_t = thompson_angles['streamline_angle'].values\n",
    "so_angles_t = thompson_angles['stratiform_offset_angle'].values\n",
    "sl_angles_l = lin_angles['streamline_angle'].values\n",
    "so_angles_l = lin_angles['stratiform_offset_angle'].values\n",
    "sl_angles = np.concatenate([sl_angles_t, sl_angles_l])\n",
    "so_angles = np.concatenate([so_angles_t, so_angles_l])"
   ]
  },
  {
   "cell_type": "code",
   "execution_count": 27,
   "id": "c58dd0ec",
   "metadata": {
    "ExecuteTime": {
     "end_time": "2021-12-05T22:43:23.337890Z",
     "start_time": "2021-12-05T22:43:23.320670Z"
    }
   },
   "outputs": [],
   "source": [
    "[\n",
    "        w_max, ratio_angles, ratio_bin, ratio_border_conv, \n",
    "        ratio_border_strat, area_conv, area_strat, eccentricity, \n",
    "        speed] = [X[:,i] for i in range(X.shape[1])]"
   ]
  },
  {
   "cell_type": "code",
   "execution_count": 24,
   "id": "cc044742",
   "metadata": {
    "ExecuteTime": {
     "end_time": "2021-08-16T00:03:48.604130Z",
     "start_time": "2021-08-16T00:03:48.510002Z"
    }
   },
   "outputs": [
    {
     "data": {
      "text/plain": [
       "DecisionTreeRegressor(min_samples_split=0.25)"
      ]
     },
     "execution_count": 24,
     "metadata": {},
     "output_type": "execute_result"
    }
   ],
   "source": [
    "from sklearn import tree                       \n",
    "clf = tree.DecisionTreeRegressor(min_samples_split=.25)\n",
    "clf.fit(X, angle_diff)"
   ]
  },
  {
   "cell_type": "code",
   "execution_count": 25,
   "id": "0f868fb3",
   "metadata": {
    "ExecuteTime": {
     "end_time": "2021-08-16T00:03:50.695177Z",
     "start_time": "2021-08-16T00:03:49.776047Z"
    }
   },
   "outputs": [
    {
     "data": {
      "image/png": "[encoded data removed]",
      "text/plain": [
       "<Figure size 864x576 with 1 Axes>"
      ]
     },
     "metadata": {
      "needs_background": "light"
     },
     "output_type": "display_data"
    }
   ],
   "source": [
    "fig = plt.figure(figsize=(12, 8))\n",
    "ax = fig.add_subplot(1, 1, 1)\n",
    "tree.plot_tree(\n",
    "    clf, max_depth=10, ax=ax, feature_names=names, fontsize=10, \n",
    "    label='all', impurity=False)\n",
    "fig.savefig(fig_dir + 'tree_combined.pdf', facecolor='w', format='pdf')"
   ]
  },
  {
   "cell_type": "code",
   "execution_count": 28,
   "id": "4c663f2b",
   "metadata": {
    "ExecuteTime": {
     "end_time": "2021-12-05T22:43:24.260397Z",
     "start_time": "2021-12-05T22:43:24.246465Z"
    }
   },
   "outputs": [],
   "source": [
    "# Combined criteria\n",
    "cond1 = (speed <= 7.477) & (area_strat <= 5228.125) & (speed > 3.486) & (ratio_bin > 0.061) & (ratio_angles > 0.169)\n",
    "cond2 = (speed > 7.477) & (ratio_angles > 0.013) & (ratio_bin > 0.135) & (area_strat > 1103)\n",
    "cond = cond1 | cond2"
   ]
  },
  {
   "cell_type": "code",
   "execution_count": 53,
   "id": "cb09079e",
   "metadata": {
    "ExecuteTime": {
     "end_time": "2021-08-10T02:20:08.825327Z",
     "start_time": "2021-08-10T02:20:08.812400Z"
    }
   },
   "outputs": [],
   "source": [
    "# Combined criteria\n",
    "cond1 = speed > 7.5\n",
    "cond2 = ratio_angles > 0.013\n",
    "cond3 = ratio_bin > 0.135\n",
    "cond5 = np.array(area_strat) > 2409\n",
    "cond6 = speed <= 14.987\n",
    "cond7 = np.array(ratio_border_conv) <= 0.037\n",
    "cond8 = np.array(area_conv) > 325.0\n",
    "# cond = cond1 & cond2 & cond3 & cond5 # & cond7\n",
    "cond = cond1 & cond2 & cond3 & cond5 & cond6"
   ]
  },
  {
   "cell_type": "code",
   "execution_count": 569,
   "id": "aa1f3b59",
   "metadata": {
    "ExecuteTime": {
     "end_time": "2021-08-09T07:15:50.826196Z",
     "start_time": "2021-08-09T07:15:50.822040Z"
    }
   },
   "outputs": [],
   "source": [
    "# Thompson split criteria\n",
    "cond1 = speed > 7.568\n",
    "cond2 = ratio_angles > 0.013\n",
    "cond3 = ratio_bin > 0.082\n",
    "cond4 = speed <= 14.987\n",
    "cond5 = np.array(area_strat) > 1650\n",
    "cond6 = np.array(ratio_border_conv) <= 0.037\n",
    "cond7 = np.array(area_conv) > 325.0\n",
    "cond = cond1 & cond2 & cond3 & cond4 # & cond5 & cond7"
   ]
  },
  {
   "cell_type": "code",
   "execution_count": 524,
   "id": "578f7ab8",
   "metadata": {
    "ExecuteTime": {
     "end_time": "2021-08-09T06:31:50.658862Z",
     "start_time": "2021-08-09T06:31:50.645869Z"
    }
   },
   "outputs": [],
   "source": [
    "cond1a = (ratio_angles <= 0.021)\n",
    "cond1b = (ratio_angles > 0.021) & (ratio_bin <= 0.213)\n",
    "cond1 = (speed <= 7.568) & (ratio_angles > 0.001) & (ratio_bin > 0.055) & (speed > 4.93) & (cond1a | cond1b)\n",
    "cond2a = (speed <= 10.09)\n",
    "cond2b = (speed > 10.09) & (ratio_bin > 0.137)\n",
    "cond2 = (speed > 7.568) & (ratio_angles > 0.013) & (ratio_bin > 0.082) & (speed <= 14.987) & (cond2a | cond2b)\n",
    "cond = cond1 | cond2"
   ]
  },
  {
   "cell_type": "code",
   "execution_count": 374,
   "id": "f272b644",
   "metadata": {
    "ExecuteTime": {
     "end_time": "2021-08-09T03:25:33.693916Z",
     "start_time": "2021-08-09T03:25:33.681858Z"
    }
   },
   "outputs": [],
   "source": [
    "# Lin split criteria\n",
    "cond1 = speed > 0\n",
    "cond2 = ratio_angles > 0.011\n",
    "cond3 = ratio_bin > 0.127\n",
    "cond4 = w_max > 1\n",
    "cond = cond1 & cond2 & cond3 & cond4"
   ]
  },
  {
   "cell_type": "code",
   "execution_count": 386,
   "id": "75eeacff",
   "metadata": {
    "ExecuteTime": {
     "end_time": "2021-08-09T03:49:36.929000Z",
     "start_time": "2021-08-09T03:49:36.913431Z"
    }
   },
   "outputs": [],
   "source": [
    "# Lin split criteria\n",
    "cond1 = (ratio_bin > 0.221) & (speed > 6.943) & (eccentricity > 0.679)\n",
    "cond2 = (\n",
    "    (ratio_bin <= 0.221) & (ratio_angles > 0.011) & (w_max > 2.243)\n",
    "    & (\n",
    "        ((ratio_bin > 0.116) & (speed > 3.676)) \n",
    "        | ((ratio_bin <= 0.113) & (ratio_bin > 0.049))))\n",
    "cond = cond1 | cond2"
   ]
  },
  {
   "cell_type": "code",
   "execution_count": 534,
   "id": "9c51b8db",
   "metadata": {
    "ExecuteTime": {
     "end_time": "2021-08-09T06:45:30.928691Z",
     "start_time": "2021-08-09T06:45:30.913912Z"
    }
   },
   "outputs": [
    {
     "data": {
      "text/plain": [
       "51"
      ]
     },
     "execution_count": 534,
     "metadata": {},
     "output_type": "execute_result"
    }
   ],
   "source": [
    "len(cond[cond==True])"
   ]
  },
  {
   "cell_type": "code",
   "execution_count": 29,
   "id": "be3e8f21",
   "metadata": {
    "ExecuteTime": {
     "end_time": "2021-08-16T00:04:05.998387Z",
     "start_time": "2021-08-16T00:04:05.990202Z"
    }
   },
   "outputs": [],
   "source": [
    "from scipy.stats.stats import pearsonr \n"
   ]
  },
  {
   "cell_type": "code",
   "execution_count": 15,
   "id": "ffeba5fe",
   "metadata": {
    "ExecuteTime": {
     "end_time": "2021-07-27T01:41:36.182050Z",
     "start_time": "2021-07-27T01:41:36.176887Z"
    }
   },
   "outputs": [
    {
     "data": {
      "text/plain": [
       "169.6111421845304"
      ]
     },
     "execution_count": 15,
     "metadata": {},
     "output_type": "execute_result"
    }
   ],
   "source": [
    "np.rad2deg(np.arctan2(5.5,-30))"
   ]
  },
  {
   "cell_type": "code",
   "execution_count": 18,
   "id": "5ca8ceda",
   "metadata": {
    "ExecuteTime": {
     "end_time": "2021-07-26T06:43:16.639535Z",
     "start_time": "2021-07-26T06:43:16.626364Z"
    }
   },
   "outputs": [],
   "source": [
    "from skimage.transform import radon\n",
    "from skimage.io import imread\n",
    "from skimage.color import rgb2gray, rgba2rgb"
   ]
  },
  {
   "cell_type": "code",
   "execution_count": 25,
   "id": "23cb222b",
   "metadata": {
    "ExecuteTime": {
     "end_time": "2021-07-26T06:46:17.400105Z",
     "start_time": "2021-07-26T06:46:17.382706Z"
    }
   },
   "outputs": [],
   "source": [
    "test = (image == 0).astype(int)"
   ]
  },
  {
   "cell_type": "code",
   "execution_count": 29,
   "id": "5d73926c",
   "metadata": {
    "ExecuteTime": {
     "end_time": "2021-07-26T06:54:59.881081Z",
     "start_time": "2021-07-26T06:54:49.911362Z"
    }
   },
   "outputs": [
    {
     "ename": "IndexError",
     "evalue": "list index out of range",
     "output_type": "error",
     "traceback": [
      "\u001b[0;31m---------------------------------------------------------------------------\u001b[0m",
      "\u001b[0;31mIndexError\u001b[0m                                Traceback (most recent call last)",
      "\u001b[0;32m/tmp/ipykernel_21199/4030395361.py\u001b[0m in \u001b[0;36m<module>\u001b[0;34m\u001b[0m\n\u001b[0;32m----> 1\u001b[0;31m \u001b[0mfilename\u001b[0m \u001b[0;34m=\u001b[0m \u001b[0mfilenames\u001b[0m\u001b[0;34m[\u001b[0m\u001b[0;36m36\u001b[0m\u001b[0;34m]\u001b[0m\u001b[0;34m\u001b[0m\u001b[0;34m\u001b[0m\u001b[0m\n\u001b[0m\u001b[1;32m      2\u001b[0m \u001b[0mgrid\u001b[0m \u001b[0;34m=\u001b[0m \u001b[0mpyart\u001b[0m\u001b[0;34m.\u001b[0m\u001b[0mio\u001b[0m\u001b[0;34m.\u001b[0m\u001b[0mread_grid\u001b[0m\u001b[0;34m(\u001b[0m\u001b[0mfilename\u001b[0m\u001b[0;34m,\u001b[0m \u001b[0minclude_fields\u001b[0m \u001b[0;34m=\u001b[0m \u001b[0;34m[\u001b[0m\u001b[0;34m'reflectivity'\u001b[0m\u001b[0;34m]\u001b[0m\u001b[0;34m)\u001b[0m\u001b[0;34m\u001b[0m\u001b[0;34m\u001b[0m\u001b[0m\n\u001b[1;32m      3\u001b[0m \u001b[0mfig_dir\u001b[0m \u001b[0;34m=\u001b[0m \u001b[0;34m'/home/student.unimelb.edu.au/shorte1/Documents/TINT_figures'\u001b[0m\u001b[0;34m\u001b[0m\u001b[0;34m\u001b[0m\u001b[0m\n\u001b[1;32m      4\u001b[0m \u001b[0;34m\u001b[0m\u001b[0m\n\u001b[1;32m      5\u001b[0m params = {\n",
      "\u001b[0;31mIndexError\u001b[0m: list index out of range"
     ]
    },
    {
     "name": "stdout",
     "output_type": "stream",
     "text": [
      "> \u001b[0;32m/tmp/ipykernel_21199/4030395361.py\u001b[0m(1)\u001b[0;36m<module>\u001b[0;34m()\u001b[0m\n",
      "\u001b[0;32m----> 1 \u001b[0;31m\u001b[0mfilename\u001b[0m \u001b[0;34m=\u001b[0m \u001b[0mfilenames\u001b[0m\u001b[0;34m[\u001b[0m\u001b[0;36m36\u001b[0m\u001b[0;34m]\u001b[0m\u001b[0;34m\u001b[0m\u001b[0;34m\u001b[0m\u001b[0m\n",
      "\u001b[0m\u001b[0;32m      2 \u001b[0;31m\u001b[0mgrid\u001b[0m \u001b[0;34m=\u001b[0m \u001b[0mpyart\u001b[0m\u001b[0;34m.\u001b[0m\u001b[0mio\u001b[0m\u001b[0;34m.\u001b[0m\u001b[0mread_grid\u001b[0m\u001b[0;34m(\u001b[0m\u001b[0mfilename\u001b[0m\u001b[0;34m,\u001b[0m \u001b[0minclude_fields\u001b[0m \u001b[0;34m=\u001b[0m \u001b[0;34m[\u001b[0m\u001b[0;34m'reflectivity'\u001b[0m\u001b[0;34m]\u001b[0m\u001b[0;34m)\u001b[0m\u001b[0;34m\u001b[0m\u001b[0;34m\u001b[0m\u001b[0m\n",
      "\u001b[0m\u001b[0;32m      3 \u001b[0;31m\u001b[0mfig_dir\u001b[0m \u001b[0;34m=\u001b[0m \u001b[0;34m'/home/student.unimelb.edu.au/shorte1/Documents/TINT_figures'\u001b[0m\u001b[0;34m\u001b[0m\u001b[0;34m\u001b[0m\u001b[0m\n",
      "\u001b[0m\u001b[0;32m      4 \u001b[0;31m\u001b[0;34m\u001b[0m\u001b[0m\n",
      "\u001b[0m\u001b[0;32m      5 \u001b[0;31mparams = {\n",
      "\u001b[0m\n",
      "ipdb> q\n"
     ]
    }
   ],
   "source": [
    "filename = filenames[36]\n",
    "grid = pyart.io.read_grid(filename, include_fields = ['reflectivity'])\n",
    "fig_dir = '/home/student.unimelb.edu.au/shorte1/Documents/TINT_figures'\n",
    "\n",
    "params = {\n",
    "    'uid_ind': '1', 'line_coords': False, 'center_cell': False, \n",
    "    'cell_ind': 4, 'winds': False, 'winds_fn': filename,\n",
    "    'crosshair': True, 'save_dir': None, 'legend': False}\n",
    "\n",
    "tint.visualisation.figures.object(tracks_obj, grid, params=params)"
   ]
  },
  {
   "cell_type": "code",
   "execution_count": null,
   "id": "b5902192",
   "metadata": {},
   "outputs": [],
   "source": []
  }
 ],
 "metadata": {
  "kernelspec": {
   "display_name": "Python 3 (ipykernel)",
   "language": "python",
   "name": "python3"
  },
  "language_info": {
   "codemirror_mode": {
    "name": "ipython",
    "version": 3
   },
   "file_extension": ".py",
   "mimetype": "text/x-python",
   "name": "python",
   "nbconvert_exporter": "python",
   "pygments_lexer": "ipython3",
   "version": "3.8.10"
  },
  "toc": {
   "base_numbering": 1,
   "nav_menu": {},
   "number_sections": true,
   "sideBar": true,
   "skip_h1_title": false,
   "title_cell": "Table of Contents",
   "title_sidebar": "Contents",
   "toc_cell": false,
   "toc_position": {},
   "toc_section_display": true,
   "toc_window_display": false
  }
 },
 "nbformat": 4,
 "nbformat_minor": 5
}
