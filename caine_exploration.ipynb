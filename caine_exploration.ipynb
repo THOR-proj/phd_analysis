{
 "cells": [
  {
   "cell_type": "code",
   "execution_count": 2,
   "metadata": {
    "ExecuteTime": {
     "end_time": "2019-09-20T08:02:26.332410Z",
     "start_time": "2019-09-20T08:02:16.864334Z"
    }
   },
   "outputs": [
    {
     "name": "stdout",
     "output_type": "stream",
     "text": [
      "\n",
      "## You are using the Python ARM Radar Toolkit (Py-ART), an open source\n",
      "## library for working with weather radar data. Py-ART is partly\n",
      "## supported by the U.S. Department of Energy as part of the Atmospheric\n",
      "## Radiation Measurement (ARM) Climate Research Facility, an Office of\n",
      "## Science user facility.\n",
      "##\n",
      "## If you use this software to prepare a publication, please cite:\n",
      "##\n",
      "##     JJ Helmus and SM Collis, JORS 2016, doi: 10.5334/jors.119\n",
      "\n"
     ]
    },
    {
     "name": "stderr",
     "output_type": "stream",
     "text": [
      "/home/563/esh563/pyart/pyart/graph/cm.py:104: FutureWarning: elementwise comparison failed; returning scalar instead, but in the future will perform elementwise comparison\n",
      "  if 'red' in spec:\n",
      "/home/563/esh563/pyart/pyart/graph/cm_colorblind.py:32: FutureWarning: elementwise comparison failed; returning scalar instead, but in the future will perform elementwise comparison\n",
      "  if 'red' in spec:\n"
     ]
    }
   ],
   "source": [
    "import numpy as np\n",
    "import glob\n",
    "import xarray as xr\n",
    "import netCDF4\n",
    "\n",
    "import matplotlib.pyplot as plt\n",
    "\n",
    "# CPOL convenience functions\n",
    "import CPOL_func as cf"
   ]
  },
  {
   "cell_type": "code",
   "execution_count": 1,
   "metadata": {
    "ExecuteTime": {
     "end_time": "2019-09-19T06:33:59.483004Z",
     "start_time": "2019-09-19T06:33:54.883527Z"
    }
   },
   "outputs": [],
   "source": [
    "from caine_func import wrf_radar_npy_to_nc"
   ]
  },
  {
   "cell_type": "code",
   "execution_count": null,
   "metadata": {},
   "outputs": [],
   "source": [
    "wrf_radar_npy_to_nc()"
   ]
  },
  {
   "cell_type": "code",
   "execution_count": 5,
   "metadata": {
    "ExecuteTime": {
     "end_time": "2019-09-19T07:55:15.294159Z",
     "start_time": "2019-09-19T07:55:12.278851Z"
    }
   },
   "outputs": [
    {
     "name": "stdout",
     "output_type": "stream",
     "text": [
      "Gathering files.\n"
     ]
    }
   ],
   "source": [
    "fn_CPOL = cf.CPOL_files_from_datetime_list(\n",
    "    np.arange(np.datetime64('2006-02-10 12:00'), \n",
    "              np.datetime64('2006-02-10 12:10'), \n",
    "              np.timedelta64(10, 'm'))\n",
    ")[0]"
   ]
  },
  {
   "cell_type": "code",
   "execution_count": 26,
   "metadata": {
    "ExecuteTime": {
     "end_time": "2019-09-19T23:51:30.906623Z",
     "start_time": "2019-09-19T23:51:30.822801Z"
    }
   },
   "outputs": [],
   "source": [
    "CPOL = netCDF4.Dataset(('/g/data/rr5/CPOL_radar/CPOL_level_1b/' \n",
    "                        + 'GRIDDED/GRID_150km_2500m/2006/20060210/'\n",
    "                        + 'CPOL_20060210_1200_GRIDS_2500m.nc'), mode='r')"
   ]
  },
  {
   "cell_type": "code",
   "execution_count": 3,
   "metadata": {
    "ExecuteTime": {
     "end_time": "2019-09-20T03:31:35.050074Z",
     "start_time": "2019-09-20T03:31:33.394268Z"
    }
   },
   "outputs": [
    {
     "ename": "NameError",
     "evalue": "name 'CPOL' is not defined",
     "output_type": "error",
     "traceback": [
      "\u001b[0;31m---------------------------------------------------------------------------\u001b[0m",
      "\u001b[0;31mNameError\u001b[0m                                 Traceback (most recent call last)",
      "\u001b[0;32m<ipython-input-3-dd66f69ca9fe>\u001b[0m in \u001b[0;36m<module>\u001b[0;34m\u001b[0m\n\u001b[0;32m----> 1\u001b[0;31m \u001b[0mCPOL\u001b[0m\u001b[0;34m.\u001b[0m\u001b[0mvariables\u001b[0m\u001b[0;34m[\u001b[0m\u001b[0;34m'time'\u001b[0m\u001b[0;34m]\u001b[0m\u001b[0;34m\u001b[0m\u001b[0;34m\u001b[0m\u001b[0m\n\u001b[0m",
      "\u001b[0;31mNameError\u001b[0m: name 'CPOL' is not defined"
     ]
    }
   ],
   "source": [
    "CPOL.variables['time']"
   ]
  },
  {
   "cell_type": "code",
   "execution_count": 7,
   "metadata": {
    "ExecuteTime": {
     "end_time": "2019-09-20T03:40:45.197738Z",
     "start_time": "2019-09-20T03:40:45.151262Z"
    }
   },
   "outputs": [],
   "source": [
    "CPOL = xr.open_dataset(('/g/data/rr5/CPOL_radar/CPOL_level_1b/' \n",
    "                       + 'GRIDDED/GRID_150km_2500m/2006/20060210/'\n",
    "                       + 'CPOL_20060210_1200_GRIDS_2500m.nc'))"
   ]
  },
  {
   "cell_type": "code",
   "execution_count": 11,
   "metadata": {
    "ExecuteTime": {
     "end_time": "2019-09-20T03:41:43.801475Z",
     "start_time": "2019-09-20T03:41:43.794013Z"
    }
   },
   "outputs": [
    {
     "data": {
      "text/plain": [
       "{'zlib': True,\n",
       " 'shuffle': True,\n",
       " 'complevel': 4,\n",
       " 'fletcher32': False,\n",
       " 'contiguous': False,\n",
       " 'chunksizes': (1, 41, 117, 117),\n",
       " 'source': '/g/data/rr5/CPOL_radar/CPOL_level_1b/GRIDDED/GRID_150km_2500m/2006/20060210/CPOL_20060210_1200_GRIDS_2500m.nc',\n",
       " 'original_shape': (1, 41, 117, 117),\n",
       " 'dtype': dtype('float32'),\n",
       " '_FillValue': -9999.0}"
      ]
     },
     "execution_count": 11,
     "metadata": {},
     "output_type": "execute_result"
    }
   ],
   "source": [
    "CPOL.reflectivity.encoding"
   ]
  },
  {
   "cell_type": "code",
   "execution_count": 3,
   "metadata": {
    "ExecuteTime": {
     "end_time": "2019-09-20T08:04:09.558535Z",
     "start_time": "2019-09-20T08:03:11.319176Z"
    }
   },
   "outputs": [],
   "source": [
    "test2 = xr.open_dataset('/g/data/w40/esh563/d04.dir/wrfout_d04_2006-02-09_10:00:00.nc.gz')"
   ]
  },
  {
   "cell_type": "code",
   "execution_count": 10,
   "metadata": {
    "ExecuteTime": {
     "end_time": "2019-09-20T08:24:40.269277Z",
     "start_time": "2019-09-20T08:24:40.254476Z"
    }
   },
   "outputs": [
    {
     "data": {
      "text/plain": [
       "<xarray.DataArray 'PB' (Time: 3, west_east: 2)>\n",
       "array([[99621.97, 99568.65],\n",
       "       [99621.97, 99568.65],\n",
       "       [99621.97, 99568.65]], dtype=float32)\n",
       "Coordinates:\n",
       "    XLAT     (Time, west_east) float32 ...\n",
       "    XLONG    (Time, west_east) float32 ...\n",
       "Dimensions without coordinates: Time, west_east\n",
       "Attributes:\n",
       "    FieldType:    104\n",
       "    MemoryOrder:  XYZ\n",
       "    description:  BASE STATE PRESSURE\n",
       "    units:        Pa\n",
       "    stagger:      "
      ]
     },
     "execution_count": 10,
     "metadata": {},
     "output_type": "execute_result"
    }
   ],
   "source": [
    "test2.PB[:,0,0,1:3]"
   ]
  },
  {
   "cell_type": "code",
   "execution_count": 89,
   "metadata": {
    "ExecuteTime": {
     "end_time": "2019-09-19T06:00:11.901262Z",
     "start_time": "2019-09-19T06:00:11.892160Z"
    }
   },
   "outputs": [],
   "source": [
    "ds['origin_latitude'] = ('time', CPOL.origin_latitude.values)\n",
    "ds.origin_latitude.attrs = CPOL.origin_latitude.attrs"
   ]
  },
  {
   "cell_type": "code",
   "execution_count": 91,
   "metadata": {
    "ExecuteTime": {
     "end_time": "2019-09-19T06:00:23.712815Z",
     "start_time": "2019-09-19T06:00:23.703578Z"
    }
   },
   "outputs": [
    {
     "data": {
      "text/plain": [
       "<xarray.DataArray 'origin_latitude' (time: 1)>\n",
       "array([-12.249167])\n",
       "Coordinates:\n",
       "  * time     (time) datetime64[ns] 2006-02-08T12:00:00\n",
       "Attributes:\n",
       "    long_name:      Latitude at grid origin\n",
       "    units:          degrees_north\n",
       "    standard_name:  latitude\n",
       "    valid_min:      -90.0\n",
       "    valid_max:      90.0"
      ]
     },
     "execution_count": 91,
     "metadata": {},
     "output_type": "execute_result"
    }
   ],
   "source": [
    "ds.origin_latitude"
   ]
  },
  {
   "cell_type": "code",
   "execution_count": 12,
   "metadata": {
    "ExecuteTime": {
     "end_time": "2019-09-20T08:55:16.159396Z",
     "start_time": "2019-09-20T08:55:16.143300Z"
    }
   },
   "outputs": [],
   "source": [
    "fn = sorted(glob.glob('/g/data/w40/esh563/lind04/dbz/*.npy'))"
   ]
  },
  {
   "cell_type": "code",
   "execution_count": 13,
   "metadata": {
    "ExecuteTime": {
     "end_time": "2019-09-20T08:55:20.255244Z",
     "start_time": "2019-09-20T08:55:20.248434Z"
    }
   },
   "outputs": [
    {
     "data": {
      "text/plain": [
       "'/g/data/w40/esh563/lind04/dbz/2006-02-08_12:00:00alllevels_zlib'"
      ]
     },
     "execution_count": 13,
     "metadata": {},
     "output_type": "execute_result"
    }
   ],
   "source": [
    "fn[0][:-4]"
   ]
  },
  {
   "cell_type": "code",
   "execution_count": 50,
   "metadata": {
    "ExecuteTime": {
     "end_time": "2019-09-19T23:57:42.054106Z",
     "start_time": "2019-09-19T23:57:42.047711Z"
    }
   },
   "outputs": [],
   "source": [
    "datetimes = np.arange(np.datetime64('2006-02-08 12:00:00Z'), \n",
    "            np.datetime64('2006-02-13 12:10:00Z'), \n",
    "            np.timedelta64(10, 'm'))"
   ]
  },
  {
   "cell_type": "code",
   "execution_count": 44,
   "metadata": {
    "ExecuteTime": {
     "end_time": "2019-09-19T23:57:07.189407Z",
     "start_time": "2019-09-19T23:57:07.185548Z"
    }
   },
   "outputs": [
    {
     "name": "stdout",
     "output_type": "stream",
     "text": [
      "721\n",
      "721\n"
     ]
    }
   ],
   "source": [
    "print(len(datetimes))\n",
    "print(len(fn))"
   ]
  },
  {
   "cell_type": "code",
   "execution_count": 45,
   "metadata": {
    "ExecuteTime": {
     "end_time": "2019-09-19T23:57:07.873130Z",
     "start_time": "2019-09-19T23:57:07.864507Z"
    }
   },
   "outputs": [],
   "source": [
    "z = np.arange(500, 500*41, 500, dtype=float)\n",
    "x = np.arange(0, 1250*241, 1250, dtype=float)\n",
    "y = np.arange(0, 1250*241, 1250, dtype=float)\n",
    "\n",
    "# for i in range(len(fn[0:1])):\n",
    "#     data = np.load(fn[0])"
   ]
  },
  {
   "cell_type": "code",
   "execution_count": 46,
   "metadata": {
    "ExecuteTime": {
     "end_time": "2019-09-19T23:57:08.694132Z",
     "start_time": "2019-09-19T23:57:08.624882Z"
    }
   },
   "outputs": [
    {
     "ename": "AttributeError",
     "evalue": "NetCDF: Attribute not found",
     "output_type": "error",
     "traceback": [
      "\u001b[0;31m---------------------------------------------------------------------------\u001b[0m",
      "\u001b[0;31mAttributeError\u001b[0m                            Traceback (most recent call last)",
      "\u001b[0;32m<ipython-input-46-28d8884ca666>\u001b[0m in \u001b[0;36m<module>\u001b[0;34m\u001b[0m\n\u001b[0;32m----> 1\u001b[0;31m \u001b[0mattr_list\u001b[0m \u001b[0;34m=\u001b[0m \u001b[0;34m[\u001b[0m\u001b[0meval\u001b[0m\u001b[0;34m(\u001b[0m\u001b[0;34m'CPOL.{}.attrs'\u001b[0m\u001b[0;34m.\u001b[0m\u001b[0mformat\u001b[0m\u001b[0;34m(\u001b[0m\u001b[0mc\u001b[0m\u001b[0;34m)\u001b[0m\u001b[0;34m)\u001b[0m \u001b[0;32mfor\u001b[0m \u001b[0mc\u001b[0m \u001b[0;32min\u001b[0m \u001b[0;34m[\u001b[0m\u001b[0;34m'x'\u001b[0m\u001b[0;34m,\u001b[0m \u001b[0;34m'y'\u001b[0m\u001b[0;34m,\u001b[0m \u001b[0;34m'z'\u001b[0m\u001b[0;34m]\u001b[0m\u001b[0;34m]\u001b[0m\u001b[0;34m\u001b[0m\u001b[0;34m\u001b[0m\u001b[0m\n\u001b[0m",
      "\u001b[0;32m<ipython-input-46-28d8884ca666>\u001b[0m in \u001b[0;36m<listcomp>\u001b[0;34m(.0)\u001b[0m\n\u001b[0;32m----> 1\u001b[0;31m \u001b[0mattr_list\u001b[0m \u001b[0;34m=\u001b[0m \u001b[0;34m[\u001b[0m\u001b[0meval\u001b[0m\u001b[0;34m(\u001b[0m\u001b[0;34m'CPOL.{}.attrs'\u001b[0m\u001b[0;34m.\u001b[0m\u001b[0mformat\u001b[0m\u001b[0;34m(\u001b[0m\u001b[0mc\u001b[0m\u001b[0;34m)\u001b[0m\u001b[0;34m)\u001b[0m \u001b[0;32mfor\u001b[0m \u001b[0mc\u001b[0m \u001b[0;32min\u001b[0m \u001b[0;34m[\u001b[0m\u001b[0;34m'x'\u001b[0m\u001b[0;34m,\u001b[0m \u001b[0;34m'y'\u001b[0m\u001b[0;34m,\u001b[0m \u001b[0;34m'z'\u001b[0m\u001b[0;34m]\u001b[0m\u001b[0;34m]\u001b[0m\u001b[0;34m\u001b[0m\u001b[0;34m\u001b[0m\u001b[0m\n\u001b[0m",
      "\u001b[0;32m<string>\u001b[0m in \u001b[0;36m<module>\u001b[0;34m\u001b[0m\n",
      "\u001b[0;32mnetCDF4/_netCDF4.pyx\u001b[0m in \u001b[0;36mnetCDF4._netCDF4.Dataset.__getattr__\u001b[0;34m()\u001b[0m\n",
      "\u001b[0;32mnetCDF4/_netCDF4.pyx\u001b[0m in \u001b[0;36mnetCDF4._netCDF4.Dataset.getncattr\u001b[0;34m()\u001b[0m\n",
      "\u001b[0;32mnetCDF4/_netCDF4.pyx\u001b[0m in \u001b[0;36mnetCDF4._netCDF4._get_att\u001b[0;34m()\u001b[0m\n",
      "\u001b[0;32mnetCDF4/_netCDF4.pyx\u001b[0m in \u001b[0;36mnetCDF4._netCDF4._ensure_nc_success\u001b[0;34m()\u001b[0m\n",
      "\u001b[0;31mAttributeError\u001b[0m: NetCDF: Attribute not found"
     ]
    }
   ],
   "source": [
    "attr_list = [eval('CPOL.{}.attrs'.format(c)) for c in ['x', 'y', 'z']]"
   ]
  },
  {
   "cell_type": "code",
   "execution_count": 47,
   "metadata": {
    "ExecuteTime": {
     "end_time": "2019-09-19T23:57:09.185113Z",
     "start_time": "2019-09-19T23:57:09.171271Z"
    }
   },
   "outputs": [
    {
     "ename": "NameError",
     "evalue": "name 'data' is not defined",
     "output_type": "error",
     "traceback": [
      "\u001b[0;31m---------------------------------------------------------------------------\u001b[0m",
      "\u001b[0;31mNameError\u001b[0m                                 Traceback (most recent call last)",
      "\u001b[0;32m<ipython-input-47-1fc2da894384>\u001b[0m in \u001b[0;36m<module>\u001b[0;34m\u001b[0m\n\u001b[0;32m----> 1\u001b[0;31m \u001b[0mdata\u001b[0m\u001b[0;34m.\u001b[0m\u001b[0mshape\u001b[0m\u001b[0;34m\u001b[0m\u001b[0;34m\u001b[0m\u001b[0m\n\u001b[0m\u001b[1;32m      2\u001b[0m \u001b[0;36m240\u001b[0m\u001b[0;34m*\u001b[0m\u001b[0;36m3\u001b[0m\u001b[0;34m\u001b[0m\u001b[0;34m\u001b[0m\u001b[0m\n\u001b[1;32m      3\u001b[0m \u001b[0;32mdel\u001b[0m \u001b[0mds\u001b[0m\u001b[0;34m\u001b[0m\u001b[0;34m\u001b[0m\u001b[0m\n",
      "\u001b[0;31mNameError\u001b[0m: name 'data' is not defined"
     ]
    }
   ],
   "source": [
    "data.shape\n",
    "240*3\n",
    "del ds"
   ]
  },
  {
   "cell_type": "code",
   "execution_count": 53,
   "metadata": {
    "ExecuteTime": {
     "end_time": "2019-09-19T23:59:00.095290Z",
     "start_time": "2019-09-19T23:59:00.090252Z"
    }
   },
   "outputs": [
    {
     "data": {
      "text/plain": [
       "'2006-02-08T12:00:00Z'"
      ]
     },
     "execution_count": 53,
     "metadata": {},
     "output_type": "execute_result"
    }
   ],
   "source": []
  },
  {
   "cell_type": "code",
   "execution_count": 11,
   "metadata": {
    "ExecuteTime": {
     "end_time": "2019-09-20T08:54:35.329717Z",
     "start_time": "2019-09-20T08:54:33.911156Z"
    }
   },
   "outputs": [
    {
     "ename": "NameError",
     "evalue": "name 'fn' is not defined",
     "output_type": "error",
     "traceback": [
      "\u001b[0;31m---------------------------------------------------------------------------\u001b[0m",
      "\u001b[0;31mNameError\u001b[0m                                 Traceback (most recent call last)",
      "\u001b[0;32m<ipython-input-11-b686450b535e>\u001b[0m in \u001b[0;36m<module>\u001b[0;34m\u001b[0m\n\u001b[1;32m      1\u001b[0m \u001b[0mi\u001b[0m\u001b[0;34m=\u001b[0m\u001b[0;36m0\u001b[0m\u001b[0;34m\u001b[0m\u001b[0;34m\u001b[0m\u001b[0m\n\u001b[0;32m----> 2\u001b[0;31m \u001b[0mdata\u001b[0m \u001b[0;34m=\u001b[0m \u001b[0mnp\u001b[0m\u001b[0;34m.\u001b[0m\u001b[0mload\u001b[0m\u001b[0;34m(\u001b[0m\u001b[0mfn\u001b[0m\u001b[0;34m[\u001b[0m\u001b[0mi\u001b[0m\u001b[0;34m]\u001b[0m\u001b[0;34m)\u001b[0m\u001b[0;34m\u001b[0m\u001b[0;34m\u001b[0m\u001b[0m\n\u001b[0m\u001b[1;32m      3\u001b[0m \u001b[0mdata\u001b[0m\u001b[0;34m[\u001b[0m\u001b[0mdata\u001b[0m\u001b[0;34m==\u001b[0m\u001b[0;34m-\u001b[0m\u001b[0;36m20\u001b[0m\u001b[0;34m]\u001b[0m\u001b[0;34m=\u001b[0m\u001b[0mnp\u001b[0m\u001b[0;34m.\u001b[0m\u001b[0mnan\u001b[0m\u001b[0;34m\u001b[0m\u001b[0;34m\u001b[0m\u001b[0m\n\u001b[1;32m      4\u001b[0m \u001b[0mdata\u001b[0m \u001b[0;34m=\u001b[0m \u001b[0mnp\u001b[0m\u001b[0;34m.\u001b[0m\u001b[0mexpand_dims\u001b[0m\u001b[0;34m(\u001b[0m\u001b[0mdata\u001b[0m\u001b[0;34m,\u001b[0m \u001b[0;36m0\u001b[0m\u001b[0;34m)\u001b[0m\u001b[0;34m\u001b[0m\u001b[0;34m\u001b[0m\u001b[0m\n\u001b[1;32m      5\u001b[0m da = xr.DataArray(data, dims=('time', 'z', 'x', 'y'), \n",
      "\u001b[0;31mNameError\u001b[0m: name 'fn' is not defined"
     ]
    }
   ],
   "source": [
    "i=0\n",
    "data = np.load(fn[i])\n",
    "data[data==-20]=np.nan\n",
    "data = np.expand_dims(data, 0)\n",
    "da = xr.DataArray(data, dims=('time', 'z', 'x', 'y'), \n",
    "                  coords={'time': np.array([datetimes[i]]), \n",
    "                          'z':z, 'x':x, 'y':y})\n",
    "da.time.encoding['units'] = 'seconds since  ' + str(datetimes[i]) + 'Z'\n",
    "da.time.attrs['standard_name'] = 'time'\n",
    "da.time.attrs['calendar'] = 'gregorian'\n",
    "\n",
    "da.coords['x'] -= da.x.mean()\n",
    "da.coords['y'] -= da.y.mean()\n",
    "\n",
    "da.x.attrs = CPOL.x.attrs\n",
    "da.y.attrs = CPOL.y.attrs\n",
    "da.z.attrs = CPOL.z.attrs\n",
    "\n",
    "ds = xr.Dataset({'reflectivity':da})\n",
    "ds.reflectivity.attrs = CPOL.reflectivity.attrs\n",
    "\n",
    "ds = ds.coarsen(x=2, boundary='trim', side='left').mean()\n",
    "ds = ds.coarsen(y=2, boundary='trim', side='left').mean()\n",
    "\n",
    "# Copy metadata from CPOL dataset\n",
    "var_list = ['projection', 'ProjectionCoordinateSystem', \n",
    "            'radar_latitude', 'radar_longitude', 'radar_altitude']\n",
    "for var in var_list: \n",
    "    ds[var] = CPOL[var]\n",
    "    \n",
    "var_list = ['origin_latitude', 'origin_longitude', 'origin_altitude']\n",
    "for var in var_list:\n",
    "    ds[var] = ('time', CPOL[var].values)\n",
    "    ds[var].attrs = CPOL[var].attrs\n",
    "\n",
    "ds['radar_time'] = ('nradar', [datetimes[i]])\n",
    "ds.radar_time.attrs = CPOL.radar_time.attrs"
   ]
  },
  {
   "cell_type": "code",
   "execution_count": 13,
   "metadata": {
    "ExecuteTime": {
     "end_time": "2019-09-19T22:14:55.968674Z",
     "start_time": "2019-09-19T22:14:55.955604Z"
    }
   },
   "outputs": [
    {
     "data": {
      "text/plain": [
       "<xarray.DataArray 'origin_altitude' (time: 1)>\n",
       "array([50.])\n",
       "Coordinates:\n",
       "  * time     (time) datetime64[ns] 2006-02-10T12:00:09\n",
       "Attributes:\n",
       "    long_name:      Altitude at grid origin\n",
       "    units:          m\n",
       "    standard_name:  altitude"
      ]
     },
     "execution_count": 13,
     "metadata": {},
     "output_type": "execute_result"
    }
   ],
   "source": [
    "CPOL.origin_altitude"
   ]
  },
  {
   "cell_type": "code",
   "execution_count": 23,
   "metadata": {
    "ExecuteTime": {
     "end_time": "2019-09-19T22:22:32.440036Z",
     "start_time": "2019-09-19T22:22:32.429612Z"
    }
   },
   "outputs": [],
   "source": [
    "var_list = ['origin_latitude', 'origin_longitude', 'origin_altitude']\n",
    "for var in var_list:\n",
    "    ds[var] = ('time', CPOL[var].values)\n",
    "    ds[var].attrs = CPOL[var].attrs"
   ]
  },
  {
   "cell_type": "code",
   "execution_count": 29,
   "metadata": {
    "ExecuteTime": {
     "end_time": "2019-09-19T08:59:14.812864Z",
     "start_time": "2019-09-19T08:59:14.806972Z"
    }
   },
   "outputs": [],
   "source": [
    "ds['radar_time'] = ('nradar', [datetimes[0]])\n",
    "ds.radar_time.attrs = CPOL.radar_time.attrs"
   ]
  },
  {
   "cell_type": "code",
   "execution_count": 10,
   "metadata": {
    "ExecuteTime": {
     "end_time": "2019-09-20T00:54:09.048007Z",
     "start_time": "2019-09-20T00:54:09.027702Z"
    }
   },
   "outputs": [
    {
     "data": {
      "text/plain": [
       "<xarray.DataArray 'reflectivity' (x: 120)>\n",
       "array([nan, nan, nan, nan, nan, nan, nan, nan, nan, nan, nan, nan, nan, nan,\n",
       "       nan, nan, nan, nan, nan, nan, nan, nan, nan, nan, nan, nan, nan, nan,\n",
       "       nan, nan, nan, nan, nan, nan, nan, nan, nan, nan, nan, nan, nan, nan,\n",
       "       nan, nan, nan, nan, nan, nan, nan, nan, nan, nan, nan, nan, nan, nan,\n",
       "       nan, nan, nan, nan, nan, nan, nan, nan, nan, nan, nan, nan, nan, nan,\n",
       "       nan, nan, nan, nan, nan, nan, nan, nan, nan, nan, nan, nan, nan, nan,\n",
       "       nan, nan, nan, nan, nan, nan, nan, nan, nan, nan, nan, nan, nan, nan,\n",
       "       nan, nan, nan, nan, nan, nan, nan, nan, nan, nan, nan, nan, nan, nan,\n",
       "       nan, nan, nan, nan, nan, nan, nan, nan])\n",
       "Coordinates:\n",
       "    time     datetime64[ns] 2006-02-08T12:00:00\n",
       "    z        float64 500.0\n",
       "  * x        (x) float64 -1.494e+05 -1.469e+05 ... 1.456e+05 1.481e+05\n",
       "    y        float64 -2.438e+04\n",
       "Attributes:\n",
       "    long_name:      Corrected reflectivity\n",
       "    units:          dBZ\n",
       "    standard_name:  corrected_equivalent_reflectivity_factor\n",
       "    coordinates:    elevation azimuth range"
      ]
     },
     "execution_count": 10,
     "metadata": {},
     "output_type": "execute_result"
    }
   ],
   "source": [
    "test.reflectivity[0,0][:,50]"
   ]
  },
  {
   "cell_type": "code",
   "execution_count": 12,
   "metadata": {
    "ExecuteTime": {
     "end_time": "2019-09-20T03:42:20.682480Z",
     "start_time": "2019-09-20T03:42:20.642189Z"
    }
   },
   "outputs": [],
   "source": [
    "test = xr.open_dataset('/g/data/w40/esh563/lind04/dbz/2006-02-08_12:00:00alllevels_zlib.nc')"
   ]
  },
  {
   "cell_type": "code",
   "execution_count": 18,
   "metadata": {
    "ExecuteTime": {
     "end_time": "2019-09-20T03:43:24.704122Z",
     "start_time": "2019-09-20T03:43:24.694820Z"
    }
   },
   "outputs": [
    {
     "data": {
      "text/plain": [
       "{'zlib': False,\n",
       " 'shuffle': False,\n",
       " 'complevel': 0,\n",
       " 'fletcher32': False,\n",
       " 'contiguous': True,\n",
       " 'chunksizes': None,\n",
       " 'source': '/g/data/w40/esh563/lind04/dbz/2006-02-08_12:00:00alllevels_zlib.nc',\n",
       " 'original_shape': (1,),\n",
       " 'dtype': dtype('float64'),\n",
       " '_FillValue': nan}"
      ]
     },
     "execution_count": 18,
     "metadata": {},
     "output_type": "execute_result"
    }
   ],
   "source": [
    "test.reflectivity.encoding['_FillValue'] = -9999.0\n",
    "test.origin_altitude.encoding"
   ]
  },
  {
   "cell_type": "code",
   "execution_count": 35,
   "metadata": {
    "ExecuteTime": {
     "end_time": "2019-09-19T23:53:55.131121Z",
     "start_time": "2019-09-19T23:53:55.061559Z"
    }
   },
   "outputs": [],
   "source": [
    "test2 = netCDF4.Dataset('/g/data/w40/esh563/lind04/dbz/2006-02-08_12:00:00alllevels_zlib.nc', 'r')"
   ]
  },
  {
   "cell_type": "code",
   "execution_count": 27,
   "metadata": {
    "ExecuteTime": {
     "end_time": "2019-09-20T09:55:51.028417Z",
     "start_time": "2019-09-20T09:55:50.979261Z"
    }
   },
   "outputs": [
    {
     "data": {
      "text/plain": [
       "<xarray.Dataset>\n",
       "Dimensions:              (Time: 3, bottom_top: 63, bottom_top_stag: 64, south_north: 486, south_north_stag: 487, west_east: 717, west_east_stag: 718)\n",
       "Coordinates:\n",
       "    XLAT                 (Time, south_north, west_east) float32 ...\n",
       "    XLONG                (Time, south_north, west_east) float32 ...\n",
       "    XLAT_U               (Time, south_north, west_east_stag) float32 ...\n",
       "    XLONG_U              (Time, south_north, west_east_stag) float32 ...\n",
       "    XLAT_V               (Time, south_north_stag, west_east) float32 ...\n",
       "    XLONG_V              (Time, south_north_stag, west_east) float32 ...\n",
       "Dimensions without coordinates: Time, bottom_top, bottom_top_stag, south_north, south_north_stag, west_east, west_east_stag\n",
       "Data variables:\n",
       "    Times                (Time) |S19 ...\n",
       "    U                    (Time, bottom_top, south_north, west_east_stag) float32 ...\n",
       "    V                    (Time, bottom_top, south_north_stag, west_east) float32 ...\n",
       "    W                    (Time, bottom_top_stag, south_north, west_east) float32 ...\n",
       "    PH                   (Time, bottom_top_stag, south_north, west_east) float32 ...\n",
       "    PHB                  (Time, bottom_top_stag, south_north, west_east) float32 ...\n",
       "    T                    (Time, bottom_top, south_north, west_east) float32 ...\n",
       "    MU                   (Time, south_north, west_east) float32 ...\n",
       "    MUB                  (Time, south_north, west_east) float32 ...\n",
       "    P                    (Time, bottom_top, south_north, west_east) float32 ...\n",
       "    PB                   (Time, bottom_top, south_north, west_east) float32 ...\n",
       "    XTIME                (Time) float32 ...\n",
       "    QVAPOR               (Time, bottom_top, south_north, west_east) float32 ...\n",
       "    QCLOUD               (Time, bottom_top, south_north, west_east) float32 ...\n",
       "    QRAIN                (Time, bottom_top, south_north, west_east) float32 ...\n",
       "    QICE                 (Time, bottom_top, south_north, west_east) float32 ...\n",
       "    QSNOW                (Time, bottom_top, south_north, west_east) float32 ...\n",
       "    QGRAUP               (Time, bottom_top, south_north, west_east) float32 ...\n",
       "    HGT                  (Time, south_north, west_east) float32 ...\n",
       "    P_TOP                (Time) float32 ...\n",
       "    T00                  (Time) float32 ...\n",
       "    P00                  (Time) float32 ...\n",
       "    TLP                  (Time) float32 ...\n",
       "    TISO                 (Time) float32 ...\n",
       "    MAX_MSTFX            (Time) float32 ...\n",
       "    MAX_MSTFY            (Time) float32 ...\n",
       "    I_RAINC              (Time, south_north, west_east) int32 ...\n",
       "    I_RAINNC             (Time, south_north, west_east) int32 ...\n",
       "    OLR                  (Time, south_north, west_east) float32 ...\n",
       "    SAVE_TOPO_FROM_REAL  (Time) int32 ...\n",
       "Attributes:\n",
       "    TITLE:                            OUTPUT FROM WRF V3.1.1 MODEL\n",
       "    START_DATE:                      2006-02-09_10:00:00\n",
       "    SIMULATION_START_DATE:           2006-02-08_12:00:00\n",
       "    WEST-EAST_GRID_DIMENSION:        718\n",
       "    SOUTH-NORTH_GRID_DIMENSION:      487\n",
       "    BOTTOM-TOP_GRID_DIMENSION:       64\n",
       "    DX:                              1250.0\n",
       "    DY:                              1250.0\n",
       "    GRIDTYPE:                        C\n",
       "    DIFF_OPT:                        1\n",
       "    KM_OPT:                          4\n",
       "    DAMP_OPT:                        3\n",
       "    DAMPCOEF:                        0.2\n",
       "    KHDIF:                           0.0\n",
       "    KVDIF:                           0.0\n",
       "    MP_PHYSICS:                      2\n",
       "    RA_LW_PHYSICS:                   1\n",
       "    RA_SW_PHYSICS:                   1\n",
       "    SF_SFCLAY_PHYSICS:               2\n",
       "    SF_SURFACE_PHYSICS:              2\n",
       "    BL_PBL_PHYSICS:                  2\n",
       "    CU_PHYSICS:                      0\n",
       "    SURFACE_INPUT_SOURCE:            1\n",
       "    SST_UPDATE:                      0\n",
       "    GRID_FDDA:                       0\n",
       "    GFDDA_INTERVAL_M:                0\n",
       "    GFDDA_END_H:                     0\n",
       "    GRID_SFDDA:                      0\n",
       "    SGFDDA_INTERVAL_M:               0\n",
       "    SGFDDA_END_H:                    0\n",
       "    SF_URBAN_PHYSICS:                0\n",
       "    FEEDBACK:                        0\n",
       "    SMOOTH_OPTION:                   0\n",
       "    SWRAD_SCAT:                      1.0\n",
       "    W_DAMPING:                       0\n",
       "    MOIST_ADV_OPT:                   1\n",
       "    SCALAR_ADV_OPT:                  1\n",
       "    TKE_ADV_OPT:                     1\n",
       "    DIFF_6TH_OPT:                    2\n",
       "    DIFF_6TH_FACTOR:                 0.12\n",
       "    OBS_NUDGE_OPT:                   0\n",
       "    WEST-EAST_PATCH_START_UNSTAG:    1\n",
       "    WEST-EAST_PATCH_END_UNSTAG:      717\n",
       "    WEST-EAST_PATCH_START_STAG:      1\n",
       "    WEST-EAST_PATCH_END_STAG:        718\n",
       "    SOUTH-NORTH_PATCH_START_UNSTAG:  1\n",
       "    SOUTH-NORTH_PATCH_END_UNSTAG:    486\n",
       "    SOUTH-NORTH_PATCH_START_STAG:    1\n",
       "    SOUTH-NORTH_PATCH_END_STAG:      487\n",
       "    BOTTOM-TOP_PATCH_START_UNSTAG:   1\n",
       "    BOTTOM-TOP_PATCH_END_UNSTAG:     63\n",
       "    BOTTOM-TOP_PATCH_START_STAG:     1\n",
       "    BOTTOM-TOP_PATCH_END_STAG:       64\n",
       "    GRID_ID:                         4\n",
       "    PARENT_ID:                       3\n",
       "    I_PARENT_START:                  132\n",
       "    J_PARENT_START:                  60\n",
       "    PARENT_GRID_RATIO:               3\n",
       "    DT:                              2.222222\n",
       "    CEN_LAT:                         -11.585312\n",
       "    CEN_LON:                         130.69547\n",
       "    TRUELAT1:                        -11.501\n",
       "    TRUELAT2:                        0.0\n",
       "    MOAD_CEN_LAT:                    -11.500999\n",
       "    STAND_LON:                       130.902\n",
       "    POLE_LAT:                        90.0\n",
       "    POLE_LON:                        0.0\n",
       "    GMT:                             12.0\n",
       "    JULYR:                           2006\n",
       "    JULDAY:                          39\n",
       "    MAP_PROJ:                        3\n",
       "    MMINLU:                          USGS\n",
       "    NUM_LAND_CAT:                    24\n",
       "    ISWATER:                         16\n",
       "    ISLAKE:                          -1\n",
       "    ISICE:                           24\n",
       "    ISURBAN:                         1\n",
       "    ISOILWATER:                      14"
      ]
     },
     "execution_count": 27,
     "metadata": {},
     "output_type": "execute_result"
    }
   ],
   "source": [
    "test2"
   ]
  },
  {
   "cell_type": "code",
   "execution_count": 26,
   "metadata": {
    "ExecuteTime": {
     "end_time": "2019-09-20T09:51:41.684518Z",
     "start_time": "2019-09-20T09:51:41.002587Z"
    }
   },
   "outputs": [
    {
     "data": {
      "text/plain": [
       "<xarray.DataArray (bottom_top_stag: 64)>\n",
       "array([1.3219908e-02, 4.4793285e+01, 8.9712303e+01, 1.3479427e+02,\n",
       "       1.8004054e+02, 2.2545380e+02, 2.7103815e+02, 3.1679684e+02,\n",
       "       3.6273050e+02, 4.0884189e+02, 4.5513358e+02, 5.4827319e+02,\n",
       "       6.4218195e+02, 7.3689020e+02, 8.3242444e+02, 9.2880554e+02,\n",
       "       1.0260477e+03, 1.1241650e+03, 1.2231710e+03, 1.3230847e+03,\n",
       "       1.4239263e+03, 1.5257188e+03, 1.7321791e+03, 1.9426493e+03,\n",
       "       2.1573389e+03, 2.3764587e+03, 2.6002295e+03, 2.8288596e+03,\n",
       "       3.0625569e+03, 3.3015271e+03, 3.5460278e+03, 3.7963989e+03,\n",
       "       4.0530447e+03, 4.3164565e+03, 4.5871494e+03, 4.8656387e+03,\n",
       "       5.1525542e+03, 5.4485522e+03, 5.7542603e+03, 6.0703291e+03,\n",
       "       6.3974321e+03, 6.7363555e+03, 7.0879751e+03, 7.4531763e+03,\n",
       "       7.8328564e+03, 8.2281035e+03, 8.6401787e+03, 9.0708594e+03,\n",
       "       9.5223105e+03, 9.9966865e+03, 1.0496958e+04, 1.1026672e+04,\n",
       "       1.1589865e+04, 1.2191847e+04, 1.2839143e+04, 1.3539489e+04,\n",
       "       1.4304395e+04, 1.5150297e+04, 1.6104720e+04, 1.7221514e+04,\n",
       "       1.8611605e+04, 2.0521324e+04, 2.3589172e+04, 2.9993412e+04],\n",
       "      dtype=float32)\n",
       "Dimensions without coordinates: bottom_top_stag"
      ]
     },
     "execution_count": 26,
     "metadata": {},
     "output_type": "execute_result"
    }
   ],
   "source": [
    "((test2.PH+test2.PHB)/9.80665 - test2.HGT)[0].mean(axis=1).mean(axis=1)"
   ]
  },
  {
   "cell_type": "code",
   "execution_count": 12,
   "metadata": {
    "ExecuteTime": {
     "end_time": "2019-09-20T00:55:22.185101Z",
     "start_time": "2019-09-20T00:55:22.165492Z"
    }
   },
   "outputs": [],
   "source": [
    "test3 = np.load('/g/data/w40/esh563/lind04/dbz/2006-02-08_12:00:00alllevels_zlib.npy')"
   ]
  },
  {
   "cell_type": "code",
   "execution_count": 37,
   "metadata": {
    "ExecuteTime": {
     "end_time": "2019-09-19T23:54:08.053837Z",
     "start_time": "2019-09-19T23:54:08.048899Z"
    }
   },
   "outputs": [
    {
     "data": {
      "text/plain": [
       "<class 'netCDF4._netCDF4.Variable'>\n",
       "int64 time(time)\n",
       "    units: days since 2006-02-08 12:00:00\n",
       "    calendar: proleptic_gregorian\n",
       "unlimited dimensions: \n",
       "current shape = (1,)\n",
       "filling on, default _FillValue of -9223372036854775806 used"
      ]
     },
     "execution_count": 37,
     "metadata": {},
     "output_type": "execute_result"
    }
   ],
   "source": [
    "test2.variables['time']"
   ]
  },
  {
   "cell_type": "code",
   "execution_count": 91,
   "metadata": {
    "ExecuteTime": {
     "end_time": "2019-09-19T02:33:40.124243Z",
     "start_time": "2019-09-19T02:33:40.091987Z"
    }
   },
   "outputs": [
    {
     "ename": "NameError",
     "evalue": "name 'x_bin_labels' is not defined",
     "output_type": "error",
     "traceback": [
      "\u001b[0;31m---------------------------------------------------------------------------\u001b[0m",
      "\u001b[0;31mNameError\u001b[0m                                 Traceback (most recent call last)",
      "\u001b[0;32m<ipython-input-91-9047fd3bab77>\u001b[0m in \u001b[0;36m<module>\u001b[0;34m\u001b[0m\n\u001b[0;32m----> 1\u001b[0;31m \u001b[0mds\u001b[0m\u001b[0;34m.\u001b[0m\u001b[0mgroupby_bins\u001b[0m\u001b[0;34m(\u001b[0m\u001b[0;34m'x'\u001b[0m\u001b[0;34m,\u001b[0m \u001b[0mnp\u001b[0m\u001b[0;34m.\u001b[0m\u001b[0marange\u001b[0m\u001b[0;34m(\u001b[0m\u001b[0;36m0\u001b[0m\u001b[0;34m,\u001b[0m \u001b[0;36m302500\u001b[0m\u001b[0;34m,\u001b[0m \u001b[0;36m2500\u001b[0m\u001b[0;34m)\u001b[0m\u001b[0;34m,\u001b[0m \u001b[0mright\u001b[0m\u001b[0;34m=\u001b[0m\u001b[0;32mFalse\u001b[0m\u001b[0;34m,\u001b[0m \u001b[0mlabels\u001b[0m\u001b[0;34m=\u001b[0m\u001b[0mx_bin_labels\u001b[0m\u001b[0;34m)\u001b[0m\u001b[0;34m.\u001b[0m\u001b[0mmean\u001b[0m\u001b[0;34m(\u001b[0m\u001b[0;34m)\u001b[0m\u001b[0;34m\u001b[0m\u001b[0;34m\u001b[0m\u001b[0m\n\u001b[0m",
      "\u001b[0;31mNameError\u001b[0m: name 'x_bin_labels' is not defined"
     ]
    }
   ],
   "source": [
    "ds.groupby_bins('x', np.arange(0, 302500, 2500), right=False, labels=x_bin_labels).mean()"
   ]
  },
  {
   "cell_type": "code",
   "execution_count": null,
   "metadata": {},
   "outputs": [],
   "source": [
    "# Collect CPOL attributes\n",
    "attrs = CPOL.attrs"
   ]
  },
  {
   "cell_type": "code",
   "execution_count": 13,
   "metadata": {
    "ExecuteTime": {
     "end_time": "2019-09-19T23:11:37.608438Z",
     "start_time": "2019-09-19T23:11:36.281374Z"
    }
   },
   "outputs": [
    {
     "ename": "NameError",
     "evalue": "name 'ds' is not defined",
     "output_type": "error",
     "traceback": [
      "\u001b[0;31m---------------------------------------------------------------------------\u001b[0m",
      "\u001b[0;31mNameError\u001b[0m                                 Traceback (most recent call last)",
      "\u001b[0;32m<ipython-input-13-8b1314f1565c>\u001b[0m in \u001b[0;36m<module>\u001b[0;34m\u001b[0m\n\u001b[0;32m----> 1\u001b[0;31m \u001b[0mds\u001b[0m\u001b[0;34m.\u001b[0m\u001b[0mtime\u001b[0m\u001b[0;34m\u001b[0m\u001b[0;34m\u001b[0m\u001b[0m\n\u001b[0m",
      "\u001b[0;31mNameError\u001b[0m: name 'ds' is not defined"
     ]
    }
   ],
   "source": [
    "ds.time"
   ]
  },
  {
   "cell_type": "code",
   "execution_count": 5,
   "metadata": {
    "ExecuteTime": {
     "end_time": "2019-09-17T08:34:19.736274Z",
     "start_time": "2019-09-17T08:34:19.073229Z"
    }
   },
   "outputs": [],
   "source": [
    "data_list = [np.load(fn[i]) for i in range(len(fn))]"
   ]
  },
  {
   "cell_type": "code",
   "execution_count": 6,
   "metadata": {
    "ExecuteTime": {
     "end_time": "2019-09-17T08:34:20.248876Z",
     "start_time": "2019-09-17T08:34:19.737756Z"
    }
   },
   "outputs": [],
   "source": [
    "data = np.stack(data_list)"
   ]
  },
  {
   "cell_type": "code",
   "execution_count": 7,
   "metadata": {
    "ExecuteTime": {
     "end_time": "2019-09-17T08:34:20.258974Z",
     "start_time": "2019-09-17T08:34:20.251496Z"
    }
   },
   "outputs": [
    {
     "data": {
      "text/plain": [
       "(72, 40, 241, 241)"
      ]
     },
     "execution_count": 7,
     "metadata": {},
     "output_type": "execute_result"
    }
   ],
   "source": [
    "data.shape"
   ]
  }
 ],
 "metadata": {
  "kernelspec": {
   "display_name": "Python 3",
   "language": "python",
   "name": "python3"
  },
  "language_info": {
   "codemirror_mode": {
    "name": "ipython",
    "version": 3
   },
   "file_extension": ".py",
   "mimetype": "text/x-python",
   "name": "python",
   "nbconvert_exporter": "python",
   "pygments_lexer": "ipython3",
   "version": "3.6.7"
  },
  "toc": {
   "base_numbering": 1,
   "nav_menu": {},
   "number_sections": true,
   "sideBar": true,
   "skip_h1_title": false,
   "title_cell": "Table of Contents",
   "title_sidebar": "Contents",
   "toc_cell": false,
   "toc_position": {},
   "toc_section_display": true,
   "toc_window_display": false
  }
 },
 "nbformat": 4,
 "nbformat_minor": 2
}
