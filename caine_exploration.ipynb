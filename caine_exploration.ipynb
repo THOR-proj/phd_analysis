{
 "cells": [
  {
   "cell_type": "code",
   "execution_count": 1,
   "metadata": {
    "ExecuteTime": {
     "end_time": "2019-09-24T06:19:18.635335Z",
     "start_time": "2019-09-24T06:19:10.195195Z"
    }
   },
   "outputs": [
    {
     "name": "stdout",
     "output_type": "stream",
     "text": [
      "\n",
      "## You are using the Python ARM Radar Toolkit (Py-ART), an open source\n",
      "## library for working with weather radar data. Py-ART is partly\n",
      "## supported by the U.S. Department of Energy as part of the Atmospheric\n",
      "## Radiation Measurement (ARM) Climate Research Facility, an Office of\n",
      "## Science user facility.\n",
      "##\n",
      "## If you use this software to prepare a publication, please cite:\n",
      "##\n",
      "##     JJ Helmus and SM Collis, JORS 2016, doi: 10.5334/jors.119\n",
      "\n"
     ]
    },
    {
     "name": "stderr",
     "output_type": "stream",
     "text": [
      "/home/563/esh563/pyart/pyart/graph/cm.py:104: FutureWarning: elementwise comparison failed; returning scalar instead, but in the future will perform elementwise comparison\n",
      "  if 'red' in spec:\n",
      "/home/563/esh563/pyart/pyart/graph/cm_colorblind.py:32: FutureWarning: elementwise comparison failed; returning scalar instead, but in the future will perform elementwise comparison\n",
      "  if 'red' in spec:\n"
     ]
    }
   ],
   "source": [
    "import numpy as np\n",
    "import glob\n",
    "import xarray as xr\n",
    "import netCDF4\n",
    "\n",
    "import matplotlib.pyplot as plt\n",
    "\n",
    "# CPOL convenience functions\n",
    "import CPOL_func as cf"
   ]
  },
  {
   "cell_type": "code",
   "execution_count": 158,
   "metadata": {
    "ExecuteTime": {
     "end_time": "2019-09-24T07:29:21.630435Z",
     "start_time": "2019-09-24T07:28:16.417488Z"
    }
   },
   "outputs": [],
   "source": [
    "a = np.load('/g/data/w40/esh563/d04_lon_stag.npy')\n",
    "b = np.load('/g/data/w40/esh563/d05_lon_stag.npy')"
   ]
  },
  {
   "cell_type": "code",
   "execution_count": null,
   "metadata": {
    "ExecuteTime": {
     "end_time": "2019-09-24T07:28:14.090843Z",
     "start_time": "2019-09-24T07:27:27.051Z"
    }
   },
   "outputs": [],
   "source": [
    "len(a)"
   ]
  },
  {
   "cell_type": "code",
   "execution_count": 120,
   "metadata": {
    "ExecuteTime": {
     "end_time": "2019-09-24T07:16:45.024920Z",
     "start_time": "2019-09-24T07:16:44.794508Z"
    }
   },
   "outputs": [
    {
     "data": {
      "text/plain": [
       "[<matplotlib.lines.Line2D at 0x7fd8845bce48>]"
      ]
     },
     "execution_count": 120,
     "metadata": {},
     "output_type": "execute_result"
    },
    {
     "data": {
      "image/png": "[encoded data removed]",
      "text/plain": [
       "<Figure size 432x288 with 1 Axes>"
      ]
     },
     "metadata": {
      "needs_background": "light"
     },
     "output_type": "display_data"
    }
   ],
   "source": [
    "plt.plot(a)\n",
    "plt.plot(b)"
   ]
  },
  {
   "cell_type": "code",
   "execution_count": null,
   "metadata": {
    "ExecuteTime": {
     "end_time": "2019-09-24T07:28:14.092283Z",
     "start_time": "2019-09-24T07:27:40.939Z"
    }
   },
   "outputs": [],
   "source": [
    "a_sub = a[263:512]"
   ]
  },
  {
   "cell_type": "code",
   "execution_count": null,
   "metadata": {
    "ExecuteTime": {
     "end_time": "2019-09-24T07:28:14.093729Z",
     "start_time": "2019-09-24T07:27:41.726Z"
    }
   },
   "outputs": [],
   "source": [
    "len(a_sub)"
   ]
  },
  {
   "cell_type": "code",
   "execution_count": 164,
   "metadata": {
    "ExecuteTime": {
     "end_time": "2019-09-24T07:40:45.150785Z",
     "start_time": "2019-09-24T07:38:21.905781Z"
    }
   },
   "outputs": [],
   "source": [
    "len(a_sub)\n",
    "# -12.249167\n",
    "131.044444\n",
    "a_sub[126]\n",
    "a_sub_sub = a_sub[4:-4]\n",
    "len(a_sub_sub)\n",
    "a_sub_sub[121]\n",
    "np.save('/g/data/w40/esh563/dbz_lon', a_sub_sub)"
   ]
  },
  {
   "cell_type": "code",
   "execution_count": 163,
   "metadata": {
    "ExecuteTime": {
     "end_time": "2019-09-24T07:35:29.374311Z",
     "start_time": "2019-09-24T07:35:29.367270Z"
    }
   },
   "outputs": [
    {
     "data": {
      "text/plain": [
       "241"
      ]
     },
     "execution_count": 163,
     "metadata": {},
     "output_type": "execute_result"
    }
   ],
   "source": [
    "len(a_sub_sub)"
   ]
  },
  {
   "cell_type": "code",
   "execution_count": null,
   "metadata": {},
   "outputs": [],
   "source": []
  },
  {
   "cell_type": "code",
   "execution_count": 140,
   "metadata": {
    "ExecuteTime": {
     "end_time": "2019-09-24T07:18:48.015134Z",
     "start_time": "2019-09-24T07:18:48.008703Z"
    }
   },
   "outputs": [
    {
     "name": "stdout",
     "output_type": "stream",
     "text": [
      "132.44519\n",
      "132.4452\n"
     ]
    }
   ],
   "source": [
    "print(b[-1])\n",
    "print(a[511])"
   ]
  },
  {
   "cell_type": "code",
   "execution_count": 39,
   "metadata": {
    "ExecuteTime": {
     "end_time": "2019-09-24T06:32:50.712764Z",
     "start_time": "2019-09-24T06:32:50.519116Z"
    }
   },
   "outputs": [],
   "source": [
    "check = np.load('/g/data/w40/esh563/lind04/dbz/2006-02-09_00:50:00alllevels_zlib.npy')"
   ]
  },
  {
   "cell_type": "code",
   "execution_count": 41,
   "metadata": {
    "ExecuteTime": {
     "end_time": "2019-09-24T06:32:59.065891Z",
     "start_time": "2019-09-24T06:32:59.055705Z"
    }
   },
   "outputs": [
    {
     "data": {
      "text/plain": [
       "(40, 241, 241)"
      ]
     },
     "execution_count": 41,
     "metadata": {},
     "output_type": "execute_result"
    }
   ],
   "source": [
    "check.shape"
   ]
  },
  {
   "cell_type": "code",
   "execution_count": 37,
   "metadata": {
    "ExecuteTime": {
     "end_time": "2019-09-24T06:31:21.856258Z",
     "start_time": "2019-09-24T06:31:21.850404Z"
    }
   },
   "outputs": [
    {
     "data": {
      "text/plain": [
       "1250.0001"
      ]
     },
     "execution_count": 37,
     "metadata": {},
     "output_type": "execute_result"
    }
   ],
   "source": [
    "416.6667 * 3"
   ]
  },
  {
   "cell_type": "code",
   "execution_count": 3,
   "metadata": {
    "ExecuteTime": {
     "end_time": "2019-09-24T04:47:44.843157Z",
     "start_time": "2019-09-24T04:47:44.828530Z"
    }
   },
   "outputs": [],
   "source": [
    "hgt_AGL = np.load('/g/data/w40/esh563/d04_hgt_AGL.npy')"
   ]
  },
  {
   "cell_type": "code",
   "execution_count": 21,
   "metadata": {
    "ExecuteTime": {
     "end_time": "2019-09-24T04:56:56.351304Z",
     "start_time": "2019-09-24T04:56:56.339859Z"
    }
   },
   "outputs": [
    {
     "data": {
      "text/plain": [
       "array([2.3000e+01, 6.8000e+01, 1.1300e+02, 1.5800e+02, 2.0300e+02,\n",
       "       2.4900e+02, 2.9500e+02, 3.4100e+02, 3.8700e+02, 4.3300e+02,\n",
       "       5.0300e+02, 5.9700e+02, 6.9100e+02, 7.8600e+02, 8.8200e+02,\n",
       "       9.7900e+02, 1.0760e+03, 1.1750e+03, 1.2740e+03, 1.3740e+03,\n",
       "       1.4750e+03, 1.6290e+03, 1.8370e+03, 2.0490e+03, 2.2660e+03,\n",
       "       2.4870e+03, 2.7130e+03, 2.9440e+03, 3.1800e+03, 3.4220e+03,\n",
       "       3.6690e+03, 3.9230e+03, 4.1830e+03, 4.4490e+03, 4.7240e+03,\n",
       "       5.0060e+03, 5.2960e+03, 5.5960e+03, 5.9050e+03, 6.2250e+03,\n",
       "       6.5570e+03, 6.9000e+03, 7.2570e+03, 7.6280e+03, 8.0140e+03,\n",
       "       8.4170e+03, 8.8370e+03, 9.2770e+03, 9.7390e+03, 1.0225e+04,\n",
       "       1.0739e+04, 1.1284e+04, 1.1866e+04, 1.2490e+04, 1.3165e+04,\n",
       "       1.3899e+04, 1.4706e+04, 1.5609e+04, 1.6645e+04, 1.7897e+04,\n",
       "       1.9552e+04, 2.2042e+04, 2.6775e+04])"
      ]
     },
     "execution_count": 21,
     "metadata": {},
     "output_type": "execute_result"
    }
   ],
   "source": [
    "def moving_average(a, n=3):\n",
    "    ret = np.cumsum(a, dtype=float)\n",
    "    ret[n:] = ret[n:] - ret[:-n]\n",
    "    return ret[n - 1:] / n\n",
    "\n",
    "np.round(moving_average(hgt_AGL, n=2))"
   ]
  },
  {
   "cell_type": "code",
   "execution_count": 2,
   "metadata": {
    "ExecuteTime": {
     "end_time": "2019-09-24T05:57:33.392291Z",
     "start_time": "2019-09-24T05:56:52.206757Z"
    }
   },
   "outputs": [],
   "source": [
    "test0 = xr.open_mfdataset('/g/data/w40/esh563/d05.dir/wrfout_d05_2006-02-09_00:00:00.nc.gz')"
   ]
  },
  {
   "cell_type": "code",
   "execution_count": 13,
   "metadata": {
    "ExecuteTime": {
     "end_time": "2019-09-24T06:03:07.417567Z",
     "start_time": "2019-09-24T06:03:07.340948Z"
    }
   },
   "outputs": [
    {
     "data": {
      "text/plain": [
       "<xarray.Dataset>\n",
       "Dimensions:              (Time: 3, bottom_top: 63, bottom_top_stag: 64, south_north: 744, south_north_stag: 745, west_east: 744, west_east_stag: 745)\n",
       "Coordinates:\n",
       "    XLAT                 (Time, south_north, west_east) float32 -13.643532 ... -10.866936\n",
       "    XLONG                (Time, south_north, west_east) float32 129.60164 ... 132.44328\n",
       "    XLAT_U               (Time, south_north, west_east_stag) float32 dask.array<chunksize=(3, 744, 745), meta=np.ndarray>\n",
       "    XLONG_U              (Time, south_north, west_east_stag) float32 dask.array<chunksize=(3, 744, 745), meta=np.ndarray>\n",
       "    XLAT_V               (Time, south_north_stag, west_east) float32 dask.array<chunksize=(3, 745, 744), meta=np.ndarray>\n",
       "    XLONG_V              (Time, south_north_stag, west_east) float32 dask.array<chunksize=(3, 745, 744), meta=np.ndarray>\n",
       "Dimensions without coordinates: Time, bottom_top, bottom_top_stag, south_north, south_north_stag, west_east, west_east_stag\n",
       "Data variables:\n",
       "    Times                (Time) |S19 dask.array<chunksize=(3,), meta=np.ndarray>\n",
       "    U                    (Time, bottom_top, south_north, west_east_stag) float32 dask.array<chunksize=(3, 63, 744, 745), meta=np.ndarray>\n",
       "    V                    (Time, bottom_top, south_north_stag, west_east) float32 dask.array<chunksize=(3, 63, 745, 744), meta=np.ndarray>\n",
       "    W                    (Time, bottom_top_stag, south_north, west_east) float32 dask.array<chunksize=(3, 64, 744, 744), meta=np.ndarray>\n",
       "    PH                   (Time, bottom_top_stag, south_north, west_east) float32 dask.array<chunksize=(3, 64, 744, 744), meta=np.ndarray>\n",
       "    PHB                  (Time, bottom_top_stag, south_north, west_east) float32 dask.array<chunksize=(3, 64, 744, 744), meta=np.ndarray>\n",
       "    T                    (Time, bottom_top, south_north, west_east) float32 dask.array<chunksize=(3, 63, 744, 744), meta=np.ndarray>\n",
       "    MU                   (Time, south_north, west_east) float32 dask.array<chunksize=(3, 744, 744), meta=np.ndarray>\n",
       "    MUB                  (Time, south_north, west_east) float32 dask.array<chunksize=(3, 744, 744), meta=np.ndarray>\n",
       "    P                    (Time, bottom_top, south_north, west_east) float32 dask.array<chunksize=(3, 63, 744, 744), meta=np.ndarray>\n",
       "    PB                   (Time, bottom_top, south_north, west_east) float32 dask.array<chunksize=(3, 63, 744, 744), meta=np.ndarray>\n",
       "    XTIME                (Time) float32 dask.array<chunksize=(3,), meta=np.ndarray>\n",
       "    QVAPOR               (Time, bottom_top, south_north, west_east) float32 dask.array<chunksize=(3, 63, 744, 744), meta=np.ndarray>\n",
       "    QCLOUD               (Time, bottom_top, south_north, west_east) float32 dask.array<chunksize=(3, 63, 744, 744), meta=np.ndarray>\n",
       "    QRAIN                (Time, bottom_top, south_north, west_east) float32 dask.array<chunksize=(3, 63, 744, 744), meta=np.ndarray>\n",
       "    QICE                 (Time, bottom_top, south_north, west_east) float32 dask.array<chunksize=(3, 63, 744, 744), meta=np.ndarray>\n",
       "    QSNOW                (Time, bottom_top, south_north, west_east) float32 dask.array<chunksize=(3, 63, 744, 744), meta=np.ndarray>\n",
       "    QGRAUP               (Time, bottom_top, south_north, west_east) float32 dask.array<chunksize=(3, 63, 744, 744), meta=np.ndarray>\n",
       "    HGT                  (Time, south_north, west_east) float32 dask.array<chunksize=(3, 744, 744), meta=np.ndarray>\n",
       "    P_TOP                (Time) float32 dask.array<chunksize=(3,), meta=np.ndarray>\n",
       "    T00                  (Time) float32 dask.array<chunksize=(3,), meta=np.ndarray>\n",
       "    P00                  (Time) float32 dask.array<chunksize=(3,), meta=np.ndarray>\n",
       "    TLP                  (Time) float32 dask.array<chunksize=(3,), meta=np.ndarray>\n",
       "    TISO                 (Time) float32 dask.array<chunksize=(3,), meta=np.ndarray>\n",
       "    MAX_MSTFX            (Time) float32 dask.array<chunksize=(3,), meta=np.ndarray>\n",
       "    MAX_MSTFY            (Time) float32 dask.array<chunksize=(3,), meta=np.ndarray>\n",
       "    I_RAINC              (Time, south_north, west_east) int32 dask.array<chunksize=(3, 744, 744), meta=np.ndarray>\n",
       "    I_RAINNC             (Time, south_north, west_east) int32 dask.array<chunksize=(3, 744, 744), meta=np.ndarray>\n",
       "    OLR                  (Time, south_north, west_east) float32 dask.array<chunksize=(3, 744, 744), meta=np.ndarray>\n",
       "    SAVE_TOPO_FROM_REAL  (Time) int32 dask.array<chunksize=(3,), meta=np.ndarray>\n",
       "Attributes:\n",
       "    TITLE:                            OUTPUT FROM WRF V3.1.1 MODEL\n",
       "    START_DATE:                      2006-02-09_00:00:00\n",
       "    SIMULATION_START_DATE:           2006-02-08_12:00:00\n",
       "    WEST-EAST_GRID_DIMENSION:        745\n",
       "    SOUTH-NORTH_GRID_DIMENSION:      745\n",
       "    BOTTOM-TOP_GRID_DIMENSION:       64\n",
       "    DX:                              416.6667\n",
       "    DY:                              416.6667\n",
       "    GRIDTYPE:                        C\n",
       "    DIFF_OPT:                        1\n",
       "    KM_OPT:                          4\n",
       "    DAMP_OPT:                        3\n",
       "    DAMPCOEF:                        0.2\n",
       "    KHDIF:                           0.0\n",
       "    KVDIF:                           0.0\n",
       "    MP_PHYSICS:                      2\n",
       "    RA_LW_PHYSICS:                   1\n",
       "    RA_SW_PHYSICS:                   1\n",
       "    SF_SFCLAY_PHYSICS:               2\n",
       "    SF_SURFACE_PHYSICS:              2\n",
       "    BL_PBL_PHYSICS:                  2\n",
       "    CU_PHYSICS:                      0\n",
       "    SURFACE_INPUT_SOURCE:            1\n",
       "    SST_UPDATE:                      0\n",
       "    GRID_FDDA:                       0\n",
       "    GFDDA_INTERVAL_M:                0\n",
       "    GFDDA_END_H:                     0\n",
       "    GRID_SFDDA:                      0\n",
       "    SGFDDA_INTERVAL_M:               0\n",
       "    SGFDDA_END_H:                    0\n",
       "    SF_URBAN_PHYSICS:                0\n",
       "    FEEDBACK:                        0\n",
       "    SMOOTH_OPTION:                   0\n",
       "    SWRAD_SCAT:                      1.0\n",
       "    W_DAMPING:                       0\n",
       "    MOIST_ADV_OPT:                   1\n",
       "    SCALAR_ADV_OPT:                  1\n",
       "    TKE_ADV_OPT:                     1\n",
       "    DIFF_6TH_OPT:                    2\n",
       "    DIFF_6TH_FACTOR:                 0.12\n",
       "    OBS_NUDGE_OPT:                   0\n",
       "    WEST-EAST_PATCH_START_UNSTAG:    1\n",
       "    WEST-EAST_PATCH_END_UNSTAG:      744\n",
       "    WEST-EAST_PATCH_START_STAG:      1\n",
       "    WEST-EAST_PATCH_END_STAG:        745\n",
       "    SOUTH-NORTH_PATCH_START_UNSTAG:  1\n",
       "    SOUTH-NORTH_PATCH_END_UNSTAG:    744\n",
       "    SOUTH-NORTH_PATCH_START_STAG:    1\n",
       "    SOUTH-NORTH_PATCH_END_STAG:      745\n",
       "    BOTTOM-TOP_PATCH_START_UNSTAG:   1\n",
       "    BOTTOM-TOP_PATCH_END_UNSTAG:     63\n",
       "    BOTTOM-TOP_PATCH_START_STAG:     1\n",
       "    BOTTOM-TOP_PATCH_END_STAG:       64\n",
       "    GRID_ID:                         5\n",
       "    PARENT_ID:                       4\n",
       "    I_PARENT_START:                  264\n",
       "    J_PARENT_START:                  60\n",
       "    PARENT_GRID_RATIO:               3\n",
       "    DT:                              0.7407407\n",
       "    CEN_LAT:                         -12.258888\n",
       "    CEN_LON:                         131.02246\n",
       "    TRUELAT1:                        -11.501\n",
       "    TRUELAT2:                        0.0\n",
       "    MOAD_CEN_LAT:                    -11.500999\n",
       "    STAND_LON:                       130.902\n",
       "    POLE_LAT:                        90.0\n",
       "    POLE_LON:                        0.0\n",
       "    GMT:                             12.0\n",
       "    JULYR:                           2006\n",
       "    JULDAY:                          39\n",
       "    MAP_PROJ:                        3\n",
       "    MMINLU:                          USGS\n",
       "    NUM_LAND_CAT:                    24\n",
       "    ISWATER:                         16\n",
       "    ISLAKE:                          -1\n",
       "    ISICE:                           24\n",
       "    ISURBAN:                         1\n",
       "    ISOILWATER:                      14"
      ]
     },
     "execution_count": 13,
     "metadata": {},
     "output_type": "execute_result"
    }
   ],
   "source": [
    "test0"
   ]
  },
  {
   "cell_type": "code",
   "execution_count": 20,
   "metadata": {
    "ExecuteTime": {
     "end_time": "2019-09-24T06:07:50.980071Z",
     "start_time": "2019-09-24T06:07:50.964297Z"
    }
   },
   "outputs": [],
   "source": [
    "test00=test0.XLONG.load()\n",
    "d05_lon = np.array(test00[0,0,:])\n",
    "np.save('/g/data/w40/esh563/d05_lon.npy', d05_lon) "
   ]
  },
  {
   "cell_type": "code",
   "execution_count": 21,
   "metadata": {
    "ExecuteTime": {
     "end_time": "2019-09-24T06:09:17.121688Z",
     "start_time": "2019-09-24T06:09:17.054511Z"
    }
   },
   "outputs": [],
   "source": [
    "d05_lat = np.load('/g/data/w40/esh563/d05_lat.npy') \n",
    "d05_lon = np.load('/g/data/w40/esh563/d05_lon.npy') \n",
    "d05_lat_stag = np.load('/g/data/w40/esh563/d05_lat_stag.npy') \n",
    "d05_lon_stag = np.load('/g/data/w40/esh563/d05_lon_stag.npy') "
   ]
  },
  {
   "cell_type": "code",
   "execution_count": 26,
   "metadata": {
    "ExecuteTime": {
     "end_time": "2019-09-24T06:11:09.538308Z",
     "start_time": "2019-09-24T06:11:09.531834Z"
    }
   },
   "outputs": [
    {
     "data": {
      "text/plain": [
       "248.0"
      ]
     },
     "execution_count": 26,
     "metadata": {},
     "output_type": "execute_result"
    }
   ],
   "source": [
    "744/3"
   ]
  },
  {
   "cell_type": "code",
   "execution_count": 28,
   "metadata": {
    "ExecuteTime": {
     "end_time": "2019-09-24T06:12:49.950647Z",
     "start_time": "2019-09-24T06:12:49.927534Z"
    }
   },
   "outputs": [
    {
     "name": "stdout",
     "output_type": "stream",
     "text": [
      "744\n"
     ]
    },
    {
     "data": {
      "text/plain": [
       "array([129.60164, 129.60547, 129.60928, 129.61311, 129.61694, 129.62076,\n",
       "       129.62459, 129.62842, 129.63223, 129.63606, 129.63988, 129.6437 ,\n",
       "       129.64754, 129.65135, 129.65518, 129.65901, 129.66283, 129.66666,\n",
       "       129.67049, 129.6743 , 129.67813, 129.68196, 129.68578, 129.6896 ,\n",
       "       129.69344, 129.69725, 129.70108, 129.7049 , 129.70872, 129.71255,\n",
       "       129.71637, 129.7202 , 129.72403, 129.72784, 129.73167, 129.7355 ,\n",
       "       129.73932, 129.74315, 129.74698, 129.7508 , 129.75462, 129.75845,\n",
       "       129.76227, 129.7661 , 129.76991, 129.77374, 129.77757, 129.78139,\n",
       "       129.78522, 129.78905, 129.79286, 129.79669, 129.80052, 129.80434,\n",
       "       129.80817, 129.812  , 129.81581, 129.81964, 129.82346, 129.82729,\n",
       "       129.83112, 129.83493, 129.83876, 129.84259, 129.8464 , 129.85023,\n",
       "       129.85406, 129.85788, 129.86171, 129.86554, 129.86935, 129.87318,\n",
       "       129.87701, 129.88083, 129.88466, 129.88847, 129.8923 , 129.89613,\n",
       "       129.89995, 129.90378, 129.90761, 129.91142, 129.91525, 129.91908,\n",
       "       129.9229 , 129.92673, 129.93056, 129.93437, 129.9382 , 129.94203,\n",
       "       129.94585, 129.94968, 129.95349, 129.95732, 129.96115, 129.96497,\n",
       "       129.9688 , 129.97263, 129.97644, 129.98027, 129.9841 , 129.98792,\n",
       "       129.99174, 129.99557, 129.99939, 130.00322, 130.00703, 130.01086,\n",
       "       130.0147 , 130.01851, 130.02234, 130.02617, 130.02998, 130.03381,\n",
       "       130.03764, 130.04146, 130.04529, 130.04912, 130.05293, 130.05676,\n",
       "       130.0606 , 130.0644 , 130.06824, 130.07205, 130.07588, 130.07971,\n",
       "       130.08353, 130.08736, 130.09119, 130.095  , 130.09883, 130.10266,\n",
       "       130.10648, 130.1103 , 130.11414, 130.11795, 130.12178, 130.12561,\n",
       "       130.12943, 130.13326, 130.13707, 130.1409 , 130.14473, 130.14854,\n",
       "       130.15237, 130.1562 , 130.16002, 130.16385, 130.16768, 130.1715 ,\n",
       "       130.17532, 130.17915, 130.18297, 130.1868 , 130.19063, 130.19444,\n",
       "       130.19827, 130.20209, 130.20592, 130.20975, 130.21356, 130.21739,\n",
       "       130.22122, 130.22504, 130.22887, 130.2327 , 130.23651, 130.24034,\n",
       "       130.24417, 130.24799, 130.25182, 130.25563, 130.25946, 130.26329,\n",
       "       130.2671 , 130.27094, 130.27477, 130.27858, 130.28241, 130.28624,\n",
       "       130.29005, 130.29388, 130.29771, 130.30153, 130.30536, 130.30919,\n",
       "       130.313  , 130.31683, 130.32065, 130.32448, 130.32831, 130.33212,\n",
       "       130.33595, 130.33978, 130.3436 , 130.34743, 130.35126, 130.35507,\n",
       "       130.3589 , 130.36273, 130.36655, 130.37038, 130.3742 , 130.37802,\n",
       "       130.38185, 130.38567, 130.3895 , 130.39333, 130.39714, 130.40097,\n",
       "       130.4048 , 130.40862, 130.41245, 130.41628, 130.42009, 130.42392,\n",
       "       130.42775, 130.43156, 130.4354 , 130.43921, 130.44304, 130.44687,\n",
       "       130.45068, 130.45451, 130.45834, 130.46216, 130.46599, 130.46982,\n",
       "       130.47363, 130.47746, 130.4813 , 130.4851 , 130.48894, 130.49277,\n",
       "       130.49658, 130.50041, 130.50423, 130.50806, 130.51189, 130.5157 ,\n",
       "       130.51953, 130.52336, 130.52718, 130.531  , 130.53484, 130.53865,\n",
       "       130.54248, 130.54631, 130.55013, 130.55396, 130.55779, 130.5616 ,\n",
       "       130.56543, 130.56924, 130.57307, 130.5769 , 130.58072, 130.58455,\n",
       "       130.58838, 130.5922 , 130.59602, 130.59985, 130.60367, 130.6075 ,\n",
       "       130.61133, 130.61514, 130.61897, 130.62279, 130.62662, 130.63045,\n",
       "       130.63426, 130.63809, 130.64192, 130.64574, 130.64957, 130.6534 ,\n",
       "       130.65721, 130.66104, 130.66487, 130.66869, 130.67252, 130.67635,\n",
       "       130.68016, 130.68399, 130.6878 , 130.69164, 130.69547, 130.69928,\n",
       "       130.70311, 130.70694, 130.71075, 130.71458, 130.71841, 130.72223,\n",
       "       130.72606, 130.72989, 130.7337 , 130.73753, 130.74136, 130.74518,\n",
       "       130.74901, 130.75282, 130.75665, 130.76048, 130.7643 , 130.76813,\n",
       "       130.77196, 130.77577, 130.7796 , 130.78343, 130.78725, 130.79108,\n",
       "       130.7949 , 130.79872, 130.80255, 130.80638, 130.8102 , 130.81403,\n",
       "       130.81784, 130.82167, 130.8255 , 130.82932, 130.83315, 130.83698,\n",
       "       130.84079, 130.84462, 130.84845, 130.85226, 130.8561 , 130.85992,\n",
       "       130.86374, 130.86757, 130.87138, 130.87521, 130.87904, 130.88286,\n",
       "       130.88669, 130.89052, 130.89433, 130.89816, 130.902  , 130.9058 ,\n",
       "       130.90964, 130.91347, 130.91728, 130.92111, 130.92494, 130.92876,\n",
       "       130.93259, 130.9364 , 130.94023, 130.94406, 130.94788, 130.9517 ,\n",
       "       130.95554, 130.95935, 130.96318, 130.96701, 130.97083, 130.97466,\n",
       "       130.97849, 130.9823 , 130.98613, 130.98996, 130.99377, 130.9976 ,\n",
       "       131.00142, 131.00525, 131.00908, 131.0129 , 131.01672, 131.02055,\n",
       "       131.02437, 131.0282 , 131.03203, 131.03584, 131.03967, 131.0435 ,\n",
       "       131.04732, 131.05115, 131.05496, 131.05879, 131.06262, 131.06644,\n",
       "       131.07027, 131.0741 , 131.07791, 131.08174, 131.08557, 131.08939,\n",
       "       131.09322, 131.09705, 131.10086, 131.10469, 131.10852, 131.11234,\n",
       "       131.11617, 131.11998, 131.12381, 131.12764, 131.13145, 131.13528,\n",
       "       131.13911, 131.14293, 131.14676, 131.15059, 131.1544 , 131.15823,\n",
       "       131.16206, 131.16588, 131.16971, 131.17354, 131.17735, 131.18118,\n",
       "       131.185  , 131.18883, 131.19266, 131.19647, 131.2003 , 131.20413,\n",
       "       131.20795, 131.21178, 131.2156 , 131.21942, 131.22325, 131.22708,\n",
       "       131.2309 , 131.23473, 131.23854, 131.24237, 131.2462 , 131.25002,\n",
       "       131.25385, 131.25768, 131.26149, 131.26532, 131.26915, 131.27296,\n",
       "       131.2768 , 131.28062, 131.28444, 131.28827, 131.2921 , 131.29591,\n",
       "       131.29974, 131.30356, 131.30739, 131.31122, 131.31503, 131.31886,\n",
       "       131.3227 , 131.3265 , 131.33034, 131.33417, 131.33798, 131.34181,\n",
       "       131.34564, 131.34946, 131.35329, 131.35712, 131.36093, 131.36476,\n",
       "       131.36858, 131.3724 , 131.37624, 131.38005, 131.38388, 131.38771,\n",
       "       131.39153, 131.39536, 131.39919, 131.403  , 131.40683, 131.41066,\n",
       "       131.41447, 131.4183 , 131.42213, 131.42595, 131.42978, 131.4336 ,\n",
       "       131.43742, 131.44125, 131.44507, 131.4489 , 131.45273, 131.45654,\n",
       "       131.46037, 131.4642 , 131.46802, 131.47185, 131.47568, 131.47949,\n",
       "       131.48332, 131.48714, 131.49097, 131.4948 , 131.49861, 131.50244,\n",
       "       131.50627, 131.51009, 131.51392, 131.51775, 131.52156, 131.52539,\n",
       "       131.52922, 131.53304, 131.53687, 131.5407 , 131.54451, 131.54834,\n",
       "       131.55215, 131.55598, 131.55981, 131.56363, 131.56746, 131.57129,\n",
       "       131.5751 , 131.57893, 131.58276, 131.58658, 131.59041, 131.59424,\n",
       "       131.59805, 131.60188, 131.60571, 131.60953, 131.61336, 131.61717,\n",
       "       131.621  , 131.62483, 131.62865, 131.63248, 131.6363 , 131.64012,\n",
       "       131.64395, 131.64778, 131.6516 , 131.65543, 131.65926, 131.66307,\n",
       "       131.6669 , 131.67072, 131.67455, 131.67838, 131.68219, 131.68602,\n",
       "       131.68985, 131.69366, 131.6975 , 131.70132, 131.70514, 131.70897,\n",
       "       131.7128 , 131.71661, 131.72044, 131.72427, 131.72809, 131.73192,\n",
       "       131.73573, 131.73956, 131.7434 , 131.74721, 131.75104, 131.75487,\n",
       "       131.75868, 131.76251, 131.76634, 131.77016, 131.77399, 131.77782,\n",
       "       131.78163, 131.78546, 131.78929, 131.7931 , 131.79694, 131.80075,\n",
       "       131.80458, 131.80841, 131.81223, 131.81606, 131.81989, 131.8237 ,\n",
       "       131.82753, 131.83136, 131.83517, 131.839  , 131.84283, 131.84665,\n",
       "       131.85048, 131.8543 , 131.85812, 131.86195, 131.86577, 131.8696 ,\n",
       "       131.87343, 131.87724, 131.88107, 131.8849 , 131.88872, 131.89255,\n",
       "       131.89638, 131.90019, 131.90402, 131.90785, 131.91167, 131.9155 ,\n",
       "       131.91931, 131.92314, 131.92697, 131.93079, 131.93462, 131.93845,\n",
       "       131.94226, 131.94609, 131.94992, 131.95374, 131.95757, 131.9614 ,\n",
       "       131.96521, 131.96904, 131.97287, 131.97668, 131.98051, 131.98433,\n",
       "       131.98816, 131.99199, 131.9958 , 131.99963, 132.00346, 132.00728,\n",
       "       132.01111, 132.01494, 132.01875, 132.02258, 132.02641, 132.03023,\n",
       "       132.03406, 132.03789, 132.0417 , 132.04553, 132.04935, 132.05318,\n",
       "       132.057  , 132.06082, 132.06465, 132.06848, 132.0723 , 132.07613,\n",
       "       132.07996, 132.08377, 132.0876 , 132.09143, 132.09525, 132.09908,\n",
       "       132.10289, 132.10672, 132.11055, 132.11436, 132.1182 , 132.12202,\n",
       "       132.12584, 132.12967, 132.1335 , 132.13731, 132.14114, 132.14497,\n",
       "       132.14879, 132.15262, 132.15645, 132.16026, 132.1641 , 132.16791,\n",
       "       132.17174, 132.17557, 132.17938, 132.18321, 132.18704, 132.19086,\n",
       "       132.19469, 132.19852, 132.20233, 132.20616, 132.20999, 132.2138 ,\n",
       "       132.21764, 132.22147, 132.22528, 132.22911, 132.23293, 132.23676,\n",
       "       132.24059, 132.2444 , 132.24823, 132.25206, 132.25587, 132.2597 ,\n",
       "       132.26353, 132.26735, 132.27118, 132.27501, 132.27882, 132.28265,\n",
       "       132.28647, 132.2903 , 132.29413, 132.29794, 132.30177, 132.3056 ,\n",
       "       132.30942, 132.31325, 132.31708, 132.32089, 132.32472, 132.32855,\n",
       "       132.33237, 132.3362 , 132.34003, 132.34384, 132.34767, 132.35149,\n",
       "       132.35532, 132.35915, 132.36296, 132.36679, 132.37062, 132.37444,\n",
       "       132.37827, 132.3821 , 132.38591, 132.38974, 132.39357, 132.39738,\n",
       "       132.40121, 132.40504, 132.40886, 132.41269, 132.4165 , 132.42033,\n",
       "       132.42416, 132.42798, 132.43181, 132.43564, 132.43945, 132.44328],\n",
       "      dtype=float32)"
      ]
     },
     "execution_count": 28,
     "metadata": {},
     "output_type": "execute_result"
    }
   ],
   "source": [
    "print(len(d05_lon))\n",
    "d05_lon"
   ]
  },
  {
   "cell_type": "code",
   "execution_count": 101,
   "metadata": {
    "ExecuteTime": {
     "end_time": "2019-09-24T07:05:47.469896Z",
     "start_time": "2019-09-24T07:05:47.377196Z"
    }
   },
   "outputs": [],
   "source": [
    "test2 = xr.open_dataset('/g/data/w40/esh563/lind04/dbz/2006-02-09_00:00:00alllevels_zlib.nc')"
   ]
  },
  {
   "cell_type": "code",
   "execution_count": 145,
   "metadata": {
    "ExecuteTime": {
     "end_time": "2019-09-24T07:21:01.875452Z",
     "start_time": "2019-09-24T07:21:01.862772Z"
    }
   },
   "outputs": [
    {
     "data": {
      "text/plain": [
       "<xarray.DataArray 'radar_longitude' (nradar: 1)>\n",
       "array([131.044444])\n",
       "Dimensions without coordinates: nradar\n",
       "Attributes:\n",
       "    long_name:  Longitude of radars used to make the grid.\n",
       "    units:      degrees_east"
      ]
     },
     "execution_count": 145,
     "metadata": {},
     "output_type": "execute_result"
    }
   ],
   "source": [
    "test2.radar_longitude"
   ]
  },
  {
   "cell_type": "code",
   "execution_count": 30,
   "metadata": {
    "ExecuteTime": {
     "end_time": "2019-09-24T06:13:57.077116Z",
     "start_time": "2019-09-24T06:13:30.294442Z"
    }
   },
   "outputs": [],
   "source": [
    "test = xr.open_mfdataset('/g/data/w40/esh563/d04.dir/wrfout_d04_2006-02-09_00:00:00.nc.gz')"
   ]
  },
  {
   "cell_type": "code",
   "execution_count": 33,
   "metadata": {
    "ExecuteTime": {
     "end_time": "2019-09-24T05:04:28.193996Z",
     "start_time": "2019-09-24T05:04:28.185133Z"
    }
   },
   "outputs": [],
   "source": [
    "test['bottom_top'] =  np.round(moving_average(hgt_AGL, n=2))"
   ]
  },
  {
   "cell_type": "code",
   "execution_count": 34,
   "metadata": {
    "ExecuteTime": {
     "end_time": "2019-09-24T05:04:39.731036Z",
     "start_time": "2019-09-24T05:04:39.722218Z"
    }
   },
   "outputs": [],
   "source": [
    "test['bottom_top_stag'] = np.round(hgt_AGL)"
   ]
  },
  {
   "cell_type": "code",
   "execution_count": 43,
   "metadata": {
    "ExecuteTime": {
     "end_time": "2019-09-24T06:49:49.790025Z",
     "start_time": "2019-09-24T06:49:49.766446Z"
    }
   },
   "outputs": [
    {
     "ename": "NameError",
     "evalue": "name 'test' is not defined",
     "output_type": "error",
     "traceback": [
      "\u001b[0;31m---------------------------------------------------------------------------\u001b[0m",
      "\u001b[0;31mNameError\u001b[0m                                 Traceback (most recent call last)",
      "\u001b[0;32m<ipython-input-43-9efb8d9fd264>\u001b[0m in \u001b[0;36m<module>\u001b[0;34m\u001b[0m\n\u001b[0;32m----> 1\u001b[0;31m \u001b[0mtest\u001b[0m\u001b[0;34m.\u001b[0m\u001b[0mU\u001b[0m\u001b[0;34m[\u001b[0m\u001b[0;36m0\u001b[0m\u001b[0;34m,\u001b[0m\u001b[0;34m:\u001b[0m\u001b[0;34m,\u001b[0m\u001b[0;36m0\u001b[0m\u001b[0;34m,\u001b[0m\u001b[0;34m:\u001b[0m\u001b[0;34m]\u001b[0m\u001b[0;34m.\u001b[0m\u001b[0mplot\u001b[0m\u001b[0;34m(\u001b[0m\u001b[0;34m)\u001b[0m\u001b[0;34m\u001b[0m\u001b[0;34m\u001b[0m\u001b[0m\n\u001b[0m",
      "\u001b[0;31mNameError\u001b[0m: name 'test' is not defined"
     ]
    }
   ],
   "source": [
    "test.U[0,:,0,:].plot()"
   ]
  },
  {
   "cell_type": "code",
   "execution_count": 36,
   "metadata": {
    "ExecuteTime": {
     "end_time": "2019-09-24T06:17:30.000757Z",
     "start_time": "2019-09-24T06:17:29.970047Z"
    }
   },
   "outputs": [],
   "source": [
    "test00=test.XLONG_U.load()\n",
    "d04 = np.array(test00[0,0,:])\n",
    "np.save('/g/data/w40/esh563/d04_lon_stag.npy', d04) "
   ]
  },
  {
   "cell_type": "code",
   "execution_count": 33,
   "metadata": {
    "ExecuteTime": {
     "end_time": "2019-09-24T06:14:59.247168Z",
     "start_time": "2019-09-24T06:14:59.206194Z"
    }
   },
   "outputs": [
    {
     "data": {
      "text/plain": [
       "<xarray.Dataset>\n",
       "Dimensions:              (Time: 3, bottom_top: 63, bottom_top_stag: 64, south_north: 486, south_north_stag: 487, west_east: 717, west_east_stag: 718)\n",
       "Coordinates:\n",
       "    XLAT                 (Time, south_north, west_east) float32 -14.296738 ... -8.847343\n",
       "    XLONG                (Time, south_north, west_east) float32 126.58789 ... 134.80304\n",
       "    XLAT_U               (Time, south_north, west_east_stag) float32 dask.array<chunksize=(3, 486, 718), meta=np.ndarray>\n",
       "    XLONG_U              (Time, south_north, west_east_stag) float32 dask.array<chunksize=(3, 486, 718), meta=np.ndarray>\n",
       "    XLAT_V               (Time, south_north_stag, west_east) float32 dask.array<chunksize=(3, 487, 717), meta=np.ndarray>\n",
       "    XLONG_V              (Time, south_north_stag, west_east) float32 dask.array<chunksize=(3, 487, 717), meta=np.ndarray>\n",
       "Dimensions without coordinates: Time, bottom_top, bottom_top_stag, south_north, south_north_stag, west_east, west_east_stag\n",
       "Data variables:\n",
       "    Times                (Time) |S19 dask.array<chunksize=(3,), meta=np.ndarray>\n",
       "    U                    (Time, bottom_top, south_north, west_east_stag) float32 dask.array<chunksize=(3, 63, 486, 718), meta=np.ndarray>\n",
       "    V                    (Time, bottom_top, south_north_stag, west_east) float32 dask.array<chunksize=(3, 63, 487, 717), meta=np.ndarray>\n",
       "    W                    (Time, bottom_top_stag, south_north, west_east) float32 dask.array<chunksize=(3, 64, 486, 717), meta=np.ndarray>\n",
       "    PH                   (Time, bottom_top_stag, south_north, west_east) float32 dask.array<chunksize=(3, 64, 486, 717), meta=np.ndarray>\n",
       "    PHB                  (Time, bottom_top_stag, south_north, west_east) float32 dask.array<chunksize=(3, 64, 486, 717), meta=np.ndarray>\n",
       "    T                    (Time, bottom_top, south_north, west_east) float32 dask.array<chunksize=(3, 63, 486, 717), meta=np.ndarray>\n",
       "    MU                   (Time, south_north, west_east) float32 dask.array<chunksize=(3, 486, 717), meta=np.ndarray>\n",
       "    MUB                  (Time, south_north, west_east) float32 dask.array<chunksize=(3, 486, 717), meta=np.ndarray>\n",
       "    P                    (Time, bottom_top, south_north, west_east) float32 dask.array<chunksize=(3, 63, 486, 717), meta=np.ndarray>\n",
       "    PB                   (Time, bottom_top, south_north, west_east) float32 dask.array<chunksize=(3, 63, 486, 717), meta=np.ndarray>\n",
       "    XTIME                (Time) float32 dask.array<chunksize=(3,), meta=np.ndarray>\n",
       "    QVAPOR               (Time, bottom_top, south_north, west_east) float32 dask.array<chunksize=(3, 63, 486, 717), meta=np.ndarray>\n",
       "    QCLOUD               (Time, bottom_top, south_north, west_east) float32 dask.array<chunksize=(3, 63, 486, 717), meta=np.ndarray>\n",
       "    QRAIN                (Time, bottom_top, south_north, west_east) float32 dask.array<chunksize=(3, 63, 486, 717), meta=np.ndarray>\n",
       "    QICE                 (Time, bottom_top, south_north, west_east) float32 dask.array<chunksize=(3, 63, 486, 717), meta=np.ndarray>\n",
       "    QSNOW                (Time, bottom_top, south_north, west_east) float32 dask.array<chunksize=(3, 63, 486, 717), meta=np.ndarray>\n",
       "    QGRAUP               (Time, bottom_top, south_north, west_east) float32 dask.array<chunksize=(3, 63, 486, 717), meta=np.ndarray>\n",
       "    HGT                  (Time, south_north, west_east) float32 dask.array<chunksize=(3, 486, 717), meta=np.ndarray>\n",
       "    P_TOP                (Time) float32 dask.array<chunksize=(3,), meta=np.ndarray>\n",
       "    T00                  (Time) float32 dask.array<chunksize=(3,), meta=np.ndarray>\n",
       "    P00                  (Time) float32 dask.array<chunksize=(3,), meta=np.ndarray>\n",
       "    TLP                  (Time) float32 dask.array<chunksize=(3,), meta=np.ndarray>\n",
       "    TISO                 (Time) float32 dask.array<chunksize=(3,), meta=np.ndarray>\n",
       "    MAX_MSTFX            (Time) float32 dask.array<chunksize=(3,), meta=np.ndarray>\n",
       "    MAX_MSTFY            (Time) float32 dask.array<chunksize=(3,), meta=np.ndarray>\n",
       "    I_RAINC              (Time, south_north, west_east) int32 dask.array<chunksize=(3, 486, 717), meta=np.ndarray>\n",
       "    I_RAINNC             (Time, south_north, west_east) int32 dask.array<chunksize=(3, 486, 717), meta=np.ndarray>\n",
       "    OLR                  (Time, south_north, west_east) float32 dask.array<chunksize=(3, 486, 717), meta=np.ndarray>\n",
       "    SAVE_TOPO_FROM_REAL  (Time) int32 dask.array<chunksize=(3,), meta=np.ndarray>\n",
       "Attributes:\n",
       "    TITLE:                            OUTPUT FROM WRF V3.1.1 MODEL\n",
       "    START_DATE:                      2006-02-09_00:00:00\n",
       "    SIMULATION_START_DATE:           2006-02-08_12:00:00\n",
       "    WEST-EAST_GRID_DIMENSION:        718\n",
       "    SOUTH-NORTH_GRID_DIMENSION:      487\n",
       "    BOTTOM-TOP_GRID_DIMENSION:       64\n",
       "    DX:                              1250.0\n",
       "    DY:                              1250.0\n",
       "    GRIDTYPE:                        C\n",
       "    DIFF_OPT:                        1\n",
       "    KM_OPT:                          4\n",
       "    DAMP_OPT:                        3\n",
       "    DAMPCOEF:                        0.2\n",
       "    KHDIF:                           0.0\n",
       "    KVDIF:                           0.0\n",
       "    MP_PHYSICS:                      2\n",
       "    RA_LW_PHYSICS:                   1\n",
       "    RA_SW_PHYSICS:                   1\n",
       "    SF_SFCLAY_PHYSICS:               2\n",
       "    SF_SURFACE_PHYSICS:              2\n",
       "    BL_PBL_PHYSICS:                  2\n",
       "    CU_PHYSICS:                      0\n",
       "    SURFACE_INPUT_SOURCE:            1\n",
       "    SST_UPDATE:                      0\n",
       "    GRID_FDDA:                       0\n",
       "    GFDDA_INTERVAL_M:                0\n",
       "    GFDDA_END_H:                     0\n",
       "    GRID_SFDDA:                      0\n",
       "    SGFDDA_INTERVAL_M:               0\n",
       "    SGFDDA_END_H:                    0\n",
       "    SF_URBAN_PHYSICS:                0\n",
       "    FEEDBACK:                        0\n",
       "    SMOOTH_OPTION:                   0\n",
       "    SWRAD_SCAT:                      1.0\n",
       "    W_DAMPING:                       0\n",
       "    MOIST_ADV_OPT:                   1\n",
       "    SCALAR_ADV_OPT:                  1\n",
       "    TKE_ADV_OPT:                     1\n",
       "    DIFF_6TH_OPT:                    2\n",
       "    DIFF_6TH_FACTOR:                 0.12\n",
       "    OBS_NUDGE_OPT:                   0\n",
       "    WEST-EAST_PATCH_START_UNSTAG:    1\n",
       "    WEST-EAST_PATCH_END_UNSTAG:      717\n",
       "    WEST-EAST_PATCH_START_STAG:      1\n",
       "    WEST-EAST_PATCH_END_STAG:        718\n",
       "    SOUTH-NORTH_PATCH_START_UNSTAG:  1\n",
       "    SOUTH-NORTH_PATCH_END_UNSTAG:    486\n",
       "    SOUTH-NORTH_PATCH_START_STAG:    1\n",
       "    SOUTH-NORTH_PATCH_END_STAG:      487\n",
       "    BOTTOM-TOP_PATCH_START_UNSTAG:   1\n",
       "    BOTTOM-TOP_PATCH_END_UNSTAG:     63\n",
       "    BOTTOM-TOP_PATCH_START_STAG:     1\n",
       "    BOTTOM-TOP_PATCH_END_STAG:       64\n",
       "    GRID_ID:                         4\n",
       "    PARENT_ID:                       3\n",
       "    I_PARENT_START:                  132\n",
       "    J_PARENT_START:                  60\n",
       "    PARENT_GRID_RATIO:               3\n",
       "    DT:                              2.222222\n",
       "    CEN_LAT:                         -11.585312\n",
       "    CEN_LON:                         130.69547\n",
       "    TRUELAT1:                        -11.501\n",
       "    TRUELAT2:                        0.0\n",
       "    MOAD_CEN_LAT:                    -11.500999\n",
       "    STAND_LON:                       130.902\n",
       "    POLE_LAT:                        90.0\n",
       "    POLE_LON:                        0.0\n",
       "    GMT:                             12.0\n",
       "    JULYR:                           2006\n",
       "    JULDAY:                          39\n",
       "    MAP_PROJ:                        3\n",
       "    MMINLU:                          USGS\n",
       "    NUM_LAND_CAT:                    24\n",
       "    ISWATER:                         16\n",
       "    ISLAKE:                          -1\n",
       "    ISICE:                           24\n",
       "    ISURBAN:                         1\n",
       "    ISOILWATER:                      14"
      ]
     },
     "execution_count": 33,
     "metadata": {},
     "output_type": "execute_result"
    }
   ],
   "source": [
    "test"
   ]
  }
 ],
 "metadata": {
  "kernelspec": {
   "display_name": "Python 3",
   "language": "python",
   "name": "python3"
  },
  "language_info": {
   "codemirror_mode": {
    "name": "ipython",
    "version": 3
   },
   "file_extension": ".py",
   "mimetype": "text/x-python",
   "name": "python",
   "nbconvert_exporter": "python",
   "pygments_lexer": "ipython3",
   "version": "3.6.7"
  },
  "toc": {
   "base_numbering": 1,
   "nav_menu": {},
   "number_sections": true,
   "sideBar": true,
   "skip_h1_title": false,
   "title_cell": "Table of Contents",
   "title_sidebar": "Contents",
   "toc_cell": false,
   "toc_position": {},
   "toc_section_display": true,
   "toc_window_display": false
  }
 },
 "nbformat": 4,
 "nbformat_minor": 2
}
