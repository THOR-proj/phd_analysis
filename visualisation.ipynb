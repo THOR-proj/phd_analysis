{
 "cells": [
  {
   "cell_type": "code",
   "execution_count": 2,
   "id": "e428a4a0",
   "metadata": {
    "ExecuteTime": {
     "end_time": "2022-07-11T00:40:33.928368Z",
     "start_time": "2022-07-11T00:40:31.008477Z"
    }
   },
   "outputs": [
    {
     "name": "stdout",
     "output_type": "stream",
     "text": [
      "\n",
      "## You are using the Python ARM Radar Toolkit (Py-ART), an open source\n",
      "## library for working with weather radar data. Py-ART is partly\n",
      "## supported by the U.S. Department of Energy as part of the Atmospheric\n",
      "## Radiation Measurement (ARM) Climate Research Facility, an Office of\n",
      "## Science user facility.\n",
      "##\n",
      "## If you use this software to prepare a publication, please cite:\n",
      "##\n",
      "##     JJ Helmus and SM Collis, JORS 2016, doi: 10.5334/jors.119\n",
      "\n"
     ]
    },
    {
     "name": "stderr",
     "output_type": "stream",
     "text": [
      "/home/student.unimelb.edu.au/shorte1/anaconda3/envs/CPOL_analysis/lib/python3.8/site-packages/networkx/readwrite/graphml.py:346: DeprecationWarning: `np.int` is a deprecated alias for the builtin `int`. To silence this warning, use `int` by itself. Doing this will not modify any behavior and is safe. When replacing `np.int`, you may wish to use e.g. `np.int64` or `np.int32` to specify the precision. If you wish to review your current use, check the release note link for additional information.\n",
      "Deprecated in NumPy 1.20; for more details and guidance: https://numpy.org/devdocs/release/1.20.0-notes.html#deprecations\n",
      "  (np.int, \"int\"), (np.int8, \"int\"),\n",
      "/home/student.unimelb.edu.au/shorte1/anaconda3/envs/CPOL_analysis/lib/python3.8/site-packages/networkx/readwrite/gexf.py:220: DeprecationWarning: `np.int` is a deprecated alias for the builtin `int`. To silence this warning, use `int` by itself. Doing this will not modify any behavior and is safe. When replacing `np.int`, you may wish to use e.g. `np.int64` or `np.int32` to specify the precision. If you wish to review your current use, check the release note link for additional information.\n",
      "Deprecated in NumPy 1.20; for more details and guidance: https://numpy.org/devdocs/release/1.20.0-notes.html#deprecations\n",
      "  (np.int, \"int\"), (np.int8, \"int\"),\n",
      "/home/student.unimelb.edu.au/shorte1/anaconda3/envs/CPOL_analysis/lib/python3.8/site-packages/numba/core/types/__init__.py:108: DeprecationWarning: `np.long` is a deprecated alias for `np.compat.long`. To silence this warning, use `np.compat.long` by itself. In the likely event your code does not need to work on Python 2 you can use the builtin `int` for which `np.compat.long` is itself an alias. Doing this will not modify any behaviour and is safe. When replacing `np.long`, you may wish to use e.g. `np.int64` or `np.int32` to specify the precision. If you wish to review your current use, check the release note link for additional information.\n",
      "Deprecated in NumPy 1.20; for more details and guidance: https://numpy.org/devdocs/release/1.20.0-notes.html#deprecations\n",
      "  long_ = _make_signed(np.long)\n",
      "/home/student.unimelb.edu.au/shorte1/anaconda3/envs/CPOL_analysis/lib/python3.8/site-packages/numba/core/types/__init__.py:109: DeprecationWarning: `np.long` is a deprecated alias for `np.compat.long`. To silence this warning, use `np.compat.long` by itself. In the likely event your code does not need to work on Python 2 you can use the builtin `int` for which `np.compat.long` is itself an alias. Doing this will not modify any behaviour and is safe. When replacing `np.long`, you may wish to use e.g. `np.int64` or `np.int32` to specify the precision. If you wish to review your current use, check the release note link for additional information.\n",
      "Deprecated in NumPy 1.20; for more details and guidance: https://numpy.org/devdocs/release/1.20.0-notes.html#deprecations\n",
      "  ulong = _make_unsigned(np.long)\n"
     ]
    },
    {
     "name": "stdout",
     "output_type": "stream",
     "text": [
      "Automatic pdb calling has been turned ON\n"
     ]
    }
   ],
   "source": [
    "import sys\n",
    "sys.path.insert(0, '/home/student.unimelb.edu.au/shorte1/Documents/TINT')\n",
    "\n",
    "# Core\n",
    "import datetime\n",
    "import os\n",
    "import glob\n",
    "import tempfile\n",
    "import pickle\n",
    "import copy\n",
    "\n",
    "# Analysis\n",
    "import numpy as np\n",
    "import pandas as pd\n",
    "import xarray as xr\n",
    "\n",
    "# Plotting\n",
    "import matplotlib.pyplot as plt\n",
    "import matplotlib as mpl\n",
    "from matplotlib import rcParams\n",
    "\n",
    "# Debugging\n",
    "import pdb, traceback\n",
    "# %load_ext line_profiler\n",
    "\n",
    "# Radar Tools\n",
    "import pyart\n",
    "import tint\n",
    "# import tint.animate\n",
    "# from tint.visualisation import animate\n",
    "\n",
    "import classification as cl\n",
    "import CPOL_func as cf\n",
    "import caine_func as caf\n",
    "import analysis\n",
    "\n",
    "# Convenience functions\n",
    "%load_ext autoreload\n",
    "%autoreload 1\n",
    "%aimport CPOL_func\n",
    "%aimport caine_func\n",
    "%aimport tint.visualisation.figures\n",
    "%aimport tint.visualisation.animate\n",
    "%aimport tint.visualisation.horizontal_helpers\n",
    "%aimport tint.visualisation.vertical_helpers\n",
    "%aimport tint.tracks\n",
    "%aimport tint.objects\n",
    "%aimport tint.grid_utils\n",
    "%aimport tint.steiner\n",
    "%aimport tint.matching\n",
    "%aimport tint.rain\n",
    "%aimport tint.cells\n",
    "%aimport tint.tracks_helpers\n",
    "%aimport tint.process_ERA5\n",
    "%aimport tint.process_WRF\n",
    "\n",
    "%pdb\n",
    "\n",
    "base_dir = '/media/shorte1/Ewan\\'s Hard Drive/phd/data/CPOL/'\n",
    "save_dir = '/home/student.unimelb.edu.au/shorte1/Documents/TINT_tracks/'\n",
    "fig_dir = '/home/student.unimelb.edu.au/shorte1/Documents/TINT_figures/'\n",
    "ERA5_dir = '/media/shorte1/Ewan\\'s Hard Drive/phd/data/era5/'\n",
    "ERA5_dir += 'pressure-levels/reanalysis/'\n",
    "WRF_dir = '/media/shorte1/Ewan\\'s Hard Drive/phd/data/caine_WRF_data/'"
   ]
  },
  {
   "cell_type": "markdown",
   "id": "f760cebb",
   "metadata": {},
   "source": [
    "# Load Tracks"
   ]
  },
  {
   "cell_type": "code",
   "execution_count": 4,
   "id": "de6f8cd3",
   "metadata": {
    "ExecuteTime": {
     "end_time": "2022-07-11T00:41:21.355573Z",
     "start_time": "2022-07-11T00:41:15.155362Z"
    }
   },
   "outputs": [],
   "source": [
    "with open(save_dir + 'base/20051001_20060501.pkl', 'rb') as f:\n",
    "    tracks_obj = pickle.load(f)"
   ]
  },
  {
   "cell_type": "code",
   "execution_count": 5,
   "id": "f57d8c54",
   "metadata": {
    "ExecuteTime": {
     "end_time": "2022-07-11T00:41:24.864196Z",
     "start_time": "2022-07-11T00:41:24.839528Z"
    }
   },
   "outputs": [
    {
     "data": {
      "text/plain": [
       "{'SEARCH_MARGIN': 50000,\n",
       " 'FLOW_MARGIN': 40000,\n",
       " 'MAX_FLOW_MAG': 60,\n",
       " 'MAX_DISPARITY': 999,\n",
       " 'MAX_SHIFT_DISP': 60,\n",
       " 'MAX_SHIFT_DISP_ALT': 25,\n",
       " 'ISO_SMOOTH': 3,\n",
       " 'GS_ALT': 2000,\n",
       " 'LEVELS': array([[  500,  3500],\n",
       "        [ 3500,  7500],\n",
       "        [ 7500, 10000]]),\n",
       " 'MIN_SIZE': [80, 400, 800],\n",
       " 'FIELD_THRESH': ['convective', 20, 15],\n",
       " 'ISO_THRESH': [10, 10, 10],\n",
       " 'TRACK_INTERVAL': 0,\n",
       " 'CELL_THRESH': 25,\n",
       " 'CELL_START': 3000,\n",
       " 'RAIN': False,\n",
       " 'SAVE_RAIN': False,\n",
       " 'AMBIENT': 'ERA5',\n",
       " 'AMBIENT_BASE_DIR': '/g/data/w40/esh563/era5/pressure-levels/reanalysis/',\n",
       " 'DT': 10,\n",
       " 'CLASS_THRESH': {'OFFSET_MAG': 10000,\n",
       "  'SHEAR_MAG': 2,\n",
       "  'VEL_MAG': 5,\n",
       "  'REL_VEL_MAG': 2,\n",
       "  'ANGLE_BUFFER': 10},\n",
       " 'EXCL_THRESH': {'SMALL_AREA': 500,\n",
       "  'LARGE_AREA': 50000,\n",
       "  'BORD_THRESH': 0.001,\n",
       "  'MAJOR_AXIS_LENGTH': 100,\n",
       "  'AXIS_RATIO': 3,\n",
       "  'DURATION': 30},\n",
       " 'BOUNDARY_GRID_CELLS': {(0, 48),\n",
       "  (0, 49),\n",
       "  (0, 50),\n",
       "  (0, 51),\n",
       "  (0, 52),\n",
       "  (0, 53),\n",
       "  (0, 54),\n",
       "  (0, 55),\n",
       "  (0, 56),\n",
       "  (0, 57),\n",
       "  (0, 58),\n",
       "  (0, 59),\n",
       "  (0, 60),\n",
       "  (0, 61),\n",
       "  (0, 62),\n",
       "  (0, 63),\n",
       "  (0, 64),\n",
       "  (0, 65),\n",
       "  (0, 66),\n",
       "  (0, 67),\n",
       "  (0, 68),\n",
       "  (1, 43),\n",
       "  (1, 44),\n",
       "  (1, 45),\n",
       "  (1, 46),\n",
       "  (1, 47),\n",
       "  (1, 69),\n",
       "  (1, 70),\n",
       "  (1, 71),\n",
       "  (1, 72),\n",
       "  (1, 73),\n",
       "  (2, 40),\n",
       "  (2, 41),\n",
       "  (2, 42),\n",
       "  (2, 74),\n",
       "  (2, 75),\n",
       "  (2, 76),\n",
       "  (3, 37),\n",
       "  (3, 38),\n",
       "  (3, 39),\n",
       "  (3, 77),\n",
       "  (3, 78),\n",
       "  (3, 79),\n",
       "  (4, 35),\n",
       "  (4, 36),\n",
       "  (4, 80),\n",
       "  (4, 81),\n",
       "  (5, 33),\n",
       "  (5, 34),\n",
       "  (5, 82),\n",
       "  (5, 83),\n",
       "  (6, 31),\n",
       "  (6, 32),\n",
       "  (6, 84),\n",
       "  (6, 85),\n",
       "  (7, 29),\n",
       "  (7, 30),\n",
       "  (7, 86),\n",
       "  (7, 87),\n",
       "  (8, 27),\n",
       "  (8, 28),\n",
       "  (8, 88),\n",
       "  (8, 89),\n",
       "  (9, 26),\n",
       "  (9, 90),\n",
       "  (10, 24),\n",
       "  (10, 25),\n",
       "  (10, 91),\n",
       "  (10, 92),\n",
       "  (11, 23),\n",
       "  (11, 24),\n",
       "  (11, 92),\n",
       "  (11, 93),\n",
       "  (12, 22),\n",
       "  (12, 94),\n",
       "  (13, 20),\n",
       "  (13, 21),\n",
       "  (13, 95),\n",
       "  (13, 96),\n",
       "  (14, 19),\n",
       "  (14, 20),\n",
       "  (14, 96),\n",
       "  (14, 97),\n",
       "  (15, 18),\n",
       "  (15, 19),\n",
       "  (15, 97),\n",
       "  (15, 98),\n",
       "  (16, 17),\n",
       "  (16, 18),\n",
       "  (16, 98),\n",
       "  (16, 99),\n",
       "  (17, 16),\n",
       "  (17, 100),\n",
       "  (18, 15),\n",
       "  (18, 16),\n",
       "  (18, 100),\n",
       "  (18, 101),\n",
       "  (19, 14),\n",
       "  (19, 15),\n",
       "  (19, 101),\n",
       "  (19, 102),\n",
       "  (20, 13),\n",
       "  (20, 14),\n",
       "  (20, 102),\n",
       "  (20, 103),\n",
       "  (21, 13),\n",
       "  (21, 103),\n",
       "  (22, 12),\n",
       "  (22, 104),\n",
       "  (23, 11),\n",
       "  (23, 105),\n",
       "  (24, 10),\n",
       "  (24, 11),\n",
       "  (24, 105),\n",
       "  (24, 106),\n",
       "  (25, 10),\n",
       "  (25, 106),\n",
       "  (26, 9),\n",
       "  (26, 107),\n",
       "  (27, 8),\n",
       "  (27, 108),\n",
       "  (28, 8),\n",
       "  (28, 108),\n",
       "  (29, 7),\n",
       "  (29, 109),\n",
       "  (30, 7),\n",
       "  (30, 109),\n",
       "  (31, 6),\n",
       "  (31, 110),\n",
       "  (32, 6),\n",
       "  (32, 110),\n",
       "  (33, 5),\n",
       "  (33, 111),\n",
       "  (34, 5),\n",
       "  (34, 111),\n",
       "  (35, 4),\n",
       "  (35, 112),\n",
       "  (36, 4),\n",
       "  (36, 112),\n",
       "  (37, 3),\n",
       "  (37, 113),\n",
       "  (38, 3),\n",
       "  (38, 113),\n",
       "  (39, 3),\n",
       "  (39, 113),\n",
       "  (40, 2),\n",
       "  (40, 114),\n",
       "  (41, 2),\n",
       "  (41, 114),\n",
       "  (42, 2),\n",
       "  (42, 114),\n",
       "  (43, 1),\n",
       "  (43, 115),\n",
       "  (44, 1),\n",
       "  (44, 115),\n",
       "  (45, 1),\n",
       "  (45, 115),\n",
       "  (46, 1),\n",
       "  (46, 115),\n",
       "  (47, 1),\n",
       "  (47, 115),\n",
       "  (48, 0),\n",
       "  (48, 116),\n",
       "  (49, 0),\n",
       "  (49, 116),\n",
       "  (50, 0),\n",
       "  (50, 116),\n",
       "  (51, 0),\n",
       "  (51, 116),\n",
       "  (52, 0),\n",
       "  (52, 116),\n",
       "  (53, 0),\n",
       "  (53, 116),\n",
       "  (54, 0),\n",
       "  (54, 116),\n",
       "  (55, 0),\n",
       "  (55, 116),\n",
       "  (56, 0),\n",
       "  (56, 116),\n",
       "  (57, 0),\n",
       "  (57, 116),\n",
       "  (58, 0),\n",
       "  (58, 116),\n",
       "  (59, 0),\n",
       "  (59, 116),\n",
       "  (60, 0),\n",
       "  (60, 116),\n",
       "  (61, 0),\n",
       "  (61, 116),\n",
       "  (62, 0),\n",
       "  (62, 116),\n",
       "  (63, 0),\n",
       "  (63, 116),\n",
       "  (64, 0),\n",
       "  (64, 116),\n",
       "  (65, 0),\n",
       "  (65, 116),\n",
       "  (66, 0),\n",
       "  (66, 116),\n",
       "  (67, 0),\n",
       "  (67, 116),\n",
       "  (68, 0),\n",
       "  (68, 116),\n",
       "  (69, 1),\n",
       "  (69, 115),\n",
       "  (70, 1),\n",
       "  (70, 115),\n",
       "  (71, 1),\n",
       "  (71, 115),\n",
       "  (72, 1),\n",
       "  (72, 115),\n",
       "  (73, 1),\n",
       "  (73, 115),\n",
       "  (74, 2),\n",
       "  (74, 114),\n",
       "  (75, 2),\n",
       "  (75, 114),\n",
       "  (76, 2),\n",
       "  (76, 114),\n",
       "  (77, 3),\n",
       "  (77, 113),\n",
       "  (78, 3),\n",
       "  (78, 113),\n",
       "  (79, 3),\n",
       "  (79, 113),\n",
       "  (80, 4),\n",
       "  (80, 112),\n",
       "  (81, 4),\n",
       "  (81, 112),\n",
       "  (82, 5),\n",
       "  (82, 111),\n",
       "  (83, 5),\n",
       "  (83, 111),\n",
       "  (84, 6),\n",
       "  (84, 110),\n",
       "  (85, 6),\n",
       "  (85, 110),\n",
       "  (86, 7),\n",
       "  (86, 109),\n",
       "  (87, 7),\n",
       "  (87, 109),\n",
       "  (88, 8),\n",
       "  (88, 108),\n",
       "  (89, 8),\n",
       "  (89, 108),\n",
       "  (90, 9),\n",
       "  (90, 107),\n",
       "  (91, 10),\n",
       "  (91, 106),\n",
       "  (92, 10),\n",
       "  (92, 11),\n",
       "  (92, 105),\n",
       "  (92, 106),\n",
       "  (93, 11),\n",
       "  (93, 105),\n",
       "  (94, 12),\n",
       "  (94, 104),\n",
       "  (95, 13),\n",
       "  (95, 103),\n",
       "  (96, 13),\n",
       "  (96, 14),\n",
       "  (96, 102),\n",
       "  (96, 103),\n",
       "  (97, 14),\n",
       "  (97, 15),\n",
       "  (97, 101),\n",
       "  (97, 102),\n",
       "  (98, 15),\n",
       "  (98, 16),\n",
       "  (98, 100),\n",
       "  (98, 101),\n",
       "  (99, 16),\n",
       "  (99, 100),\n",
       "  (100, 17),\n",
       "  (100, 18),\n",
       "  (100, 98),\n",
       "  (100, 99),\n",
       "  (101, 18),\n",
       "  (101, 19),\n",
       "  (101, 97),\n",
       "  (101, 98),\n",
       "  (102, 19),\n",
       "  (102, 20),\n",
       "  (102, 96),\n",
       "  (102, 97),\n",
       "  (103, 20),\n",
       "  (103, 21),\n",
       "  (103, 95),\n",
       "  (103, 96),\n",
       "  (104, 22),\n",
       "  (104, 94),\n",
       "  (105, 23),\n",
       "  (105, 24),\n",
       "  (105, 92),\n",
       "  (105, 93),\n",
       "  (106, 24),\n",
       "  (106, 25),\n",
       "  (106, 91),\n",
       "  (106, 92),\n",
       "  (107, 26),\n",
       "  (107, 90),\n",
       "  (108, 27),\n",
       "  (108, 28),\n",
       "  (108, 88),\n",
       "  (108, 89),\n",
       "  (109, 29),\n",
       "  (109, 30),\n",
       "  (109, 86),\n",
       "  (109, 87),\n",
       "  (110, 31),\n",
       "  (110, 32),\n",
       "  (110, 84),\n",
       "  (110, 85),\n",
       "  (111, 33),\n",
       "  (111, 34),\n",
       "  (111, 82),\n",
       "  (111, 83),\n",
       "  (112, 35),\n",
       "  (112, 36),\n",
       "  (112, 80),\n",
       "  (112, 81),\n",
       "  (113, 37),\n",
       "  (113, 38),\n",
       "  (113, 39),\n",
       "  (113, 77),\n",
       "  (113, 78),\n",
       "  (113, 79),\n",
       "  (114, 40),\n",
       "  (114, 41),\n",
       "  (114, 42),\n",
       "  (114, 74),\n",
       "  (114, 75),\n",
       "  (114, 76),\n",
       "  (115, 43),\n",
       "  (115, 44),\n",
       "  (115, 45),\n",
       "  (115, 46),\n",
       "  (115, 47),\n",
       "  (115, 69),\n",
       "  (115, 70),\n",
       "  (115, 71),\n",
       "  (115, 72),\n",
       "  (115, 73),\n",
       "  (116, 48),\n",
       "  (116, 49),\n",
       "  (116, 50),\n",
       "  (116, 51),\n",
       "  (116, 52),\n",
       "  (116, 53),\n",
       "  (116, 54),\n",
       "  (116, 55),\n",
       "  (116, 56),\n",
       "  (116, 57),\n",
       "  (116, 58),\n",
       "  (116, 59),\n",
       "  (116, 60),\n",
       "  (116, 61),\n",
       "  (116, 62),\n",
       "  (116, 63),\n",
       "  (116, 64),\n",
       "  (116, 65),\n",
       "  (116, 66),\n",
       "  (116, 67),\n",
       "  (116, 68)}}"
      ]
     },
     "execution_count": 5,
     "metadata": {},
     "output_type": "execute_result"
    }
   ],
   "source": [
    "tracks_obj.params"
   ]
  },
  {
   "cell_type": "code",
   "execution_count": 270,
   "id": "0b393c79",
   "metadata": {
    "ExecuteTime": {
     "end_time": "2022-07-05T01:15:39.162766Z",
     "start_time": "2022-07-05T01:15:39.084139Z"
    }
   },
   "outputs": [],
   "source": [
    "with open(save_dir + '/lin.pkl', 'rb') as f:\n",
    "    tracks_obj = pickle.load(f)"
   ]
  },
  {
   "cell_type": "code",
   "execution_count": 271,
   "id": "04b16f7b",
   "metadata": {
    "ExecuteTime": {
     "end_time": "2022-07-05T01:15:41.503068Z",
     "start_time": "2022-07-05T01:15:41.403976Z"
    }
   },
   "outputs": [
    {
     "name": "stdout",
     "output_type": "stream",
     "text": [
      "Calculating system tracks.\n"
     ]
    }
   ],
   "source": [
    "tracks_obj.params['DT'] = 10\n",
    "tracks_obj.params['CLASS_THRESH'] = {\n",
    "    'OFFSET_MAG': 10000,  # metres\n",
    "    'SHEAR_MAG': 2,  # m/s\n",
    "    'VEL_MAG': 5,  # m/s\n",
    "    'REL_VEL_MAG': 2,  # m/s\n",
    "    'ANGLE_BUFFER': 10}\n",
    "tracks_obj.params['EXCL_THRESH'] = {\n",
    "    'SMALL_AREA': 500,  # km^2\n",
    "    'LARGE_AREA': 50000,  # km^2\n",
    "    'BORD_THRESH': 0.001,  # Ratio border pixels to total pixels\n",
    "    'MAJOR_AXIS_LENGTH': 25,  # km\n",
    "    'AXIS_RATIO': 2,\n",
    "    'DURATION': 30}  # minutes\n",
    "tracks_obj = tint.objects.get_system_tracks(tracks_obj)\n",
    "tracks_obj = tint.objects.classify_tracks(tracks_obj)\n",
    "tracks_obj = tint.objects.get_exclusion_categories(tracks_obj)"
   ]
  },
  {
   "cell_type": "code",
   "execution_count": 27,
   "id": "9cd26ef7",
   "metadata": {
    "ExecuteTime": {
     "end_time": "2022-04-26T05:45:16.347167Z",
     "start_time": "2022-04-26T05:45:16.333624Z"
    }
   },
   "outputs": [],
   "source": [
    "# dates = np.arange(\n",
    "#     np.datetime64('2005-10-01 00:00'), \n",
    "#     np.datetime64('2006-05-01 00:00'),\n",
    "#     np.timedelta64(10, 'm'))\n",
    "\n",
    "# filenames, start_time, end_time = cf.CPOL_files_from_datetime_list(\n",
    "#     dates, base_dir=base_dir)\n",
    "\n",
    "# micro_physics = 'cpol'\n",
    "\n",
    "b_path = '/home/student.unimelb.edu.au/shorte1/Documents/'\n",
    "b_path += 'CPOL_analysis/circ_b_ind_set.pkl'\n",
    "with open(b_path, 'rb') as f:\n",
    "    b_ind_set = pickle.load(f)"
   ]
  },
  {
   "cell_type": "code",
   "execution_count": 7,
   "id": "061e1f38",
   "metadata": {
    "ExecuteTime": {
     "end_time": "2022-01-18T00:20:04.372023Z",
     "start_time": "2022-01-18T00:20:04.335805Z"
    }
   },
   "outputs": [],
   "source": [
    "exclusions = [\n",
    "    'small_area', 'large_area', 'intersect_border', \n",
    "    'intersect_border_convective', 'duration_cond', \n",
    "    'small_velocity', 'small_offset']\n",
    "\n",
    "excluded = tracks_obj.exclusions[exclusions]\n",
    "excluded = excluded.xs(0, level='level')\n",
    "excluded = np.any(excluded, 1)\n",
    "# excluded = excluded.where(excluded==False).dropna()\n",
    "# len(excluded)/3\n",
    "\n",
    "included = np.logical_not(excluded)\n",
    "included = included.where(included==True).dropna()\n",
    "scans = included.loc[:, slice(start_time, end_time), :]\n",
    "scans = sorted(np.unique(scans.index.get_level_values(0).values))"
   ]
  },
  {
   "cell_type": "code",
   "execution_count": 58,
   "id": "d0ae7689",
   "metadata": {
    "ExecuteTime": {
     "end_time": "2022-01-19T03:48:31.013484Z",
     "start_time": "2022-01-19T03:48:30.987683Z"
    }
   },
   "outputs": [
    {
     "data": {
      "text/plain": [
       "scan   time                 uid \n",
       "394    2005-11-12 18:30:00  29      True\n",
       "395    2005-11-12 18:40:00  29      True\n",
       "396    2005-11-12 18:50:00  29      True\n",
       "397    2005-11-12 19:00:00  29      True\n",
       "398    2005-11-12 19:10:00  29      True\n",
       "                                    ... \n",
       "23852  2006-04-28 08:30:00  2153    True\n",
       "23853  2006-04-28 08:40:00  2153    True\n",
       "23854  2006-04-28 08:50:00  2153    True\n",
       "23855  2006-04-28 09:00:00  2153    True\n",
       "23856  2006-04-28 09:10:00  2153    True\n",
       "Length: 1025, dtype: object"
      ]
     },
     "execution_count": 58,
     "metadata": {},
     "output_type": "execute_result"
    }
   ],
   "source": [
    "included"
   ]
  },
  {
   "cell_type": "code",
   "execution_count": 57,
   "id": "c271c714",
   "metadata": {
    "ExecuteTime": {
     "end_time": "2022-01-19T03:48:04.432940Z",
     "start_time": "2022-01-19T03:48:04.417174Z"
    }
   },
   "outputs": [
    {
     "data": {
      "text/plain": [
       "131"
      ]
     },
     "execution_count": 57,
     "metadata": {},
     "output_type": "execute_result"
    }
   ],
   "source": [
    "len(np.unique(included.index.get_level_values('uid').values))"
   ]
  },
  {
   "cell_type": "code",
   "execution_count": 272,
   "id": "b3ea7d18",
   "metadata": {
    "ExecuteTime": {
     "end_time": "2022-07-05T01:15:48.180653Z",
     "start_time": "2022-07-05T01:15:45.457666Z"
    }
   },
   "outputs": [
    {
     "name": "stdout",
     "output_type": "stream",
     "text": [
      "Gathering files.\n"
     ]
    }
   ],
   "source": [
    "micro_physics = 'lin'\n",
    "\n",
    "dates = np.arange(\n",
    "    np.datetime64('2006-02-08 12:00'), \n",
    "    np.datetime64('2006-02-13 10:10'),\n",
    "    np.timedelta64(10, 'm'))\n",
    "\n",
    "filenames, start_time, end_time = caf.caine_files_from_datetime_list(\n",
    "    dates, micro_physics=micro_physics, \n",
    "    base_dir=WRF_dir)"
   ]
  },
  {
   "cell_type": "code",
   "execution_count": 231,
   "id": "c7124eaf",
   "metadata": {
    "ExecuteTime": {
     "end_time": "2022-07-04T07:03:41.716789Z",
     "start_time": "2022-07-04T07:03:41.702050Z"
    }
   },
   "outputs": [
    {
     "data": {
      "text/plain": [
       "\"/media/shorte1/Ewan's Hard Drive/phd/data/caine_WRF_data/lind04_ref/lind04_ref_2006-02-09T09:50:00.nc\""
      ]
     },
     "execution_count": 231,
     "metadata": {},
     "output_type": "execute_result"
    }
   ],
   "source": [
    "filenames[59]"
   ]
  },
  {
   "cell_type": "code",
   "execution_count": 273,
   "id": "e9aaa40b",
   "metadata": {
    "ExecuteTime": {
     "end_time": "2022-07-05T01:15:48.192221Z",
     "start_time": "2022-07-05T01:15:48.185015Z"
    }
   },
   "outputs": [],
   "source": [
    "tracks_obj.params['INPUT_TYPE'] = None\n",
    "tracks_obj.params['WIND_LEVELS'] = tracks_obj.params['LEVELS']"
   ]
  },
  {
   "cell_type": "code",
   "execution_count": 274,
   "id": "d9f8b005",
   "metadata": {
    "ExecuteTime": {
     "end_time": "2022-07-05T01:15:53.244053Z",
     "start_time": "2022-07-05T01:15:50.296771Z"
    }
   },
   "outputs": [
    {
     "name": "stdout",
     "output_type": "stream",
     "text": [
      "Generating figure for 2006-02-09T09:50.\n"
     ]
    },
    {
     "data": {
      "image/png": "[encoded data removed]",
      "text/plain": [
       "<Figure size 1584x576 with 3 Axes>"
      ]
     },
     "metadata": {
      "needs_background": "light"
     },
     "output_type": "display_data"
    }
   ],
   "source": [
    "filename = filenames[59]\n",
    "grid = pyart.io.read_grid(filename, include_fields=['reflectivity'])\n",
    "\n",
    "current_time = str(datetime.datetime.now())[0:-7]\n",
    "current_time = current_time.replace(\" \", \"_\").replace(\":\", \"_\")\n",
    "current_time = current_time.replace(\"-\", \"\")\n",
    "\n",
    "params = {\n",
    "    'uid_ind': '1', 'line_coords': True, 'center_cell': False,\n",
    "    'cell_ind': 10, 'winds': False, 'winds_fn': filename,\n",
    "    'crosshair': True, 'fontsize': 20, 'colorbar_flag': True,\n",
    "    'leg_loc': 2, 'label_type': None,\n",
    "    'system_winds': ['shift', 'ambient_mean', 'relative'],\n",
    "    'boundary': False, 'exclude': False}\n",
    "\n",
    "tint.visualisation.figures.two_level(\n",
    "    tracks_obj, grid, params=params, alt1=2000, alt2=9500)\n",
    "plt.savefig(\n",
    "    fig_dir + '/WRF_example_{}.png'.format(current_time), \n",
    "    dpi=200, facecolor='w', edgecolor='white', bbox_inches='tight')"
   ]
  },
  {
   "cell_type": "code",
   "execution_count": 50,
   "id": "3da29d1b",
   "metadata": {
    "ExecuteTime": {
     "end_time": "2022-01-19T03:06:10.654207Z",
     "start_time": "2022-01-19T03:06:06.992718Z"
    },
    "scrolled": true
   },
   "outputs": [
    {
     "name": "stdout",
     "output_type": "stream",
     "text": [
      "Generating figure for 2005-12-07T10:50.\n",
      "Generating figure for 2005-12-07T11:00.\n"
     ]
    }
   ],
   "source": [
    "for s in scans[212:214]:\n",
    "    filename = filenames[s]\n",
    "    grid = pyart.io.read_grid(filename, include_fields=['reflectivity'])\n",
    "\n",
    "    current_time = str(datetime.datetime.now())[0:-7]\n",
    "    current_time = current_time.replace(\" \", \"_\").replace(\":\", \"_\")\n",
    "    current_time = current_time.replace(\"-\", \"\")\n",
    "\n",
    "    params = {\n",
    "        'uid_ind': None, 'line_coords': False, 'center_cell': False,\n",
    "        'cell_ind': 10, 'winds': False, 'winds_fn': filename,\n",
    "        'crosshair': True, 'fontsize': 18, 'colorbar_flag': True,\n",
    "        'leg_loc': 2, 'label_type': 'velocities',\n",
    "        'system_winds': ['shift', 'ambient_mean', 'relative'],\n",
    "        'boundary': True}\n",
    "\n",
    "    tint.visualisation.figures.two_level(\n",
    "        tracks_obj, grid, params=params, alt1=2000)\n",
    "    plt.savefig(\n",
    "    fig_dir + '/FFLS_animation/{}.png'.format(s), \n",
    "    dpi=200, facecolor='w', edgecolor='white', bbox_inches='tight')\n",
    "#     plt.show()\n",
    "    plt.close('all')"
   ]
  },
  {
   "cell_type": "code",
   "execution_count": 66,
   "id": "3181bbf5",
   "metadata": {
    "ExecuteTime": {
     "end_time": "2021-12-06T01:46:50.596765Z",
     "start_time": "2021-12-06T01:46:50.559507Z"
    }
   },
   "outputs": [],
   "source": [
    "filename = filenames[59]\n",
    "grid = pyart.io.read_grid(filename, include_fields=['reflectivity'])\n",
    "\n",
    "current_time = str(datetime.datetime.now())[0:-7]\n",
    "current_time = current_time.replace(\" \", \"_\").replace(\":\", \"_\")\n",
    "current_time = current_time.replace(\"-\", \"\")"
   ]
  },
  {
   "cell_type": "code",
   "execution_count": 228,
   "id": "49d00f03",
   "metadata": {
    "ExecuteTime": {
     "end_time": "2022-07-04T07:02:31.701257Z",
     "start_time": "2022-07-04T07:02:31.673923Z"
    }
   },
   "outputs": [
    {
     "ename": "NameError",
     "evalue": "name 'filename' is not defined",
     "output_type": "error",
     "traceback": [
      "\u001b[0;31m---------------------------------------------------------------------------\u001b[0m",
      "\u001b[0;31mNameError\u001b[0m                                 Traceback (most recent call last)",
      "\u001b[0;32m/tmp/ipykernel_8283/1342877117.py\u001b[0m in \u001b[0;36m<module>\u001b[0;34m\u001b[0m\n\u001b[1;32m      1\u001b[0m params = {\n\u001b[1;32m      2\u001b[0m     \u001b[0;34m'uid_ind'\u001b[0m\u001b[0;34m:\u001b[0m \u001b[0;32mNone\u001b[0m\u001b[0;34m,\u001b[0m \u001b[0;34m'line_coords'\u001b[0m\u001b[0;34m:\u001b[0m \u001b[0;32mFalse\u001b[0m\u001b[0;34m,\u001b[0m \u001b[0;34m'center_cell'\u001b[0m\u001b[0;34m:\u001b[0m \u001b[0;32mFalse\u001b[0m\u001b[0;34m,\u001b[0m\u001b[0;34m\u001b[0m\u001b[0;34m\u001b[0m\u001b[0m\n\u001b[0;32m----> 3\u001b[0;31m     \u001b[0;34m'cell_ind'\u001b[0m\u001b[0;34m:\u001b[0m \u001b[0;36m10\u001b[0m\u001b[0;34m,\u001b[0m \u001b[0;34m'winds'\u001b[0m\u001b[0;34m:\u001b[0m \u001b[0;32mFalse\u001b[0m\u001b[0;34m,\u001b[0m \u001b[0;34m'winds_fn'\u001b[0m\u001b[0;34m:\u001b[0m \u001b[0mfilename\u001b[0m\u001b[0;34m,\u001b[0m\u001b[0;34m\u001b[0m\u001b[0;34m\u001b[0m\u001b[0m\n\u001b[0m\u001b[1;32m      4\u001b[0m     \u001b[0;34m'crosshair'\u001b[0m\u001b[0;34m:\u001b[0m \u001b[0;32mTrue\u001b[0m\u001b[0;34m,\u001b[0m \u001b[0;34m'fontsize'\u001b[0m\u001b[0;34m:\u001b[0m \u001b[0;36m22\u001b[0m\u001b[0;34m,\u001b[0m \u001b[0;34m'colorbar_flag'\u001b[0m\u001b[0;34m:\u001b[0m \u001b[0;32mTrue\u001b[0m\u001b[0;34m,\u001b[0m\u001b[0;34m\u001b[0m\u001b[0;34m\u001b[0m\u001b[0m\n\u001b[1;32m      5\u001b[0m     \u001b[0;34m'leg_loc'\u001b[0m\u001b[0;34m:\u001b[0m \u001b[0;36m2\u001b[0m\u001b[0;34m,\u001b[0m \u001b[0;34m'system_winds'\u001b[0m\u001b[0;34m:\u001b[0m \u001b[0;34m[\u001b[0m\u001b[0;34m'shift'\u001b[0m\u001b[0;34m]\u001b[0m\u001b[0;34m,\u001b[0m\u001b[0;34m\u001b[0m\u001b[0;34m\u001b[0m\u001b[0m\n",
      "\u001b[0;31mNameError\u001b[0m: name 'filename' is not defined"
     ]
    }
   ],
   "source": [
    "params = {\n",
    "    'uid_ind': None, 'line_coords': False, 'center_cell': False,\n",
    "    'cell_ind': 10, 'winds': False, 'winds_fn': filename, \n",
    "    'crosshair': True, 'fontsize': 22, 'colorbar_flag': True,\n",
    "    'leg_loc': 2, 'system_winds': ['shift'],\n",
    "    'boundary': None, 'exclusions': ['small_area']}\n",
    "\n",
    "tint.visualisation.figures.two_level(\n",
    "    tracks_obj_lin, grid, params=params, alt1=2000)\n",
    "plt.savefig(\n",
    "    fig_dir + 'test.png', \n",
    "    dpi=200, facecolor='w', edgecolor='white', bbox_inches='tight')\n",
    "plt.show()\n",
    "plt.close('all')\n",
    "\n",
    "params = {\n",
    "    'uid_ind': '1', 'line_coords': True, 'center_cell': False,\n",
    "    'cell_ind': 10, 'winds': False, 'winds_fn': filename, \n",
    "    'crosshair': True, 'fontsize': 22, 'colorbar_flag': True,\n",
    "    'leg_loc': 2, 'system_winds': ['shift'],\n",
    "    'boundary': None, 'exclusions': ['small_area']}\n",
    "\n",
    "tint.visualisation.figures.two_level(\n",
    "    tracks_obj_lin, grid, params=params, alt1=2000)\n",
    "plt.savefig(\n",
    "    fig_dir + 'test2.png', \n",
    "    dpi=200, facecolor='w', edgecolor='white', bbox_inches='tight')\n",
    "plt.show()\n",
    "plt.close('all')"
   ]
  },
  {
   "cell_type": "code",
   "execution_count": 321,
   "id": "14b5bf6d",
   "metadata": {
    "ExecuteTime": {
     "end_time": "2022-07-05T02:53:14.620985Z",
     "start_time": "2022-07-05T02:52:38.344669Z"
    }
   },
   "outputs": [
    {
     "name": "stdout",
     "output_type": "stream",
     "text": [
      "Interpolating onto line coordinates.\n",
      "Calculating horizontal winds in new basis.\n",
      "Adding reflectivity.\n",
      "Adding stratiform offset.\n",
      "Adding winds.\n",
      "Saving data.\n"
     ]
    }
   ],
   "source": [
    "params = {\n",
    "        'uid_ind': '1', 'line_coords': True, 'center_cell': False, \n",
    "        'cell_ind': 7, 'winds': True, 'winds_fn': filename, \n",
    "        'direction': 'perpendicular', 'crosshair': False, 'save_dir': fig_dir,\n",
    "        'line_average': True, 'streamplot': True, 'relative_winds': True,\n",
    "        'data_fn': 'angles', 'load_line_coords_winds': False, \n",
    "        'save_ds': False, 'fontsize': 14}\n",
    "\n",
    "grid = pyart.io.read_grid(filename, include_fields=['reflectivity'])\n",
    "\n",
    "# fig, ax = plt.subplots(figsize=(12, 6))\n",
    "\n",
    "tint.visualisation.figures.vertical_cross_section(tracks_obj, grid, params)"
   ]
  },
  {
   "cell_type": "code",
   "execution_count": 185,
   "id": "15ddd3c3",
   "metadata": {
    "ExecuteTime": {
     "end_time": "2021-11-28T21:28:45.655648Z",
     "start_time": "2021-11-28T21:28:45.646699Z"
    }
   },
   "outputs": [],
   "source": [
    "tracks_obj.params['EXCL_THRESH']['SMALL_AREA'] = 500"
   ]
  },
  {
   "cell_type": "code",
   "execution_count": 64,
   "id": "cc03d0fd",
   "metadata": {
    "ExecuteTime": {
     "end_time": "2021-12-06T01:43:44.147531Z",
     "start_time": "2021-12-06T01:43:38.571249Z"
    }
   },
   "outputs": [
    {
     "ename": "IndexError",
     "evalue": "single positional indexer is out-of-bounds",
     "output_type": "error",
     "traceback": [
      "\u001b[0;31m---------------------------------------------------------------------------\u001b[0m",
      "\u001b[0;31mIndexError\u001b[0m                                Traceback (most recent call last)",
      "\u001b[0;32m/tmp/ipykernel_19900/573854461.py\u001b[0m in \u001b[0;36m<module>\u001b[0;34m\u001b[0m\n\u001b[1;32m     12\u001b[0m     'load_line_coords_winds': True, 'fontsize': 14}\n\u001b[1;32m     13\u001b[0m \u001b[0;34m\u001b[0m\u001b[0m\n\u001b[0;32m---> 14\u001b[0;31m tint.visualisation.figures.vertical_cross_section(\n\u001b[0m\u001b[1;32m     15\u001b[0m     tracks_obj, grid, params=params)\n",
      "\u001b[0;32m~/Documents/TINT/tint/visualisation/figures.py\u001b[0m in \u001b[0;36mvertical_cross_section\u001b[0;34m(tracks, grid, params, alt, fig, ax, date_time)\u001b[0m\n\u001b[1;32m    204\u001b[0m         \u001b[0mparams\u001b[0m\u001b[0;34m,\u001b[0m \u001b[0malt\u001b[0m\u001b[0;34m,\u001b[0m \u001b[0mfig\u001b[0m\u001b[0;34m,\u001b[0m \u001b[0max\u001b[0m\u001b[0;34m,\u001b[0m \u001b[0mdate_time\u001b[0m\u001b[0;34m,\u001b[0m \u001b[0mdisplay\u001b[0m\u001b[0;34m,\u001b[0m \u001b[0malt_ind\u001b[0m\u001b[0;34m,\u001b[0m \u001b[0mcmap\u001b[0m\u001b[0;34m,\u001b[0m\u001b[0;34m\u001b[0m\u001b[0;34m\u001b[0m\u001b[0m\n\u001b[1;32m    205\u001b[0m         vmin, vmax, projection] = init_cs\n\u001b[0;32m--> 206\u001b[0;31m     \u001b[0mlon\u001b[0m\u001b[0;34m,\u001b[0m \u001b[0mlat\u001b[0m\u001b[0;34m,\u001b[0m \u001b[0mx\u001b[0m\u001b[0;34m,\u001b[0m \u001b[0my\u001b[0m \u001b[0;34m=\u001b[0m \u001b[0mvh\u001b[0m\u001b[0;34m.\u001b[0m\u001b[0mget_center_coords\u001b[0m\u001b[0;34m(\u001b[0m\u001b[0mtracks\u001b[0m\u001b[0;34m,\u001b[0m \u001b[0mgrid\u001b[0m\u001b[0;34m,\u001b[0m \u001b[0mparams\u001b[0m\u001b[0;34m,\u001b[0m \u001b[0mdate_time\u001b[0m\u001b[0;34m)\u001b[0m\u001b[0;34m\u001b[0m\u001b[0;34m\u001b[0m\u001b[0m\n\u001b[0m\u001b[1;32m    207\u001b[0m     \u001b[0mx_lim\u001b[0m \u001b[0;34m=\u001b[0m \u001b[0;34m(\u001b[0m\u001b[0mx\u001b[0m \u001b[0;34m+\u001b[0m \u001b[0mnp\u001b[0m\u001b[0;34m.\u001b[0m\u001b[0marray\u001b[0m\u001b[0;34m(\u001b[0m\u001b[0;34m[\u001b[0m\u001b[0;34m-\u001b[0m\u001b[0;36m60000\u001b[0m\u001b[0;34m,\u001b[0m \u001b[0;36m60000\u001b[0m\u001b[0;34m]\u001b[0m\u001b[0;34m)\u001b[0m\u001b[0;34m)\u001b[0m \u001b[0;34m/\u001b[0m \u001b[0;36m1000\u001b[0m\u001b[0;34m\u001b[0m\u001b[0;34m\u001b[0m\u001b[0m\n\u001b[1;32m    208\u001b[0m     \u001b[0my_lim\u001b[0m \u001b[0;34m=\u001b[0m \u001b[0;34m(\u001b[0m\u001b[0my\u001b[0m \u001b[0;34m+\u001b[0m \u001b[0mnp\u001b[0m\u001b[0;34m.\u001b[0m\u001b[0marray\u001b[0m\u001b[0;34m(\u001b[0m\u001b[0;34m[\u001b[0m\u001b[0;34m-\u001b[0m\u001b[0;36m60000\u001b[0m\u001b[0;34m,\u001b[0m \u001b[0;36m60000\u001b[0m\u001b[0;34m]\u001b[0m\u001b[0;34m)\u001b[0m\u001b[0;34m)\u001b[0m \u001b[0;34m/\u001b[0m \u001b[0;36m1000\u001b[0m\u001b[0;34m\u001b[0m\u001b[0;34m\u001b[0m\u001b[0m\n",
      "\u001b[0;32m~/Documents/TINT/tint/visualisation/vertical_helpers.py\u001b[0m in \u001b[0;36mget_center_coords\u001b[0;34m(tracks, grid, params, date_time)\u001b[0m\n\u001b[1;32m    173\u001b[0m             \u001b[0mlon\u001b[0m\u001b[0;34m,\u001b[0m \u001b[0mlat\u001b[0m \u001b[0;34m=\u001b[0m \u001b[0mcartesian_to_geographic\u001b[0m\u001b[0;34m(\u001b[0m\u001b[0mx\u001b[0m\u001b[0;34m,\u001b[0m \u001b[0my\u001b[0m\u001b[0;34m,\u001b[0m \u001b[0mprojparams\u001b[0m\u001b[0;34m)\u001b[0m\u001b[0;34m\u001b[0m\u001b[0;34m\u001b[0m\u001b[0m\n\u001b[1;32m    174\u001b[0m         \u001b[0;32melse\u001b[0m\u001b[0;34m:\u001b[0m\u001b[0;34m\u001b[0m\u001b[0;34m\u001b[0m\u001b[0m\n\u001b[0;32m--> 175\u001b[0;31m             \u001b[0mlon\u001b[0m \u001b[0;34m=\u001b[0m \u001b[0mtmp_tracks\u001b[0m\u001b[0;34m[\u001b[0m\u001b[0;34m'lon'\u001b[0m\u001b[0;34m]\u001b[0m\u001b[0;34m.\u001b[0m\u001b[0miloc\u001b[0m\u001b[0;34m[\u001b[0m\u001b[0;36m0\u001b[0m\u001b[0;34m]\u001b[0m\u001b[0;34m\u001b[0m\u001b[0;34m\u001b[0m\u001b[0m\n\u001b[0m\u001b[1;32m    176\u001b[0m             \u001b[0mlat\u001b[0m \u001b[0;34m=\u001b[0m \u001b[0mtmp_tracks\u001b[0m\u001b[0;34m[\u001b[0m\u001b[0;34m'lat'\u001b[0m\u001b[0;34m]\u001b[0m\u001b[0;34m.\u001b[0m\u001b[0miloc\u001b[0m\u001b[0;34m[\u001b[0m\u001b[0;36m0\u001b[0m\u001b[0;34m]\u001b[0m\u001b[0;34m\u001b[0m\u001b[0;34m\u001b[0m\u001b[0m\n\u001b[1;32m    177\u001b[0m             \u001b[0mx\u001b[0m \u001b[0;34m=\u001b[0m \u001b[0mtmp_tracks\u001b[0m\u001b[0;34m[\u001b[0m\u001b[0;34m'grid_x'\u001b[0m\u001b[0;34m]\u001b[0m\u001b[0;34m.\u001b[0m\u001b[0miloc\u001b[0m\u001b[0;34m[\u001b[0m\u001b[0;36m0\u001b[0m\u001b[0;34m]\u001b[0m\u001b[0;34m\u001b[0m\u001b[0;34m\u001b[0m\u001b[0m\n",
      "\u001b[0;32m~/anaconda3/envs/CPOL_analysis/lib/python3.8/site-packages/pandas/core/indexing.py\u001b[0m in \u001b[0;36m__getitem__\u001b[0;34m(self, key)\u001b[0m\n\u001b[1;32m    929\u001b[0m \u001b[0;34m\u001b[0m\u001b[0m\n\u001b[1;32m    930\u001b[0m             \u001b[0mmaybe_callable\u001b[0m \u001b[0;34m=\u001b[0m \u001b[0mcom\u001b[0m\u001b[0;34m.\u001b[0m\u001b[0mapply_if_callable\u001b[0m\u001b[0;34m(\u001b[0m\u001b[0mkey\u001b[0m\u001b[0;34m,\u001b[0m \u001b[0mself\u001b[0m\u001b[0;34m.\u001b[0m\u001b[0mobj\u001b[0m\u001b[0;34m)\u001b[0m\u001b[0;34m\u001b[0m\u001b[0;34m\u001b[0m\u001b[0m\n\u001b[0;32m--> 931\u001b[0;31m             \u001b[0;32mreturn\u001b[0m \u001b[0mself\u001b[0m\u001b[0;34m.\u001b[0m\u001b[0m_getitem_axis\u001b[0m\u001b[0;34m(\u001b[0m\u001b[0mmaybe_callable\u001b[0m\u001b[0;34m,\u001b[0m \u001b[0maxis\u001b[0m\u001b[0;34m=\u001b[0m\u001b[0maxis\u001b[0m\u001b[0;34m)\u001b[0m\u001b[0;34m\u001b[0m\u001b[0;34m\u001b[0m\u001b[0m\n\u001b[0m\u001b[1;32m    932\u001b[0m \u001b[0;34m\u001b[0m\u001b[0m\n\u001b[1;32m    933\u001b[0m     \u001b[0;32mdef\u001b[0m \u001b[0m_is_scalar_access\u001b[0m\u001b[0;34m(\u001b[0m\u001b[0mself\u001b[0m\u001b[0;34m,\u001b[0m \u001b[0mkey\u001b[0m\u001b[0;34m:\u001b[0m \u001b[0mtuple\u001b[0m\u001b[0;34m)\u001b[0m\u001b[0;34m:\u001b[0m\u001b[0;34m\u001b[0m\u001b[0;34m\u001b[0m\u001b[0m\n",
      "\u001b[0;32m~/anaconda3/envs/CPOL_analysis/lib/python3.8/site-packages/pandas/core/indexing.py\u001b[0m in \u001b[0;36m_getitem_axis\u001b[0;34m(self, key, axis)\u001b[0m\n\u001b[1;32m   1564\u001b[0m \u001b[0;34m\u001b[0m\u001b[0m\n\u001b[1;32m   1565\u001b[0m             \u001b[0;31m# validate the location\u001b[0m\u001b[0;34m\u001b[0m\u001b[0;34m\u001b[0m\u001b[0;34m\u001b[0m\u001b[0m\n\u001b[0;32m-> 1566\u001b[0;31m             \u001b[0mself\u001b[0m\u001b[0;34m.\u001b[0m\u001b[0m_validate_integer\u001b[0m\u001b[0;34m(\u001b[0m\u001b[0mkey\u001b[0m\u001b[0;34m,\u001b[0m \u001b[0maxis\u001b[0m\u001b[0;34m)\u001b[0m\u001b[0;34m\u001b[0m\u001b[0;34m\u001b[0m\u001b[0m\n\u001b[0m\u001b[1;32m   1567\u001b[0m \u001b[0;34m\u001b[0m\u001b[0m\n\u001b[1;32m   1568\u001b[0m             \u001b[0;32mreturn\u001b[0m \u001b[0mself\u001b[0m\u001b[0;34m.\u001b[0m\u001b[0mobj\u001b[0m\u001b[0;34m.\u001b[0m\u001b[0m_ixs\u001b[0m\u001b[0;34m(\u001b[0m\u001b[0mkey\u001b[0m\u001b[0;34m,\u001b[0m \u001b[0maxis\u001b[0m\u001b[0;34m=\u001b[0m\u001b[0maxis\u001b[0m\u001b[0;34m)\u001b[0m\u001b[0;34m\u001b[0m\u001b[0;34m\u001b[0m\u001b[0m\n",
      "\u001b[0;32m~/anaconda3/envs/CPOL_analysis/lib/python3.8/site-packages/pandas/core/indexing.py\u001b[0m in \u001b[0;36m_validate_integer\u001b[0;34m(self, key, axis)\u001b[0m\n\u001b[1;32m   1498\u001b[0m         \u001b[0mlen_axis\u001b[0m \u001b[0;34m=\u001b[0m \u001b[0mlen\u001b[0m\u001b[0;34m(\u001b[0m\u001b[0mself\u001b[0m\u001b[0;34m.\u001b[0m\u001b[0mobj\u001b[0m\u001b[0;34m.\u001b[0m\u001b[0m_get_axis\u001b[0m\u001b[0;34m(\u001b[0m\u001b[0maxis\u001b[0m\u001b[0;34m)\u001b[0m\u001b[0;34m)\u001b[0m\u001b[0;34m\u001b[0m\u001b[0;34m\u001b[0m\u001b[0m\n\u001b[1;32m   1499\u001b[0m         \u001b[0;32mif\u001b[0m \u001b[0mkey\u001b[0m \u001b[0;34m>=\u001b[0m \u001b[0mlen_axis\u001b[0m \u001b[0;32mor\u001b[0m \u001b[0mkey\u001b[0m \u001b[0;34m<\u001b[0m \u001b[0;34m-\u001b[0m\u001b[0mlen_axis\u001b[0m\u001b[0;34m:\u001b[0m\u001b[0;34m\u001b[0m\u001b[0;34m\u001b[0m\u001b[0m\n\u001b[0;32m-> 1500\u001b[0;31m             \u001b[0;32mraise\u001b[0m \u001b[0mIndexError\u001b[0m\u001b[0;34m(\u001b[0m\u001b[0;34m\"single positional indexer is out-of-bounds\"\u001b[0m\u001b[0;34m)\u001b[0m\u001b[0;34m\u001b[0m\u001b[0;34m\u001b[0m\u001b[0m\n\u001b[0m\u001b[1;32m   1501\u001b[0m \u001b[0;34m\u001b[0m\u001b[0m\n\u001b[1;32m   1502\u001b[0m     \u001b[0;31m# -------------------------------------------------------------------\u001b[0m\u001b[0;34m\u001b[0m\u001b[0;34m\u001b[0m\u001b[0;34m\u001b[0m\u001b[0m\n",
      "\u001b[0;31mIndexError\u001b[0m: single positional indexer is out-of-bounds"
     ]
    },
    {
     "name": "stdout",
     "output_type": "stream",
     "text": [
      "> \u001b[0;32m/home/student.unimelb.edu.au/shorte1/anaconda3/envs/CPOL_analysis/lib/python3.8/site-packages/pandas/core/indexing.py\u001b[0m(1500)\u001b[0;36m_validate_integer\u001b[0;34m()\u001b[0m\n",
      "\u001b[0;32m   1498 \u001b[0;31m        \u001b[0mlen_axis\u001b[0m \u001b[0;34m=\u001b[0m \u001b[0mlen\u001b[0m\u001b[0;34m(\u001b[0m\u001b[0mself\u001b[0m\u001b[0;34m.\u001b[0m\u001b[0mobj\u001b[0m\u001b[0;34m.\u001b[0m\u001b[0m_get_axis\u001b[0m\u001b[0;34m(\u001b[0m\u001b[0maxis\u001b[0m\u001b[0;34m)\u001b[0m\u001b[0;34m)\u001b[0m\u001b[0;34m\u001b[0m\u001b[0;34m\u001b[0m\u001b[0m\n",
      "\u001b[0m\u001b[0;32m   1499 \u001b[0;31m        \u001b[0;32mif\u001b[0m \u001b[0mkey\u001b[0m \u001b[0;34m>=\u001b[0m \u001b[0mlen_axis\u001b[0m \u001b[0;32mor\u001b[0m \u001b[0mkey\u001b[0m \u001b[0;34m<\u001b[0m \u001b[0;34m-\u001b[0m\u001b[0mlen_axis\u001b[0m\u001b[0;34m:\u001b[0m\u001b[0;34m\u001b[0m\u001b[0;34m\u001b[0m\u001b[0m\n",
      "\u001b[0m\u001b[0;32m-> 1500 \u001b[0;31m            \u001b[0;32mraise\u001b[0m \u001b[0mIndexError\u001b[0m\u001b[0;34m(\u001b[0m\u001b[0;34m\"single positional indexer is out-of-bounds\"\u001b[0m\u001b[0;34m)\u001b[0m\u001b[0;34m\u001b[0m\u001b[0;34m\u001b[0m\u001b[0m\n",
      "\u001b[0m\u001b[0;32m   1501 \u001b[0;31m\u001b[0;34m\u001b[0m\u001b[0m\n",
      "\u001b[0m\u001b[0;32m   1502 \u001b[0;31m    \u001b[0;31m# -------------------------------------------------------------------\u001b[0m\u001b[0;34m\u001b[0m\u001b[0;34m\u001b[0m\u001b[0;34m\u001b[0m\u001b[0m\n",
      "\u001b[0m\n",
      "ipdb> q\n"
     ]
    },
    {
     "data": {
      "image/png": "[encoded data removed]",
      "text/plain": [
       "<Figure size 1080x252 with 1 Axes>"
      ]
     },
     "metadata": {
      "needs_background": "light"
     },
     "output_type": "display_data"
    }
   ],
   "source": [
    "filename=filenames[80]\n",
    "grid = pyart.io.read_grid(filename, include_fields=['reflectivity'])\n",
    "fig_dir = '/home/student.unimelb.edu.au/shorte1/Documents/TINT_figures'\n",
    "uid_ind = '4'\n",
    "\n",
    "params = {\n",
    "    'uid_ind': uid_ind, 'line_coords': True, 'center_cell': False, \n",
    "    'cell_ind': 10, 'winds': False, 'winds_fn': filename,\n",
    "    'direction': 'perpendicular', 'crosshair': True, \n",
    "    'save_dir': fig_dir, 'line_average': True, 'streamplot': False, \n",
    "    'relative_winds': True, 'data_fn': None, \n",
    "    'load_line_coords_winds': True, 'fontsize': 14}\n",
    "\n",
    "tint.visualisation.figures.vertical_cross_section(\n",
    "    tracks_obj, grid, params=params)"
   ]
  },
  {
   "cell_type": "code",
   "execution_count": 6,
   "id": "afb9229d",
   "metadata": {
    "ExecuteTime": {
     "end_time": "2021-11-18T02:29:15.605583Z",
     "start_time": "2021-11-18T02:29:15.591080Z"
    }
   },
   "outputs": [
    {
     "name": "stdout",
     "output_type": "stream",
     "text": [
      "Gathering files.\n"
     ]
    }
   ],
   "source": [
    "dates = np.arange(\n",
    "    np.datetime64('2006-02-09 07:00'), \n",
    "    np.datetime64('2006-02-09 07:30'),\n",
    "    np.timedelta64(10, 'm'))\n",
    "\n",
    "filenames, start_time, end_time = cf.CPOL_files_from_datetime_list(\n",
    "    dates, base_dir=base_dir)"
   ]
  },
  {
   "cell_type": "code",
   "execution_count": 223,
   "id": "b85f07e5",
   "metadata": {
    "ExecuteTime": {
     "end_time": "2021-11-28T23:10:28.847408Z",
     "start_time": "2021-11-28T23:10:24.313261Z"
    },
    "scrolled": true
   },
   "outputs": [
    {
     "ename": "IndexError",
     "evalue": "index 0 is out of bounds for axis 0 with size 0",
     "output_type": "error",
     "traceback": [
      "\u001b[0;31m---------------------------------------------------------------------------\u001b[0m",
      "\u001b[0;31mIndexError\u001b[0m                                Traceback (most recent call last)",
      "\u001b[0;32m/tmp/ipykernel_31250/2122301574.py\u001b[0m in \u001b[0;36m<module>\u001b[0;34m\u001b[0m\n\u001b[1;32m      9\u001b[0m     for fn in filenames)\n\u001b[1;32m     10\u001b[0m \u001b[0;34m\u001b[0m\u001b[0m\n\u001b[0;32m---> 11\u001b[0;31m tint.visualisation.animate.animate(\n\u001b[0m\u001b[1;32m     12\u001b[0m     \u001b[0mtracks_obj\u001b[0m\u001b[0;34m,\u001b[0m \u001b[0mgrids\u001b[0m\u001b[0;34m,\u001b[0m \u001b[0mparams\u001b[0m\u001b[0;34m,\u001b[0m \u001b[0mfig_type\u001b[0m\u001b[0;34m=\u001b[0m\u001b[0;34m'two_level'\u001b[0m\u001b[0;34m,\u001b[0m\u001b[0;34m\u001b[0m\u001b[0;34m\u001b[0m\u001b[0m\n\u001b[1;32m     13\u001b[0m     \u001b[0mstart_datetime\u001b[0m\u001b[0;34m=\u001b[0m\u001b[0mnp\u001b[0m\u001b[0;34m.\u001b[0m\u001b[0mdatetime64\u001b[0m\u001b[0;34m(\u001b[0m\u001b[0;34m'2006-02-09 07:00'\u001b[0m\u001b[0;34m)\u001b[0m\u001b[0;34m,\u001b[0m\u001b[0;34m\u001b[0m\u001b[0;34m\u001b[0m\u001b[0m\n",
      "\u001b[0;32m~/Documents/TINT/tint/visualisation/animate.py\u001b[0m in \u001b[0;36manimate\u001b[0;34m(tracks, grids, params, fig_type, fps, start_datetime, end_datetime, keep_frames)\u001b[0m\n\u001b[1;32m     69\u001b[0m     \u001b[0mdate_times\u001b[0m \u001b[0;34m=\u001b[0m \u001b[0mget_times\u001b[0m\u001b[0;34m(\u001b[0m\u001b[0mparams\u001b[0m\u001b[0;34m,\u001b[0m \u001b[0mtracks\u001b[0m\u001b[0;34m,\u001b[0m \u001b[0mstart_datetime\u001b[0m\u001b[0;34m,\u001b[0m \u001b[0mend_datetime\u001b[0m\u001b[0;34m)\u001b[0m\u001b[0;34m\u001b[0m\u001b[0;34m\u001b[0m\u001b[0m\n\u001b[1;32m     70\u001b[0m \u001b[0;34m\u001b[0m\u001b[0m\n\u001b[0;32m---> 71\u001b[0;31m     grid, grid_time, date_times, params = check_times(\n\u001b[0m\u001b[1;32m     72\u001b[0m         grids, date_times, params)\n\u001b[1;32m     73\u001b[0m     \u001b[0mfn\u001b[0m \u001b[0;34m=\u001b[0m \u001b[0mfig_type\u001b[0m\u001b[0;34m\u001b[0m\u001b[0;34m\u001b[0m\u001b[0m\n",
      "\u001b[0;32m~/Documents/TINT/tint/visualisation/animate.py\u001b[0m in \u001b[0;36mcheck_times\u001b[0;34m(grids, date_times, params)\u001b[0m\n\u001b[1;32m     38\u001b[0m     \u001b[0mgrid_time\u001b[0m \u001b[0;34m=\u001b[0m \u001b[0mgrid_time\u001b[0m\u001b[0;34m.\u001b[0m\u001b[0mastype\u001b[0m\u001b[0;34m(\u001b[0m\u001b[0;34m'datetime64[m]'\u001b[0m\u001b[0;34m)\u001b[0m\u001b[0;34m\u001b[0m\u001b[0;34m\u001b[0m\u001b[0m\n\u001b[1;32m     39\u001b[0m     \u001b[0;32mif\u001b[0m \u001b[0mgrid_time\u001b[0m \u001b[0;34m>\u001b[0m \u001b[0mdate_times\u001b[0m\u001b[0;34m[\u001b[0m\u001b[0;36m0\u001b[0m\u001b[0;34m]\u001b[0m\u001b[0;34m:\u001b[0m\u001b[0;34m\u001b[0m\u001b[0;34m\u001b[0m\u001b[0m\n\u001b[0;32m---> 40\u001b[0;31m         \u001b[0mind\u001b[0m \u001b[0;34m=\u001b[0m \u001b[0mnp\u001b[0m\u001b[0;34m.\u001b[0m\u001b[0margwhere\u001b[0m\u001b[0;34m(\u001b[0m\u001b[0mdate_times\u001b[0m \u001b[0;34m==\u001b[0m \u001b[0mgrid_time\u001b[0m\u001b[0;34m)\u001b[0m\u001b[0;34m[\u001b[0m\u001b[0;36m0\u001b[0m\u001b[0;34m,\u001b[0m \u001b[0;36m0\u001b[0m\u001b[0;34m]\u001b[0m\u001b[0;34m\u001b[0m\u001b[0;34m\u001b[0m\u001b[0m\n\u001b[0m\u001b[1;32m     41\u001b[0m         \u001b[0;32mif\u001b[0m \u001b[0;32mnot\u001b[0m \u001b[0mind\u001b[0m\u001b[0;34m:\u001b[0m\u001b[0;34m\u001b[0m\u001b[0;34m\u001b[0m\u001b[0m\n\u001b[1;32m     42\u001b[0m             \u001b[0mprint\u001b[0m\u001b[0;34m(\u001b[0m\u001b[0;34m'Object occurs before grids provided. Aborting'\u001b[0m\u001b[0;34m)\u001b[0m\u001b[0;34m\u001b[0m\u001b[0;34m\u001b[0m\u001b[0m\n",
      "\u001b[0;31mIndexError\u001b[0m: index 0 is out of bounds for axis 0 with size 0"
     ]
    },
    {
     "name": "stdout",
     "output_type": "stream",
     "text": [
      "> \u001b[0;32m/home/student.unimelb.edu.au/shorte1/Documents/TINT/tint/visualisation/animate.py\u001b[0m(40)\u001b[0;36mcheck_times\u001b[0;34m()\u001b[0m\n",
      "\u001b[0;32m     38 \u001b[0;31m    \u001b[0mgrid_time\u001b[0m \u001b[0;34m=\u001b[0m \u001b[0mgrid_time\u001b[0m\u001b[0;34m.\u001b[0m\u001b[0mastype\u001b[0m\u001b[0;34m(\u001b[0m\u001b[0;34m'datetime64[m]'\u001b[0m\u001b[0;34m)\u001b[0m\u001b[0;34m\u001b[0m\u001b[0;34m\u001b[0m\u001b[0m\n",
      "\u001b[0m\u001b[0;32m     39 \u001b[0;31m    \u001b[0;32mif\u001b[0m \u001b[0mgrid_time\u001b[0m \u001b[0;34m>\u001b[0m \u001b[0mdate_times\u001b[0m\u001b[0;34m[\u001b[0m\u001b[0;36m0\u001b[0m\u001b[0;34m]\u001b[0m\u001b[0;34m:\u001b[0m\u001b[0;34m\u001b[0m\u001b[0;34m\u001b[0m\u001b[0m\n",
      "\u001b[0m\u001b[0;32m---> 40 \u001b[0;31m        \u001b[0mind\u001b[0m \u001b[0;34m=\u001b[0m \u001b[0mnp\u001b[0m\u001b[0;34m.\u001b[0m\u001b[0margwhere\u001b[0m\u001b[0;34m(\u001b[0m\u001b[0mdate_times\u001b[0m \u001b[0;34m==\u001b[0m \u001b[0mgrid_time\u001b[0m\u001b[0;34m)\u001b[0m\u001b[0;34m[\u001b[0m\u001b[0;36m0\u001b[0m\u001b[0;34m,\u001b[0m \u001b[0;36m0\u001b[0m\u001b[0;34m]\u001b[0m\u001b[0;34m\u001b[0m\u001b[0;34m\u001b[0m\u001b[0m\n",
      "\u001b[0m\u001b[0;32m     41 \u001b[0;31m        \u001b[0;32mif\u001b[0m \u001b[0;32mnot\u001b[0m \u001b[0mind\u001b[0m\u001b[0;34m:\u001b[0m\u001b[0;34m\u001b[0m\u001b[0;34m\u001b[0m\u001b[0m\n",
      "\u001b[0m\u001b[0;32m     42 \u001b[0;31m            \u001b[0mprint\u001b[0m\u001b[0;34m(\u001b[0m\u001b[0;34m'Object occurs before grids provided. Aborting'\u001b[0m\u001b[0;34m)\u001b[0m\u001b[0;34m\u001b[0m\u001b[0;34m\u001b[0m\u001b[0m\n",
      "\u001b[0m\n",
      "ipdb> q\n"
     ]
    }
   ],
   "source": [
    "params = {\n",
    "    'uid_ind': None, 'line_coords': False, 'center_cell': False, \n",
    "    'cell_ind': 10, 'winds': False, 'winds_fn': filenames, \n",
    "    'crosshair': True, 'save_dir': fig_dir, 'alt': 3000, \n",
    "    'colorbar_flag': True, 'leg_loc': 1, 'fontsize': 18}\n",
    "\n",
    "grids = (\n",
    "    pyart.io.read_grid(fn, include_fields = ['reflectivity'])\n",
    "    for fn in filenames)\n",
    "\n",
    "tint.visualisation.animate.animate(\n",
    "    tracks_obj, grids, params, fig_type='two_level', \n",
    "    start_datetime=np.datetime64('2006-02-09 07:00'), \n",
    "    end_datetime=np.datetime64('2006-02-09 07:30'))"
   ]
  },
  {
   "cell_type": "markdown",
   "id": "9c5be857",
   "metadata": {},
   "source": [
    "## Generate WRF crosssections"
   ]
  },
  {
   "cell_type": "code",
   "execution_count": null,
   "id": "fa924700",
   "metadata": {},
   "outputs": [],
   "source": []
  },
  {
   "cell_type": "code",
   "execution_count": 10,
   "id": "d623966c",
   "metadata": {
    "ExecuteTime": {
     "end_time": "2021-10-12T00:54:33.155612Z",
     "start_time": "2021-10-12T00:54:29.490510Z"
    },
    "scrolled": true
   },
   "outputs": [
    {
     "name": "stdout",
     "output_type": "stream",
     "text": [
      "Generating frame 2006-02-09T05:10:00.000000000\n"
     ]
    },
    {
     "ename": "KeyError",
     "evalue": "'orientation_alt'",
     "output_type": "error",
     "traceback": [
      "\u001b[0;31m---------------------------------------------------------------------------\u001b[0m",
      "\u001b[0;31mKeyError\u001b[0m                                  Traceback (most recent call last)",
      "\u001b[0;32m~/anaconda3/envs/CPOL_analysis/lib/python3.8/site-packages/pandas/core/indexes/base.py\u001b[0m in \u001b[0;36mget_loc\u001b[0;34m(self, key, method, tolerance)\u001b[0m\n\u001b[1;32m   3360\u001b[0m             \u001b[0;32mtry\u001b[0m\u001b[0;34m:\u001b[0m\u001b[0;34m\u001b[0m\u001b[0;34m\u001b[0m\u001b[0m\n\u001b[0;32m-> 3361\u001b[0;31m                 \u001b[0;32mreturn\u001b[0m \u001b[0mself\u001b[0m\u001b[0;34m.\u001b[0m\u001b[0m_engine\u001b[0m\u001b[0;34m.\u001b[0m\u001b[0mget_loc\u001b[0m\u001b[0;34m(\u001b[0m\u001b[0mcasted_key\u001b[0m\u001b[0;34m)\u001b[0m\u001b[0;34m\u001b[0m\u001b[0;34m\u001b[0m\u001b[0m\n\u001b[0m\u001b[1;32m   3362\u001b[0m             \u001b[0;32mexcept\u001b[0m \u001b[0mKeyError\u001b[0m \u001b[0;32mas\u001b[0m \u001b[0merr\u001b[0m\u001b[0;34m:\u001b[0m\u001b[0;34m\u001b[0m\u001b[0;34m\u001b[0m\u001b[0m\n",
      "\u001b[0;32m~/anaconda3/envs/CPOL_analysis/lib/python3.8/site-packages/pandas/_libs/index.pyx\u001b[0m in \u001b[0;36mpandas._libs.index.IndexEngine.get_loc\u001b[0;34m()\u001b[0m\n",
      "\u001b[0;32m~/anaconda3/envs/CPOL_analysis/lib/python3.8/site-packages/pandas/_libs/index.pyx\u001b[0m in \u001b[0;36mpandas._libs.index.IndexEngine.get_loc\u001b[0;34m()\u001b[0m\n",
      "\u001b[0;32mpandas/_libs/hashtable_class_helper.pxi\u001b[0m in \u001b[0;36mpandas._libs.hashtable.PyObjectHashTable.get_item\u001b[0;34m()\u001b[0m\n",
      "\u001b[0;32mpandas/_libs/hashtable_class_helper.pxi\u001b[0m in \u001b[0;36mpandas._libs.hashtable.PyObjectHashTable.get_item\u001b[0;34m()\u001b[0m\n",
      "\u001b[0;31mKeyError\u001b[0m: 'orientation_alt'",
      "\nThe above exception was the direct cause of the following exception:\n",
      "\u001b[0;31mKeyError\u001b[0m                                  Traceback (most recent call last)",
      "\u001b[0;32m/tmp/ipykernel_24478/2136324494.py\u001b[0m in \u001b[0;36m<module>\u001b[0;34m\u001b[0m\n\u001b[1;32m     14\u001b[0m         for fn in filenames)\n\u001b[1;32m     15\u001b[0m \u001b[0;34m\u001b[0m\u001b[0m\n\u001b[0;32m---> 16\u001b[0;31m     \u001b[0mtint\u001b[0m\u001b[0;34m.\u001b[0m\u001b[0mvisualisation\u001b[0m\u001b[0;34m.\u001b[0m\u001b[0manimate\u001b[0m\u001b[0;34m.\u001b[0m\u001b[0manimate\u001b[0m\u001b[0;34m(\u001b[0m\u001b[0mtracks_obj\u001b[0m\u001b[0;34m,\u001b[0m \u001b[0mgrids\u001b[0m\u001b[0;34m,\u001b[0m \u001b[0mparams\u001b[0m\u001b[0;34m)\u001b[0m\u001b[0;34m\u001b[0m\u001b[0;34m\u001b[0m\u001b[0m\n\u001b[0m",
      "\u001b[0;32m~/Documents/TINT/tint/visualisation/animate.py\u001b[0m in \u001b[0;36manimate\u001b[0;34m(tracks, grids, params, fig_type, fps, start_datetime, end_datetime, keep_frames)\u001b[0m\n\u001b[1;32m     87\u001b[0m         \u001b[0;32mif\u001b[0m \u001b[0mparams\u001b[0m\u001b[0;34m[\u001b[0m\u001b[0;34m'winds'\u001b[0m\u001b[0;34m]\u001b[0m\u001b[0;34m:\u001b[0m\u001b[0;34m\u001b[0m\u001b[0;34m\u001b[0m\u001b[0m\n\u001b[1;32m     88\u001b[0m             \u001b[0mtmp_params\u001b[0m\u001b[0;34m[\u001b[0m\u001b[0;34m'winds_fn'\u001b[0m\u001b[0;34m]\u001b[0m \u001b[0;34m=\u001b[0m \u001b[0mparams\u001b[0m\u001b[0;34m[\u001b[0m\u001b[0;34m'winds_fn'\u001b[0m\u001b[0;34m]\u001b[0m\u001b[0;34m[\u001b[0m\u001b[0mi\u001b[0m\u001b[0;34m]\u001b[0m\u001b[0;34m\u001b[0m\u001b[0;34m\u001b[0m\u001b[0m\n\u001b[0;32m---> 89\u001b[0;31m         anim_func(\n\u001b[0m\u001b[1;32m     90\u001b[0m             tracks, grid, tmp_params, date_time=date_times[i])\n\u001b[1;32m     91\u001b[0m         \u001b[0mgrid\u001b[0m \u001b[0;34m=\u001b[0m \u001b[0mnext\u001b[0m\u001b[0;34m(\u001b[0m\u001b[0mgrids\u001b[0m\u001b[0;34m)\u001b[0m\u001b[0;34m\u001b[0m\u001b[0;34m\u001b[0m\u001b[0m\n",
      "\u001b[0;32m~/Documents/TINT/tint/visualisation/figures.py\u001b[0m in \u001b[0;36mvertical_cross_section\u001b[0;34m(tracks, grid, params, alt, fig, ax, date_time)\u001b[0m\n\u001b[1;32m    197\u001b[0m         \u001b[0mparams\u001b[0m\u001b[0;34m,\u001b[0m \u001b[0malt\u001b[0m\u001b[0;34m,\u001b[0m \u001b[0mfig\u001b[0m\u001b[0;34m,\u001b[0m \u001b[0max\u001b[0m\u001b[0;34m,\u001b[0m \u001b[0mdate_time\u001b[0m\u001b[0;34m,\u001b[0m \u001b[0mdisplay\u001b[0m\u001b[0;34m,\u001b[0m \u001b[0malt_ind\u001b[0m\u001b[0;34m,\u001b[0m \u001b[0mcmap\u001b[0m\u001b[0;34m,\u001b[0m\u001b[0;34m\u001b[0m\u001b[0;34m\u001b[0m\u001b[0m\n\u001b[1;32m    198\u001b[0m         vmin, vmax, projection] = init_cs\n\u001b[0;32m--> 199\u001b[0;31m     \u001b[0mlon\u001b[0m\u001b[0;34m,\u001b[0m \u001b[0mlat\u001b[0m\u001b[0;34m,\u001b[0m \u001b[0mx\u001b[0m\u001b[0;34m,\u001b[0m \u001b[0my\u001b[0m \u001b[0;34m=\u001b[0m \u001b[0mvh\u001b[0m\u001b[0;34m.\u001b[0m\u001b[0mget_center_coords\u001b[0m\u001b[0;34m(\u001b[0m\u001b[0mtracks\u001b[0m\u001b[0;34m,\u001b[0m \u001b[0mgrid\u001b[0m\u001b[0;34m,\u001b[0m \u001b[0mparams\u001b[0m\u001b[0;34m,\u001b[0m \u001b[0mdate_time\u001b[0m\u001b[0;34m)\u001b[0m\u001b[0;34m\u001b[0m\u001b[0;34m\u001b[0m\u001b[0m\n\u001b[0m\u001b[1;32m    200\u001b[0m     \u001b[0mx_lim\u001b[0m \u001b[0;34m=\u001b[0m \u001b[0;34m(\u001b[0m\u001b[0mx\u001b[0m \u001b[0;34m+\u001b[0m \u001b[0mnp\u001b[0m\u001b[0;34m.\u001b[0m\u001b[0marray\u001b[0m\u001b[0;34m(\u001b[0m\u001b[0;34m[\u001b[0m\u001b[0;34m-\u001b[0m\u001b[0;36m60000\u001b[0m\u001b[0;34m,\u001b[0m \u001b[0;36m60000\u001b[0m\u001b[0;34m]\u001b[0m\u001b[0;34m)\u001b[0m\u001b[0;34m)\u001b[0m \u001b[0;34m/\u001b[0m \u001b[0;36m1000\u001b[0m\u001b[0;34m\u001b[0m\u001b[0;34m\u001b[0m\u001b[0m\n\u001b[1;32m    201\u001b[0m     \u001b[0my_lim\u001b[0m \u001b[0;34m=\u001b[0m \u001b[0;34m(\u001b[0m\u001b[0my\u001b[0m \u001b[0;34m+\u001b[0m \u001b[0mnp\u001b[0m\u001b[0;34m.\u001b[0m\u001b[0marray\u001b[0m\u001b[0;34m(\u001b[0m\u001b[0;34m[\u001b[0m\u001b[0;34m-\u001b[0m\u001b[0;36m60000\u001b[0m\u001b[0;34m,\u001b[0m \u001b[0;36m60000\u001b[0m\u001b[0;34m]\u001b[0m\u001b[0;34m)\u001b[0m\u001b[0;34m)\u001b[0m \u001b[0;34m/\u001b[0m \u001b[0;36m1000\u001b[0m\u001b[0;34m\u001b[0m\u001b[0;34m\u001b[0m\u001b[0m\n",
      "\u001b[0;32m~/Documents/TINT/tint/visualisation/vertical_helpers.py\u001b[0m in \u001b[0;36mget_center_coords\u001b[0;34m(tracks, grid, params, date_time)\u001b[0m\n\u001b[1;32m    178\u001b[0m             \u001b[0my\u001b[0m \u001b[0;34m=\u001b[0m \u001b[0mtmp_tracks\u001b[0m\u001b[0;34m[\u001b[0m\u001b[0;34m'grid_y'\u001b[0m\u001b[0;34m]\u001b[0m\u001b[0;34m.\u001b[0m\u001b[0miloc\u001b[0m\u001b[0;34m[\u001b[0m\u001b[0;36m0\u001b[0m\u001b[0;34m]\u001b[0m\u001b[0;34m\u001b[0m\u001b[0;34m\u001b[0m\u001b[0m\n\u001b[1;32m    179\u001b[0m         \u001b[0;32mif\u001b[0m \u001b[0mparams\u001b[0m\u001b[0;34m[\u001b[0m\u001b[0;34m'line_coords'\u001b[0m\u001b[0;34m]\u001b[0m\u001b[0;34m:\u001b[0m\u001b[0;34m\u001b[0m\u001b[0;34m\u001b[0m\u001b[0m\n\u001b[0;32m--> 180\u001b[0;31m             \u001b[0mA\u001b[0m \u001b[0;34m=\u001b[0m \u001b[0mget_rotation\u001b[0m\u001b[0;34m(\u001b[0m\u001b[0mtmp_tracks\u001b[0m\u001b[0;34m[\u001b[0m\u001b[0;34m'orientation_alt'\u001b[0m\u001b[0;34m]\u001b[0m\u001b[0;34m.\u001b[0m\u001b[0miloc\u001b[0m\u001b[0;34m[\u001b[0m\u001b[0;36m0\u001b[0m\u001b[0;34m]\u001b[0m\u001b[0;34m)\u001b[0m\u001b[0;34m\u001b[0m\u001b[0;34m\u001b[0m\u001b[0m\n\u001b[0m\u001b[1;32m    181\u001b[0m             \u001b[0;34m[\u001b[0m\u001b[0mx\u001b[0m\u001b[0;34m,\u001b[0m \u001b[0my\u001b[0m\u001b[0;34m]\u001b[0m \u001b[0;34m=\u001b[0m \u001b[0mnp\u001b[0m\u001b[0;34m.\u001b[0m\u001b[0mtranspose\u001b[0m\u001b[0;34m(\u001b[0m\u001b[0mA\u001b[0m\u001b[0;34m)\u001b[0m\u001b[0;34m.\u001b[0m\u001b[0mdot\u001b[0m\u001b[0;34m(\u001b[0m\u001b[0mnp\u001b[0m\u001b[0;34m.\u001b[0m\u001b[0marray\u001b[0m\u001b[0;34m(\u001b[0m\u001b[0;34m[\u001b[0m\u001b[0mx\u001b[0m\u001b[0;34m,\u001b[0m \u001b[0my\u001b[0m\u001b[0;34m]\u001b[0m\u001b[0;34m)\u001b[0m\u001b[0;34m)\u001b[0m\u001b[0;34m\u001b[0m\u001b[0;34m\u001b[0m\u001b[0m\n\u001b[1;32m    182\u001b[0m     \u001b[0;32melse\u001b[0m\u001b[0;34m:\u001b[0m\u001b[0;34m\u001b[0m\u001b[0;34m\u001b[0m\u001b[0m\n",
      "\u001b[0;32m~/anaconda3/envs/CPOL_analysis/lib/python3.8/site-packages/pandas/core/frame.py\u001b[0m in \u001b[0;36m__getitem__\u001b[0;34m(self, key)\u001b[0m\n\u001b[1;32m   3453\u001b[0m             \u001b[0;32mif\u001b[0m \u001b[0mself\u001b[0m\u001b[0;34m.\u001b[0m\u001b[0mcolumns\u001b[0m\u001b[0;34m.\u001b[0m\u001b[0mnlevels\u001b[0m \u001b[0;34m>\u001b[0m \u001b[0;36m1\u001b[0m\u001b[0;34m:\u001b[0m\u001b[0;34m\u001b[0m\u001b[0;34m\u001b[0m\u001b[0m\n\u001b[1;32m   3454\u001b[0m                 \u001b[0;32mreturn\u001b[0m \u001b[0mself\u001b[0m\u001b[0;34m.\u001b[0m\u001b[0m_getitem_multilevel\u001b[0m\u001b[0;34m(\u001b[0m\u001b[0mkey\u001b[0m\u001b[0;34m)\u001b[0m\u001b[0;34m\u001b[0m\u001b[0;34m\u001b[0m\u001b[0m\n\u001b[0;32m-> 3455\u001b[0;31m             \u001b[0mindexer\u001b[0m \u001b[0;34m=\u001b[0m \u001b[0mself\u001b[0m\u001b[0;34m.\u001b[0m\u001b[0mcolumns\u001b[0m\u001b[0;34m.\u001b[0m\u001b[0mget_loc\u001b[0m\u001b[0;34m(\u001b[0m\u001b[0mkey\u001b[0m\u001b[0;34m)\u001b[0m\u001b[0;34m\u001b[0m\u001b[0;34m\u001b[0m\u001b[0m\n\u001b[0m\u001b[1;32m   3456\u001b[0m             \u001b[0;32mif\u001b[0m \u001b[0mis_integer\u001b[0m\u001b[0;34m(\u001b[0m\u001b[0mindexer\u001b[0m\u001b[0;34m)\u001b[0m\u001b[0;34m:\u001b[0m\u001b[0;34m\u001b[0m\u001b[0;34m\u001b[0m\u001b[0m\n\u001b[1;32m   3457\u001b[0m                 \u001b[0mindexer\u001b[0m \u001b[0;34m=\u001b[0m \u001b[0;34m[\u001b[0m\u001b[0mindexer\u001b[0m\u001b[0;34m]\u001b[0m\u001b[0;34m\u001b[0m\u001b[0;34m\u001b[0m\u001b[0m\n",
      "\u001b[0;32m~/anaconda3/envs/CPOL_analysis/lib/python3.8/site-packages/pandas/core/indexes/base.py\u001b[0m in \u001b[0;36mget_loc\u001b[0;34m(self, key, method, tolerance)\u001b[0m\n\u001b[1;32m   3361\u001b[0m                 \u001b[0;32mreturn\u001b[0m \u001b[0mself\u001b[0m\u001b[0;34m.\u001b[0m\u001b[0m_engine\u001b[0m\u001b[0;34m.\u001b[0m\u001b[0mget_loc\u001b[0m\u001b[0;34m(\u001b[0m\u001b[0mcasted_key\u001b[0m\u001b[0;34m)\u001b[0m\u001b[0;34m\u001b[0m\u001b[0;34m\u001b[0m\u001b[0m\n\u001b[1;32m   3362\u001b[0m             \u001b[0;32mexcept\u001b[0m \u001b[0mKeyError\u001b[0m \u001b[0;32mas\u001b[0m \u001b[0merr\u001b[0m\u001b[0;34m:\u001b[0m\u001b[0;34m\u001b[0m\u001b[0;34m\u001b[0m\u001b[0m\n\u001b[0;32m-> 3363\u001b[0;31m                 \u001b[0;32mraise\u001b[0m \u001b[0mKeyError\u001b[0m\u001b[0;34m(\u001b[0m\u001b[0mkey\u001b[0m\u001b[0;34m)\u001b[0m \u001b[0;32mfrom\u001b[0m \u001b[0merr\u001b[0m\u001b[0;34m\u001b[0m\u001b[0;34m\u001b[0m\u001b[0m\n\u001b[0m\u001b[1;32m   3364\u001b[0m \u001b[0;34m\u001b[0m\u001b[0m\n\u001b[1;32m   3365\u001b[0m         \u001b[0;32mif\u001b[0m \u001b[0mis_scalar\u001b[0m\u001b[0;34m(\u001b[0m\u001b[0mkey\u001b[0m\u001b[0;34m)\u001b[0m \u001b[0;32mand\u001b[0m \u001b[0misna\u001b[0m\u001b[0;34m(\u001b[0m\u001b[0mkey\u001b[0m\u001b[0;34m)\u001b[0m \u001b[0;32mand\u001b[0m \u001b[0;32mnot\u001b[0m \u001b[0mself\u001b[0m\u001b[0;34m.\u001b[0m\u001b[0mhasnans\u001b[0m\u001b[0;34m:\u001b[0m\u001b[0;34m\u001b[0m\u001b[0;34m\u001b[0m\u001b[0m\n",
      "\u001b[0;31mKeyError\u001b[0m: 'orientation_alt'"
     ]
    },
    {
     "name": "stdout",
     "output_type": "stream",
     "text": [
      "> \u001b[0;32m/home/student.unimelb.edu.au/shorte1/anaconda3/envs/CPOL_analysis/lib/python3.8/site-packages/pandas/core/indexes/base.py\u001b[0m(3363)\u001b[0;36mget_loc\u001b[0;34m()\u001b[0m\n",
      "\u001b[0;32m   3361 \u001b[0;31m                \u001b[0;32mreturn\u001b[0m \u001b[0mself\u001b[0m\u001b[0;34m.\u001b[0m\u001b[0m_engine\u001b[0m\u001b[0;34m.\u001b[0m\u001b[0mget_loc\u001b[0m\u001b[0;34m(\u001b[0m\u001b[0mcasted_key\u001b[0m\u001b[0;34m)\u001b[0m\u001b[0;34m\u001b[0m\u001b[0;34m\u001b[0m\u001b[0m\n",
      "\u001b[0m\u001b[0;32m   3362 \u001b[0;31m            \u001b[0;32mexcept\u001b[0m \u001b[0mKeyError\u001b[0m \u001b[0;32mas\u001b[0m \u001b[0merr\u001b[0m\u001b[0;34m:\u001b[0m\u001b[0;34m\u001b[0m\u001b[0;34m\u001b[0m\u001b[0m\n",
      "\u001b[0m\u001b[0;32m-> 3363 \u001b[0;31m                \u001b[0;32mraise\u001b[0m \u001b[0mKeyError\u001b[0m\u001b[0;34m(\u001b[0m\u001b[0mkey\u001b[0m\u001b[0;34m)\u001b[0m \u001b[0;32mfrom\u001b[0m \u001b[0merr\u001b[0m\u001b[0;34m\u001b[0m\u001b[0;34m\u001b[0m\u001b[0m\n",
      "\u001b[0m\u001b[0;32m   3364 \u001b[0;31m\u001b[0;34m\u001b[0m\u001b[0m\n",
      "\u001b[0m\u001b[0;32m   3365 \u001b[0;31m        \u001b[0;32mif\u001b[0m \u001b[0mis_scalar\u001b[0m\u001b[0;34m(\u001b[0m\u001b[0mkey\u001b[0m\u001b[0;34m)\u001b[0m \u001b[0;32mand\u001b[0m \u001b[0misna\u001b[0m\u001b[0;34m(\u001b[0m\u001b[0mkey\u001b[0m\u001b[0;34m)\u001b[0m \u001b[0;32mand\u001b[0m \u001b[0;32mnot\u001b[0m \u001b[0mself\u001b[0m\u001b[0;34m.\u001b[0m\u001b[0mhasnans\u001b[0m\u001b[0;34m:\u001b[0m\u001b[0;34m\u001b[0m\u001b[0;34m\u001b[0m\u001b[0m\n",
      "\u001b[0m\n",
      "ipdb> q\n"
     ]
    },
    {
     "data": {
      "image/png": "[encoded data removed]",
      "text/plain": [
       "<Figure size 1080x252 with 1 Axes>"
      ]
     },
     "metadata": {
      "needs_background": "light"
     },
     "output_type": "display_data"
    }
   ],
   "source": [
    "for uid_ind in np.arange(2).astype(str):\n",
    "    fig_dir = '/home/student.unimelb.edu.au/shorte1/Documents/TINT_figures'\n",
    "\n",
    "    params = {\n",
    "        'uid_ind': uid_ind, 'line_coords': True, 'center_cell': False, \n",
    "        'cell_ind': 7, 'winds': True, 'winds_fn': filenames, \n",
    "        'direction': 'perpendicular', 'crosshair': True, 'save_dir': fig_dir,\n",
    "        'line_average': True, 'streamplot': True, 'relative_winds': True,\n",
    "        'data_fn': 'angles', 'load_line_coords_winds': False, \n",
    "        'save_ds': True}\n",
    "\n",
    "    grids = (\n",
    "        pyart.io.read_grid(fn, include_fields = ['reflectivity'])\n",
    "        for fn in filenames)\n",
    "\n",
    "    tint.visualisation.animate.animate(tracks_obj, grids, params)"
   ]
  }
 ],
 "metadata": {
  "kernelspec": {
   "display_name": "Python 3 (ipykernel)",
   "language": "python",
   "name": "python3"
  },
  "language_info": {
   "codemirror_mode": {
    "name": "ipython",
    "version": 3
   },
   "file_extension": ".py",
   "mimetype": "text/x-python",
   "name": "python",
   "nbconvert_exporter": "python",
   "pygments_lexer": "ipython3",
   "version": "3.8.10"
  },
  "toc": {
   "base_numbering": 1,
   "nav_menu": {},
   "number_sections": true,
   "sideBar": true,
   "skip_h1_title": false,
   "title_cell": "Table of Contents",
   "title_sidebar": "Contents",
   "toc_cell": false,
   "toc_position": {},
   "toc_section_display": true,
   "toc_window_display": false
  }
 },
 "nbformat": 4,
 "nbformat_minor": 5
}
