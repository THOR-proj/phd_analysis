{
 "cells": [
  {
   "cell_type": "code",
   "execution_count": 1,
   "id": "73ada16f",
   "metadata": {
    "ExecuteTime": {
     "end_time": "2022-07-20T02:58:01.674673Z",
     "start_time": "2022-07-20T02:57:59.536124Z"
    }
   },
   "outputs": [
    {
     "name": "stdout",
     "output_type": "stream",
     "text": [
      "\n",
      "## You are using the Python ARM Radar Toolkit (Py-ART), an open source\n",
      "## library for working with weather radar data. Py-ART is partly\n",
      "## supported by the U.S. Department of Energy as part of the Atmospheric\n",
      "## Radiation Measurement (ARM) Climate Research Facility, an Office of\n",
      "## Science user facility.\n",
      "##\n",
      "## If you use this software to prepare a publication, please cite:\n",
      "##\n",
      "##     JJ Helmus and SM Collis, JORS 2016, doi: 10.5334/jors.119\n",
      "\n"
     ]
    },
    {
     "name": "stderr",
     "output_type": "stream",
     "text": [
      "/home/student.unimelb.edu.au/shorte1/anaconda3/envs/CPOL_analysis/lib/python3.8/site-packages/networkx/readwrite/graphml.py:346: DeprecationWarning: `np.int` is a deprecated alias for the builtin `int`. To silence this warning, use `int` by itself. Doing this will not modify any behavior and is safe. When replacing `np.int`, you may wish to use e.g. `np.int64` or `np.int32` to specify the precision. If you wish to review your current use, check the release note link for additional information.\n",
      "Deprecated in NumPy 1.20; for more details and guidance: https://numpy.org/devdocs/release/1.20.0-notes.html#deprecations\n",
      "  (np.int, \"int\"), (np.int8, \"int\"),\n",
      "/home/student.unimelb.edu.au/shorte1/anaconda3/envs/CPOL_analysis/lib/python3.8/site-packages/networkx/readwrite/gexf.py:220: DeprecationWarning: `np.int` is a deprecated alias for the builtin `int`. To silence this warning, use `int` by itself. Doing this will not modify any behavior and is safe. When replacing `np.int`, you may wish to use e.g. `np.int64` or `np.int32` to specify the precision. If you wish to review your current use, check the release note link for additional information.\n",
      "Deprecated in NumPy 1.20; for more details and guidance: https://numpy.org/devdocs/release/1.20.0-notes.html#deprecations\n",
      "  (np.int, \"int\"), (np.int8, \"int\"),\n",
      "/home/student.unimelb.edu.au/shorte1/anaconda3/envs/CPOL_analysis/lib/python3.8/site-packages/numba/core/types/__init__.py:108: DeprecationWarning: `np.long` is a deprecated alias for `np.compat.long`. To silence this warning, use `np.compat.long` by itself. In the likely event your code does not need to work on Python 2 you can use the builtin `int` for which `np.compat.long` is itself an alias. Doing this will not modify any behaviour and is safe. When replacing `np.long`, you may wish to use e.g. `np.int64` or `np.int32` to specify the precision. If you wish to review your current use, check the release note link for additional information.\n",
      "Deprecated in NumPy 1.20; for more details and guidance: https://numpy.org/devdocs/release/1.20.0-notes.html#deprecations\n",
      "  long_ = _make_signed(np.long)\n",
      "/home/student.unimelb.edu.au/shorte1/anaconda3/envs/CPOL_analysis/lib/python3.8/site-packages/numba/core/types/__init__.py:109: DeprecationWarning: `np.long` is a deprecated alias for `np.compat.long`. To silence this warning, use `np.compat.long` by itself. In the likely event your code does not need to work on Python 2 you can use the builtin `int` for which `np.compat.long` is itself an alias. Doing this will not modify any behaviour and is safe. When replacing `np.long`, you may wish to use e.g. `np.int64` or `np.int32` to specify the precision. If you wish to review your current use, check the release note link for additional information.\n",
      "Deprecated in NumPy 1.20; for more details and guidance: https://numpy.org/devdocs/release/1.20.0-notes.html#deprecations\n",
      "  ulong = _make_unsigned(np.long)\n"
     ]
    },
    {
     "name": "stdout",
     "output_type": "stream",
     "text": [
      "Automatic pdb calling has been turned ON\n"
     ]
    }
   ],
   "source": [
    "import sys\n",
    "sys.path.insert(0, '/home/student.unimelb.edu.au/shorte1/Documents/TINT')\n",
    "\n",
    "import sys\n",
    "sys.path.insert(0, '/home/563/esh563/TINT')\n",
    "\n",
    "# Core\n",
    "import datetime\n",
    "import os\n",
    "import glob\n",
    "import tempfile\n",
    "import pickle\n",
    "import copy\n",
    "\n",
    "# Analysis\n",
    "import numpy as np\n",
    "import pandas as pd\n",
    "import xarray as xr\n",
    "\n",
    "# Plotting\n",
    "import matplotlib.pyplot as plt\n",
    "import matplotlib as mpl\n",
    "from matplotlib import rcParams\n",
    "\n",
    "# Debugging\n",
    "import pdb, traceback\n",
    "# %load_ext line_profiler\n",
    "\n",
    "# Radar Tools\n",
    "import pyart\n",
    "import tint\n",
    "# import tint.animate\n",
    "# from tint.visualisation import animate\n",
    "\n",
    "import CPOL_func as cf\n",
    "import classification as cl\n",
    "import caine_func as caf\n",
    "import analysis\n",
    "\n",
    "# Convenience functions\n",
    "%load_ext autoreload\n",
    "%autoreload 1\n",
    "%aimport CPOL_func\n",
    "%aimport caine_func\n",
    "%aimport classification\n",
    "%aimport tint.visualisation.figures\n",
    "%aimport tint.visualisation.animate\n",
    "%aimport tint.visualisation.horizontal_helpers\n",
    "%aimport tint.visualisation.vertical_helpers\n",
    "%aimport tint.tracks\n",
    "%aimport tint.objects\n",
    "%aimport tint.grid_utils\n",
    "%aimport tint.steiner\n",
    "%aimport tint.matching\n",
    "%aimport tint.rain\n",
    "%aimport tint.cells\n",
    "%aimport tint.tracks_helpers\n",
    "%aimport tint.process_ERA5\n",
    "%aimport tint.process_WRF\n",
    "\n",
    "%pdb\n",
    "\n",
    "base_dir = '/media/shorte1/Ewan\\'s Hard Drive/phd/data/CPOL/'\n",
    "save_dir = '/home/student.unimelb.edu.au/shorte1/Documents/TINT_tracks/'\n",
    "fig_dir = '/home/student.unimelb.edu.au/shorte1/Documents/TINT_figures/'\n",
    "ERA5_dir = '/media/shorte1/Ewan\\'s Hard Drive/phd/data/era5/'\n",
    "ERA5_dir += 'pressure-levels/reanalysis/'\n",
    "WRF_dir = '/media/shorte1/Ewan\\'s Hard Drive/phd/data/caine_WRF_data/'"
   ]
  },
  {
   "cell_type": "code",
   "execution_count": 162,
   "id": "1e94168e",
   "metadata": {
    "ExecuteTime": {
     "end_time": "2022-07-21T04:17:54.682036Z",
     "start_time": "2022-07-21T04:17:54.123448Z"
    }
   },
   "outputs": [
    {
     "name": "stdout",
     "output_type": "stream",
     "text": [
      "Calculating system tracks.\n"
     ]
    }
   ],
   "source": [
    "tracks_obj = cl.redo_exclusions(tracks_obj)"
   ]
  },
  {
   "cell_type": "code",
   "execution_count": 169,
   "id": "7043e383",
   "metadata": {
    "ExecuteTime": {
     "end_time": "2022-07-21T07:07:18.163327Z",
     "start_time": "2022-07-21T07:02:08.097440Z"
    }
   },
   "outputs": [
    {
     "name": "stdout",
     "output_type": "stream",
     "text": [
      "Fixing\n",
      "Calculating system tracks.\n",
      "Fixing\n",
      "Calculating system tracks.\n",
      "Fixing\n",
      "Calculating system tracks.\n",
      "Fixing\n",
      "Calculating system tracks.\n",
      "Fixing\n",
      "Calculating system tracks.\n",
      "Fixing\n",
      "Calculating system tracks.\n",
      "Fixing\n",
      "Calculating system tracks.\n",
      "Fixing\n",
      "Calculating system tracks.\n",
      "Fixing\n",
      "Calculating system tracks.\n",
      "Fixing\n",
      "Calculating system tracks.\n",
      "Fixing\n",
      "Calculating system tracks.\n",
      "Fixing\n",
      "Calculating system tracks.\n",
      "Fixing\n",
      "Calculating system tracks.\n",
      "Fixing\n",
      "Calculating system tracks.\n",
      "Fixing\n",
      "Calculating system tracks.\n"
     ]
    }
   ],
   "source": [
    "tracks_dir = [\n",
    "    'two_levels']\n",
    "\n",
    "years = sorted(list(set(range(1998, 2016)) - {2007, 2008, 2000}))\n",
    "\n",
    "for d in tracks_dir:\n",
    "    for year in years:\n",
    "        path = save_dir + '{}/{}1001_{}0501.pkl'.format(\n",
    "            d, year, year+1)\n",
    "        with open(path, 'rb') as f:\n",
    "            tracks_obj = pickle.load(f)\n",
    "            \n",
    "        print('Fixing')\n",
    "        tracks_obj = cl.redo_exclusions(tracks_obj)\n",
    "        \n",
    "        with open(path, 'wb') as f:\n",
    "            pickle.dump(tracks_obj, f)"
   ]
  },
  {
   "cell_type": "code",
   "execution_count": 167,
   "id": "acf36e36",
   "metadata": {
    "ExecuteTime": {
     "end_time": "2022-07-21T05:03:55.618605Z",
     "start_time": "2022-07-21T05:03:55.592069Z"
    }
   },
   "outputs": [
    {
     "data": {
      "text/plain": [
       "{'SEARCH_MARGIN': 50000,\n",
       " 'FLOW_MARGIN': 40000,\n",
       " 'MAX_FLOW_MAG': 60,\n",
       " 'MAX_DISPARITY': 999,\n",
       " 'MAX_SHIFT_DISP': 60,\n",
       " 'MAX_SHIFT_DISP_ALT': 25,\n",
       " 'ISO_SMOOTH': 3,\n",
       " 'GS_ALT': 1500,\n",
       " 'LEVELS': array([[  500,  2500],\n",
       "        [ 2500,  5000],\n",
       "        [ 5000,  7500],\n",
       "        [ 7500, 10000]]),\n",
       " 'MIN_SIZE': [80, 400, 400, 800],\n",
       " 'FIELD_THRESH': [40, 20, 20, 15],\n",
       " 'ISO_THRESH': [10, 10, 10, 10],\n",
       " 'TRACK_INTERVAL': 0,\n",
       " 'CELL_THRESH': 25,\n",
       " 'CELL_START': 3000,\n",
       " 'RAIN': False,\n",
       " 'SAVE_RAIN': False,\n",
       " 'AMBIENT': 'ERA5',\n",
       " 'AMBIENT_BASE_DIR': '/g/data/w40/esh563/era5/pressure-levels/reanalysis/',\n",
       " 'DT': 10,\n",
       " 'CLASS_THRESH': {'OFFSET_MAG': 12500,\n",
       "  'SHEAR_MAG': 3,\n",
       "  'VEL_MAG': 5,\n",
       "  'REL_VEL_MAG': 3,\n",
       "  'ANGLE_BUFFER': 15},\n",
       " 'EXCL_THRESH': {'SMALL_AREA': 2000,\n",
       "  'LARGE_AREA': 50000,\n",
       "  'BORD_THRESH': 0.001,\n",
       "  'MAJOR_AXIS_LENGTH': 25,\n",
       "  'AXIS_RATIO': 2,\n",
       "  'DURATION': 30},\n",
       " 'BOUNDARY_GRID_CELLS': {(0, 48),\n",
       "  (0, 49),\n",
       "  (0, 50),\n",
       "  (0, 51),\n",
       "  (0, 52),\n",
       "  (0, 53),\n",
       "  (0, 54),\n",
       "  (0, 55),\n",
       "  (0, 56),\n",
       "  (0, 57),\n",
       "  (0, 58),\n",
       "  (0, 59),\n",
       "  (0, 60),\n",
       "  (0, 61),\n",
       "  (0, 62),\n",
       "  (0, 63),\n",
       "  (0, 64),\n",
       "  (0, 65),\n",
       "  (0, 66),\n",
       "  (0, 67),\n",
       "  (0, 68),\n",
       "  (1, 43),\n",
       "  (1, 44),\n",
       "  (1, 45),\n",
       "  (1, 46),\n",
       "  (1, 47),\n",
       "  (1, 69),\n",
       "  (1, 70),\n",
       "  (1, 71),\n",
       "  (1, 72),\n",
       "  (1, 73),\n",
       "  (2, 40),\n",
       "  (2, 41),\n",
       "  (2, 42),\n",
       "  (2, 74),\n",
       "  (2, 75),\n",
       "  (2, 76),\n",
       "  (3, 37),\n",
       "  (3, 38),\n",
       "  (3, 39),\n",
       "  (3, 77),\n",
       "  (3, 78),\n",
       "  (3, 79),\n",
       "  (4, 35),\n",
       "  (4, 36),\n",
       "  (4, 80),\n",
       "  (4, 81),\n",
       "  (5, 33),\n",
       "  (5, 34),\n",
       "  (5, 82),\n",
       "  (5, 83),\n",
       "  (6, 31),\n",
       "  (6, 32),\n",
       "  (6, 84),\n",
       "  (6, 85),\n",
       "  (7, 29),\n",
       "  (7, 30),\n",
       "  (7, 86),\n",
       "  (7, 87),\n",
       "  (8, 27),\n",
       "  (8, 28),\n",
       "  (8, 88),\n",
       "  (8, 89),\n",
       "  (9, 26),\n",
       "  (9, 90),\n",
       "  (10, 24),\n",
       "  (10, 25),\n",
       "  (10, 91),\n",
       "  (10, 92),\n",
       "  (11, 23),\n",
       "  (11, 24),\n",
       "  (11, 92),\n",
       "  (11, 93),\n",
       "  (12, 22),\n",
       "  (12, 94),\n",
       "  (13, 20),\n",
       "  (13, 21),\n",
       "  (13, 95),\n",
       "  (13, 96),\n",
       "  (14, 19),\n",
       "  (14, 20),\n",
       "  (14, 96),\n",
       "  (14, 97),\n",
       "  (15, 18),\n",
       "  (15, 19),\n",
       "  (15, 97),\n",
       "  (15, 98),\n",
       "  (16, 17),\n",
       "  (16, 18),\n",
       "  (16, 98),\n",
       "  (16, 99),\n",
       "  (17, 16),\n",
       "  (17, 100),\n",
       "  (18, 15),\n",
       "  (18, 16),\n",
       "  (18, 100),\n",
       "  (18, 101),\n",
       "  (19, 14),\n",
       "  (19, 15),\n",
       "  (19, 101),\n",
       "  (19, 102),\n",
       "  (20, 13),\n",
       "  (20, 14),\n",
       "  (20, 102),\n",
       "  (20, 103),\n",
       "  (21, 13),\n",
       "  (21, 103),\n",
       "  (22, 12),\n",
       "  (22, 104),\n",
       "  (23, 11),\n",
       "  (23, 105),\n",
       "  (24, 10),\n",
       "  (24, 11),\n",
       "  (24, 105),\n",
       "  (24, 106),\n",
       "  (25, 10),\n",
       "  (25, 106),\n",
       "  (26, 9),\n",
       "  (26, 107),\n",
       "  (27, 8),\n",
       "  (27, 108),\n",
       "  (28, 8),\n",
       "  (28, 108),\n",
       "  (29, 7),\n",
       "  (29, 109),\n",
       "  (30, 7),\n",
       "  (30, 109),\n",
       "  (31, 6),\n",
       "  (31, 110),\n",
       "  (32, 6),\n",
       "  (32, 110),\n",
       "  (33, 5),\n",
       "  (33, 111),\n",
       "  (34, 5),\n",
       "  (34, 111),\n",
       "  (35, 4),\n",
       "  (35, 112),\n",
       "  (36, 4),\n",
       "  (36, 112),\n",
       "  (37, 3),\n",
       "  (37, 113),\n",
       "  (38, 3),\n",
       "  (38, 113),\n",
       "  (39, 3),\n",
       "  (39, 113),\n",
       "  (40, 2),\n",
       "  (40, 114),\n",
       "  (41, 2),\n",
       "  (41, 114),\n",
       "  (42, 2),\n",
       "  (42, 114),\n",
       "  (43, 1),\n",
       "  (43, 115),\n",
       "  (44, 1),\n",
       "  (44, 115),\n",
       "  (45, 1),\n",
       "  (45, 115),\n",
       "  (46, 1),\n",
       "  (46, 115),\n",
       "  (47, 1),\n",
       "  (47, 115),\n",
       "  (48, 0),\n",
       "  (48, 116),\n",
       "  (49, 0),\n",
       "  (49, 116),\n",
       "  (50, 0),\n",
       "  (50, 116),\n",
       "  (51, 0),\n",
       "  (51, 116),\n",
       "  (52, 0),\n",
       "  (52, 116),\n",
       "  (53, 0),\n",
       "  (53, 116),\n",
       "  (54, 0),\n",
       "  (54, 116),\n",
       "  (55, 0),\n",
       "  (55, 116),\n",
       "  (56, 0),\n",
       "  (56, 116),\n",
       "  (57, 0),\n",
       "  (57, 116),\n",
       "  (58, 0),\n",
       "  (58, 116),\n",
       "  (59, 0),\n",
       "  (59, 116),\n",
       "  (60, 0),\n",
       "  (60, 116),\n",
       "  (61, 0),\n",
       "  (61, 116),\n",
       "  (62, 0),\n",
       "  (62, 116),\n",
       "  (63, 0),\n",
       "  (63, 116),\n",
       "  (64, 0),\n",
       "  (64, 116),\n",
       "  (65, 0),\n",
       "  (65, 116),\n",
       "  (66, 0),\n",
       "  (66, 116),\n",
       "  (67, 0),\n",
       "  (67, 116),\n",
       "  (68, 0),\n",
       "  (68, 116),\n",
       "  (69, 1),\n",
       "  (69, 115),\n",
       "  (70, 1),\n",
       "  (70, 115),\n",
       "  (71, 1),\n",
       "  (71, 115),\n",
       "  (72, 1),\n",
       "  (72, 115),\n",
       "  (73, 1),\n",
       "  (73, 115),\n",
       "  (74, 2),\n",
       "  (74, 114),\n",
       "  (75, 2),\n",
       "  (75, 114),\n",
       "  (76, 2),\n",
       "  (76, 114),\n",
       "  (77, 3),\n",
       "  (77, 113),\n",
       "  (78, 3),\n",
       "  (78, 113),\n",
       "  (79, 3),\n",
       "  (79, 113),\n",
       "  (80, 4),\n",
       "  (80, 112),\n",
       "  (81, 4),\n",
       "  (81, 112),\n",
       "  (82, 5),\n",
       "  (82, 111),\n",
       "  (83, 5),\n",
       "  (83, 111),\n",
       "  (84, 6),\n",
       "  (84, 110),\n",
       "  (85, 6),\n",
       "  (85, 110),\n",
       "  (86, 7),\n",
       "  (86, 109),\n",
       "  (87, 7),\n",
       "  (87, 109),\n",
       "  (88, 8),\n",
       "  (88, 108),\n",
       "  (89, 8),\n",
       "  (89, 108),\n",
       "  (90, 9),\n",
       "  (90, 107),\n",
       "  (91, 10),\n",
       "  (91, 106),\n",
       "  (92, 10),\n",
       "  (92, 11),\n",
       "  (92, 105),\n",
       "  (92, 106),\n",
       "  (93, 11),\n",
       "  (93, 105),\n",
       "  (94, 12),\n",
       "  (94, 104),\n",
       "  (95, 13),\n",
       "  (95, 103),\n",
       "  (96, 13),\n",
       "  (96, 14),\n",
       "  (96, 102),\n",
       "  (96, 103),\n",
       "  (97, 14),\n",
       "  (97, 15),\n",
       "  (97, 101),\n",
       "  (97, 102),\n",
       "  (98, 15),\n",
       "  (98, 16),\n",
       "  (98, 100),\n",
       "  (98, 101),\n",
       "  (99, 16),\n",
       "  (99, 100),\n",
       "  (100, 17),\n",
       "  (100, 18),\n",
       "  (100, 98),\n",
       "  (100, 99),\n",
       "  (101, 18),\n",
       "  (101, 19),\n",
       "  (101, 97),\n",
       "  (101, 98),\n",
       "  (102, 19),\n",
       "  (102, 20),\n",
       "  (102, 96),\n",
       "  (102, 97),\n",
       "  (103, 20),\n",
       "  (103, 21),\n",
       "  (103, 95),\n",
       "  (103, 96),\n",
       "  (104, 22),\n",
       "  (104, 94),\n",
       "  (105, 23),\n",
       "  (105, 24),\n",
       "  (105, 92),\n",
       "  (105, 93),\n",
       "  (106, 24),\n",
       "  (106, 25),\n",
       "  (106, 91),\n",
       "  (106, 92),\n",
       "  (107, 26),\n",
       "  (107, 90),\n",
       "  (108, 27),\n",
       "  (108, 28),\n",
       "  (108, 88),\n",
       "  (108, 89),\n",
       "  (109, 29),\n",
       "  (109, 30),\n",
       "  (109, 86),\n",
       "  (109, 87),\n",
       "  (110, 31),\n",
       "  (110, 32),\n",
       "  (110, 84),\n",
       "  (110, 85),\n",
       "  (111, 33),\n",
       "  (111, 34),\n",
       "  (111, 82),\n",
       "  (111, 83),\n",
       "  (112, 35),\n",
       "  (112, 36),\n",
       "  (112, 80),\n",
       "  (112, 81),\n",
       "  (113, 37),\n",
       "  (113, 38),\n",
       "  (113, 39),\n",
       "  (113, 77),\n",
       "  (113, 78),\n",
       "  (113, 79),\n",
       "  (114, 40),\n",
       "  (114, 41),\n",
       "  (114, 42),\n",
       "  (114, 74),\n",
       "  (114, 75),\n",
       "  (114, 76),\n",
       "  (115, 43),\n",
       "  (115, 44),\n",
       "  (115, 45),\n",
       "  (115, 46),\n",
       "  (115, 47),\n",
       "  (115, 69),\n",
       "  (115, 70),\n",
       "  (115, 71),\n",
       "  (115, 72),\n",
       "  (115, 73),\n",
       "  (116, 48),\n",
       "  (116, 49),\n",
       "  (116, 50),\n",
       "  (116, 51),\n",
       "  (116, 52),\n",
       "  (116, 53),\n",
       "  (116, 54),\n",
       "  (116, 55),\n",
       "  (116, 56),\n",
       "  (116, 57),\n",
       "  (116, 58),\n",
       "  (116, 59),\n",
       "  (116, 60),\n",
       "  (116, 61),\n",
       "  (116, 62),\n",
       "  (116, 63),\n",
       "  (116, 64),\n",
       "  (116, 65),\n",
       "  (116, 66),\n",
       "  (116, 67),\n",
       "  (116, 68)}}"
      ]
     },
     "execution_count": 167,
     "metadata": {},
     "output_type": "execute_result"
    }
   ],
   "source": [
    "tracks_obj.params"
   ]
  },
  {
   "cell_type": "code",
   "execution_count": 170,
   "id": "c40ac364",
   "metadata": {
    "ExecuteTime": {
     "end_time": "2022-07-21T08:32:36.711335Z",
     "start_time": "2022-07-21T08:31:20.831488Z"
    }
   },
   "outputs": [
    {
     "name": "stdout",
     "output_type": "stream",
     "text": [
      "Radar 63, year 2020.\n",
      "Fixing.\n",
      "Fixing.\n",
      "Fixing.\n",
      "Fixing.\n",
      "Fixing.\n",
      "Fixing.\n",
      "Fixing.\n",
      "Radar 63, year 2021.\n",
      "Fixing.\n",
      "Fixing.\n",
      "Fixing.\n",
      "Fixing.\n",
      "Fixing.\n",
      "Fixing.\n",
      "Fixing.\n",
      "Radar 42, year 2020.\n",
      "Fixing.\n",
      "Fixing.\n",
      "Fixing.\n",
      "Fixing.\n",
      "Fixing.\n",
      "Fixing.\n",
      "Fixing.\n",
      "Radar 42, year 2021.\n",
      "Fixing.\n",
      "Fixing.\n",
      "Fixing.\n",
      "Fixing.\n",
      "Fixing.\n",
      "Fixing.\n",
      "Fixing.\n",
      "Radar 77, year 2020.\n",
      "Fixing.\n",
      "Fixing.\n",
      "Fixing.\n",
      "Fixing.\n",
      "Fixing.\n",
      "Fixing.\n",
      "Fixing.\n",
      "Radar 77, year 2021.\n",
      "Fixing.\n",
      "Fixing.\n",
      "Fixing.\n",
      "Fixing.\n",
      "Fixing.\n",
      "Fixing.\n",
      "Fixing.\n"
     ]
    }
   ],
   "source": [
    "conv_area_radar = []\n",
    "strat_area_radar = []\n",
    "times_radar = []\n",
    "\n",
    "for radar in [63, 42, 77]:\n",
    "    for year in [2020, 2021]:\n",
    "        print('Radar {}, year {}.'.format(radar, year))\n",
    "        years_months = [\n",
    "            [year, 10], [year, 11], [year, 12],\n",
    "            [year+1, 1], [year+1, 2], [year+1, 3],\n",
    "            [year+1, 4]]\n",
    "        for year_month in years_months:\n",
    "            path = save_dir + 'radar_{}/{}_{}_{:02}.pkl'.format(\n",
    "                radar, radar, year_month[0], year_month[1])\n",
    "            with open(path, 'rb') as f:\n",
    "                tracks_obj = pickle.load(f)\n",
    "\n",
    "            tracks_obj = tint.objects.get_exclusion_categories(tracks_obj)\n",
    "            print('Fixing.')\n",
    "            with open(path, 'wb') as f:\n",
    "                pickle.dump(tracks_obj, f)\n",
    "                \n",
    "                \n",
    "conv_area_ACCESS = []\n",
    "strat_area_ACCESS = []\n",
    "times_ACCESS = []"
   ]
  },
  {
   "cell_type": "code",
   "execution_count": 161,
   "id": "5e3e5e45",
   "metadata": {
    "ExecuteTime": {
     "end_time": "2022-07-21T02:49:17.922563Z",
     "start_time": "2022-07-21T02:48:54.506287Z"
    }
   },
   "outputs": [
    {
     "name": "stdout",
     "output_type": "stream",
     "text": [
      "Radar 63, year 2020.\n",
      "Fixing.\n",
      "Radar 63, year 2021.\n",
      "Fixing.\n",
      "Radar 42, year 2020.\n",
      "Fixing.\n",
      "Radar 42, year 2021.\n",
      "Fixing.\n",
      "Radar 77, year 2020.\n",
      "Fixing.\n",
      "Radar 77, year 2021.\n",
      "Fixing.\n"
     ]
    }
   ],
   "source": [
    "for radar in [63, 42, 77]:\n",
    "    for year in [2020, 2021]:\n",
    "        print('Radar {}, year {}.'.format(radar, year))\n",
    "        path = save_dir + 'ACCESS_{}/{}1001_{}0501.pkl'.format(\n",
    "            radar, year, year+1)\n",
    "        with open(path, 'rb') as f:\n",
    "            tracks_obj = pickle.load(f)\n",
    "\n",
    "        tracks_obj = tint.objects.get_exclusion_categories(tracks_obj)\n",
    "        print('Fixing.')\n",
    "        with open(path, 'wb') as f:\n",
    "            pickle.dump(tracks_obj, f)"
   ]
  },
  {
   "cell_type": "code",
   "execution_count": 152,
   "id": "c3724bf2",
   "metadata": {
    "ExecuteTime": {
     "end_time": "2022-07-20T06:46:58.038279Z",
     "start_time": "2022-07-20T06:46:35.825999Z"
    }
   },
   "outputs": [
    {
     "name": "stdout",
     "output_type": "stream",
     "text": [
      "Radar 63, year 2020.\n",
      "Radar 63, year 2021.\n",
      "Radar 42, year 2020.\n",
      "No included observations.\n",
      "Radar 42, year 2021.\n",
      "Radar 77, year 2020.\n",
      "Radar 77, year 2021.\n"
     ]
    }
   ],
   "source": [
    "conv_area_radar = []\n",
    "strat_area_radar = []\n",
    "times_radar = []\n",
    "\n",
    "for radar in [63, 42, 77]:\n",
    "    for year in [2020, 2021]:\n",
    "        print('Radar {}, year {}.'.format(radar, year))\n",
    "        years_months = [\n",
    "            [year, 10], [year, 11], [year, 12],\n",
    "            [year+1, 1], [year+1, 2], [year+1, 3],\n",
    "            [year+1, 4]]\n",
    "        for year_month in years_months:\n",
    "            path = save_dir + 'radar_{}/{}_{}_{:02}.pkl'.format(\n",
    "                radar, radar, year_month[0], year_month[1])\n",
    "            with open(path, 'rb') as f:\n",
    "                tracks_obj = pickle.load(f)\n",
    "\n",
    "            exclusions = [\n",
    "                'small_area', 'large_area', 'intersect_border',\n",
    "                'intersect_border_convective', 'duration_cond',\n",
    "                'small_velocity', 'small_offset']\n",
    "            \n",
    "            exclusions = [\n",
    "                'small_area', 'duration_cond']\n",
    "            \n",
    "            excluded = tracks_obj.exclusions[exclusions]\n",
    "            amb = 'Ambiguous (On Quadrant Boundary)'\n",
    "            # quad_bound = tracks_obj.tracks_class['offset_type'] == amb\n",
    "            excluded = np.any(excluded, 1)\n",
    "            included = np.logical_not(excluded)\n",
    "\n",
    "#             cond = np.logical_and(\n",
    "#                 tracks_obj.tracks_class['pope_regime']==2,\n",
    "#                 included==True)\n",
    "            \n",
    "            cond = (included==True)\n",
    "            \n",
    "            sub_classes = tracks_obj.tracks_class.where(cond).dropna()\n",
    "\n",
    "            inds_all = sub_classes.index.values\n",
    "            sub_tracks_all = tracks_obj.tracks.loc[inds_all]\n",
    "            try:\n",
    "                sub_tracks_conv = sub_tracks_all.xs(0, level='level')\n",
    "                sub_tracks_strat = sub_tracks_all.xs(1, level='level')\n",
    "                conv_area_radar += list(sub_tracks_conv['proj_area'].values)\n",
    "                strat_area_radar += list(sub_tracks_strat['proj_area'].values)\n",
    "                times_radar += list(\n",
    "                    sub_tracks_conv.reset_index()['time'].values)\n",
    "                \n",
    "            except KeyError:\n",
    "                print('No included observations.')"
   ]
  },
  {
   "cell_type": "code",
   "execution_count": 153,
   "id": "0712a8bf",
   "metadata": {
    "ExecuteTime": {
     "end_time": "2022-07-20T06:47:07.521199Z",
     "start_time": "2022-07-20T06:46:58.039799Z"
    }
   },
   "outputs": [
    {
     "name": "stdout",
     "output_type": "stream",
     "text": [
      "Radar 63, year 2020.\n",
      "Radar 63, year 2021.\n",
      "Radar 42, year 2020.\n",
      "Radar 42, year 2021.\n",
      "Radar 77, year 2020.\n",
      "Radar 77, year 2021.\n"
     ]
    }
   ],
   "source": [
    "conv_area_ACCESS = []\n",
    "strat_area_ACCESS = []\n",
    "times_ACCESS = []\n",
    "\n",
    "for radar in [63, 42, 77]:\n",
    "    for year in [2020, 2021]:\n",
    "        print('Radar {}, year {}.'.format(radar, year))\n",
    "        path = save_dir + 'ACCESS_{}/{}1001_{}0501.pkl'.format(\n",
    "            radar, year, year+1)\n",
    "        with open(path, 'rb') as f:\n",
    "            tracks_obj = pickle.load(f)\n",
    "\n",
    "        exclusions = [\n",
    "            'small_area', 'large_area', 'intersect_border',\n",
    "            'intersect_border_convective', 'duration_cond',\n",
    "            'small_velocity', 'small_offset']\n",
    "        \n",
    "        exclusions = [\n",
    "            'small_area', 'duration_cond']\n",
    "        \n",
    "        excluded = tracks_obj.exclusions[exclusions]\n",
    "        amb = 'Ambiguous (On Quadrant Boundary)'\n",
    "        # quad_bound = tracks_obj.tracks_class['offset_type'] == amb\n",
    "        excluded = np.any(excluded, 1)\n",
    "        included = np.logical_not(excluded)\n",
    "\n",
    "#         cond = np.logical_and(\n",
    "#             tracks_obj.tracks_class['pope_regime']==2,\n",
    "#             included==True)\n",
    "\n",
    "        cond = (included==True)\n",
    "            \n",
    "        sub_classes = tracks_obj.tracks_class.where(cond).dropna()\n",
    "        inds_all = sub_classes.index.values\n",
    "        sub_tracks_all = tracks_obj.tracks.loc[inds_all]\n",
    "        try:\n",
    "            sub_tracks_conv = sub_tracks_all.xs(0, level='level')\n",
    "            sub_tracks_strat = sub_tracks_all.xs(1, level='level')\n",
    "            conv_area_ACCESS += list(sub_tracks_conv['proj_area'].values)\n",
    "            strat_area_ACCESS += list(sub_tracks_strat['proj_area'].values)\n",
    "            times_ACCESS += list(sub_tracks_conv.reset_index()['time'].values)\n",
    "        except KeyError:\n",
    "            print('No included observations.')"
   ]
  },
  {
   "cell_type": "code",
   "execution_count": 154,
   "id": "dc4ed645",
   "metadata": {
    "ExecuteTime": {
     "end_time": "2022-07-20T06:47:07.950763Z",
     "start_time": "2022-07-20T06:47:07.522525Z"
    }
   },
   "outputs": [
    {
     "data": {
      "text/plain": [
       "<matplotlib.legend.Legend at 0x7fa7f470b250>"
      ]
     },
     "execution_count": 154,
     "metadata": {},
     "output_type": "execute_result"
    },
    {
     "data": {
      "image/png": "[encoded data removed]",
      "text/plain": [
       "<Figure size 432x288 with 1 Axes>"
      ]
     },
     "metadata": {
      "needs_background": "light"
     },
     "output_type": "display_data"
    }
   ],
   "source": [
    "fig, ax = plt.subplots(1, 1, figsize=(6, 4))\n",
    "\n",
    "ax.hist(conv_area_ACCESS, bins=np.arange(0, 2500, 80), alpha=0.5, label='ACCESS-C')\n",
    "ax.hist(conv_area_radar, bins=np.arange(0, 2500, 80), alpha=0.5, label='Radar')\n",
    "plt.legend()"
   ]
  },
  {
   "cell_type": "code",
   "execution_count": 155,
   "id": "f65dbd95",
   "metadata": {
    "ExecuteTime": {
     "end_time": "2022-07-20T06:47:08.299495Z",
     "start_time": "2022-07-20T06:47:07.952711Z"
    }
   },
   "outputs": [
    {
     "data": {
      "text/plain": [
       "<matplotlib.legend.Legend at 0x7fa7f4d97280>"
      ]
     },
     "execution_count": 155,
     "metadata": {},
     "output_type": "execute_result"
    },
    {
     "data": {
      "image/png": "[encoded data removed]",
      "text/plain": [
       "<Figure size 432x288 with 1 Axes>"
      ]
     },
     "metadata": {
      "needs_background": "light"
     },
     "output_type": "display_data"
    }
   ],
   "source": [
    "fig, ax = plt.subplots(1, 1, figsize=(6, 4))\n",
    "\n",
    "ax.hist(strat_area_ACCESS, bins=np.arange(0, 25000, 800), alpha=0.5, label='ACCESS-C')\n",
    "ax.hist(strat_area_radar, bins=np.arange(0, 25000, 800), alpha=0.5, label='Radar')\n",
    "plt.legend()"
   ]
  },
  {
   "cell_type": "code",
   "execution_count": 156,
   "id": "b16ae504",
   "metadata": {
    "ExecuteTime": {
     "end_time": "2022-07-20T06:47:08.867470Z",
     "start_time": "2022-07-20T06:47:08.300797Z"
    }
   },
   "outputs": [
    {
     "data": {
      "text/plain": [
       "<matplotlib.legend.Legend at 0x7fa81250c940>"
      ]
     },
     "execution_count": 156,
     "metadata": {},
     "output_type": "execute_result"
    },
    {
     "data": {
      "image/png": "[encoded data removed]",
      "text/plain": [
       "<Figure size 432x288 with 1 Axes>"
      ]
     },
     "metadata": {
      "needs_background": "light"
     },
     "output_type": "display_data"
    }
   ],
   "source": [
    "fig, ax = plt.subplots(1, 1, figsize=(6, 4))\n",
    "\n",
    "ax.hist(times_ACCESS, bins=75, alpha=0.5, label='ACCESS-C')\n",
    "ax.hist(times_radar, bins=75, alpha=0.5, label='Radar')\n",
    "plt.legend()"
   ]
  },
  {
   "cell_type": "code",
   "execution_count": 132,
   "id": "46bc5bc8",
   "metadata": {
    "ExecuteTime": {
     "end_time": "2022-07-20T05:50:53.975439Z",
     "start_time": "2022-07-20T05:50:51.567171Z"
    }
   },
   "outputs": [],
   "source": [
    "path = save_dir + 'ACCESS_63/20211001_20220501.pkl'\n",
    "with open(path, 'rb') as f:\n",
    "    tracks_obj_ACCESS = pickle.load(f)\n",
    "    \n",
    "path = save_dir + 'radar_63/63_2022_01.pkl'\n",
    "with open(path, 'rb') as f:\n",
    "    tracks_obj_radar = pickle.load(f)"
   ]
  },
  {
   "cell_type": "code",
   "execution_count": 133,
   "id": "356b7fb6",
   "metadata": {
    "ExecuteTime": {
     "end_time": "2022-07-20T05:50:54.006493Z",
     "start_time": "2022-07-20T05:50:53.985513Z"
    }
   },
   "outputs": [],
   "source": [
    "tracks_obj_ACCESS.tracks = tracks_obj_ACCESS.tracks.loc[:,slice(np.datetime64('2022-01-01'), np.datetime64('2022-02-01')),:,:]"
   ]
  },
  {
   "cell_type": "code",
   "execution_count": 135,
   "id": "b8432137",
   "metadata": {
    "ExecuteTime": {
     "end_time": "2022-07-20T05:51:03.629602Z",
     "start_time": "2022-07-20T05:51:03.382211Z"
    }
   },
   "outputs": [
    {
     "data": {
      "image/png": "[encoded data removed]",
      "text/plain": [
       "<Figure size 432x288 with 1 Axes>"
      ]
     },
     "metadata": {
      "needs_background": "light"
     },
     "output_type": "display_data"
    }
   ],
   "source": [
    "bins = np.arange(np.datetime64('2022-01-01'), np.datetime64('2022-02-01'), np.timedelta64(1, 'D'))\n",
    "\n",
    "h1 = plt.hist(list(tracks_obj_ACCESS.tracks.xs(0, level='level').reset_index()['time'].values), alpha=0.5, bins=bins)\n",
    "h1 = plt.hist(list(tracks_obj_radar.tracks.xs(0, level='level').reset_index()['time'].values), alpha=0.5, bins=bins)"
   ]
  },
  {
   "cell_type": "code",
   "execution_count": null,
   "id": "33274ebb",
   "metadata": {},
   "outputs": [],
   "source": []
  }
 ],
 "metadata": {
  "kernelspec": {
   "display_name": "Python 3 (ipykernel)",
   "language": "python",
   "name": "python3"
  },
  "language_info": {
   "codemirror_mode": {
    "name": "ipython",
    "version": 3
   },
   "file_extension": ".py",
   "mimetype": "text/x-python",
   "name": "python",
   "nbconvert_exporter": "python",
   "pygments_lexer": "ipython3",
   "version": "3.8.10"
  },
  "latex_envs": {
   "LaTeX_envs_menu_present": true,
   "autoclose": false,
   "autocomplete": true,
   "bibliofile": "biblio.bib",
   "cite_by": "apalike",
   "current_citInitial": 1,
   "eqLabelWithNumbers": true,
   "eqNumInitial": 1,
   "hotkeys": {
    "equation": "Ctrl-E",
    "itemize": "Ctrl-I"
   },
   "labels_anchors": false,
   "latex_user_defs": false,
   "report_style_numbering": false,
   "user_envs_cfg": false
  },
  "toc": {
   "base_numbering": 1,
   "nav_menu": {},
   "number_sections": true,
   "sideBar": true,
   "skip_h1_title": false,
   "title_cell": "Table of Contents",
   "title_sidebar": "Contents",
   "toc_cell": false,
   "toc_position": {},
   "toc_section_display": true,
   "toc_window_display": false
  }
 },
 "nbformat": 4,
 "nbformat_minor": 5
}
