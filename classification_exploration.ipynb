{
 "cells": [
  {
   "cell_type": "code",
   "execution_count": 1,
   "id": "034ae7ef",
   "metadata": {
    "ExecuteTime": {
     "end_time": "2022-07-14T03:34:32.698406Z",
     "start_time": "2022-07-14T03:34:32.680853Z"
    }
   },
   "outputs": [],
   "source": [
    "import sys\n",
    "sys.path.insert(0, '/home/student.unimelb.edu.au/shorte1/Documents/TINT')"
   ]
  },
  {
   "cell_type": "code",
   "execution_count": 2,
   "id": "651d2a7c",
   "metadata": {
    "ExecuteTime": {
     "end_time": "2022-07-14T03:34:32.705238Z",
     "start_time": "2022-07-14T03:34:32.701745Z"
    }
   },
   "outputs": [],
   "source": [
    "import sys\n",
    "sys.path.insert(0, '/home/563/esh563/TINT')"
   ]
  },
  {
   "cell_type": "code",
   "execution_count": 3,
   "id": "c4a4d12d",
   "metadata": {
    "ExecuteTime": {
     "end_time": "2022-07-14T03:34:34.483467Z",
     "start_time": "2022-07-14T03:34:32.708220Z"
    }
   },
   "outputs": [
    {
     "name": "stdout",
     "output_type": "stream",
     "text": [
      "\n",
      "## You are using the Python ARM Radar Toolkit (Py-ART), an open source\n",
      "## library for working with weather radar data. Py-ART is partly\n",
      "## supported by the U.S. Department of Energy as part of the Atmospheric\n",
      "## Radiation Measurement (ARM) Climate Research Facility, an Office of\n",
      "## Science user facility.\n",
      "##\n",
      "## If you use this software to prepare a publication, please cite:\n",
      "##\n",
      "##     JJ Helmus and SM Collis, JORS 2016, doi: 10.5334/jors.119\n",
      "\n"
     ]
    },
    {
     "name": "stderr",
     "output_type": "stream",
     "text": [
      "/home/student.unimelb.edu.au/shorte1/anaconda3/envs/CPOL_analysis/lib/python3.8/site-packages/networkx/readwrite/graphml.py:346: DeprecationWarning: `np.int` is a deprecated alias for the builtin `int`. To silence this warning, use `int` by itself. Doing this will not modify any behavior and is safe. When replacing `np.int`, you may wish to use e.g. `np.int64` or `np.int32` to specify the precision. If you wish to review your current use, check the release note link for additional information.\n",
      "Deprecated in NumPy 1.20; for more details and guidance: https://numpy.org/devdocs/release/1.20.0-notes.html#deprecations\n",
      "  (np.int, \"int\"), (np.int8, \"int\"),\n",
      "/home/student.unimelb.edu.au/shorte1/anaconda3/envs/CPOL_analysis/lib/python3.8/site-packages/networkx/readwrite/gexf.py:220: DeprecationWarning: `np.int` is a deprecated alias for the builtin `int`. To silence this warning, use `int` by itself. Doing this will not modify any behavior and is safe. When replacing `np.int`, you may wish to use e.g. `np.int64` or `np.int32` to specify the precision. If you wish to review your current use, check the release note link for additional information.\n",
      "Deprecated in NumPy 1.20; for more details and guidance: https://numpy.org/devdocs/release/1.20.0-notes.html#deprecations\n",
      "  (np.int, \"int\"), (np.int8, \"int\"),\n",
      "/home/student.unimelb.edu.au/shorte1/anaconda3/envs/CPOL_analysis/lib/python3.8/site-packages/numba/core/types/__init__.py:108: DeprecationWarning: `np.long` is a deprecated alias for `np.compat.long`. To silence this warning, use `np.compat.long` by itself. In the likely event your code does not need to work on Python 2 you can use the builtin `int` for which `np.compat.long` is itself an alias. Doing this will not modify any behaviour and is safe. When replacing `np.long`, you may wish to use e.g. `np.int64` or `np.int32` to specify the precision. If you wish to review your current use, check the release note link for additional information.\n",
      "Deprecated in NumPy 1.20; for more details and guidance: https://numpy.org/devdocs/release/1.20.0-notes.html#deprecations\n",
      "  long_ = _make_signed(np.long)\n",
      "/home/student.unimelb.edu.au/shorte1/anaconda3/envs/CPOL_analysis/lib/python3.8/site-packages/numba/core/types/__init__.py:109: DeprecationWarning: `np.long` is a deprecated alias for `np.compat.long`. To silence this warning, use `np.compat.long` by itself. In the likely event your code does not need to work on Python 2 you can use the builtin `int` for which `np.compat.long` is itself an alias. Doing this will not modify any behaviour and is safe. When replacing `np.long`, you may wish to use e.g. `np.int64` or `np.int32` to specify the precision. If you wish to review your current use, check the release note link for additional information.\n",
      "Deprecated in NumPy 1.20; for more details and guidance: https://numpy.org/devdocs/release/1.20.0-notes.html#deprecations\n",
      "  ulong = _make_unsigned(np.long)\n"
     ]
    },
    {
     "name": "stdout",
     "output_type": "stream",
     "text": [
      "Automatic pdb calling has been turned ON\n"
     ]
    }
   ],
   "source": [
    "# Core\n",
    "import datetime\n",
    "import os\n",
    "import glob\n",
    "import tempfile\n",
    "import pickle\n",
    "import copy\n",
    "\n",
    "# Analysis\n",
    "import numpy as np\n",
    "import pandas as pd\n",
    "import xarray as xr\n",
    "\n",
    "# Plotting\n",
    "import matplotlib.pyplot as plt\n",
    "import matplotlib as mpl\n",
    "from matplotlib import rcParams\n",
    "\n",
    "# Debugging\n",
    "import pdb, traceback\n",
    "# %load_ext line_profiler\n",
    "\n",
    "# Radar Tools\n",
    "import pyart\n",
    "import tint\n",
    "# import tint.animate\n",
    "# from tint.visualisation import animate\n",
    "\n",
    "import CPOL_func as cf\n",
    "import classification as cl\n",
    "import caine_func as caf\n",
    "import analysis\n",
    "\n",
    "# Convenience functions\n",
    "%load_ext autoreload\n",
    "%autoreload 1\n",
    "%aimport CPOL_func\n",
    "%aimport caine_func\n",
    "%aimport classification\n",
    "%aimport tint.visualisation.figures\n",
    "%aimport tint.visualisation.animate\n",
    "%aimport tint.visualisation.horizontal_helpers\n",
    "%aimport tint.visualisation.vertical_helpers\n",
    "%aimport tint.tracks\n",
    "%aimport tint.objects\n",
    "%aimport tint.grid_utils\n",
    "%aimport tint.steiner\n",
    "%aimport tint.matching\n",
    "%aimport tint.rain\n",
    "%aimport tint.cells\n",
    "%aimport tint.tracks_helpers\n",
    "%aimport tint.process_ERA5\n",
    "%aimport tint.process_WRF\n",
    "\n",
    "%pdb"
   ]
  },
  {
   "cell_type": "code",
   "execution_count": 4,
   "id": "db14a847",
   "metadata": {
    "ExecuteTime": {
     "end_time": "2022-07-14T03:34:34.489242Z",
     "start_time": "2022-07-14T03:34:34.485494Z"
    },
    "scrolled": true
   },
   "outputs": [],
   "source": [
    "base_dir = '/media/shorte1/Ewan\\'s Hard Drive/phd/data/CPOL/'\n",
    "save_dir = '/home/student.unimelb.edu.au/shorte1/Documents/TINT_tracks/'\n",
    "fig_dir = '/home/student.unimelb.edu.au/shorte1/Documents/TINT_figures/'\n",
    "ERA5_dir = '/media/shorte1/Ewan\\'s Hard Drive/phd/data/era5/'\n",
    "ERA5_dir += 'pressure-levels/reanalysis/'\n",
    "WRF_dir = '/media/shorte1/Ewan\\'s Hard Drive/phd/data/caine_WRF_data/'"
   ]
  },
  {
   "cell_type": "code",
   "execution_count": 16,
   "id": "0f19e0ee",
   "metadata": {
    "ExecuteTime": {
     "end_time": "2021-12-13T23:54:08.211457Z",
     "start_time": "2021-12-13T23:54:08.197547Z"
    }
   },
   "outputs": [],
   "source": [
    "base_dir = '/g/data/hj10/cpol/cpol_level_1b/v2020/gridded/grid_150km_2500m/'\n",
    "save_dir = '/home/563/esh563/TINT_tracks/'\n",
    "fig_dir = '/home/563/esh563/TINT_figures/'\n",
    "ERA5_dir = '/g/data/rt52/era5/pressure-levels/reanalysis/'"
   ]
  },
  {
   "cell_type": "code",
   "execution_count": 5,
   "id": "939382f8",
   "metadata": {
    "ExecuteTime": {
     "end_time": "2022-07-14T03:34:35.109266Z",
     "start_time": "2022-07-14T03:34:35.097941Z"
    }
   },
   "outputs": [],
   "source": [
    "rcParams.update({'font.family': 'serif'})\n",
    "rcParams.update({'font.serif': 'Liberation Serif'})\n",
    "rcParams.update({'mathtext.fontset': 'dejavuserif'})\n",
    "rcParams.update({'font.size': 12})"
   ]
  },
  {
   "cell_type": "markdown",
   "id": "6bdd0f8e",
   "metadata": {},
   "source": [
    "# Load Tracks"
   ]
  },
  {
   "cell_type": "code",
   "execution_count": 6,
   "id": "a945c715",
   "metadata": {
    "ExecuteTime": {
     "end_time": "2022-07-14T03:35:17.688706Z",
     "start_time": "2022-07-14T03:34:40.796207Z"
    },
    "scrolled": true
   },
   "outputs": [
    {
     "name": "stdout",
     "output_type": "stream",
     "text": [
      "Getting classes for test:ACCESS_63.\n",
      "Processing year 2020\n",
      "Getting new exclusions.\n",
      "Calculating system tracks.\n",
      "Adding Pope monsoon regime.\n",
      "Processing year 2021\n",
      "Getting new exclusions.\n",
      "Calculating system tracks.\n",
      "Adding Pope monsoon regime.\n",
      "Getting classes for test:ACCESS_77.\n",
      "Processing year 2020\n",
      "Getting new exclusions.\n",
      "Calculating system tracks.\n",
      "Adding Pope monsoon regime.\n",
      "Processing year 2021\n",
      "Getting new exclusions.\n",
      "Calculating system tracks.\n",
      "Adding Pope monsoon regime.\n",
      "Getting classes for test:ACCESS_42.\n",
      "Processing year 2020\n",
      "Getting new exclusions.\n",
      "Calculating system tracks.\n",
      "Adding Pope monsoon regime.\n",
      "Processing year 2021\n",
      "Getting new exclusions.\n",
      "Calculating system tracks.\n",
      "Adding Pope monsoon regime.\n"
     ]
    }
   ],
   "source": [
    "class_thresh_base = {\n",
    "    'OFFSET_MAG': 10000,  # metres\n",
    "    'SHEAR_MAG': 2,  # m/s\n",
    "    'VEL_MAG': 5,  # m/s\n",
    "    'REL_VEL_MAG': 2,  # m/s\n",
    "    'ANGLE_BUFFER': 10}\n",
    "\n",
    "excl_thresh_base = {\n",
    "    'SMALL_AREA': 500,  # km^2\n",
    "    'LARGE_AREA': 50000,  # km^2\n",
    "    'BORD_THRESH': 0.001,  # Ratio border pixels to total pixels\n",
    "    'MAJOR_AXIS_LENGTH': 25,  # km\n",
    "    'AXIS_RATIO': 2,\n",
    "    'DURATION': 30}  # minutes\n",
    "\n",
    "test_names = [\n",
    "    'ACCESS_63', 'ACCESS_77', 'ACCESS_42']\n",
    "\n",
    "tracks_dir = [\n",
    "    'ACCESS_63', 'ACCESS_77', 'ACCESS_42']\n",
    "\n",
    "class_threshes = [\n",
    "    None, None, None]\n",
    "\n",
    "\n",
    "excl_threshes = [\n",
    "    None, None, None]\n",
    "\n",
    "non_linear_conds = [\n",
    "    False, False, False]\n",
    "\n",
    "# get_exclusions = [\n",
    "#     False, False, False, False, False, False, True, True,\n",
    "#     True, True, True, True, True, True, False]\n",
    "\n",
    "# for i in range(0, len(test_names)):\n",
    "for i in range(len(tracks_dir)):\n",
    "    \n",
    "    print('Getting classes for test:{}.'.format(test_names[i]))\n",
    "    class_df = cl.get_counts(\n",
    "        base_dir='/home/student.unimelb.edu.au/shorte1/Documents/CPOL_analysis/',\n",
    "        tracks_dir=tracks_dir[i], \n",
    "        class_thresh=class_threshes[i], excl_thresh=excl_threshes[i],\n",
    "        non_linear=non_linear_conds[i], years=[2020, 2021], fake_pope=True)\n",
    "\n",
    "    out_file_name = save_dir + '{}_classes.pkl'.format(test_names[i])\n",
    "    with open(out_file_name, 'wb') as f:\n",
    "        pickle.dump(class_df, f)"
   ]
  },
  {
   "cell_type": "code",
   "execution_count": 69,
   "id": "512ee231",
   "metadata": {
    "ExecuteTime": {
     "end_time": "2022-06-24T07:10:54.804323Z",
     "start_time": "2022-06-24T07:09:58.849820Z"
    },
    "scrolled": true
   },
   "outputs": [
    {
     "name": "stdout",
     "output_type": "stream",
     "text": [
      "Getting classes for test:radar_63.\n",
      "Processing year 2020, month 10, radar, 63\n",
      "Getting new exclusions.\n",
      "Calculating system tracks.\n",
      "Adding Pope monsoon regime.\n",
      "Processing year 2020, month 11, radar, 63\n",
      "Getting new exclusions.\n",
      "Calculating system tracks.\n",
      "Adding Pope monsoon regime.\n",
      "Processing year 2020, month 12, radar, 63\n",
      "Getting new exclusions.\n",
      "Calculating system tracks.\n",
      "Adding Pope monsoon regime.\n",
      "Processing year 2021, month 1, radar, 63\n",
      "Getting new exclusions.\n",
      "Calculating system tracks.\n",
      "Adding Pope monsoon regime.\n",
      "Processing year 2021, month 2, radar, 63\n",
      "Getting new exclusions.\n",
      "Calculating system tracks.\n",
      "Adding Pope monsoon regime.\n",
      "Processing year 2021, month 3, radar, 63\n",
      "Getting new exclusions.\n",
      "Calculating system tracks.\n",
      "Adding Pope monsoon regime.\n",
      "Processing year 2021, month 4, radar, 63\n",
      "Getting new exclusions.\n",
      "Calculating system tracks.\n",
      "Adding Pope monsoon regime.\n",
      "Processing year 2021, month 10, radar, 63\n",
      "Getting new exclusions.\n",
      "Calculating system tracks.\n",
      "Adding Pope monsoon regime.\n",
      "Processing year 2021, month 11, radar, 63\n",
      "Getting new exclusions.\n",
      "Calculating system tracks.\n",
      "Adding Pope monsoon regime.\n",
      "Processing year 2021, month 12, radar, 63\n",
      "Getting new exclusions.\n",
      "Calculating system tracks.\n",
      "Adding Pope monsoon regime.\n",
      "Processing year 2022, month 1, radar, 63\n",
      "Getting new exclusions.\n",
      "Calculating system tracks.\n",
      "Adding Pope monsoon regime.\n",
      "Processing year 2022, month 2, radar, 63\n",
      "Getting new exclusions.\n",
      "Calculating system tracks.\n",
      "Adding Pope monsoon regime.\n",
      "Processing year 2022, month 3, radar, 63\n",
      "Getting new exclusions.\n",
      "Calculating system tracks.\n",
      "Adding Pope monsoon regime.\n",
      "Processing year 2022, month 4, radar, 63\n",
      "Getting new exclusions.\n",
      "Calculating system tracks.\n",
      "Adding Pope monsoon regime.\n",
      "Getting classes for test:radar_77.\n",
      "Processing year 2020, month 10, radar, 77\n",
      "Getting new exclusions.\n",
      "Calculating system tracks.\n",
      "Adding Pope monsoon regime.\n",
      "Processing year 2020, month 11, radar, 77\n",
      "Getting new exclusions.\n",
      "Calculating system tracks.\n",
      "Adding Pope monsoon regime.\n",
      "Processing year 2020, month 12, radar, 77\n",
      "Getting new exclusions.\n",
      "Calculating system tracks.\n",
      "Adding Pope monsoon regime.\n",
      "Processing year 2021, month 1, radar, 77\n",
      "Getting new exclusions.\n",
      "Calculating system tracks.\n",
      "Adding Pope monsoon regime.\n",
      "Processing year 2021, month 2, radar, 77\n",
      "Getting new exclusions.\n",
      "Calculating system tracks.\n",
      "Adding Pope monsoon regime.\n",
      "Processing year 2021, month 3, radar, 77\n",
      "Getting new exclusions.\n",
      "Calculating system tracks.\n",
      "Adding Pope monsoon regime.\n",
      "Processing year 2021, month 4, radar, 77\n",
      "Getting new exclusions.\n",
      "Calculating system tracks.\n",
      "Adding Pope monsoon regime.\n",
      "Processing year 2021, month 10, radar, 77\n",
      "Getting new exclusions.\n",
      "Calculating system tracks.\n",
      "Adding Pope monsoon regime.\n",
      "Processing year 2021, month 11, radar, 77\n",
      "Getting new exclusions.\n",
      "Calculating system tracks.\n",
      "Adding Pope monsoon regime.\n",
      "Processing year 2021, month 12, radar, 77\n",
      "Getting new exclusions.\n",
      "Calculating system tracks.\n",
      "Adding Pope monsoon regime.\n",
      "Processing year 2022, month 1, radar, 77\n",
      "Getting new exclusions.\n",
      "Calculating system tracks.\n",
      "Adding Pope monsoon regime.\n",
      "Processing year 2022, month 2, radar, 77\n",
      "Getting new exclusions.\n",
      "Calculating system tracks.\n",
      "Adding Pope monsoon regime.\n",
      "Processing year 2022, month 3, radar, 77\n",
      "Getting new exclusions.\n",
      "Calculating system tracks.\n",
      "Adding Pope monsoon regime.\n",
      "Processing year 2022, month 4, radar, 77\n",
      "Getting new exclusions.\n",
      "Calculating system tracks.\n",
      "Adding Pope monsoon regime.\n",
      "Getting classes for test:radar_42.\n",
      "Processing year 2020, month 10, radar, 42\n",
      "Getting new exclusions.\n",
      "Calculating system tracks.\n",
      "Adding Pope monsoon regime.\n",
      "Processing year 2020, month 11, radar, 42\n",
      "Getting new exclusions.\n",
      "Calculating system tracks.\n",
      "Adding Pope monsoon regime.\n",
      "Processing year 2020, month 12, radar, 42\n",
      "Getting new exclusions.\n",
      "Calculating system tracks.\n",
      "Adding Pope monsoon regime.\n",
      "Processing year 2021, month 1, radar, 42\n",
      "Getting new exclusions.\n",
      "Calculating system tracks.\n",
      "Adding Pope monsoon regime.\n",
      "Processing year 2021, month 2, radar, 42\n",
      "Getting new exclusions.\n",
      "Calculating system tracks.\n",
      "Adding Pope monsoon regime.\n",
      "Processing year 2021, month 3, radar, 42\n",
      "Getting new exclusions.\n",
      "Calculating system tracks.\n",
      "Adding Pope monsoon regime.\n",
      "Processing year 2021, month 4, radar, 42\n",
      "Getting new exclusions.\n",
      "Calculating system tracks.\n",
      "Adding Pope monsoon regime.\n",
      "No tracks satisfying conditions. Skipping year.\n",
      "Processing year 2021, month 10, radar, 42\n",
      "Getting new exclusions.\n",
      "Calculating system tracks.\n",
      "Adding Pope monsoon regime.\n",
      "Processing year 2021, month 11, radar, 42\n",
      "Getting new exclusions.\n",
      "Calculating system tracks.\n",
      "Adding Pope monsoon regime.\n",
      "Processing year 2021, month 12, radar, 42\n",
      "Getting new exclusions.\n",
      "Calculating system tracks.\n",
      "Adding Pope monsoon regime.\n",
      "Processing year 2022, month 1, radar, 42\n",
      "Getting new exclusions.\n",
      "Calculating system tracks.\n",
      "Adding Pope monsoon regime.\n",
      "Processing year 2022, month 2, radar, 42\n",
      "Getting new exclusions.\n",
      "Calculating system tracks.\n",
      "Adding Pope monsoon regime.\n",
      "Processing year 2022, month 3, radar, 42\n",
      "Getting new exclusions.\n",
      "Calculating system tracks.\n",
      "Adding Pope monsoon regime.\n",
      "Processing year 2022, month 4, radar, 42\n",
      "Getting new exclusions.\n",
      "Calculating system tracks.\n",
      "Adding Pope monsoon regime.\n"
     ]
    }
   ],
   "source": [
    "class_thresh_base = {\n",
    "    'OFFSET_MAG': 10000,  # metres\n",
    "    'SHEAR_MAG': 2,  # m/s\n",
    "    'VEL_MAG': 5,  # m/s\n",
    "    'REL_VEL_MAG': 2,  # m/s\n",
    "    'ANGLE_BUFFER': 10}\n",
    "\n",
    "excl_thresh_base = {\n",
    "    'SMALL_AREA': 500,  # km^2\n",
    "    'LARGE_AREA': 50000,  # km^2\n",
    "    'BORD_THRESH': 0.001,  # Ratio border pixels to total pixels\n",
    "    'MAJOR_AXIS_LENGTH': 25,  # km\n",
    "    'AXIS_RATIO': 2,\n",
    "    'DURATION': 30}  # minutes\n",
    "\n",
    "test_names = [\n",
    "    'radar_63', 'radar_77', 'radar_42']\n",
    "\n",
    "tracks_dir = [\n",
    "    'radar_63', 'radar_77', 'radar_42']\n",
    "\n",
    "radar = [63, 77, 42]\n",
    "\n",
    "class_threshes = [\n",
    "    None, None, None]\n",
    "\n",
    "\n",
    "excl_threshes = [\n",
    "    None, None, None]\n",
    "\n",
    "non_linear_conds = [\n",
    "    False, False, False]\n",
    "\n",
    "# get_exclusions = [\n",
    "#     False, False, False, False, False, False, True, True,\n",
    "#     True, True, True, True, True, True, False]\n",
    "\n",
    "for i in range(len(test_names)):\n",
    "# for i in range(len(tracks_dir)):\n",
    "    \n",
    "    print('Getting classes for test:{}.'.format(test_names[i]))\n",
    "    class_df = cl.get_counts_radar(\n",
    "        base_dir='/home/student.unimelb.edu.au/shorte1/Documents/CPOL_analysis/',\n",
    "        tracks_dir=tracks_dir[i], \n",
    "        class_thresh=class_threshes[i], excl_thresh=excl_threshes[i],\n",
    "        non_linear=non_linear_conds[i], years=[2020, 2021], radar=radar[i])\n",
    "\n",
    "    out_file_name = save_dir + '{}_classes.pkl'.format(test_names[i])\n",
    "    with open(out_file_name, 'wb') as f:\n",
    "        pickle.dump(class_df, f)"
   ]
  },
  {
   "cell_type": "code",
   "execution_count": 7,
   "id": "bb3236e6",
   "metadata": {
    "ExecuteTime": {
     "end_time": "2022-07-14T03:35:17.709122Z",
     "start_time": "2022-07-14T03:35:17.692734Z"
    }
   },
   "outputs": [],
   "source": [
    "radar = [63, 42, 77]\n",
    "classes = []\n",
    "for r in radar:\n",
    "    fn = save_dir + 'ACCESS_{}_classes.pkl'.format(r)\n",
    "    with open(fn, 'rb') as f:\n",
    "        df = pickle.load(f)\n",
    "    df = pd.concat({r: df}, names=['radar'])\n",
    "    classes.append(df)"
   ]
  },
  {
   "cell_type": "code",
   "execution_count": 8,
   "id": "4908105a",
   "metadata": {
    "ExecuteTime": {
     "end_time": "2022-07-14T03:35:17.728879Z",
     "start_time": "2022-07-14T03:35:17.711062Z"
    }
   },
   "outputs": [],
   "source": [
    "combined_classes = pd.concat(classes)\n",
    "out_fn = save_dir + 'combined_ACCESS_classes.pkl'\n",
    "with open(out_fn, 'wb') as f:\n",
    "    pickle.dump(combined_classes, f)"
   ]
  },
  {
   "cell_type": "code",
   "execution_count": 9,
   "id": "3508bd08",
   "metadata": {
    "ExecuteTime": {
     "end_time": "2022-07-14T03:35:21.617153Z",
     "start_time": "2022-07-14T03:35:17.731145Z"
    }
   },
   "outputs": [],
   "source": [
    "sen_dfs = cl.plot_all(\n",
    "    test_names=['combined_ACCESS', 'combined_radar'], \n",
    "    test_dir=['combined_ACCESS', 'combined_radar'])"
   ]
  },
  {
   "cell_type": "code",
   "execution_count": 8,
   "id": "84e5d770",
   "metadata": {
    "ExecuteTime": {
     "end_time": "2022-07-11T23:54:42.274258Z",
     "start_time": "2022-07-11T23:54:38.393765Z"
    }
   },
   "outputs": [],
   "source": [
    "cl.plot_comparison()"
   ]
  },
  {
   "cell_type": "code",
   "execution_count": 11,
   "id": "913486f5",
   "metadata": {
    "ExecuteTime": {
     "end_time": "2022-06-10T01:41:00.240820Z",
     "start_time": "2022-06-10T01:41:00.231320Z"
    }
   },
   "outputs": [],
   "source": [
    "base_dir = '/home/student.unimelb.edu.au/shorte1/Documents/'\n",
    "class_path = base_dir + 'TINT_tracks/'\n",
    "class_path += 'base_classes.pkl'\n",
    "\n",
    "with open(class_path, 'rb') as f:\n",
    "    class_df = pickle.load(f)"
   ]
  },
  {
   "cell_type": "code",
   "execution_count": 48,
   "id": "062bf2f5",
   "metadata": {
    "ExecuteTime": {
     "end_time": "2022-06-27T01:33:49.470175Z",
     "start_time": "2022-06-27T01:33:44.276406Z"
    }
   },
   "outputs": [
    {
     "ename": "KeyError",
     "evalue": "3",
     "output_type": "error",
     "traceback": [
      "\u001b[0;31m---------------------------------------------------------------------------\u001b[0m",
      "\u001b[0;31mKeyError\u001b[0m                                  Traceback (most recent call last)",
      "\u001b[0;32m~/anaconda3/envs/CPOL_analysis/lib/python3.8/site-packages/pandas/core/indexes/base.py\u001b[0m in \u001b[0;36mget_loc\u001b[0;34m(self, key, method, tolerance)\u001b[0m\n\u001b[1;32m   3360\u001b[0m             \u001b[0;32mtry\u001b[0m\u001b[0;34m:\u001b[0m\u001b[0;34m\u001b[0m\u001b[0;34m\u001b[0m\u001b[0m\n\u001b[0;32m-> 3361\u001b[0;31m                 \u001b[0;32mreturn\u001b[0m \u001b[0mself\u001b[0m\u001b[0;34m.\u001b[0m\u001b[0m_engine\u001b[0m\u001b[0;34m.\u001b[0m\u001b[0mget_loc\u001b[0m\u001b[0;34m(\u001b[0m\u001b[0mcasted_key\u001b[0m\u001b[0;34m)\u001b[0m\u001b[0;34m\u001b[0m\u001b[0;34m\u001b[0m\u001b[0m\n\u001b[0m\u001b[1;32m   3362\u001b[0m             \u001b[0;32mexcept\u001b[0m \u001b[0mKeyError\u001b[0m \u001b[0;32mas\u001b[0m \u001b[0merr\u001b[0m\u001b[0;34m:\u001b[0m\u001b[0;34m\u001b[0m\u001b[0;34m\u001b[0m\u001b[0m\n",
      "\u001b[0;32m~/anaconda3/envs/CPOL_analysis/lib/python3.8/site-packages/pandas/_libs/index.pyx\u001b[0m in \u001b[0;36mpandas._libs.index.IndexEngine.get_loc\u001b[0;34m()\u001b[0m\n",
      "\u001b[0;32m~/anaconda3/envs/CPOL_analysis/lib/python3.8/site-packages/pandas/_libs/index.pyx\u001b[0m in \u001b[0;36mpandas._libs.index.IndexEngine.get_loc\u001b[0;34m()\u001b[0m\n",
      "\u001b[0;32mpandas/_libs/hashtable_class_helper.pxi\u001b[0m in \u001b[0;36mpandas._libs.hashtable.Int64HashTable.get_item\u001b[0;34m()\u001b[0m\n",
      "\u001b[0;32mpandas/_libs/hashtable_class_helper.pxi\u001b[0m in \u001b[0;36mpandas._libs.hashtable.Int64HashTable.get_item\u001b[0;34m()\u001b[0m\n",
      "\u001b[0;31mKeyError\u001b[0m: 3",
      "\nThe above exception was the direct cause of the following exception:\n",
      "\u001b[0;31mKeyError\u001b[0m                                  Traceback (most recent call last)",
      "\u001b[0;32m/tmp/ipykernel_26331/3543185262.py\u001b[0m in \u001b[0;36m<module>\u001b[0;34m\u001b[0m\n\u001b[1;32m     19\u001b[0m         \u001b[0mclass_df\u001b[0m \u001b[0;34m=\u001b[0m \u001b[0mpickle\u001b[0m\u001b[0;34m.\u001b[0m\u001b[0mload\u001b[0m\u001b[0;34m(\u001b[0m\u001b[0mf\u001b[0m\u001b[0;34m)\u001b[0m\u001b[0;34m\u001b[0m\u001b[0;34m\u001b[0m\u001b[0m\n\u001b[1;32m     20\u001b[0m \u001b[0;34m\u001b[0m\u001b[0m\n\u001b[0;32m---> 21\u001b[0;31m     \u001b[0mcl\u001b[0m\u001b[0;34m.\u001b[0m\u001b[0mpope_comparison\u001b[0m\u001b[0;34m(\u001b[0m\u001b[0mclass_df\u001b[0m\u001b[0;34m=\u001b[0m\u001b[0mclass_df\u001b[0m\u001b[0;34m)\u001b[0m\u001b[0;34m\u001b[0m\u001b[0;34m\u001b[0m\u001b[0m\n\u001b[0m\u001b[1;32m     22\u001b[0m \u001b[0;34m\u001b[0m\u001b[0m\n\u001b[1;32m     23\u001b[0m     \u001b[0mfn\u001b[0m \u001b[0;34m=\u001b[0m \u001b[0;34m'pope_breakdown_{}.png'\u001b[0m\u001b[0;34m.\u001b[0m\u001b[0mformat\u001b[0m\u001b[0;34m(\u001b[0m\u001b[0mtest_names\u001b[0m\u001b[0;34m[\u001b[0m\u001b[0mi\u001b[0m\u001b[0;34m]\u001b[0m\u001b[0;34m)\u001b[0m\u001b[0;34m\u001b[0m\u001b[0;34m\u001b[0m\u001b[0m\n",
      "\u001b[0;32m~/Documents/CPOL_analysis/classification.py\u001b[0m in \u001b[0;36mpope_comparison\u001b[0;34m(class_df)\u001b[0m\n\u001b[1;32m   1157\u001b[0m \u001b[0;34m\u001b[0m\u001b[0m\n\u001b[1;32m   1158\u001b[0m     \u001b[0;32mfor\u001b[0m \u001b[0mi\u001b[0m \u001b[0;32min\u001b[0m \u001b[0mrange\u001b[0m\u001b[0;34m(\u001b[0m\u001b[0;36m1\u001b[0m\u001b[0;34m,\u001b[0m \u001b[0;36m6\u001b[0m\u001b[0;34m)\u001b[0m\u001b[0;34m:\u001b[0m\u001b[0;34m\u001b[0m\u001b[0;34m\u001b[0m\u001b[0m\n\u001b[0;32m-> 1159\u001b[0;31m         plot_categories(\n\u001b[0m\u001b[1;32m   1160\u001b[0m             \u001b[0mclass_df\u001b[0m\u001b[0;34m=\u001b[0m\u001b[0mclass_df\u001b[0m\u001b[0;34m,\u001b[0m \u001b[0mpope_regime\u001b[0m\u001b[0;34m=\u001b[0m\u001b[0mi\u001b[0m\u001b[0;34m,\u001b[0m \u001b[0mfig\u001b[0m\u001b[0;34m=\u001b[0m\u001b[0mfig\u001b[0m\u001b[0;34m,\u001b[0m \u001b[0max\u001b[0m\u001b[0;34m=\u001b[0m\u001b[0maxes\u001b[0m\u001b[0;34m.\u001b[0m\u001b[0mflatten\u001b[0m\u001b[0;34m(\u001b[0m\u001b[0;34m)\u001b[0m\u001b[0;34m[\u001b[0m\u001b[0mi\u001b[0m\u001b[0;34m]\u001b[0m\u001b[0;34m,\u001b[0m\u001b[0;34m\u001b[0m\u001b[0;34m\u001b[0m\u001b[0m\n\u001b[1;32m   1161\u001b[0m             title=titles[i])\n",
      "\u001b[0;32m~/Documents/CPOL_analysis/classification.py\u001b[0m in \u001b[0;36mplot_categories\u001b[0;34m(class_df, pope_regime, fig, ax, title)\u001b[0m\n\u001b[1;32m   1065\u001b[0m     \u001b[0mcounts_df\u001b[0m \u001b[0;34m=\u001b[0m \u001b[0mpd\u001b[0m\u001b[0;34m.\u001b[0m\u001b[0mDataFrame\u001b[0m\u001b[0;34m(\u001b[0m\u001b[0;34m{\u001b[0m\u001b[0;34m'count'\u001b[0m\u001b[0;34m:\u001b[0m \u001b[0mclass_df\u001b[0m\u001b[0;34m.\u001b[0m\u001b[0mvalue_counts\u001b[0m\u001b[0;34m(\u001b[0m\u001b[0;34m)\u001b[0m\u001b[0;34m}\u001b[0m\u001b[0;34m)\u001b[0m\u001b[0;34m\u001b[0m\u001b[0;34m\u001b[0m\u001b[0m\n\u001b[1;32m   1066\u001b[0m     \u001b[0;32mif\u001b[0m \u001b[0mpope_regime\u001b[0m \u001b[0;32mis\u001b[0m \u001b[0;32mnot\u001b[0m \u001b[0;32mNone\u001b[0m\u001b[0;34m:\u001b[0m\u001b[0;34m\u001b[0m\u001b[0;34m\u001b[0m\u001b[0m\n\u001b[0;32m-> 1067\u001b[0;31m         \u001b[0mcounts_df\u001b[0m \u001b[0;34m=\u001b[0m \u001b[0mcounts_df\u001b[0m\u001b[0;34m.\u001b[0m\u001b[0mxs\u001b[0m\u001b[0;34m(\u001b[0m\u001b[0mpope_regime\u001b[0m\u001b[0;34m,\u001b[0m \u001b[0mlevel\u001b[0m\u001b[0;34m=\u001b[0m\u001b[0;34m'pope_regime'\u001b[0m\u001b[0;34m)\u001b[0m\u001b[0;34m\u001b[0m\u001b[0;34m\u001b[0m\u001b[0m\n\u001b[0m\u001b[1;32m   1068\u001b[0m \u001b[0;34m\u001b[0m\u001b[0m\n\u001b[1;32m   1069\u001b[0m     \u001b[0mratio\u001b[0m \u001b[0;34m=\u001b[0m \u001b[0mcounts_df\u001b[0m\u001b[0;34m[\u001b[0m\u001b[0;34m'count'\u001b[0m\u001b[0;34m]\u001b[0m\u001b[0;34m/\u001b[0m\u001b[0mcounts_df\u001b[0m\u001b[0;34m[\u001b[0m\u001b[0;34m'count'\u001b[0m\u001b[0;34m]\u001b[0m\u001b[0;34m.\u001b[0m\u001b[0msum\u001b[0m\u001b[0;34m(\u001b[0m\u001b[0;34m)\u001b[0m\u001b[0;34m\u001b[0m\u001b[0;34m\u001b[0m\u001b[0m\n",
      "\u001b[0;32m~/anaconda3/envs/CPOL_analysis/lib/python3.8/site-packages/pandas/core/generic.py\u001b[0m in \u001b[0;36mxs\u001b[0;34m(self, key, axis, level, drop_level)\u001b[0m\n\u001b[1;32m   3743\u001b[0m             \u001b[0;32mif\u001b[0m \u001b[0;32mnot\u001b[0m \u001b[0misinstance\u001b[0m\u001b[0;34m(\u001b[0m\u001b[0mlabels\u001b[0m\u001b[0;34m,\u001b[0m \u001b[0mMultiIndex\u001b[0m\u001b[0;34m)\u001b[0m\u001b[0;34m:\u001b[0m\u001b[0;34m\u001b[0m\u001b[0;34m\u001b[0m\u001b[0m\n\u001b[1;32m   3744\u001b[0m                 \u001b[0;32mraise\u001b[0m \u001b[0mTypeError\u001b[0m\u001b[0;34m(\u001b[0m\u001b[0;34m\"Index must be a MultiIndex\"\u001b[0m\u001b[0;34m)\u001b[0m\u001b[0;34m\u001b[0m\u001b[0;34m\u001b[0m\u001b[0m\n\u001b[0;32m-> 3745\u001b[0;31m             \u001b[0mloc\u001b[0m\u001b[0;34m,\u001b[0m \u001b[0mnew_ax\u001b[0m \u001b[0;34m=\u001b[0m \u001b[0mlabels\u001b[0m\u001b[0;34m.\u001b[0m\u001b[0mget_loc_level\u001b[0m\u001b[0;34m(\u001b[0m\u001b[0mkey\u001b[0m\u001b[0;34m,\u001b[0m \u001b[0mlevel\u001b[0m\u001b[0;34m=\u001b[0m\u001b[0mlevel\u001b[0m\u001b[0;34m,\u001b[0m \u001b[0mdrop_level\u001b[0m\u001b[0;34m=\u001b[0m\u001b[0mdrop_level\u001b[0m\u001b[0;34m)\u001b[0m\u001b[0;34m\u001b[0m\u001b[0;34m\u001b[0m\u001b[0m\n\u001b[0m\u001b[1;32m   3746\u001b[0m \u001b[0;34m\u001b[0m\u001b[0m\n\u001b[1;32m   3747\u001b[0m             \u001b[0;31m# create the tuple of the indexer\u001b[0m\u001b[0;34m\u001b[0m\u001b[0;34m\u001b[0m\u001b[0;34m\u001b[0m\u001b[0m\n",
      "\u001b[0;32m~/anaconda3/envs/CPOL_analysis/lib/python3.8/site-packages/pandas/core/indexes/multi.py\u001b[0m in \u001b[0;36mget_loc_level\u001b[0;34m(self, key, level, drop_level)\u001b[0m\n\u001b[1;32m   3009\u001b[0m         \u001b[0;32melse\u001b[0m\u001b[0;34m:\u001b[0m\u001b[0;34m\u001b[0m\u001b[0;34m\u001b[0m\u001b[0m\n\u001b[1;32m   3010\u001b[0m             \u001b[0mlevel\u001b[0m \u001b[0;34m=\u001b[0m \u001b[0;34m[\u001b[0m\u001b[0mself\u001b[0m\u001b[0;34m.\u001b[0m\u001b[0m_get_level_number\u001b[0m\u001b[0;34m(\u001b[0m\u001b[0mlev\u001b[0m\u001b[0;34m)\u001b[0m \u001b[0;32mfor\u001b[0m \u001b[0mlev\u001b[0m \u001b[0;32min\u001b[0m \u001b[0mlevel\u001b[0m\u001b[0;34m]\u001b[0m\u001b[0;34m\u001b[0m\u001b[0;34m\u001b[0m\u001b[0m\n\u001b[0;32m-> 3011\u001b[0;31m         \u001b[0;32mreturn\u001b[0m \u001b[0mself\u001b[0m\u001b[0;34m.\u001b[0m\u001b[0m_get_loc_level\u001b[0m\u001b[0;34m(\u001b[0m\u001b[0mkey\u001b[0m\u001b[0;34m,\u001b[0m \u001b[0mlevel\u001b[0m\u001b[0;34m=\u001b[0m\u001b[0mlevel\u001b[0m\u001b[0;34m,\u001b[0m \u001b[0mdrop_level\u001b[0m\u001b[0;34m=\u001b[0m\u001b[0mdrop_level\u001b[0m\u001b[0;34m)\u001b[0m\u001b[0;34m\u001b[0m\u001b[0;34m\u001b[0m\u001b[0m\n\u001b[0m\u001b[1;32m   3012\u001b[0m \u001b[0;34m\u001b[0m\u001b[0m\n\u001b[1;32m   3013\u001b[0m     \u001b[0;32mdef\u001b[0m \u001b[0m_get_loc_level\u001b[0m\u001b[0;34m(\u001b[0m\u001b[0mself\u001b[0m\u001b[0;34m,\u001b[0m \u001b[0mkey\u001b[0m\u001b[0;34m,\u001b[0m \u001b[0mlevel\u001b[0m\u001b[0;34m:\u001b[0m \u001b[0mint\u001b[0m \u001b[0;34m|\u001b[0m \u001b[0mlist\u001b[0m\u001b[0;34m[\u001b[0m\u001b[0mint\u001b[0m\u001b[0;34m]\u001b[0m \u001b[0;34m=\u001b[0m \u001b[0;36m0\u001b[0m\u001b[0;34m,\u001b[0m \u001b[0mdrop_level\u001b[0m\u001b[0;34m:\u001b[0m \u001b[0mbool\u001b[0m \u001b[0;34m=\u001b[0m \u001b[0;32mTrue\u001b[0m\u001b[0;34m)\u001b[0m\u001b[0;34m:\u001b[0m\u001b[0;34m\u001b[0m\u001b[0;34m\u001b[0m\u001b[0m\n",
      "\u001b[0;32m~/anaconda3/envs/CPOL_analysis/lib/python3.8/site-packages/pandas/core/indexes/multi.py\u001b[0m in \u001b[0;36m_get_loc_level\u001b[0;34m(self, key, level, drop_level)\u001b[0m\n\u001b[1;32m   3110\u001b[0m                 \u001b[0;32mreturn\u001b[0m \u001b[0mindexer\u001b[0m\u001b[0;34m,\u001b[0m \u001b[0mmaybe_mi_droplevels\u001b[0m\u001b[0;34m(\u001b[0m\u001b[0mindexer\u001b[0m\u001b[0;34m,\u001b[0m \u001b[0milevels\u001b[0m\u001b[0;34m,\u001b[0m \u001b[0mdrop_level\u001b[0m\u001b[0;34m)\u001b[0m\u001b[0;34m\u001b[0m\u001b[0;34m\u001b[0m\u001b[0m\n\u001b[1;32m   3111\u001b[0m         \u001b[0;32melse\u001b[0m\u001b[0;34m:\u001b[0m\u001b[0;34m\u001b[0m\u001b[0;34m\u001b[0m\u001b[0m\n\u001b[0;32m-> 3112\u001b[0;31m             \u001b[0mindexer\u001b[0m \u001b[0;34m=\u001b[0m \u001b[0mself\u001b[0m\u001b[0;34m.\u001b[0m\u001b[0m_get_level_indexer\u001b[0m\u001b[0;34m(\u001b[0m\u001b[0mkey\u001b[0m\u001b[0;34m,\u001b[0m \u001b[0mlevel\u001b[0m\u001b[0;34m=\u001b[0m\u001b[0mlevel\u001b[0m\u001b[0;34m)\u001b[0m\u001b[0;34m\u001b[0m\u001b[0;34m\u001b[0m\u001b[0m\n\u001b[0m\u001b[1;32m   3113\u001b[0m             \u001b[0;32mreturn\u001b[0m \u001b[0mindexer\u001b[0m\u001b[0;34m,\u001b[0m \u001b[0mmaybe_mi_droplevels\u001b[0m\u001b[0;34m(\u001b[0m\u001b[0mindexer\u001b[0m\u001b[0;34m,\u001b[0m \u001b[0;34m[\u001b[0m\u001b[0mlevel\u001b[0m\u001b[0;34m]\u001b[0m\u001b[0;34m,\u001b[0m \u001b[0mdrop_level\u001b[0m\u001b[0;34m)\u001b[0m\u001b[0;34m\u001b[0m\u001b[0;34m\u001b[0m\u001b[0m\n\u001b[1;32m   3114\u001b[0m \u001b[0;34m\u001b[0m\u001b[0m\n",
      "\u001b[0;32m~/anaconda3/envs/CPOL_analysis/lib/python3.8/site-packages/pandas/core/indexes/multi.py\u001b[0m in \u001b[0;36m_get_level_indexer\u001b[0;34m(self, key, level, indexer)\u001b[0m\n\u001b[1;32m   3202\u001b[0m         \u001b[0;32melse\u001b[0m\u001b[0;34m:\u001b[0m\u001b[0;34m\u001b[0m\u001b[0;34m\u001b[0m\u001b[0m\n\u001b[1;32m   3203\u001b[0m \u001b[0;34m\u001b[0m\u001b[0m\n\u001b[0;32m-> 3204\u001b[0;31m             \u001b[0midx\u001b[0m \u001b[0;34m=\u001b[0m \u001b[0mself\u001b[0m\u001b[0;34m.\u001b[0m\u001b[0m_get_loc_single_level_index\u001b[0m\u001b[0;34m(\u001b[0m\u001b[0mlevel_index\u001b[0m\u001b[0;34m,\u001b[0m \u001b[0mkey\u001b[0m\u001b[0;34m)\u001b[0m\u001b[0;34m\u001b[0m\u001b[0;34m\u001b[0m\u001b[0m\n\u001b[0m\u001b[1;32m   3205\u001b[0m \u001b[0;34m\u001b[0m\u001b[0m\n\u001b[1;32m   3206\u001b[0m             \u001b[0;32mif\u001b[0m \u001b[0mlevel\u001b[0m \u001b[0;34m>\u001b[0m \u001b[0;36m0\u001b[0m \u001b[0;32mor\u001b[0m \u001b[0mself\u001b[0m\u001b[0;34m.\u001b[0m\u001b[0m_lexsort_depth\u001b[0m \u001b[0;34m==\u001b[0m \u001b[0;36m0\u001b[0m\u001b[0;34m:\u001b[0m\u001b[0;34m\u001b[0m\u001b[0;34m\u001b[0m\u001b[0m\n",
      "\u001b[0;32m~/anaconda3/envs/CPOL_analysis/lib/python3.8/site-packages/pandas/core/indexes/multi.py\u001b[0m in \u001b[0;36m_get_loc_single_level_index\u001b[0;34m(self, level_index, key)\u001b[0m\n\u001b[1;32m   2853\u001b[0m             \u001b[0;32mreturn\u001b[0m \u001b[0;34m-\u001b[0m\u001b[0;36m1\u001b[0m\u001b[0;34m\u001b[0m\u001b[0;34m\u001b[0m\u001b[0m\n\u001b[1;32m   2854\u001b[0m         \u001b[0;32melse\u001b[0m\u001b[0;34m:\u001b[0m\u001b[0;34m\u001b[0m\u001b[0;34m\u001b[0m\u001b[0m\n\u001b[0;32m-> 2855\u001b[0;31m             \u001b[0;32mreturn\u001b[0m \u001b[0mlevel_index\u001b[0m\u001b[0;34m.\u001b[0m\u001b[0mget_loc\u001b[0m\u001b[0;34m(\u001b[0m\u001b[0mkey\u001b[0m\u001b[0;34m)\u001b[0m\u001b[0;34m\u001b[0m\u001b[0;34m\u001b[0m\u001b[0m\n\u001b[0m\u001b[1;32m   2856\u001b[0m \u001b[0;34m\u001b[0m\u001b[0m\n\u001b[1;32m   2857\u001b[0m     \u001b[0;32mdef\u001b[0m \u001b[0mget_loc\u001b[0m\u001b[0;34m(\u001b[0m\u001b[0mself\u001b[0m\u001b[0;34m,\u001b[0m \u001b[0mkey\u001b[0m\u001b[0;34m,\u001b[0m \u001b[0mmethod\u001b[0m\u001b[0;34m=\u001b[0m\u001b[0;32mNone\u001b[0m\u001b[0;34m)\u001b[0m\u001b[0;34m:\u001b[0m\u001b[0;34m\u001b[0m\u001b[0;34m\u001b[0m\u001b[0m\n",
      "\u001b[0;32m~/anaconda3/envs/CPOL_analysis/lib/python3.8/site-packages/pandas/core/indexes/base.py\u001b[0m in \u001b[0;36mget_loc\u001b[0;34m(self, key, method, tolerance)\u001b[0m\n\u001b[1;32m   3361\u001b[0m                 \u001b[0;32mreturn\u001b[0m \u001b[0mself\u001b[0m\u001b[0;34m.\u001b[0m\u001b[0m_engine\u001b[0m\u001b[0;34m.\u001b[0m\u001b[0mget_loc\u001b[0m\u001b[0;34m(\u001b[0m\u001b[0mcasted_key\u001b[0m\u001b[0;34m)\u001b[0m\u001b[0;34m\u001b[0m\u001b[0;34m\u001b[0m\u001b[0m\n\u001b[1;32m   3362\u001b[0m             \u001b[0;32mexcept\u001b[0m \u001b[0mKeyError\u001b[0m \u001b[0;32mas\u001b[0m \u001b[0merr\u001b[0m\u001b[0;34m:\u001b[0m\u001b[0;34m\u001b[0m\u001b[0;34m\u001b[0m\u001b[0m\n\u001b[0;32m-> 3363\u001b[0;31m                 \u001b[0;32mraise\u001b[0m \u001b[0mKeyError\u001b[0m\u001b[0;34m(\u001b[0m\u001b[0mkey\u001b[0m\u001b[0;34m)\u001b[0m \u001b[0;32mfrom\u001b[0m \u001b[0merr\u001b[0m\u001b[0;34m\u001b[0m\u001b[0;34m\u001b[0m\u001b[0m\n\u001b[0m\u001b[1;32m   3364\u001b[0m \u001b[0;34m\u001b[0m\u001b[0m\n\u001b[1;32m   3365\u001b[0m         \u001b[0;32mif\u001b[0m \u001b[0mis_scalar\u001b[0m\u001b[0;34m(\u001b[0m\u001b[0mkey\u001b[0m\u001b[0;34m)\u001b[0m \u001b[0;32mand\u001b[0m \u001b[0misna\u001b[0m\u001b[0;34m(\u001b[0m\u001b[0mkey\u001b[0m\u001b[0;34m)\u001b[0m \u001b[0;32mand\u001b[0m \u001b[0;32mnot\u001b[0m \u001b[0mself\u001b[0m\u001b[0;34m.\u001b[0m\u001b[0mhasnans\u001b[0m\u001b[0;34m:\u001b[0m\u001b[0;34m\u001b[0m\u001b[0;34m\u001b[0m\u001b[0m\n",
      "\u001b[0;31mKeyError\u001b[0m: 3"
     ]
    },
    {
     "name": "stdout",
     "output_type": "stream",
     "text": [
      "> \u001b[0;32m/home/student.unimelb.edu.au/shorte1/anaconda3/envs/CPOL_analysis/lib/python3.8/site-packages/pandas/core/indexes/base.py\u001b[0m(3363)\u001b[0;36mget_loc\u001b[0;34m()\u001b[0m\n",
      "\u001b[0;32m   3361 \u001b[0;31m                \u001b[0;32mreturn\u001b[0m \u001b[0mself\u001b[0m\u001b[0;34m.\u001b[0m\u001b[0m_engine\u001b[0m\u001b[0;34m.\u001b[0m\u001b[0mget_loc\u001b[0m\u001b[0;34m(\u001b[0m\u001b[0mcasted_key\u001b[0m\u001b[0;34m)\u001b[0m\u001b[0;34m\u001b[0m\u001b[0;34m\u001b[0m\u001b[0m\n",
      "\u001b[0m\u001b[0;32m   3362 \u001b[0;31m            \u001b[0;32mexcept\u001b[0m \u001b[0mKeyError\u001b[0m \u001b[0;32mas\u001b[0m \u001b[0merr\u001b[0m\u001b[0;34m:\u001b[0m\u001b[0;34m\u001b[0m\u001b[0;34m\u001b[0m\u001b[0m\n",
      "\u001b[0m\u001b[0;32m-> 3363 \u001b[0;31m                \u001b[0;32mraise\u001b[0m \u001b[0mKeyError\u001b[0m\u001b[0;34m(\u001b[0m\u001b[0mkey\u001b[0m\u001b[0;34m)\u001b[0m \u001b[0;32mfrom\u001b[0m \u001b[0merr\u001b[0m\u001b[0;34m\u001b[0m\u001b[0;34m\u001b[0m\u001b[0m\n",
      "\u001b[0m\u001b[0;32m   3364 \u001b[0;31m\u001b[0;34m\u001b[0m\u001b[0m\n",
      "\u001b[0m\u001b[0;32m   3365 \u001b[0;31m        \u001b[0;32mif\u001b[0m \u001b[0mis_scalar\u001b[0m\u001b[0;34m(\u001b[0m\u001b[0mkey\u001b[0m\u001b[0;34m)\u001b[0m \u001b[0;32mand\u001b[0m \u001b[0misna\u001b[0m\u001b[0;34m(\u001b[0m\u001b[0mkey\u001b[0m\u001b[0;34m)\u001b[0m \u001b[0;32mand\u001b[0m \u001b[0;32mnot\u001b[0m \u001b[0mself\u001b[0m\u001b[0;34m.\u001b[0m\u001b[0mhasnans\u001b[0m\u001b[0;34m:\u001b[0m\u001b[0;34m\u001b[0m\u001b[0;34m\u001b[0m\u001b[0m\n",
      "\u001b[0m\n",
      "ipdb> q\n"
     ]
    },
    {
     "data": {
      "image/png": "[encoded data removed]",
      "text/plain": [
       "<Figure size 864x504 with 6 Axes>"
      ]
     },
     "metadata": {
      "needs_background": "light"
     },
     "output_type": "display_data"
    }
   ],
   "source": [
    "test_names = [\n",
    "    'base', 'lower_conv_level', 'higher_conv_level', 'two_levels', \n",
    "    'four_levels', 'no_steiner', 'lower_ref_thresh', \n",
    "    'higher_shear_thresh', 'higher_rel_vel_thresh', \n",
    "    'higher_theta_e', 'higher_offset_thresh', 'higher_border_thresh',\n",
    "    'higher_area_thresh', 'linear_50', 'linear_25', 'combined']\n",
    "\n",
    "# for i in range(len(test_names)):\n",
    "for i in [3]:\n",
    "\n",
    "    base_dir = '/home/student.unimelb.edu.au/shorte1/Documents/'\n",
    "    class_path = base_dir + 'TINT_tracks/'\n",
    "    class_path += '{}_classes.pkl'.format(test_names[i])\n",
    "\n",
    "    with open(class_path, 'rb') as f:\n",
    "        class_df = pickle.load(f)\n",
    "\n",
    "    cl.pope_comparison(class_df=class_df)\n",
    "    \n",
    "    fn = 'pope_breakdown_{}.png'.format(test_names[i])\n",
    "    plt.savefig(\n",
    "        fig_dir + fn, dpi=200, facecolor='w',\n",
    "        edgecolor='white', bbox_inches='tight')"
   ]
  },
  {
   "cell_type": "code",
   "execution_count": 10,
   "id": "add6ad55",
   "metadata": {
    "ExecuteTime": {
     "end_time": "2022-07-14T03:43:02.179587Z",
     "start_time": "2022-07-14T03:43:00.591821Z"
    }
   },
   "outputs": [
    {
     "data": {
      "image/png": "[encoded data removed]",
      "text/plain": [
       "<Figure size 864x504 with 6 Axes>"
      ]
     },
     "metadata": {
      "needs_background": "light"
     },
     "output_type": "display_data"
    }
   ],
   "source": [
    "cl.pope_comparison_radar()"
   ]
  },
  {
   "cell_type": "code",
   "execution_count": 25,
   "id": "1ff671e1",
   "metadata": {
    "ExecuteTime": {
     "end_time": "2022-07-12T06:07:42.687948Z",
     "start_time": "2022-07-12T06:07:41.209532Z"
    }
   },
   "outputs": [],
   "source": [
    "base_dir = '/home/student.unimelb.edu.au/shorte1/Documents/'\n",
    "class_path = base_dir + 'TINT_tracks/'\n",
    "class_path += 'ACCESS_63/20201001_20210501.pkl'\n",
    "\n",
    "with open(class_path, 'rb') as f:\n",
    "    tracks = pickle.load(f)"
   ]
  },
  {
   "cell_type": "code",
   "execution_count": 32,
   "id": "e947c3bb",
   "metadata": {
    "ExecuteTime": {
     "end_time": "2022-07-12T06:09:34.379766Z",
     "start_time": "2022-07-12T06:09:34.345120Z"
    }
   },
   "outputs": [
    {
     "data": {
      "text/plain": [
       "0       2020-10-04 04:10:00\n",
       "1       2020-10-04 04:20:00\n",
       "2       2020-10-04 04:30:00\n",
       "3       2020-10-04 04:40:00\n",
       "4       2020-10-04 04:50:00\n",
       "                ...        \n",
       "22011   2021-04-28 12:10:00\n",
       "22012   2021-04-28 12:20:00\n",
       "22013   2021-04-28 12:30:00\n",
       "22014   2021-04-28 12:40:00\n",
       "22015   2021-04-28 12:50:00\n",
       "Name: time, Length: 22016, dtype: datetime64[ns]"
      ]
     },
     "execution_count": 32,
     "metadata": {},
     "output_type": "execute_result"
    }
   ],
   "source": [
    "test = tracks.tracks.xs(0, level='level')\n",
    "test.reset_index()['time']"
   ]
  },
  {
   "cell_type": "code",
   "execution_count": 17,
   "id": "893ef652",
   "metadata": {
    "ExecuteTime": {
     "end_time": "2022-07-12T00:55:49.482881Z",
     "start_time": "2022-07-12T00:55:49.446044Z"
    }
   },
   "outputs": [],
   "source": [
    "base_dir = '/home/student.unimelb.edu.au/shorte1/Documents/'\n",
    "class_path = base_dir + 'TINT_tracks/'\n",
    "class_path += 'combined_ACCESS_classes.pkl'\n",
    "\n",
    "with open(class_path, 'rb') as f:\n",
    "    class_df = pickle.load(f)"
   ]
  },
  {
   "cell_type": "code",
   "execution_count": 20,
   "id": "d452392c",
   "metadata": {
    "ExecuteTime": {
     "end_time": "2022-07-12T00:56:09.123535Z",
     "start_time": "2022-07-12T00:56:09.085759Z"
    }
   },
   "outputs": [],
   "source": [
    "counts_df = pd.DataFrame({'count': class_df.value_counts()})\n",
    "counts_df = counts_df.reset_index('pope_regime')\n",
    "\n",
    "pope = counts_df['pope_regime'].values\n",
    "pope_dic = {0: 'Not Classified'}\n",
    "for i in range(1, 6):\n",
    "    pope_dic[i] = 'Inactive Monsoon'\n",
    "pope_dic[2] = 'Active Monsoon'\n",
    "monsoon = [pope_dic[p_num] for p_num in pope]\n",
    "counts_df['pope_regime'] = monsoon\n",
    "\n",
    "counts_df = counts_df[counts_df['pope_regime'] == 'Inactive Monsoon']\n",
    "# counts_df = counts_df[counts_df['offset_type'] == 'Trailing Stratiform']\n",
    "\n",
    "counts_df = counts_df.groupby(\n",
    "    ['offset_type', 'inflow_type', 'tilt_dir', 'prop_dir']).sum()\n",
    "\n",
    "counts_df = counts_df.drop('Ambiguous', level='inflow_type')\n",
    "counts_df = counts_df.drop('Perpendicular Shear', level='tilt_dir')\n",
    "counts_df = counts_df.drop('Ambiguous', level='tilt_dir')\n",
    "counts_df = counts_df.drop('Perpendicular Shear', level='prop_dir')\n",
    "counts_df = counts_df.drop('Ambiguous', level='prop_dir')\n",
    "\n",
    "total_ratio = (counts_df['count']/counts_df['count'].sum())\n",
    "counts_df['total_ratio'] = total_ratio"
   ]
  },
  {
   "cell_type": "code",
   "execution_count": 21,
   "id": "c23661b1",
   "metadata": {
    "ExecuteTime": {
     "end_time": "2022-07-12T00:56:09.698181Z",
     "start_time": "2022-07-12T00:56:09.671930Z"
    }
   },
   "outputs": [
    {
     "data": {
      "text/html": [
       "<div>\n",
       "<style scoped>\n",
       "    .dataframe tbody tr th:only-of-type {\n",
       "        vertical-align: middle;\n",
       "    }\n",
       "\n",
       "    .dataframe tbody tr th {\n",
       "        vertical-align: top;\n",
       "    }\n",
       "\n",
       "    .dataframe thead th {\n",
       "        text-align: right;\n",
       "    }\n",
       "</style>\n",
       "<table border=\"1\" class=\"dataframe\">\n",
       "  <thead>\n",
       "    <tr style=\"text-align: right;\">\n",
       "      <th></th>\n",
       "      <th></th>\n",
       "      <th></th>\n",
       "      <th></th>\n",
       "      <th>count</th>\n",
       "      <th>total_ratio</th>\n",
       "    </tr>\n",
       "    <tr>\n",
       "      <th>offset_type</th>\n",
       "      <th>inflow_type</th>\n",
       "      <th>tilt_dir</th>\n",
       "      <th>prop_dir</th>\n",
       "      <th></th>\n",
       "      <th></th>\n",
       "    </tr>\n",
       "  </thead>\n",
       "  <tbody>\n",
       "    <tr>\n",
       "      <th rowspan=\"2\" valign=\"top\">Trailing Stratiform</th>\n",
       "      <th rowspan=\"2\" valign=\"top\">Front Fed</th>\n",
       "      <th>Up-Shear Tilted</th>\n",
       "      <th>Down-Shear Propagating</th>\n",
       "      <td>289</td>\n",
       "      <td>0.597107</td>\n",
       "    </tr>\n",
       "    <tr>\n",
       "      <th>Down-Shear Tilted</th>\n",
       "      <th>Up-Shear Propagating</th>\n",
       "      <td>95</td>\n",
       "      <td>0.196281</td>\n",
       "    </tr>\n",
       "    <tr>\n",
       "      <th>Leading Stratiform</th>\n",
       "      <th>Front Fed</th>\n",
       "      <th>Down-Shear Tilted</th>\n",
       "      <th>Down-Shear Propagating</th>\n",
       "      <td>27</td>\n",
       "      <td>0.055785</td>\n",
       "    </tr>\n",
       "    <tr>\n",
       "      <th>Parallel Stratiform (Left)</th>\n",
       "      <th>Parallel Fed (Right)</th>\n",
       "      <th>Down-Shear Tilted</th>\n",
       "      <th>Up-Shear Propagating</th>\n",
       "      <td>16</td>\n",
       "      <td>0.033058</td>\n",
       "    </tr>\n",
       "    <tr>\n",
       "      <th>Trailing Stratiform</th>\n",
       "      <th>Parallel Fed (Left)</th>\n",
       "      <th>Up-Shear Tilted</th>\n",
       "      <th>Up-Shear Propagating</th>\n",
       "      <td>11</td>\n",
       "      <td>0.022727</td>\n",
       "    </tr>\n",
       "    <tr>\n",
       "      <th>Parallel Stratiform (Right)</th>\n",
       "      <th>Front Fed</th>\n",
       "      <th>Up-Shear Tilted</th>\n",
       "      <th>Down-Shear Propagating</th>\n",
       "      <td>6</td>\n",
       "      <td>0.012397</td>\n",
       "    </tr>\n",
       "    <tr>\n",
       "      <th>Trailing Stratiform</th>\n",
       "      <th>Rear Fed</th>\n",
       "      <th>Up-Shear Tilted</th>\n",
       "      <th>Up-Shear Propagating</th>\n",
       "      <td>6</td>\n",
       "      <td>0.012397</td>\n",
       "    </tr>\n",
       "    <tr>\n",
       "      <th>Parallel Stratiform (Right)</th>\n",
       "      <th>Parallel Fed (Right)</th>\n",
       "      <th>Up-Shear Tilted</th>\n",
       "      <th>Up-Shear Propagating</th>\n",
       "      <td>5</td>\n",
       "      <td>0.010331</td>\n",
       "    </tr>\n",
       "    <tr>\n",
       "      <th rowspan=\"2\" valign=\"top\">Trailing Stratiform</th>\n",
       "      <th>Parallel Fed (Left)</th>\n",
       "      <th>Up-Shear Tilted</th>\n",
       "      <th>Down-Shear Propagating</th>\n",
       "      <td>5</td>\n",
       "      <td>0.010331</td>\n",
       "    </tr>\n",
       "    <tr>\n",
       "      <th>Parallel Fed (Right)</th>\n",
       "      <th>Down-Shear Tilted</th>\n",
       "      <th>Up-Shear Propagating</th>\n",
       "      <td>5</td>\n",
       "      <td>0.010331</td>\n",
       "    </tr>\n",
       "    <tr>\n",
       "      <th>Parallel Stratiform (Right)</th>\n",
       "      <th>Parallel Fed (Right)</th>\n",
       "      <th>Down-Shear Tilted</th>\n",
       "      <th>Down-Shear Propagating</th>\n",
       "      <td>4</td>\n",
       "      <td>0.008264</td>\n",
       "    </tr>\n",
       "    <tr>\n",
       "      <th>Leading Stratiform</th>\n",
       "      <th>Parallel Fed (Left)</th>\n",
       "      <th>Down-Shear Tilted</th>\n",
       "      <th>Down-Shear Propagating</th>\n",
       "      <td>3</td>\n",
       "      <td>0.006198</td>\n",
       "    </tr>\n",
       "    <tr>\n",
       "      <th>Trailing Stratiform</th>\n",
       "      <th>Parallel Fed (Right)</th>\n",
       "      <th>Up-Shear Tilted</th>\n",
       "      <th>Up-Shear Propagating</th>\n",
       "      <td>3</td>\n",
       "      <td>0.006198</td>\n",
       "    </tr>\n",
       "    <tr>\n",
       "      <th rowspan=\"3\" valign=\"top\">Parallel Stratiform (Right)</th>\n",
       "      <th>Rear Fed</th>\n",
       "      <th>Up-Shear Tilted</th>\n",
       "      <th>Up-Shear Propagating</th>\n",
       "      <td>3</td>\n",
       "      <td>0.006198</td>\n",
       "    </tr>\n",
       "    <tr>\n",
       "      <th>Parallel Fed (Left)</th>\n",
       "      <th>Up-Shear Tilted</th>\n",
       "      <th>Down-Shear Propagating</th>\n",
       "      <td>1</td>\n",
       "      <td>0.002066</td>\n",
       "    </tr>\n",
       "    <tr>\n",
       "      <th>Front Fed</th>\n",
       "      <th>Down-Shear Tilted</th>\n",
       "      <th>Up-Shear Propagating</th>\n",
       "      <td>1</td>\n",
       "      <td>0.002066</td>\n",
       "    </tr>\n",
       "    <tr>\n",
       "      <th>Parallel Stratiform (Left)</th>\n",
       "      <th>Rear Fed</th>\n",
       "      <th>Down-Shear Tilted</th>\n",
       "      <th>Down-Shear Propagating</th>\n",
       "      <td>1</td>\n",
       "      <td>0.002066</td>\n",
       "    </tr>\n",
       "    <tr>\n",
       "      <th>Trailing Stratiform</th>\n",
       "      <th>Parallel Fed (Left)</th>\n",
       "      <th>Down-Shear Tilted</th>\n",
       "      <th>Down-Shear Propagating</th>\n",
       "      <td>1</td>\n",
       "      <td>0.002066</td>\n",
       "    </tr>\n",
       "    <tr>\n",
       "      <th>Parallel Stratiform (Left)</th>\n",
       "      <th>Front Fed</th>\n",
       "      <th>Down-Shear Tilted</th>\n",
       "      <th>Down-Shear Propagating</th>\n",
       "      <td>1</td>\n",
       "      <td>0.002066</td>\n",
       "    </tr>\n",
       "    <tr>\n",
       "      <th>Trailing Stratiform</th>\n",
       "      <th>Parallel Fed (Right)</th>\n",
       "      <th>Up-Shear Tilted</th>\n",
       "      <th>Down-Shear Propagating</th>\n",
       "      <td>1</td>\n",
       "      <td>0.002066</td>\n",
       "    </tr>\n",
       "  </tbody>\n",
       "</table>\n",
       "</div>"
      ],
      "text/plain": [
       "                                                                                           count  \\\n",
       "offset_type                 inflow_type          tilt_dir          prop_dir                        \n",
       "Trailing Stratiform         Front Fed            Up-Shear Tilted   Down-Shear Propagating    289   \n",
       "                                                 Down-Shear Tilted Up-Shear Propagating       95   \n",
       "Leading Stratiform          Front Fed            Down-Shear Tilted Down-Shear Propagating     27   \n",
       "Parallel Stratiform (Left)  Parallel Fed (Right) Down-Shear Tilted Up-Shear Propagating       16   \n",
       "Trailing Stratiform         Parallel Fed (Left)  Up-Shear Tilted   Up-Shear Propagating       11   \n",
       "Parallel Stratiform (Right) Front Fed            Up-Shear Tilted   Down-Shear Propagating      6   \n",
       "Trailing Stratiform         Rear Fed             Up-Shear Tilted   Up-Shear Propagating        6   \n",
       "Parallel Stratiform (Right) Parallel Fed (Right) Up-Shear Tilted   Up-Shear Propagating        5   \n",
       "Trailing Stratiform         Parallel Fed (Left)  Up-Shear Tilted   Down-Shear Propagating      5   \n",
       "                            Parallel Fed (Right) Down-Shear Tilted Up-Shear Propagating        5   \n",
       "Parallel Stratiform (Right) Parallel Fed (Right) Down-Shear Tilted Down-Shear Propagating      4   \n",
       "Leading Stratiform          Parallel Fed (Left)  Down-Shear Tilted Down-Shear Propagating      3   \n",
       "Trailing Stratiform         Parallel Fed (Right) Up-Shear Tilted   Up-Shear Propagating        3   \n",
       "Parallel Stratiform (Right) Rear Fed             Up-Shear Tilted   Up-Shear Propagating        3   \n",
       "                            Parallel Fed (Left)  Up-Shear Tilted   Down-Shear Propagating      1   \n",
       "                            Front Fed            Down-Shear Tilted Up-Shear Propagating        1   \n",
       "Parallel Stratiform (Left)  Rear Fed             Down-Shear Tilted Down-Shear Propagating      1   \n",
       "Trailing Stratiform         Parallel Fed (Left)  Down-Shear Tilted Down-Shear Propagating      1   \n",
       "Parallel Stratiform (Left)  Front Fed            Down-Shear Tilted Down-Shear Propagating      1   \n",
       "Trailing Stratiform         Parallel Fed (Right) Up-Shear Tilted   Down-Shear Propagating      1   \n",
       "\n",
       "                                                                                           total_ratio  \n",
       "offset_type                 inflow_type          tilt_dir          prop_dir                             \n",
       "Trailing Stratiform         Front Fed            Up-Shear Tilted   Down-Shear Propagating     0.597107  \n",
       "                                                 Down-Shear Tilted Up-Shear Propagating       0.196281  \n",
       "Leading Stratiform          Front Fed            Down-Shear Tilted Down-Shear Propagating     0.055785  \n",
       "Parallel Stratiform (Left)  Parallel Fed (Right) Down-Shear Tilted Up-Shear Propagating       0.033058  \n",
       "Trailing Stratiform         Parallel Fed (Left)  Up-Shear Tilted   Up-Shear Propagating       0.022727  \n",
       "Parallel Stratiform (Right) Front Fed            Up-Shear Tilted   Down-Shear Propagating     0.012397  \n",
       "Trailing Stratiform         Rear Fed             Up-Shear Tilted   Up-Shear Propagating       0.012397  \n",
       "Parallel Stratiform (Right) Parallel Fed (Right) Up-Shear Tilted   Up-Shear Propagating       0.010331  \n",
       "Trailing Stratiform         Parallel Fed (Left)  Up-Shear Tilted   Down-Shear Propagating     0.010331  \n",
       "                            Parallel Fed (Right) Down-Shear Tilted Up-Shear Propagating       0.010331  \n",
       "Parallel Stratiform (Right) Parallel Fed (Right) Down-Shear Tilted Down-Shear Propagating     0.008264  \n",
       "Leading Stratiform          Parallel Fed (Left)  Down-Shear Tilted Down-Shear Propagating     0.006198  \n",
       "Trailing Stratiform         Parallel Fed (Right) Up-Shear Tilted   Up-Shear Propagating       0.006198  \n",
       "Parallel Stratiform (Right) Rear Fed             Up-Shear Tilted   Up-Shear Propagating       0.006198  \n",
       "                            Parallel Fed (Left)  Up-Shear Tilted   Down-Shear Propagating     0.002066  \n",
       "                            Front Fed            Down-Shear Tilted Up-Shear Propagating       0.002066  \n",
       "Parallel Stratiform (Left)  Rear Fed             Down-Shear Tilted Down-Shear Propagating     0.002066  \n",
       "Trailing Stratiform         Parallel Fed (Left)  Down-Shear Tilted Down-Shear Propagating     0.002066  \n",
       "Parallel Stratiform (Left)  Front Fed            Down-Shear Tilted Down-Shear Propagating     0.002066  \n",
       "Trailing Stratiform         Parallel Fed (Right) Up-Shear Tilted   Down-Shear Propagating     0.002066  "
      ]
     },
     "execution_count": 21,
     "metadata": {},
     "output_type": "execute_result"
    }
   ],
   "source": [
    "counts_df.sort_values('count', axis=0, ascending=False)"
   ]
  },
  {
   "cell_type": "code",
   "execution_count": 10,
   "id": "e81361ca",
   "metadata": {
    "ExecuteTime": {
     "end_time": "2022-07-12T00:16:30.843942Z",
     "start_time": "2022-07-12T00:16:30.510712Z"
    }
   },
   "outputs": [
    {
     "data": {
      "text/plain": [
       "[<matplotlib.lines.Line2D at 0x7fa8fb405640>]"
      ]
     },
     "execution_count": 10,
     "metadata": {},
     "output_type": "execute_result"
    },
    {
     "data": {
      "image/png": "[encoded data removed]",
      "text/plain": [
       "<Figure size 864x432 with 4 Axes>"
      ]
     },
     "metadata": {
      "needs_background": "light"
     },
     "output_type": "display_data"
    }
   ],
   "source": [
    "fig, axes = plt.subplots(\n",
    "    int(np.ceil(len([1,2,3,4])/2)), 2, figsize=(12, 6))\n",
    "axes.flatten()[3].plot(np.arange(1,100))"
   ]
  },
  {
   "cell_type": "code",
   "execution_count": 13,
   "id": "94ac65d8",
   "metadata": {
    "ExecuteTime": {
     "end_time": "2022-07-12T00:16:48.303618Z",
     "start_time": "2022-07-12T00:16:46.633997Z"
    },
    "scrolled": true
   },
   "outputs": [
    {
     "data": {
      "image/png": "[encoded data removed]",
      "text/plain": [
       "<Figure size 864x432 with 4 Axes>"
      ]
     },
     "metadata": {
      "needs_background": "light"
     },
     "output_type": "display_data"
    }
   ],
   "source": [
    "test_names = [\n",
    "    'base', 'lower_conv_level', 'higher_conv_level', 'two_levels', \n",
    "    'four_levels',\n",
    "    'no_steiner', 'lower_ref_thresh', 'higher_shear_thresh', \n",
    "    'higher_rel_vel_thresh', \n",
    "    'higher_theta_e', 'higher_offset_thresh', 'higher_border_thresh',\n",
    "    'higher_area_thresh', 'linear_50', 'linear_25', 'combined']\n",
    "\n",
    "# test_names = [\n",
    "#     'base', 'lower_conv_level', \n",
    "#     'higher_conv_level', 'higher_shear_thresh']\n",
    "\n",
    "# titles = [\n",
    "#     'Baseline', 'Sensitivity Test C2', 'Sensitivity Test C4',\n",
    "#     'Sensitivity Test S4']\n",
    "\n",
    "test_names = [\n",
    "    'base', 'two_levels', \n",
    "    'higher_conv_level', 'higher_shear_thresh']\n",
    "\n",
    "titles = [\n",
    "    'Baseline', 'Two Level',\n",
    "    'Sensitivity Test C4',\n",
    "    'Sensitivity Test S4']\n",
    "\n",
    "fig, axes = plt.subplots(\n",
    "    int(np.ceil(len(test_names)/2)), 2, figsize=(12, 6))\n",
    "\n",
    "for i in range(len(test_names)):\n",
    "# for i in [3]:\n",
    "\n",
    "    base_dir = '/home/student.unimelb.edu.au/shorte1/Documents/'\n",
    "    class_path = base_dir + 'TINT_tracks/'\n",
    "    class_path += '{}_classes.pkl'.format(test_names[i])\n",
    "\n",
    "    with open(class_path, 'rb') as f:\n",
    "        class_df = pickle.load(f)\n",
    "\n",
    "    ratios_df = cl.monsoon_comparison(\n",
    "        class_df, fig=fig, ax=axes.flatten()[i], legend=False, \n",
    "        title=titles[i])\n",
    "            \n",
    "#     fn = 'shear_breakdown_{}.png'.format(test_names[i])\n",
    "#     plt.savefig(\n",
    "#         fig_dir + fn, dpi=200, facecolor='w',\n",
    "#         edgecolor='white', bbox_inches='tight')\n",
    "\n",
    "axes.flatten()[-2].legend(\n",
    "    loc='lower center', bbox_to_anchor=(1.05, -0.375),\n",
    "    ncol=4, fancybox=True, shadow=True)\n",
    "\n",
    "cl.make_subplot_labels(axes.flatten())\n",
    "\n",
    "plt.subplots_adjust(hspace=0.3)\n",
    "\n",
    "fn = 'monsoon_breakdown_base_lower_higher_lvl_higher_shear_two_level.png'.format(test_names[i])\n",
    "plt.savefig(\n",
    "    fig_dir + fn, dpi=200, facecolor='w',\n",
    "    edgecolor='white', bbox_inches='tight')"
   ]
  },
  {
   "cell_type": "code",
   "execution_count": 11,
   "id": "b4d0b92d",
   "metadata": {
    "ExecuteTime": {
     "end_time": "2022-07-14T03:44:23.200082Z",
     "start_time": "2022-07-14T03:44:22.473510Z"
    },
    "scrolled": true
   },
   "outputs": [
    {
     "name": "stdout",
     "output_type": "stream",
     "text": [
      "No unclassified regime cases.\n",
      "No unclassified regime cases.\n"
     ]
    },
    {
     "data": {
      "image/png": "[encoded data removed]",
      "text/plain": [
       "<Figure size 864x216 with 2 Axes>"
      ]
     },
     "metadata": {
      "needs_background": "light"
     },
     "output_type": "display_data"
    }
   ],
   "source": [
    "fig, axes = plt.subplots(1, 2, figsize=(12, 3))\n",
    "\n",
    "base_dir = '/home/student.unimelb.edu.au/shorte1/Documents/'\n",
    "class_path = base_dir + 'TINT_tracks/'\n",
    "class_path += 'combined_radar_classes.pkl'\n",
    "\n",
    "with open(class_path, 'rb') as f:\n",
    "    class_df = pickle.load(f)\n",
    "    \n",
    "prop_cycle = plt.rcParams['axes.prop_cycle']\n",
    "colors = prop_cycle.by_key()['color']\n",
    "colors = [colors[i] for i in [0, 1, 2, 4, 5, 8, 9]]\n",
    "    \n",
    "required_types = [\n",
    "    (\n",
    "        'Trailing Stratiform', 'Front Fed',\n",
    "        'Up-Shear Tilted', 'Down-Shear Propagating'),\n",
    "    (\n",
    "        'Leading Stratiform', 'Front Fed',\n",
    "        'Down-Shear Tilted', 'Down-Shear Propagating'),\n",
    "    (\n",
    "        'Trailing Stratiform', 'Front Fed',\n",
    "        'Down-Shear Tilted', 'Up-Shear Propagating'),\n",
    "    (\n",
    "        'Trailing Stratiform', 'Rear Fed',\n",
    "        'Up-Shear Tilted', 'Up-Shear Propagating'),\n",
    "    (\n",
    "        'Parallel Stratiform (Right)', 'Parallel Fed (Right)',\n",
    "        'Down-Shear Tilted', 'Down-Shear Propagating'),\n",
    "    (\n",
    "        'Leading Stratiform', 'Rear Fed',\n",
    "        'Down-Shear Tilted', 'Up-Shear Propagating'),\n",
    "    (\n",
    "        'Parallel Stratiform (Right)', 'Parallel Fed (Left)',\n",
    "        'Up-Shear Tilted', 'Down-Shear Propagating'),\n",
    "    ]\n",
    "titles = [\n",
    "    'FFTS UST DSP', 'FFLS DST DSP', 'FFTS DST USP', \n",
    "    'RFTS UST USP', 'RiFRiS DST DSP', 'RFLS DST USP', 'LeFRis UST DSP']\n",
    "\n",
    "# required_types = [\n",
    "# ]\n",
    "# titles = [\n",
    "#     'FFTS UST DSP', 'FFLS DST DSP', 'FFTS DST USP',\n",
    "#     'RFTS UST USP']\n",
    "\n",
    "ratios_df = cl.monsoon_comparison(\n",
    "    class_df, fig=fig, ax=axes[0], legend=False, \n",
    "    title='Radar', required_types=required_types, titles=titles, \n",
    "    colors=colors)\n",
    "\n",
    "base_dir = '/home/student.unimelb.edu.au/shorte1/Documents/'\n",
    "class_path = base_dir + 'TINT_tracks/'\n",
    "class_path += 'combined_ACCESS_classes.pkl'\n",
    "\n",
    "with open(class_path, 'rb') as f:\n",
    "    class_df = pickle.load(f)\n",
    "    \n",
    "# required_types = [\n",
    "#     (\n",
    "#         'Trailing Stratiform', 'Front Fed',\n",
    "#         'Up-Shear Tilted', 'Down-Shear Propagating'),\n",
    "#     (\n",
    "#         'Trailing Stratiform', 'Front Fed',\n",
    "#         'Down-Shear Tilted', 'Up-Shear Propagating'),\n",
    "#     (\n",
    "#         'Trailing Stratiform', 'Rear Fed',\n",
    "#         'Up-Shear Tilted', 'Up-Shear Propagating'),\n",
    "#     (\n",
    "#         'Leading Stratiform', 'Front Fed',\n",
    "#         'Down-Shear Tilted', 'Down-Shear Propagating'),\n",
    "#     ]\n",
    "# titles = [\n",
    "#     'FFTS UST DSP', 'FFTS DST USP', 'RFTS UST USP', 'FFLS DST DSP']\n",
    "\n",
    "ratios_df = cl.monsoon_comparison(\n",
    "    class_df, fig=fig, ax=axes[1], legend=False,\n",
    "    title='ACCESS-C', required_types=required_types, titles=titles,\n",
    "    colors=colors)\n",
    "            \n",
    "#     fn = 'shear_breakdown_{}.png'.format(test_names[i])\n",
    "#     plt.savefig(\n",
    "#         fig_dir + fn, dpi=200, facecolor='w',\n",
    "#         edgecolor='white', bbox_inches='tight')\n",
    "\n",
    "axes[0].legend(\n",
    "    loc='lower center', bbox_to_anchor=(1.05, -0.55),\n",
    "    ncol=4, fancybox=True, shadow=True)\n",
    "\n",
    "cl.make_subplot_labels(axes.flatten())\n",
    "\n",
    "# plt.subplots_adjust(hspace=0.3)\n",
    "\n",
    "fn = 'monsoon_breakdown_radar.png'\n",
    "plt.savefig(\n",
    "    fig_dir + fn, dpi=200, facecolor='w',\n",
    "    edgecolor='white', bbox_inches='tight')"
   ]
  },
  {
   "cell_type": "markdown",
   "id": "f928448d",
   "metadata": {},
   "source": [
    "# Calculate Some Statistics"
   ]
  },
  {
   "cell_type": "code",
   "execution_count": 295,
   "id": "b997e0e7",
   "metadata": {
    "ExecuteTime": {
     "end_time": "2021-12-20T05:39:25.223711Z",
     "start_time": "2021-12-20T05:39:25.212583Z"
    }
   },
   "outputs": [],
   "source": [
    "offset_sensitivity_df = pd.DataFrame({\n",
    "    'Test': test, 'Trailing Stratiform': TS, \n",
    "    'Leading Stratiform': LS, 'Parallel Stratiform (Left)': LeS,\n",
    "    'Parallel Stratiform (Right)': RiS, 'Total': total})"
   ]
  },
  {
   "cell_type": "markdown",
   "id": "b70ab77d",
   "metadata": {},
   "source": [
    "## System Size"
   ]
  },
  {
   "cell_type": "code",
   "execution_count": 260,
   "id": "53c847ab",
   "metadata": {
    "ExecuteTime": {
     "end_time": "2021-12-20T05:01:00.162611Z",
     "start_time": "2021-12-20T05:01:00.137963Z"
    }
   },
   "outputs": [
    {
     "data": {
      "text/plain": [
       "[counts    70.297463\n",
       " dtype: float64,\n",
       " counts    5.708661\n",
       " dtype: float64,\n",
       " counts    8.420822\n",
       " dtype: float64,\n",
       " counts    15.573053\n",
       " dtype: float64,\n",
       " counts    100.0\n",
       " dtype: float64]"
      ]
     },
     "execution_count": 260,
     "metadata": {},
     "output_type": "execute_result"
    }
   ],
   "source": [
    "[t/totals[-1]*100 for t in totals]"
   ]
  },
  {
   "cell_type": "code",
   "execution_count": 301,
   "id": "71868915",
   "metadata": {
    "ExecuteTime": {
     "end_time": "2021-12-20T05:47:53.813889Z",
     "start_time": "2021-12-20T05:47:53.786830Z"
    }
   },
   "outputs": [
    {
     "data": {
      "text/html": [
       "<div>\n",
       "<style scoped>\n",
       "    .dataframe tbody tr th:only-of-type {\n",
       "        vertical-align: middle;\n",
       "    }\n",
       "\n",
       "    .dataframe tbody tr th {\n",
       "        vertical-align: top;\n",
       "    }\n",
       "\n",
       "    .dataframe thead th {\n",
       "        text-align: right;\n",
       "    }\n",
       "</style>\n",
       "<table border=\"1\" class=\"dataframe\">\n",
       "  <thead>\n",
       "    <tr style=\"text-align: right;\">\n",
       "      <th></th>\n",
       "      <th>Test</th>\n",
       "      <th>Front Fed</th>\n",
       "      <th>Rear Fed</th>\n",
       "      <th>Parallel Fed (Left)</th>\n",
       "      <th>Parallel Fed (Right)</th>\n",
       "      <th>Ambiguous</th>\n",
       "      <th>Total</th>\n",
       "    </tr>\n",
       "  </thead>\n",
       "  <tbody>\n",
       "    <tr>\n",
       "      <th>0</th>\n",
       "      <td>Base</td>\n",
       "      <td>2661</td>\n",
       "      <td>350</td>\n",
       "      <td>536</td>\n",
       "      <td>235</td>\n",
       "      <td>790</td>\n",
       "      <td>4572</td>\n",
       "    </tr>\n",
       "  </tbody>\n",
       "</table>\n",
       "</div>"
      ],
      "text/plain": [
       "   Test  Front Fed  Rear Fed  Parallel Fed (Left)  Parallel Fed (Right)  \\\n",
       "0  Base       2661       350                  536                   235   \n",
       "\n",
       "   Ambiguous  Total  \n",
       "0        790   4572  "
      ]
     },
     "execution_count": 301,
     "metadata": {},
     "output_type": "execute_result"
    }
   ],
   "source": [
    "inflow_sensitivity_df"
   ]
  },
  {
   "cell_type": "code",
   "execution_count": 7,
   "id": "281ad849",
   "metadata": {
    "ExecuteTime": {
     "end_time": "2020-01-15T05:10:15.929267Z",
     "start_time": "2020-01-15T05:10:12.788707Z"
    }
   },
   "outputs": [],
   "source": [
    "# subset_logic = ~small_area\n",
    "# sub_tracks = tracks_obj.system_tracks[subset_logic]\n",
    "sub_tracks = tracks_obj.system_tracks\n",
    "\n",
    "sub_uids = list(sorted(set([int(sub_tracks.index.values[i][2]) for i in range(len(sub_tracks))])))\n",
    "sub_uids = [str(i) for i in sub_uids]\n",
    "\n",
    "# MCS_lengths = [len(sub_tracks.xs(i, level='uid').reset_index(level='time').index.values) for i in sub_uids]\n",
    "# max_MCS = max(MCS_lengths)"
   ]
  },
  {
   "cell_type": "code",
   "execution_count": 287,
   "id": "dc958d01",
   "metadata": {
    "ExecuteTime": {
     "end_time": "2021-12-20T05:31:09.614116Z",
     "start_time": "2021-12-20T05:31:09.592483Z"
    }
   },
   "outputs": [
    {
     "data": {
      "text/html": [
       "<div>\n",
       "<style scoped>\n",
       "    .dataframe tbody tr th:only-of-type {\n",
       "        vertical-align: middle;\n",
       "    }\n",
       "\n",
       "    .dataframe tbody tr th {\n",
       "        vertical-align: top;\n",
       "    }\n",
       "\n",
       "    .dataframe thead th {\n",
       "        text-align: right;\n",
       "    }\n",
       "</style>\n",
       "<table border=\"1\" class=\"dataframe\">\n",
       "  <thead>\n",
       "    <tr style=\"text-align: right;\">\n",
       "      <th></th>\n",
       "      <th>Trailing Stratiform</th>\n",
       "      <th>Leading Stratiform</th>\n",
       "      <th>Parallel Stratiform (Left)</th>\n",
       "      <th>Parallel Stratiform (Right)</th>\n",
       "      <th>Total</th>\n",
       "    </tr>\n",
       "    <tr>\n",
       "      <th>Test</th>\n",
       "      <th></th>\n",
       "      <th></th>\n",
       "      <th></th>\n",
       "      <th></th>\n",
       "      <th></th>\n",
       "    </tr>\n",
       "  </thead>\n",
       "  <tbody>\n",
       "    <tr>\n",
       "      <th>Base</th>\n",
       "      <td>3214</td>\n",
       "      <td>261</td>\n",
       "      <td>385</td>\n",
       "      <td>712</td>\n",
       "      <td>4572</td>\n",
       "    </tr>\n",
       "  </tbody>\n",
       "</table>\n",
       "</div>"
      ],
      "text/plain": [
       "      Trailing Stratiform  Leading Stratiform  Parallel Stratiform (Left)  \\\n",
       "Test                                                                        \n",
       "Base                 3214                 261                         385   \n",
       "\n",
       "      Parallel Stratiform (Right)  Total  \n",
       "Test                                      \n",
       "Base                          712   4572  "
      ]
     },
     "execution_count": 287,
     "metadata": {},
     "output_type": "execute_result"
    }
   ],
   "source": [
    "sensitivity_df.set_index('Test')"
   ]
  },
  {
   "cell_type": "code",
   "execution_count": 264,
   "id": "c17b52cb",
   "metadata": {
    "ExecuteTime": {
     "end_time": "2021-12-20T05:16:36.425054Z",
     "start_time": "2021-12-20T05:16:36.398508Z"
    }
   },
   "outputs": [
    {
     "data": {
      "text/plain": [
       "[counts    70.297463\n",
       " dtype: float64,\n",
       " counts    5.708661\n",
       " dtype: float64,\n",
       " counts    8.420822\n",
       " dtype: float64,\n",
       " counts    15.573053\n",
       " dtype: float64,\n",
       " counts    100.0\n",
       " dtype: float64]"
      ]
     },
     "execution_count": 264,
     "metadata": {},
     "output_type": "execute_result"
    }
   ],
   "source": [
    "[t/totals[-1]*100 for t in totals]"
   ]
  },
  {
   "cell_type": "code",
   "execution_count": 14,
   "id": "e3d40baf",
   "metadata": {
    "ExecuteTime": {
     "end_time": "2020-01-15T05:23:44.144088Z",
     "start_time": "2020-01-15T05:21:24.109307Z"
    }
   },
   "outputs": [
    {
     "name": "stdout",
     "output_type": "stream",
     "text": [
      "  8%|▊         | 2028/25948 [00:10<02:02, 194.53it/s]Error with system 2038.\n",
      " 16%|█▌        | 4129/25948 [00:22<02:09, 169.05it/s]Error with system 4135.\n",
      " 25%|██▌       | 6546/25948 [00:35<01:43, 187.20it/s]Error with system 6559.\n",
      " 31%|███▏      | 8160/25948 [00:43<01:33, 190.34it/s]Error with system 8175.\n",
      " 42%|████▏     | 10966/25948 [00:58<01:18, 191.41it/s]Error with system 10977.\n",
      " 51%|█████     | 13151/25948 [01:10<01:06, 191.17it/s]Error with system 13155.\n",
      " 54%|█████▍    | 14048/25948 [01:15<01:03, 187.29it/s]Error with system 14060.\n",
      " 68%|██████▊   | 17520/25948 [01:33<00:44, 189.80it/s]Error with system 17529.\n",
      " 75%|███████▍  | 19435/25948 [01:44<00:34, 189.19it/s]Error with system 19450.\n",
      " 82%|████████▏ | 21399/25948 [01:54<00:23, 191.38it/s]Error with system 21406.\n",
      " 92%|█████████▏| 23871/25948 [02:07<00:10, 192.36it/s]Error with system 23880.\n",
      "100%|██████████| 25948/25948 [02:18<00:00, 186.83it/s]\n"
     ]
    }
   ],
   "source": [
    "# Create 3 lists with lengths the lifetime of longest object.\n",
    "[large, small, medium, nb, totals] = [np.zeros(100) for i in range(5)]\n",
    "\n",
    "from tqdm import tqdm\n",
    "\n",
    "for i in tqdm(sub_uids, file=sys.stdout, position=0, leave=True):\n",
    "    \n",
    "#     import pdb\n",
    "#     pdb.set_trace()\n",
    "    \n",
    "    obj = sub_tracks.xs(i, level='uid').reset_index(level='time')\n",
    "    cat = categories.xs(i, level='uid').reset_index(level='time')\n",
    "    scans = obj.index.values\n",
    "    scan_label = scans - min(scans)\n",
    "    \n",
    "    # Define classifications\n",
    "    large_area = cat['large_area'].values\n",
    "    small_area = cat['small_area'].values\n",
    "    medium_area = ~large_area & ~small_area\n",
    "    not_border = cat['not_border'].values | cat['not_border_0'].values\n",
    "    \n",
    "    large_inds = scan_label[large_area]\n",
    "    medium_inds = scan_label[medium_area]\n",
    "    small_inds = scan_label[small_area]\n",
    "    not_border_inds = scan_label[not_border]\n",
    "    totals_inds = scan_label.tolist()\n",
    "    \n",
    "    # Break down sig_tilt categories\n",
    "#     forward_tilt = ((-45 <= tilts) & (tilts <= 45)) \n",
    "#     backward_tilt = ((-135 >= tilts) | (tilts >= 135)) \n",
    "\n",
    "#     fwd_inds = scan_label[np.argwhere(forward_tilt).flatten().tolist()].tolist()\n",
    "#     bwd_inds = scan_label[np.argwhere(backward_tilt).flatten().tolist()].tolist()\n",
    "#     pll_inds = scan_label[np.argwhere(~backward_tilt & ~forward_tilt).flatten().tolist()].tolist()\n",
    "\n",
    "    # Found error with large com dataset - object 14060 jumps across seasons\n",
    "    try:\n",
    "        large[large_inds] += 1\n",
    "        small[small_inds] += 1\n",
    "        medium[medium_inds] += 1\n",
    "        nb[not_border_inds] += 1\n",
    "        totals[totals_inds] += 1\n",
    "    except:\n",
    "        print('Error with system {}.'.format(i))"
   ]
  },
  {
   "cell_type": "code",
   "execution_count": 298,
   "id": "56e98d43",
   "metadata": {
    "ExecuteTime": {
     "end_time": "2021-12-20T05:39:45.975551Z",
     "start_time": "2021-12-20T05:39:45.961382Z"
    }
   },
   "outputs": [],
   "source": [
    "inflow_sensitivity_df = pd.DataFrame({\n",
    "    'Test': test, 'Front Fed': FF, \n",
    "    'Rear Fed': RF, 'Parallel Fed (Left)': LeF,\n",
    "    'Parallel Fed (Right)': RiF, 'Total': total})"
   ]
  },
  {
   "cell_type": "code",
   "execution_count": 17,
   "id": "e27debc0",
   "metadata": {
    "ExecuteTime": {
     "end_time": "2020-01-15T05:26:36.418795Z",
     "start_time": "2020-01-15T05:26:36.109386Z"
    }
   },
   "outputs": [
    {
     "data": {
      "image/png": "[encoded data removed]",
      "text/plain": [
       "<Figure size 432x288 with 1 Axes>"
      ]
     },
     "metadata": {
      "needs_background": "light"
     },
     "output_type": "display_data"
    }
   ],
   "source": [
    "plt.plot(np.arange(30,300,10), large[3:30], label='Large count')\n",
    "plt.plot(np.arange(30,300,10), medium[3:30], label='Medium count')\n",
    "plt.plot(np.arange(30,300,10), small[3:30], label='Small count')\n",
    "plt.plot(np.arange(30,300,10), nb[3:30], label='No Border count')\n",
    "plt.plot(np.arange(30,300,10), totals[3:30], label='Total count')\n",
    "plt.xticks(np.arange(30,300,30))\n",
    "plt.ylabel('Count [-]')\n",
    "plt.xlabel('Time since Initiation [m]')\n",
    "plt.legend()\n",
    "plt.savefig('/g/data/w40/esh563/CPOL_analysis/figures/TINT/size_counts.png')"
   ]
  },
  {
   "cell_type": "code",
   "execution_count": 22,
   "id": "e6eb2a4a",
   "metadata": {
    "ExecuteTime": {
     "end_time": "2020-01-15T05:32:26.342906Z",
     "start_time": "2020-01-15T05:32:25.949155Z"
    }
   },
   "outputs": [
    {
     "data": {
      "image/png": "[encoded data removed]",
      "text/plain": [
       "<Figure size 720x360 with 1 Axes>"
      ]
     },
     "metadata": {
      "needs_background": "light"
     },
     "output_type": "display_data"
    }
   ],
   "source": [
    "plt.figure(figsize=(10,5))\n",
    "plt.plot(np.arange(30,600,10), (large/totals)[3:60], label='Large count')\n",
    "plt.plot(np.arange(30,600,10), (medium/totals)[3:60], label='Medium count')\n",
    "plt.plot(np.arange(30,600,10), (small/totals)[3:60], label='Small count')\n",
    "plt.plot(np.arange(30,600,10), (nb/totals)[3:60], label='No Border count')\n",
    "plt.xticks(np.arange(30,600,30))\n",
    "plt.ylabel('Ratio [-]')\n",
    "plt.xlabel('Time since Initiation [m]')\n",
    "plt.legend()\n",
    "# Note that we don't really know the start times of the systems!\n",
    "plt.savefig('/g/data/w40/esh563/CPOL_analysis/figures/TINT/size_ratios.png')"
   ]
  },
  {
   "cell_type": "markdown",
   "id": "cae6f4cf",
   "metadata": {},
   "source": [
    "## Training Lines"
   ]
  },
  {
   "cell_type": "code",
   "execution_count": 12,
   "id": "710f7b97",
   "metadata": {
    "ExecuteTime": {
     "end_time": "2020-05-18T05:34:48.952512Z",
     "start_time": "2020-05-18T05:34:48.918319Z"
    }
   },
   "outputs": [],
   "source": [
    "subset_logic = (categories['not_border'] & categories['not_border_0']\n",
    "                & ~categories['large_area'] & ~categories['small_area'] \n",
    "                & categories['linear'] & ~categories['stationary']\n",
    "                & categories['sig_vel_mag'])\n",
    "sub_tracks = tracks_obj.system_tracks[subset_logic]\n",
    "sub_cat = categories[subset_logic]\n",
    "# sub_tracks = tracks_obj.system_tracks\n",
    "# sub_cat = categories\n",
    "\n",
    "sub_uids = list(sorted(set([int(sub_tracks.index.values[i][2])\n",
    "                            for i in range(len(sub_tracks))])))\n",
    "sub_uids = [str(i) for i in sub_uids]\n",
    "\n",
    "# MCS_lengths = [len(sub_tracks.xs(i, level='uid').reset_index(level='time').index.values) for i in sub_uids]\n",
    "# max_MCS = max(MCS_lengths)"
   ]
  },
  {
   "cell_type": "code",
   "execution_count": 13,
   "id": "f0c46aad",
   "metadata": {
    "ExecuteTime": {
     "end_time": "2020-05-18T05:34:50.259768Z",
     "start_time": "2020-05-18T05:34:49.700963Z"
    }
   },
   "outputs": [
    {
     "name": "stdout",
     "output_type": "stream",
     "text": [
      "100%|██████████| 91/91 [00:00<00:00, 170.20it/s]\n"
     ]
    }
   ],
   "source": [
    "# Create 3 lists with lengths the lifetime of longest object.\n",
    "[par, perp, totals] = [np.zeros(100) for i in range(3)]\n",
    "\n",
    "from tqdm import tqdm\n",
    "\n",
    "for i in tqdm(sub_uids, file=sys.stdout, position=0, leave=True):\n",
    "       \n",
    "    obj = sub_tracks.xs(i, level='uid').reset_index(level='time')\n",
    "    cat = sub_cat.xs(i, level='uid').reset_index(level='time')\n",
    "    scans = obj.index.values\n",
    "    scan_label = scans - min(scans)\n",
    "    \n",
    "    # Define classifications\n",
    "    perp_align = cat['perp_align'].values\n",
    "    par_align = cat['par_align'].values\n",
    "        \n",
    "    par_inds = scan_label[par_align]\n",
    "    perp_inds = scan_label[perp_align]\n",
    "    totals_inds = scan_label.tolist()\n",
    "\n",
    "    # Found error with large com dataset - object 14060 jumps across seasons\n",
    "    try:\n",
    "        par[par_inds] += 1\n",
    "        perp[perp_inds] += 1\n",
    "        totals[totals_inds] += 1\n",
    "    except:\n",
    "        print('Error with system {}.'.format(i))"
   ]
  },
  {
   "cell_type": "code",
   "execution_count": 14,
   "id": "b27134b2",
   "metadata": {
    "ExecuteTime": {
     "end_time": "2020-05-18T05:34:51.456811Z",
     "start_time": "2020-05-18T05:34:51.154724Z"
    }
   },
   "outputs": [
    {
     "data": {
      "image/png": "[encoded data removed]",
      "text/plain": [
       "<Figure size 432x288 with 1 Axes>"
      ]
     },
     "metadata": {
      "needs_background": "light"
     },
     "output_type": "display_data"
    }
   ],
   "source": [
    "plt.plot(np.arange(30,300,10), perp[3:30], label='Perpendicular count')\n",
    "plt.plot(np.arange(30,300,10), par[3:30], label='Parallel count')\n",
    "# plt.plot(np.arange(30,300,10), totals[3:30], label='Total count')\n",
    "plt.xticks(np.arange(30,300,30))\n",
    "plt.ylabel('Count [-]')\n",
    "plt.xlabel('Time since Initiation [m]')\n",
    "plt.legend()\n",
    "plt.savefig('/g/data/w40/esh563/CPOL_analysis/figures/TINT/size_counts.png')"
   ]
  },
  {
   "cell_type": "code",
   "execution_count": 15,
   "id": "d520d345",
   "metadata": {
    "ExecuteTime": {
     "end_time": "2020-05-18T05:34:58.742384Z",
     "start_time": "2020-05-18T05:34:58.450068Z"
    }
   },
   "outputs": [
    {
     "data": {
      "image/png": "[encoded data removed]",
      "text/plain": [
       "<Figure size 432x288 with 1 Axes>"
      ]
     },
     "metadata": {
      "needs_background": "light"
     },
     "output_type": "display_data"
    }
   ],
   "source": [
    "plt.plot(np.arange(30,300,10), (perp/totals)[3:30], label='Perpendicular ratio')\n",
    "plt.plot(np.arange(30,300,10), (par/totals)[3:30], label='Parallel ratio')\n",
    "plt.xticks(np.arange(30,300,30))\n",
    "plt.ylabel('Count [-]')\n",
    "plt.xlabel('Time since Initiation [m]')\n",
    "plt.legend()\n",
    "plt.savefig('/g/data/w40/esh563/CPOL_analysis/figures/TINT/size_counts.png')"
   ]
  },
  {
   "cell_type": "markdown",
   "id": "755e119f",
   "metadata": {},
   "source": [
    "## Updraft Tilt versus Stratiform Tilt"
   ]
  },
  {
   "cell_type": "code",
   "execution_count": 29,
   "id": "4d715a3c",
   "metadata": {
    "ExecuteTime": {
     "end_time": "2019-11-07T00:45:04.691216Z",
     "start_time": "2019-11-07T00:45:04.666793Z"
    }
   },
   "outputs": [],
   "source": [
    "def calc_mean_max_updrafts(system_tracks, min_height_ind = 20):\n",
    "    ud = system_tracks['updrafts']\n",
    "    ud_tilt = []\n",
    "    tallest_ud = []\n",
    "    mean_ud = []\n",
    "    no_tilt=0\n",
    "    for i in range(len(ud)):\n",
    "        ud_i = ud.iloc[i]\n",
    "        ud_tilt_i = []\n",
    "        for j in range(len(ud_i)):\n",
    "            if ud_i[j][-1][0] >= min_height_ind:\n",
    "                ud_tilt_i_j = (ud_i[j][-1]-ud_i[j][0])*(.5, 2.5, 2.5)\n",
    "                if np.all(ud_tilt_i_j[1:3] == [0,0]):\n",
    "                    # Count updrafts with no tilt seperately\n",
    "                    no_tilt+=1\n",
    "                else:\n",
    "                    ud_tilt_i.append(ud_tilt_i_j)\n",
    "       \n",
    "        if ud_tilt_i != []:\n",
    "            ud_tilt.append(ud_tilt_i)\n",
    "            mean_ud.append(np.nanmean(np.array(ud_tilt_i), axis=0))\n",
    "        else:\n",
    "            ud_tilt.append(np.ones(3)*np.nan)\n",
    "            mean_ud.append(np.ones(3)*np.nan)\n",
    "        try:\n",
    "            tallest_ind = np.argmax(np.array(ud_tilt_i)[:,0])\n",
    "            tallest_ud.append(np.array(ud_tilt_i)[tallest_ind,:])\n",
    "        except:\n",
    "            tallest_ud.append(np.ones(3)*np.nan)\n",
    "        \n",
    "    return ud_tilt, mean_ud, tallest_ud"
   ]
  },
  {
   "cell_type": "markdown",
   "id": "ab63fff0",
   "metadata": {},
   "source": [
    "### Tallest Updraft"
   ]
  },
  {
   "cell_type": "code",
   "execution_count": null,
   "id": "275eee72",
   "metadata": {},
   "outputs": [],
   "source": []
  },
  {
   "cell_type": "code",
   "execution_count": 155,
   "id": "32ed1682",
   "metadata": {
    "ExecuteTime": {
     "end_time": "2021-12-20T03:10:13.084080Z",
     "start_time": "2021-12-20T03:10:13.041554Z"
    }
   },
   "outputs": [],
   "source": [
    "q_str = \"(offset_type == 'Trailing Stratiform'\"\n",
    "q_str += \"and inflow_type == 'Front Fed')\"\n",
    "q_str += \"or (offset_type == 'Leading Stratiform'\"\n",
    "q_str += \"and inflow_type == 'Rear Fed')\"\n",
    "q_str += \"or (offset_type == 'Parallel Stratiform (Left)'\"\n",
    "q_str += \"and inflow_type == 'Parallel Fed (Right)')\"\n",
    "q_str += \"or (offset_type == 'Parallel Stratiform (Right)'\"\n",
    "q_str += \"and inflow_type == 'Parallel Fed (Left)')\"\n",
    "TS = counts_df.query(q_str)\n",
    "\n",
    "q_str = \"(offset_type == 'Leading Stratiform'\"\n",
    "q_str += \"and inflow_type == 'Front Fed')\"\n",
    "q_str += \"or (offset_type == 'Trailing Stratiform'\"\n",
    "q_str += \"and inflow_type == 'Rear Fed')\"\n",
    "q_str += \"or (offset_type == 'Parallel Stratiform (Left)'\"\n",
    "q_str += \"and inflow_type == 'Parallel Fed (Left)')\"\n",
    "q_str += \"or (offset_type == 'Parallel Stratiform (Right)'\"\n",
    "q_str += \"and inflow_type == 'Parallel Fed (Right)')\"\n",
    "LS = counts_df.query(q_str)\n",
    "\n",
    "q_str = \"(offset_type == 'Leading Stratiform'\"\n",
    "q_str += \"and inflow_type == 'Parallel Fed (Right)')\"\n",
    "q_str += \"or (offset_type == 'Trailing Stratiform'\"\n",
    "q_str += \"and inflow_type == 'Parallel Fed (Left)')\"\n",
    "q_str += \"or (offset_type == 'Parallel Stratiform (Left)'\"\n",
    "q_str += \"and inflow_type == 'Front Fed')\"\n",
    "q_str += \"or (offset_type == 'Parallel Stratiform (Right)'\"\n",
    "q_str += \"and inflow_type == 'Rear Fed (Right)')\"\n",
    "LeS = counts_df.query(q_str)\n",
    "\n",
    "q_str = \"(offset_type == 'Leading Stratiform'\"\n",
    "q_str += \"and inflow_type == 'Parallel Fed (Left)')\"\n",
    "q_str += \"or (offset_type == 'Trailing Stratiform'\"\n",
    "q_str += \"and inflow_type == 'Parallel Fed (Right)')\"\n",
    "q_str += \"or (offset_type == 'Parallel Stratiform (Right)'\"\n",
    "q_str += \"and inflow_type == 'Front Fed')\"\n",
    "q_str += \"or (offset_type == 'Parallel Stratiform (Left)'\"\n",
    "q_str += \"and inflow_type == 'Rear Fed')\"\n",
    "RiS = counts_df.query(q_str)"
   ]
  },
  {
   "cell_type": "code",
   "execution_count": 33,
   "id": "ae44e4b1",
   "metadata": {
    "ExecuteTime": {
     "end_time": "2019-11-07T00:48:22.194683Z",
     "start_time": "2019-11-07T00:48:20.360854Z"
    }
   },
   "outputs": [],
   "source": [
    "subset_logic = sig_area & not_border & sig_tilt_mag & not_border_0 & sig_vel_mag\n",
    "sub_tracks = tracks_obj.system_tracks[subset_logic]\n",
    "ud_tilt, mean_ud, tallest_ud = calc_mean_max_updrafts(sub_tracks)\n",
    "\n",
    "num = np.array(tallest_ud)\n",
    "den = np.tile(np.array(tallest_ud)[:,0], (3,1)).transpose()\n",
    "ud_norm = (num/den)[:,1:]\n",
    "ud_mag = np.sqrt(ud_norm[:,0] ** 2 + ud_norm[:,1] ** 2)\n",
    "ud_dir = np.arctan2(ud_norm[:,0], ud_norm[:,1])\n",
    "ud_dir = np.rad2deg(ud_dir)\n",
    "\n",
    "vel_dir = sub_tracks['vel_dir'].values\n",
    "tilt_dir = sub_tracks['tilt_dir'].values\n",
    "\n",
    "sys_rel_tilt_dir = np.mod(tilt_dir - vel_dir, 360)\n",
    "sys_rel_tilt_dir = np.round(sys_rel_tilt_dir, 3)\n",
    "\n",
    "sys_rel_ud_tilt_dir = np.mod(ud_dir - vel_dir, 360)\n",
    "sys_rel_ud_tilt_dir = np.round(sys_rel_ud_tilt_dir, 3)"
   ]
  },
  {
   "cell_type": "code",
   "execution_count": 149,
   "id": "6fda15b4",
   "metadata": {
    "ExecuteTime": {
     "end_time": "2021-12-20T01:47:41.993121Z",
     "start_time": "2021-12-20T01:47:41.980313Z"
    }
   },
   "outputs": [
    {
     "data": {
      "text/plain": [
       "0.44423311988559894"
      ]
     },
     "execution_count": 149,
     "metadata": {},
     "output_type": "execute_result"
    }
   ],
   "source": [
    "3270.000000/(5944.000000/.80749898)"
   ]
  },
  {
   "cell_type": "code",
   "execution_count": null,
   "id": "e522acd0",
   "metadata": {},
   "outputs": [],
   "source": []
  },
  {
   "cell_type": "code",
   "execution_count": 35,
   "id": "dbe73615",
   "metadata": {
    "ExecuteTime": {
     "end_time": "2019-11-07T00:48:43.063922Z",
     "start_time": "2019-11-07T00:48:42.755514Z"
    }
   },
   "outputs": [
    {
     "data": {
      "image/png": "[encoded data removed]",
      "text/plain": [
       "<Figure size 504x504 with 2 Axes>"
      ]
     },
     "metadata": {
      "needs_background": "light"
     },
     "output_type": "display_data"
    }
   ],
   "source": [
    "vel_dir = sub_tracks['vel_dir'].values\n",
    "vel_mag = np.sqrt(sub_tracks['u_shift']**2 + sub_tracks['v_shift']**2).values\n",
    "tilt_dir = sub_tracks['tilt_dir'].values\n",
    "bins = np.arange(0,360+15,15)\n",
    "ticks = np.arange(0,360+30,30)\n",
    "\n",
    "fig = plt.figure(figsize=[7,7])\n",
    "ax = fig.add_subplot(111)\n",
    "h = ax.hist2d(sys_rel_tilt_dir, sys_rel_ud_tilt_dir, bins=bins, range=[[0, 360], [0, 360]], cmap='Reds')\n",
    "# ax.scatter(tilt_dir, ud_dir, s=0.75)\n",
    "plt.xlabel('Stratiform Tilt Direction')\n",
    "plt.ylabel('Tallest Updraft Tilt Direction')\n",
    "plt.title('Velocity Relative Tilt Directions')\n",
    "plt.xlim([0, 360])\n",
    "plt.ylim([0, 360])\n",
    "plt.xticks(ticks)\n",
    "plt.yticks(ticks)\n",
    "ax.set_aspect('equal')\n",
    "cb = plt.colorbar(h[3], ax=ax)\n",
    "cb.set_label('Count')"
   ]
  },
  {
   "cell_type": "markdown",
   "id": "0c177457",
   "metadata": {},
   "source": [
    "### Mean Updraft"
   ]
  },
  {
   "cell_type": "code",
   "execution_count": 36,
   "id": "44420f2a",
   "metadata": {
    "ExecuteTime": {
     "end_time": "2019-11-07T00:49:36.630871Z",
     "start_time": "2019-11-07T00:49:34.741483Z"
    }
   },
   "outputs": [],
   "source": [
    "subset_logic = sig_area & not_border & sig_tilt_mag & not_border_0 & sig_vel_mag\n",
    "sub_tracks = tracks_obj.system_tracks[subset_logic]\n",
    "ud_tilt, mean_ud, tallest_ud = calc_mean_max_updrafts(sub_tracks)\n",
    "\n",
    "num = np.array(mean_ud)\n",
    "den = np.tile(np.array(mean_ud)[:,0], (3,1)).transpose()\n",
    "ud_norm = (num/den)[:,1:]\n",
    "ud_mag = np.sqrt(ud_norm[:,0] ** 2 + ud_norm[:,1] ** 2)\n",
    "ud_dir = np.arctan2(ud_norm[:,0], ud_norm[:,1])\n",
    "ud_dir = np.rad2deg(ud_dir)\n",
    "\n",
    "vel_dir = sub_tracks['vel_dir'].values\n",
    "tilt_dir = sub_tracks['tilt_dir'].values\n",
    "\n",
    "sys_rel_tilt_dir = np.mod(tilt_dir - vel_dir, 360)\n",
    "sys_rel_tilt_dir = np.round(sys_rel_tilt_dir, 3)\n",
    "\n",
    "sys_rel_ud_tilt_dir = np.mod(ud_dir - vel_dir, 360)\n",
    "sys_rel_ud_tilt_dir = np.round(sys_rel_ud_tilt_dir, 3)"
   ]
  },
  {
   "cell_type": "code",
   "execution_count": 38,
   "id": "0098a6e5",
   "metadata": {
    "ExecuteTime": {
     "end_time": "2019-11-07T00:49:47.757230Z",
     "start_time": "2019-11-07T00:49:47.448717Z"
    }
   },
   "outputs": [
    {
     "data": {
      "image/png": "[encoded data removed]",
      "text/plain": [
       "<Figure size 504x504 with 2 Axes>"
      ]
     },
     "metadata": {
      "needs_background": "light"
     },
     "output_type": "display_data"
    }
   ],
   "source": [
    "vel_dir = sub_tracks['vel_dir'].values\n",
    "vel_mag = np.sqrt(sub_tracks['u_shift']**2 + sub_tracks['v_shift']**2).values\n",
    "tilt_dir = sub_tracks['tilt_dir'].values\n",
    "bins = np.arange(0,360+15,15)\n",
    "ticks = np.arange(0,360+30,30)\n",
    "\n",
    "fig = plt.figure(figsize=[7,7])\n",
    "ax = fig.add_subplot(111)\n",
    "h = ax.hist2d(sys_rel_tilt_dir, sys_rel_ud_tilt_dir, bins=bins, range=[[0, 360], [0, 360]], cmap='Reds')\n",
    "# ax.scatter(tilt_dir, ud_dir, s=0.75)\n",
    "plt.xlabel('Stratiform Tilt Direction')\n",
    "plt.ylabel('Mean Updraft Tilt Direction')\n",
    "plt.title('Velocity Relative Tilt Directions')\n",
    "plt.xlim([0, 360])\n",
    "plt.ylim([0, 360])\n",
    "plt.xticks(ticks)\n",
    "plt.yticks(ticks)\n",
    "ax.set_aspect('equal')\n",
    "cb = plt.colorbar(h[3], ax=ax)\n",
    "cb.set_label('Count')"
   ]
  },
  {
   "cell_type": "code",
   "execution_count": 11,
   "id": "cb354e52",
   "metadata": {
    "ExecuteTime": {
     "end_time": "2021-11-17T00:48:40.455655Z",
     "start_time": "2021-11-17T00:48:40.443180Z"
    },
    "scrolled": true
   },
   "outputs": [],
   "source": [
    "base_dir = '/media/shorte1/Ewan\\'s Hard Drive/phd/data/CPOL/'\n",
    "save_dir = '/home/student.unimelb.edu.au/shorte1/Documents/TINT_tracks/'\n",
    "fig_dir = '/home/student.unimelb.edu.au/shorte1/Documents/TINT_figures/'\n",
    "ERA5_dir = '/media/shorte1/Ewan\\'s Hard Drive/phd/data/era5/'\n",
    "ERA5_dir += 'pressure-levels/reanalysis/'\n",
    "WRF_dir = '/media/shorte1/Ewan\\'s Hard Drive/phd/data/caine_WRF_data/'"
   ]
  },
  {
   "cell_type": "markdown",
   "id": "314a046d",
   "metadata": {
    "ExecuteTime": {
     "end_time": "2021-11-17T03:23:35.111331Z",
     "start_time": "2021-11-17T03:23:35.099151Z"
    }
   },
   "source": [
    "## Rain"
   ]
  },
  {
   "cell_type": "code",
   "execution_count": 9,
   "id": "e7a1bf7e",
   "metadata": {
    "ExecuteTime": {
     "end_time": "2020-05-18T05:33:35.574595Z",
     "start_time": "2020-05-18T05:33:27.074372Z"
    }
   },
   "outputs": [],
   "source": [
    "uids = list(set([tracks_obj.system_tracks.index[i][2] for i in range(len(tracks_obj.system_tracks))]))\n",
    "\n",
    "ratio = []\n",
    "tot_rain = []\n",
    "\n",
    "for u in uids:\n",
    "    hours = len(tracks_obj.system_tracks.xs(u, level='uid'))*1/6\n",
    "    r = categories.xs(u, level='uid')['par_align'].sum()/len(tracks_obj.system_tracks.xs(u, level='uid'))\n",
    "    ratio.append(r)\n",
    "    tot_rain.append(tracks_obj.system_tracks.xs(u, level='uid')['tot_rain'][-1])\n",
    "# tracks_obj.system_tracks.xs('0', level='uid')['vel_dir']"
   ]
  },
  {
   "cell_type": "code",
   "execution_count": 10,
   "id": "15d8f78c",
   "metadata": {
    "ExecuteTime": {
     "end_time": "2020-05-18T05:33:37.145779Z",
     "start_time": "2020-05-18T05:33:36.906558Z"
    }
   },
   "outputs": [
    {
     "data": {
      "text/plain": [
       "<matplotlib.collections.PathCollection at 0x7fc85f39c550>"
      ]
     },
     "execution_count": 10,
     "metadata": {},
     "output_type": "execute_result"
    },
    {
     "data": {
      "image/png": "[encoded data removed]",
      "text/plain": [
       "<Figure size 432x288 with 1 Axes>"
      ]
     },
     "metadata": {
      "needs_background": "light"
     },
     "output_type": "display_data"
    }
   ],
   "source": [
    "tot_rain = np.array(tot_rain)\n",
    "tot_rain[tot_rain>500]=np.nan\n",
    "plt.scatter(ratio, tot_rain)"
   ]
  },
  {
   "cell_type": "code",
   "execution_count": 73,
   "id": "53e97580",
   "metadata": {
    "ExecuteTime": {
     "end_time": "2020-01-23T06:15:06.651380Z",
     "start_time": "2020-01-23T06:15:06.641771Z"
    }
   },
   "outputs": [
    {
     "data": {
      "text/plain": [
       "Series([], Name: par_align, dtype: bool)"
      ]
     },
     "execution_count": 73,
     "metadata": {},
     "output_type": "execute_result"
    }
   ],
   "source": [
    "sub_cat['par_align'].groupby(level='uid').sum().sort_values(ascending=False)[:20]"
   ]
  },
  {
   "cell_type": "code",
   "execution_count": null,
   "id": "dfcfa7e1",
   "metadata": {},
   "outputs": [],
   "source": [
    "## Rain\n",
    "\n",
    "uids = list(set([tracks_obj.system_tracks.index[i][2] for i in range(len(tracks_obj.system_tracks))]))\n",
    "\n",
    "ratio = []\n",
    "tot_rain = []\n",
    "\n",
    "for u in uids:\n",
    "    hours = len(tracks_obj.system_tracks.xs(u, level='uid'))*1/6\n",
    "    r = categories.xs(u, level='uid')['par_align'].sum()/len(tracks_obj.system_tracks.xs(u, level='uid'))\n",
    "    ratio.append(r)\n",
    "    tot_rain.append(tracks_obj.system_tracks.xs(u, level='uid')['tot_rain'][-1])\n",
    "# tracks_obj.system_tracks.xs('0', level='uid')['vel_dir']\n",
    "\n",
    "tot_rain = np.array(tot_rain)\n",
    "tot_rain[tot_rain>500]=np.nan\n",
    "plt.scatter(ratio, tot_rain)\n",
    "\n",
    "sub_cat['par_align'].groupby(level='uid').sum().sort_values(ascending=False)[:20]"
   ]
  },
  {
   "cell_type": "code",
   "execution_count": 58,
   "id": "922bab1b",
   "metadata": {
    "ExecuteTime": {
     "end_time": "2022-06-23T00:11:10.598340Z",
     "start_time": "2022-06-23T00:11:10.574843Z"
    }
   },
   "outputs": [],
   "source": [
    "era5_all = xr.open_dataset('/home/student.unimelb.edu.au/shorte1/Documents/era5_stuff/adaptor.mars.internal-1655899408.0752895-17633-20-091d1e31-ec26-4545-850c-8a330be7c27e.nc')"
   ]
  },
  {
   "cell_type": "code",
   "execution_count": 59,
   "id": "ac701fee",
   "metadata": {
    "ExecuteTime": {
     "end_time": "2022-06-23T00:11:11.314975Z",
     "start_time": "2022-06-23T00:11:11.283272Z"
    }
   },
   "outputs": [
    {
     "data": {
      "text/html": [
       "<div><svg style=\"position: absolute; width: 0; height: 0; overflow: hidden\">\n",
       "<defs>\n",
       "<symbol id=\"icon-database\" viewBox=\"0 0 32 32\">\n",
       "<path d=\"M16 0c-8.837 0-16 2.239-16 5v4c0 2.761 7.163 5 16 5s16-2.239 16-5v-4c0-2.761-7.163-5-16-5z\"></path>\n",
       "<path d=\"M16 17c-8.837 0-16-2.239-16-5v6c0 2.761 7.163 5 16 5s16-2.239 16-5v-6c0 2.761-7.163 5-16 5z\"></path>\n",
       "<path d=\"M16 26c-8.837 0-16-2.239-16-5v6c0 2.761 7.163 5 16 5s16-2.239 16-5v-6c0 2.761-7.163 5-16 5z\"></path>\n",
       "</symbol>\n",
       "<symbol id=\"icon-file-text2\" viewBox=\"0 0 32 32\">\n",
       "<path d=\"M28.681 7.159c-0.694-0.947-1.662-2.053-2.724-3.116s-2.169-2.030-3.116-2.724c-1.612-1.182-2.393-1.319-2.841-1.319h-15.5c-1.378 0-2.5 1.121-2.5 2.5v27c0 1.378 1.122 2.5 2.5 2.5h23c1.378 0 2.5-1.122 2.5-2.5v-19.5c0-0.448-0.137-1.23-1.319-2.841zM24.543 5.457c0.959 0.959 1.712 1.825 2.268 2.543h-4.811v-4.811c0.718 0.556 1.584 1.309 2.543 2.268zM28 29.5c0 0.271-0.229 0.5-0.5 0.5h-23c-0.271 0-0.5-0.229-0.5-0.5v-27c0-0.271 0.229-0.5 0.5-0.5 0 0 15.499-0 15.5 0v7c0 0.552 0.448 1 1 1h7v19.5z\"></path>\n",
       "<path d=\"M23 26h-14c-0.552 0-1-0.448-1-1s0.448-1 1-1h14c0.552 0 1 0.448 1 1s-0.448 1-1 1z\"></path>\n",
       "<path d=\"M23 22h-14c-0.552 0-1-0.448-1-1s0.448-1 1-1h14c0.552 0 1 0.448 1 1s-0.448 1-1 1z\"></path>\n",
       "<path d=\"M23 18h-14c-0.552 0-1-0.448-1-1s0.448-1 1-1h14c0.552 0 1 0.448 1 1s-0.448 1-1 1z\"></path>\n",
       "</symbol>\n",
       "</defs>\n",
       "</svg>\n",
       "<style>/* CSS stylesheet for displaying xarray objects in jupyterlab.\n",
       " *\n",
       " */\n",
       "\n",
       ":root {\n",
       "  --xr-font-color0: var(--jp-content-font-color0, rgba(0, 0, 0, 1));\n",
       "  --xr-font-color2: var(--jp-content-font-color2, rgba(0, 0, 0, 0.54));\n",
       "  --xr-font-color3: var(--jp-content-font-color3, rgba(0, 0, 0, 0.38));\n",
       "  --xr-border-color: var(--jp-border-color2, #e0e0e0);\n",
       "  --xr-disabled-color: var(--jp-layout-color3, #bdbdbd);\n",
       "  --xr-background-color: var(--jp-layout-color0, white);\n",
       "  --xr-background-color-row-even: var(--jp-layout-color1, white);\n",
       "  --xr-background-color-row-odd: var(--jp-layout-color2, #eeeeee);\n",
       "}\n",
       "\n",
       "html[theme=dark],\n",
       "body.vscode-dark {\n",
       "  --xr-font-color0: rgba(255, 255, 255, 1);\n",
       "  --xr-font-color2: rgba(255, 255, 255, 0.54);\n",
       "  --xr-font-color3: rgba(255, 255, 255, 0.38);\n",
       "  --xr-border-color: #1F1F1F;\n",
       "  --xr-disabled-color: #515151;\n",
       "  --xr-background-color: #111111;\n",
       "  --xr-background-color-row-even: #111111;\n",
       "  --xr-background-color-row-odd: #313131;\n",
       "}\n",
       "\n",
       ".xr-wrap {\n",
       "  display: block;\n",
       "  min-width: 300px;\n",
       "  max-width: 700px;\n",
       "}\n",
       "\n",
       ".xr-text-repr-fallback {\n",
       "  /* fallback to plain text repr when CSS is not injected (untrusted notebook) */\n",
       "  display: none;\n",
       "}\n",
       "\n",
       ".xr-header {\n",
       "  padding-top: 6px;\n",
       "  padding-bottom: 6px;\n",
       "  margin-bottom: 4px;\n",
       "  border-bottom: solid 1px var(--xr-border-color);\n",
       "}\n",
       "\n",
       ".xr-header > div,\n",
       ".xr-header > ul {\n",
       "  display: inline;\n",
       "  margin-top: 0;\n",
       "  margin-bottom: 0;\n",
       "}\n",
       "\n",
       ".xr-obj-type,\n",
       ".xr-array-name {\n",
       "  margin-left: 2px;\n",
       "  margin-right: 10px;\n",
       "}\n",
       "\n",
       ".xr-obj-type {\n",
       "  color: var(--xr-font-color2);\n",
       "}\n",
       "\n",
       ".xr-sections {\n",
       "  padding-left: 0 !important;\n",
       "  display: grid;\n",
       "  grid-template-columns: 150px auto auto 1fr 20px 20px;\n",
       "}\n",
       "\n",
       ".xr-section-item {\n",
       "  display: contents;\n",
       "}\n",
       "\n",
       ".xr-section-item input {\n",
       "  display: none;\n",
       "}\n",
       "\n",
       ".xr-section-item input + label {\n",
       "  color: var(--xr-disabled-color);\n",
       "}\n",
       "\n",
       ".xr-section-item input:enabled + label {\n",
       "  cursor: pointer;\n",
       "  color: var(--xr-font-color2);\n",
       "}\n",
       "\n",
       ".xr-section-item input:enabled + label:hover {\n",
       "  color: var(--xr-font-color0);\n",
       "}\n",
       "\n",
       ".xr-section-summary {\n",
       "  grid-column: 1;\n",
       "  color: var(--xr-font-color2);\n",
       "  font-weight: 500;\n",
       "}\n",
       "\n",
       ".xr-section-summary > span {\n",
       "  display: inline-block;\n",
       "  padding-left: 0.5em;\n",
       "}\n",
       "\n",
       ".xr-section-summary-in:disabled + label {\n",
       "  color: var(--xr-font-color2);\n",
       "}\n",
       "\n",
       ".xr-section-summary-in + label:before {\n",
       "  display: inline-block;\n",
       "  content: '►';\n",
       "  font-size: 11px;\n",
       "  width: 15px;\n",
       "  text-align: center;\n",
       "}\n",
       "\n",
       ".xr-section-summary-in:disabled + label:before {\n",
       "  color: var(--xr-disabled-color);\n",
       "}\n",
       "\n",
       ".xr-section-summary-in:checked + label:before {\n",
       "  content: '▼';\n",
       "}\n",
       "\n",
       ".xr-section-summary-in:checked + label > span {\n",
       "  display: none;\n",
       "}\n",
       "\n",
       ".xr-section-summary,\n",
       ".xr-section-inline-details {\n",
       "  padding-top: 4px;\n",
       "  padding-bottom: 4px;\n",
       "}\n",
       "\n",
       ".xr-section-inline-details {\n",
       "  grid-column: 2 / -1;\n",
       "}\n",
       "\n",
       ".xr-section-details {\n",
       "  display: none;\n",
       "  grid-column: 1 / -1;\n",
       "  margin-bottom: 5px;\n",
       "}\n",
       "\n",
       ".xr-section-summary-in:checked ~ .xr-section-details {\n",
       "  display: contents;\n",
       "}\n",
       "\n",
       ".xr-array-wrap {\n",
       "  grid-column: 1 / -1;\n",
       "  display: grid;\n",
       "  grid-template-columns: 20px auto;\n",
       "}\n",
       "\n",
       ".xr-array-wrap > label {\n",
       "  grid-column: 1;\n",
       "  vertical-align: top;\n",
       "}\n",
       "\n",
       ".xr-preview {\n",
       "  color: var(--xr-font-color3);\n",
       "}\n",
       "\n",
       ".xr-array-preview,\n",
       ".xr-array-data {\n",
       "  padding: 0 5px !important;\n",
       "  grid-column: 2;\n",
       "}\n",
       "\n",
       ".xr-array-data,\n",
       ".xr-array-in:checked ~ .xr-array-preview {\n",
       "  display: none;\n",
       "}\n",
       "\n",
       ".xr-array-in:checked ~ .xr-array-data,\n",
       ".xr-array-preview {\n",
       "  display: inline-block;\n",
       "}\n",
       "\n",
       ".xr-dim-list {\n",
       "  display: inline-block !important;\n",
       "  list-style: none;\n",
       "  padding: 0 !important;\n",
       "  margin: 0;\n",
       "}\n",
       "\n",
       ".xr-dim-list li {\n",
       "  display: inline-block;\n",
       "  padding: 0;\n",
       "  margin: 0;\n",
       "}\n",
       "\n",
       ".xr-dim-list:before {\n",
       "  content: '(';\n",
       "}\n",
       "\n",
       ".xr-dim-list:after {\n",
       "  content: ')';\n",
       "}\n",
       "\n",
       ".xr-dim-list li:not(:last-child):after {\n",
       "  content: ',';\n",
       "  padding-right: 5px;\n",
       "}\n",
       "\n",
       ".xr-has-index {\n",
       "  font-weight: bold;\n",
       "}\n",
       "\n",
       ".xr-var-list,\n",
       ".xr-var-item {\n",
       "  display: contents;\n",
       "}\n",
       "\n",
       ".xr-var-item > div,\n",
       ".xr-var-item label,\n",
       ".xr-var-item > .xr-var-name span {\n",
       "  background-color: var(--xr-background-color-row-even);\n",
       "  margin-bottom: 0;\n",
       "}\n",
       "\n",
       ".xr-var-item > .xr-var-name:hover span {\n",
       "  padding-right: 5px;\n",
       "}\n",
       "\n",
       ".xr-var-list > li:nth-child(odd) > div,\n",
       ".xr-var-list > li:nth-child(odd) > label,\n",
       ".xr-var-list > li:nth-child(odd) > .xr-var-name span {\n",
       "  background-color: var(--xr-background-color-row-odd);\n",
       "}\n",
       "\n",
       ".xr-var-name {\n",
       "  grid-column: 1;\n",
       "}\n",
       "\n",
       ".xr-var-dims {\n",
       "  grid-column: 2;\n",
       "}\n",
       "\n",
       ".xr-var-dtype {\n",
       "  grid-column: 3;\n",
       "  text-align: right;\n",
       "  color: var(--xr-font-color2);\n",
       "}\n",
       "\n",
       ".xr-var-preview {\n",
       "  grid-column: 4;\n",
       "}\n",
       "\n",
       ".xr-var-name,\n",
       ".xr-var-dims,\n",
       ".xr-var-dtype,\n",
       ".xr-preview,\n",
       ".xr-attrs dt {\n",
       "  white-space: nowrap;\n",
       "  overflow: hidden;\n",
       "  text-overflow: ellipsis;\n",
       "  padding-right: 10px;\n",
       "}\n",
       "\n",
       ".xr-var-name:hover,\n",
       ".xr-var-dims:hover,\n",
       ".xr-var-dtype:hover,\n",
       ".xr-attrs dt:hover {\n",
       "  overflow: visible;\n",
       "  width: auto;\n",
       "  z-index: 1;\n",
       "}\n",
       "\n",
       ".xr-var-attrs,\n",
       ".xr-var-data {\n",
       "  display: none;\n",
       "  background-color: var(--xr-background-color) !important;\n",
       "  padding-bottom: 5px !important;\n",
       "}\n",
       "\n",
       ".xr-var-attrs-in:checked ~ .xr-var-attrs,\n",
       ".xr-var-data-in:checked ~ .xr-var-data {\n",
       "  display: block;\n",
       "}\n",
       "\n",
       ".xr-var-data > table {\n",
       "  float: right;\n",
       "}\n",
       "\n",
       ".xr-var-name span,\n",
       ".xr-var-data,\n",
       ".xr-attrs {\n",
       "  padding-left: 25px !important;\n",
       "}\n",
       "\n",
       ".xr-attrs,\n",
       ".xr-var-attrs,\n",
       ".xr-var-data {\n",
       "  grid-column: 1 / -1;\n",
       "}\n",
       "\n",
       "dl.xr-attrs {\n",
       "  padding: 0;\n",
       "  margin: 0;\n",
       "  display: grid;\n",
       "  grid-template-columns: 125px auto;\n",
       "}\n",
       "\n",
       ".xr-attrs dt,\n",
       ".xr-attrs dd {\n",
       "  padding: 0;\n",
       "  margin: 0;\n",
       "  float: left;\n",
       "  padding-right: 10px;\n",
       "  width: auto;\n",
       "}\n",
       "\n",
       ".xr-attrs dt {\n",
       "  font-weight: normal;\n",
       "  grid-column: 1;\n",
       "}\n",
       "\n",
       ".xr-attrs dt:hover span {\n",
       "  display: inline-block;\n",
       "  background: var(--xr-background-color);\n",
       "  padding-right: 10px;\n",
       "}\n",
       "\n",
       ".xr-attrs dd {\n",
       "  grid-column: 2;\n",
       "  white-space: pre-wrap;\n",
       "  word-break: break-all;\n",
       "}\n",
       "\n",
       ".xr-icon-database,\n",
       ".xr-icon-file-text2 {\n",
       "  display: inline-block;\n",
       "  vertical-align: middle;\n",
       "  width: 1em;\n",
       "  height: 1.5em !important;\n",
       "  stroke-width: 0;\n",
       "  stroke: currentColor;\n",
       "  fill: currentColor;\n",
       "}\n",
       "</style><pre class='xr-text-repr-fallback'>&lt;xarray.Dataset&gt;\n",
       "Dimensions:    (latitude: 43, level: 37, longitude: 53, time: 744)\n",
       "Coordinates:\n",
       "  * longitude  (longitude) float32 127.0 127.2 127.5 127.8 ... 139.5 139.8 140.0\n",
       "  * latitude   (latitude) float32 -7.5 -7.75 -8.0 -8.25 ... -17.5 -17.75 -18.0\n",
       "  * level      (level) int32 1 2 3 5 7 10 20 30 ... 850 875 900 925 950 975 1000\n",
       "  * time       (time) datetime64[ns] 2022-05-01 ... 2022-05-31T23:00:00\n",
       "Data variables:\n",
       "    z          (time, level, latitude, longitude) float32 ...\n",
       "    u          (time, level, latitude, longitude) float32 ...\n",
       "    v          (time, level, latitude, longitude) float32 ...\n",
       "Attributes:\n",
       "    Conventions:  CF-1.6\n",
       "    history:      2022-06-22 12:06:07 GMT by grib_to_netcdf-2.24.3: /opt/ecmw...</pre><div class='xr-wrap' hidden><div class='xr-header'><div class='xr-obj-type'>xarray.Dataset</div></div><ul class='xr-sections'><li class='xr-section-item'><input id='section-3c4868d4-1a77-4ef7-90f4-db4e74ba2aab' class='xr-section-summary-in' type='checkbox' disabled ><label for='section-3c4868d4-1a77-4ef7-90f4-db4e74ba2aab' class='xr-section-summary'  title='Expand/collapse section'>Dimensions:</label><div class='xr-section-inline-details'><ul class='xr-dim-list'><li><span class='xr-has-index'>latitude</span>: 43</li><li><span class='xr-has-index'>level</span>: 37</li><li><span class='xr-has-index'>longitude</span>: 53</li><li><span class='xr-has-index'>time</span>: 744</li></ul></div><div class='xr-section-details'></div></li><li class='xr-section-item'><input id='section-7e2d4e90-ab9d-497e-8773-74facac4dd52' class='xr-section-summary-in' type='checkbox'  checked><label for='section-7e2d4e90-ab9d-497e-8773-74facac4dd52' class='xr-section-summary' >Coordinates: <span>(4)</span></label><div class='xr-section-inline-details'></div><div class='xr-section-details'><ul class='xr-var-list'><li class='xr-var-item'><div class='xr-var-name'><span class='xr-has-index'>longitude</span></div><div class='xr-var-dims'>(longitude)</div><div class='xr-var-dtype'>float32</div><div class='xr-var-preview xr-preview'>127.0 127.2 127.5 ... 139.8 140.0</div><input id='attrs-658c436e-1935-47fe-a325-109727aed35c' class='xr-var-attrs-in' type='checkbox' ><label for='attrs-658c436e-1935-47fe-a325-109727aed35c' title='Show/Hide attributes'><svg class='icon xr-icon-file-text2'><use xlink:href='#icon-file-text2'></use></svg></label><input id='data-24fec281-bbaa-4860-90e3-cf45a788f81c' class='xr-var-data-in' type='checkbox'><label for='data-24fec281-bbaa-4860-90e3-cf45a788f81c' title='Show/Hide data repr'><svg class='icon xr-icon-database'><use xlink:href='#icon-database'></use></svg></label><div class='xr-var-attrs'><dl class='xr-attrs'><dt><span>units :</span></dt><dd>degrees_east</dd><dt><span>long_name :</span></dt><dd>longitude</dd></dl></div><div class='xr-var-data'><pre>array([127.  , 127.25, 127.5 , 127.75, 128.  , 128.25, 128.5 , 128.75, 129.  ,\n",
       "       129.25, 129.5 , 129.75, 130.  , 130.25, 130.5 , 130.75, 131.  , 131.25,\n",
       "       131.5 , 131.75, 132.  , 132.25, 132.5 , 132.75, 133.  , 133.25, 133.5 ,\n",
       "       133.75, 134.  , 134.25, 134.5 , 134.75, 135.  , 135.25, 135.5 , 135.75,\n",
       "       136.  , 136.25, 136.5 , 136.75, 137.  , 137.25, 137.5 , 137.75, 138.  ,\n",
       "       138.25, 138.5 , 138.75, 139.  , 139.25, 139.5 , 139.75, 140.  ],\n",
       "      dtype=float32)</pre></div></li><li class='xr-var-item'><div class='xr-var-name'><span class='xr-has-index'>latitude</span></div><div class='xr-var-dims'>(latitude)</div><div class='xr-var-dtype'>float32</div><div class='xr-var-preview xr-preview'>-7.5 -7.75 -8.0 ... -17.75 -18.0</div><input id='attrs-eccb1696-a5f4-485b-952d-c6106a4db2ae' class='xr-var-attrs-in' type='checkbox' ><label for='attrs-eccb1696-a5f4-485b-952d-c6106a4db2ae' title='Show/Hide attributes'><svg class='icon xr-icon-file-text2'><use xlink:href='#icon-file-text2'></use></svg></label><input id='data-5d2b9614-12f6-4b1b-aca2-3a17dd565699' class='xr-var-data-in' type='checkbox'><label for='data-5d2b9614-12f6-4b1b-aca2-3a17dd565699' title='Show/Hide data repr'><svg class='icon xr-icon-database'><use xlink:href='#icon-database'></use></svg></label><div class='xr-var-attrs'><dl class='xr-attrs'><dt><span>units :</span></dt><dd>degrees_north</dd><dt><span>long_name :</span></dt><dd>latitude</dd></dl></div><div class='xr-var-data'><pre>array([ -7.5 ,  -7.75,  -8.  ,  -8.25,  -8.5 ,  -8.75,  -9.  ,  -9.25,  -9.5 ,\n",
       "        -9.75, -10.  , -10.25, -10.5 , -10.75, -11.  , -11.25, -11.5 , -11.75,\n",
       "       -12.  , -12.25, -12.5 , -12.75, -13.  , -13.25, -13.5 , -13.75, -14.  ,\n",
       "       -14.25, -14.5 , -14.75, -15.  , -15.25, -15.5 , -15.75, -16.  , -16.25,\n",
       "       -16.5 , -16.75, -17.  , -17.25, -17.5 , -17.75, -18.  ], dtype=float32)</pre></div></li><li class='xr-var-item'><div class='xr-var-name'><span class='xr-has-index'>level</span></div><div class='xr-var-dims'>(level)</div><div class='xr-var-dtype'>int32</div><div class='xr-var-preview xr-preview'>1 2 3 5 7 ... 900 925 950 975 1000</div><input id='attrs-68d1f41f-ad64-4c7e-ba86-4f58fc4dfc28' class='xr-var-attrs-in' type='checkbox' ><label for='attrs-68d1f41f-ad64-4c7e-ba86-4f58fc4dfc28' title='Show/Hide attributes'><svg class='icon xr-icon-file-text2'><use xlink:href='#icon-file-text2'></use></svg></label><input id='data-010523b8-358c-4dc2-9ca5-cbdf87966e6a' class='xr-var-data-in' type='checkbox'><label for='data-010523b8-358c-4dc2-9ca5-cbdf87966e6a' title='Show/Hide data repr'><svg class='icon xr-icon-database'><use xlink:href='#icon-database'></use></svg></label><div class='xr-var-attrs'><dl class='xr-attrs'><dt><span>units :</span></dt><dd>millibars</dd><dt><span>long_name :</span></dt><dd>pressure_level</dd></dl></div><div class='xr-var-data'><pre>array([   1,    2,    3,    5,    7,   10,   20,   30,   50,   70,  100,  125,\n",
       "        150,  175,  200,  225,  250,  300,  350,  400,  450,  500,  550,  600,\n",
       "        650,  700,  750,  775,  800,  825,  850,  875,  900,  925,  950,  975,\n",
       "       1000], dtype=int32)</pre></div></li><li class='xr-var-item'><div class='xr-var-name'><span class='xr-has-index'>time</span></div><div class='xr-var-dims'>(time)</div><div class='xr-var-dtype'>datetime64[ns]</div><div class='xr-var-preview xr-preview'>2022-05-01 ... 2022-05-31T23:00:00</div><input id='attrs-2ef62dbb-67d9-44c0-a0c8-e022e68e1632' class='xr-var-attrs-in' type='checkbox' ><label for='attrs-2ef62dbb-67d9-44c0-a0c8-e022e68e1632' title='Show/Hide attributes'><svg class='icon xr-icon-file-text2'><use xlink:href='#icon-file-text2'></use></svg></label><input id='data-0981d795-af3a-4917-aa22-f48e8dbc0c3b' class='xr-var-data-in' type='checkbox'><label for='data-0981d795-af3a-4917-aa22-f48e8dbc0c3b' title='Show/Hide data repr'><svg class='icon xr-icon-database'><use xlink:href='#icon-database'></use></svg></label><div class='xr-var-attrs'><dl class='xr-attrs'><dt><span>long_name :</span></dt><dd>time</dd></dl></div><div class='xr-var-data'><pre>array([&#x27;2022-05-01T00:00:00.000000000&#x27;, &#x27;2022-05-01T01:00:00.000000000&#x27;,\n",
       "       &#x27;2022-05-01T02:00:00.000000000&#x27;, ..., &#x27;2022-05-31T21:00:00.000000000&#x27;,\n",
       "       &#x27;2022-05-31T22:00:00.000000000&#x27;, &#x27;2022-05-31T23:00:00.000000000&#x27;],\n",
       "      dtype=&#x27;datetime64[ns]&#x27;)</pre></div></li></ul></div></li><li class='xr-section-item'><input id='section-12d63eb5-1060-4c87-9df9-90feaaac1222' class='xr-section-summary-in' type='checkbox'  checked><label for='section-12d63eb5-1060-4c87-9df9-90feaaac1222' class='xr-section-summary' >Data variables: <span>(3)</span></label><div class='xr-section-inline-details'></div><div class='xr-section-details'><ul class='xr-var-list'><li class='xr-var-item'><div class='xr-var-name'><span>z</span></div><div class='xr-var-dims'>(time, level, latitude, longitude)</div><div class='xr-var-dtype'>float32</div><div class='xr-var-preview xr-preview'>...</div><input id='attrs-8284d2a6-c40c-453f-b853-dac7b8d1ff8a' class='xr-var-attrs-in' type='checkbox' ><label for='attrs-8284d2a6-c40c-453f-b853-dac7b8d1ff8a' title='Show/Hide attributes'><svg class='icon xr-icon-file-text2'><use xlink:href='#icon-file-text2'></use></svg></label><input id='data-5f70bd10-2449-4172-93ba-ff0cf5a80045' class='xr-var-data-in' type='checkbox'><label for='data-5f70bd10-2449-4172-93ba-ff0cf5a80045' title='Show/Hide data repr'><svg class='icon xr-icon-database'><use xlink:href='#icon-database'></use></svg></label><div class='xr-var-attrs'><dl class='xr-attrs'><dt><span>units :</span></dt><dd>m**2 s**-2</dd><dt><span>long_name :</span></dt><dd>Geopotential</dd><dt><span>standard_name :</span></dt><dd>geopotential</dd></dl></div><div class='xr-var-data'><pre>[62736312 values with dtype=float32]</pre></div></li><li class='xr-var-item'><div class='xr-var-name'><span>u</span></div><div class='xr-var-dims'>(time, level, latitude, longitude)</div><div class='xr-var-dtype'>float32</div><div class='xr-var-preview xr-preview'>...</div><input id='attrs-aa9c3530-2470-4ad2-af6e-395d2819ca66' class='xr-var-attrs-in' type='checkbox' ><label for='attrs-aa9c3530-2470-4ad2-af6e-395d2819ca66' title='Show/Hide attributes'><svg class='icon xr-icon-file-text2'><use xlink:href='#icon-file-text2'></use></svg></label><input id='data-77e452ff-9b4e-4b47-9a52-dd786d403a27' class='xr-var-data-in' type='checkbox'><label for='data-77e452ff-9b4e-4b47-9a52-dd786d403a27' title='Show/Hide data repr'><svg class='icon xr-icon-database'><use xlink:href='#icon-database'></use></svg></label><div class='xr-var-attrs'><dl class='xr-attrs'><dt><span>units :</span></dt><dd>m s**-1</dd><dt><span>long_name :</span></dt><dd>U component of wind</dd><dt><span>standard_name :</span></dt><dd>eastward_wind</dd></dl></div><div class='xr-var-data'><pre>[62736312 values with dtype=float32]</pre></div></li><li class='xr-var-item'><div class='xr-var-name'><span>v</span></div><div class='xr-var-dims'>(time, level, latitude, longitude)</div><div class='xr-var-dtype'>float32</div><div class='xr-var-preview xr-preview'>...</div><input id='attrs-2877ca4b-1645-4d79-a32c-b8d8bdc8bf9a' class='xr-var-attrs-in' type='checkbox' ><label for='attrs-2877ca4b-1645-4d79-a32c-b8d8bdc8bf9a' title='Show/Hide attributes'><svg class='icon xr-icon-file-text2'><use xlink:href='#icon-file-text2'></use></svg></label><input id='data-da40ab1d-3abb-4c7f-92c9-5e2546ec4331' class='xr-var-data-in' type='checkbox'><label for='data-da40ab1d-3abb-4c7f-92c9-5e2546ec4331' title='Show/Hide data repr'><svg class='icon xr-icon-database'><use xlink:href='#icon-database'></use></svg></label><div class='xr-var-attrs'><dl class='xr-attrs'><dt><span>units :</span></dt><dd>m s**-1</dd><dt><span>long_name :</span></dt><dd>V component of wind</dd><dt><span>standard_name :</span></dt><dd>northward_wind</dd></dl></div><div class='xr-var-data'><pre>[62736312 values with dtype=float32]</pre></div></li></ul></div></li><li class='xr-section-item'><input id='section-1048789a-d17c-4f4e-9a53-50fc37726d6b' class='xr-section-summary-in' type='checkbox'  checked><label for='section-1048789a-d17c-4f4e-9a53-50fc37726d6b' class='xr-section-summary' >Attributes: <span>(2)</span></label><div class='xr-section-inline-details'></div><div class='xr-section-details'><dl class='xr-attrs'><dt><span>Conventions :</span></dt><dd>CF-1.6</dd><dt><span>history :</span></dt><dd>2022-06-22 12:06:07 GMT by grib_to_netcdf-2.24.3: /opt/ecmwf/mars-client/bin/grib_to_netcdf -S param -o /cache/data1/adaptor.mars.internal-1655899408.0752895-17633-20-091d1e31-ec26-4545-850c-8a330be7c27e.nc /cache/tmp/091d1e31-ec26-4545-850c-8a330be7c27e-adaptor.mars.internal-1655892986.351216-17633-1-tmp.grib</dd></dl></div></li></ul></div></div>"
      ],
      "text/plain": [
       "<xarray.Dataset>\n",
       "Dimensions:    (latitude: 43, level: 37, longitude: 53, time: 744)\n",
       "Coordinates:\n",
       "  * longitude  (longitude) float32 127.0 127.2 127.5 127.8 ... 139.5 139.8 140.0\n",
       "  * latitude   (latitude) float32 -7.5 -7.75 -8.0 -8.25 ... -17.5 -17.75 -18.0\n",
       "  * level      (level) int32 1 2 3 5 7 10 20 30 ... 850 875 900 925 950 975 1000\n",
       "  * time       (time) datetime64[ns] 2022-05-01 ... 2022-05-31T23:00:00\n",
       "Data variables:\n",
       "    z          (time, level, latitude, longitude) float32 ...\n",
       "    u          (time, level, latitude, longitude) float32 ...\n",
       "    v          (time, level, latitude, longitude) float32 ...\n",
       "Attributes:\n",
       "    Conventions:  CF-1.6\n",
       "    history:      2022-06-22 12:06:07 GMT by grib_to_netcdf-2.24.3: /opt/ecmw..."
      ]
     },
     "execution_count": 59,
     "metadata": {},
     "output_type": "execute_result"
    }
   ],
   "source": [
    "era5_all"
   ]
  },
  {
   "cell_type": "code",
   "execution_count": 62,
   "id": "ee1e365d",
   "metadata": {
    "ExecuteTime": {
     "end_time": "2022-06-23T00:12:06.946956Z",
     "start_time": "2022-06-23T00:12:06.165940Z"
    }
   },
   "outputs": [],
   "source": [
    "era5_all.z.to_netcdf('/home/student.unimelb.edu.au/shorte1/Documents/era5_stuff/z_era5_oper_pl_20220501-20220531.nc')"
   ]
  },
  {
   "cell_type": "code",
   "execution_count": 40,
   "id": "037e6a2a",
   "metadata": {
    "ExecuteTime": {
     "end_time": "2022-06-22T03:32:07.853631Z",
     "start_time": "2022-06-22T03:32:07.476539Z"
    }
   },
   "outputs": [],
   "source": [
    "sample = xr.open_dataset('/media/shorte1/Ewan\\'s Hard Drive/phd/data/era5/pressure-levels/reanalysis/u/2005/u_era5_oper_pl_20051201-20051231.nc')"
   ]
  },
  {
   "cell_type": "code",
   "execution_count": 43,
   "id": "cfbd273a",
   "metadata": {
    "ExecuteTime": {
     "end_time": "2022-06-22T04:10:08.252677Z",
     "start_time": "2022-06-22T04:10:08.227511Z"
    }
   },
   "outputs": [
    {
     "data": {
      "text/html": [
       "<div><svg style=\"position: absolute; width: 0; height: 0; overflow: hidden\">\n",
       "<defs>\n",
       "<symbol id=\"icon-database\" viewBox=\"0 0 32 32\">\n",
       "<path d=\"M16 0c-8.837 0-16 2.239-16 5v4c0 2.761 7.163 5 16 5s16-2.239 16-5v-4c0-2.761-7.163-5-16-5z\"></path>\n",
       "<path d=\"M16 17c-8.837 0-16-2.239-16-5v6c0 2.761 7.163 5 16 5s16-2.239 16-5v-6c0 2.761-7.163 5-16 5z\"></path>\n",
       "<path d=\"M16 26c-8.837 0-16-2.239-16-5v6c0 2.761 7.163 5 16 5s16-2.239 16-5v-6c0 2.761-7.163 5-16 5z\"></path>\n",
       "</symbol>\n",
       "<symbol id=\"icon-file-text2\" viewBox=\"0 0 32 32\">\n",
       "<path d=\"M28.681 7.159c-0.694-0.947-1.662-2.053-2.724-3.116s-2.169-2.030-3.116-2.724c-1.612-1.182-2.393-1.319-2.841-1.319h-15.5c-1.378 0-2.5 1.121-2.5 2.5v27c0 1.378 1.122 2.5 2.5 2.5h23c1.378 0 2.5-1.122 2.5-2.5v-19.5c0-0.448-0.137-1.23-1.319-2.841zM24.543 5.457c0.959 0.959 1.712 1.825 2.268 2.543h-4.811v-4.811c0.718 0.556 1.584 1.309 2.543 2.268zM28 29.5c0 0.271-0.229 0.5-0.5 0.5h-23c-0.271 0-0.5-0.229-0.5-0.5v-27c0-0.271 0.229-0.5 0.5-0.5 0 0 15.499-0 15.5 0v7c0 0.552 0.448 1 1 1h7v19.5z\"></path>\n",
       "<path d=\"M23 26h-14c-0.552 0-1-0.448-1-1s0.448-1 1-1h14c0.552 0 1 0.448 1 1s-0.448 1-1 1z\"></path>\n",
       "<path d=\"M23 22h-14c-0.552 0-1-0.448-1-1s0.448-1 1-1h14c0.552 0 1 0.448 1 1s-0.448 1-1 1z\"></path>\n",
       "<path d=\"M23 18h-14c-0.552 0-1-0.448-1-1s0.448-1 1-1h14c0.552 0 1 0.448 1 1s-0.448 1-1 1z\"></path>\n",
       "</symbol>\n",
       "</defs>\n",
       "</svg>\n",
       "<style>/* CSS stylesheet for displaying xarray objects in jupyterlab.\n",
       " *\n",
       " */\n",
       "\n",
       ":root {\n",
       "  --xr-font-color0: var(--jp-content-font-color0, rgba(0, 0, 0, 1));\n",
       "  --xr-font-color2: var(--jp-content-font-color2, rgba(0, 0, 0, 0.54));\n",
       "  --xr-font-color3: var(--jp-content-font-color3, rgba(0, 0, 0, 0.38));\n",
       "  --xr-border-color: var(--jp-border-color2, #e0e0e0);\n",
       "  --xr-disabled-color: var(--jp-layout-color3, #bdbdbd);\n",
       "  --xr-background-color: var(--jp-layout-color0, white);\n",
       "  --xr-background-color-row-even: var(--jp-layout-color1, white);\n",
       "  --xr-background-color-row-odd: var(--jp-layout-color2, #eeeeee);\n",
       "}\n",
       "\n",
       "html[theme=dark],\n",
       "body.vscode-dark {\n",
       "  --xr-font-color0: rgba(255, 255, 255, 1);\n",
       "  --xr-font-color2: rgba(255, 255, 255, 0.54);\n",
       "  --xr-font-color3: rgba(255, 255, 255, 0.38);\n",
       "  --xr-border-color: #1F1F1F;\n",
       "  --xr-disabled-color: #515151;\n",
       "  --xr-background-color: #111111;\n",
       "  --xr-background-color-row-even: #111111;\n",
       "  --xr-background-color-row-odd: #313131;\n",
       "}\n",
       "\n",
       ".xr-wrap {\n",
       "  display: block;\n",
       "  min-width: 300px;\n",
       "  max-width: 700px;\n",
       "}\n",
       "\n",
       ".xr-text-repr-fallback {\n",
       "  /* fallback to plain text repr when CSS is not injected (untrusted notebook) */\n",
       "  display: none;\n",
       "}\n",
       "\n",
       ".xr-header {\n",
       "  padding-top: 6px;\n",
       "  padding-bottom: 6px;\n",
       "  margin-bottom: 4px;\n",
       "  border-bottom: solid 1px var(--xr-border-color);\n",
       "}\n",
       "\n",
       ".xr-header > div,\n",
       ".xr-header > ul {\n",
       "  display: inline;\n",
       "  margin-top: 0;\n",
       "  margin-bottom: 0;\n",
       "}\n",
       "\n",
       ".xr-obj-type,\n",
       ".xr-array-name {\n",
       "  margin-left: 2px;\n",
       "  margin-right: 10px;\n",
       "}\n",
       "\n",
       ".xr-obj-type {\n",
       "  color: var(--xr-font-color2);\n",
       "}\n",
       "\n",
       ".xr-sections {\n",
       "  padding-left: 0 !important;\n",
       "  display: grid;\n",
       "  grid-template-columns: 150px auto auto 1fr 20px 20px;\n",
       "}\n",
       "\n",
       ".xr-section-item {\n",
       "  display: contents;\n",
       "}\n",
       "\n",
       ".xr-section-item input {\n",
       "  display: none;\n",
       "}\n",
       "\n",
       ".xr-section-item input + label {\n",
       "  color: var(--xr-disabled-color);\n",
       "}\n",
       "\n",
       ".xr-section-item input:enabled + label {\n",
       "  cursor: pointer;\n",
       "  color: var(--xr-font-color2);\n",
       "}\n",
       "\n",
       ".xr-section-item input:enabled + label:hover {\n",
       "  color: var(--xr-font-color0);\n",
       "}\n",
       "\n",
       ".xr-section-summary {\n",
       "  grid-column: 1;\n",
       "  color: var(--xr-font-color2);\n",
       "  font-weight: 500;\n",
       "}\n",
       "\n",
       ".xr-section-summary > span {\n",
       "  display: inline-block;\n",
       "  padding-left: 0.5em;\n",
       "}\n",
       "\n",
       ".xr-section-summary-in:disabled + label {\n",
       "  color: var(--xr-font-color2);\n",
       "}\n",
       "\n",
       ".xr-section-summary-in + label:before {\n",
       "  display: inline-block;\n",
       "  content: '►';\n",
       "  font-size: 11px;\n",
       "  width: 15px;\n",
       "  text-align: center;\n",
       "}\n",
       "\n",
       ".xr-section-summary-in:disabled + label:before {\n",
       "  color: var(--xr-disabled-color);\n",
       "}\n",
       "\n",
       ".xr-section-summary-in:checked + label:before {\n",
       "  content: '▼';\n",
       "}\n",
       "\n",
       ".xr-section-summary-in:checked + label > span {\n",
       "  display: none;\n",
       "}\n",
       "\n",
       ".xr-section-summary,\n",
       ".xr-section-inline-details {\n",
       "  padding-top: 4px;\n",
       "  padding-bottom: 4px;\n",
       "}\n",
       "\n",
       ".xr-section-inline-details {\n",
       "  grid-column: 2 / -1;\n",
       "}\n",
       "\n",
       ".xr-section-details {\n",
       "  display: none;\n",
       "  grid-column: 1 / -1;\n",
       "  margin-bottom: 5px;\n",
       "}\n",
       "\n",
       ".xr-section-summary-in:checked ~ .xr-section-details {\n",
       "  display: contents;\n",
       "}\n",
       "\n",
       ".xr-array-wrap {\n",
       "  grid-column: 1 / -1;\n",
       "  display: grid;\n",
       "  grid-template-columns: 20px auto;\n",
       "}\n",
       "\n",
       ".xr-array-wrap > label {\n",
       "  grid-column: 1;\n",
       "  vertical-align: top;\n",
       "}\n",
       "\n",
       ".xr-preview {\n",
       "  color: var(--xr-font-color3);\n",
       "}\n",
       "\n",
       ".xr-array-preview,\n",
       ".xr-array-data {\n",
       "  padding: 0 5px !important;\n",
       "  grid-column: 2;\n",
       "}\n",
       "\n",
       ".xr-array-data,\n",
       ".xr-array-in:checked ~ .xr-array-preview {\n",
       "  display: none;\n",
       "}\n",
       "\n",
       ".xr-array-in:checked ~ .xr-array-data,\n",
       ".xr-array-preview {\n",
       "  display: inline-block;\n",
       "}\n",
       "\n",
       ".xr-dim-list {\n",
       "  display: inline-block !important;\n",
       "  list-style: none;\n",
       "  padding: 0 !important;\n",
       "  margin: 0;\n",
       "}\n",
       "\n",
       ".xr-dim-list li {\n",
       "  display: inline-block;\n",
       "  padding: 0;\n",
       "  margin: 0;\n",
       "}\n",
       "\n",
       ".xr-dim-list:before {\n",
       "  content: '(';\n",
       "}\n",
       "\n",
       ".xr-dim-list:after {\n",
       "  content: ')';\n",
       "}\n",
       "\n",
       ".xr-dim-list li:not(:last-child):after {\n",
       "  content: ',';\n",
       "  padding-right: 5px;\n",
       "}\n",
       "\n",
       ".xr-has-index {\n",
       "  font-weight: bold;\n",
       "}\n",
       "\n",
       ".xr-var-list,\n",
       ".xr-var-item {\n",
       "  display: contents;\n",
       "}\n",
       "\n",
       ".xr-var-item > div,\n",
       ".xr-var-item label,\n",
       ".xr-var-item > .xr-var-name span {\n",
       "  background-color: var(--xr-background-color-row-even);\n",
       "  margin-bottom: 0;\n",
       "}\n",
       "\n",
       ".xr-var-item > .xr-var-name:hover span {\n",
       "  padding-right: 5px;\n",
       "}\n",
       "\n",
       ".xr-var-list > li:nth-child(odd) > div,\n",
       ".xr-var-list > li:nth-child(odd) > label,\n",
       ".xr-var-list > li:nth-child(odd) > .xr-var-name span {\n",
       "  background-color: var(--xr-background-color-row-odd);\n",
       "}\n",
       "\n",
       ".xr-var-name {\n",
       "  grid-column: 1;\n",
       "}\n",
       "\n",
       ".xr-var-dims {\n",
       "  grid-column: 2;\n",
       "}\n",
       "\n",
       ".xr-var-dtype {\n",
       "  grid-column: 3;\n",
       "  text-align: right;\n",
       "  color: var(--xr-font-color2);\n",
       "}\n",
       "\n",
       ".xr-var-preview {\n",
       "  grid-column: 4;\n",
       "}\n",
       "\n",
       ".xr-var-name,\n",
       ".xr-var-dims,\n",
       ".xr-var-dtype,\n",
       ".xr-preview,\n",
       ".xr-attrs dt {\n",
       "  white-space: nowrap;\n",
       "  overflow: hidden;\n",
       "  text-overflow: ellipsis;\n",
       "  padding-right: 10px;\n",
       "}\n",
       "\n",
       ".xr-var-name:hover,\n",
       ".xr-var-dims:hover,\n",
       ".xr-var-dtype:hover,\n",
       ".xr-attrs dt:hover {\n",
       "  overflow: visible;\n",
       "  width: auto;\n",
       "  z-index: 1;\n",
       "}\n",
       "\n",
       ".xr-var-attrs,\n",
       ".xr-var-data {\n",
       "  display: none;\n",
       "  background-color: var(--xr-background-color) !important;\n",
       "  padding-bottom: 5px !important;\n",
       "}\n",
       "\n",
       ".xr-var-attrs-in:checked ~ .xr-var-attrs,\n",
       ".xr-var-data-in:checked ~ .xr-var-data {\n",
       "  display: block;\n",
       "}\n",
       "\n",
       ".xr-var-data > table {\n",
       "  float: right;\n",
       "}\n",
       "\n",
       ".xr-var-name span,\n",
       ".xr-var-data,\n",
       ".xr-attrs {\n",
       "  padding-left: 25px !important;\n",
       "}\n",
       "\n",
       ".xr-attrs,\n",
       ".xr-var-attrs,\n",
       ".xr-var-data {\n",
       "  grid-column: 1 / -1;\n",
       "}\n",
       "\n",
       "dl.xr-attrs {\n",
       "  padding: 0;\n",
       "  margin: 0;\n",
       "  display: grid;\n",
       "  grid-template-columns: 125px auto;\n",
       "}\n",
       "\n",
       ".xr-attrs dt,\n",
       ".xr-attrs dd {\n",
       "  padding: 0;\n",
       "  margin: 0;\n",
       "  float: left;\n",
       "  padding-right: 10px;\n",
       "  width: auto;\n",
       "}\n",
       "\n",
       ".xr-attrs dt {\n",
       "  font-weight: normal;\n",
       "  grid-column: 1;\n",
       "}\n",
       "\n",
       ".xr-attrs dt:hover span {\n",
       "  display: inline-block;\n",
       "  background: var(--xr-background-color);\n",
       "  padding-right: 10px;\n",
       "}\n",
       "\n",
       ".xr-attrs dd {\n",
       "  grid-column: 2;\n",
       "  white-space: pre-wrap;\n",
       "  word-break: break-all;\n",
       "}\n",
       "\n",
       ".xr-icon-database,\n",
       ".xr-icon-file-text2 {\n",
       "  display: inline-block;\n",
       "  vertical-align: middle;\n",
       "  width: 1em;\n",
       "  height: 1.5em !important;\n",
       "  stroke-width: 0;\n",
       "  stroke: currentColor;\n",
       "  fill: currentColor;\n",
       "}\n",
       "</style><pre class='xr-text-repr-fallback'>&lt;xarray.DataArray &#x27;latitude&#x27; (latitude: 25)&gt;\n",
       "array([ -9.  ,  -9.25,  -9.5 ,  -9.75, -10.  , -10.25, -10.5 , -10.75, -11.  ,\n",
       "       -11.25, -11.5 , -11.75, -12.  , -12.25, -12.5 , -12.75, -13.  , -13.25,\n",
       "       -13.5 , -13.75, -14.  , -14.25, -14.5 , -14.75, -15.  ], dtype=float32)\n",
       "Coordinates:\n",
       "  * latitude  (latitude) float32 -9.0 -9.25 -9.5 -9.75 ... -14.5 -14.75 -15.0\n",
       "Attributes:\n",
       "    units:      degrees_north\n",
       "    long_name:  latitude</pre><div class='xr-wrap' hidden><div class='xr-header'><div class='xr-obj-type'>xarray.DataArray</div><div class='xr-array-name'>'latitude'</div><ul class='xr-dim-list'><li><span class='xr-has-index'>latitude</span>: 25</li></ul></div><ul class='xr-sections'><li class='xr-section-item'><div class='xr-array-wrap'><input id='section-83de33a8-1707-4957-9526-1646c8153413' class='xr-array-in' type='checkbox' checked><label for='section-83de33a8-1707-4957-9526-1646c8153413' title='Show/hide data repr'><svg class='icon xr-icon-database'><use xlink:href='#icon-database'></use></svg></label><div class='xr-array-preview xr-preview'><span>-9.0 -9.25 -9.5 -9.75 -10.0 -10.25 ... -14.0 -14.25 -14.5 -14.75 -15.0</span></div><div class='xr-array-data'><pre>array([ -9.  ,  -9.25,  -9.5 ,  -9.75, -10.  , -10.25, -10.5 , -10.75, -11.  ,\n",
       "       -11.25, -11.5 , -11.75, -12.  , -12.25, -12.5 , -12.75, -13.  , -13.25,\n",
       "       -13.5 , -13.75, -14.  , -14.25, -14.5 , -14.75, -15.  ], dtype=float32)</pre></div></div></li><li class='xr-section-item'><input id='section-0ea2b6c6-556c-4858-bc2c-65a8d28b05b7' class='xr-section-summary-in' type='checkbox'  checked><label for='section-0ea2b6c6-556c-4858-bc2c-65a8d28b05b7' class='xr-section-summary' >Coordinates: <span>(1)</span></label><div class='xr-section-inline-details'></div><div class='xr-section-details'><ul class='xr-var-list'><li class='xr-var-item'><div class='xr-var-name'><span class='xr-has-index'>latitude</span></div><div class='xr-var-dims'>(latitude)</div><div class='xr-var-dtype'>float32</div><div class='xr-var-preview xr-preview'>-9.0 -9.25 -9.5 ... -14.75 -15.0</div><input id='attrs-40ad961e-00b2-4996-b28b-f42797c1295f' class='xr-var-attrs-in' type='checkbox' ><label for='attrs-40ad961e-00b2-4996-b28b-f42797c1295f' title='Show/Hide attributes'><svg class='icon xr-icon-file-text2'><use xlink:href='#icon-file-text2'></use></svg></label><input id='data-33410295-56fe-4b75-a7b8-255743bc87d3' class='xr-var-data-in' type='checkbox'><label for='data-33410295-56fe-4b75-a7b8-255743bc87d3' title='Show/Hide data repr'><svg class='icon xr-icon-database'><use xlink:href='#icon-database'></use></svg></label><div class='xr-var-attrs'><dl class='xr-attrs'><dt><span>units :</span></dt><dd>degrees_north</dd><dt><span>long_name :</span></dt><dd>latitude</dd></dl></div><div class='xr-var-data'><pre>array([ -9.  ,  -9.25,  -9.5 ,  -9.75, -10.  , -10.25, -10.5 , -10.75, -11.  ,\n",
       "       -11.25, -11.5 , -11.75, -12.  , -12.25, -12.5 , -12.75, -13.  , -13.25,\n",
       "       -13.5 , -13.75, -14.  , -14.25, -14.5 , -14.75, -15.  ], dtype=float32)</pre></div></li></ul></div></li><li class='xr-section-item'><input id='section-4c88f7bb-fdda-4123-bccb-0a7894f2664b' class='xr-section-summary-in' type='checkbox'  checked><label for='section-4c88f7bb-fdda-4123-bccb-0a7894f2664b' class='xr-section-summary' >Attributes: <span>(2)</span></label><div class='xr-section-inline-details'></div><div class='xr-section-details'><dl class='xr-attrs'><dt><span>units :</span></dt><dd>degrees_north</dd><dt><span>long_name :</span></dt><dd>latitude</dd></dl></div></li></ul></div></div>"
      ],
      "text/plain": [
       "<xarray.DataArray 'latitude' (latitude: 25)>\n",
       "array([ -9.  ,  -9.25,  -9.5 ,  -9.75, -10.  , -10.25, -10.5 , -10.75, -11.  ,\n",
       "       -11.25, -11.5 , -11.75, -12.  , -12.25, -12.5 , -12.75, -13.  , -13.25,\n",
       "       -13.5 , -13.75, -14.  , -14.25, -14.5 , -14.75, -15.  ], dtype=float32)\n",
       "Coordinates:\n",
       "  * latitude  (latitude) float32 -9.0 -9.25 -9.5 -9.75 ... -14.5 -14.75 -15.0\n",
       "Attributes:\n",
       "    units:      degrees_north\n",
       "    long_name:  latitude"
      ]
     },
     "execution_count": 43,
     "metadata": {},
     "output_type": "execute_result"
    }
   ],
   "source": [
    "longitude = sample.longitude\n",
    "latitude = sample.latitude\n",
    "latitude"
   ]
  },
  {
   "cell_type": "code",
   "execution_count": 60,
   "id": "2522d7af",
   "metadata": {
    "ExecuteTime": {
     "end_time": "2022-06-22T06:40:04.997669Z",
     "start_time": "2022-06-22T06:40:04.980529Z"
    }
   },
   "outputs": [],
   "source": [
    "test = sample.sel(latitude=-12.4247, longitude=130.8919, method='nearest').sel(\n",
    "    level=slice(700, 1000))"
   ]
  }
 ],
 "metadata": {
  "kernelspec": {
   "display_name": "Python 3 (ipykernel)",
   "language": "python",
   "name": "python3"
  },
  "language_info": {
   "codemirror_mode": {
    "name": "ipython",
    "version": 3
   },
   "file_extension": ".py",
   "mimetype": "text/x-python",
   "name": "python",
   "nbconvert_exporter": "python",
   "pygments_lexer": "ipython3",
   "version": "3.8.10"
  },
  "toc": {
   "base_numbering": 1,
   "nav_menu": {},
   "number_sections": true,
   "sideBar": true,
   "skip_h1_title": false,
   "title_cell": "Table of Contents",
   "title_sidebar": "Contents",
   "toc_cell": false,
   "toc_position": {},
   "toc_section_display": true,
   "toc_window_display": false
  }
 },
 "nbformat": 4,
 "nbformat_minor": 5
}
