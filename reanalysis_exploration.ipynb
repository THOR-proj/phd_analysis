{
 "cells": [
  {
   "cell_type": "code",
   "execution_count": 7,
   "metadata": {
    "ExecuteTime": {
     "end_time": "2019-09-06T05:55:30.366003Z",
     "start_time": "2019-09-06T05:55:30.359755Z"
    }
   },
   "outputs": [],
   "source": [
    "import numpy as np\n",
    "import xarray as xr\n",
    "import matplotlib.pyplot as plt"
   ]
  },
  {
   "cell_type": "code",
   "execution_count": 9,
   "metadata": {
    "ExecuteTime": {
     "end_time": "2019-09-06T05:56:13.457779Z",
     "start_time": "2019-09-06T05:56:13.379820Z"
    }
   },
   "outputs": [
    {
     "data": {
      "text/plain": [
       "<xarray.Dataset>\n",
       "Dimensions:       (lev: 40, time: 19674)\n",
       "Coordinates:\n",
       "  * lev           (lev) float32 1015.0 990.0 965.0 940.0 ... 90.0 65.0 40.0\n",
       "  * time          (time) datetime64[ns] 2001-10-26T06:00:00 ... 2015-04-14T12:00:00\n",
       "Data variables:\n",
       "    T             (time, lev) float32 ...\n",
       "    r             (time, lev) float32 ...\n",
       "    u             (time, lev) float32 ...\n",
       "    v             (time, lev) float32 ...\n",
       "    omega         (time, lev) float32 ...\n",
       "    div           (time, lev) float32 ...\n",
       "    T_adv_h       (time, lev) float32 ...\n",
       "    T_adv_v       (time, lev) float32 ...\n",
       "    r_adv_h       (time, lev) float32 ...\n",
       "    r_adv_v       (time, lev) float32 ...\n",
       "    s             (time, lev) float32 ...\n",
       "    s_adv_h       (time, lev) float32 ...\n",
       "    s_adv_v       (time, lev) float32 ...\n",
       "    dsdt          (time, lev) float32 ...\n",
       "    dTdt          (time, lev) float32 ...\n",
       "    drdt          (time, lev) float32 ...\n",
       "    q1            (time, lev) float32 ...\n",
       "    q2            (time, lev) float32 ...\n",
       "    cld           (time, lev) float32 ...\n",
       "    prec_srf      (time) float32 ...\n",
       "    LH            (time) float32 ...\n",
       "    SH            (time) float32 ...\n",
       "    p_srf_aver    (time) float32 ...\n",
       "    p_srf_center  (time) float32 ...\n",
       "    T_srf         (time) float32 ...\n",
       "    T_skin        (time) float32 ...\n",
       "    RH_srf        (time) float32 ...\n",
       "    wspd_srf      (time) float32 ...\n",
       "    u_srf         (time) float32 ...\n",
       "    v_srf         (time) float32 ...\n",
       "    rad_net_srf   (time) float32 ...\n",
       "    lw_net_toa    (time) float32 ...\n",
       "    sw_net_toa    (time) float32 ...\n",
       "    sw_dn_toa     (time) float32 ...\n",
       "    cld_low       (time) float32 ...\n",
       "    cld_mid       (time) float32 ...\n",
       "    cld_high      (time) float32 ...\n",
       "    cld_tot       (time) float32 ...\n",
       "    cld_thick     (time) float32 ...\n",
       "    cld_top       (time) float32 ...\n",
       "    LWP           (time) float32 ...\n",
       "    dh2odt_col    (time) float32 ...\n",
       "    h2o_adv_col   (time) float32 ...\n",
       "    evap_srf      (time) float32 ...\n",
       "    dsdt_col      (time) float32 ...\n",
       "    s_adv_col     (time) float32 ...\n",
       "    rad_heat_col  (time) float32 ...\n",
       "    LH_col        (time) float32 ...\n",
       "    omega_srf     (time) float32 ...\n",
       "    r_srf         (time) float32 ...\n",
       "    s_srf         (time) float32 ...\n",
       "    PW            (time) float32 ...\n",
       "    lw_up_srf     (time) float32 ...\n",
       "    lw_dn_srf     (time) float32 ...\n",
       "    sw_up_srf     (time) float32 ...\n",
       "    sw_dn_srf     (time) float32 ..."
      ]
     },
     "execution_count": 9,
     "metadata": {},
     "output_type": "execute_result"
    }
   ],
   "source": [
    "va = xr.open_dataset('/g/data/ua8/Martin/va_analysis/syn599/CPOL_large-scale_forcing.nc')"
   ]
  },
  {
   "cell_type": "code",
   "execution_count": 64,
   "metadata": {
    "ExecuteTime": {
     "end_time": "2019-09-06T07:00:16.684755Z",
     "start_time": "2019-09-06T07:00:16.415677Z"
    }
   },
   "outputs": [
    {
     "data": {
      "image/png": "[encoded data removed]",
      "text/plain": [
       "<Figure size 432x288 with 1 Axes>"
      ]
     },
     "metadata": {
      "needs_background": "light"
     },
     "output_type": "display_data"
    }
   ],
   "source": [
    "date = '2003-01-10T06:00'\n",
    "\n",
    "va.u.sel(time=date).plot(y='lev', yincrease=False, label='u')\n",
    "va.v.sel(time=date).plot(y='lev', yincrease=False, label='v')\n",
    "plt.legend()\n",
    "plt.show()"
   ]
  },
  {
   "cell_type": "code",
   "execution_count": 57,
   "metadata": {
    "ExecuteTime": {
     "end_time": "2019-09-06T06:39:51.404167Z",
     "start_time": "2019-09-06T06:39:51.042958Z"
    }
   },
   "outputs": [
    {
     "data": {
      "text/plain": [
       "<xarray.DataArray 'u' (time: 44)>\n",
       "array([10.085335, 10.705832, 11.551658, 11.370072, 10.678268, 10.740091,\n",
       "       11.8737  , 12.017148, 11.625754, 11.382937, 11.339148, 10.777052,\n",
       "       10.169214, 10.050641, 10.461676, 10.967996, 10.813021, 11.234301,\n",
       "       12.048743, 12.235889, 11.88377 , 11.583679, 11.449782, 11.241889,\n",
       "       11.214697, 11.910422, 12.598649, 12.606688, 11.981282, 11.414621,\n",
       "       11.516279, 11.79564 , 11.6015  , 11.277607, 11.291434, 11.39519 ,\n",
       "       10.83504 , 10.268467, 10.327168, 10.07219 , 10.739634, 10.683187,\n",
       "       10.445496, 10.071856], dtype=float32)\n",
       "Coordinates:\n",
       "    lev      float32 1015.0\n",
       "  * time     (time) datetime64[ns] 2002-02-10T12:00:00 ... 2012-01-25T18:00:00\n",
       "Attributes:\n",
       "    long_name:  Horizontal wind U component\n",
       "    units:      m/s"
      ]
     },
     "execution_count": 57,
     "metadata": {},
     "output_type": "execute_result"
    }
   ],
   "source": [
    "va.u.sel(lev=1015).where(va.u.sel(lev=1015)>10, drop=True)"
   ]
  },
  {
   "cell_type": "code",
   "execution_count": null,
   "metadata": {},
   "outputs": [],
   "source": []
  }
 ],
 "metadata": {
  "kernelspec": {
   "display_name": "Python [conda env:analysis3-19.07] *",
   "language": "python",
   "name": "conda-env-analysis3-19.07-py"
  },
  "language_info": {
   "codemirror_mode": {
    "name": "ipython",
    "version": 3
   },
   "file_extension": ".py",
   "mimetype": "text/x-python",
   "name": "python",
   "nbconvert_exporter": "python",
   "pygments_lexer": "ipython3",
   "version": "3.6.7"
  },
  "toc": {
   "base_numbering": 1,
   "nav_menu": {},
   "number_sections": true,
   "sideBar": true,
   "skip_h1_title": false,
   "title_cell": "Table of Contents",
   "title_sidebar": "Contents",
   "toc_cell": false,
   "toc_position": {},
   "toc_section_display": true,
   "toc_window_display": false
  }
 },
 "nbformat": 4,
 "nbformat_minor": 2
}
