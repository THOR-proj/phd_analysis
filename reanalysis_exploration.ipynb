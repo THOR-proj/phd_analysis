{
 "cells": [
  {
   "cell_type": "code",
   "execution_count": 2,
   "metadata": {
    "ExecuteTime": {
     "end_time": "2019-09-09T00:58:43.193178Z",
     "start_time": "2019-09-09T00:58:38.130128Z"
    }
   },
   "outputs": [],
   "source": [
    "import numpy as np\n",
    "import xarray as xr\n",
    "import matplotlib.pyplot as plt"
   ]
  },
  {
   "cell_type": "code",
   "execution_count": 166,
   "metadata": {
    "ExecuteTime": {
     "end_time": "2019-09-09T07:20:39.505128Z",
     "start_time": "2019-09-09T07:20:39.455802Z"
    }
   },
   "outputs": [],
   "source": [
    "va = xr.open_dataset('/g/data/ua8/Martin/va_analysis/syn599/CPOL_large-scale_forcing.nc')"
   ]
  },
  {
   "cell_type": "code",
   "execution_count": 176,
   "metadata": {
    "ExecuteTime": {
     "end_time": "2019-09-09T07:21:58.319838Z",
     "start_time": "2019-09-09T07:21:58.084476Z"
    }
   },
   "outputs": [
    {
     "data": {
      "image/png": "[encoded data removed]",
      "text/plain": [
       "<Figure size 432x288 with 1 Axes>"
      ]
     },
     "metadata": {
      "needs_background": "light"
     },
     "output_type": "display_data"
    }
   ],
   "source": [
    "date = '2003-01-01T00:00'\n",
    "\n",
    "va.u.sel(time=date).plot(y='lev', yincrease=False, label='u')\n",
    "va.v.sel(time=date).plot(y='lev', yincrease=False, label='v')\n",
    "va.omega.sel(time=date).plot(y='lev', yincrease=False, label='omega')\n",
    "plt.legend()\n",
    "plt.show()"
   ]
  },
  {
   "cell_type": "code",
   "execution_count": 18,
   "metadata": {
    "ExecuteTime": {
     "end_time": "2019-09-09T01:02:16.803968Z",
     "start_time": "2019-09-09T01:02:16.331269Z"
    }
   },
   "outputs": [
    {
     "data": {
      "text/plain": [
       "<xarray.DataArray 'u' (time: 44)>\n",
       "array([10.085335, 10.705832, 11.551658, 11.370072, 10.678268, 10.740091,\n",
       "       11.8737  , 12.017148, 11.625754, 11.382937, 11.339148, 10.777052,\n",
       "       10.169214, 10.050641, 10.461676, 10.967996, 10.813021, 11.234301,\n",
       "       12.048743, 12.235889, 11.88377 , 11.583679, 11.449782, 11.241889,\n",
       "       11.214697, 11.910422, 12.598649, 12.606688, 11.981282, 11.414621,\n",
       "       11.516279, 11.79564 , 11.6015  , 11.277607, 11.291434, 11.39519 ,\n",
       "       10.83504 , 10.268467, 10.327168, 10.07219 , 10.739634, 10.683187,\n",
       "       10.445496, 10.071856], dtype=float32)\n",
       "Coordinates:\n",
       "    lev      float32 1015.0\n",
       "  * time     (time) datetime64[ns] 2002-02-10T12:00:00 ... 2012-01-25T18:00:00\n",
       "Attributes:\n",
       "    long_name:  Horizontal wind U component\n",
       "    units:      m/s"
      ]
     },
     "execution_count": 18,
     "metadata": {},
     "output_type": "execute_result"
    }
   ],
   "source": [
    "va.u.sel(lev=1015).where(va.u.sel(lev=1015)>10, drop=True)"
   ]
  },
  {
   "cell_type": "code",
   "execution_count": 20,
   "metadata": {
    "ExecuteTime": {
     "end_time": "2019-09-09T01:04:52.840175Z",
     "start_time": "2019-09-09T01:04:52.801131Z"
    }
   },
   "outputs": [
    {
     "data": {
      "text/plain": [
       "<xarray.Dataset>\n",
       "Dimensions:       (lev: 40, time: 19674)\n",
       "Coordinates:\n",
       "  * lev           (lev) float32 1015.0 990.0 965.0 940.0 ... 90.0 65.0 40.0\n",
       "  * time          (time) datetime64[ns] 2001-10-26T06:00:00 ... 2015-04-14T12:00:00\n",
       "Data variables:\n",
       "    T             (time, lev) float32 ...\n",
       "    r             (time, lev) float32 ...\n",
       "    u             (time, lev) float32 ...\n",
       "    v             (time, lev) float32 ...\n",
       "    omega         (time, lev) float32 ...\n",
       "    div           (time, lev) float32 ...\n",
       "    T_adv_h       (time, lev) float32 ...\n",
       "    T_adv_v       (time, lev) float32 ...\n",
       "    r_adv_h       (time, lev) float32 ...\n",
       "    r_adv_v       (time, lev) float32 ...\n",
       "    s             (time, lev) float32 ...\n",
       "    s_adv_h       (time, lev) float32 ...\n",
       "    s_adv_v       (time, lev) float32 ...\n",
       "    dsdt          (time, lev) float32 ...\n",
       "    dTdt          (time, lev) float32 ...\n",
       "    drdt          (time, lev) float32 ...\n",
       "    q1            (time, lev) float32 ...\n",
       "    q2            (time, lev) float32 ...\n",
       "    cld           (time, lev) float32 ...\n",
       "    prec_srf      (time) float32 ...\n",
       "    LH            (time) float32 ...\n",
       "    SH            (time) float32 ...\n",
       "    p_srf_aver    (time) float32 ...\n",
       "    p_srf_center  (time) float32 ...\n",
       "    T_srf         (time) float32 ...\n",
       "    T_skin        (time) float32 ...\n",
       "    RH_srf        (time) float32 ...\n",
       "    wspd_srf      (time) float32 ...\n",
       "    u_srf         (time) float32 ...\n",
       "    v_srf         (time) float32 ...\n",
       "    rad_net_srf   (time) float32 ...\n",
       "    lw_net_toa    (time) float32 ...\n",
       "    sw_net_toa    (time) float32 ...\n",
       "    sw_dn_toa     (time) float32 ...\n",
       "    cld_low       (time) float32 ...\n",
       "    cld_mid       (time) float32 ...\n",
       "    cld_high      (time) float32 ...\n",
       "    cld_tot       (time) float32 ...\n",
       "    cld_thick     (time) float32 ...\n",
       "    cld_top       (time) float32 ...\n",
       "    LWP           (time) float32 nan nan nan ... 0.01911906 0.01911906\n",
       "    dh2odt_col    (time) float32 ...\n",
       "    h2o_adv_col   (time) float32 ...\n",
       "    evap_srf      (time) float32 ...\n",
       "    dsdt_col      (time) float32 ...\n",
       "    s_adv_col     (time) float32 ...\n",
       "    rad_heat_col  (time) float32 ...\n",
       "    LH_col        (time) float32 ...\n",
       "    omega_srf     (time) float32 ...\n",
       "    r_srf         (time) float32 ...\n",
       "    s_srf         (time) float32 ...\n",
       "    PW            (time) float32 ...\n",
       "    lw_up_srf     (time) float32 ...\n",
       "    lw_dn_srf     (time) float32 ...\n",
       "    sw_up_srf     (time) float32 ...\n",
       "    sw_dn_srf     (time) float32 ..."
      ]
     },
     "execution_count": 20,
     "metadata": {},
     "output_type": "execute_result"
    }
   ],
   "source": [
    "va"
   ]
  },
  {
   "cell_type": "code",
   "execution_count": 140,
   "metadata": {
    "ExecuteTime": {
     "end_time": "2019-09-09T02:35:25.343145Z",
     "start_time": "2019-09-09T02:35:24.955579Z"
    }
   },
   "outputs": [],
   "source": [
    "va = xr.open_dataset('/g/data/ua8/Martin/va_analysis/syn599/CPOL_large-scale_forcing.nc')\n",
    "T_mean = va.T.mean(dim='time')\n",
    "integrand = -287.058 * T_mean /(9.807 * va.lev * 100) \n",
    "z = []\n",
    "for i in range(len(integrand)):\n",
    "    z.append(np.trapz(integrand[:i+1], va.lev[:i+1]*100))\n",
    "z = np.round(np.array(z))\n",
    "p = va.lev.values\n",
    "va['lev'] = z\n",
    "va = va.rename(lev='z')\n",
    "\n",
    "va.z.attrs = {'units': 'm', 'long_name': \n",
    "                'height above ground level', \n",
    "                'axis':'Z'}\n",
    "p = np.tile(p,[19674,1])\n",
    "va['p'] = (['time', 'z'],p)"
   ]
  },
  {
   "cell_type": "code",
   "execution_count": 141,
   "metadata": {
    "ExecuteTime": {
     "end_time": "2019-09-09T02:37:28.125516Z",
     "start_time": "2019-09-09T02:37:27.178623Z"
    }
   },
   "outputs": [],
   "source": [
    "shear = va[['u','v']].sel(z=3000, method='nearest') - va[['u','v']].sel(z=0, method='nearest')"
   ]
  },
  {
   "cell_type": "code",
   "execution_count": 161,
   "metadata": {
    "ExecuteTime": {
     "end_time": "2019-09-09T02:46:11.965775Z",
     "start_time": "2019-09-09T02:46:11.955937Z"
    }
   },
   "outputs": [
    {
     "data": {
      "text/plain": [
       "<xarray.DataArray 'u' ()>\n",
       "array(-10.798518, dtype=float32)\n",
       "Coordinates:\n",
       "    time     datetime64[ns] 2006-02-10T12:00:00"
      ]
     },
     "execution_count": 161,
     "metadata": {},
     "output_type": "execute_result"
    }
   ],
   "source": [
    "shear.u.sel(time=np.datetime64('2006-02-10T10:00'), method='nearest')"
   ]
  },
  {
   "cell_type": "code",
   "execution_count": 163,
   "metadata": {
    "ExecuteTime": {
     "end_time": "2019-09-09T02:47:22.632474Z",
     "start_time": "2019-09-09T02:47:22.620772Z"
    }
   },
   "outputs": [
    {
     "data": {
      "text/plain": [
       "<xarray.DataArray 'u' ()>\n",
       "array(-10.894135, dtype=float32)\n",
       "Coordinates:\n",
       "    time     datetime64[ns] 2006-02-10T06:00:00"
      ]
     },
     "execution_count": 163,
     "metadata": {},
     "output_type": "execute_result"
    }
   ],
   "source": [
    "shear.u.sel(time=np.datetime64('2006-02-10T08:00'), method='nearest')"
   ]
  },
  {
   "cell_type": "code",
   "execution_count": null,
   "metadata": {},
   "outputs": [],
   "source": []
  }
 ],
 "metadata": {
  "kernelspec": {
   "display_name": "Python 3 (ipykernel)",
   "language": "python",
   "name": "python3"
  },
  "language_info": {
   "codemirror_mode": {
    "name": "ipython",
    "version": 3
   },
   "file_extension": ".py",
   "mimetype": "text/x-python",
   "name": "python",
   "nbconvert_exporter": "python",
   "pygments_lexer": "ipython3",
   "version": "3.8.10"
  },
  "toc": {
   "base_numbering": 1,
   "nav_menu": {},
   "number_sections": true,
   "sideBar": true,
   "skip_h1_title": false,
   "title_cell": "Table of Contents",
   "title_sidebar": "Contents",
   "toc_cell": false,
   "toc_position": {},
   "toc_section_display": true,
   "toc_window_display": false
  }
 },
 "nbformat": 4,
 "nbformat_minor": 2
}
