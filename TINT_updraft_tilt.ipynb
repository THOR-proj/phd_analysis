{
 "cells": [
  {
   "cell_type": "code",
   "execution_count": 1,
   "metadata": {
    "ExecuteTime": {
     "end_time": "2019-09-03T08:00:51.249970Z",
     "start_time": "2019-09-03T08:00:41.999168Z"
    },
    "scrolled": true
   },
   "outputs": [
    {
     "name": "stdout",
     "output_type": "stream",
     "text": [
      "\n",
      "## You are using the Python ARM Radar Toolkit (Py-ART), an open source\n",
      "## library for working with weather radar data. Py-ART is partly\n",
      "## supported by the U.S. Department of Energy as part of the Atmospheric\n",
      "## Radiation Measurement (ARM) Climate Research Facility, an Office of\n",
      "## Science user facility.\n",
      "##\n",
      "## If you use this software to prepare a publication, please cite:\n",
      "##\n",
      "##     JJ Helmus and SM Collis, JORS 2016, doi: 10.5334/jors.119\n",
      "\n"
     ]
    },
    {
     "name": "stderr",
     "output_type": "stream",
     "text": [
      "/home/563/esh563/pyart/pyart/graph/cm.py:104: FutureWarning: elementwise comparison failed; returning scalar instead, but in the future will perform elementwise comparison\n",
      "  if 'red' in spec:\n",
      "/home/563/esh563/pyart/pyart/graph/cm_colorblind.py:32: FutureWarning: elementwise comparison failed; returning scalar instead, but in the future will perform elementwise comparison\n",
      "  if 'red' in spec:\n"
     ]
    }
   ],
   "source": [
    "# Core\n",
    "import datetime\n",
    "import os\n",
    "import glob\n",
    "import tempfile\n",
    "import shutil\n",
    "import sys\n",
    "import pickle\n",
    "import warnings\n",
    "import copy\n",
    "\n",
    "# Analysis \n",
    "import xarray as xr\n",
    "import numpy as np\n",
    "import pandas as pd\n",
    "import scipy as sp\n",
    "\n",
    "# Plotting\n",
    "import matplotlib.pyplot as plt\n",
    "\n",
    "# Debugging \n",
    "import pdb, traceback\n",
    "%load_ext line_profiler\n",
    "\n",
    "# Radar Tools\n",
    "import pyart\n",
    "import tint\n",
    "from tint import animate\n",
    "\n",
    "# CPOL convenience functions\n",
    "import CPOL_func as cf"
   ]
  },
  {
   "cell_type": "code",
   "execution_count": 2,
   "metadata": {
    "ExecuteTime": {
     "end_time": "2019-09-03T08:03:40.984249Z",
     "start_time": "2019-09-03T08:01:20.600489Z"
    }
   },
   "outputs": [
    {
     "name": "stdout",
     "output_type": "stream",
     "text": [
      "Gathering files.\n",
      "Gathering files.\n",
      "Gathering files.\n",
      "Gathering files.\n",
      "Gathering files.\n",
      "Gathering files.\n",
      "Gathering files.\n"
     ]
    }
   ],
   "source": [
    "filenames = cf.load_wet_seasons(years=list(range(1999,2006)))"
   ]
  },
  {
   "cell_type": "code",
   "execution_count": 7,
   "metadata": {
    "ExecuteTime": {
     "end_time": "2019-08-28T05:43:43.499327Z",
     "start_time": "2019-08-28T05:43:43.215506Z"
    }
   },
   "outputs": [],
   "source": [
    "out_file_name = ('/g/data/w40/esh563/CPOL_analysis/'\n",
    "                 + 'CPOL_filenames.pkl')\n",
    "\n",
    "with open(out_file_name, 'wb') as f:\n",
    "    pickle.dump(filenames, f)"
   ]
  },
  {
   "cell_type": "code",
   "execution_count": 2,
   "metadata": {
    "ExecuteTime": {
     "end_time": "2019-08-30T01:34:20.319835Z",
     "start_time": "2019-08-30T01:33:48.452967Z"
    }
   },
   "outputs": [],
   "source": [
    "with open('/g/data/w40/esh563/CPOL_analysis/TINT_tracks/tracks_obj_7year.pkl', 'rb') as f:\n",
    "    tracks_obj = pickle.load(f)"
   ]
  },
  {
   "cell_type": "code",
   "execution_count": null,
   "metadata": {
    "ExecuteTime": {
     "start_time": "2019-09-03T08:09:55.110Z"
    },
    "scrolled": true
   },
   "outputs": [
    {
     "name": "stdout",
     "output_type": "stream",
     "text": [
      "No objects found in scan 125.    \n",
      "Time discontinuity at 1999-11-05 04:10:01.\n",
      "No objects found in scan 394.    \n",
      "Time discontinuity at 1999-11-08 02:40:00.\n",
      "No objects found in scan 396.    \n",
      "Time discontinuity at 1999-11-08 03:30:01.\n",
      "No objects found in scan 458.    \r"
     ]
    }
   ],
   "source": [
    "# def test():\n",
    "# filenames = cf.CPOL_files_from_datetime_list(\n",
    "#     np.arange(np.datetime64('2006-02-10 10:00'), \n",
    "#               np.datetime64('2006-02-10 15:00'), \n",
    "#               np.timedelta64(10, 'm'))\n",
    "# )[0]\n",
    "\n",
    "# Generate grid generator \n",
    "# Note generators produce iterators\n",
    "# These are alternative to using lists and looping\n",
    "grids = (pyart.io.read_grid(fn, include_fields = 'reflectivity')\n",
    "         for fn in filenames)\n",
    "\n",
    "with open('/g/data/w40/esh563/CPOL_analysis/TINT_tracks/circ_b_ind_set.pkl', \n",
    "          'rb') as f:\n",
    "    b_ind_set = pickle.load(f)\n",
    "\n",
    "# Define settings for tracking\n",
    "settings = {\n",
    "    'MIN_SIZE' : [40, 400, 800], # square km\n",
    "    'FIELD_THRESH' : ['convective', 20, 15], # DbZ\n",
    "    'ISO_THRESH' : [10, 10, 10], # DbZ\n",
    "    'GS_ALT' : 3000,\n",
    "    'SEARCH_MARGIN' : 10000, # m. This is just for object matching step:\n",
    "    # does not affect flow vectors.\n",
    "    'FLOW_MARGIN' : 40000, # m. Margin around object over which to\n",
    "    # perform phase correlation.\n",
    "    'LEVELS' : np.array( # m\n",
    "        [[3000, 3500], \n",
    "         [3500, 7500],\n",
    "         [7500, 10000]]\n",
    "    ),\n",
    "    'TRACK_INTERVAL' : 0,\n",
    "    'BOUNDARY_GRID_CELLS' : b_ind_set,\n",
    "    'UPDRAFT_START': 3000\n",
    "}\n",
    "\n",
    "tracks_obj  = tint.Cell_tracks()\n",
    "\n",
    "for parameter in ['MIN_SIZE', 'FIELD_THRESH', 'GS_ALT', 'LEVELS', \n",
    "                  'TRACK_INTERVAL', 'ISO_THRESH', 'SEARCH_MARGIN',\n",
    "                  'FLOW_MARGIN', 'BOUNDARY_GRID_CELLS', 'UPDRAFT_START'\n",
    "                 ]:\n",
    "    tracks_obj.params[parameter] = settings[parameter]\n",
    "\n",
    "# Calculate tracks\n",
    "# %lprun -T lprof0 -f get_filtered_frame_steiner tracks_obj.get_tracks(grids)\n",
    "tracks_obj.get_tracks(grids)\n",
    "\n",
    "# Create directory for figures\n",
    "dt=str(datetime.datetime.now())[0:-7]\n",
    "dt=dt.replace(\" \", \"_\")\n",
    "dt=dt.replace(\":\", \"_\")\n",
    "dt=dt.replace(\"-\", \"\")\n",
    "\n",
    "out_file_name = ('/g/data/w40/esh563/CPOL_analysis/TINT_tracks/'\n",
    "                 + 'tracks_obj_test.pkl'.format(dt))\n",
    "\n",
    "with open(out_file_name, 'wb') as f:\n",
    "    pickle.dump(tracks_obj, f)\n",
    "        \n",
    "#     return tracks_obj\n",
    "        \n",
    "# if __name__ == '__main__':\n",
    "#     try:\n",
    "#         tracks_obj = test()\n",
    "#     except:\n",
    "#         extype, value, tb = sys.exc_info()\n",
    "#         traceback.print_exc()\n",
    "#         pdb.post_mortem(tb)\n",
    "        \n",
    "# print(open('lprof0', 'r').read())"
   ]
  },
  {
   "cell_type": "code",
   "execution_count": 5,
   "metadata": {
    "ExecuteTime": {
     "end_time": "2019-09-03T07:21:08.037413Z",
     "start_time": "2019-09-03T07:21:08.025537Z"
    }
   },
   "outputs": [
    {
     "data": {
      "text/plain": [
       "-13.37715"
      ]
     },
     "execution_count": 5,
     "metadata": {},
     "output_type": "execute_result"
    }
   ],
   "source": [
    "tracks_obj.tracks['lat'][0].values[0]"
   ]
  },
  {
   "cell_type": "code",
   "execution_count": 5,
   "metadata": {
    "ExecuteTime": {
     "end_time": "2019-09-02T06:20:58.275661Z",
     "start_time": "2019-09-02T06:20:58.173547Z"
    }
   },
   "outputs": [],
   "source": [
    "with open('/g/data/w40/esh563/CPOL_analysis/TINT_tracks/tracks_obj_test.pkl', 'rb') as f:\n",
    "    tracks_obj = pickle.load(f)"
   ]
  },
  {
   "cell_type": "code",
   "execution_count": 3,
   "metadata": {
    "ExecuteTime": {
     "end_time": "2019-09-03T07:57:50.112643Z",
     "start_time": "2019-09-03T07:56:59.670321Z"
    },
    "scrolled": false
   },
   "outputs": [
    {
     "name": "stdout",
     "output_type": "stream",
     "text": [
      "Gathering files.\n",
      "Animating from 2006-02-10T10:00 to 2006-02-10T13:50.\n",
      "Plotting scan at 2006-02-10T13:40:08.\n",
      "Reached 2006-02-10T13:50.\n",
      "Breaking loop.\n",
      "\n",
      "Creating GIF - may take a few minutes.\n"
     ]
    }
   ],
   "source": [
    "def test():\n",
    "    lon_min = 131.0 - 1.6\n",
    "    lon_max = 131.0 + 1.6\n",
    "\n",
    "    lat_max = -12.2 + 1.6\n",
    "    lat_min = -12.2 - 1.6\n",
    "\n",
    "    [filenames, start_time, end_time] = cf.CPOL_files_from_datetime_list(\n",
    "        np.arange(np.datetime64('2006-02-10 10:00'), \n",
    "                  np.datetime64('2006-02-10 14:00'), \n",
    "                  np.timedelta64(10, 'm'))\n",
    "    )\n",
    "    \n",
    "    tracks_obj_temp = copy.deepcopy(tracks_obj)\n",
    "#     tracks_obj_temp.tracks = tracks_obj_temp.tracks[sub_cond]\n",
    "#     tracks_obj_temp.system_tracks = tracks_obj_temp.system_tracks[sub_cond_sys]\n",
    "    \n",
    "#     filenames, start_time, end_time = cf.CPOL_files_from_TINT_obj(\n",
    "#         tracks_obj_temp, '12816'\n",
    "#     )\n",
    "\n",
    "    # Generate grid generator \n",
    "    # Note generators produce iterators\n",
    "    # These are alternative to using lists and looping\n",
    "    grids = (pyart.io.read_grid(fn, include_fields = 'reflectivity')\n",
    "             for fn in filenames)\n",
    "\n",
    "    # Create directory for figures\n",
    "    dt=str(datetime.datetime.now())[0:-7]\n",
    "    dt=dt.replace(\" \", \"_\")\n",
    "    dt=dt.replace(\":\", \"_\")\n",
    "    dt=dt.replace(\"-\", \"\")\n",
    "\n",
    "    base_path = '/g/data/w40/esh563/CPOL_analysis/figures/TINT/'\n",
    "    out_path = base_path + dt + '_tint_CPOL_anim'\n",
    "\n",
    "    animate(tracks_obj_temp, grids, out_path,\n",
    "            start_datetime = start_time,\n",
    "            end_datetime = end_time,\n",
    "            lat_lines=np.arange(lat_min, lat_max, .2),\n",
    "            lon_lines=np.arange(lon_min, lon_max, .2),\n",
    "            tracers=False, keep_frames=False, dpi=100, alt_low=3000,\n",
    "            alt_high=9500)\n",
    "    \n",
    "if __name__ == '__main__':\n",
    "    try:\n",
    "        test()\n",
    "    except:\n",
    "        extype, value, tb = sys.exc_info()\n",
    "        traceback.print_exc()\n",
    "        pdb.post_mortem(tb)"
   ]
  },
  {
   "cell_type": "code",
   "execution_count": 6,
   "metadata": {
    "ExecuteTime": {
     "end_time": "2019-09-03T04:34:03.460618Z",
     "start_time": "2019-09-03T04:34:03.446827Z"
    }
   },
   "outputs": [
    {
     "data": {
      "text/plain": [
       "scan  time               \n",
       "0     2006-02-10 10:00:09    1.039933\n",
       "1     2006-02-10 10:10:10    0.693289\n",
       "2     2006-02-10 10:20:09    2.082640\n",
       "3     2006-02-10 10:30:09    2.500000\n",
       "4     2006-02-10 10:40:09    2.500000\n",
       "5     2006-02-10 10:50:09    2.500000\n",
       "6     2006-02-10 11:00:09    1.666667\n",
       "7     2006-02-10 11:10:09    0.833333\n",
       "8     2006-02-10 11:20:08    0.000000\n",
       "9     2006-02-10 11:30:08    0.838926\n",
       "10    2006-02-10 11:40:08    1.670873\n",
       "11    2006-02-10 11:50:13    1.670873\n",
       "12    2006-02-10 12:00:09    1.670873\n",
       "13    2006-02-10 12:10:10    0.837540\n",
       "14    2006-02-10 12:20:08    0.825060\n",
       "15    2006-02-10 12:30:08   -0.006887\n",
       "16    2006-02-10 12:40:08    0.825060\n",
       "17    2006-02-10 12:50:13    1.661180\n",
       "18    2006-02-10 13:00:09    2.494513\n",
       "19    2006-02-10 13:10:10    1.668067\n",
       "20    2006-02-10 13:20:08    1.668067\n",
       "21    2006-02-10 13:30:08    0.836120\n",
       "22    2006-02-10 13:40:08    0.000000\n",
       "23    2006-02-10 13:50:09    0.834725\n",
       "24    2006-02-10 14:00:09    1.668058\n",
       "25    2006-02-10 14:10:10    2.501391\n",
       "26    2006-02-10 14:20:09    4.168985\n",
       "27    2006-02-10 14:30:09    4.166667\n",
       "Name: v_shift, dtype: float64"
      ]
     },
     "execution_count": 6,
     "metadata": {},
     "output_type": "execute_result"
    }
   ],
   "source": [
    "tracks_obj.system_tracks['v_shift'].xs('0', level='uid')"
   ]
  },
  {
   "cell_type": "code",
   "execution_count": 5,
   "metadata": {
    "ExecuteTime": {
     "end_time": "2019-09-03T04:33:50.620434Z",
     "start_time": "2019-09-03T04:33:50.537493Z"
    }
   },
   "outputs": [
    {
     "data": {
      "text/html": [
       "<div>\n",
       "<style scoped>\n",
       "    .dataframe tbody tr th:only-of-type {\n",
       "        vertical-align: middle;\n",
       "    }\n",
       "\n",
       "    .dataframe tbody tr th {\n",
       "        vertical-align: top;\n",
       "    }\n",
       "\n",
       "    .dataframe thead th {\n",
       "        text-align: right;\n",
       "    }\n",
       "</style>\n",
       "<table border=\"1\" class=\"dataframe\">\n",
       "  <thead>\n",
       "    <tr style=\"text-align: right;\">\n",
       "      <th></th>\n",
       "      <th>corrected</th>\n",
       "      <th>global</th>\n",
       "      <th>last_heads</th>\n",
       "      <th>phase</th>\n",
       "      <th>case</th>\n",
       "    </tr>\n",
       "    <tr>\n",
       "      <th>scan</th>\n",
       "      <th></th>\n",
       "      <th></th>\n",
       "      <th></th>\n",
       "      <th></th>\n",
       "      <th></th>\n",
       "    </tr>\n",
       "  </thead>\n",
       "  <tbody>\n",
       "    <tr>\n",
       "      <th>0</th>\n",
       "      <td>[0.5, -1.5]</td>\n",
       "      <td>[1, -2]</td>\n",
       "      <td>[--, --]</td>\n",
       "      <td>[0, -1]</td>\n",
       "      <td>1</td>\n",
       "    </tr>\n",
       "    <tr>\n",
       "      <th>1</th>\n",
       "      <td>[0, -2]</td>\n",
       "      <td>[1, -3]</td>\n",
       "      <td>[0.74, -1.82]</td>\n",
       "      <td>[0, -2]</td>\n",
       "      <td>4</td>\n",
       "    </tr>\n",
       "    <tr>\n",
       "      <th>2</th>\n",
       "      <td>[0, -2]</td>\n",
       "      <td>[0, -2]</td>\n",
       "      <td>[1.52, -2.44]</td>\n",
       "      <td>[0, -2]</td>\n",
       "      <td>4</td>\n",
       "    </tr>\n",
       "    <tr>\n",
       "      <th>3</th>\n",
       "      <td>[1, -2]</td>\n",
       "      <td>[-1, -1]</td>\n",
       "      <td>[1.92, -7.22]</td>\n",
       "      <td>[1, -2]</td>\n",
       "      <td>4</td>\n",
       "    </tr>\n",
       "    <tr>\n",
       "      <th>4</th>\n",
       "      <td>[1, -2]</td>\n",
       "      <td>[0, -1]</td>\n",
       "      <td>[-0.54, 3.07]</td>\n",
       "      <td>[1, -2]</td>\n",
       "      <td>4</td>\n",
       "    </tr>\n",
       "    <tr>\n",
       "      <th>5</th>\n",
       "      <td>[1, -2]</td>\n",
       "      <td>[1, -2]</td>\n",
       "      <td>[0.7, -2.14]</td>\n",
       "      <td>[1, -2]</td>\n",
       "      <td>4</td>\n",
       "    </tr>\n",
       "    <tr>\n",
       "      <th>6</th>\n",
       "      <td>[0, -2]</td>\n",
       "      <td>[1, -3]</td>\n",
       "      <td>[2.59, -1.25]</td>\n",
       "      <td>[0, -2]</td>\n",
       "      <td>4</td>\n",
       "    </tr>\n",
       "    <tr>\n",
       "      <th>7</th>\n",
       "      <td>[0, -2]</td>\n",
       "      <td>[1, -2]</td>\n",
       "      <td>[1.05, -1.59]</td>\n",
       "      <td>[0, -2]</td>\n",
       "      <td>4</td>\n",
       "    </tr>\n",
       "    <tr>\n",
       "      <th>8</th>\n",
       "      <td>[0, -3]</td>\n",
       "      <td>[0, -1]</td>\n",
       "      <td>[0.17, -1.89]</td>\n",
       "      <td>[0, -3]</td>\n",
       "      <td>4</td>\n",
       "    </tr>\n",
       "    <tr>\n",
       "      <th>9</th>\n",
       "      <td>[0, -3]</td>\n",
       "      <td>[1, -1]</td>\n",
       "      <td>[-0.11, -2.42]</td>\n",
       "      <td>[0, -3]</td>\n",
       "      <td>4</td>\n",
       "    </tr>\n",
       "    <tr>\n",
       "      <th>10</th>\n",
       "      <td>[0, -3]</td>\n",
       "      <td>[1, -1]</td>\n",
       "      <td>[1.64, -0.93]</td>\n",
       "      <td>[0, -3]</td>\n",
       "      <td>4</td>\n",
       "    </tr>\n",
       "    <tr>\n",
       "      <th>11</th>\n",
       "      <td>[1, -3]</td>\n",
       "      <td>[1, -2]</td>\n",
       "      <td>[7.45, 0.54]</td>\n",
       "      <td>[1, -3]</td>\n",
       "      <td>4</td>\n",
       "    </tr>\n",
       "    <tr>\n",
       "      <th>12</th>\n",
       "      <td>[1, -2]</td>\n",
       "      <td>[1, -2]</td>\n",
       "      <td>[0.82, -2.72]</td>\n",
       "      <td>[1, -2]</td>\n",
       "      <td>4</td>\n",
       "    </tr>\n",
       "    <tr>\n",
       "      <th>13</th>\n",
       "      <td>[0, -2]</td>\n",
       "      <td>[1, 0]</td>\n",
       "      <td>[2.91, -0.3]</td>\n",
       "      <td>[0, -2]</td>\n",
       "      <td>4</td>\n",
       "    </tr>\n",
       "    <tr>\n",
       "      <th>14</th>\n",
       "      <td>[0, -2]</td>\n",
       "      <td>[1, 0]</td>\n",
       "      <td>[3.23, -0.01]</td>\n",
       "      <td>[0, -2]</td>\n",
       "      <td>4</td>\n",
       "    </tr>\n",
       "    <tr>\n",
       "      <th>15</th>\n",
       "      <td>[-1, -3]</td>\n",
       "      <td>[-1, -2]</td>\n",
       "      <td>[2.85, -1.4]</td>\n",
       "      <td>[-1, -3]</td>\n",
       "      <td>4</td>\n",
       "    </tr>\n",
       "    <tr>\n",
       "      <th>16</th>\n",
       "      <td>[1, -2]</td>\n",
       "      <td>[0, -2]</td>\n",
       "      <td>[0.32, -3.07]</td>\n",
       "      <td>[1, -2]</td>\n",
       "      <td>4</td>\n",
       "    </tr>\n",
       "    <tr>\n",
       "      <th>17</th>\n",
       "      <td>[0, -2]</td>\n",
       "      <td>[0, -2]</td>\n",
       "      <td>[0.69, -1.65]</td>\n",
       "      <td>[0, -2]</td>\n",
       "      <td>4</td>\n",
       "    </tr>\n",
       "    <tr>\n",
       "      <th>18</th>\n",
       "      <td>[1, -2]</td>\n",
       "      <td>[1, -2]</td>\n",
       "      <td>[-1.92, -3.41]</td>\n",
       "      <td>[1, -2]</td>\n",
       "      <td>4</td>\n",
       "    </tr>\n",
       "    <tr>\n",
       "      <th>19</th>\n",
       "      <td>[1, -2]</td>\n",
       "      <td>[0, -3]</td>\n",
       "      <td>[1.01, -3.24]</td>\n",
       "      <td>[1, -2]</td>\n",
       "      <td>4</td>\n",
       "    </tr>\n",
       "    <tr>\n",
       "      <th>20</th>\n",
       "      <td>[0, -2]</td>\n",
       "      <td>[0, -2]</td>\n",
       "      <td>[0.56, 0.13]</td>\n",
       "      <td>[0, -2]</td>\n",
       "      <td>4</td>\n",
       "    </tr>\n",
       "    <tr>\n",
       "      <th>21</th>\n",
       "      <td>[0, -2]</td>\n",
       "      <td>[1, -2]</td>\n",
       "      <td>[1.82, -6.56]</td>\n",
       "      <td>[0, -2]</td>\n",
       "      <td>4</td>\n",
       "    </tr>\n",
       "    <tr>\n",
       "      <th>22</th>\n",
       "      <td>[0, -2]</td>\n",
       "      <td>[0, -2]</td>\n",
       "      <td>[1.85, -4.6]</td>\n",
       "      <td>[0, -2]</td>\n",
       "      <td>4</td>\n",
       "    </tr>\n",
       "    <tr>\n",
       "      <th>23</th>\n",
       "      <td>[0, -2]</td>\n",
       "      <td>[0, -2]</td>\n",
       "      <td>[-0.51, -1.46]</td>\n",
       "      <td>[0, -2]</td>\n",
       "      <td>4</td>\n",
       "    </tr>\n",
       "    <tr>\n",
       "      <th>24</th>\n",
       "      <td>[0, -2]</td>\n",
       "      <td>[0, -1]</td>\n",
       "      <td>[0.27, -4.48]</td>\n",
       "      <td>[0, -2]</td>\n",
       "      <td>4</td>\n",
       "    </tr>\n",
       "    <tr>\n",
       "      <th>25</th>\n",
       "      <td>[1, -1]</td>\n",
       "      <td>[1, -1]</td>\n",
       "      <td>[2.34, -3.07]</td>\n",
       "      <td>[1, -1]</td>\n",
       "      <td>4</td>\n",
       "    </tr>\n",
       "    <tr>\n",
       "      <th>26</th>\n",
       "      <td>[1, -1]</td>\n",
       "      <td>[1, -1]</td>\n",
       "      <td>[0.81, -0.79]</td>\n",
       "      <td>[1, -1]</td>\n",
       "      <td>4</td>\n",
       "    </tr>\n",
       "    <tr>\n",
       "      <th>27</th>\n",
       "      <td>[1, -1]</td>\n",
       "      <td>[1, -1]</td>\n",
       "      <td>[-1.31, -1.5]</td>\n",
       "      <td>[1, -1]</td>\n",
       "      <td>4</td>\n",
       "    </tr>\n",
       "  </tbody>\n",
       "</table>\n",
       "</div>"
      ],
      "text/plain": [
       "        corrected    global      last_heads     phase  case\n",
       "scan                                                       \n",
       "0     [0.5, -1.5]   [1, -2]        [--, --]   [0, -1]     1\n",
       "1         [0, -2]   [1, -3]   [0.74, -1.82]   [0, -2]     4\n",
       "2         [0, -2]   [0, -2]   [1.52, -2.44]   [0, -2]     4\n",
       "3         [1, -2]  [-1, -1]   [1.92, -7.22]   [1, -2]     4\n",
       "4         [1, -2]   [0, -1]   [-0.54, 3.07]   [1, -2]     4\n",
       "5         [1, -2]   [1, -2]    [0.7, -2.14]   [1, -2]     4\n",
       "6         [0, -2]   [1, -3]   [2.59, -1.25]   [0, -2]     4\n",
       "7         [0, -2]   [1, -2]   [1.05, -1.59]   [0, -2]     4\n",
       "8         [0, -3]   [0, -1]   [0.17, -1.89]   [0, -3]     4\n",
       "9         [0, -3]   [1, -1]  [-0.11, -2.42]   [0, -3]     4\n",
       "10        [0, -3]   [1, -1]   [1.64, -0.93]   [0, -3]     4\n",
       "11        [1, -3]   [1, -2]    [7.45, 0.54]   [1, -3]     4\n",
       "12        [1, -2]   [1, -2]   [0.82, -2.72]   [1, -2]     4\n",
       "13        [0, -2]    [1, 0]    [2.91, -0.3]   [0, -2]     4\n",
       "14        [0, -2]    [1, 0]   [3.23, -0.01]   [0, -2]     4\n",
       "15       [-1, -3]  [-1, -2]    [2.85, -1.4]  [-1, -3]     4\n",
       "16        [1, -2]   [0, -2]   [0.32, -3.07]   [1, -2]     4\n",
       "17        [0, -2]   [0, -2]   [0.69, -1.65]   [0, -2]     4\n",
       "18        [1, -2]   [1, -2]  [-1.92, -3.41]   [1, -2]     4\n",
       "19        [1, -2]   [0, -3]   [1.01, -3.24]   [1, -2]     4\n",
       "20        [0, -2]   [0, -2]    [0.56, 0.13]   [0, -2]     4\n",
       "21        [0, -2]   [1, -2]   [1.82, -6.56]   [0, -2]     4\n",
       "22        [0, -2]   [0, -2]    [1.85, -4.6]   [0, -2]     4\n",
       "23        [0, -2]   [0, -2]  [-0.51, -1.46]   [0, -2]     4\n",
       "24        [0, -2]   [0, -1]   [0.27, -4.48]   [0, -2]     4\n",
       "25        [1, -1]   [1, -1]   [2.34, -3.07]   [1, -1]     4\n",
       "26        [1, -1]   [1, -1]   [0.81, -0.79]   [1, -1]     4\n",
       "27        [1, -1]   [1, -1]   [-1.31, -1.5]   [1, -1]     4"
      ]
     },
     "execution_count": 5,
     "metadata": {},
     "output_type": "execute_result"
    }
   ],
   "source": [
    "tracks_obj.record.shifts.xs('0', level='uid')"
   ]
  },
  {
   "cell_type": "code",
   "execution_count": 5,
   "metadata": {
    "ExecuteTime": {
     "end_time": "2019-09-02T08:22:36.799065Z",
     "start_time": "2019-09-02T08:22:28.715892Z"
    }
   },
   "outputs": [
    {
     "name": "stderr",
     "output_type": "stream",
     "text": [
      "Traceback (most recent call last):\n",
      "  File \"/g/data3/hh5/public/apps/miniconda3/envs/analysis3-19.04/lib/python3.6/site-packages/pandas/core/indexes/base.py\", line 2657, in get_loc\n",
      "    return self._engine.get_loc(key)\n",
      "  File \"pandas/_libs/index.pyx\", line 108, in pandas._libs.index.IndexEngine.get_loc\n",
      "  File \"pandas/_libs/index.pyx\", line 132, in pandas._libs.index.IndexEngine.get_loc\n",
      "  File \"pandas/_libs/hashtable_class_helper.pxi\", line 1601, in pandas._libs.hashtable.PyObjectHashTable.get_item\n",
      "  File \"pandas/_libs/hashtable_class_helper.pxi\", line 1608, in pandas._libs.hashtable.PyObjectHashTable.get_item\n",
      "KeyError: '8190'\n",
      "\n",
      "During handling of the above exception, another exception occurred:\n",
      "\n",
      "Traceback (most recent call last):\n",
      "  File \"<ipython-input-5-ba492be58933>\", line 28, in <module>\n",
      "    test()\n",
      "  File \"<ipython-input-5-ba492be58933>\", line 24, in test\n",
      "    alt_low=3000, alt_high=10000, keep_frames=False, dpi=100)\n",
      "  File \"/home/563/esh563/TINT/tint/visualization.py\", line 813, in animate\n",
      "    **kwargs)\n",
      "  File \"/home/563/esh563/TINT/tint/visualization.py\", line 518, in updraft_view\n",
      "    cell = tobj.tracks.xs(uid, level='uid')\n",
      "  File \"/g/data3/hh5/public/apps/miniconda3/envs/analysis3-19.04/lib/python3.6/site-packages/pandas/core/generic.py\", line 3564, in xs\n",
      "    drop_level=drop_level)\n",
      "  File \"/g/data3/hh5/public/apps/miniconda3/envs/analysis3-19.04/lib/python3.6/site-packages/pandas/core/indexes/multi.py\", line 2571, in get_loc_level\n",
      "    indexer = self._get_level_indexer(key, level=level)\n",
      "  File \"/g/data3/hh5/public/apps/miniconda3/envs/analysis3-19.04/lib/python3.6/site-packages/pandas/core/indexes/multi.py\", line 2652, in _get_level_indexer\n",
      "    code = level_index.get_loc(key)\n",
      "  File \"/g/data3/hh5/public/apps/miniconda3/envs/analysis3-19.04/lib/python3.6/site-packages/pandas/core/indexes/base.py\", line 2659, in get_loc\n",
      "    return self._engine.get_loc(self._maybe_cast_indexer(key))\n",
      "  File \"pandas/_libs/index.pyx\", line 108, in pandas._libs.index.IndexEngine.get_loc\n",
      "  File \"pandas/_libs/index.pyx\", line 132, in pandas._libs.index.IndexEngine.get_loc\n",
      "  File \"pandas/_libs/hashtable_class_helper.pxi\", line 1601, in pandas._libs.hashtable.PyObjectHashTable.get_item\n",
      "  File \"pandas/_libs/hashtable_class_helper.pxi\", line 1608, in pandas._libs.hashtable.PyObjectHashTable.get_item\n",
      "KeyError: '8190'\n"
     ]
    },
    {
     "name": "stdout",
     "output_type": "stream",
     "text": [
      "Gathering files.\n",
      "> /home/563/esh563/CPOL_analysis/pandas/_libs/hashtable_class_helper.pxi(1608)pandas._libs.hashtable.PyObjectHashTable.get_item()\n",
      "(Pdb) q\n"
     ]
    }
   ],
   "source": [
    "def test():\n",
    "    uid = '8190'\n",
    "\n",
    "#     filenames, start_time, end_time = cf.CPOL_files_from_TINT_obj(\n",
    "#         tracks_obj, uid\n",
    "#     )\n",
    "    \n",
    "    [filenames, start_time, end_time] = cf.CPOL_files_from_datetime_list(\n",
    "        np.arange(np.datetime64('2006-01-06 06:20'), \n",
    "        np.datetime64('2006-01-06 07:10'), \n",
    "        np.timedelta64(10, 'm')))\n",
    "\n",
    "    grids = (pyart.io.read_grid(fn) for fn in filenames)  # refresh grid generator\n",
    "\n",
    "    # Create directory for figures\n",
    "    dt=str(datetime.datetime.now())[0:-7]\n",
    "    dt=dt.replace(\" \", \"_\")\n",
    "    dt=dt.replace(\":\", \"_\")\n",
    "    dt=dt.replace(\"-\", \"\")\n",
    "    \n",
    "    base_path = '/g/data/w40/esh563/CPOL_analysis/figures/TINT/'\n",
    "    out_path = base_path + dt + '_tint_CPOL_lagrangian'\n",
    "    animate(tracks_obj, grids, out_path, style='updraft', uid=uid, \n",
    "            alt_low=3000, alt_high=10000, keep_frames=False, dpi=100)\n",
    "    \n",
    "if __name__ == '__main__':\n",
    "    try:\n",
    "        test()\n",
    "    except:\n",
    "        extype, value, tb = sys.exc_info()\n",
    "        traceback.print_exc()\n",
    "        pdb.post_mortem(tb)"
   ]
  },
  {
   "cell_type": "code",
   "execution_count": 107,
   "metadata": {
    "ExecuteTime": {
     "end_time": "2019-08-30T11:37:33.985295Z",
     "start_time": "2019-08-30T11:37:33.889911Z"
    }
   },
   "outputs": [],
   "source": [
    "# Let's filter by tilt direction and magnitude, velocity magnitude\n",
    "# and significant area.\n",
    "forward_tilt = ((-45 <= tracks_obj.system_tracks['sys_rel_tilt_dir'])\n",
    "                & (tracks_obj.system_tracks['sys_rel_tilt_dir'] <= 45))\n",
    "backward_tilt = ((-135 >= tracks_obj.system_tracks['sys_rel_tilt_dir'])\n",
    "                | (tracks_obj.system_tracks['sys_rel_tilt_dir'] >= 135))\n",
    "left_tilt = ((45 <= tracks_obj.system_tracks['sys_rel_tilt_dir'])\n",
    "                & (tracks_obj.system_tracks['sys_rel_tilt_dir'] <= 135))\n",
    "right_tilt = ((-135 <= tracks_obj.system_tracks['sys_rel_tilt_dir'])\n",
    "                & (tracks_obj.system_tracks['sys_rel_tilt_dir'] <= -45))\n",
    "sig_tilt_mag = (tracks_obj.system_tracks['tilt_mag'] >= 20000)\n",
    "vel_mag = np.sqrt(tracks_obj.system_tracks['u']**2 \n",
    "                  + tracks_obj.system_tracks['v']**2)\n",
    "sig_vel_mag = ((vel_mag >= 5) & (vel_mag <= 40))\n",
    "eccentricity_mag = tracks_obj.system_tracks['eccentricity'] > .90\n",
    "# Note for CPOL 2.5 km, total scan area is only 66052 km^2. This makes \n",
    "# traditional MCS definitions of area > 30000 km^2 difficult to apply, \n",
    "# and still coherently calculate tilt. \n",
    "sig_area = ((tracks_obj.system_tracks['proj_area'] >= 4000) & \n",
    "            (tracks_obj.system_tracks['proj_area'] <= 50000))\n",
    "not_border = (tracks_obj.system_tracks['touch_border']*6.25 / tracks_obj.system_tracks['proj_area']) < 0.02\n",
    "\n",
    "tracks_0 = tracks_obj.tracks[['touch_border', 'proj_area']].xs(\n",
    "    0, level='level'\n",
    ")\n",
    "not_border_0 = (tracks_0['touch_border'] * 6.25 / tracks_0['proj_area']) < 0.02"
   ]
  },
  {
   "cell_type": "code",
   "execution_count": 108,
   "metadata": {
    "ExecuteTime": {
     "end_time": "2019-08-30T11:37:36.112354Z",
     "start_time": "2019-08-30T11:37:35.647428Z"
    }
   },
   "outputs": [
    {
     "data": {
      "text/plain": [
       "uid\n",
       "12816    6\n",
       "995      6\n",
       "2549     6\n",
       "1033     5\n",
       "8232     5\n",
       "8117     4\n",
       "4584     4\n",
       "666      4\n",
       "6070     4\n",
       "11674    4\n",
       "8067     4\n",
       "6390     4\n",
       "9906     4\n",
       "1314     3\n",
       "7101     3\n",
       "14516    3\n",
       "2464     3\n",
       "3081     3\n",
       "7232     3\n",
       "14175    3\n",
       "dtype: int64"
      ]
     },
     "execution_count": 108,
     "metadata": {},
     "output_type": "execute_result"
    }
   ],
   "source": [
    "# Let's find the cells that were tracked for the most frames.\n",
    "sub_cond_sys = sig_tilt_mag & sig_vel_mag & sig_area & not_border & not_border_0 & forward_tilt & eccentricity_mag\n",
    "sub_cond = sub_cond_sys.append([sub_cond_sys]*2).sort_index(sort_remaining=True)\n",
    "levels = np.array([0,1,2]*len(sub_cond_sys))\n",
    "\n",
    "sub_cond = sub_cond.to_frame()\n",
    "sub_cond.insert(0, 'level', levels)\n",
    "sub_cond = sub_cond.reset_index()\n",
    "\n",
    "sub_cond = sub_cond.set_index(['scan', 'time', 'level', 'uid'])\n",
    "sub_cond = sub_cond.ix[:,0]\n",
    "# tracks_obj.tracks[sub_cond]\n",
    "tracks_obj.system_tracks[sub_cond_sys].groupby(level='uid').size().sort_values(ascending=False)[:20]"
   ]
  },
  {
   "cell_type": "code",
   "execution_count": 100,
   "metadata": {
    "ExecuteTime": {
     "end_time": "2019-08-30T10:26:36.581959Z",
     "start_time": "2019-08-30T10:26:36.553951Z"
    }
   },
   "outputs": [
    {
     "data": {
      "text/plain": [
       "scan    time               \n",
       "118419  2006-03-29 13:20:09    29987.939\n",
       "118429  2006-03-29 15:00:09    54280.415\n",
       "118430  2006-03-29 15:10:09    47833.996\n",
       "118431  2006-03-29 15:20:08    47065.622\n",
       "118432  2006-03-29 15:30:08    40824.605\n",
       "118433  2006-03-29 15:40:08    39038.770\n",
       "118434  2006-03-29 15:50:08    34413.267\n",
       "118435  2006-03-29 16:00:09    34140.100\n",
       "118437  2006-03-29 16:20:09    21956.178\n",
       "118438  2006-03-29 16:30:09    24020.710\n",
       "118439  2006-03-29 16:40:09    13429.971\n",
       "118440  2006-03-29 16:50:09    11807.946\n",
       "118441  2006-03-29 17:00:09     5611.088\n",
       "Name: tilt_mag, dtype: float64"
      ]
     },
     "execution_count": 100,
     "metadata": {},
     "output_type": "execute_result"
    }
   ],
   "source": [
    "tracks_obj.system_tracks[sub_cond_sys].xs('14852', level='uid')['tilt_mag']"
   ]
  },
  {
   "cell_type": "markdown",
   "metadata": {},
   "source": [
    "# Calculate Some Statistics"
   ]
  },
  {
   "cell_type": "code",
   "execution_count": 7,
   "metadata": {
    "ExecuteTime": {
     "end_time": "2019-08-30T01:35:44.166571Z",
     "start_time": "2019-08-30T01:35:27.803764Z"
    }
   },
   "outputs": [],
   "source": [
    "subset_logic = sig_area & not_border & sig_vel_mag & sig_tilt_mag & not_border_0\n",
    "\n",
    "sub_tracks = tracks_obj.system_tracks[subset_logic]\n",
    "sub_uids = list(sorted(set([int(sub_tracks.index.values[i][2]) for i in range(len(sub_tracks))])))\n",
    "sub_uids = [str(i) for i in sub_uids]\n",
    "\n",
    "MCS_lengths = [len(sub_tracks.xs(i, level='uid').reset_index(level='time').index.values) for i in sub_uids]\n",
    "\n",
    "max_MCS = max(MCS_lengths)\n",
    "\n",
    "# Create 3 lists with lengths the lifetime of longest object.\n",
    "[TS, LS, PS] = [np.zeros(80) for i in range(3)]\n",
    "\n",
    "for i in sub_uids:\n",
    "    obj = sub_tracks.xs(i, level='uid').reset_index(level='time')\n",
    "    scans = obj.index.values\n",
    "    scan_label = scans - min(scans)\n",
    "    tilts = obj['sys_rel_tilt_dir']\n",
    "\n",
    "    forward_tilt = ((-45 <= tilts) & (tilts <= 45))\n",
    "    backward_tilt = ((-135 >= tilts) | (tilts >= 135))\n",
    "\n",
    "    fwd_inds = scan_label[np.argwhere(forward_tilt).flatten().tolist()].tolist()\n",
    "    bwd_inds = scan_label[np.argwhere(backward_tilt).flatten().tolist()].tolist()\n",
    "    pll_inds = scan_label[np.argwhere(~backward_tilt & ~forward_tilt).flatten().tolist()].tolist()\n",
    "\n",
    "    TS[bwd_inds] += 1\n",
    "    LS[fwd_inds] += 1\n",
    "    PS[pll_inds] += 1"
   ]
  },
  {
   "cell_type": "code",
   "execution_count": 8,
   "metadata": {
    "ExecuteTime": {
     "end_time": "2019-08-30T01:35:46.638282Z",
     "start_time": "2019-08-30T01:35:46.355503Z"
    }
   },
   "outputs": [
    {
     "data": {
      "image/png": "[encoded data removed]",
      "text/plain": [
       "<Figure size 432x288 with 1 Axes>"
      ]
     },
     "metadata": {
      "needs_background": "light"
     },
     "output_type": "display_data"
    }
   ],
   "source": [
    "plt.plot(np.arange(30,300,10), TS[3:30], label='TS count')\n",
    "plt.plot(np.arange(30,300,10), LS[3:30], label='LS count')\n",
    "plt.plot(np.arange(30,300,10), PS[3:30], label='PS count')\n",
    "plt.plot(np.arange(30,300,10), (TS+PS+LS)[3:30], label='Total count')\n",
    "plt.xticks(np.arange(30,300,30))\n",
    "plt.ylabel('Count [-]')\n",
    "plt.xlabel('Time since Initiation [m]')\n",
    "plt.legend()\n",
    "plt.savefig('/g/data/w40/esh563/CPOL_analysis/figures/TINT/counts.png')"
   ]
  },
  {
   "cell_type": "code",
   "execution_count": 9,
   "metadata": {
    "ExecuteTime": {
     "end_time": "2019-08-30T01:35:51.705150Z",
     "start_time": "2019-08-30T01:35:51.403478Z"
    }
   },
   "outputs": [
    {
     "data": {
      "image/png": "[encoded data removed]",
      "text/plain": [
       "<Figure size 432x288 with 1 Axes>"
      ]
     },
     "metadata": {
      "needs_background": "light"
     },
     "output_type": "display_data"
    }
   ],
   "source": [
    "tot = (TS+PS+LS)\n",
    "\n",
    "plt.plot(np.arange(30,300,10), (TS/tot)[3:30], label='TS ratio')\n",
    "plt.plot(np.arange(30,300,10), (LS/tot)[3:30], label='LS ratio')\n",
    "plt.plot(np.arange(30,300,10), (PS/tot)[3:30], label='PS ratio')\n",
    "plt.xticks(np.arange(30,300,30))\n",
    "plt.ylabel('Ratio [-]')\n",
    "plt.xlabel('Time since Initiation [m]')\n",
    "plt.legend()\n",
    "# Note that we don't really know the start times of the systems!\n",
    "plt.savefig('/g/data/w40/esh563/CPOL_analysis/figures/TINT/ratios.png')"
   ]
  }
 ],
 "metadata": {
  "kernelspec": {
   "display_name": "Python [conda env:analysis3-19.04]",
   "language": "python",
   "name": "conda-env-analysis3-19.04-py"
  },
  "language_info": {
   "codemirror_mode": {
    "name": "ipython",
    "version": 3
   },
   "file_extension": ".py",
   "mimetype": "text/x-python",
   "name": "python",
   "nbconvert_exporter": "python",
   "pygments_lexer": "ipython3",
   "version": "3.6.7"
  },
  "toc": {
   "base_numbering": 1,
   "nav_menu": {},
   "number_sections": true,
   "sideBar": true,
   "skip_h1_title": false,
   "title_cell": "Table of Contents",
   "title_sidebar": "Contents",
   "toc_cell": false,
   "toc_position": {},
   "toc_section_display": true,
   "toc_window_display": false
  }
 },
 "nbformat": 4,
 "nbformat_minor": 2
}
