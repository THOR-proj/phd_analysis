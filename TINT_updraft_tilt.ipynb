{
 "cells": [
  {
   "cell_type": "code",
   "execution_count": 1,
   "metadata": {
    "ExecuteTime": {
     "end_time": "2019-09-15T23:38:07.944301Z",
     "start_time": "2019-09-15T23:37:59.925787Z"
    },
    "scrolled": true
   },
   "outputs": [
    {
     "name": "stdout",
     "output_type": "stream",
     "text": [
      "\n",
      "## You are using the Python ARM Radar Toolkit (Py-ART), an open source\n",
      "## library for working with weather radar data. Py-ART is partly\n",
      "## supported by the U.S. Department of Energy as part of the Atmospheric\n",
      "## Radiation Measurement (ARM) Climate Research Facility, an Office of\n",
      "## Science user facility.\n",
      "##\n",
      "## If you use this software to prepare a publication, please cite:\n",
      "##\n",
      "##     JJ Helmus and SM Collis, JORS 2016, doi: 10.5334/jors.119\n",
      "\n"
     ]
    },
    {
     "name": "stderr",
     "output_type": "stream",
     "text": [
      "/home/563/esh563/pyart/pyart/graph/cm.py:104: FutureWarning: elementwise comparison failed; returning scalar instead, but in the future will perform elementwise comparison\n",
      "  if 'red' in spec:\n",
      "/home/563/esh563/pyart/pyart/graph/cm_colorblind.py:32: FutureWarning: elementwise comparison failed; returning scalar instead, but in the future will perform elementwise comparison\n",
      "  if 'red' in spec:\n"
     ]
    }
   ],
   "source": [
    "# Core\n",
    "import datetime\n",
    "import os\n",
    "import glob\n",
    "import tempfile\n",
    "import sys\n",
    "import pickle\n",
    "import copy\n",
    "\n",
    "# Analysis \n",
    "import numpy as np\n",
    "import pandas as pd\n",
    "import xarray as xr\n",
    "\n",
    "# Plotting\n",
    "import matplotlib.pyplot as plt\n",
    "\n",
    "# Debugging \n",
    "import pdb, traceback\n",
    "%load_ext line_profiler\n",
    "\n",
    "# Radar Tools\n",
    "import pyart\n",
    "import tint\n",
    "from tint import animate\n",
    "from tint.visualization import plot_tracks_horiz_cross\n",
    "\n",
    "# CPOL convenience functions\n",
    "import CPOL_func as cf"
   ]
  },
  {
   "cell_type": "code",
   "execution_count": 5,
   "metadata": {
    "ExecuteTime": {
     "end_time": "2019-09-10T09:40:19.834483Z",
     "start_time": "2019-09-10T09:38:19.569028Z"
    }
   },
   "outputs": [
    {
     "name": "stdout",
     "output_type": "stream",
     "text": [
      "Gathering files.\n",
      "Gathering files.\n",
      "Gathering files.\n",
      "Gathering files.\n",
      "Gathering files.\n",
      "Gathering files.\n",
      "Gathering files.\n",
      "Gathering files.\n",
      "Gathering files.\n",
      "Gathering files.\n",
      "Gathering files.\n",
      "Gathering files.\n"
     ]
    }
   ],
   "source": [
    "filenames = cf.load_wet_seasons(years=list(range(2002,2016)))"
   ]
  },
  {
   "cell_type": "code",
   "execution_count": null,
   "metadata": {
    "ExecuteTime": {
     "start_time": "2019-09-15T23:38:04.429Z"
    }
   },
   "outputs": [
    {
     "name": "stdout",
     "output_type": "stream",
     "text": [
      "Gathering files.\n",
      "No objects found in scan 12.    \n",
      "Time discontinuity at 2001-11-01 04:10:01.\n",
      "No objects found in scan 17.    \n",
      "Time discontinuity at 2001-11-01 05:20:00.\n",
      "No objects found in scan 152.    \n",
      "Time discontinuity at 2001-11-02 04:10:01.\n",
      "No objects found in scan 166.    \n",
      "Time discontinuity at 2001-11-02 06:50:00.\n",
      "Writing tracks for scan 723.     \n",
      "Time discontinuity at 2001-11-06 04:10:00.\n",
      "Writing tracks for scan 732.    \n",
      "Time discontinuity at 2001-11-06 07:30:01.\n",
      "Writing tracks for scan 736.    \n",
      "Time discontinuity at 2001-11-06 19:09:49.\n",
      "No objects found in scan 1414.    \n",
      "Time discontinuity at 2001-11-11 13:00:01.\n",
      "No objects found in scan 2632.    \n",
      "Time discontinuity at 2001-11-20 03:50:00.\n",
      "No objects found in scan 2757.    \n",
      "Time discontinuity at 2001-11-21 04:00:00.\n",
      "No objects found in scan 2779.    \n",
      "Time discontinuity at 2001-11-21 13:19:51.\n",
      "No objects found in scan 2988.    \n",
      "Time discontinuity at 2001-11-23 02:00:02.\n",
      "Writing tracks for scan 3297.     \n",
      "Time discontinuity at 2001-11-26 07:10:00.\n",
      "No objects found in scan 3398.    \n",
      "Time discontinuity at 2001-11-27 01:10:01.\n",
      "No objects found in scan 4268.    \n",
      "Time discontinuity at 2001-12-03 03:20:00.\n",
      "Writing tracks for scan 7029.     \n",
      "Time discontinuity at 2001-12-22 08:30:01.\n",
      "No objects found in scan 9299.    \n",
      "Time discontinuity at 2002-01-07 03:40:00.\n",
      "No objects found in scan 9856.    \n",
      "Time discontinuity at 2002-01-11 01:00:10.\n",
      "No objects found in scan 10247.    \n",
      "Time discontinuity at 2002-01-14 03:30:05.\n",
      "No objects found in scan 10468.    \n",
      "Time discontinuity at 2002-01-15 17:10:07.\n",
      "No objects found in scan 11238.    \n",
      "Time discontinuity at 2002-01-21 02:50:01.\n",
      "No objects found in scan 11754.    \n",
      "Time discontinuity at 2002-01-24 17:10:05.\n",
      "No objects found in scan 14241.    \n",
      "Time discontinuity at 2002-02-11 05:30:01.\n",
      "No objects found in scan 14243.    \n",
      "Time discontinuity at 2002-02-11 06:10:07.\n",
      "Writing tracks for scan 14609.     \n",
      "Time discontinuity at 2002-02-13 19:30:01.\n",
      "No objects found in scan 14611.    \n",
      "Time discontinuity at 2002-02-15 01:40:00.\n",
      "No objects found in scan 15038.    \n",
      "Time discontinuity at 2002-02-18 01:40:01.\n",
      "No objects found in scan 18272.    \n",
      "Time discontinuity at 2002-03-12 15:00:00.\n",
      "No objects found in scan 19500.    \n",
      "Time discontinuity at 2002-03-21 05:00:00.\n",
      "No objects found in scan 20981.    \r"
     ]
    }
   ],
   "source": [
    "cf.get_CPOL_tracks(2001)"
   ]
  },
  {
   "cell_type": "code",
   "execution_count": 2,
   "metadata": {
    "ExecuteTime": {
     "end_time": "2019-09-14T08:40:05.746529Z",
     "start_time": "2019-09-14T08:39:43.139390Z"
    },
    "scrolled": true
   },
   "outputs": [
    {
     "name": "stdout",
     "output_type": "stream",
     "text": [
      "Gathering files.\n",
      "Calculating additional tracks properties.\n",
      "Calculating system tracks.\n",
      "\n",
      "\n",
      "Time elapsed: 0.2 minutes\n",
      "Adding data from Monash Reanalysis\n",
      "Input already a dataframe.\n",
      "Input already a dataframe.\n",
      "Input already a dataframe.\n"
     ]
    }
   ],
   "source": [
    "def test():\n",
    "    filenames = cf.CPOL_files_from_datetime_list(\n",
    "        np.arange(np.datetime64('2006-02-10 08:00'), \n",
    "                  np.datetime64('2006-02-10 16:00'), \n",
    "                  np.timedelta64(10, 'm'))\n",
    "    )[0]\n",
    "\n",
    "    # Generate grid generator \n",
    "    # Note generators produce iterators\n",
    "    # These are alternative to using lists and looping\n",
    "    grids = (pyart.io.read_grid(fn, include_fields = 'reflectivity')\n",
    "             for fn in filenames)\n",
    "\n",
    "    with open('/g/data/w40/esh563/CPOL_analysis/TINT_tracks/circ_b_ind_set.pkl', \n",
    "              'rb') as f:\n",
    "        b_ind_set = pickle.load(f)\n",
    "\n",
    "    # Define settings for tracking\n",
    "    settings = {\n",
    "        'MIN_SIZE' : [40, 400, 800], # square km\n",
    "        'FIELD_THRESH' : ['convective', 20, 15], # DbZ\n",
    "        'ISO_THRESH' : [10, 10, 10], # DbZ\n",
    "        'GS_ALT' : 3000,\n",
    "        'SEARCH_MARGIN' : 10000, # m. This is just for object matching step:\n",
    "        # does not affect flow vectors.\n",
    "        'FLOW_MARGIN' : 40000, # m. Margin around object over which to\n",
    "        # perform phase correlation.\n",
    "        'LEVELS' : np.array( # m\n",
    "            [[3000, 3500], \n",
    "             [3500, 7500],\n",
    "             [7500, 10000]]\n",
    "        ),\n",
    "        'TRACK_INTERVAL' : 0,\n",
    "        'BOUNDARY_GRID_CELLS' : b_ind_set,\n",
    "        'UPDRAFT_START': 3000\n",
    "    }\n",
    "\n",
    "    tracks_obj  = tint.Cell_tracks()\n",
    "\n",
    "    for parameter in ['MIN_SIZE', 'FIELD_THRESH', 'GS_ALT', 'LEVELS', \n",
    "                      'TRACK_INTERVAL', 'ISO_THRESH', 'SEARCH_MARGIN',\n",
    "                      'FLOW_MARGIN', 'BOUNDARY_GRID_CELLS', 'UPDRAFT_START'\n",
    "                     ]:\n",
    "        tracks_obj.params[parameter] = settings[parameter]\n",
    "\n",
    "    # Calculate tracks\n",
    "    # %lprun -T lprof0 -f get_filtered_frame_steiner tracks_obj.get_tracks(grids)\n",
    "    tracks_obj.get_tracks(grids)\n",
    "    tracks_obj = cf.get_reanalysis_vars(tracks_obj)\n",
    "\n",
    "    # Create directory for figures\n",
    "    dt=str(datetime.datetime.now())[0:-7]\n",
    "    dt=dt.replace(\" \", \"_\")\n",
    "    dt=dt.replace(\":\", \"_\")\n",
    "    dt=dt.replace(\"-\", \"\")\n",
    "\n",
    "    out_file_name = ('/g/data/w40/esh563/CPOL_analysis/TINT_tracks/'\n",
    "                     + 'tracks_obj_monash.pkl'.format(dt))\n",
    "\n",
    "    with open(out_file_name, 'wb') as f:\n",
    "        pickle.dump(tracks_obj, f)\n",
    "        \n",
    "    return tracks_obj\n",
    "        \n",
    "if __name__ == '__main__':\n",
    "    try:\n",
    "        tracks_obj = test()\n",
    "    except:\n",
    "        extype, value, tb = sys.exc_info()\n",
    "        traceback.print_exc()\n",
    "        pdb.post_mortem(tb)\n",
    "        \n",
    "# print(open('lprof0', 'r').read())"
   ]
  },
  {
   "cell_type": "code",
   "execution_count": 2,
   "metadata": {
    "ExecuteTime": {
     "end_time": "2019-09-15T23:06:01.274046Z",
     "start_time": "2019-09-15T23:06:01.176825Z"
    }
   },
   "outputs": [],
   "source": [
    "with open('/g/data/w40/esh563/CPOL_analysis/TINT_tracks/tracks_obj_test.pkl', 'rb') as f:\n",
    "    tracks_obj = pickle.load(f)"
   ]
  },
  {
   "cell_type": "code",
   "execution_count": 34,
   "metadata": {
    "ExecuteTime": {
     "end_time": "2019-09-15T23:27:35.263656Z",
     "start_time": "2019-09-15T23:27:35.258823Z"
    }
   },
   "outputs": [
    {
     "data": {
      "text/plain": [
       "2.6"
      ]
     },
     "execution_count": 34,
     "metadata": {},
     "output_type": "execute_result"
    }
   ],
   "source": [
    "6.5/2.5"
   ]
  },
  {
   "cell_type": "code",
   "execution_count": 31,
   "metadata": {
    "ExecuteTime": {
     "end_time": "2019-09-15T23:24:29.055551Z",
     "start_time": "2019-09-15T23:24:29.006698Z"
    }
   },
   "outputs": [
    {
     "data": {
      "text/plain": [
       "[[array([6.5, 0. , 2.5]),\n",
       "  array([ 15.5, -12.5,   5. ]),\n",
       "  array([14. , -7.5,  2.5]),\n",
       "  array([ 8.5, -2.5,  0. ]),\n",
       "  array([8., 0., 0.]),\n",
       "  array([8. , 2.5, 0. ])],\n",
       " [array([ 6. , -2.5,  0. ]),\n",
       "  array([4., 0., 0.]),\n",
       "  array([ 2.5, -2.5,  0. ]),\n",
       "  array([ 6. , -2.5,  0. ]),\n",
       "  array([ 7. , -2.5, -2.5]),\n",
       "  array([10.5,  0. ,  0. ]),\n",
       "  array([5., 0., 0.])],\n",
       " [array([ 3.5, -2.5,  0. ]),\n",
       "  array([13. , -7.5,  0. ]),\n",
       "  array([ 15. , -12.5,  -2.5]),\n",
       "  array([15. , -5. ,  2.5]),\n",
       "  array([6., 0., 0.]),\n",
       "  array([ 6.5, -2.5,  0. ])],\n",
       " [array([ 5.5,  0. , -2.5]), array([4., 0., 0.]), array([11.5,  2.5,  0. ])],\n",
       " [array([14.5, -2.5,  7.5]),\n",
       "  array([4.5, 0. , 2.5]),\n",
       "  array([6.5, 2.5, 2.5]),\n",
       "  array([1., 0., 0.]),\n",
       "  array([9.5, 0. , 5. ]),\n",
       "  array([9.5, 0. , 0. ])],\n",
       " [array([4.5, 0. , 0. ]),\n",
       "  array([5., 0., 0.]),\n",
       "  array([ 6. ,  0. , -2.5]),\n",
       "  array([12.5,  2.5,  0. ])],\n",
       " [array([ 2.5,  0. , -2.5]),\n",
       "  array([ 3.5,  0. , -2.5]),\n",
       "  array([1.5, 0. , 0. ]),\n",
       "  array([7. , 0. , 2.5]),\n",
       "  array([ 7.5, -2.5,  0. ]),\n",
       "  array([13. ,  2.5,  2.5])],\n",
       " [array([7.5, 2.5, 0. ]), array([ 4.5,  0. , -2.5])],\n",
       " [array([2.5, 2.5, 0. ]),\n",
       "  array([1.5, 0. , 0. ]),\n",
       "  array([ 7., -5.,  5.]),\n",
       "  array([1., 0., 0.]),\n",
       "  array([3., 0., 0.]),\n",
       "  array([12.5, -5. ,  2.5]),\n",
       "  array([7., 0., 0.]),\n",
       "  array([7. , 2.5, 0. ]),\n",
       "  array([7.5, 0. , 0. ])],\n",
       " [array([7., 0., 0.]), array([6., 0., 0.]), array([11., -5.,  0.])],\n",
       " [array([1. , 0. , 2.5]),\n",
       "  array([5.5, 0. , 0. ]),\n",
       "  array([1.5, 0. , 0. ]),\n",
       "  array([1., 0., 0.]),\n",
       "  array([12.,  0.,  5.]),\n",
       "  array([14. ,  2.5,  0. ]),\n",
       "  array([15. , -2.5,  0. ]),\n",
       "  array([12.5,  0. ,  0. ]),\n",
       "  array([6., 0., 0.])],\n",
       " [array([8.5, 2.5, 0. ]),\n",
       "  array([5. , 2.5, 2.5]),\n",
       "  array([4., 0., 0.]),\n",
       "  array([1.5, 0. , 0. ]),\n",
       "  array([ 9. ,  0. , -2.5])],\n",
       " [array([4.5, 2.5, 0. ]),\n",
       "  array([4., 0., 0.]),\n",
       "  array([12. ,  2.5,  7.5]),\n",
       "  array([ 4.5,  2.5, -2.5]),\n",
       "  array([1.5, 0. , 0. ]),\n",
       "  array([16.5,  7.5,  2.5]),\n",
       "  array([ 5. , -2.5,  0. ]),\n",
       "  array([2., 0., 0.]),\n",
       "  array([5.5, 2.5, 2.5])],\n",
       " [array([5.5, 0. , 0. ]),\n",
       "  array([7.5, 0. , 2.5]),\n",
       "  array([5.5, 0. , 0. ]),\n",
       "  array([10. ,  0. ,  2.5]),\n",
       "  array([4.5, 0. , 0. ]),\n",
       "  array([ 8. ,  0. , -2.5])],\n",
       " [array([ 5.5, -2.5,  0. ]),\n",
       "  array([ 4.5, -2.5, -2.5]),\n",
       "  array([1.5, 2.5, 0. ]),\n",
       "  array([ 7. , -2.5,  2.5]),\n",
       "  array([15.5,  5. , -2.5]),\n",
       "  array([15. , -2.5, 10. ])],\n",
       " [array([12.5, -2.5, -5. ]),\n",
       "  array([6.5, 2.5, 0. ]),\n",
       "  array([12.5,  7.5,  0. ]),\n",
       "  array([ 2.5,  0. , -2.5])],\n",
       " [array([ 7. , -5. ,  2.5]),\n",
       "  array([ 4., -5.,  0.]),\n",
       "  array([5., 5., 0.]),\n",
       "  array([2., 0., 0.]),\n",
       "  array([3., 0., 0.]),\n",
       "  array([ 4.5,  0. , -2.5]),\n",
       "  array([16. ,  2.5,  5. ]),\n",
       "  array([1., 0., 0.]),\n",
       "  array([3., 0., 0.])],\n",
       " [array([7.5, 0. , 2.5]),\n",
       "  array([8., 0., 0.]),\n",
       "  array([16. , -2.5,  0. ]),\n",
       "  array([2., 0., 0.]),\n",
       "  array([6. , 2.5, 0. ]),\n",
       "  array([12.5,  5. , -5. ]),\n",
       "  array([ 4.5,  0. , -2.5]),\n",
       "  array([14.5,  5. ,  5. ]),\n",
       "  array([ 5. ,  0. , -2.5])],\n",
       " [array([ 6.5, -2.5,  2.5]),\n",
       "  array([7., 0., 0.]),\n",
       "  array([4., 0., 0.]),\n",
       "  array([ 7.,  0., -5.]),\n",
       "  array([3.5, 2.5, 2.5]),\n",
       "  array([ 1. , -2.5,  0. ]),\n",
       "  array([1., 0., 0.]),\n",
       "  array([12.,  0.,  5.]),\n",
       "  array([17. , -2.5,  0. ]),\n",
       "  array([2. , 2.5, 0. ]),\n",
       "  array([ 4. ,  0. , -2.5]),\n",
       "  array([ 6.5, -2.5,  0. ])],\n",
       " [array([10.5,  5. ,  2.5]),\n",
       "  array([ 4. ,  0. , -2.5]),\n",
       "  array([ 9. ,  0. , -2.5]),\n",
       "  array([14.5,  2.5,  0. ])],\n",
       " [array([8.5, 0. , 0. ]), array([ 8.5,  2.5, -2.5])],\n",
       " [array([2.5, 0. , 0. ]),\n",
       "  array([3.5, 0. , 0. ]),\n",
       "  array([ 5.5,  0. , -2.5]),\n",
       "  array([6., 0., 0.]),\n",
       "  array([ 4.5, -2.5,  5. ]),\n",
       "  array([0.5, 0. , 0. ]),\n",
       "  array([13. ,  2.5,  2.5]),\n",
       "  array([9.5, 0. , 2.5]),\n",
       "  array([7.5, 0. , 0. ]),\n",
       "  array([ 6. , -2.5,  0. ]),\n",
       "  array([ 4.5,  2.5, -2.5])],\n",
       " [array([13.5,  0. , -2.5]),\n",
       "  array([14.5,  0. , -2.5]),\n",
       "  array([15.,  0.,  5.]),\n",
       "  array([4., 0., 0.]),\n",
       "  array([10. ,  0. , -2.5]),\n",
       "  array([8.5, 2.5, 2.5])],\n",
       " [array([11.,  0.,  0.]), array([10.5,  2.5,  2.5])]]"
      ]
     },
     "execution_count": 31,
     "metadata": {},
     "output_type": "execute_result"
    }
   ],
   "source": [
    "ud = tracks_obj.system_tracks['updrafts']\n",
    "ud_tilt = []\n",
    "for i in range(len(ud)):\n",
    "    ud_i = tracks_obj.system_tracks['updrafts'].iloc[i]\n",
    "    ud_tilt_i = []\n",
    "    for j in range(len(ud_i)):\n",
    "        ud_tilt_i_j = (ud_i[j][-1]-ud_i[j][0])*(.5, 2.5, 2.5)\n",
    "        ud_tilt_i.append(ud_tilt_i_j)\n",
    "    ud_tilt.append(ud_tilt_i)\n",
    "ud_tilt"
   ]
  },
  {
   "cell_type": "code",
   "execution_count": 30,
   "metadata": {
    "ExecuteTime": {
     "end_time": "2019-09-15T23:23:40.160990Z",
     "start_time": "2019-09-15T23:23:28.961707Z"
    }
   },
   "outputs": [
    {
     "name": "stdout",
     "output_type": "stream",
     "text": [
      "Gathering files.\n",
      "Animating 12 frames\n",
      "Plotting frame at 2006-02-10T09:00:09\n",
      "Plotting updraft 5.  \n",
      "Creating GIF - may take a few minutes.\n"
     ]
    },
    {
     "data": {
      "image/png": "[encoded data removed]",
      "text/plain": [
       "<Figure size 432x288 with 1 Axes>"
      ]
     },
     "metadata": {
      "needs_background": "light"
     },
     "output_type": "display_data"
    }
   ],
   "source": [
    "def test():\n",
    "    uid = '0'\n",
    "\n",
    "#     filenames, start_time, end_time = cf.CPOL_files_from_TINT_obj(\n",
    "#         tracks_obj, uid\n",
    "#     )\n",
    "\n",
    "    lon_min = 131.0 - 2.6\n",
    "    lon_max = 131.0 + 2.6\n",
    "\n",
    "    lat_max = -12.2 + 2.6\n",
    "    lat_min = -12.2 - 2.6\n",
    "    \n",
    "    [filenames, start_time, end_time] = cf.CPOL_files_from_datetime_list(\n",
    "        np.arange(np.datetime64('2006-02-10 09:00'), \n",
    "        np.datetime64('2006-02-10 09:10'), \n",
    "        np.timedelta64(10, 'm')))\n",
    "\n",
    "    grids = (pyart.io.read_grid(fn) for fn in filenames)  # refresh grid generator\n",
    "\n",
    "    # Create directory for figures\n",
    "    dt=str(datetime.datetime.now())[0:-7]\n",
    "    dt=dt.replace(\" \", \"_\")\n",
    "    dt=dt.replace(\":\", \"_\")\n",
    "    dt=dt.replace(\"-\", \"\")\n",
    "    \n",
    "    base_path = '/g/data/w40/esh563/CPOL_analysis/figures/TINT/'\n",
    "    out_path = base_path + dt + '_tint_CPOL_lagrangian'\n",
    "    animate(tracks_obj, grids, out_path, style='updraft', uid=uid, \n",
    "            alt_low=3000, alt_high=10000, keep_frames=False, dpi=100,\n",
    "            lat_lines=np.arange(lat_min, lat_max, .2),\n",
    "            lon_lines=np.arange(lon_min, lon_max, .2), \n",
    "            center_ud=True, updraft_ind=None)\n",
    "    \n",
    "if __name__ == '__main__':\n",
    "    try:\n",
    "        test()\n",
    "    except:\n",
    "        extype, value, tb = sys.exc_info()\n",
    "        traceback.print_exc()\n",
    "        pdb.post_mortem(tb)"
   ]
  },
  {
   "cell_type": "code",
   "execution_count": 6,
   "metadata": {
    "ExecuteTime": {
     "end_time": "2019-09-14T08:50:11.181896Z",
     "start_time": "2019-09-14T08:48:47.735563Z"
    },
    "scrolled": false
   },
   "outputs": [
    {
     "name": "stdout",
     "output_type": "stream",
     "text": [
      "Gathering files.\n",
      "Animating from 2006-02-10T09:00 to 2006-02-10T14:40.\n",
      "Plotting scan at 2006-02-10T14:30:09.\n",
      "Reached 2006-02-10T14:40.\n",
      "Breaking loop.\n",
      "\n",
      "Creating GIF - may take a few minutes.\n"
     ]
    }
   ],
   "source": [
    "def test():\n",
    "    lon_min = 131.0 - 1.6\n",
    "    lon_max = 131.0 + 1.6\n",
    "\n",
    "    lat_max = -12.2 + 1.6\n",
    "    lat_min = -12.2 - 1.6\n",
    "\n",
    "    [filenames, start_time, end_time] = cf.CPOL_files_from_datetime_list(\n",
    "        np.arange(np.datetime64('2006-02-10 09:00'), \n",
    "                  np.datetime64('2006-02-10 14:50'), \n",
    "                  np.timedelta64(10, 'm'))\n",
    "    )\n",
    "    \n",
    "    tracks_obj_temp = copy.deepcopy(tracks_obj)\n",
    "#     tracks_obj_temp.tracks = tracks_obj_temp.tracks[sub_cond]\n",
    "#     tracks_obj_temp.system_tracks = tracks_obj_temp.system_tracks[sub_cond_sys]\n",
    "    \n",
    "#     filenames, start_time, end_time = cf.CPOL_files_from_TINT_obj(\n",
    "#         tracks_obj_temp, '7079'\n",
    "#     )\n",
    "\n",
    "    # Generate grid generator \n",
    "    # Note generators produce iterators\n",
    "    # These are alternative to using lists and looping\n",
    "    grids = (pyart.io.read_grid(fn, include_fields = 'reflectivity')\n",
    "             for fn in filenames)\n",
    "\n",
    "    # Create directory for figures\n",
    "    dt=str(datetime.datetime.now())[0:-7]\n",
    "    dt=dt.replace(\" \", \"_\")\n",
    "    dt=dt.replace(\":\", \"_\")\n",
    "    dt=dt.replace(\"-\", \"\")\n",
    "\n",
    "    base_path = '/g/data/w40/esh563/CPOL_analysis/figures/TINT/'\n",
    "    out_path = base_path + dt + '_tint_CPOL_anim'\n",
    "\n",
    "    animate(tracks_obj_temp, grids, out_path,\n",
    "            start_datetime = start_time,\n",
    "            end_datetime = end_time,\n",
    "            lat_lines=np.arange(lat_min, lat_max, .2),\n",
    "            lon_lines=np.arange(lon_min, lon_max, .2),\n",
    "            tracers=False, keep_frames=False, dpi=100, alt_low=3000,\n",
    "            alt_high=9500, scan_boundary=False)\n",
    "    \n",
    "if __name__ == '__main__':\n",
    "    try:\n",
    "        test()\n",
    "    except:\n",
    "        extype, value, tb = sys.exc_info()\n",
    "        traceback.print_exc()\n",
    "        pdb.post_mortem(tb)"
   ]
  },
  {
   "cell_type": "code",
   "execution_count": 11,
   "metadata": {
    "ExecuteTime": {
     "end_time": "2019-09-10T03:34:24.286095Z",
     "start_time": "2019-09-10T03:34:24.200145Z"
    }
   },
   "outputs": [],
   "source": [
    "# Let's filter by tilt direction and magnitude, velocity magnitude\n",
    "# and significant area.\n",
    "eastward_motion = (tracks_obj.system_tracks['u_shift'] > 5)\n",
    "forward_tilt = ((-45 <= tracks_obj.system_tracks['sys_rel_tilt_dir'])\n",
    "                & (tracks_obj.system_tracks['sys_rel_tilt_dir'] <= 45))\n",
    "backward_tilt = ((-135 >= tracks_obj.system_tracks['sys_rel_tilt_dir'])\n",
    "                | (tracks_obj.system_tracks['sys_rel_tilt_dir'] >= 135))\n",
    "left_tilt = ((45 <= tracks_obj.system_tracks['sys_rel_tilt_dir'])\n",
    "                & (tracks_obj.system_tracks['sys_rel_tilt_dir'] <= 135))\n",
    "right_tilt = ((-135 <= tracks_obj.system_tracks['sys_rel_tilt_dir'])\n",
    "                & (tracks_obj.system_tracks['sys_rel_tilt_dir'] <= -45))\n",
    "# # downshear_motion = ((-45 <= tracks_obj.system_tracks['shear_rel_sys_dir'])\n",
    "# #                 & (tracks_obj.system_tracks['shear_rel_sys_dir'] <= 45))\n",
    "# # upshear_motion = ((-135 >= tracks_obj.system_tracks['shear_rel_sys_dir'])\n",
    "# #                  | (tracks_obj.system_tracks['shear_rel_sys_dir'] >= 135))\n",
    "# sig_shear_mag = (tracks_obj.system_tracks['shear_mag'] >= 2)\n",
    "sig_tilt_mag = (tracks_obj.system_tracks['tilt_mag'] >= 20000)\n",
    "vel_mag = np.sqrt(tracks_obj.system_tracks['u']**2 \n",
    "                  + tracks_obj.system_tracks['v']**2)\n",
    "sig_vel_mag = ((vel_mag >= 5) & (vel_mag <= 40))\n",
    "eccentricity_mag = tracks_obj.system_tracks['eccentricity'] > .85\n",
    "# Note for CPOL 2.5 km, total scan area is only 66052 km^2. This makes \n",
    "# traditional MCS definitions of area > 30000 km^2 difficult to apply, \n",
    "# and still coherently calculate tilt. \n",
    "sig_area = ((tracks_obj.system_tracks['proj_area'] >= 4000) & \n",
    "            (tracks_obj.system_tracks['proj_area'] <= 50000))\n",
    "not_border = (tracks_obj.system_tracks['touch_border']*6.25 / tracks_obj.system_tracks['proj_area']) < 0.01\n",
    "\n",
    "tracks_0 = tracks_obj.tracks[['touch_border', 'proj_area']].xs(\n",
    "    0, level='level'\n",
    ")\n",
    "not_border_0 = (tracks_0['touch_border'] * 6.25 / tracks_0['proj_area']) < 0.01"
   ]
  },
  {
   "cell_type": "code",
   "execution_count": 15,
   "metadata": {
    "ExecuteTime": {
     "end_time": "2019-09-10T03:39:35.673749Z",
     "start_time": "2019-09-10T03:39:35.136532Z"
    }
   },
   "outputs": [
    {
     "data": {
      "text/plain": [
       "uid\n",
       "14809    32\n",
       "5260     31\n",
       "2986     28\n",
       "824      25\n",
       "4948     25\n",
       "9585     24\n",
       "14960    23\n",
       "3115     23\n",
       "5662     23\n",
       "11065    22\n",
       "5874     22\n",
       "9102     22\n",
       "5545     22\n",
       "7365     21\n",
       "13851    21\n",
       "5502     21\n",
       "2834     21\n",
       "3619     20\n",
       "11020    20\n",
       "9663     20\n",
       "dtype: int64"
      ]
     },
     "execution_count": 15,
     "metadata": {},
     "output_type": "execute_result"
    }
   ],
   "source": [
    "# Let's find the cells that were tracked for the most frames.\n",
    "sub_cond_sys = sig_tilt_mag & sig_vel_mag & sig_area & not_border & not_border_0\n",
    "sub_cond = sub_cond_sys.append([sub_cond_sys]*2).sort_index(sort_remaining=True)\n",
    "levels = np.array([0,1,2]*len(sub_cond_sys))\n",
    "\n",
    "sub_cond = sub_cond.to_frame()\n",
    "sub_cond.insert(0, 'level', levels)\n",
    "sub_cond = sub_cond.reset_index()\n",
    "\n",
    "sub_cond = sub_cond.set_index(['scan', 'time', 'level', 'uid'])\n",
    "# sub_cond = sub_cond.ix[:,0]\n",
    "# tracks_obj.tracks[sub_cond]\n",
    "tracks_obj.system_tracks[sub_cond_sys].groupby(level='uid').size().sort_values(ascending=False)[:20]"
   ]
  },
  {
   "cell_type": "code",
   "execution_count": 14,
   "metadata": {
    "ExecuteTime": {
     "end_time": "2019-09-05T07:44:26.710868Z",
     "start_time": "2019-09-05T07:44:26.678551Z"
    }
   },
   "outputs": [
    {
     "data": {
      "text/plain": [
       "scan   time               \n",
       "52165  2003-01-24 17:50:00    12137.50\n",
       "52166  2003-01-24 18:00:00    12118.75\n",
       "52167  2003-01-24 18:10:03    11450.00\n",
       "52169  2003-01-24 18:30:01    10712.50\n",
       "52171  2003-01-24 18:50:00     9662.50\n",
       "52172  2003-01-24 19:00:00     8337.50\n",
       "52173  2003-01-24 19:10:03     4225.00\n",
       "Name: proj_area, dtype: float64"
      ]
     },
     "execution_count": 14,
     "metadata": {},
     "output_type": "execute_result"
    }
   ],
   "source": [
    "tracks_obj.system_tracks[sub_cond_sys].xs('5732', level='uid')['proj_area']"
   ]
  },
  {
   "cell_type": "markdown",
   "metadata": {},
   "source": [
    "# Calculate Some Statistics"
   ]
  },
  {
   "cell_type": "code",
   "execution_count": 34,
   "metadata": {
    "ExecuteTime": {
     "end_time": "2019-09-05T08:39:49.637496Z",
     "start_time": "2019-09-05T08:39:39.314804Z"
    }
   },
   "outputs": [],
   "source": [
    "subset_logic = sig_area & not_border & sig_vel_mag & sig_tilt_mag & not_border_0 & eccentricity_mag\n",
    "\n",
    "sub_tracks = tracks_obj.system_tracks[subset_logic]\n",
    "sub_uids = list(sorted(set([int(sub_tracks.index.values[i][2]) for i in range(len(sub_tracks))])))\n",
    "sub_uids = [str(i) for i in sub_uids]\n",
    "\n",
    "MCS_lengths = [len(sub_tracks.xs(i, level='uid').reset_index(level='time').index.values) for i in sub_uids]\n",
    "\n",
    "max_MCS = max(MCS_lengths)\n",
    "\n",
    "# Create 3 lists with lengths the lifetime of longest object.\n",
    "[TS, LS, PS] = [np.zeros(80) for i in range(3)]\n",
    "\n",
    "for i in sub_uids:\n",
    "    obj = sub_tracks.xs(i, level='uid').reset_index(level='time')\n",
    "    scans = obj.index.values\n",
    "    scan_label = scans - min(scans)\n",
    "    tilts = obj['sys_rel_tilt_dir']\n",
    "\n",
    "    forward_tilt = ((-45 <= tilts) & (tilts <= 45))\n",
    "    backward_tilt = ((-135 >= tilts) | (tilts >= 135))\n",
    "\n",
    "    fwd_inds = scan_label[np.argwhere(forward_tilt).flatten().tolist()].tolist()\n",
    "    bwd_inds = scan_label[np.argwhere(backward_tilt).flatten().tolist()].tolist()\n",
    "    pll_inds = scan_label[np.argwhere(~backward_tilt & ~forward_tilt).flatten().tolist()].tolist()\n",
    "\n",
    "    TS[bwd_inds] += 1\n",
    "    LS[fwd_inds] += 1\n",
    "    PS[pll_inds] += 1"
   ]
  },
  {
   "cell_type": "code",
   "execution_count": 35,
   "metadata": {
    "ExecuteTime": {
     "end_time": "2019-09-05T08:39:49.901686Z",
     "start_time": "2019-09-05T08:39:49.639721Z"
    }
   },
   "outputs": [
    {
     "data": {
      "image/png": "[encoded data removed]",
      "text/plain": [
       "<Figure size 432x288 with 1 Axes>"
      ]
     },
     "metadata": {
      "needs_background": "light"
     },
     "output_type": "display_data"
    }
   ],
   "source": [
    "plt.plot(np.arange(30,300,10), TS[3:30], label='TS count')\n",
    "plt.plot(np.arange(30,300,10), LS[3:30], label='LS count')\n",
    "plt.plot(np.arange(30,300,10), PS[3:30], label='PS count')\n",
    "plt.plot(np.arange(30,300,10), (TS+PS+LS)[3:30], label='Total count')\n",
    "plt.xticks(np.arange(30,300,30))\n",
    "plt.ylabel('Count [-]')\n",
    "plt.xlabel('Time since Initiation [m]')\n",
    "plt.legend()\n",
    "plt.savefig('/g/data/w40/esh563/CPOL_analysis/figures/TINT/counts.png')"
   ]
  },
  {
   "cell_type": "code",
   "execution_count": 36,
   "metadata": {
    "ExecuteTime": {
     "end_time": "2019-09-05T08:39:53.616946Z",
     "start_time": "2019-09-05T08:39:53.320911Z"
    }
   },
   "outputs": [
    {
     "data": {
      "image/png": "[encoded data removed]",
      "text/plain": [
       "<Figure size 432x288 with 1 Axes>"
      ]
     },
     "metadata": {
      "needs_background": "light"
     },
     "output_type": "display_data"
    }
   ],
   "source": [
    "tot = (TS+PS+LS)\n",
    "\n",
    "plt.plot(np.arange(30,300,10), (TS/tot)[3:30], label='TS ratio')\n",
    "plt.plot(np.arange(30,300,10), (LS/tot)[3:30], label='LS ratio')\n",
    "plt.plot(np.arange(30,300,10), (PS/tot)[3:30], label='PS ratio')\n",
    "plt.xticks(np.arange(30,300,30))\n",
    "plt.ylabel('Ratio [-]')\n",
    "plt.xlabel('Time since Initiation [m]')\n",
    "plt.legend()\n",
    "# Note that we don't really know the start times of the systems!\n",
    "plt.savefig('/g/data/w40/esh563/CPOL_analysis/figures/TINT/ratios.png')"
   ]
  }
 ],
 "metadata": {
  "kernelspec": {
   "display_name": "Python 3",
   "language": "python",
   "name": "python3"
  },
  "language_info": {
   "codemirror_mode": {
    "name": "ipython",
    "version": 3
   },
   "file_extension": ".py",
   "mimetype": "text/x-python",
   "name": "python",
   "nbconvert_exporter": "python",
   "pygments_lexer": "ipython3",
   "version": "3.6.7"
  },
  "toc": {
   "base_numbering": 1,
   "nav_menu": {},
   "number_sections": true,
   "sideBar": true,
   "skip_h1_title": false,
   "title_cell": "Table of Contents",
   "title_sidebar": "Contents",
   "toc_cell": false,
   "toc_position": {},
   "toc_section_display": true,
   "toc_window_display": false
  }
 },
 "nbformat": 4,
 "nbformat_minor": 2
}
