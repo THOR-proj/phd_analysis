{
 "cells": [
  {
   "cell_type": "markdown",
   "metadata": {},
   "source": [
    "# Setup"
   ]
  },
  {
   "cell_type": "code",
   "execution_count": 1,
   "metadata": {
    "ExecuteTime": {
     "end_time": "2020-01-22T08:55:26.683346Z",
     "start_time": "2020-01-22T08:55:16.934064Z"
    },
    "scrolled": true
   },
   "outputs": [
    {
     "name": "stdout",
     "output_type": "stream",
     "text": [
      "\n",
      "## You are using the Python ARM Radar Toolkit (Py-ART), an open source\n",
      "## library for working with weather radar data. Py-ART is partly\n",
      "## supported by the U.S. Department of Energy as part of the Atmospheric\n",
      "## Radiation Measurement (ARM) Climate Research Facility, an Office of\n",
      "## Science user facility.\n",
      "##\n",
      "## If you use this software to prepare a publication, please cite:\n",
      "##\n",
      "##     JJ Helmus and SM Collis, JORS 2016, doi: 10.5334/jors.119\n",
      "\n"
     ]
    },
    {
     "name": "stderr",
     "output_type": "stream",
     "text": [
      "/home/563/esh563/pyart/pyart/graph/cm.py:104: FutureWarning: elementwise comparison failed; returning scalar instead, but in the future will perform elementwise comparison\n",
      "  if 'red' in spec:\n",
      "/home/563/esh563/pyart/pyart/graph/cm_colorblind.py:32: FutureWarning: elementwise comparison failed; returning scalar instead, but in the future will perform elementwise comparison\n",
      "  if 'red' in spec:\n"
     ]
    }
   ],
   "source": [
    "# Core\n",
    "import datetime\n",
    "import os\n",
    "import glob\n",
    "import tempfile\n",
    "import sys\n",
    "import pickle\n",
    "import copy\n",
    "\n",
    "# Analysis\n",
    "import numpy as np\n",
    "import pandas as pd\n",
    "import xarray as xr\n",
    "\n",
    "# Plotting\n",
    "import matplotlib.pyplot as plt\n",
    "import matplotlib as mpl\n",
    "\n",
    "# Debugging\n",
    "import pdb, traceback\n",
    "%load_ext line_profiler\n",
    "\n",
    "# Radar Tools\n",
    "import pyart\n",
    "import tint\n",
    "import tint.visualization\n",
    "import tint.visualization_aux\n",
    "from tint import animate"
   ]
  },
  {
   "cell_type": "code",
   "execution_count": 2,
   "metadata": {
    "ExecuteTime": {
     "end_time": "2020-01-22T08:55:26.705542Z",
     "start_time": "2020-01-22T08:55:26.686278Z"
    }
   },
   "outputs": [],
   "source": [
    "import CPOL_func as cf\n",
    "import caine_func as caf\n",
    "import helpers"
   ]
  },
  {
   "cell_type": "code",
   "execution_count": 3,
   "metadata": {
    "ExecuteTime": {
     "end_time": "2020-01-22T08:55:26.794906Z",
     "start_time": "2020-01-22T08:55:26.708163Z"
    }
   },
   "outputs": [],
   "source": [
    "# Convenience functions\n",
    "%load_ext autoreload\n",
    "%autoreload 1\n",
    "%aimport CPOL_func\n",
    "%aimport caine_func\n",
    "%aimport tint.visualization\n",
    "%aimport tint.visualization_aux\n",
    "%aimport tint.tracks\n",
    "%aimport tint.objects\n",
    "%aimport tint.grid_utils\n",
    "%aimport helpers"
   ]
  },
  {
   "cell_type": "markdown",
   "metadata": {},
   "source": [
    "# Create Tracks"
   ]
  },
  {
   "cell_type": "code",
   "execution_count": 29,
   "metadata": {
    "ExecuteTime": {
     "end_time": "2020-01-22T09:05:11.250170Z",
     "start_time": "2020-01-22T09:05:11.246427Z"
    }
   },
   "outputs": [],
   "source": [
    "mp='reality'"
   ]
  },
  {
   "cell_type": "code",
   "execution_count": 6,
   "metadata": {
    "ExecuteTime": {
     "end_time": "2020-01-22T08:51:32.945170Z",
     "start_time": "2020-01-22T08:51:22.620256Z"
    },
    "scrolled": false
   },
   "outputs": [
    {
     "name": "stdout",
     "output_type": "stream",
     "text": [
      "Gathering files.\n",
      "Calculating additional tracks properties.\n",
      "Calculating system tracks.\n",
      "\n",
      "\n",
      "Time elapsed: 0.2 minutes\n"
     ]
    }
   ],
   "source": [
    "def test():\n",
    "    filenames = cf.CPOL_files_from_datetime_list(\n",
    "        np.arange(np.datetime64('2003-01-12 10:00'), \n",
    "                  np.datetime64('2003-01-12 16:00'), \n",
    "                  np.timedelta64(10, 'm'))\n",
    "    )[0]\n",
    "    \n",
    "#     [filenames, start_time, end_time] = caf.caine_files_from_datetime_list(\n",
    "#         np.arange(np.datetime64('2006-02-09 00:00'), \n",
    "#                   np.datetime64('2006-02-13 12:30'), \n",
    "#                   np.timedelta64(10, 'm')), mp=mp\n",
    "#     )\n",
    "\n",
    "    # Generate grid generator \n",
    "    # Note generators produce iterators\n",
    "    # These are alternative to using lists and looping\n",
    "    grids = (pyart.io.read_grid(fn, include_fields = ['reflectivity', 'radar_estimated_rain_rate'])\n",
    "             for fn in filenames)\n",
    "\n",
    "    with open('/g/data/w40/esh563/CPOL_analysis/TINT_tracks/circ_b_ind_set.pkl', \n",
    "              'rb') as f:\n",
    "        b_ind_set = pickle.load(f)\n",
    "\n",
    "    # Define settings for tracking\n",
    "    settings = {\n",
    "        'MIN_SIZE' : [40, 400, 800], # square km\n",
    "        'FIELD_THRESH' : ['convective', 20, 15], # DbZ\n",
    "        'ISO_THRESH' : [10, 10, 10], # DbZ\n",
    "        'GS_ALT' : 3000,\n",
    "        'SEARCH_MARGIN' : 50000, # m. This is just for object matching step:\n",
    "        # does not affect flow vectors. Note CPOL cells 2500mx2500m. \n",
    "        'FLOW_MARGIN' : 40000, # m. Margin around object over which to\n",
    "        # perform phase correlation.\n",
    "        'LEVELS' : np.array( # m\n",
    "            [[3000, 3500], \n",
    "             [3500, 7500],\n",
    "             [7500, 10000]]\n",
    "        ),\n",
    "        'TRACK_INTERVAL' : 0,\n",
    "        'BOUNDARY_GRID_CELLS' : b_ind_set,\n",
    "        'UPDRAFT_START': 3000\n",
    "    }\n",
    "\n",
    "    tracks_obj  = tint.Cell_tracks()\n",
    "\n",
    "    for parameter in ['MIN_SIZE', 'FIELD_THRESH', 'GS_ALT', 'LEVELS', \n",
    "                      'TRACK_INTERVAL', 'ISO_THRESH', 'SEARCH_MARGIN',\n",
    "                      'FLOW_MARGIN', 'BOUNDARY_GRID_CELLS', 'UPDRAFT_START'\n",
    "                     ]:\n",
    "        tracks_obj.params[parameter] = settings[parameter]\n",
    "\n",
    "    # Create directory for figures\n",
    "    dt=str(datetime.datetime.now())[0:-7]\n",
    "    dt=dt.replace(\" \", \"_\")\n",
    "    dt=dt.replace(\":\", \"_\")\n",
    "    dt=dt.replace(\"-\", \"\")\n",
    "        \n",
    "    # Calculate tracks\n",
    "#     %lprun -T lprof0 -f tint.tracks.Cell_tracks.get_tracks tracks_obj.get_tracks(grids)\n",
    "    tracks_obj.get_tracks(grids, rain=True, dt=dt)\n",
    "    #tracks_obj = cf.get_reanalysis_vars(tracks_obj)\n",
    " \n",
    "    out_file_name = ('/g/data/w40/esh563/CPOL_analysis/TINT_tracks/'\n",
    "                     + 'tracks_obj_{}_{}.pkl'.format(mp,dt))\n",
    "\n",
    "#     with open(out_file_name, 'wb') as f:\n",
    "#         pickle.dump(tracks_obj, f)\n",
    "        \n",
    "    return tracks_obj\n",
    "        \n",
    "if __name__ == '__main__':\n",
    "    try:\n",
    "        tracks_obj = test()\n",
    "    except:\n",
    "        extype, value, tb = sys.exc_info()\n",
    "        traceback.print_exc()\n",
    "        pdb.post_mortem(tb)\n",
    "        \n",
    "# print(open('lprof0', 'r').read())"
   ]
  },
  {
   "cell_type": "markdown",
   "metadata": {},
   "source": [
    "# Load Tracks"
   ]
  },
  {
   "cell_type": "code",
   "execution_count": 4,
   "metadata": {
    "ExecuteTime": {
     "end_time": "2020-01-22T08:56:10.373208Z",
     "start_time": "2020-01-22T08:55:26.803082Z"
    }
   },
   "outputs": [],
   "source": [
    "with open('/g/data/w40/esh563/CPOL_analysis/TINT_tracks/tracks_obj_com_2001_2014.pkl', 'rb') as f:\n",
    "    tracks_obj = pickle.load(f)"
   ]
  },
  {
   "cell_type": "markdown",
   "metadata": {
    "ExecuteTime": {
     "end_time": "2020-01-15T23:20:40.615067Z",
     "start_time": "2020-01-15T23:20:40.606747Z"
    }
   },
   "source": [
    "# Create Animations"
   ]
  },
  {
   "cell_type": "code",
   "execution_count": null,
   "metadata": {
    "ExecuteTime": {
     "start_time": "2020-01-22T09:06:45.077Z"
    },
    "scrolled": false
   },
   "outputs": [],
   "source": [
    "def test():\n",
    "    lon_min = 131.0 - 1.6\n",
    "    lon_max = 131.0 + 1.6\n",
    "\n",
    "    lat_max = -12.2 + 1.6\n",
    "    lat_min = -12.2 - 1.6\n",
    "    \n",
    "    tracks_obj_temp = tracks_obj\n",
    "\n",
    "#     filenames, start_time, end_time = caf.caine_files_from_TINT_obj(\n",
    "#         tracks_obj_temp, '13', mp=mp\n",
    "#     )\n",
    "    \n",
    "    [filenames, start_time, end_time] = cf.CPOL_files_from_datetime_list(\n",
    "        np.arange(np.datetime64('2003-01-11 11:50'), \n",
    "                  np.datetime64('2003-01-11 17:00'), \n",
    "                  np.timedelta64(10, 'm'))\n",
    "    )\n",
    "\n",
    "#     [filenames, start_time, end_time] = caf.caine_files_from_datetime_list(\n",
    "#         np.arange(np.datetime64('2006-02-09 10:00'), \n",
    "#                   np.datetime64('2006-02-09 11:00'), \n",
    "#                   np.timedelta64(10, 'm')), mp='lin'\n",
    "#     )\n",
    "    \n",
    "#     tracks_obj_temp.tracks = tracks_obj_temp.tracks[sub_cond]\n",
    "#     tracks_obj_temp.system_tracks = tracks_obj_temp.system_tracks[sub_cond_sys]\n",
    "\n",
    "    # Generate grid generator \n",
    "    # Note generators produce iterators\n",
    "    # These are alternative to using lists and looping\n",
    "    grids = (pyart.io.read_grid(fn, include_fields = 'reflectivity')\n",
    "             for fn in filenames)\n",
    "\n",
    "    # Create directory for figures\n",
    "    dt=str(datetime.datetime.now())[0:-7]\n",
    "    dt=dt.replace(\" \", \"_\")\n",
    "    dt=dt.replace(\":\", \"_\")\n",
    "    dt=dt.replace(\"-\", \"\")\n",
    "\n",
    "    base_path = '/g/data/w40/esh563/CPOL_analysis/figures/TINT/'\n",
    "    out_path = base_path + dt + '_tint_CPOL_anim'\n",
    "\n",
    "    animate(tracks_obj_temp, grids, out_path,\n",
    "            start_datetime = start_time,\n",
    "            end_datetime = end_time,\n",
    "            lat_lines=np.arange(lat_min, lat_max, .2),\n",
    "            lon_lines=np.arange(lon_min, lon_max, .2),\n",
    "            tracers=False, keep_frames=False, dpi=100, alt_low=3000,\n",
    "            alt_high=10000, scan_boundary=False, wrf_winds=False, \n",
    "            line_coords=False, mp=mp, rain=False)\n",
    "    \n",
    "if __name__ == '__main__':\n",
    "    try:\n",
    "        test()\n",
    "    except:\n",
    "        extype, value, tb = sys.exc_info()\n",
    "        traceback.print_exc()\n",
    "        pdb.post_mortem(tb)"
   ]
  },
  {
   "cell_type": "code",
   "execution_count": null,
   "metadata": {
    "ExecuteTime": {
     "end_time": "2020-01-12T22:50:26.359289Z",
     "start_time": "2020-01-12T22:50:26.135637Z"
    },
    "scrolled": true
   },
   "outputs": [],
   "source": [
    "def test():\n",
    "    uid = '13'\n",
    "    filenames, start_time, end_time = caf.caine_files_from_TINT_obj(\n",
    "        tracks_obj, uid, mp=mp    \n",
    "    )\n",
    "\n",
    "    lon_min = 131.0 - 2.6\n",
    "    lon_max = 131.0 + 2.6\n",
    "\n",
    "    lat_max = -12.2 + 2.6\n",
    "    lat_min = -12.2 - 2.6\n",
    "    \n",
    "#     [filenames, start_time, end_time] = cf.CPOL_files_from_datetime_list(\n",
    "#         np.arange(np.datetime64('2003-12-20 08:20'), \n",
    "#                   np.datetime64('2003-12-20 08:30'), \n",
    "#                   np.timedelta64(10, 'm'))\n",
    "#     )\n",
    "\n",
    "#     [filenames, start_time, end_time] = caf.caine_files_from_datetime_list(\n",
    "#         np.arange(np.datetime64('2006-02-09 10:30'), \n",
    "#                   np.datetime64('2006-02-09 10:40'), \n",
    "#                   np.timedelta64(10, 'm')), mp=mp\n",
    "#     )\n",
    "\n",
    "    grids = (pyart.io.read_grid(fn) for fn in filenames)  \n",
    "    # refresh grid generator\n",
    "\n",
    "    # Create directory for figures\n",
    "    dt=str(datetime.datetime.now())[0:-7]\n",
    "    dt=dt.replace(\" \", \"_\")\n",
    "    dt=dt.replace(\":\", \"_\")\n",
    "    dt=dt.replace(\"-\", \"\")\n",
    "    \n",
    "    base_path = '/g/data/w40/esh563/CPOL_analysis/figures/TINT/'\n",
    "    out_path = base_path + dt + '_tint_CPOL_lagrangian'\n",
    "    animate(tracks_obj, grids, out_path, style='updraft', uid=uid, \n",
    "            alt_low=3000, alt_high=10000, keep_frames=False, dpi=100,\n",
    "            lat_lines=np.arange(lat_min, lat_max, .2),\n",
    "            lon_lines=np.arange(lon_min, lon_max, .2), \n",
    "            center_ud=False, wrf_winds=True, line_coords=True,\n",
    "            average_along_line=True, quiver=False, mp=mp)\n",
    "    \n",
    "if __name__ == '__main__':\n",
    "    try:\n",
    "        test()\n",
    "    except:\n",
    "        extype, value, tb = sys.exc_info()\n",
    "        traceback.print_exc()\n",
    "        pdb.post_mortem(tb)"
   ]
  },
  {
   "cell_type": "markdown",
   "metadata": {},
   "source": [
    "# Create Categories"
   ]
  },
  {
   "cell_type": "code",
   "execution_count": 11,
   "metadata": {
    "ExecuteTime": {
     "end_time": "2020-01-22T08:57:28.193423Z",
     "start_time": "2020-01-22T08:57:18.188306Z"
    },
    "scrolled": true
   },
   "outputs": [],
   "source": [
    "categories = helpers.create_categories(tracks_obj)"
   ]
  },
  {
   "cell_type": "code",
   "execution_count": 21,
   "metadata": {
    "ExecuteTime": {
     "end_time": "2020-01-22T09:01:23.880570Z",
     "start_time": "2020-01-22T09:01:23.790038Z"
    }
   },
   "outputs": [
    {
     "data": {
      "text/plain": [
       "uid\n",
       "0        7.0\n",
       "1       10.0\n",
       "10       4.0\n",
       "100      0.0\n",
       "1000     3.0\n",
       "        ... \n",
       "9995    15.0\n",
       "9996    17.0\n",
       "9997     4.0\n",
       "9998    13.0\n",
       "9999    20.0\n",
       "Name: par_align, Length: 25948, dtype: float64"
      ]
     },
     "execution_count": 21,
     "metadata": {},
     "output_type": "execute_result"
    }
   ],
   "source": [
    "categories['par_align'].groupby(level='uid').sum()"
   ]
  },
  {
   "cell_type": "code",
   "execution_count": 25,
   "metadata": {
    "ExecuteTime": {
     "end_time": "2020-01-22T09:02:46.413107Z",
     "start_time": "2020-01-22T09:02:46.395000Z"
    }
   },
   "outputs": [],
   "source": [
    "subset_logic = categories['not_border'] & categories['not_border_0'] & ~categories['large_area'] & ~categories['small_area'] & categories['linear'] & ~categories['stationary'] & categories['sig_vel_mag']\n",
    "sub_cat = categories[subset_logic]"
   ]
  },
  {
   "cell_type": "code",
   "execution_count": 26,
   "metadata": {
    "ExecuteTime": {
     "end_time": "2020-01-22T09:02:51.901402Z",
     "start_time": "2020-01-22T09:02:51.875834Z"
    }
   },
   "outputs": [
    {
     "data": {
      "text/plain": [
       "uid\n",
       "2700     20.0\n",
       "1605     19.0\n",
       "10240    18.0\n",
       "12038    16.0\n",
       "2001     15.0\n",
       "7970     14.0\n",
       "1561     14.0\n",
       "6845     14.0\n",
       "8089     13.0\n",
       "22990    13.0\n",
       "6738     13.0\n",
       "12047    13.0\n",
       "1552     12.0\n",
       "2688     12.0\n",
       "2993     12.0\n",
       "3733     12.0\n",
       "2657     12.0\n",
       "1390     11.0\n",
       "2103     11.0\n",
       "3763     11.0\n",
       "Name: par_align, dtype: float64"
      ]
     },
     "execution_count": 26,
     "metadata": {},
     "output_type": "execute_result"
    }
   ],
   "source": [
    "sub_cat['par_align'].groupby(level='uid').sum().sort_values(ascending=False)[:20]"
   ]
  },
  {
   "cell_type": "code",
   "execution_count": 27,
   "metadata": {
    "ExecuteTime": {
     "end_time": "2020-01-22T09:03:29.958313Z",
     "start_time": "2020-01-22T09:03:29.884450Z"
    }
   },
   "outputs": [
    {
     "data": {
      "text/html": [
       "<div>\n",
       "<style scoped>\n",
       "    .dataframe tbody tr th:only-of-type {\n",
       "        vertical-align: middle;\n",
       "    }\n",
       "\n",
       "    .dataframe tbody tr th {\n",
       "        vertical-align: top;\n",
       "    }\n",
       "\n",
       "    .dataframe thead th {\n",
       "        text-align: right;\n",
       "    }\n",
       "</style>\n",
       "<table border=\"1\" class=\"dataframe\">\n",
       "  <thead>\n",
       "    <tr style=\"text-align: right;\">\n",
       "      <th></th>\n",
       "      <th></th>\n",
       "      <th>eastward_motion</th>\n",
       "      <th>forward_tilt</th>\n",
       "      <th>backward_tilt</th>\n",
       "      <th>left_tilt</th>\n",
       "      <th>right_tilt</th>\n",
       "      <th>sig_tilt_mag</th>\n",
       "      <th>sig_vel_mag</th>\n",
       "      <th>stationary</th>\n",
       "      <th>linear</th>\n",
       "      <th>small_area</th>\n",
       "      <th>large_area</th>\n",
       "      <th>not_border</th>\n",
       "      <th>not_border_0</th>\n",
       "      <th>perp_align</th>\n",
       "      <th>par_align</th>\n",
       "    </tr>\n",
       "    <tr>\n",
       "      <th>scan</th>\n",
       "      <th>time</th>\n",
       "      <th></th>\n",
       "      <th></th>\n",
       "      <th></th>\n",
       "      <th></th>\n",
       "      <th></th>\n",
       "      <th></th>\n",
       "      <th></th>\n",
       "      <th></th>\n",
       "      <th></th>\n",
       "      <th></th>\n",
       "      <th></th>\n",
       "      <th></th>\n",
       "      <th></th>\n",
       "      <th></th>\n",
       "      <th></th>\n",
       "    </tr>\n",
       "  </thead>\n",
       "  <tbody>\n",
       "    <tr>\n",
       "      <td>9809</td>\n",
       "      <td>2003-01-11 11:50:00</td>\n",
       "      <td>False</td>\n",
       "      <td>False</td>\n",
       "      <td>False</td>\n",
       "      <td>False</td>\n",
       "      <td>True</td>\n",
       "      <td>True</td>\n",
       "      <td>True</td>\n",
       "      <td>False</td>\n",
       "      <td>True</td>\n",
       "      <td>False</td>\n",
       "      <td>False</td>\n",
       "      <td>True</td>\n",
       "      <td>True</td>\n",
       "      <td>False</td>\n",
       "      <td>True</td>\n",
       "    </tr>\n",
       "    <tr>\n",
       "      <td>9812</td>\n",
       "      <td>2003-01-11 12:20:00</td>\n",
       "      <td>False</td>\n",
       "      <td>False</td>\n",
       "      <td>True</td>\n",
       "      <td>False</td>\n",
       "      <td>False</td>\n",
       "      <td>True</td>\n",
       "      <td>True</td>\n",
       "      <td>False</td>\n",
       "      <td>True</td>\n",
       "      <td>False</td>\n",
       "      <td>False</td>\n",
       "      <td>True</td>\n",
       "      <td>True</td>\n",
       "      <td>False</td>\n",
       "      <td>True</td>\n",
       "    </tr>\n",
       "    <tr>\n",
       "      <td>9813</td>\n",
       "      <td>2003-01-11 12:30:00</td>\n",
       "      <td>False</td>\n",
       "      <td>False</td>\n",
       "      <td>False</td>\n",
       "      <td>False</td>\n",
       "      <td>True</td>\n",
       "      <td>True</td>\n",
       "      <td>True</td>\n",
       "      <td>False</td>\n",
       "      <td>True</td>\n",
       "      <td>False</td>\n",
       "      <td>False</td>\n",
       "      <td>True</td>\n",
       "      <td>True</td>\n",
       "      <td>True</td>\n",
       "      <td>False</td>\n",
       "    </tr>\n",
       "    <tr>\n",
       "      <td>9814</td>\n",
       "      <td>2003-01-11 12:40:00</td>\n",
       "      <td>False</td>\n",
       "      <td>False</td>\n",
       "      <td>False</td>\n",
       "      <td>False</td>\n",
       "      <td>True</td>\n",
       "      <td>True</td>\n",
       "      <td>True</td>\n",
       "      <td>False</td>\n",
       "      <td>True</td>\n",
       "      <td>False</td>\n",
       "      <td>False</td>\n",
       "      <td>True</td>\n",
       "      <td>True</td>\n",
       "      <td>False</td>\n",
       "      <td>True</td>\n",
       "    </tr>\n",
       "    <tr>\n",
       "      <td>9815</td>\n",
       "      <td>2003-01-11 12:50:00</td>\n",
       "      <td>False</td>\n",
       "      <td>False</td>\n",
       "      <td>False</td>\n",
       "      <td>False</td>\n",
       "      <td>True</td>\n",
       "      <td>True</td>\n",
       "      <td>True</td>\n",
       "      <td>False</td>\n",
       "      <td>True</td>\n",
       "      <td>False</td>\n",
       "      <td>False</td>\n",
       "      <td>True</td>\n",
       "      <td>True</td>\n",
       "      <td>False</td>\n",
       "      <td>True</td>\n",
       "    </tr>\n",
       "    <tr>\n",
       "      <td>9816</td>\n",
       "      <td>2003-01-11 13:00:00</td>\n",
       "      <td>False</td>\n",
       "      <td>False</td>\n",
       "      <td>False</td>\n",
       "      <td>False</td>\n",
       "      <td>True</td>\n",
       "      <td>True</td>\n",
       "      <td>True</td>\n",
       "      <td>False</td>\n",
       "      <td>True</td>\n",
       "      <td>False</td>\n",
       "      <td>False</td>\n",
       "      <td>True</td>\n",
       "      <td>True</td>\n",
       "      <td>False</td>\n",
       "      <td>True</td>\n",
       "    </tr>\n",
       "    <tr>\n",
       "      <td>9817</td>\n",
       "      <td>2003-01-11 13:10:03</td>\n",
       "      <td>False</td>\n",
       "      <td>False</td>\n",
       "      <td>False</td>\n",
       "      <td>False</td>\n",
       "      <td>True</td>\n",
       "      <td>True</td>\n",
       "      <td>True</td>\n",
       "      <td>False</td>\n",
       "      <td>True</td>\n",
       "      <td>False</td>\n",
       "      <td>False</td>\n",
       "      <td>True</td>\n",
       "      <td>True</td>\n",
       "      <td>False</td>\n",
       "      <td>True</td>\n",
       "    </tr>\n",
       "    <tr>\n",
       "      <td>9823</td>\n",
       "      <td>2003-01-11 14:10:03</td>\n",
       "      <td>False</td>\n",
       "      <td>False</td>\n",
       "      <td>True</td>\n",
       "      <td>False</td>\n",
       "      <td>False</td>\n",
       "      <td>True</td>\n",
       "      <td>True</td>\n",
       "      <td>False</td>\n",
       "      <td>True</td>\n",
       "      <td>False</td>\n",
       "      <td>False</td>\n",
       "      <td>True</td>\n",
       "      <td>True</td>\n",
       "      <td>False</td>\n",
       "      <td>True</td>\n",
       "    </tr>\n",
       "    <tr>\n",
       "      <td>9824</td>\n",
       "      <td>2003-01-11 14:20:00</td>\n",
       "      <td>False</td>\n",
       "      <td>False</td>\n",
       "      <td>True</td>\n",
       "      <td>False</td>\n",
       "      <td>False</td>\n",
       "      <td>True</td>\n",
       "      <td>True</td>\n",
       "      <td>False</td>\n",
       "      <td>True</td>\n",
       "      <td>False</td>\n",
       "      <td>False</td>\n",
       "      <td>True</td>\n",
       "      <td>True</td>\n",
       "      <td>False</td>\n",
       "      <td>True</td>\n",
       "    </tr>\n",
       "    <tr>\n",
       "      <td>9825</td>\n",
       "      <td>2003-01-11 14:30:00</td>\n",
       "      <td>False</td>\n",
       "      <td>False</td>\n",
       "      <td>True</td>\n",
       "      <td>False</td>\n",
       "      <td>False</td>\n",
       "      <td>True</td>\n",
       "      <td>True</td>\n",
       "      <td>False</td>\n",
       "      <td>True</td>\n",
       "      <td>False</td>\n",
       "      <td>False</td>\n",
       "      <td>True</td>\n",
       "      <td>True</td>\n",
       "      <td>False</td>\n",
       "      <td>True</td>\n",
       "    </tr>\n",
       "    <tr>\n",
       "      <td>9826</td>\n",
       "      <td>2003-01-11 14:40:00</td>\n",
       "      <td>False</td>\n",
       "      <td>False</td>\n",
       "      <td>True</td>\n",
       "      <td>False</td>\n",
       "      <td>False</td>\n",
       "      <td>True</td>\n",
       "      <td>True</td>\n",
       "      <td>False</td>\n",
       "      <td>True</td>\n",
       "      <td>False</td>\n",
       "      <td>False</td>\n",
       "      <td>True</td>\n",
       "      <td>True</td>\n",
       "      <td>False</td>\n",
       "      <td>True</td>\n",
       "    </tr>\n",
       "    <tr>\n",
       "      <td>9827</td>\n",
       "      <td>2003-01-11 14:50:00</td>\n",
       "      <td>False</td>\n",
       "      <td>False</td>\n",
       "      <td>True</td>\n",
       "      <td>False</td>\n",
       "      <td>False</td>\n",
       "      <td>True</td>\n",
       "      <td>True</td>\n",
       "      <td>False</td>\n",
       "      <td>True</td>\n",
       "      <td>False</td>\n",
       "      <td>False</td>\n",
       "      <td>True</td>\n",
       "      <td>True</td>\n",
       "      <td>False</td>\n",
       "      <td>True</td>\n",
       "    </tr>\n",
       "    <tr>\n",
       "      <td>9828</td>\n",
       "      <td>2003-01-11 15:00:00</td>\n",
       "      <td>False</td>\n",
       "      <td>False</td>\n",
       "      <td>True</td>\n",
       "      <td>False</td>\n",
       "      <td>False</td>\n",
       "      <td>True</td>\n",
       "      <td>True</td>\n",
       "      <td>False</td>\n",
       "      <td>True</td>\n",
       "      <td>False</td>\n",
       "      <td>False</td>\n",
       "      <td>True</td>\n",
       "      <td>True</td>\n",
       "      <td>False</td>\n",
       "      <td>True</td>\n",
       "    </tr>\n",
       "    <tr>\n",
       "      <td>9829</td>\n",
       "      <td>2003-01-11 15:10:04</td>\n",
       "      <td>False</td>\n",
       "      <td>False</td>\n",
       "      <td>True</td>\n",
       "      <td>False</td>\n",
       "      <td>False</td>\n",
       "      <td>True</td>\n",
       "      <td>True</td>\n",
       "      <td>False</td>\n",
       "      <td>True</td>\n",
       "      <td>False</td>\n",
       "      <td>False</td>\n",
       "      <td>True</td>\n",
       "      <td>True</td>\n",
       "      <td>False</td>\n",
       "      <td>True</td>\n",
       "    </tr>\n",
       "    <tr>\n",
       "      <td>9832</td>\n",
       "      <td>2003-01-11 15:40:00</td>\n",
       "      <td>False</td>\n",
       "      <td>False</td>\n",
       "      <td>False</td>\n",
       "      <td>False</td>\n",
       "      <td>True</td>\n",
       "      <td>True</td>\n",
       "      <td>True</td>\n",
       "      <td>False</td>\n",
       "      <td>True</td>\n",
       "      <td>False</td>\n",
       "      <td>False</td>\n",
       "      <td>True</td>\n",
       "      <td>True</td>\n",
       "      <td>False</td>\n",
       "      <td>True</td>\n",
       "    </tr>\n",
       "    <tr>\n",
       "      <td>9833</td>\n",
       "      <td>2003-01-11 15:50:00</td>\n",
       "      <td>False</td>\n",
       "      <td>False</td>\n",
       "      <td>False</td>\n",
       "      <td>False</td>\n",
       "      <td>True</td>\n",
       "      <td>True</td>\n",
       "      <td>True</td>\n",
       "      <td>False</td>\n",
       "      <td>True</td>\n",
       "      <td>False</td>\n",
       "      <td>False</td>\n",
       "      <td>True</td>\n",
       "      <td>True</td>\n",
       "      <td>False</td>\n",
       "      <td>True</td>\n",
       "    </tr>\n",
       "    <tr>\n",
       "      <td>9834</td>\n",
       "      <td>2003-01-11 16:00:00</td>\n",
       "      <td>False</td>\n",
       "      <td>False</td>\n",
       "      <td>False</td>\n",
       "      <td>False</td>\n",
       "      <td>True</td>\n",
       "      <td>True</td>\n",
       "      <td>True</td>\n",
       "      <td>False</td>\n",
       "      <td>True</td>\n",
       "      <td>False</td>\n",
       "      <td>False</td>\n",
       "      <td>True</td>\n",
       "      <td>True</td>\n",
       "      <td>False</td>\n",
       "      <td>True</td>\n",
       "    </tr>\n",
       "    <tr>\n",
       "      <td>9835</td>\n",
       "      <td>2003-01-11 16:10:05</td>\n",
       "      <td>False</td>\n",
       "      <td>False</td>\n",
       "      <td>False</td>\n",
       "      <td>False</td>\n",
       "      <td>True</td>\n",
       "      <td>True</td>\n",
       "      <td>True</td>\n",
       "      <td>False</td>\n",
       "      <td>True</td>\n",
       "      <td>False</td>\n",
       "      <td>False</td>\n",
       "      <td>True</td>\n",
       "      <td>True</td>\n",
       "      <td>False</td>\n",
       "      <td>True</td>\n",
       "    </tr>\n",
       "    <tr>\n",
       "      <td>9836</td>\n",
       "      <td>2003-01-11 16:20:00</td>\n",
       "      <td>False</td>\n",
       "      <td>False</td>\n",
       "      <td>False</td>\n",
       "      <td>False</td>\n",
       "      <td>True</td>\n",
       "      <td>True</td>\n",
       "      <td>True</td>\n",
       "      <td>False</td>\n",
       "      <td>True</td>\n",
       "      <td>False</td>\n",
       "      <td>False</td>\n",
       "      <td>True</td>\n",
       "      <td>True</td>\n",
       "      <td>False</td>\n",
       "      <td>True</td>\n",
       "    </tr>\n",
       "    <tr>\n",
       "      <td>9837</td>\n",
       "      <td>2003-01-11 16:30:00</td>\n",
       "      <td>False</td>\n",
       "      <td>False</td>\n",
       "      <td>False</td>\n",
       "      <td>False</td>\n",
       "      <td>True</td>\n",
       "      <td>True</td>\n",
       "      <td>True</td>\n",
       "      <td>False</td>\n",
       "      <td>True</td>\n",
       "      <td>False</td>\n",
       "      <td>False</td>\n",
       "      <td>True</td>\n",
       "      <td>True</td>\n",
       "      <td>False</td>\n",
       "      <td>True</td>\n",
       "    </tr>\n",
       "    <tr>\n",
       "      <td>9838</td>\n",
       "      <td>2003-01-11 16:40:00</td>\n",
       "      <td>False</td>\n",
       "      <td>False</td>\n",
       "      <td>False</td>\n",
       "      <td>False</td>\n",
       "      <td>True</td>\n",
       "      <td>True</td>\n",
       "      <td>True</td>\n",
       "      <td>False</td>\n",
       "      <td>True</td>\n",
       "      <td>False</td>\n",
       "      <td>False</td>\n",
       "      <td>True</td>\n",
       "      <td>True</td>\n",
       "      <td>False</td>\n",
       "      <td>True</td>\n",
       "    </tr>\n",
       "    <tr>\n",
       "      <td>9839</td>\n",
       "      <td>2003-01-11 16:50:00</td>\n",
       "      <td>False</td>\n",
       "      <td>False</td>\n",
       "      <td>False</td>\n",
       "      <td>False</td>\n",
       "      <td>True</td>\n",
       "      <td>True</td>\n",
       "      <td>True</td>\n",
       "      <td>False</td>\n",
       "      <td>True</td>\n",
       "      <td>False</td>\n",
       "      <td>False</td>\n",
       "      <td>True</td>\n",
       "      <td>True</td>\n",
       "      <td>True</td>\n",
       "      <td>False</td>\n",
       "    </tr>\n",
       "    <tr>\n",
       "      <td>9840</td>\n",
       "      <td>2003-01-11 17:00:05</td>\n",
       "      <td>False</td>\n",
       "      <td>False</td>\n",
       "      <td>False</td>\n",
       "      <td>False</td>\n",
       "      <td>True</td>\n",
       "      <td>True</td>\n",
       "      <td>True</td>\n",
       "      <td>False</td>\n",
       "      <td>True</td>\n",
       "      <td>False</td>\n",
       "      <td>False</td>\n",
       "      <td>True</td>\n",
       "      <td>True</td>\n",
       "      <td>True</td>\n",
       "      <td>False</td>\n",
       "    </tr>\n",
       "    <tr>\n",
       "      <td>9841</td>\n",
       "      <td>2003-01-11 17:10:11</td>\n",
       "      <td>False</td>\n",
       "      <td>False</td>\n",
       "      <td>False</td>\n",
       "      <td>False</td>\n",
       "      <td>True</td>\n",
       "      <td>True</td>\n",
       "      <td>True</td>\n",
       "      <td>False</td>\n",
       "      <td>True</td>\n",
       "      <td>False</td>\n",
       "      <td>False</td>\n",
       "      <td>True</td>\n",
       "      <td>True</td>\n",
       "      <td>True</td>\n",
       "      <td>False</td>\n",
       "    </tr>\n",
       "    <tr>\n",
       "      <td>9842</td>\n",
       "      <td>2003-01-11 17:20:04</td>\n",
       "      <td>False</td>\n",
       "      <td>False</td>\n",
       "      <td>False</td>\n",
       "      <td>False</td>\n",
       "      <td>True</td>\n",
       "      <td>True</td>\n",
       "      <td>True</td>\n",
       "      <td>False</td>\n",
       "      <td>True</td>\n",
       "      <td>False</td>\n",
       "      <td>False</td>\n",
       "      <td>True</td>\n",
       "      <td>True</td>\n",
       "      <td>True</td>\n",
       "      <td>False</td>\n",
       "    </tr>\n",
       "    <tr>\n",
       "      <td>9844</td>\n",
       "      <td>2003-01-11 17:40:00</td>\n",
       "      <td>False</td>\n",
       "      <td>False</td>\n",
       "      <td>True</td>\n",
       "      <td>False</td>\n",
       "      <td>False</td>\n",
       "      <td>True</td>\n",
       "      <td>True</td>\n",
       "      <td>False</td>\n",
       "      <td>True</td>\n",
       "      <td>False</td>\n",
       "      <td>False</td>\n",
       "      <td>True</td>\n",
       "      <td>True</td>\n",
       "      <td>True</td>\n",
       "      <td>False</td>\n",
       "    </tr>\n",
       "  </tbody>\n",
       "</table>\n",
       "</div>"
      ],
      "text/plain": [
       "                          eastward_motion  forward_tilt  backward_tilt  \\\n",
       "scan time                                                                \n",
       "9809 2003-01-11 11:50:00            False         False          False   \n",
       "9812 2003-01-11 12:20:00            False         False           True   \n",
       "9813 2003-01-11 12:30:00            False         False          False   \n",
       "9814 2003-01-11 12:40:00            False         False          False   \n",
       "9815 2003-01-11 12:50:00            False         False          False   \n",
       "9816 2003-01-11 13:00:00            False         False          False   \n",
       "9817 2003-01-11 13:10:03            False         False          False   \n",
       "9823 2003-01-11 14:10:03            False         False           True   \n",
       "9824 2003-01-11 14:20:00            False         False           True   \n",
       "9825 2003-01-11 14:30:00            False         False           True   \n",
       "9826 2003-01-11 14:40:00            False         False           True   \n",
       "9827 2003-01-11 14:50:00            False         False           True   \n",
       "9828 2003-01-11 15:00:00            False         False           True   \n",
       "9829 2003-01-11 15:10:04            False         False           True   \n",
       "9832 2003-01-11 15:40:00            False         False          False   \n",
       "9833 2003-01-11 15:50:00            False         False          False   \n",
       "9834 2003-01-11 16:00:00            False         False          False   \n",
       "9835 2003-01-11 16:10:05            False         False          False   \n",
       "9836 2003-01-11 16:20:00            False         False          False   \n",
       "9837 2003-01-11 16:30:00            False         False          False   \n",
       "9838 2003-01-11 16:40:00            False         False          False   \n",
       "9839 2003-01-11 16:50:00            False         False          False   \n",
       "9840 2003-01-11 17:00:05            False         False          False   \n",
       "9841 2003-01-11 17:10:11            False         False          False   \n",
       "9842 2003-01-11 17:20:04            False         False          False   \n",
       "9844 2003-01-11 17:40:00            False         False           True   \n",
       "\n",
       "                          left_tilt  right_tilt  sig_tilt_mag  sig_vel_mag  \\\n",
       "scan time                                                                    \n",
       "9809 2003-01-11 11:50:00      False        True          True         True   \n",
       "9812 2003-01-11 12:20:00      False       False          True         True   \n",
       "9813 2003-01-11 12:30:00      False        True          True         True   \n",
       "9814 2003-01-11 12:40:00      False        True          True         True   \n",
       "9815 2003-01-11 12:50:00      False        True          True         True   \n",
       "9816 2003-01-11 13:00:00      False        True          True         True   \n",
       "9817 2003-01-11 13:10:03      False        True          True         True   \n",
       "9823 2003-01-11 14:10:03      False       False          True         True   \n",
       "9824 2003-01-11 14:20:00      False       False          True         True   \n",
       "9825 2003-01-11 14:30:00      False       False          True         True   \n",
       "9826 2003-01-11 14:40:00      False       False          True         True   \n",
       "9827 2003-01-11 14:50:00      False       False          True         True   \n",
       "9828 2003-01-11 15:00:00      False       False          True         True   \n",
       "9829 2003-01-11 15:10:04      False       False          True         True   \n",
       "9832 2003-01-11 15:40:00      False        True          True         True   \n",
       "9833 2003-01-11 15:50:00      False        True          True         True   \n",
       "9834 2003-01-11 16:00:00      False        True          True         True   \n",
       "9835 2003-01-11 16:10:05      False        True          True         True   \n",
       "9836 2003-01-11 16:20:00      False        True          True         True   \n",
       "9837 2003-01-11 16:30:00      False        True          True         True   \n",
       "9838 2003-01-11 16:40:00      False        True          True         True   \n",
       "9839 2003-01-11 16:50:00      False        True          True         True   \n",
       "9840 2003-01-11 17:00:05      False        True          True         True   \n",
       "9841 2003-01-11 17:10:11      False        True          True         True   \n",
       "9842 2003-01-11 17:20:04      False        True          True         True   \n",
       "9844 2003-01-11 17:40:00      False       False          True         True   \n",
       "\n",
       "                          stationary  linear  small_area  large_area  \\\n",
       "scan time                                                              \n",
       "9809 2003-01-11 11:50:00       False    True       False       False   \n",
       "9812 2003-01-11 12:20:00       False    True       False       False   \n",
       "9813 2003-01-11 12:30:00       False    True       False       False   \n",
       "9814 2003-01-11 12:40:00       False    True       False       False   \n",
       "9815 2003-01-11 12:50:00       False    True       False       False   \n",
       "9816 2003-01-11 13:00:00       False    True       False       False   \n",
       "9817 2003-01-11 13:10:03       False    True       False       False   \n",
       "9823 2003-01-11 14:10:03       False    True       False       False   \n",
       "9824 2003-01-11 14:20:00       False    True       False       False   \n",
       "9825 2003-01-11 14:30:00       False    True       False       False   \n",
       "9826 2003-01-11 14:40:00       False    True       False       False   \n",
       "9827 2003-01-11 14:50:00       False    True       False       False   \n",
       "9828 2003-01-11 15:00:00       False    True       False       False   \n",
       "9829 2003-01-11 15:10:04       False    True       False       False   \n",
       "9832 2003-01-11 15:40:00       False    True       False       False   \n",
       "9833 2003-01-11 15:50:00       False    True       False       False   \n",
       "9834 2003-01-11 16:00:00       False    True       False       False   \n",
       "9835 2003-01-11 16:10:05       False    True       False       False   \n",
       "9836 2003-01-11 16:20:00       False    True       False       False   \n",
       "9837 2003-01-11 16:30:00       False    True       False       False   \n",
       "9838 2003-01-11 16:40:00       False    True       False       False   \n",
       "9839 2003-01-11 16:50:00       False    True       False       False   \n",
       "9840 2003-01-11 17:00:05       False    True       False       False   \n",
       "9841 2003-01-11 17:10:11       False    True       False       False   \n",
       "9842 2003-01-11 17:20:04       False    True       False       False   \n",
       "9844 2003-01-11 17:40:00       False    True       False       False   \n",
       "\n",
       "                          not_border  not_border_0  perp_align  par_align  \n",
       "scan time                                                                  \n",
       "9809 2003-01-11 11:50:00        True          True       False       True  \n",
       "9812 2003-01-11 12:20:00        True          True       False       True  \n",
       "9813 2003-01-11 12:30:00        True          True        True      False  \n",
       "9814 2003-01-11 12:40:00        True          True       False       True  \n",
       "9815 2003-01-11 12:50:00        True          True       False       True  \n",
       "9816 2003-01-11 13:00:00        True          True       False       True  \n",
       "9817 2003-01-11 13:10:03        True          True       False       True  \n",
       "9823 2003-01-11 14:10:03        True          True       False       True  \n",
       "9824 2003-01-11 14:20:00        True          True       False       True  \n",
       "9825 2003-01-11 14:30:00        True          True       False       True  \n",
       "9826 2003-01-11 14:40:00        True          True       False       True  \n",
       "9827 2003-01-11 14:50:00        True          True       False       True  \n",
       "9828 2003-01-11 15:00:00        True          True       False       True  \n",
       "9829 2003-01-11 15:10:04        True          True       False       True  \n",
       "9832 2003-01-11 15:40:00        True          True       False       True  \n",
       "9833 2003-01-11 15:50:00        True          True       False       True  \n",
       "9834 2003-01-11 16:00:00        True          True       False       True  \n",
       "9835 2003-01-11 16:10:05        True          True       False       True  \n",
       "9836 2003-01-11 16:20:00        True          True       False       True  \n",
       "9837 2003-01-11 16:30:00        True          True       False       True  \n",
       "9838 2003-01-11 16:40:00        True          True       False       True  \n",
       "9839 2003-01-11 16:50:00        True          True        True      False  \n",
       "9840 2003-01-11 17:00:05        True          True        True      False  \n",
       "9841 2003-01-11 17:10:11        True          True        True      False  \n",
       "9842 2003-01-11 17:20:04        True          True        True      False  \n",
       "9844 2003-01-11 17:40:00        True          True        True      False  "
      ]
     },
     "execution_count": 27,
     "metadata": {},
     "output_type": "execute_result"
    }
   ],
   "source": [
    "sub_cat.xs('2700', level='uid')"
   ]
  },
  {
   "cell_type": "markdown",
   "metadata": {},
   "source": [
    "# Calculate Some Statistics"
   ]
  },
  {
   "cell_type": "markdown",
   "metadata": {
    "ExecuteTime": {
     "end_time": "2019-11-07T00:43:39.957731Z",
     "start_time": "2019-11-07T00:43:39.949578Z"
    },
    "heading_collapsed": true
   },
   "source": [
    "## PS, TS, LS Breakdown"
   ]
  },
  {
   "cell_type": "code",
   "execution_count": 34,
   "metadata": {
    "ExecuteTime": {
     "end_time": "2020-01-15T02:26:07.217101Z",
     "start_time": "2020-01-15T02:25:41.597431Z"
    },
    "hidden": true
   },
   "outputs": [],
   "source": [
    "subset_logic = sig_area & not_border & not_border_0 & sig_vel_mag & sig_tilt_mag\n",
    "sub_tracks = tracks_obj.system_tracks[subset_logic]\n",
    "# sub_tracks = tracks_obj.system_tracks\n",
    "\n",
    "sub_uids = list(sorted(set([int(sub_tracks.index.values[i][2]) for i in range(len(sub_tracks))])))\n",
    "sub_uids = [str(i) for i in sub_uids]\n",
    "\n",
    "MCS_lengths = [len(sub_tracks.xs(i, level='uid').reset_index(level='time').index.values) for i in sub_uids]\n",
    "max_MCS = max(MCS_lengths)\n",
    "\n",
    "# Create 3 lists with lengths the lifetime of longest object.\n",
    "[TS, LS, PS, totals] = [np.zeros(100) for i in range(4)]\n",
    "\n",
    "for i in sub_uids:\n",
    "    \n",
    "    obj = sub_tracks.xs(i, level='uid').reset_index(level='time')\n",
    "    scans = obj.index.values\n",
    "    scan_label = scans - min(scans)\n",
    "    tilts = obj['sys_rel_tilt_dir']\n",
    "    \n",
    "    # Break down sig_tilt categories\n",
    "    forward_tilt = ((-45 <= tilts) & (tilts <= 45)) \n",
    "    backward_tilt = ((-135 >= tilts) | (tilts >= 135)) \n",
    "\n",
    "    fwd_inds = scan_label[np.argwhere(forward_tilt).flatten().tolist()].tolist()\n",
    "    bwd_inds = scan_label[np.argwhere(backward_tilt).flatten().tolist()].tolist()\n",
    "    pll_inds = scan_label[np.argwhere(~backward_tilt & ~forward_tilt).flatten().tolist()].tolist()\n",
    "    totals_inds = scan_label.tolist()\n",
    "\n",
    "    # Found error with large com dataset - object 14060 jumps across seasons\n",
    "    try:\n",
    "        TS[bwd_inds] += 1\n",
    "        LS[fwd_inds] += 1\n",
    "        PS[pll_inds] += 1\n",
    "        totals[totals_inds] += 1\n",
    "    except:\n",
    "        print('Error with system {}.'.format(i))"
   ]
  },
  {
   "cell_type": "markdown",
   "metadata": {
    "heading_collapsed": true
   },
   "source": [
    "## System Size"
   ]
  },
  {
   "cell_type": "code",
   "execution_count": 7,
   "metadata": {
    "ExecuteTime": {
     "end_time": "2020-01-15T05:10:15.929267Z",
     "start_time": "2020-01-15T05:10:12.788707Z"
    },
    "hidden": true
   },
   "outputs": [],
   "source": [
    "# subset_logic = ~small_area\n",
    "# sub_tracks = tracks_obj.system_tracks[subset_logic]\n",
    "sub_tracks = tracks_obj.system_tracks\n",
    "\n",
    "sub_uids = list(sorted(set([int(sub_tracks.index.values[i][2]) for i in range(len(sub_tracks))])))\n",
    "sub_uids = [str(i) for i in sub_uids]\n",
    "\n",
    "# MCS_lengths = [len(sub_tracks.xs(i, level='uid').reset_index(level='time').index.values) for i in sub_uids]\n",
    "# max_MCS = max(MCS_lengths)"
   ]
  },
  {
   "cell_type": "code",
   "execution_count": 14,
   "metadata": {
    "ExecuteTime": {
     "end_time": "2020-01-15T05:23:44.144088Z",
     "start_time": "2020-01-15T05:21:24.109307Z"
    },
    "hidden": true
   },
   "outputs": [
    {
     "name": "stdout",
     "output_type": "stream",
     "text": [
      "  8%|▊         | 2028/25948 [00:10<02:02, 194.53it/s]Error with system 2038.\n",
      " 16%|█▌        | 4129/25948 [00:22<02:09, 169.05it/s]Error with system 4135.\n",
      " 25%|██▌       | 6546/25948 [00:35<01:43, 187.20it/s]Error with system 6559.\n",
      " 31%|███▏      | 8160/25948 [00:43<01:33, 190.34it/s]Error with system 8175.\n",
      " 42%|████▏     | 10966/25948 [00:58<01:18, 191.41it/s]Error with system 10977.\n",
      " 51%|█████     | 13151/25948 [01:10<01:06, 191.17it/s]Error with system 13155.\n",
      " 54%|█████▍    | 14048/25948 [01:15<01:03, 187.29it/s]Error with system 14060.\n",
      " 68%|██████▊   | 17520/25948 [01:33<00:44, 189.80it/s]Error with system 17529.\n",
      " 75%|███████▍  | 19435/25948 [01:44<00:34, 189.19it/s]Error with system 19450.\n",
      " 82%|████████▏ | 21399/25948 [01:54<00:23, 191.38it/s]Error with system 21406.\n",
      " 92%|█████████▏| 23871/25948 [02:07<00:10, 192.36it/s]Error with system 23880.\n",
      "100%|██████████| 25948/25948 [02:18<00:00, 186.83it/s]\n"
     ]
    }
   ],
   "source": [
    "# Create 3 lists with lengths the lifetime of longest object.\n",
    "[large, small, medium, nb, totals] = [np.zeros(100) for i in range(5)]\n",
    "\n",
    "from tqdm import tqdm\n",
    "\n",
    "for i in tqdm(sub_uids, file=sys.stdout, position=0, leave=True):\n",
    "    \n",
    "#     import pdb\n",
    "#     pdb.set_trace()\n",
    "    \n",
    "    obj = sub_tracks.xs(i, level='uid').reset_index(level='time')\n",
    "    cat = categories.xs(i, level='uid').reset_index(level='time')\n",
    "    scans = obj.index.values\n",
    "    scan_label = scans - min(scans)\n",
    "    \n",
    "    # Define classifications\n",
    "    large_area = cat['large_area'].values\n",
    "    small_area = cat['small_area'].values\n",
    "    medium_area = ~large_area & ~small_area\n",
    "    not_border = cat['not_border'].values | cat['not_border_0'].values\n",
    "    \n",
    "    large_inds = scan_label[large_area]\n",
    "    medium_inds = scan_label[medium_area]\n",
    "    small_inds = scan_label[small_area]\n",
    "    not_border_inds = scan_label[not_border]\n",
    "    totals_inds = scan_label.tolist()\n",
    "    \n",
    "    # Break down sig_tilt categories\n",
    "#     forward_tilt = ((-45 <= tilts) & (tilts <= 45)) \n",
    "#     backward_tilt = ((-135 >= tilts) | (tilts >= 135)) \n",
    "\n",
    "#     fwd_inds = scan_label[np.argwhere(forward_tilt).flatten().tolist()].tolist()\n",
    "#     bwd_inds = scan_label[np.argwhere(backward_tilt).flatten().tolist()].tolist()\n",
    "#     pll_inds = scan_label[np.argwhere(~backward_tilt & ~forward_tilt).flatten().tolist()].tolist()\n",
    "\n",
    "    # Found error with large com dataset - object 14060 jumps across seasons\n",
    "    try:\n",
    "        large[large_inds] += 1\n",
    "        small[small_inds] += 1\n",
    "        medium[medium_inds] += 1\n",
    "        nb[not_border_inds] += 1\n",
    "        totals[totals_inds] += 1\n",
    "    except:\n",
    "        print('Error with system {}.'.format(i))"
   ]
  },
  {
   "cell_type": "code",
   "execution_count": 17,
   "metadata": {
    "ExecuteTime": {
     "end_time": "2020-01-15T05:26:36.418795Z",
     "start_time": "2020-01-15T05:26:36.109386Z"
    },
    "hidden": true
   },
   "outputs": [
    {
     "data": {
      "image/png": "[encoded data removed]",
      "text/plain": [
       "<Figure size 432x288 with 1 Axes>"
      ]
     },
     "metadata": {
      "needs_background": "light"
     },
     "output_type": "display_data"
    }
   ],
   "source": [
    "plt.plot(np.arange(30,300,10), large[3:30], label='Large count')\n",
    "plt.plot(np.arange(30,300,10), medium[3:30], label='Medium count')\n",
    "plt.plot(np.arange(30,300,10), small[3:30], label='Small count')\n",
    "plt.plot(np.arange(30,300,10), nb[3:30], label='No Border count')\n",
    "plt.plot(np.arange(30,300,10), totals[3:30], label='Total count')\n",
    "plt.xticks(np.arange(30,300,30))\n",
    "plt.ylabel('Count [-]')\n",
    "plt.xlabel('Time since Initiation [m]')\n",
    "plt.legend()\n",
    "plt.savefig('/g/data/w40/esh563/CPOL_analysis/figures/TINT/size_counts.png')"
   ]
  },
  {
   "cell_type": "code",
   "execution_count": 22,
   "metadata": {
    "ExecuteTime": {
     "end_time": "2020-01-15T05:32:26.342906Z",
     "start_time": "2020-01-15T05:32:25.949155Z"
    },
    "hidden": true
   },
   "outputs": [
    {
     "data": {
      "image/png": "[encoded data removed]",
      "text/plain": [
       "<Figure size 720x360 with 1 Axes>"
      ]
     },
     "metadata": {
      "needs_background": "light"
     },
     "output_type": "display_data"
    }
   ],
   "source": [
    "plt.figure(figsize=(10,5))\n",
    "plt.plot(np.arange(30,600,10), (large/totals)[3:60], label='Large count')\n",
    "plt.plot(np.arange(30,600,10), (medium/totals)[3:60], label='Medium count')\n",
    "plt.plot(np.arange(30,600,10), (small/totals)[3:60], label='Small count')\n",
    "plt.plot(np.arange(30,600,10), (nb/totals)[3:60], label='No Border count')\n",
    "plt.xticks(np.arange(30,600,30))\n",
    "plt.ylabel('Ratio [-]')\n",
    "plt.xlabel('Time since Initiation [m]')\n",
    "plt.legend()\n",
    "# Note that we don't really know the start times of the systems!\n",
    "plt.savefig('/g/data/w40/esh563/CPOL_analysis/figures/TINT/size_ratios.png')"
   ]
  },
  {
   "cell_type": "markdown",
   "metadata": {},
   "source": [
    "## Training Lines"
   ]
  },
  {
   "cell_type": "code",
   "execution_count": 12,
   "metadata": {
    "ExecuteTime": {
     "end_time": "2020-01-22T08:57:29.734098Z",
     "start_time": "2020-01-22T08:57:29.630745Z"
    }
   },
   "outputs": [],
   "source": [
    "subset_logic = categories['not_border'] & categories['not_border_0'] & ~categories['large_area'] & ~categories['small_area'] & categories['linear'] & ~categories['stationary'] & categories['sig_vel_mag']\n",
    "sub_tracks = tracks_obj.system_tracks[subset_logic]\n",
    "sub_cat = categories[subset_logic]\n",
    "# sub_tracks = tracks_obj.system_tracks\n",
    "# sub_cat = categories\n",
    "\n",
    "sub_uids = list(sorted(set([int(sub_tracks.index.values[i][2]) for i in range(len(sub_tracks))])))\n",
    "sub_uids = [str(i) for i in sub_uids]\n",
    "\n",
    "# MCS_lengths = [len(sub_tracks.xs(i, level='uid').reset_index(level='time').index.values) for i in sub_uids]\n",
    "# max_MCS = max(MCS_lengths)"
   ]
  },
  {
   "cell_type": "code",
   "execution_count": 13,
   "metadata": {
    "ExecuteTime": {
     "end_time": "2020-01-22T08:57:34.620999Z",
     "start_time": "2020-01-22T08:57:29.976511Z"
    }
   },
   "outputs": [
    {
     "name": "stdout",
     "output_type": "stream",
     "text": [
      "100%|██████████| 952/952 [00:04<00:00, 205.99it/s]\n"
     ]
    }
   ],
   "source": [
    "# Create 3 lists with lengths the lifetime of longest object.\n",
    "[par, perp, totals] = [np.zeros(100) for i in range(3)]\n",
    "\n",
    "from tqdm import tqdm\n",
    "\n",
    "for i in tqdm(sub_uids, file=sys.stdout, position=0, leave=True):\n",
    "       \n",
    "    obj = sub_tracks.xs(i, level='uid').reset_index(level='time')\n",
    "    cat = sub_cat.xs(i, level='uid').reset_index(level='time')\n",
    "    scans = obj.index.values\n",
    "    scan_label = scans - min(scans)\n",
    "    \n",
    "    # Define classifications\n",
    "    perp_align = cat['perp_align'].values\n",
    "    par_align = cat['par_align'].values\n",
    "        \n",
    "    par_inds = scan_label[par_align]\n",
    "    perp_inds = scan_label[perp_align]\n",
    "    totals_inds = scan_label.tolist()\n",
    "\n",
    "    # Found error with large com dataset - object 14060 jumps across seasons\n",
    "    try:\n",
    "        par[par_inds] += 1\n",
    "        perp[perp_inds] += 1\n",
    "        totals[totals_inds] += 1\n",
    "    except:\n",
    "        print('Error with system {}.'.format(i))"
   ]
  },
  {
   "cell_type": "code",
   "execution_count": 14,
   "metadata": {
    "ExecuteTime": {
     "end_time": "2020-01-22T08:57:34.862559Z",
     "start_time": "2020-01-22T08:57:34.623204Z"
    }
   },
   "outputs": [
    {
     "data": {
      "image/png": "[encoded data removed]",
      "text/plain": [
       "<Figure size 432x288 with 1 Axes>"
      ]
     },
     "metadata": {
      "needs_background": "light"
     },
     "output_type": "display_data"
    }
   ],
   "source": [
    "plt.plot(np.arange(30,300,10), perp[3:30], label='Perpendicular count')\n",
    "plt.plot(np.arange(30,300,10), par[3:30], label='Parallel count')\n",
    "# plt.plot(np.arange(30,300,10), totals[3:30], label='Total count')\n",
    "plt.xticks(np.arange(30,300,30))\n",
    "plt.ylabel('Count [-]')\n",
    "plt.xlabel('Time since Initiation [m]')\n",
    "plt.legend()\n",
    "plt.savefig('/g/data/w40/esh563/CPOL_analysis/figures/TINT/size_counts.png')"
   ]
  },
  {
   "cell_type": "code",
   "execution_count": 18,
   "metadata": {
    "ExecuteTime": {
     "end_time": "2020-01-22T08:54:08.759853Z",
     "start_time": "2020-01-22T08:54:08.482690Z"
    }
   },
   "outputs": [
    {
     "data": {
      "image/png": "[encoded data removed]",
      "text/plain": [
       "<Figure size 432x288 with 1 Axes>"
      ]
     },
     "metadata": {
      "needs_background": "light"
     },
     "output_type": "display_data"
    }
   ],
   "source": [
    "plt.plot(np.arange(30,300,10), (perp/totals)[3:30], label='Perpendicular ratio')\n",
    "plt.plot(np.arange(30,300,10), (par/totals)[3:30], label='Parallel ratio')\n",
    "plt.xticks(np.arange(30,300,30))\n",
    "plt.ylabel('Count [-]')\n",
    "plt.xlabel('Time since Initiation [m]')\n",
    "plt.legend()\n",
    "plt.savefig('/g/data/w40/esh563/CPOL_analysis/figures/TINT/size_counts.png')"
   ]
  },
  {
   "cell_type": "markdown",
   "metadata": {
    "heading_collapsed": true
   },
   "source": [
    "## Updraft Tilt versus Stratiform Tilt"
   ]
  },
  {
   "cell_type": "code",
   "execution_count": 29,
   "metadata": {
    "ExecuteTime": {
     "end_time": "2019-11-07T00:45:04.691216Z",
     "start_time": "2019-11-07T00:45:04.666793Z"
    },
    "hidden": true
   },
   "outputs": [],
   "source": [
    "def calc_mean_max_updrafts(system_tracks, min_height_ind = 20):\n",
    "    ud = system_tracks['updrafts']\n",
    "    ud_tilt = []\n",
    "    tallest_ud = []\n",
    "    mean_ud = []\n",
    "    no_tilt=0\n",
    "    for i in range(len(ud)):\n",
    "        ud_i = ud.iloc[i]\n",
    "        ud_tilt_i = []\n",
    "        for j in range(len(ud_i)):\n",
    "            if ud_i[j][-1][0] >= min_height_ind:\n",
    "                ud_tilt_i_j = (ud_i[j][-1]-ud_i[j][0])*(.5, 2.5, 2.5)\n",
    "                if np.all(ud_tilt_i_j[1:3] == [0,0]):\n",
    "                    # Count updrafts with no tilt seperately\n",
    "                    no_tilt+=1\n",
    "                else:\n",
    "                    ud_tilt_i.append(ud_tilt_i_j)\n",
    "       \n",
    "        if ud_tilt_i != []:\n",
    "            ud_tilt.append(ud_tilt_i)\n",
    "            mean_ud.append(np.nanmean(np.array(ud_tilt_i), axis=0))\n",
    "        else:\n",
    "            ud_tilt.append(np.ones(3)*np.nan)\n",
    "            mean_ud.append(np.ones(3)*np.nan)\n",
    "        try:\n",
    "            tallest_ind = np.argmax(np.array(ud_tilt_i)[:,0])\n",
    "            tallest_ud.append(np.array(ud_tilt_i)[tallest_ind,:])\n",
    "        except:\n",
    "            tallest_ud.append(np.ones(3)*np.nan)\n",
    "        \n",
    "    return ud_tilt, mean_ud, tallest_ud"
   ]
  },
  {
   "cell_type": "markdown",
   "metadata": {
    "hidden": true
   },
   "source": [
    "### Tallest Updraft"
   ]
  },
  {
   "cell_type": "code",
   "execution_count": 33,
   "metadata": {
    "ExecuteTime": {
     "end_time": "2019-11-07T00:48:22.194683Z",
     "start_time": "2019-11-07T00:48:20.360854Z"
    },
    "hidden": true
   },
   "outputs": [],
   "source": [
    "subset_logic = sig_area & not_border & sig_tilt_mag & not_border_0 & sig_vel_mag\n",
    "sub_tracks = tracks_obj.system_tracks[subset_logic]\n",
    "ud_tilt, mean_ud, tallest_ud = calc_mean_max_updrafts(sub_tracks)\n",
    "\n",
    "num = np.array(tallest_ud)\n",
    "den = np.tile(np.array(tallest_ud)[:,0], (3,1)).transpose()\n",
    "ud_norm = (num/den)[:,1:]\n",
    "ud_mag = np.sqrt(ud_norm[:,0] ** 2 + ud_norm[:,1] ** 2)\n",
    "ud_dir = np.arctan2(ud_norm[:,0], ud_norm[:,1])\n",
    "ud_dir = np.rad2deg(ud_dir)\n",
    "\n",
    "vel_dir = sub_tracks['vel_dir'].values\n",
    "tilt_dir = sub_tracks['tilt_dir'].values\n",
    "\n",
    "sys_rel_tilt_dir = np.mod(tilt_dir - vel_dir, 360)\n",
    "sys_rel_tilt_dir = np.round(sys_rel_tilt_dir, 3)\n",
    "\n",
    "sys_rel_ud_tilt_dir = np.mod(ud_dir - vel_dir, 360)\n",
    "sys_rel_ud_tilt_dir = np.round(sys_rel_ud_tilt_dir, 3)"
   ]
  },
  {
   "cell_type": "code",
   "execution_count": 35,
   "metadata": {
    "ExecuteTime": {
     "end_time": "2019-11-07T00:48:43.063922Z",
     "start_time": "2019-11-07T00:48:42.755514Z"
    },
    "hidden": true
   },
   "outputs": [
    {
     "data": {
      "image/png": "[encoded data removed]",
      "text/plain": [
       "<Figure size 504x504 with 2 Axes>"
      ]
     },
     "metadata": {
      "needs_background": "light"
     },
     "output_type": "display_data"
    }
   ],
   "source": [
    "vel_dir = sub_tracks['vel_dir'].values\n",
    "vel_mag = np.sqrt(sub_tracks['u_shift']**2 + sub_tracks['v_shift']**2).values\n",
    "tilt_dir = sub_tracks['tilt_dir'].values\n",
    "bins = np.arange(0,360+15,15)\n",
    "ticks = np.arange(0,360+30,30)\n",
    "\n",
    "fig = plt.figure(figsize=[7,7])\n",
    "ax = fig.add_subplot(111)\n",
    "h = ax.hist2d(sys_rel_tilt_dir, sys_rel_ud_tilt_dir, bins=bins, range=[[0, 360], [0, 360]], cmap='Reds')\n",
    "# ax.scatter(tilt_dir, ud_dir, s=0.75)\n",
    "plt.xlabel('Stratiform Tilt Direction')\n",
    "plt.ylabel('Tallest Updraft Tilt Direction')\n",
    "plt.title('Velocity Relative Tilt Directions')\n",
    "plt.xlim([0, 360])\n",
    "plt.ylim([0, 360])\n",
    "plt.xticks(ticks)\n",
    "plt.yticks(ticks)\n",
    "ax.set_aspect('equal')\n",
    "cb = plt.colorbar(h[3], ax=ax)\n",
    "cb.set_label('Count')"
   ]
  },
  {
   "cell_type": "markdown",
   "metadata": {
    "hidden": true
   },
   "source": [
    "### Mean Updraft"
   ]
  },
  {
   "cell_type": "code",
   "execution_count": 36,
   "metadata": {
    "ExecuteTime": {
     "end_time": "2019-11-07T00:49:36.630871Z",
     "start_time": "2019-11-07T00:49:34.741483Z"
    },
    "hidden": true
   },
   "outputs": [],
   "source": [
    "subset_logic = sig_area & not_border & sig_tilt_mag & not_border_0 & sig_vel_mag\n",
    "sub_tracks = tracks_obj.system_tracks[subset_logic]\n",
    "ud_tilt, mean_ud, tallest_ud = calc_mean_max_updrafts(sub_tracks)\n",
    "\n",
    "num = np.array(mean_ud)\n",
    "den = np.tile(np.array(mean_ud)[:,0], (3,1)).transpose()\n",
    "ud_norm = (num/den)[:,1:]\n",
    "ud_mag = np.sqrt(ud_norm[:,0] ** 2 + ud_norm[:,1] ** 2)\n",
    "ud_dir = np.arctan2(ud_norm[:,0], ud_norm[:,1])\n",
    "ud_dir = np.rad2deg(ud_dir)\n",
    "\n",
    "vel_dir = sub_tracks['vel_dir'].values\n",
    "tilt_dir = sub_tracks['tilt_dir'].values\n",
    "\n",
    "sys_rel_tilt_dir = np.mod(tilt_dir - vel_dir, 360)\n",
    "sys_rel_tilt_dir = np.round(sys_rel_tilt_dir, 3)\n",
    "\n",
    "sys_rel_ud_tilt_dir = np.mod(ud_dir - vel_dir, 360)\n",
    "sys_rel_ud_tilt_dir = np.round(sys_rel_ud_tilt_dir, 3)"
   ]
  },
  {
   "cell_type": "code",
   "execution_count": 38,
   "metadata": {
    "ExecuteTime": {
     "end_time": "2019-11-07T00:49:47.757230Z",
     "start_time": "2019-11-07T00:49:47.448717Z"
    },
    "hidden": true
   },
   "outputs": [
    {
     "data": {
      "image/png": "[encoded data removed]",
      "text/plain": [
       "<Figure size 504x504 with 2 Axes>"
      ]
     },
     "metadata": {
      "needs_background": "light"
     },
     "output_type": "display_data"
    }
   ],
   "source": [
    "vel_dir = sub_tracks['vel_dir'].values\n",
    "vel_mag = np.sqrt(sub_tracks['u_shift']**2 + sub_tracks['v_shift']**2).values\n",
    "tilt_dir = sub_tracks['tilt_dir'].values\n",
    "bins = np.arange(0,360+15,15)\n",
    "ticks = np.arange(0,360+30,30)\n",
    "\n",
    "fig = plt.figure(figsize=[7,7])\n",
    "ax = fig.add_subplot(111)\n",
    "h = ax.hist2d(sys_rel_tilt_dir, sys_rel_ud_tilt_dir, bins=bins, range=[[0, 360], [0, 360]], cmap='Reds')\n",
    "# ax.scatter(tilt_dir, ud_dir, s=0.75)\n",
    "plt.xlabel('Stratiform Tilt Direction')\n",
    "plt.ylabel('Mean Updraft Tilt Direction')\n",
    "plt.title('Velocity Relative Tilt Directions')\n",
    "plt.xlim([0, 360])\n",
    "plt.ylim([0, 360])\n",
    "plt.xticks(ticks)\n",
    "plt.yticks(ticks)\n",
    "ax.set_aspect('equal')\n",
    "cb = plt.colorbar(h[3], ax=ax)\n",
    "cb.set_label('Count')"
   ]
  }
 ],
 "metadata": {
  "kernelspec": {
   "display_name": "Python 3",
   "language": "python",
   "name": "python3"
  },
  "language_info": {
   "codemirror_mode": {
    "name": "ipython",
    "version": 3
   },
   "file_extension": ".py",
   "mimetype": "text/x-python",
   "name": "python",
   "nbconvert_exporter": "python",
   "pygments_lexer": "ipython3",
   "version": "3.6.7"
  },
  "toc": {
   "base_numbering": 1,
   "nav_menu": {},
   "number_sections": true,
   "sideBar": true,
   "skip_h1_title": false,
   "title_cell": "Table of Contents",
   "title_sidebar": "Contents",
   "toc_cell": false,
   "toc_position": {
    "height": "calc(100% - 180px)",
    "left": "10px",
    "top": "150px",
    "width": "270px"
   },
   "toc_section_display": true,
   "toc_window_display": true
  }
 },
 "nbformat": 4,
 "nbformat_minor": 2
}
