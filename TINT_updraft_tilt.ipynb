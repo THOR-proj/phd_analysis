{
 "cells": [
  {
   "cell_type": "code",
   "execution_count": 1,
   "metadata": {
    "ExecuteTime": {
     "end_time": "2019-08-06T07:20:04.903538Z",
     "start_time": "2019-08-06T07:19:59.357739Z"
    },
    "scrolled": false
   },
   "outputs": [
    {
     "name": "stdout",
     "output_type": "stream",
     "text": [
      "\n",
      "## You are using the Python ARM Radar Toolkit (Py-ART), an open source\n",
      "## library for working with weather radar data. Py-ART is partly\n",
      "## supported by the U.S. Department of Energy as part of the Atmospheric\n",
      "## Radiation Measurement (ARM) Climate Research Facility, an Office of\n",
      "## Science user facility.\n",
      "##\n",
      "## If you use this software to prepare a publication, please cite:\n",
      "##\n",
      "##     JJ Helmus and SM Collis, JORS 2016, doi: 10.5334/jors.119\n",
      "\n"
     ]
    },
    {
     "name": "stderr",
     "output_type": "stream",
     "text": [
      "/g/data3/hh5/public/apps/miniconda3/envs/analysis3-19.04/lib/python3.6/site-packages/pyart/graph/cm.py:104: FutureWarning: elementwise comparison failed; returning scalar instead, but in the future will perform elementwise comparison\n",
      "  if 'red' in spec:\n",
      "/g/data3/hh5/public/apps/miniconda3/envs/analysis3-19.04/lib/python3.6/site-packages/pyart/graph/cm_colorblind.py:32: FutureWarning: elementwise comparison failed; returning scalar instead, but in the future will perform elementwise comparison\n",
      "  if 'red' in spec:\n"
     ]
    }
   ],
   "source": [
    "# Core \n",
    "import datetime\n",
    "import os\n",
    "import glob\n",
    "import tempfile\n",
    "import shutil\n",
    "import sys\n",
    "import pickle\n",
    "import warnings\n",
    "import copy\n",
    "\n",
    "# Analysis \n",
    "import xarray as xr\n",
    "import numpy as np\n",
    "import pandas as pd\n",
    "import scipy as sp\n",
    "import networkx \n",
    "from networkx.algorithms.components.connected import connected_components\n",
    "\n",
    "# Plotting\n",
    "import matplotlib.pyplot as plt\n",
    "\n",
    "# Debugging \n",
    "import pdb, traceback\n",
    "%load_ext line_profiler\n",
    "\n",
    "# Radar Tools\n",
    "import pyart\n",
    "import tint\n",
    "from tint import animate\n",
    "\n",
    "# CPOL convenience functions\n",
    "import CPOL_func as cf"
   ]
  },
  {
   "cell_type": "code",
   "execution_count": null,
   "metadata": {
    "ExecuteTime": {
     "start_time": "2019-08-06T07:20:58.631Z"
    },
    "scrolled": false
   },
   "outputs": [],
   "source": [
    "def test():\n",
    "    [filenames, start_time, end_time] = cf.CPOL_files_from_datetime_list(\n",
    "        np.arange(np.datetime64('2006-02-10 10:00'), \n",
    "        np.datetime64('2006-02-10 14:00'), \n",
    "        np.timedelta64(10, 'm')))\n",
    "    # Generate grid generator \n",
    "    # Note generators produce iterators\n",
    "    # These are alternative to using lists and looping\n",
    "    grids = (pyart.io.read_grid(fn, include_fields = 'reflectivity')\n",
    "             for fn in filenames)\n",
    "\n",
    "    with open('/g/data/w40/esh563/CPOL_analysis/TINT_tracks/circ_b_ind_set.pkl', 'rb') as f:\n",
    "        b_ind_set = pickle.load(f)\n",
    "\n",
    "    # Define settings for tracking\n",
    "    settings = {\n",
    "        'MIN_SIZE' : [2, 2, 500, 500],\n",
    "        'FIELD_THRESH' : [40, 30, 20, 15],\n",
    "        'ISO_THRESH' : [5, 5, 5, 5],\n",
    "        'GS_ALT' : 1500,\n",
    "        'SEARCH_MARGIN' : 10000,\n",
    "        'FLOW_MARGIN' : 40000,\n",
    "        'LEVELS' : np.array(\n",
    "            [[0, 2500], \n",
    "             [2500, 5000],\n",
    "             [5000, 7500],\n",
    "             [7500, 10000]]\n",
    "        ),\n",
    "        'TRACK_INTERVAL' : 0,\n",
    "        'BOUNDARY_GRID_CELLS' : b_ind_set\n",
    "    }\n",
    "\n",
    "    # Calculate high and low level tracks\n",
    "    tracks_obj  = tint.Cell_tracks()\n",
    "\n",
    "    for parameter in ['MIN_SIZE', 'FIELD_THRESH', 'GS_ALT', 'LEVELS', \n",
    "                      'TRACK_INTERVAL', 'ISO_THRESH', 'SEARCH_MARGIN',\n",
    "                      'FLOW_MARGIN', 'BOUNDARY_GRID_CELLS'\n",
    "                     ]:\n",
    "        tracks_obj.params[parameter] = settings[parameter]\n",
    "\n",
    "    # Calculate tracks\n",
    "    tracks_obj.get_tracks(grids)\n",
    "\n",
    "    # Create directory for figures\n",
    "    dt=str(datetime.datetime.now())[0:-7]\n",
    "    dt=dt.replace(\" \", \"_\")\n",
    "    dt=dt.replace(\":\", \"_\")\n",
    "    dt=dt.replace(\"-\", \"\")\n",
    "\n",
    "    out_file_name = ('/g/data/w40/esh563/CPOL_analysis/TINT_tracks/'\n",
    "                     + 'tracks_obj_test.pkl'.format(dt))\n",
    "\n",
    "    with open(out_file_name, 'wb') as f:\n",
    "        pickle.dump(tracks_obj, f)\n",
    "        \n",
    "    return tracks_obj\n",
    "        \n",
    "if __name__ == '__main__':\n",
    "    try:\n",
    "        tracks_obj = test()\n",
    "    except:\n",
    "        extype, value, tb = sys.exc_info()\n",
    "        traceback.print_exc()\n",
    "        pdb.post_mortem(tb)"
   ]
  },
  {
   "cell_type": "code",
   "execution_count": 2,
   "metadata": {
    "ExecuteTime": {
     "end_time": "2019-08-06T06:42:09.828284Z",
     "start_time": "2019-08-06T06:42:09.772115Z"
    }
   },
   "outputs": [],
   "source": [
    "with open('/g/data/w40/esh563/CPOL_analysis/TINT_tracks/tracks_obj_test.pkl', 'rb') as f:\n",
    "    tracks_obj = pickle.load(f)"
   ]
  },
  {
   "cell_type": "code",
   "execution_count": 5,
   "metadata": {
    "ExecuteTime": {
     "end_time": "2019-08-06T01:34:38.232610Z",
     "start_time": "2019-08-06T01:34:38.225263Z"
    }
   },
   "outputs": [],
   "source": [
    "try:\n",
    "    tracks_obj.system_tracks.xs('0', level='uid').xs(0, level='scan')['updrafts'].values[0]\n",
    "except:\n",
    "    test = 0"
   ]
  },
  {
   "cell_type": "code",
   "execution_count": 3,
   "metadata": {
    "ExecuteTime": {
     "end_time": "2019-08-06T06:42:27.799462Z",
     "start_time": "2019-08-06T06:42:12.830890Z"
    }
   },
   "outputs": [
    {
     "name": "stdout",
     "output_type": "stream",
     "text": [
      "Gathering files.\n",
      "Animating 11 frames\n",
      "Current grid at 2006-02-10T10:30:09.\n",
      "Object initialises at 2006-02-10 10:00:09.\n",
      "Moving to next object frame.\n",
      "Current grid at 2006-02-10T10:30:09.\n",
      "Object initialises at 2006-02-10 10:10:10.\n",
      "Moving to next object frame.\n",
      "Current grid at 2006-02-10T10:30:09.\n",
      "Object initialises at 2006-02-10 10:20:09.\n",
      "Moving to next object frame.\n",
      "Plotting frame at 2006-02-10T10:30:09\n",
      "Plotting updraft 2.  \r"
     ]
    },
    {
     "name": "stderr",
     "output_type": "stream",
     "text": [
      "Traceback (most recent call last):\n",
      "  File \"<ipython-input-3-c65fc3a0a1f6>\", line 26, in <module>\n",
      "    test()\n",
      "  File \"<ipython-input-3-c65fc3a0a1f6>\", line 22, in test\n",
      "    alt_low=0, alt_high=10000, keep_frames=False, dpi=100)\n",
      "  File \"/home/563/esh563/TINT/tint/visualization.py\", line 777, in animate\n",
      "    **kwargs)\n",
      "  File \"/home/563/esh563/TINT/tint/visualization.py\", line 591, in updraft_view\n",
      "    ax=ax, projection=projection)\n",
      "  File \"/g/data3/hh5/public/apps/miniconda3/envs/analysis3-19.04/lib/python3.6/site-packages/pyart/graph/gridmapdisplay.py\", line 207, in plot_grid\n",
      "    ds = self.get_dataset()\n",
      "  File \"/g/data3/hh5/public/apps/miniconda3/envs/analysis3-19.04/lib/python3.6/site-packages/pyart/graph/gridmapdisplay.py\", line 119, in get_dataset\n",
      "    ds[field] = data\n",
      "  File \"/g/data3/hh5/public/apps/miniconda3/envs/analysis3-19.04/lib/python3.6/site-packages/xarray/core/dataset.py\", line 1077, in __setitem__\n",
      "    self.update({key: value})\n",
      "  File \"/g/data3/hh5/public/apps/miniconda3/envs/analysis3-19.04/lib/python3.6/site-packages/xarray/core/dataset.py\", line 2750, in update\n",
      "    inplace=inplace)\n",
      "  File \"/g/data3/hh5/public/apps/miniconda3/envs/analysis3-19.04/lib/python3.6/site-packages/xarray/core/dataset.py\", line 780, in _replace_vars_and_dims\n",
      "    variables, coord_names, dims, attrs, indexes=None, inplace=inplace)\n",
      "  File \"/g/data3/hh5/public/apps/miniconda3/envs/analysis3-19.04/lib/python3.6/site-packages/xarray/core/dataset.py\", line 722, in _replace\n",
      "    self._variables = variables\n",
      "  File \"/g/data3/hh5/public/apps/miniconda3/envs/analysis3-19.04/lib/python3.6/site-packages/xarray/core/common.py\", line 193, in __setattr__\n",
      "    object.__setattr__(self, name, value)\n",
      "KeyboardInterrupt\n"
     ]
    },
    {
     "name": "stdout",
     "output_type": "stream",
     "text": [
      "> /g/data3/hh5/public/apps/miniconda3/envs/analysis3-19.04/lib/python3.6/site-packages/xarray/core/common.py(193)__setattr__()\n",
      "-> object.__setattr__(self, name, value)\n",
      "(Pdb) q\n"
     ]
    },
    {
     "data": {
      "image/png": "[encoded data removed]",
      "text/plain": [
       "<Figure size 432x288 with 1 Axes>"
      ]
     },
     "metadata": {
      "needs_background": "light"
     },
     "output_type": "display_data"
    },
    {
     "data": {
      "image/png": "[encoded data removed]",
      "text/plain": [
       "<Figure size 864x720 with 3 Axes>"
      ]
     },
     "metadata": {
      "needs_background": "light"
     },
     "output_type": "display_data"
    }
   ],
   "source": [
    "def test():\n",
    "    uid = '1'\n",
    "\n",
    "#     filenames, start_time, end_time = cf.CPOL_files_from_TINT_obj(tracks_obj, uid)\n",
    "    \n",
    "    [filenames, start_time, end_time] = cf.CPOL_files_from_datetime_list(\n",
    "        np.arange(np.datetime64('2006-02-10 10:30'), \n",
    "        np.datetime64('2006-02-10 10:40'), \n",
    "        np.timedelta64(10, 'm')))\n",
    "\n",
    "    grids = (pyart.io.read_grid(fn) for fn in filenames)  # refresh grid generator\n",
    "\n",
    "    # Create directory for figures\n",
    "    dt=str(datetime.datetime.now())[0:-7]\n",
    "    dt=dt.replace(\" \", \"_\")\n",
    "    dt=dt.replace(\":\", \"_\")\n",
    "    dt=dt.replace(\"-\", \"\")\n",
    "\n",
    "    base_path = '/g/data/w40/esh563/CPOL_analysis/figures/TINT/'\n",
    "    out_path = base_path + dt + '_tint_CPOL_lagrangian'\n",
    "    animate(tracks_obj, grids, out_path, style='updraft', uid=uid, \n",
    "            alt_low=0, alt_high=10000, keep_frames=False, dpi=100)\n",
    "    \n",
    "if __name__ == '__main__':\n",
    "    try:\n",
    "        test()\n",
    "    except:\n",
    "        extype, value, tb = sys.exc_info()\n",
    "        traceback.print_exc()\n",
    "        pdb.post_mortem(tb)"
   ]
  },
  {
   "cell_type": "code",
   "execution_count": null,
   "metadata": {
    "ExecuteTime": {
     "end_time": "2019-08-05T03:12:40.374607Z",
     "start_time": "2019-08-05T03:12:35.720427Z"
    },
    "scrolled": true
   },
   "outputs": [],
   "source": [
    "lon_min = 131.0 - 1.6\n",
    "lon_max = 131.0 + 1.6\n",
    "\n",
    "lat_max = -12.2 + 1.6\n",
    "lat_min = -12.2 - 1.6\n",
    "\n",
    "[filenames, start_time, end_time] = cf.CPOL_files_from_datetime_list(np.arange(np.datetime64('2006-02-10 10:00'), \n",
    "                                                                  np.datetime64('2006-02-10 12:00'), \n",
    "                                                                  np.timedelta64(10, 'm')))\n",
    "\n",
    "# filenames, start_time, end_time = CPOL_files_from_TINT_obj(tracks_obj, '1733')\n",
    "\n",
    "# Generate grid generator \n",
    "# Note generators produce iterators\n",
    "# These are alternative to using lists and looping\n",
    "grids = (pyart.io.read_grid(fn, include_fields = 'reflectivity')\n",
    "         for fn in filenames)\n",
    "\n",
    "# Create directory for figures\n",
    "dt=str(datetime.datetime.now())[0:-7]\n",
    "dt=dt.replace(\" \", \"_\")\n",
    "dt=dt.replace(\":\", \"_\")\n",
    "dt=dt.replace(\"-\", \"\")\n",
    "\n",
    "base_path = '/g/data/w40/esh563/CPOL_analysis/figures/TINT/'\n",
    "out_path = base_path + dt + '_tint_CPOL_anim'\n",
    "\n",
    "animate(tracks_obj, grids, out_path,\n",
    "        start_datetime = start_time,\n",
    "        end_datetime = end_time,\n",
    "        lat_lines=np.arange(lat_min, lat_max, .2),\n",
    "        lon_lines=np.arange(lon_min, lon_max, .2),\n",
    "        tracers=True, keep_frames=False, dpi=100, alt_low=1500,\n",
    "        alt_high=9500)"
   ]
  },
  {
   "cell_type": "code",
   "execution_count": 9,
   "metadata": {
    "ExecuteTime": {
     "end_time": "2019-08-02T03:06:03.999948Z",
     "start_time": "2019-08-02T03:06:03.772067Z"
    }
   },
   "outputs": [],
   "source": [
    "# Let's filter by tilt direction and magnitude, velocity magnitude\n",
    "# and significant area.\n",
    "forward_tilt = ((-45 <= tracks_obj.system_tracks['sys_rel_tilt_dir'])\n",
    "                & (tracks_obj.system_tracks['sys_rel_tilt_dir'] <= 45))\n",
    "backward_tilt = ((-135 >= tracks_obj.system_tracks['sys_rel_tilt_dir'])\n",
    "                | (tracks_obj.system_tracks['sys_rel_tilt_dir'] >= 135))\n",
    "left_tilt = ((45 <= tracks_obj.system_tracks['sys_rel_tilt_dir'])\n",
    "                & (tracks_obj.system_tracks['sys_rel_tilt_dir'] <= 135))\n",
    "right_tilt = ((-135 <= tracks_obj.system_tracks['sys_rel_tilt_dir'])\n",
    "                & (tracks_obj.system_tracks['sys_rel_tilt_dir'] <= -45))\n",
    "sig_tilt_mag = (tracks_obj.system_tracks['tilt_mag'] >= 2000)\n",
    "vel_mag = np.sqrt(tracks_obj.system_tracks['u']**2 \n",
    "                  + tracks_obj.system_tracks['v']**2)\n",
    "sig_vel_mag = ((vel_mag >= 5) & (vel_mag <= 40))\n",
    "eccentricity_mag = tracks_obj.system_tracks['eccentricity'] > .95\n",
    "# Note for CPOL 2.5 km, total scan area is only 66052 km^2. This makes \n",
    "# traditional MCS definitions of area > 30000 km^2 difficult to apply, \n",
    "# and still coherently calculate tilt. \n",
    "sig_area = ((tracks_obj.system_tracks['proj_area'] >= 5000) & \n",
    "            (tracks_obj.system_tracks['proj_area'] <= 50000))\n",
    "not_border = (tracks_obj.system_tracks['touch_border']*6.25 / tracks_obj.system_tracks['proj_area']) < 0.01\n",
    "\n",
    "tracks_0 = tracks_obj.tracks[['touch_border', 'proj_area']].xs(\n",
    "    0, level='level'\n",
    ")\n",
    "not_border_0 = (tracks_0['touch_border'] * 6.25 / tracks_0['proj_area']) < 0.01"
   ]
  },
  {
   "cell_type": "code",
   "execution_count": 18,
   "metadata": {
    "ExecuteTime": {
     "end_time": "2019-08-02T03:09:52.036975Z",
     "start_time": "2019-08-02T03:09:52.012592Z"
    }
   },
   "outputs": [
    {
     "data": {
      "text/plain": [
       "uid\n",
       "1733    37\n",
       "6403    31\n",
       "5156    29\n",
       "282     27\n",
       "3439    27\n",
       "5261    22\n",
       "1968    22\n",
       "318     22\n",
       "6607    21\n",
       "963     21\n",
       "3542    21\n",
       "6386    19\n",
       "2362    19\n",
       "2247    19\n",
       "2359    18\n",
       "1403    18\n",
       "5258    17\n",
       "854     17\n",
       "350     16\n",
       "1352    16\n",
       "dtype: int64"
      ]
     },
     "execution_count": 18,
     "metadata": {},
     "output_type": "execute_result"
    }
   ],
   "source": [
    "# Let's find the cells that were tracked for the most frames.\n",
    "sub_cond = sig_tilt_mag & sig_vel_mag & sig_area & not_border & not_border_0\n",
    "tracks_obj.system_tracks[sub_cond].groupby(level='uid').size().sort_values(ascending=False)[:20]"
   ]
  },
  {
   "cell_type": "code",
   "execution_count": 12,
   "metadata": {
    "ExecuteTime": {
     "end_time": "2019-08-02T03:06:23.506570Z",
     "start_time": "2019-08-02T03:06:23.441182Z"
    }
   },
   "outputs": [
    {
     "data": {
      "text/html": [
       "<div>\n",
       "<style scoped>\n",
       "    .dataframe tbody tr th:only-of-type {\n",
       "        vertical-align: middle;\n",
       "    }\n",
       "\n",
       "    .dataframe tbody tr th {\n",
       "        vertical-align: top;\n",
       "    }\n",
       "\n",
       "    .dataframe thead th {\n",
       "        text-align: right;\n",
       "    }\n",
       "</style>\n",
       "<table border=\"1\" class=\"dataframe\">\n",
       "  <thead>\n",
       "    <tr style=\"text-align: right;\">\n",
       "      <th></th>\n",
       "      <th></th>\n",
       "      <th>eccentricity</th>\n",
       "      <th>touch_border</th>\n",
       "      <th>proj_area</th>\n",
       "      <th>sys_rel_tilt_dir</th>\n",
       "    </tr>\n",
       "    <tr>\n",
       "      <th>scan</th>\n",
       "      <th>time</th>\n",
       "      <th></th>\n",
       "      <th></th>\n",
       "      <th></th>\n",
       "      <th></th>\n",
       "    </tr>\n",
       "  </thead>\n",
       "  <tbody>\n",
       "    <tr>\n",
       "      <th>9647</th>\n",
       "      <th>2005-02-01 18:20:08</th>\n",
       "      <td>0.977</td>\n",
       "      <td>11</td>\n",
       "      <td>9481.25</td>\n",
       "      <td>13.992</td>\n",
       "    </tr>\n",
       "    <tr>\n",
       "      <th>9662</th>\n",
       "      <th>2005-02-01 20:50:08</th>\n",
       "      <td>0.957</td>\n",
       "      <td>11</td>\n",
       "      <td>15887.50</td>\n",
       "      <td>4.254</td>\n",
       "    </tr>\n",
       "    <tr>\n",
       "      <th>9663</th>\n",
       "      <th>2005-02-01 21:00:09</th>\n",
       "      <td>0.956</td>\n",
       "      <td>15</td>\n",
       "      <td>15906.25</td>\n",
       "      <td>-7.155</td>\n",
       "    </tr>\n",
       "    <tr>\n",
       "      <th>9664</th>\n",
       "      <th>2005-02-01 21:10:15</th>\n",
       "      <td>0.961</td>\n",
       "      <td>13</td>\n",
       "      <td>15518.75</td>\n",
       "      <td>9.503</td>\n",
       "    </tr>\n",
       "  </tbody>\n",
       "</table>\n",
       "</div>"
      ],
      "text/plain": [
       "                          eccentricity  touch_border  proj_area  \\\n",
       "scan time                                                         \n",
       "9647 2005-02-01 18:20:08         0.977            11    9481.25   \n",
       "9662 2005-02-01 20:50:08         0.957            11   15887.50   \n",
       "9663 2005-02-01 21:00:09         0.956            15   15906.25   \n",
       "9664 2005-02-01 21:10:15         0.961            13   15518.75   \n",
       "\n",
       "                          sys_rel_tilt_dir  \n",
       "scan time                                   \n",
       "9647 2005-02-01 18:20:08            13.992  \n",
       "9662 2005-02-01 20:50:08             4.254  \n",
       "9663 2005-02-01 21:00:09            -7.155  \n",
       "9664 2005-02-01 21:10:15             9.503  "
      ]
     },
     "execution_count": 12,
     "metadata": {},
     "output_type": "execute_result"
    }
   ],
   "source": [
    "tracks_obj.system_tracks[sub_cond].xs('963', level='uid')[['eccentricity', 'touch_border', 'proj_area', 'sys_rel_tilt_dir']]"
   ]
  },
  {
   "cell_type": "markdown",
   "metadata": {},
   "source": [
    "# Calculate Some Statistics"
   ]
  },
  {
   "cell_type": "code",
   "execution_count": 15,
   "metadata": {
    "ExecuteTime": {
     "end_time": "2019-08-02T03:08:10.137278Z",
     "start_time": "2019-08-02T03:08:05.536648Z"
    }
   },
   "outputs": [],
   "source": [
    "subset_logic = sig_area & not_border & sig_vel_mag & sig_tilt_mag & not_border_0\n",
    "\n",
    "sub_tracks = tracks_obj.system_tracks[subset_logic]\n",
    "sub_uids = list(sorted(set([int(sub_tracks.index.values[i][2]) for i in range(len(sub_tracks))])))\n",
    "sub_uids = [str(i) for i in sub_uids]\n",
    "\n",
    "MCS_lengths = [len(sub_tracks.xs(i, level='uid').reset_index(level='time').index.values) for i in sub_uids]\n",
    "\n",
    "max_MCS = max(MCS_lengths)\n",
    "\n",
    "# Create 3 lists with lengths the lifetime of longest object.\n",
    "[TS, LS, PS] = [np.zeros(60) for i in range(3)]\n",
    "\n",
    "for i in sub_uids:\n",
    "    obj = sub_tracks.xs(i, level='uid').reset_index(level='time')\n",
    "    scans = obj.index.values\n",
    "    scan_label = scans - min(scans)\n",
    "    tilts = obj['sys_rel_tilt_dir']\n",
    "\n",
    "    forward_tilt = ((-45 <= tilts) & (tilts <= 45))\n",
    "    backward_tilt = ((-135 >= tilts) | (tilts >= 135))\n",
    "\n",
    "    fwd_inds = scan_label[np.argwhere(forward_tilt).flatten().tolist()].tolist()\n",
    "    bwd_inds = scan_label[np.argwhere(backward_tilt).flatten().tolist()].tolist()\n",
    "    pll_inds = scan_label[np.argwhere(~backward_tilt & ~forward_tilt).flatten().tolist()].tolist()\n",
    "\n",
    "    TS[bwd_inds] += 1\n",
    "    LS[fwd_inds] += 1\n",
    "    PS[pll_inds] += 1"
   ]
  },
  {
   "cell_type": "code",
   "execution_count": 16,
   "metadata": {
    "ExecuteTime": {
     "end_time": "2019-08-02T03:08:11.676714Z",
     "start_time": "2019-08-02T03:08:11.413406Z"
    }
   },
   "outputs": [
    {
     "data": {
      "text/plain": [
       "<matplotlib.legend.Legend at 0x7f97af41f048>"
      ]
     },
     "execution_count": 16,
     "metadata": {},
     "output_type": "execute_result"
    },
    {
     "data": {
      "image/png": "[encoded data removed]",
      "text/plain": [
       "<Figure size 432x288 with 1 Axes>"
      ]
     },
     "metadata": {
      "needs_background": "light"
     },
     "output_type": "display_data"
    }
   ],
   "source": [
    "plt.plot(np.arange(30,380,10), TS[3:38], label='TS count')\n",
    "plt.plot(np.arange(30,380,10), LS[3:38], label='LS count')\n",
    "plt.plot(np.arange(30,380,10), PS[3:38], label='PS count')\n",
    "plt.plot(np.arange(30,380,10), (TS+PS+LS)[3:38], label='Total count')\n",
    "plt.xticks(np.arange(30,380,30))\n",
    "plt.legend()"
   ]
  },
  {
   "cell_type": "code",
   "execution_count": 17,
   "metadata": {
    "ExecuteTime": {
     "end_time": "2019-08-02T03:08:23.315699Z",
     "start_time": "2019-08-02T03:08:23.089929Z"
    }
   },
   "outputs": [
    {
     "data": {
      "text/plain": [
       "<matplotlib.legend.Legend at 0x7f97af3827f0>"
      ]
     },
     "execution_count": 17,
     "metadata": {},
     "output_type": "execute_result"
    },
    {
     "data": {
      "image/png": "[encoded data removed]",
      "text/plain": [
       "<Figure size 432x288 with 1 Axes>"
      ]
     },
     "metadata": {
      "needs_background": "light"
     },
     "output_type": "display_data"
    }
   ],
   "source": [
    "tot = (TS+PS+LS)\n",
    "\n",
    "plt.plot(np.arange(30,380,10), (TS/tot)[3:38], label='TS ratio')\n",
    "plt.plot(np.arange(30,380,10), (LS/tot)[3:38], label='LS ratio')\n",
    "plt.plot(np.arange(30,380,10), (PS/tot)[3:38], label='PS ratio')\n",
    "# plt.plot(np.arange(30,380,10), (TS+PS+LS)[3:38], label='Total')\n",
    "plt.xticks(np.arange(30,380,30))\n",
    "plt.legend()\n",
    "# Note that we don't really know the start times of the systems!"
   ]
  },
  {
   "cell_type": "code",
   "execution_count": null,
   "metadata": {},
   "outputs": [],
   "source": []
  }
 ],
 "metadata": {
  "kernelspec": {
   "display_name": "Python [conda env:analysis3-19.04]",
   "language": "python",
   "name": "conda-env-analysis3-19.04-py"
  },
  "language_info": {
   "codemirror_mode": {
    "name": "ipython",
    "version": 3
   },
   "file_extension": ".py",
   "mimetype": "text/x-python",
   "name": "python",
   "nbconvert_exporter": "python",
   "pygments_lexer": "ipython3",
   "version": "3.6.7"
  },
  "toc": {
   "base_numbering": 1,
   "nav_menu": {},
   "number_sections": true,
   "sideBar": true,
   "skip_h1_title": false,
   "title_cell": "Table of Contents",
   "title_sidebar": "Contents",
   "toc_cell": false,
   "toc_position": {},
   "toc_section_display": true,
   "toc_window_display": false
  }
 },
 "nbformat": 4,
 "nbformat_minor": 2
}
