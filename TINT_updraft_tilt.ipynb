{
 "cells": [
  {
   "cell_type": "markdown",
   "metadata": {},
   "source": [
    "# Setup"
   ]
  },
  {
   "cell_type": "code",
   "execution_count": 1,
   "metadata": {
    "ExecuteTime": {
     "end_time": "2020-01-16T05:43:44.484536Z",
     "start_time": "2020-01-16T05:43:35.225895Z"
    },
    "scrolled": true
   },
   "outputs": [
    {
     "name": "stdout",
     "output_type": "stream",
     "text": [
      "\n",
      "## You are using the Python ARM Radar Toolkit (Py-ART), an open source\n",
      "## library for working with weather radar data. Py-ART is partly\n",
      "## supported by the U.S. Department of Energy as part of the Atmospheric\n",
      "## Radiation Measurement (ARM) Climate Research Facility, an Office of\n",
      "## Science user facility.\n",
      "##\n",
      "## If you use this software to prepare a publication, please cite:\n",
      "##\n",
      "##     JJ Helmus and SM Collis, JORS 2016, doi: 10.5334/jors.119\n",
      "\n"
     ]
    },
    {
     "name": "stderr",
     "output_type": "stream",
     "text": [
      "/home/563/esh563/pyart/pyart/graph/cm.py:104: FutureWarning: elementwise comparison failed; returning scalar instead, but in the future will perform elementwise comparison\n",
      "  if 'red' in spec:\n",
      "/home/563/esh563/pyart/pyart/graph/cm_colorblind.py:32: FutureWarning: elementwise comparison failed; returning scalar instead, but in the future will perform elementwise comparison\n",
      "  if 'red' in spec:\n"
     ]
    }
   ],
   "source": [
    "# Core\n",
    "import datetime\n",
    "import os\n",
    "import glob\n",
    "import tempfile\n",
    "import sys\n",
    "import pickle\n",
    "import copy\n",
    "\n",
    "# Analysis\n",
    "import numpy as np\n",
    "import pandas as pd\n",
    "import xarray as xr\n",
    "\n",
    "# Plotting\n",
    "import matplotlib.pyplot as plt\n",
    "import matplotlib as mpl\n",
    "\n",
    "# Debugging\n",
    "import pdb, traceback\n",
    "%load_ext line_profiler\n",
    "\n",
    "# Radar Tools\n",
    "import pyart\n",
    "import tint\n",
    "import tint.visualization\n",
    "import tint.visualization_aux\n",
    "from tint import animate"
   ]
  },
  {
   "cell_type": "code",
   "execution_count": 2,
   "metadata": {
    "ExecuteTime": {
     "end_time": "2020-01-16T05:43:44.497722Z",
     "start_time": "2020-01-16T05:43:44.489446Z"
    }
   },
   "outputs": [],
   "source": [
    "import CPOL_func as cf\n",
    "import caine_func as caf\n",
    "import helpers"
   ]
  },
  {
   "cell_type": "code",
   "execution_count": 3,
   "metadata": {
    "ExecuteTime": {
     "end_time": "2020-01-16T05:43:44.611977Z",
     "start_time": "2020-01-16T05:43:44.502335Z"
    }
   },
   "outputs": [],
   "source": [
    "# Convenience functions\n",
    "%load_ext autoreload\n",
    "%autoreload 1\n",
    "%aimport CPOL_func\n",
    "%aimport caine_func\n",
    "%aimport tint.visualization\n",
    "%aimport tint.visualization_aux\n",
    "%aimport tint.tracks\n",
    "%aimport tint.objects\n",
    "%aimport tint.grid_utils\n",
    "%aimport helpers"
   ]
  },
  {
   "cell_type": "markdown",
   "metadata": {},
   "source": [
    "# Create Tracks"
   ]
  },
  {
   "cell_type": "code",
   "execution_count": 4,
   "metadata": {
    "ExecuteTime": {
     "end_time": "2020-01-16T05:43:44.617675Z",
     "start_time": "2020-01-16T05:43:44.614726Z"
    }
   },
   "outputs": [],
   "source": [
    "mp='reality'"
   ]
  },
  {
   "cell_type": "code",
   "execution_count": 22,
   "metadata": {
    "ExecuteTime": {
     "end_time": "2020-01-16T06:07:29.690461Z",
     "start_time": "2020-01-16T06:07:24.073175Z"
    },
    "scrolled": true
   },
   "outputs": [
    {
     "name": "stdout",
     "output_type": "stream",
     "text": [
      "Gathering files.\n",
      "Calculating additional tracks properties.\n",
      "Calculating system tracks.\n",
      "\n",
      "\n",
      "Time elapsed: 0.1 minutes\n"
     ]
    }
   ],
   "source": [
    "def test():\n",
    "    filenames = cf.CPOL_files_from_datetime_list(\n",
    "        np.arange(np.datetime64('2006-02-10 08:00'), \n",
    "                  np.datetime64('2006-02-10 12:00'), \n",
    "                  np.timedelta64(10, 'm'))\n",
    "    )[0]\n",
    "    \n",
    "#     [filenames, start_time, end_time] = caf.caine_files_from_datetime_list(\n",
    "#         np.arange(np.datetime64('2006-02-09 00:00'), \n",
    "#                   np.datetime64('2006-02-13 12:30'), \n",
    "#                   np.timedelta64(10, 'm')), mp=mp\n",
    "#     )\n",
    "\n",
    "    # Generate grid generator \n",
    "    # Note generators produce iterators\n",
    "    # These are alternative to using lists and looping\n",
    "    grids = (pyart.io.read_grid(fn, include_fields = ['reflectivity', 'radar_estimated_rain_rate'])\n",
    "             for fn in filenames)\n",
    "\n",
    "    with open('/g/data/w40/esh563/CPOL_analysis/TINT_tracks/circ_b_ind_set.pkl', \n",
    "              'rb') as f:\n",
    "        b_ind_set = pickle.load(f)\n",
    "\n",
    "    # Define settings for tracking\n",
    "    settings = {\n",
    "        'MIN_SIZE' : [40, 400, 800], # square km\n",
    "        'FIELD_THRESH' : ['convective', 20, 15], # DbZ\n",
    "        'ISO_THRESH' : [10, 10, 10], # DbZ\n",
    "        'GS_ALT' : 3000,\n",
    "        'SEARCH_MARGIN' : 50000, # m. This is just for object matching step:\n",
    "        # does not affect flow vectors. Note CPOL cells 2500mx2500m. \n",
    "        'FLOW_MARGIN' : 40000, # m. Margin around object over which to\n",
    "        # perform phase correlation.\n",
    "        'LEVELS' : np.array( # m\n",
    "            [[3000, 3500], \n",
    "             [3500, 7500],\n",
    "             [7500, 10000]]\n",
    "        ),\n",
    "        'TRACK_INTERVAL' : 0,\n",
    "        'BOUNDARY_GRID_CELLS' : b_ind_set,\n",
    "        'UPDRAFT_START': 3000\n",
    "    }\n",
    "\n",
    "    tracks_obj  = tint.Cell_tracks()\n",
    "\n",
    "    for parameter in ['MIN_SIZE', 'FIELD_THRESH', 'GS_ALT', 'LEVELS', \n",
    "                      'TRACK_INTERVAL', 'ISO_THRESH', 'SEARCH_MARGIN',\n",
    "                      'FLOW_MARGIN', 'BOUNDARY_GRID_CELLS', 'UPDRAFT_START'\n",
    "                     ]:\n",
    "        tracks_obj.params[parameter] = settings[parameter]\n",
    "\n",
    "    # Calculate tracks\n",
    "#     %lprun -T lprof0 -f tint.tracks.Cell_tracks.get_tracks tracks_obj.get_tracks(grids)\n",
    "    tracks_obj.get_tracks(grids, rain=True)\n",
    "    #tracks_obj = cf.get_reanalysis_vars(tracks_obj)\n",
    "\n",
    "    # Create directory for figures\n",
    "    dt=str(datetime.datetime.now())[0:-7]\n",
    "    dt=dt.replace(\" \", \"_\")\n",
    "    dt=dt.replace(\":\", \"_\")\n",
    "    dt=dt.replace(\"-\", \"\")\n",
    "\n",
    "    out_file_name = ('/g/data/w40/esh563/CPOL_analysis/TINT_tracks/'\n",
    "                     + 'tracks_obj_{}.pkl'.format(mp))\n",
    "\n",
    "    with open(out_file_name, 'wb') as f:\n",
    "        pickle.dump(tracks_obj, f)\n",
    "        \n",
    "    return tracks_obj\n",
    "        \n",
    "if __name__ == '__main__':\n",
    "    try:\n",
    "        tracks_obj = test()\n",
    "    except:\n",
    "        extype, value, tb = sys.exc_info()\n",
    "        traceback.print_exc()\n",
    "        pdb.post_mortem(tb)\n",
    "        \n",
    "# print(open('lprof0', 'r').read())"
   ]
  },
  {
   "cell_type": "code",
   "execution_count": 30,
   "metadata": {
    "ExecuteTime": {
     "end_time": "2020-01-16T06:11:21.194915Z",
     "start_time": "2020-01-16T06:11:21.165671Z"
    }
   },
   "outputs": [
    {
     "data": {
      "text/plain": [
       "scan  time               \n",
       "1     2006-02-10 08:10:09    [38, 111]\n",
       "2     2006-02-10 08:20:09    [37, 106]\n",
       "3     2006-02-10 08:30:09    [43, 107]\n",
       "4     2006-02-10 08:40:09    [43, 107]\n",
       "5     2006-02-10 08:50:09    [43, 107]\n",
       "6     2006-02-10 09:00:09    [48, 108]\n",
       "7     2006-02-10 09:10:10    [54, 112]\n",
       "8     2006-02-10 09:20:09    [49, 104]\n",
       "9     2006-02-10 09:30:08    [49, 104]\n",
       "10    2006-02-10 09:40:08    [49, 104]\n",
       "11    2006-02-10 09:50:08    [49, 104]\n",
       "12    2006-02-10 10:00:09    [49, 104]\n",
       "13    2006-02-10 10:10:10    [49, 104]\n",
       "14    2006-02-10 10:20:09    [49, 104]\n",
       "15    2006-02-10 10:30:09    [49, 104]\n",
       "16    2006-02-10 10:40:09    [49, 104]\n",
       "17    2006-02-10 10:50:09    [49, 104]\n",
       "18    2006-02-10 11:00:09    [49, 104]\n",
       "19    2006-02-10 11:10:09    [49, 104]\n",
       "20    2006-02-10 11:20:08    [49, 104]\n",
       "21    2006-02-10 11:30:08    [49, 104]\n",
       "22    2006-02-10 11:40:08    [49, 104]\n",
       "Name: tot_rain_loc, dtype: object"
      ]
     },
     "execution_count": 30,
     "metadata": {},
     "output_type": "execute_result"
    }
   ],
   "source": [
    "tracks_obj.system_tracks.xs('1', level='uid')['tot_rain_loc']"
   ]
  },
  {
   "cell_type": "code",
   "execution_count": 20,
   "metadata": {
    "ExecuteTime": {
     "end_time": "2020-01-16T04:05:40.454322Z",
     "start_time": "2020-01-16T04:05:40.446082Z"
    }
   },
   "outputs": [],
   "source": [
    "x=np.array([1,2,3,4])"
   ]
  },
  {
   "cell_type": "code",
   "execution_count": 21,
   "metadata": {
    "ExecuteTime": {
     "end_time": "2020-01-16T04:05:41.677488Z",
     "start_time": "2020-01-16T04:05:41.666705Z"
    }
   },
   "outputs": [
    {
     "data": {
      "text/plain": [
       "array([1, 2])"
      ]
     },
     "execution_count": 21,
     "metadata": {},
     "output_type": "execute_result"
    }
   ],
   "source": [
    "x[[True,True,False,False]]"
   ]
  },
  {
   "cell_type": "markdown",
   "metadata": {
    "heading_collapsed": true
   },
   "source": [
    "# Load Tracks"
   ]
  },
  {
   "cell_type": "code",
   "execution_count": 7,
   "metadata": {
    "ExecuteTime": {
     "end_time": "2020-01-15T23:12:34.444507Z",
     "start_time": "2020-01-15T23:11:48.275020Z"
    },
    "hidden": true
   },
   "outputs": [],
   "source": [
    "with open('/g/data/w40/esh563/CPOL_analysis/TINT_tracks/tracks_obj_com_2001_2014.pkl', 'rb') as f:\n",
    "    tracks_obj = pickle.load(f)"
   ]
  },
  {
   "cell_type": "markdown",
   "metadata": {
    "ExecuteTime": {
     "end_time": "2020-01-15T23:20:40.615067Z",
     "start_time": "2020-01-15T23:20:40.606747Z"
    },
    "heading_collapsed": true
   },
   "source": [
    "# Create Animations"
   ]
  },
  {
   "cell_type": "code",
   "execution_count": 62,
   "metadata": {
    "ExecuteTime": {
     "end_time": "2020-01-16T00:00:37.645421Z",
     "start_time": "2020-01-15T23:59:40.388025Z"
    },
    "hidden": true,
    "scrolled": true
   },
   "outputs": [
    {
     "name": "stdout",
     "output_type": "stream",
     "text": [
      "Gathering files.\n",
      "Animating from 2003-02-21T08:00 to 2003-02-21T10:20.\n",
      "Plotting scan at 2003-02-21T10:10:05.\n",
      "Reached 2003-02-21T10:20.\n",
      "Breaking loop.\n",
      "\n",
      "Creating GIF - may take a few minutes.\n"
     ]
    }
   ],
   "source": [
    "def test():\n",
    "    lon_min = 131.0 - 1.6\n",
    "    lon_max = 131.0 + 1.6\n",
    "\n",
    "    lat_max = -12.2 + 1.6\n",
    "    lat_min = -12.2 - 1.6\n",
    "    \n",
    "    tracks_obj_temp = tracks_obj\n",
    "\n",
    "#     filenames, start_time, end_time = caf.caine_files_from_TINT_obj(\n",
    "#         tracks_obj_temp, '13', mp=mp\n",
    "#     )\n",
    "    \n",
    "    [filenames, start_time, end_time] = cf.CPOL_files_from_datetime_list(\n",
    "        np.arange(np.datetime64('2003-02-21 08:00'), \n",
    "                  np.datetime64('2003-02-21 10:30'), \n",
    "                  np.timedelta64(10, 'm'))\n",
    "    )\n",
    "\n",
    "#     [filenames, start_time, end_time] = caf.caine_files_from_datetime_list(\n",
    "#         np.arange(np.datetime64('2006-02-09 10:00'), \n",
    "#                   np.datetime64('2006-02-09 11:00'), \n",
    "#                   np.timedelta64(10, 'm')), mp='lin'\n",
    "#     )\n",
    "    \n",
    "    \n",
    "#     tracks_obj_temp.tracks = tracks_obj_temp.tracks[sub_cond]\n",
    "#     tracks_obj_temp.system_tracks = tracks_obj_temp.system_tracks[sub_cond_sys]\n",
    "\n",
    "    # Generate grid generator \n",
    "    # Note generators produce iterators\n",
    "    # These are alternative to using lists and looping\n",
    "    grids = (pyart.io.read_grid(fn, include_fields = 'reflectivity')\n",
    "             for fn in filenames)\n",
    "\n",
    "    # Create directory for figures\n",
    "    dt=str(datetime.datetime.now())[0:-7]\n",
    "    dt=dt.replace(\" \", \"_\")\n",
    "    dt=dt.replace(\":\", \"_\")\n",
    "    dt=dt.replace(\"-\", \"\")\n",
    "\n",
    "    base_path = '/g/data/w40/esh563/CPOL_analysis/figures/TINT/'\n",
    "    out_path = base_path + dt + '_tint_CPOL_anim'\n",
    "\n",
    "    animate(tracks_obj_temp, grids, out_path,\n",
    "            start_datetime = start_time,\n",
    "            end_datetime = end_time,\n",
    "            lat_lines=np.arange(lat_min, lat_max, .2),\n",
    "            lon_lines=np.arange(lon_min, lon_max, .2),\n",
    "            tracers=False, keep_frames=False, dpi=100, alt_low=3000,\n",
    "            alt_high=10000, scan_boundary=False, wrf_winds=False, \n",
    "            line_coords=False, mp=mp)\n",
    "    \n",
    "if __name__ == '__main__':\n",
    "    try:\n",
    "        test()\n",
    "    except:\n",
    "        extype, value, tb = sys.exc_info()\n",
    "        traceback.print_exc()\n",
    "        pdb.post_mortem(tb)"
   ]
  },
  {
   "cell_type": "code",
   "execution_count": null,
   "metadata": {
    "ExecuteTime": {
     "end_time": "2020-01-12T22:50:26.359289Z",
     "start_time": "2020-01-12T22:50:26.135637Z"
    },
    "hidden": true,
    "scrolled": true
   },
   "outputs": [],
   "source": [
    "def test():\n",
    "    uid = '13'\n",
    "    filenames, start_time, end_time = caf.caine_files_from_TINT_obj(\n",
    "        tracks_obj, uid, mp=mp    \n",
    "    )\n",
    "\n",
    "    lon_min = 131.0 - 2.6\n",
    "    lon_max = 131.0 + 2.6\n",
    "\n",
    "    lat_max = -12.2 + 2.6\n",
    "    lat_min = -12.2 - 2.6\n",
    "    \n",
    "#     [filenames, start_time, end_time] = cf.CPOL_files_from_datetime_list(\n",
    "#         np.arange(np.datetime64('2003-12-20 08:20'), \n",
    "#                   np.datetime64('2003-12-20 08:30'), \n",
    "#                   np.timedelta64(10, 'm'))\n",
    "#     )\n",
    "\n",
    "#     [filenames, start_time, end_time] = caf.caine_files_from_datetime_list(\n",
    "#         np.arange(np.datetime64('2006-02-09 10:30'), \n",
    "#                   np.datetime64('2006-02-09 10:40'), \n",
    "#                   np.timedelta64(10, 'm')), mp=mp\n",
    "#     )\n",
    "\n",
    "    grids = (pyart.io.read_grid(fn) for fn in filenames)  # refresh grid generator\n",
    "\n",
    "    # Create directory for figures\n",
    "    dt=str(datetime.datetime.now())[0:-7]\n",
    "    dt=dt.replace(\" \", \"_\")\n",
    "    dt=dt.replace(\":\", \"_\")\n",
    "    dt=dt.replace(\"-\", \"\")\n",
    "    \n",
    "    base_path = '/g/data/w40/esh563/CPOL_analysis/figures/TINT/'\n",
    "    out_path = base_path + dt + '_tint_CPOL_lagrangian'\n",
    "    animate(tracks_obj, grids, out_path, style='updraft', uid=uid, \n",
    "            alt_low=3000, alt_high=10000, keep_frames=False, dpi=100,\n",
    "            lat_lines=np.arange(lat_min, lat_max, .2),\n",
    "            lon_lines=np.arange(lon_min, lon_max, .2), \n",
    "            center_ud=False, wrf_winds=True, line_coords=True,\n",
    "            average_along_line=True, quiver=False, mp=mp)\n",
    "    \n",
    "if __name__ == '__main__':\n",
    "    try:\n",
    "        test()\n",
    "    except:\n",
    "        extype, value, tb = sys.exc_info()\n",
    "        traceback.print_exc()\n",
    "        pdb.post_mortem(tb)"
   ]
  },
  {
   "cell_type": "markdown",
   "metadata": {
    "heading_collapsed": true
   },
   "source": [
    "# Create Categories"
   ]
  },
  {
   "cell_type": "code",
   "execution_count": 11,
   "metadata": {
    "ExecuteTime": {
     "end_time": "2020-01-15T23:18:30.373916Z",
     "start_time": "2020-01-15T23:18:20.357661Z"
    },
    "hidden": true
   },
   "outputs": [],
   "source": [
    "categories = helpers.create_categories(tracks_obj)"
   ]
  },
  {
   "cell_type": "code",
   "execution_count": 39,
   "metadata": {
    "ExecuteTime": {
     "end_time": "2020-01-15T22:57:07.715718Z",
     "start_time": "2020-01-15T22:57:06.878065Z"
    },
    "hidden": true
   },
   "outputs": [
    {
     "data": {
      "text/plain": [
       "uid\n",
       "25215    80\n",
       "17489    56\n",
       "7495     54\n",
       "2415     47\n",
       "9478     46\n",
       "11993    46\n",
       "4736     46\n",
       "2817     45\n",
       "1656     44\n",
       "9489     43\n",
       "10387    43\n",
       "6797     43\n",
       "2718     42\n",
       "24680    42\n",
       "12111    41\n",
       "11960    41\n",
       "17514    40\n",
       "11578    40\n",
       "6075     40\n",
       "2657     40\n",
       "dtype: int64"
      ]
     },
     "execution_count": 39,
     "metadata": {},
     "output_type": "execute_result"
    }
   ],
   "source": [
    "# Let's find the cells that were tracked for the most frames.\n",
    "sub_cond_sys = not_border_0 * linear\n",
    "sub_cond = sub_cond_sys.append([sub_cond_sys]*2).sort_index(sort_remaining=True)\n",
    "levels = np.array([0,1,2]*len(sub_cond_sys))\n",
    "\n",
    "sub_cond = sub_cond.to_frame()\n",
    "sub_cond.insert(0, 'level', levels)\n",
    "sub_cond = sub_cond.reset_index()\n",
    "\n",
    "sub_cond = sub_cond.set_index(['scan', 'time', 'level', 'uid'])\n",
    "# sub_cond = sub_cond.ix[:,0]\n",
    "# tracks_obj.tracks[sub_cond]\n",
    "tracks_obj.system_tracks[sub_cond_sys].groupby(level='uid').size().sort_values(ascending=False)[:20]"
   ]
  },
  {
   "cell_type": "code",
   "execution_count": 25,
   "metadata": {
    "ExecuteTime": {
     "end_time": "2020-01-15T23:33:56.362871Z",
     "start_time": "2020-01-15T23:33:56.340174Z"
    },
    "hidden": true
   },
   "outputs": [
    {
     "data": {
      "text/plain": [
       "MultiIndex([(   19, '2001-11-01 05:30:00',     '0'),\n",
       "            (   20, '2001-11-01 05:40:00',     '0'),\n",
       "            (   21, '2001-11-01 05:50:01',     '0'),\n",
       "            (   22, '2001-11-01 06:00:01',     '0'),\n",
       "            (   23, '2001-11-01 06:10:00',     '0'),\n",
       "            (   23, '2001-11-01 06:10:00',     '1'),\n",
       "            (   24, '2001-11-01 06:20:00',     '0'),\n",
       "            (   24, '2001-11-01 06:20:00',     '1'),\n",
       "            (   25, '2001-11-01 06:30:00',     '0'),\n",
       "            (   25, '2001-11-01 06:30:00',     '1'),\n",
       "            ...\n",
       "            (18791, '2015-03-28 18:40:02', '25944'),\n",
       "            (18792, '2015-03-28 18:50:06', '25943'),\n",
       "            (18792, '2015-03-28 18:50:06', '25944'),\n",
       "            (18793, '2015-03-28 19:00:02', '25943'),\n",
       "            (18793, '2015-03-28 19:00:02', '25944'),\n",
       "            (18794, '2015-03-28 19:10:02', '25945'),\n",
       "            (18795, '2015-03-28 19:20:02', '25946'),\n",
       "            (18796, '2015-03-28 19:30:03', '25946'),\n",
       "            (18797, '2015-03-28 19:40:01', '25946'),\n",
       "            (18799, '2015-03-28 20:00:01', '25947')],\n",
       "           names=['scan', 'time', 'uid'], length=152884)"
      ]
     },
     "execution_count": 25,
     "metadata": {},
     "output_type": "execute_result"
    }
   ],
   "source": [
    "tracks_obj.system_tracks.index"
   ]
  },
  {
   "cell_type": "code",
   "execution_count": 60,
   "metadata": {
    "ExecuteTime": {
     "end_time": "2020-01-15T23:49:21.425058Z",
     "start_time": "2020-01-15T23:49:21.329960Z"
    },
    "hidden": true
   },
   "outputs": [
    {
     "data": {
      "text/html": [
       "<div>\n",
       "<style scoped>\n",
       "    .dataframe tbody tr th:only-of-type {\n",
       "        vertical-align: middle;\n",
       "    }\n",
       "\n",
       "    .dataframe tbody tr th {\n",
       "        vertical-align: top;\n",
       "    }\n",
       "\n",
       "    .dataframe thead th {\n",
       "        text-align: right;\n",
       "    }\n",
       "</style>\n",
       "<table border=\"1\" class=\"dataframe\">\n",
       "  <thead>\n",
       "    <tr style=\"text-align: right;\">\n",
       "      <th></th>\n",
       "      <th></th>\n",
       "      <th>grid_x</th>\n",
       "      <th>grid_y</th>\n",
       "      <th>com_x</th>\n",
       "      <th>com_y</th>\n",
       "      <th>lon</th>\n",
       "      <th>lat</th>\n",
       "      <th>u</th>\n",
       "      <th>v</th>\n",
       "      <th>mergers</th>\n",
       "      <th>u_shift</th>\n",
       "      <th>...</th>\n",
       "      <th>v_shear</th>\n",
       "      <th>u_cl</th>\n",
       "      <th>v_cl</th>\n",
       "      <th>shear_dir</th>\n",
       "      <th>shear_mag</th>\n",
       "      <th>prop_dir</th>\n",
       "      <th>prop_mag</th>\n",
       "      <th>u_prop</th>\n",
       "      <th>v_prop</th>\n",
       "      <th>shear_rel_prop_dir</th>\n",
       "    </tr>\n",
       "    <tr>\n",
       "      <th>scan</th>\n",
       "      <th>time</th>\n",
       "      <th></th>\n",
       "      <th></th>\n",
       "      <th></th>\n",
       "      <th></th>\n",
       "      <th></th>\n",
       "      <th></th>\n",
       "      <th></th>\n",
       "      <th></th>\n",
       "      <th></th>\n",
       "      <th></th>\n",
       "      <th></th>\n",
       "      <th></th>\n",
       "      <th></th>\n",
       "      <th></th>\n",
       "      <th></th>\n",
       "      <th></th>\n",
       "      <th></th>\n",
       "      <th></th>\n",
       "      <th></th>\n",
       "      <th></th>\n",
       "      <th></th>\n",
       "    </tr>\n",
       "  </thead>\n",
       "  <tbody>\n",
       "    <tr>\n",
       "      <td>15369</td>\n",
       "      <td>2003-02-21 08:20:01</td>\n",
       "      <td>55921.1</td>\n",
       "      <td>-1315.8</td>\n",
       "      <td>55405.9</td>\n",
       "      <td>-1454.6</td>\n",
       "      <td>131.55435</td>\n",
       "      <td>-12.26178</td>\n",
       "      <td>NaN</td>\n",
       "      <td>NaN</td>\n",
       "      <td>{}</td>\n",
       "      <td>6.257</td>\n",
       "      <td>...</td>\n",
       "      <td>NaN</td>\n",
       "      <td>NaN</td>\n",
       "      <td>NaN</td>\n",
       "      <td>NaN</td>\n",
       "      <td>NaN</td>\n",
       "      <td>NaN</td>\n",
       "      <td>NaN</td>\n",
       "      <td>NaN</td>\n",
       "      <td>NaN</td>\n",
       "      <td>NaN</td>\n",
       "    </tr>\n",
       "    <tr>\n",
       "      <td>15370</td>\n",
       "      <td>2003-02-21 08:30:01</td>\n",
       "      <td>53942.3</td>\n",
       "      <td>3846.2</td>\n",
       "      <td>53965.4</td>\n",
       "      <td>3683.9</td>\n",
       "      <td>131.54101</td>\n",
       "      <td>-12.21559</td>\n",
       "      <td>NaN</td>\n",
       "      <td>NaN</td>\n",
       "      <td>{}</td>\n",
       "      <td>5.560</td>\n",
       "      <td>...</td>\n",
       "      <td>NaN</td>\n",
       "      <td>NaN</td>\n",
       "      <td>NaN</td>\n",
       "      <td>NaN</td>\n",
       "      <td>NaN</td>\n",
       "      <td>NaN</td>\n",
       "      <td>NaN</td>\n",
       "      <td>NaN</td>\n",
       "      <td>NaN</td>\n",
       "      <td>NaN</td>\n",
       "    </tr>\n",
       "    <tr>\n",
       "      <td>15371</td>\n",
       "      <td>2003-02-21 08:40:00</td>\n",
       "      <td>61875.0</td>\n",
       "      <td>4479.2</td>\n",
       "      <td>61987.5</td>\n",
       "      <td>4460.0</td>\n",
       "      <td>131.61481</td>\n",
       "      <td>-12.20847</td>\n",
       "      <td>6.387</td>\n",
       "      <td>0.184</td>\n",
       "      <td>{}</td>\n",
       "      <td>4.996</td>\n",
       "      <td>...</td>\n",
       "      <td>NaN</td>\n",
       "      <td>NaN</td>\n",
       "      <td>NaN</td>\n",
       "      <td>NaN</td>\n",
       "      <td>NaN</td>\n",
       "      <td>NaN</td>\n",
       "      <td>NaN</td>\n",
       "      <td>NaN</td>\n",
       "      <td>NaN</td>\n",
       "      <td>NaN</td>\n",
       "    </tr>\n",
       "    <tr>\n",
       "      <td>15372</td>\n",
       "      <td>2003-02-21 08:50:00</td>\n",
       "      <td>68783.8</td>\n",
       "      <td>3648.6</td>\n",
       "      <td>68775.4</td>\n",
       "      <td>3557.4</td>\n",
       "      <td>131.67729</td>\n",
       "      <td>-12.21645</td>\n",
       "      <td>8.224</td>\n",
       "      <td>-1.198</td>\n",
       "      <td>{}</td>\n",
       "      <td>4.163</td>\n",
       "      <td>...</td>\n",
       "      <td>NaN</td>\n",
       "      <td>NaN</td>\n",
       "      <td>NaN</td>\n",
       "      <td>NaN</td>\n",
       "      <td>NaN</td>\n",
       "      <td>NaN</td>\n",
       "      <td>NaN</td>\n",
       "      <td>NaN</td>\n",
       "      <td>NaN</td>\n",
       "      <td>NaN</td>\n",
       "    </tr>\n",
       "    <tr>\n",
       "      <td>15373</td>\n",
       "      <td>2003-02-21 09:00:00</td>\n",
       "      <td>71250.0</td>\n",
       "      <td>-875.0</td>\n",
       "      <td>71303.6</td>\n",
       "      <td>-460.5</td>\n",
       "      <td>131.70064</td>\n",
       "      <td>-12.25253</td>\n",
       "      <td>3.170</td>\n",
       "      <td>0.181</td>\n",
       "      <td>{}</td>\n",
       "      <td>3.328</td>\n",
       "      <td>...</td>\n",
       "      <td>NaN</td>\n",
       "      <td>NaN</td>\n",
       "      <td>NaN</td>\n",
       "      <td>NaN</td>\n",
       "      <td>NaN</td>\n",
       "      <td>NaN</td>\n",
       "      <td>NaN</td>\n",
       "      <td>NaN</td>\n",
       "      <td>NaN</td>\n",
       "      <td>NaN</td>\n",
       "    </tr>\n",
       "    <tr>\n",
       "      <td>15374</td>\n",
       "      <td>2003-02-21 09:10:05</td>\n",
       "      <td>73680.6</td>\n",
       "      <td>972.2</td>\n",
       "      <td>73455.5</td>\n",
       "      <td>1281.5</td>\n",
       "      <td>131.72040</td>\n",
       "      <td>-12.23682</td>\n",
       "      <td>3.227</td>\n",
       "      <td>-0.016</td>\n",
       "      <td>{}</td>\n",
       "      <td>3.328</td>\n",
       "      <td>...</td>\n",
       "      <td>NaN</td>\n",
       "      <td>NaN</td>\n",
       "      <td>NaN</td>\n",
       "      <td>NaN</td>\n",
       "      <td>NaN</td>\n",
       "      <td>NaN</td>\n",
       "      <td>NaN</td>\n",
       "      <td>NaN</td>\n",
       "      <td>NaN</td>\n",
       "      <td>NaN</td>\n",
       "    </tr>\n",
       "    <tr>\n",
       "      <td>15375</td>\n",
       "      <td>2003-02-21 09:20:01</td>\n",
       "      <td>69482.8</td>\n",
       "      <td>4913.8</td>\n",
       "      <td>69557.7</td>\n",
       "      <td>5118.8</td>\n",
       "      <td>131.68445</td>\n",
       "      <td>-12.20239</td>\n",
       "      <td>4.688</td>\n",
       "      <td>0.365</td>\n",
       "      <td>{}</td>\n",
       "      <td>3.328</td>\n",
       "      <td>...</td>\n",
       "      <td>NaN</td>\n",
       "      <td>NaN</td>\n",
       "      <td>NaN</td>\n",
       "      <td>NaN</td>\n",
       "      <td>NaN</td>\n",
       "      <td>NaN</td>\n",
       "      <td>NaN</td>\n",
       "      <td>NaN</td>\n",
       "      <td>NaN</td>\n",
       "      <td>NaN</td>\n",
       "    </tr>\n",
       "    <tr>\n",
       "      <td>15376</td>\n",
       "      <td>2003-02-21 09:30:00</td>\n",
       "      <td>76527.8</td>\n",
       "      <td>3611.1</td>\n",
       "      <td>76287.6</td>\n",
       "      <td>3790.8</td>\n",
       "      <td>131.74641</td>\n",
       "      <td>-12.21418</td>\n",
       "      <td>6.463</td>\n",
       "      <td>-0.374</td>\n",
       "      <td>{}</td>\n",
       "      <td>3.335</td>\n",
       "      <td>...</td>\n",
       "      <td>NaN</td>\n",
       "      <td>NaN</td>\n",
       "      <td>NaN</td>\n",
       "      <td>NaN</td>\n",
       "      <td>NaN</td>\n",
       "      <td>NaN</td>\n",
       "      <td>NaN</td>\n",
       "      <td>NaN</td>\n",
       "      <td>NaN</td>\n",
       "      <td>NaN</td>\n",
       "    </tr>\n",
       "    <tr>\n",
       "      <td>15377</td>\n",
       "      <td>2003-02-21 09:40:00</td>\n",
       "      <td>82500.0</td>\n",
       "      <td>0.0</td>\n",
       "      <td>81964.6</td>\n",
       "      <td>652.3</td>\n",
       "      <td>131.79872</td>\n",
       "      <td>-12.24227</td>\n",
       "      <td>8.384</td>\n",
       "      <td>-0.238</td>\n",
       "      <td>{}</td>\n",
       "      <td>4.161</td>\n",
       "      <td>...</td>\n",
       "      <td>NaN</td>\n",
       "      <td>NaN</td>\n",
       "      <td>NaN</td>\n",
       "      <td>NaN</td>\n",
       "      <td>NaN</td>\n",
       "      <td>NaN</td>\n",
       "      <td>NaN</td>\n",
       "      <td>NaN</td>\n",
       "      <td>NaN</td>\n",
       "      <td>NaN</td>\n",
       "    </tr>\n",
       "    <tr>\n",
       "      <td>15378</td>\n",
       "      <td>2003-02-21 09:50:00</td>\n",
       "      <td>89191.2</td>\n",
       "      <td>73.5</td>\n",
       "      <td>88659.5</td>\n",
       "      <td>335.9</td>\n",
       "      <td>131.86034</td>\n",
       "      <td>-12.24494</td>\n",
       "      <td>9.520</td>\n",
       "      <td>1.707</td>\n",
       "      <td>{}</td>\n",
       "      <td>4.165</td>\n",
       "      <td>...</td>\n",
       "      <td>NaN</td>\n",
       "      <td>NaN</td>\n",
       "      <td>NaN</td>\n",
       "      <td>NaN</td>\n",
       "      <td>NaN</td>\n",
       "      <td>NaN</td>\n",
       "      <td>NaN</td>\n",
       "      <td>NaN</td>\n",
       "      <td>NaN</td>\n",
       "      <td>NaN</td>\n",
       "    </tr>\n",
       "    <tr>\n",
       "      <td>15379</td>\n",
       "      <td>2003-02-21 10:00:00</td>\n",
       "      <td>89605.3</td>\n",
       "      <td>4342.1</td>\n",
       "      <td>89851.0</td>\n",
       "      <td>4232.9</td>\n",
       "      <td>131.87120</td>\n",
       "      <td>-12.20986</td>\n",
       "      <td>5.729</td>\n",
       "      <td>5.938</td>\n",
       "      <td>{}</td>\n",
       "      <td>4.167</td>\n",
       "      <td>...</td>\n",
       "      <td>NaN</td>\n",
       "      <td>NaN</td>\n",
       "      <td>NaN</td>\n",
       "      <td>NaN</td>\n",
       "      <td>NaN</td>\n",
       "      <td>NaN</td>\n",
       "      <td>NaN</td>\n",
       "      <td>NaN</td>\n",
       "      <td>NaN</td>\n",
       "      <td>NaN</td>\n",
       "    </tr>\n",
       "    <tr>\n",
       "      <td>15380</td>\n",
       "      <td>2003-02-21 10:10:05</td>\n",
       "      <td>99375.0</td>\n",
       "      <td>7708.3</td>\n",
       "      <td>99546.1</td>\n",
       "      <td>7826.3</td>\n",
       "      <td>131.96029</td>\n",
       "      <td>-12.17727</td>\n",
       "      <td>4.608</td>\n",
       "      <td>3.719</td>\n",
       "      <td>{}</td>\n",
       "      <td>NaN</td>\n",
       "      <td>...</td>\n",
       "      <td>NaN</td>\n",
       "      <td>NaN</td>\n",
       "      <td>NaN</td>\n",
       "      <td>NaN</td>\n",
       "      <td>NaN</td>\n",
       "      <td>NaN</td>\n",
       "      <td>NaN</td>\n",
       "      <td>NaN</td>\n",
       "      <td>NaN</td>\n",
       "      <td>NaN</td>\n",
       "    </tr>\n",
       "    <tr>\n",
       "      <td>15381</td>\n",
       "      <td>2003-02-21 10:20:01</td>\n",
       "      <td>96250.0</td>\n",
       "      <td>14250.0</td>\n",
       "      <td>96519.1</td>\n",
       "      <td>14208.2</td>\n",
       "      <td>131.93225</td>\n",
       "      <td>-12.11997</td>\n",
       "      <td>NaN</td>\n",
       "      <td>NaN</td>\n",
       "      <td>{}</td>\n",
       "      <td>4.184</td>\n",
       "      <td>...</td>\n",
       "      <td>NaN</td>\n",
       "      <td>NaN</td>\n",
       "      <td>NaN</td>\n",
       "      <td>NaN</td>\n",
       "      <td>NaN</td>\n",
       "      <td>NaN</td>\n",
       "      <td>NaN</td>\n",
       "      <td>NaN</td>\n",
       "      <td>NaN</td>\n",
       "      <td>NaN</td>\n",
       "    </tr>\n",
       "    <tr>\n",
       "      <td>15382</td>\n",
       "      <td>2003-02-21 10:30:00</td>\n",
       "      <td>100250.0</td>\n",
       "      <td>9000.0</td>\n",
       "      <td>100565.0</td>\n",
       "      <td>9024.6</td>\n",
       "      <td>131.96963</td>\n",
       "      <td>-12.16646</td>\n",
       "      <td>NaN</td>\n",
       "      <td>NaN</td>\n",
       "      <td>{}</td>\n",
       "      <td>4.174</td>\n",
       "      <td>...</td>\n",
       "      <td>NaN</td>\n",
       "      <td>NaN</td>\n",
       "      <td>NaN</td>\n",
       "      <td>NaN</td>\n",
       "      <td>NaN</td>\n",
       "      <td>NaN</td>\n",
       "      <td>NaN</td>\n",
       "      <td>NaN</td>\n",
       "      <td>NaN</td>\n",
       "      <td>NaN</td>\n",
       "    </tr>\n",
       "  </tbody>\n",
       "</table>\n",
       "<p>14 rows × 37 columns</p>\n",
       "</div>"
      ],
      "text/plain": [
       "                             grid_x   grid_y     com_x    com_y        lon  \\\n",
       "scan  time                                                                   \n",
       "15369 2003-02-21 08:20:01   55921.1  -1315.8   55405.9  -1454.6  131.55435   \n",
       "15370 2003-02-21 08:30:01   53942.3   3846.2   53965.4   3683.9  131.54101   \n",
       "15371 2003-02-21 08:40:00   61875.0   4479.2   61987.5   4460.0  131.61481   \n",
       "15372 2003-02-21 08:50:00   68783.8   3648.6   68775.4   3557.4  131.67729   \n",
       "15373 2003-02-21 09:00:00   71250.0   -875.0   71303.6   -460.5  131.70064   \n",
       "15374 2003-02-21 09:10:05   73680.6    972.2   73455.5   1281.5  131.72040   \n",
       "15375 2003-02-21 09:20:01   69482.8   4913.8   69557.7   5118.8  131.68445   \n",
       "15376 2003-02-21 09:30:00   76527.8   3611.1   76287.6   3790.8  131.74641   \n",
       "15377 2003-02-21 09:40:00   82500.0      0.0   81964.6    652.3  131.79872   \n",
       "15378 2003-02-21 09:50:00   89191.2     73.5   88659.5    335.9  131.86034   \n",
       "15379 2003-02-21 10:00:00   89605.3   4342.1   89851.0   4232.9  131.87120   \n",
       "15380 2003-02-21 10:10:05   99375.0   7708.3   99546.1   7826.3  131.96029   \n",
       "15381 2003-02-21 10:20:01   96250.0  14250.0   96519.1  14208.2  131.93225   \n",
       "15382 2003-02-21 10:30:00  100250.0   9000.0  100565.0   9024.6  131.96963   \n",
       "\n",
       "                                lat      u      v mergers  u_shift  ...  \\\n",
       "scan  time                                                          ...   \n",
       "15369 2003-02-21 08:20:01 -12.26178    NaN    NaN      {}    6.257  ...   \n",
       "15370 2003-02-21 08:30:01 -12.21559    NaN    NaN      {}    5.560  ...   \n",
       "15371 2003-02-21 08:40:00 -12.20847  6.387  0.184      {}    4.996  ...   \n",
       "15372 2003-02-21 08:50:00 -12.21645  8.224 -1.198      {}    4.163  ...   \n",
       "15373 2003-02-21 09:00:00 -12.25253  3.170  0.181      {}    3.328  ...   \n",
       "15374 2003-02-21 09:10:05 -12.23682  3.227 -0.016      {}    3.328  ...   \n",
       "15375 2003-02-21 09:20:01 -12.20239  4.688  0.365      {}    3.328  ...   \n",
       "15376 2003-02-21 09:30:00 -12.21418  6.463 -0.374      {}    3.335  ...   \n",
       "15377 2003-02-21 09:40:00 -12.24227  8.384 -0.238      {}    4.161  ...   \n",
       "15378 2003-02-21 09:50:00 -12.24494  9.520  1.707      {}    4.165  ...   \n",
       "15379 2003-02-21 10:00:00 -12.20986  5.729  5.938      {}    4.167  ...   \n",
       "15380 2003-02-21 10:10:05 -12.17727  4.608  3.719      {}      NaN  ...   \n",
       "15381 2003-02-21 10:20:01 -12.11997    NaN    NaN      {}    4.184  ...   \n",
       "15382 2003-02-21 10:30:00 -12.16646    NaN    NaN      {}    4.174  ...   \n",
       "\n",
       "                           v_shear  u_cl  v_cl  shear_dir  shear_mag prop_dir  \\\n",
       "scan  time                                                                      \n",
       "15369 2003-02-21 08:20:01      NaN   NaN   NaN        NaN        NaN      NaN   \n",
       "15370 2003-02-21 08:30:01      NaN   NaN   NaN        NaN        NaN      NaN   \n",
       "15371 2003-02-21 08:40:00      NaN   NaN   NaN        NaN        NaN      NaN   \n",
       "15372 2003-02-21 08:50:00      NaN   NaN   NaN        NaN        NaN      NaN   \n",
       "15373 2003-02-21 09:00:00      NaN   NaN   NaN        NaN        NaN      NaN   \n",
       "15374 2003-02-21 09:10:05      NaN   NaN   NaN        NaN        NaN      NaN   \n",
       "15375 2003-02-21 09:20:01      NaN   NaN   NaN        NaN        NaN      NaN   \n",
       "15376 2003-02-21 09:30:00      NaN   NaN   NaN        NaN        NaN      NaN   \n",
       "15377 2003-02-21 09:40:00      NaN   NaN   NaN        NaN        NaN      NaN   \n",
       "15378 2003-02-21 09:50:00      NaN   NaN   NaN        NaN        NaN      NaN   \n",
       "15379 2003-02-21 10:00:00      NaN   NaN   NaN        NaN        NaN      NaN   \n",
       "15380 2003-02-21 10:10:05      NaN   NaN   NaN        NaN        NaN      NaN   \n",
       "15381 2003-02-21 10:20:01      NaN   NaN   NaN        NaN        NaN      NaN   \n",
       "15382 2003-02-21 10:30:00      NaN   NaN   NaN        NaN        NaN      NaN   \n",
       "\n",
       "                           prop_mag  u_prop  v_prop  shear_rel_prop_dir  \n",
       "scan  time                                                               \n",
       "15369 2003-02-21 08:20:01       NaN     NaN     NaN                 NaN  \n",
       "15370 2003-02-21 08:30:01       NaN     NaN     NaN                 NaN  \n",
       "15371 2003-02-21 08:40:00       NaN     NaN     NaN                 NaN  \n",
       "15372 2003-02-21 08:50:00       NaN     NaN     NaN                 NaN  \n",
       "15373 2003-02-21 09:00:00       NaN     NaN     NaN                 NaN  \n",
       "15374 2003-02-21 09:10:05       NaN     NaN     NaN                 NaN  \n",
       "15375 2003-02-21 09:20:01       NaN     NaN     NaN                 NaN  \n",
       "15376 2003-02-21 09:30:00       NaN     NaN     NaN                 NaN  \n",
       "15377 2003-02-21 09:40:00       NaN     NaN     NaN                 NaN  \n",
       "15378 2003-02-21 09:50:00       NaN     NaN     NaN                 NaN  \n",
       "15379 2003-02-21 10:00:00       NaN     NaN     NaN                 NaN  \n",
       "15380 2003-02-21 10:10:05       NaN     NaN     NaN                 NaN  \n",
       "15381 2003-02-21 10:20:01       NaN     NaN     NaN                 NaN  \n",
       "15382 2003-02-21 10:30:00       NaN     NaN     NaN                 NaN  \n",
       "\n",
       "[14 rows x 37 columns]"
      ]
     },
     "execution_count": 60,
     "metadata": {},
     "output_type": "execute_result"
    }
   ],
   "source": [
    "tracks_obj.system_tracks.xs('3551', level='uid')"
   ]
  },
  {
   "cell_type": "markdown",
   "metadata": {
    "heading_collapsed": true
   },
   "source": [
    "# Calculate Some Statistics"
   ]
  },
  {
   "cell_type": "markdown",
   "metadata": {
    "ExecuteTime": {
     "end_time": "2019-11-07T00:43:39.957731Z",
     "start_time": "2019-11-07T00:43:39.949578Z"
    },
    "heading_collapsed": true,
    "hidden": true
   },
   "source": [
    "## PS, TS, LS Breakdown"
   ]
  },
  {
   "cell_type": "code",
   "execution_count": 34,
   "metadata": {
    "ExecuteTime": {
     "end_time": "2020-01-15T02:26:07.217101Z",
     "start_time": "2020-01-15T02:25:41.597431Z"
    },
    "hidden": true
   },
   "outputs": [],
   "source": [
    "subset_logic = sig_area & not_border & not_border_0 & sig_vel_mag & sig_tilt_mag\n",
    "sub_tracks = tracks_obj.system_tracks[subset_logic]\n",
    "# sub_tracks = tracks_obj.system_tracks\n",
    "\n",
    "sub_uids = list(sorted(set([int(sub_tracks.index.values[i][2]) for i in range(len(sub_tracks))])))\n",
    "sub_uids = [str(i) for i in sub_uids]\n",
    "\n",
    "MCS_lengths = [len(sub_tracks.xs(i, level='uid').reset_index(level='time').index.values) for i in sub_uids]\n",
    "max_MCS = max(MCS_lengths)\n",
    "\n",
    "# Create 3 lists with lengths the lifetime of longest object.\n",
    "[TS, LS, PS, totals] = [np.zeros(100) for i in range(4)]\n",
    "\n",
    "for i in sub_uids:\n",
    "    \n",
    "    obj = sub_tracks.xs(i, level='uid').reset_index(level='time')\n",
    "    scans = obj.index.values\n",
    "    scan_label = scans - min(scans)\n",
    "    tilts = obj['sys_rel_tilt_dir']\n",
    "    \n",
    "    # Break down sig_tilt categories\n",
    "    forward_tilt = ((-45 <= tilts) & (tilts <= 45)) \n",
    "    backward_tilt = ((-135 >= tilts) | (tilts >= 135)) \n",
    "\n",
    "    fwd_inds = scan_label[np.argwhere(forward_tilt).flatten().tolist()].tolist()\n",
    "    bwd_inds = scan_label[np.argwhere(backward_tilt).flatten().tolist()].tolist()\n",
    "    pll_inds = scan_label[np.argwhere(~backward_tilt & ~forward_tilt).flatten().tolist()].tolist()\n",
    "    totals_inds = scan_label.tolist()\n",
    "\n",
    "    # Found error with large com dataset - object 14060 jumps across seasons\n",
    "    try:\n",
    "        TS[bwd_inds] += 1\n",
    "        LS[fwd_inds] += 1\n",
    "        PS[pll_inds] += 1\n",
    "        totals[totals_inds] += 1\n",
    "    except:\n",
    "        print('Error with system {}.'.format(i))"
   ]
  },
  {
   "cell_type": "markdown",
   "metadata": {
    "heading_collapsed": true,
    "hidden": true
   },
   "source": [
    "## System Size"
   ]
  },
  {
   "cell_type": "code",
   "execution_count": 7,
   "metadata": {
    "ExecuteTime": {
     "end_time": "2020-01-15T05:10:15.929267Z",
     "start_time": "2020-01-15T05:10:12.788707Z"
    },
    "hidden": true
   },
   "outputs": [],
   "source": [
    "# subset_logic = ~small_area\n",
    "# sub_tracks = tracks_obj.system_tracks[subset_logic]\n",
    "sub_tracks = tracks_obj.system_tracks\n",
    "\n",
    "sub_uids = list(sorted(set([int(sub_tracks.index.values[i][2]) for i in range(len(sub_tracks))])))\n",
    "sub_uids = [str(i) for i in sub_uids]\n",
    "\n",
    "# MCS_lengths = [len(sub_tracks.xs(i, level='uid').reset_index(level='time').index.values) for i in sub_uids]\n",
    "# max_MCS = max(MCS_lengths)"
   ]
  },
  {
   "cell_type": "code",
   "execution_count": 14,
   "metadata": {
    "ExecuteTime": {
     "end_time": "2020-01-15T05:23:44.144088Z",
     "start_time": "2020-01-15T05:21:24.109307Z"
    },
    "hidden": true
   },
   "outputs": [
    {
     "name": "stdout",
     "output_type": "stream",
     "text": [
      "  8%|▊         | 2028/25948 [00:10<02:02, 194.53it/s]Error with system 2038.\n",
      " 16%|█▌        | 4129/25948 [00:22<02:09, 169.05it/s]Error with system 4135.\n",
      " 25%|██▌       | 6546/25948 [00:35<01:43, 187.20it/s]Error with system 6559.\n",
      " 31%|███▏      | 8160/25948 [00:43<01:33, 190.34it/s]Error with system 8175.\n",
      " 42%|████▏     | 10966/25948 [00:58<01:18, 191.41it/s]Error with system 10977.\n",
      " 51%|█████     | 13151/25948 [01:10<01:06, 191.17it/s]Error with system 13155.\n",
      " 54%|█████▍    | 14048/25948 [01:15<01:03, 187.29it/s]Error with system 14060.\n",
      " 68%|██████▊   | 17520/25948 [01:33<00:44, 189.80it/s]Error with system 17529.\n",
      " 75%|███████▍  | 19435/25948 [01:44<00:34, 189.19it/s]Error with system 19450.\n",
      " 82%|████████▏ | 21399/25948 [01:54<00:23, 191.38it/s]Error with system 21406.\n",
      " 92%|█████████▏| 23871/25948 [02:07<00:10, 192.36it/s]Error with system 23880.\n",
      "100%|██████████| 25948/25948 [02:18<00:00, 186.83it/s]\n"
     ]
    }
   ],
   "source": [
    "# Create 3 lists with lengths the lifetime of longest object.\n",
    "[large, small, medium, nb, totals] = [np.zeros(100) for i in range(5)]\n",
    "\n",
    "from tqdm import tqdm\n",
    "\n",
    "for i in tqdm(sub_uids, file=sys.stdout, position=0, leave=True):\n",
    "    \n",
    "#     import pdb\n",
    "#     pdb.set_trace()\n",
    "    \n",
    "    obj = sub_tracks.xs(i, level='uid').reset_index(level='time')\n",
    "    cat = categories.xs(i, level='uid').reset_index(level='time')\n",
    "    scans = obj.index.values\n",
    "    scan_label = scans - min(scans)\n",
    "    \n",
    "    # Define classifications\n",
    "    large_area = cat['large_area'].values\n",
    "    small_area = cat['small_area'].values\n",
    "    medium_area = ~large_area & ~small_area\n",
    "    not_border = cat['not_border'].values | cat['not_border_0'].values\n",
    "    \n",
    "    large_inds = scan_label[large_area]\n",
    "    medium_inds = scan_label[medium_area]\n",
    "    small_inds = scan_label[small_area]\n",
    "    not_border_inds = scan_label[not_border]\n",
    "    totals_inds = scan_label.tolist()\n",
    "    \n",
    "    # Break down sig_tilt categories\n",
    "#     forward_tilt = ((-45 <= tilts) & (tilts <= 45)) \n",
    "#     backward_tilt = ((-135 >= tilts) | (tilts >= 135)) \n",
    "\n",
    "#     fwd_inds = scan_label[np.argwhere(forward_tilt).flatten().tolist()].tolist()\n",
    "#     bwd_inds = scan_label[np.argwhere(backward_tilt).flatten().tolist()].tolist()\n",
    "#     pll_inds = scan_label[np.argwhere(~backward_tilt & ~forward_tilt).flatten().tolist()].tolist()\n",
    "\n",
    "    # Found error with large com dataset - object 14060 jumps across seasons\n",
    "    try:\n",
    "        large[large_inds] += 1\n",
    "        small[small_inds] += 1\n",
    "        medium[medium_inds] += 1\n",
    "        nb[not_border_inds] += 1\n",
    "        totals[totals_inds] += 1\n",
    "    except:\n",
    "        print('Error with system {}.'.format(i))"
   ]
  },
  {
   "cell_type": "code",
   "execution_count": 17,
   "metadata": {
    "ExecuteTime": {
     "end_time": "2020-01-15T05:26:36.418795Z",
     "start_time": "2020-01-15T05:26:36.109386Z"
    },
    "hidden": true
   },
   "outputs": [
    {
     "data": {
      "image/png": "[encoded data removed]",
      "text/plain": [
       "<Figure size 432x288 with 1 Axes>"
      ]
     },
     "metadata": {
      "needs_background": "light"
     },
     "output_type": "display_data"
    }
   ],
   "source": [
    "plt.plot(np.arange(30,300,10), large[3:30], label='Large count')\n",
    "plt.plot(np.arange(30,300,10), medium[3:30], label='Medium count')\n",
    "plt.plot(np.arange(30,300,10), small[3:30], label='Small count')\n",
    "plt.plot(np.arange(30,300,10), nb[3:30], label='No Border count')\n",
    "plt.plot(np.arange(30,300,10), totals[3:30], label='Total count')\n",
    "plt.xticks(np.arange(30,300,30))\n",
    "plt.ylabel('Count [-]')\n",
    "plt.xlabel('Time since Initiation [m]')\n",
    "plt.legend()\n",
    "plt.savefig('/g/data/w40/esh563/CPOL_analysis/figures/TINT/size_counts.png')"
   ]
  },
  {
   "cell_type": "code",
   "execution_count": 22,
   "metadata": {
    "ExecuteTime": {
     "end_time": "2020-01-15T05:32:26.342906Z",
     "start_time": "2020-01-15T05:32:25.949155Z"
    },
    "hidden": true
   },
   "outputs": [
    {
     "data": {
      "image/png": "[encoded data removed]",
      "text/plain": [
       "<Figure size 720x360 with 1 Axes>"
      ]
     },
     "metadata": {
      "needs_background": "light"
     },
     "output_type": "display_data"
    }
   ],
   "source": [
    "plt.figure(figsize=(10,5))\n",
    "plt.plot(np.arange(30,600,10), (large/totals)[3:60], label='Large count')\n",
    "plt.plot(np.arange(30,600,10), (medium/totals)[3:60], label='Medium count')\n",
    "plt.plot(np.arange(30,600,10), (small/totals)[3:60], label='Small count')\n",
    "plt.plot(np.arange(30,600,10), (nb/totals)[3:60], label='No Border count')\n",
    "plt.xticks(np.arange(30,600,30))\n",
    "plt.ylabel('Ratio [-]')\n",
    "plt.xlabel('Time since Initiation [m]')\n",
    "plt.legend()\n",
    "# Note that we don't really know the start times of the systems!\n",
    "plt.savefig('/g/data/w40/esh563/CPOL_analysis/figures/TINT/size_ratios.png')"
   ]
  },
  {
   "cell_type": "markdown",
   "metadata": {
    "hidden": true
   },
   "source": [
    "## Training Lines"
   ]
  },
  {
   "cell_type": "code",
   "execution_count": 42,
   "metadata": {
    "ExecuteTime": {
     "end_time": "2020-01-15T22:58:19.129734Z",
     "start_time": "2020-01-15T22:58:19.004901Z"
    },
    "hidden": true
   },
   "outputs": [],
   "source": [
    "subset_logic = not_border & not_border_0 & ~large_area & ~small_area & linear & ~stationary & sig_vel_mag\n",
    "sub_tracks = tracks_obj.system_tracks[subset_logic]\n",
    "sub_cat = categories[subset_logic]\n",
    "# sub_tracks = tracks_obj.system_tracks\n",
    "\n",
    "sub_uids = list(sorted(set([int(sub_tracks.index.values[i][2]) for i in range(len(sub_tracks))])))\n",
    "sub_uids = [str(i) for i in sub_uids]\n",
    "\n",
    "# MCS_lengths = [len(sub_tracks.xs(i, level='uid').reset_index(level='time').index.values) for i in sub_uids]\n",
    "# max_MCS = max(MCS_lengths)"
   ]
  },
  {
   "cell_type": "code",
   "execution_count": 43,
   "metadata": {
    "ExecuteTime": {
     "end_time": "2020-01-15T22:58:37.968086Z",
     "start_time": "2020-01-15T22:58:24.588374Z"
    },
    "hidden": true
   },
   "outputs": [
    {
     "name": "stdout",
     "output_type": "stream",
     "text": [
      "100%|██████████| 2670/2670 [00:13<00:00, 199.88it/s]\n"
     ]
    }
   ],
   "source": [
    "# Create 3 lists with lengths the lifetime of longest object.\n",
    "[par, perp, totals] = [np.zeros(100) for i in range(3)]\n",
    "\n",
    "from tqdm import tqdm\n",
    "\n",
    "for i in tqdm(sub_uids, file=sys.stdout, position=0, leave=True):\n",
    "       \n",
    "    obj = sub_tracks.xs(i, level='uid').reset_index(level='time')\n",
    "    cat = sub_cat.xs(i, level='uid').reset_index(level='time')\n",
    "    scans = obj.index.values\n",
    "    scan_label = scans - min(scans)\n",
    "    \n",
    "    # Define classifications\n",
    "    perp_align = cat['perp_align'].values\n",
    "    par_align = cat['par_align'].values\n",
    "        \n",
    "    par_inds = scan_label[par_align]\n",
    "    perp_inds = scan_label[perp_align]\n",
    "    totals_inds = scan_label.tolist()\n",
    "\n",
    "    # Found error with large com dataset - object 14060 jumps across seasons\n",
    "    try:\n",
    "        par[par_inds] += 1\n",
    "        perp[perp_inds] += 1\n",
    "        totals[totals_inds] += 1\n",
    "    except:\n",
    "        print('Error with system {}.'.format(i))"
   ]
  },
  {
   "cell_type": "code",
   "execution_count": 44,
   "metadata": {
    "ExecuteTime": {
     "end_time": "2020-01-15T22:58:40.276636Z",
     "start_time": "2020-01-15T22:58:39.968296Z"
    },
    "hidden": true
   },
   "outputs": [
    {
     "data": {
      "image/png": "[encoded data removed]",
      "text/plain": [
       "<Figure size 432x288 with 1 Axes>"
      ]
     },
     "metadata": {
      "needs_background": "light"
     },
     "output_type": "display_data"
    }
   ],
   "source": [
    "plt.plot(np.arange(30,300,10), perp[3:30], label='Perpendicular count')\n",
    "plt.plot(np.arange(30,300,10), par[3:30], label='Parallel count')\n",
    "plt.plot(np.arange(30,300,10), totals[3:30], label='Total count')\n",
    "plt.xticks(np.arange(30,300,30))\n",
    "plt.ylabel('Count [-]')\n",
    "plt.xlabel('Time since Initiation [m]')\n",
    "plt.legend()\n",
    "plt.savefig('/g/data/w40/esh563/CPOL_analysis/figures/TINT/size_counts.png')"
   ]
  },
  {
   "cell_type": "code",
   "execution_count": 45,
   "metadata": {
    "ExecuteTime": {
     "end_time": "2020-01-15T22:58:51.340719Z",
     "start_time": "2020-01-15T22:58:51.064623Z"
    },
    "hidden": true
   },
   "outputs": [
    {
     "data": {
      "image/png": "[encoded data removed]",
      "text/plain": [
       "<Figure size 432x288 with 1 Axes>"
      ]
     },
     "metadata": {
      "needs_background": "light"
     },
     "output_type": "display_data"
    }
   ],
   "source": [
    "plt.plot(np.arange(30,300,10), (perp/totals)[3:30], label='Perpendicular ratio')\n",
    "plt.plot(np.arange(30,300,10), (par/totals)[3:30], label='Parallel ratio')\n",
    "plt.xticks(np.arange(30,300,30))\n",
    "plt.ylabel('Count [-]')\n",
    "plt.xlabel('Time since Initiation [m]')\n",
    "plt.legend()\n",
    "plt.savefig('/g/data/w40/esh563/CPOL_analysis/figures/TINT/size_counts.png')"
   ]
  },
  {
   "cell_type": "markdown",
   "metadata": {
    "heading_collapsed": true,
    "hidden": true
   },
   "source": [
    "## Updraft Tilt versus Stratiform Tilt"
   ]
  },
  {
   "cell_type": "code",
   "execution_count": 29,
   "metadata": {
    "ExecuteTime": {
     "end_time": "2019-11-07T00:45:04.691216Z",
     "start_time": "2019-11-07T00:45:04.666793Z"
    },
    "hidden": true
   },
   "outputs": [],
   "source": [
    "def calc_mean_max_updrafts(system_tracks, min_height_ind = 20):\n",
    "    ud = system_tracks['updrafts']\n",
    "    ud_tilt = []\n",
    "    tallest_ud = []\n",
    "    mean_ud = []\n",
    "    no_tilt=0\n",
    "    for i in range(len(ud)):\n",
    "        ud_i = ud.iloc[i]\n",
    "        ud_tilt_i = []\n",
    "        for j in range(len(ud_i)):\n",
    "            if ud_i[j][-1][0] >= min_height_ind:\n",
    "                ud_tilt_i_j = (ud_i[j][-1]-ud_i[j][0])*(.5, 2.5, 2.5)\n",
    "                if np.all(ud_tilt_i_j[1:3] == [0,0]):\n",
    "                    # Count updrafts with no tilt seperately\n",
    "                    no_tilt+=1\n",
    "                else:\n",
    "                    ud_tilt_i.append(ud_tilt_i_j)\n",
    "       \n",
    "        if ud_tilt_i != []:\n",
    "            ud_tilt.append(ud_tilt_i)\n",
    "            mean_ud.append(np.nanmean(np.array(ud_tilt_i), axis=0))\n",
    "        else:\n",
    "            ud_tilt.append(np.ones(3)*np.nan)\n",
    "            mean_ud.append(np.ones(3)*np.nan)\n",
    "        try:\n",
    "            tallest_ind = np.argmax(np.array(ud_tilt_i)[:,0])\n",
    "            tallest_ud.append(np.array(ud_tilt_i)[tallest_ind,:])\n",
    "        except:\n",
    "            tallest_ud.append(np.ones(3)*np.nan)\n",
    "        \n",
    "    return ud_tilt, mean_ud, tallest_ud"
   ]
  },
  {
   "cell_type": "markdown",
   "metadata": {
    "hidden": true
   },
   "source": [
    "### Tallest Updraft"
   ]
  },
  {
   "cell_type": "code",
   "execution_count": 33,
   "metadata": {
    "ExecuteTime": {
     "end_time": "2019-11-07T00:48:22.194683Z",
     "start_time": "2019-11-07T00:48:20.360854Z"
    },
    "hidden": true
   },
   "outputs": [],
   "source": [
    "subset_logic = sig_area & not_border & sig_tilt_mag & not_border_0 & sig_vel_mag\n",
    "sub_tracks = tracks_obj.system_tracks[subset_logic]\n",
    "ud_tilt, mean_ud, tallest_ud = calc_mean_max_updrafts(sub_tracks)\n",
    "\n",
    "num = np.array(tallest_ud)\n",
    "den = np.tile(np.array(tallest_ud)[:,0], (3,1)).transpose()\n",
    "ud_norm = (num/den)[:,1:]\n",
    "ud_mag = np.sqrt(ud_norm[:,0] ** 2 + ud_norm[:,1] ** 2)\n",
    "ud_dir = np.arctan2(ud_norm[:,0], ud_norm[:,1])\n",
    "ud_dir = np.rad2deg(ud_dir)\n",
    "\n",
    "vel_dir = sub_tracks['vel_dir'].values\n",
    "tilt_dir = sub_tracks['tilt_dir'].values\n",
    "\n",
    "sys_rel_tilt_dir = np.mod(tilt_dir - vel_dir, 360)\n",
    "sys_rel_tilt_dir = np.round(sys_rel_tilt_dir, 3)\n",
    "\n",
    "sys_rel_ud_tilt_dir = np.mod(ud_dir - vel_dir, 360)\n",
    "sys_rel_ud_tilt_dir = np.round(sys_rel_ud_tilt_dir, 3)"
   ]
  },
  {
   "cell_type": "code",
   "execution_count": 35,
   "metadata": {
    "ExecuteTime": {
     "end_time": "2019-11-07T00:48:43.063922Z",
     "start_time": "2019-11-07T00:48:42.755514Z"
    },
    "hidden": true
   },
   "outputs": [
    {
     "data": {
      "image/png": "[encoded data removed]",
      "text/plain": [
       "<Figure size 504x504 with 2 Axes>"
      ]
     },
     "metadata": {
      "needs_background": "light"
     },
     "output_type": "display_data"
    }
   ],
   "source": [
    "vel_dir = sub_tracks['vel_dir'].values\n",
    "vel_mag = np.sqrt(sub_tracks['u_shift']**2 + sub_tracks['v_shift']**2).values\n",
    "tilt_dir = sub_tracks['tilt_dir'].values\n",
    "bins = np.arange(0,360+15,15)\n",
    "ticks = np.arange(0,360+30,30)\n",
    "\n",
    "fig = plt.figure(figsize=[7,7])\n",
    "ax = fig.add_subplot(111)\n",
    "h = ax.hist2d(sys_rel_tilt_dir, sys_rel_ud_tilt_dir, bins=bins, range=[[0, 360], [0, 360]], cmap='Reds')\n",
    "# ax.scatter(tilt_dir, ud_dir, s=0.75)\n",
    "plt.xlabel('Stratiform Tilt Direction')\n",
    "plt.ylabel('Tallest Updraft Tilt Direction')\n",
    "plt.title('Velocity Relative Tilt Directions')\n",
    "plt.xlim([0, 360])\n",
    "plt.ylim([0, 360])\n",
    "plt.xticks(ticks)\n",
    "plt.yticks(ticks)\n",
    "ax.set_aspect('equal')\n",
    "cb = plt.colorbar(h[3], ax=ax)\n",
    "cb.set_label('Count')"
   ]
  },
  {
   "cell_type": "markdown",
   "metadata": {
    "hidden": true
   },
   "source": [
    "### Mean Updraft"
   ]
  },
  {
   "cell_type": "code",
   "execution_count": 36,
   "metadata": {
    "ExecuteTime": {
     "end_time": "2019-11-07T00:49:36.630871Z",
     "start_time": "2019-11-07T00:49:34.741483Z"
    },
    "hidden": true
   },
   "outputs": [],
   "source": [
    "subset_logic = sig_area & not_border & sig_tilt_mag & not_border_0 & sig_vel_mag\n",
    "sub_tracks = tracks_obj.system_tracks[subset_logic]\n",
    "ud_tilt, mean_ud, tallest_ud = calc_mean_max_updrafts(sub_tracks)\n",
    "\n",
    "num = np.array(mean_ud)\n",
    "den = np.tile(np.array(mean_ud)[:,0], (3,1)).transpose()\n",
    "ud_norm = (num/den)[:,1:]\n",
    "ud_mag = np.sqrt(ud_norm[:,0] ** 2 + ud_norm[:,1] ** 2)\n",
    "ud_dir = np.arctan2(ud_norm[:,0], ud_norm[:,1])\n",
    "ud_dir = np.rad2deg(ud_dir)\n",
    "\n",
    "vel_dir = sub_tracks['vel_dir'].values\n",
    "tilt_dir = sub_tracks['tilt_dir'].values\n",
    "\n",
    "sys_rel_tilt_dir = np.mod(tilt_dir - vel_dir, 360)\n",
    "sys_rel_tilt_dir = np.round(sys_rel_tilt_dir, 3)\n",
    "\n",
    "sys_rel_ud_tilt_dir = np.mod(ud_dir - vel_dir, 360)\n",
    "sys_rel_ud_tilt_dir = np.round(sys_rel_ud_tilt_dir, 3)"
   ]
  },
  {
   "cell_type": "code",
   "execution_count": 38,
   "metadata": {
    "ExecuteTime": {
     "end_time": "2019-11-07T00:49:47.757230Z",
     "start_time": "2019-11-07T00:49:47.448717Z"
    },
    "hidden": true
   },
   "outputs": [
    {
     "data": {
      "image/png": "[encoded data removed]",
      "text/plain": [
       "<Figure size 504x504 with 2 Axes>"
      ]
     },
     "metadata": {
      "needs_background": "light"
     },
     "output_type": "display_data"
    }
   ],
   "source": [
    "vel_dir = sub_tracks['vel_dir'].values\n",
    "vel_mag = np.sqrt(sub_tracks['u_shift']**2 + sub_tracks['v_shift']**2).values\n",
    "tilt_dir = sub_tracks['tilt_dir'].values\n",
    "bins = np.arange(0,360+15,15)\n",
    "ticks = np.arange(0,360+30,30)\n",
    "\n",
    "fig = plt.figure(figsize=[7,7])\n",
    "ax = fig.add_subplot(111)\n",
    "h = ax.hist2d(sys_rel_tilt_dir, sys_rel_ud_tilt_dir, bins=bins, range=[[0, 360], [0, 360]], cmap='Reds')\n",
    "# ax.scatter(tilt_dir, ud_dir, s=0.75)\n",
    "plt.xlabel('Stratiform Tilt Direction')\n",
    "plt.ylabel('Mean Updraft Tilt Direction')\n",
    "plt.title('Velocity Relative Tilt Directions')\n",
    "plt.xlim([0, 360])\n",
    "plt.ylim([0, 360])\n",
    "plt.xticks(ticks)\n",
    "plt.yticks(ticks)\n",
    "ax.set_aspect('equal')\n",
    "cb = plt.colorbar(h[3], ax=ax)\n",
    "cb.set_label('Count')"
   ]
  }
 ],
 "metadata": {
  "kernelspec": {
   "display_name": "Python 3",
   "language": "python",
   "name": "python3"
  },
  "language_info": {
   "codemirror_mode": {
    "name": "ipython",
    "version": 3
   },
   "file_extension": ".py",
   "mimetype": "text/x-python",
   "name": "python",
   "nbconvert_exporter": "python",
   "pygments_lexer": "ipython3",
   "version": "3.6.7"
  },
  "toc": {
   "base_numbering": 1,
   "nav_menu": {},
   "number_sections": true,
   "sideBar": true,
   "skip_h1_title": false,
   "title_cell": "Table of Contents",
   "title_sidebar": "Contents",
   "toc_cell": false,
   "toc_position": {
    "height": "calc(100% - 180px)",
    "left": "10px",
    "top": "150px",
    "width": "276px"
   },
   "toc_section_display": true,
   "toc_window_display": true
  }
 },
 "nbformat": 4,
 "nbformat_minor": 2
}
